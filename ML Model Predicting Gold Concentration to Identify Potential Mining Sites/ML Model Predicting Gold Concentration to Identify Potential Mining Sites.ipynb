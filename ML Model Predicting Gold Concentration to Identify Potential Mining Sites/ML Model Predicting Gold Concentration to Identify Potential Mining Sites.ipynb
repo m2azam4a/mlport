{
 "cells": [
  {
   "cell_type": "markdown",
   "metadata": {},
   "source": [
    "<div style=\"border:solid black 2px; padding: 20px\">\n",
    "\n",
    "# Reviewer's feedback v.1\n",
    "\n",
    "**Halo Azam**\n",
    "    \n",
    "**Greetings from Chamdani**\n",
    "\n",
    "Terima kasih telah mengirimkan project kamu dengan ini kamu sudah memulai sebuah langkah yang luar biasa saat ini. Disini saya akan mereview proyek kamu ya.\n",
    "\n",
    "Saya akan memberikan beberapa komentar dan feedback seperti dibawah ini, **mohon jangan dipindah, dirubah, maupun dihapus ya :).**\n",
    "    \n",
    "> Mohon diperhatikan bahwa apabila ada temuan atau kesalahan yang sama namun tidak ada komentar perbaikan disana, itu berarti kamu masih tetap harus memperbaikinya yaa.\n",
    "\n",
    "Komentar yang saya berikan akan muncul dalam warna hijau, kuning, atau pun merah seperti ini:\n",
    "\n",
    "</div>\n",
    "\n",
    "<div class=\"alert alert-success\">\n",
    "<b>Chamdani's comment v.*</b> <a class=\"tocSkip\"></a>\n",
    "\n",
    "Bagus, semua berjalan lancar.\n",
    "\n",
    "</div>\n",
    "\n",
    "<div class=\"alert alert-warning\">\n",
    "<b>Chamdani's comment v.*</b> <a class=\"tocSkip\"></a>\n",
    "\n",
    "Ada beberapa catatan.\n",
    "\n",
    "</div>\n",
    "\n",
    "<div class=\"alert alert-danger\">\n",
    "<b>Chamdani's comment v.*</b> <a class=\"tocSkip\"></a>\n",
    "\n",
    "Perlu beberapa perbaikan.\n",
    "\n",
    "</div>\n",
    "\n",
    "<div class=\"alert alert-info\">\n",
    "<b>Chamdani's info v.1</b> <a class=\"tocSkip\"></a>\n",
    "\n",
    "Catatan umum:\n",
    "* Fungsi `print` tidak diperlukan untuk mencetak suatu nilai\n",
    "* Lebih baik tulis kode pada bagian akhir cell code untuk menampilkan output tanpa `print`\n",
    "* Perintah soal yang ada dalam tanda kurung siku `[...]` sebaiknya dihilangkan\n",
    "* Sangat disarankan untuk menggunakan cell markdown untuk memberikan deskripsi temuan atau kesimpulan.\n",
    "* Tidak disarankan menggunakan cell code untuk memberikan penjelasan / deskripsi.\n",
    "* Untuk menghindari galat pada notebook project kamu. Batasi jumlah output yang dikeluarkan setiap kode dengan batas max 10 baris data.\n",
    "\n",
    "</div>\n",
    "\n",
    "<div style=\"border:solid gray 5px; padding: 20px\" class=\"alert alert-warning\">\n",
    "\n",
    "**INGATLAH** \n",
    "* Project kamu tidak akan bisa diterima bila kamu masih memiliki feedback berwarna merah. \n",
    "* Kamu hanya memiliki 3 kali kesempatan iterasi submission disetiap projectnya \n",
    "* Kamu dapat memperbaiki dan menyelesaikan feedback **pertama** dari saya tidak lebih dari 1\\*24 jam. *Untuk membantu saya mengetahui apakah ada kesulitan dari feedback project kamu*\n",
    "* Jika merasa kesulitan kamu dapat menuliskan responmu atas feedback saya menggunakan blok markdown warna biru yaa.\n",
    "\n",
    "Kamu dapat menjawab saya dengan menggunakan blok berwarna biru seperti ini\n",
    "\n",
    "<div class=\"alert alert-info\">\n",
    "<b>Student answer</b> <a class=\"tocSkip\"></a>\n",
    "\n",
    "Siap kak.\n",
    "\n",
    "</div>"
   ]
  },
  {
   "cell_type": "markdown",
   "metadata": {},
   "source": [
    "<div style=\"border:solid black 2px; padding: 20px\" class=\"alert alert-success\">\n",
    "    \n",
    "# General feedback v.1 *Project Accepted*\n",
    "\n",
    "Terima kasih banyak telah mengirimkan proyek Anda! \n",
    "<br>\n",
    "    \n",
    "Secara keseluruhan, proyek Anda **SANGAT** mengesankan. Semoga apa yang kamu pelajari dalam project ini dapat membantu meningkatkan kemampuanmu. Pertahankan apa yang sudah bagus, dan tingkatkan apa yang menurutmu masih perlu ditingkatkan. Semoga berhasil pada project selanjutnya yaa :)\n",
    "\n",
    "**TETAP SEMANGAT!!**\n",
    "    \n",
    "</div>"
   ]
  },
  {
   "cell_type": "markdown",
   "metadata": {},
   "source": [
    "# Project Terintegrasi 2: Gold Recovery"
   ]
  },
  {
   "cell_type": "markdown",
   "metadata": {},
   "source": [
    "# Pendahuluan"
   ]
  },
  {
   "cell_type": "markdown",
   "metadata": {},
   "source": [
    "Perusahaan tambang emas terkemuka di dunia, PT.X ingin meningkatkan efisiensi bisnis proses perusahaan. Salah satu dengan mengembangkan model machine learning untuk memprediksi potensi emas yang dapat diperoleh dari suatu tambang emas. Dengan adanya model ini diharapkan proses penentuan lokasi tambang menjadi lebih cepat dan tentunya menghemat biaya untuk RND. \n",
    "\n",
    "Namun PT. X tidak memiliki seorang data scientist, oleh karena PT. X bekerja sama dengan Zyfra untuk menjalankan project ini. Saya sebagai data scientist Zyfra dipercayai untuk mengerjakan project ini dengan durasi pengerjaan 2 minggu."
   ]
  },
  {
   "cell_type": "markdown",
   "metadata": {},
   "source": [
    "# Daftar Isi"
   ]
  },
  {
   "cell_type": "markdown",
   "metadata": {},
   "source": [
    "- 1. Pendahuluan\n",
    "- 2. Daftar Isi\n",
    "- 3. Persiapan Data\n",
    "    - 3.1. Penyiapan Library\n",
    "    - 3.2. Penyiapan Data\n",
    "        - 3.2.1. Check kualitas data\n",
    "        - 3.2.2. Pengecekan perhitungan recovery emas\n",
    "        - 3.2.3. Fitur yang tidak tersedia pada test dataset\n",
    "    - 3.3 Preprocessing Data\n",
    "        - 3.3.1. Dataset training\n",
    "        - 3.3.2. Dataset test\n",
    "        - 3.3.3. Dataset full\n",
    "- 4. Analisa Data\n",
    "    - 4.1. Distribusi Metal Setiap Tahapan\n",
    "        - 4.1.1. Emas\n",
    "        - 4.1.2. Perak\n",
    "        - 4.1.3. Timbal\n",
    "     - 4.2. Distribusi Metal Umpan pada Dataset Training dan Test\n",
    "     - 4.3. Konsentrasi Substansi Total unutk Setiap Tahapan\n",
    "- 5. Machine Learning\n",
    "    - 5.1. Menyiapkan Features dan Target\n",
    "    - 5.2. Evaluation Metric\n",
    "    - 5.3. Mencari Model Machine Learning Terbaik\n",
    "        - 5.3.1. Linear Regression\n",
    "        - 5.3.2. Random Forest Regressor\n",
    "        - 5.3.3. XGBoost\n",
    "    - 5.4. Model Terpilih\n",
    "- 6. Sanity Check\n",
    "- 7. Kesimpulan"
   ]
  },
  {
   "cell_type": "markdown",
   "metadata": {},
   "source": [
    "# Persiapan Data"
   ]
  },
  {
   "cell_type": "markdown",
   "metadata": {},
   "source": [
    "Proses persiapan data terdiri dari penyiapan library yang diperlukan, pemuatan dataset, pengecekan kualitas dan mengecek nilai recovery dengan menggunakan persamaan yang disediakan."
   ]
  },
  {
   "cell_type": "markdown",
   "metadata": {},
   "source": [
    "<div class=\"alert alert-success\">\n",
    "<b>Chamdani's comment v.1</b> <a class=\"tocSkip\"></a>\n",
    "\n",
    "Hebat, Kerja bagus!\n",
    "\n",
    "</div>"
   ]
  },
  {
   "cell_type": "markdown",
   "metadata": {},
   "source": [
    "## Penyiapan Library"
   ]
  },
  {
   "cell_type": "markdown",
   "metadata": {},
   "source": [
    " Berikut adalah library yang diperlukan untuk mengerjakan project ini:"
   ]
  },
  {
   "cell_type": "code",
   "execution_count": 2,
   "metadata": {},
   "outputs": [],
   "source": [
    "# Basic data processing & visualization\n",
    "import numpy as np\n",
    "import pandas as pd\n",
    "import seaborn as sb\n",
    "import matplotlib.pyplot as plt\n",
    "import scipy\n",
    "\n",
    "# Sklearn & other machine learning stuff\n",
    "from sklearn.linear_model import LinearRegression\n",
    "from sklearn.ensemble import RandomForestRegressor\n",
    "from sklearn.model_selection import KFold\n",
    "from sklearn.dummy import DummyRegressor\n",
    "from sklearn.tree import DecisionTreeRegressor\n",
    "from sklearn.model_selection import RandomizedSearchCV\n",
    "from sklearn.metrics import make_scorer\n",
    "\n",
    "import optuna\n",
    "import optuna.visualization as vis\n",
    "import xgboost as xgb\n",
    "\n",
    "#m ax_columns display\n",
    "pd.set_option('display.max_columns', 100)"
   ]
  },
  {
   "cell_type": "markdown",
   "metadata": {},
   "source": [
    "<div class=\"alert alert-success\">\n",
    "<b>Chamdani's comment v.1</b> <a class=\"tocSkip\"></a>\n",
    "\n",
    "Hebat, Kerja bagus!\n",
    "\n",
    "</div>"
   ]
  },
  {
   "cell_type": "markdown",
   "metadata": {},
   "source": [
    "## Penyiapan Data"
   ]
  },
  {
   "cell_type": "markdown",
   "metadata": {},
   "source": [
    "Dataset yang diperoleh dari PT. X yaitu df_full namun tim dari data engineer telah membantu kita melakukan proses splitting data sehingga kita telah mempunya dataset training dan dataset test."
   ]
  },
  {
   "cell_type": "code",
   "execution_count": 3,
   "metadata": {},
   "outputs": [],
   "source": [
    "df_train = pd.read_csv(\"\\datasets\\gold_recovery_train.csv\", parse_dates = ['date'])\n",
    "df_test = pd.read_csv(\"\\datasets\\gold_recovery_test.csv\", parse_dates = ['date'])\n",
    "df_full = pd.read_csv(\"\\datasets\\gold_recovery_full.csv\", parse_dates = ['date'])"
   ]
  },
  {
   "cell_type": "code",
   "execution_count": 4,
   "metadata": {},
   "outputs": [
    {
     "name": "stdout",
     "output_type": "stream",
     "text": [
      "(16860, 87)\n",
      "(5856, 53)\n",
      "(22716, 87)\n"
     ]
    }
   ],
   "source": [
    "print(df_train.shape)\n",
    "print(df_test.shape)\n",
    "print(df_full.shape)"
   ]
  },
  {
   "cell_type": "markdown",
   "metadata": {},
   "source": [
    "Jumlah kolom yang terdapat pada dataset test lebih sedikit dibandingkan dataset lainnya. Nanti kita akan cek fitur apa saja yang tidak ada."
   ]
  },
  {
   "cell_type": "markdown",
   "metadata": {},
   "source": [
    "<div class=\"alert alert-success\">\n",
    "<b>Chamdani's comment v.1</b> <a class=\"tocSkip\"></a>\n",
    "\n",
    "Hebat, Kerja bagus!\n",
    "\n",
    "</div>"
   ]
  },
  {
   "cell_type": "markdown",
   "metadata": {},
   "source": [
    "### Check kualitas data"
   ]
  },
  {
   "cell_type": "markdown",
   "metadata": {},
   "source": [
    "Langkah selanjutnya yaitu melakukan pengecekan kualitas data. Proses ini penting untuk dilakukan supaya proses pembuatan model berjalan dengan baik. "
   ]
  },
  {
   "cell_type": "code",
   "execution_count": 5,
   "metadata": {
    "scrolled": true
   },
   "outputs": [
    {
     "name": "stdout",
     "output_type": "stream",
     "text": [
      "<class 'pandas.core.frame.DataFrame'>\n",
      "RangeIndex: 16860 entries, 0 to 16859\n",
      "Data columns (total 87 columns):\n",
      " #   Column                                              Non-Null Count  Dtype         \n",
      "---  ------                                              --------------  -----         \n",
      " 0   date                                                16860 non-null  datetime64[ns]\n",
      " 1   final.output.concentrate_ag                         16788 non-null  float64       \n",
      " 2   final.output.concentrate_pb                         16788 non-null  float64       \n",
      " 3   final.output.concentrate_sol                        16490 non-null  float64       \n",
      " 4   final.output.concentrate_au                         16789 non-null  float64       \n",
      " 5   final.output.recovery                               15339 non-null  float64       \n",
      " 6   final.output.tail_ag                                16794 non-null  float64       \n",
      " 7   final.output.tail_pb                                16677 non-null  float64       \n",
      " 8   final.output.tail_sol                               16715 non-null  float64       \n",
      " 9   final.output.tail_au                                16794 non-null  float64       \n",
      " 10  primary_cleaner.input.sulfate                       15553 non-null  float64       \n",
      " 11  primary_cleaner.input.depressant                    15598 non-null  float64       \n",
      " 12  primary_cleaner.input.feed_size                     16860 non-null  float64       \n",
      " 13  primary_cleaner.input.xanthate                      15875 non-null  float64       \n",
      " 14  primary_cleaner.output.concentrate_ag               16778 non-null  float64       \n",
      " 15  primary_cleaner.output.concentrate_pb               16502 non-null  float64       \n",
      " 16  primary_cleaner.output.concentrate_sol              16224 non-null  float64       \n",
      " 17  primary_cleaner.output.concentrate_au               16778 non-null  float64       \n",
      " 18  primary_cleaner.output.tail_ag                      16777 non-null  float64       \n",
      " 19  primary_cleaner.output.tail_pb                      16761 non-null  float64       \n",
      " 20  primary_cleaner.output.tail_sol                     16579 non-null  float64       \n",
      " 21  primary_cleaner.output.tail_au                      16777 non-null  float64       \n",
      " 22  primary_cleaner.state.floatbank8_a_air              16820 non-null  float64       \n",
      " 23  primary_cleaner.state.floatbank8_a_level            16827 non-null  float64       \n",
      " 24  primary_cleaner.state.floatbank8_b_air              16820 non-null  float64       \n",
      " 25  primary_cleaner.state.floatbank8_b_level            16833 non-null  float64       \n",
      " 26  primary_cleaner.state.floatbank8_c_air              16822 non-null  float64       \n",
      " 27  primary_cleaner.state.floatbank8_c_level            16833 non-null  float64       \n",
      " 28  primary_cleaner.state.floatbank8_d_air              16821 non-null  float64       \n",
      " 29  primary_cleaner.state.floatbank8_d_level            16833 non-null  float64       \n",
      " 30  rougher.calculation.sulfate_to_au_concentrate       16833 non-null  float64       \n",
      " 31  rougher.calculation.floatbank10_sulfate_to_au_feed  16833 non-null  float64       \n",
      " 32  rougher.calculation.floatbank11_sulfate_to_au_feed  16833 non-null  float64       \n",
      " 33  rougher.calculation.au_pb_ratio                     15618 non-null  float64       \n",
      " 34  rougher.input.feed_ag                               16778 non-null  float64       \n",
      " 35  rougher.input.feed_pb                               16632 non-null  float64       \n",
      " 36  rougher.input.feed_rate                             16347 non-null  float64       \n",
      " 37  rougher.input.feed_size                             16443 non-null  float64       \n",
      " 38  rougher.input.feed_sol                              16568 non-null  float64       \n",
      " 39  rougher.input.feed_au                               16777 non-null  float64       \n",
      " 40  rougher.input.floatbank10_sulfate                   15816 non-null  float64       \n",
      " 41  rougher.input.floatbank10_xanthate                  16514 non-null  float64       \n",
      " 42  rougher.input.floatbank11_sulfate                   16237 non-null  float64       \n",
      " 43  rougher.input.floatbank11_xanthate                  14956 non-null  float64       \n",
      " 44  rougher.output.concentrate_ag                       16778 non-null  float64       \n",
      " 45  rougher.output.concentrate_pb                       16778 non-null  float64       \n",
      " 46  rougher.output.concentrate_sol                      16698 non-null  float64       \n",
      " 47  rougher.output.concentrate_au                       16778 non-null  float64       \n",
      " 48  rougher.output.recovery                             14287 non-null  float64       \n",
      " 49  rougher.output.tail_ag                              14610 non-null  float64       \n",
      " 50  rougher.output.tail_pb                              16778 non-null  float64       \n",
      " 51  rougher.output.tail_sol                             14611 non-null  float64       \n",
      " 52  rougher.output.tail_au                              14611 non-null  float64       \n",
      " 53  rougher.state.floatbank10_a_air                     16807 non-null  float64       \n",
      " 54  rougher.state.floatbank10_a_level                   16807 non-null  float64       \n",
      " 55  rougher.state.floatbank10_b_air                     16807 non-null  float64       \n",
      " 56  rougher.state.floatbank10_b_level                   16807 non-null  float64       \n",
      " 57  rougher.state.floatbank10_c_air                     16807 non-null  float64       \n",
      " 58  rougher.state.floatbank10_c_level                   16814 non-null  float64       \n",
      " 59  rougher.state.floatbank10_d_air                     16802 non-null  float64       \n",
      " 60  rougher.state.floatbank10_d_level                   16809 non-null  float64       \n",
      " 61  rougher.state.floatbank10_e_air                     16257 non-null  float64       \n",
      " 62  rougher.state.floatbank10_e_level                   16809 non-null  float64       \n",
      " 63  rougher.state.floatbank10_f_air                     16802 non-null  float64       \n",
      " 64  rougher.state.floatbank10_f_level                   16802 non-null  float64       \n",
      " 65  secondary_cleaner.output.tail_ag                    16776 non-null  float64       \n",
      " 66  secondary_cleaner.output.tail_pb                    16764 non-null  float64       \n",
      " 67  secondary_cleaner.output.tail_sol                   14874 non-null  float64       \n",
      " 68  secondary_cleaner.output.tail_au                    16778 non-null  float64       \n",
      " 69  secondary_cleaner.state.floatbank2_a_air            16497 non-null  float64       \n",
      " 70  secondary_cleaner.state.floatbank2_a_level          16751 non-null  float64       \n",
      " 71  secondary_cleaner.state.floatbank2_b_air            16705 non-null  float64       \n",
      " 72  secondary_cleaner.state.floatbank2_b_level          16748 non-null  float64       \n",
      " 73  secondary_cleaner.state.floatbank3_a_air            16763 non-null  float64       \n",
      " 74  secondary_cleaner.state.floatbank3_a_level          16747 non-null  float64       \n",
      " 75  secondary_cleaner.state.floatbank3_b_air            16752 non-null  float64       \n",
      " 76  secondary_cleaner.state.floatbank3_b_level          16750 non-null  float64       \n",
      " 77  secondary_cleaner.state.floatbank4_a_air            16731 non-null  float64       \n",
      " 78  secondary_cleaner.state.floatbank4_a_level          16747 non-null  float64       \n",
      " 79  secondary_cleaner.state.floatbank4_b_air            16768 non-null  float64       \n",
      " 80  secondary_cleaner.state.floatbank4_b_level          16767 non-null  float64       \n",
      " 81  secondary_cleaner.state.floatbank5_a_air            16775 non-null  float64       \n",
      " 82  secondary_cleaner.state.floatbank5_a_level          16775 non-null  float64       \n",
      " 83  secondary_cleaner.state.floatbank5_b_air            16775 non-null  float64       \n",
      " 84  secondary_cleaner.state.floatbank5_b_level          16776 non-null  float64       \n",
      " 85  secondary_cleaner.state.floatbank6_a_air            16757 non-null  float64       \n",
      " 86  secondary_cleaner.state.floatbank6_a_level          16775 non-null  float64       \n",
      "dtypes: datetime64[ns](1), float64(86)\n",
      "memory usage: 11.2 MB\n"
     ]
    }
   ],
   "source": [
    "df_train.info()"
   ]
  },
  {
   "cell_type": "code",
   "execution_count": 6,
   "metadata": {
    "scrolled": true
   },
   "outputs": [
    {
     "name": "stdout",
     "output_type": "stream",
     "text": [
      "<class 'pandas.core.frame.DataFrame'>\n",
      "RangeIndex: 5856 entries, 0 to 5855\n",
      "Data columns (total 53 columns):\n",
      " #   Column                                      Non-Null Count  Dtype         \n",
      "---  ------                                      --------------  -----         \n",
      " 0   date                                        5856 non-null   datetime64[ns]\n",
      " 1   primary_cleaner.input.sulfate               5554 non-null   float64       \n",
      " 2   primary_cleaner.input.depressant            5572 non-null   float64       \n",
      " 3   primary_cleaner.input.feed_size             5856 non-null   float64       \n",
      " 4   primary_cleaner.input.xanthate              5690 non-null   float64       \n",
      " 5   primary_cleaner.state.floatbank8_a_air      5840 non-null   float64       \n",
      " 6   primary_cleaner.state.floatbank8_a_level    5840 non-null   float64       \n",
      " 7   primary_cleaner.state.floatbank8_b_air      5840 non-null   float64       \n",
      " 8   primary_cleaner.state.floatbank8_b_level    5840 non-null   float64       \n",
      " 9   primary_cleaner.state.floatbank8_c_air      5840 non-null   float64       \n",
      " 10  primary_cleaner.state.floatbank8_c_level    5840 non-null   float64       \n",
      " 11  primary_cleaner.state.floatbank8_d_air      5840 non-null   float64       \n",
      " 12  primary_cleaner.state.floatbank8_d_level    5840 non-null   float64       \n",
      " 13  rougher.input.feed_ag                       5840 non-null   float64       \n",
      " 14  rougher.input.feed_pb                       5840 non-null   float64       \n",
      " 15  rougher.input.feed_rate                     5816 non-null   float64       \n",
      " 16  rougher.input.feed_size                     5834 non-null   float64       \n",
      " 17  rougher.input.feed_sol                      5789 non-null   float64       \n",
      " 18  rougher.input.feed_au                       5840 non-null   float64       \n",
      " 19  rougher.input.floatbank10_sulfate           5599 non-null   float64       \n",
      " 20  rougher.input.floatbank10_xanthate          5733 non-null   float64       \n",
      " 21  rougher.input.floatbank11_sulfate           5801 non-null   float64       \n",
      " 22  rougher.input.floatbank11_xanthate          5503 non-null   float64       \n",
      " 23  rougher.state.floatbank10_a_air             5839 non-null   float64       \n",
      " 24  rougher.state.floatbank10_a_level           5840 non-null   float64       \n",
      " 25  rougher.state.floatbank10_b_air             5839 non-null   float64       \n",
      " 26  rougher.state.floatbank10_b_level           5840 non-null   float64       \n",
      " 27  rougher.state.floatbank10_c_air             5839 non-null   float64       \n",
      " 28  rougher.state.floatbank10_c_level           5840 non-null   float64       \n",
      " 29  rougher.state.floatbank10_d_air             5839 non-null   float64       \n",
      " 30  rougher.state.floatbank10_d_level           5840 non-null   float64       \n",
      " 31  rougher.state.floatbank10_e_air             5839 non-null   float64       \n",
      " 32  rougher.state.floatbank10_e_level           5840 non-null   float64       \n",
      " 33  rougher.state.floatbank10_f_air             5839 non-null   float64       \n",
      " 34  rougher.state.floatbank10_f_level           5840 non-null   float64       \n",
      " 35  secondary_cleaner.state.floatbank2_a_air    5836 non-null   float64       \n",
      " 36  secondary_cleaner.state.floatbank2_a_level  5840 non-null   float64       \n",
      " 37  secondary_cleaner.state.floatbank2_b_air    5833 non-null   float64       \n",
      " 38  secondary_cleaner.state.floatbank2_b_level  5840 non-null   float64       \n",
      " 39  secondary_cleaner.state.floatbank3_a_air    5822 non-null   float64       \n",
      " 40  secondary_cleaner.state.floatbank3_a_level  5840 non-null   float64       \n",
      " 41  secondary_cleaner.state.floatbank3_b_air    5840 non-null   float64       \n",
      " 42  secondary_cleaner.state.floatbank3_b_level  5840 non-null   float64       \n",
      " 43  secondary_cleaner.state.floatbank4_a_air    5840 non-null   float64       \n",
      " 44  secondary_cleaner.state.floatbank4_a_level  5840 non-null   float64       \n",
      " 45  secondary_cleaner.state.floatbank4_b_air    5840 non-null   float64       \n",
      " 46  secondary_cleaner.state.floatbank4_b_level  5840 non-null   float64       \n",
      " 47  secondary_cleaner.state.floatbank5_a_air    5840 non-null   float64       \n",
      " 48  secondary_cleaner.state.floatbank5_a_level  5840 non-null   float64       \n",
      " 49  secondary_cleaner.state.floatbank5_b_air    5840 non-null   float64       \n",
      " 50  secondary_cleaner.state.floatbank5_b_level  5840 non-null   float64       \n",
      " 51  secondary_cleaner.state.floatbank6_a_air    5840 non-null   float64       \n",
      " 52  secondary_cleaner.state.floatbank6_a_level  5840 non-null   float64       \n",
      "dtypes: datetime64[ns](1), float64(52)\n",
      "memory usage: 2.4 MB\n"
     ]
    }
   ],
   "source": [
    "df_test.info()"
   ]
  },
  {
   "cell_type": "code",
   "execution_count": 7,
   "metadata": {
    "scrolled": true
   },
   "outputs": [
    {
     "name": "stdout",
     "output_type": "stream",
     "text": [
      "<class 'pandas.core.frame.DataFrame'>\n",
      "RangeIndex: 22716 entries, 0 to 22715\n",
      "Data columns (total 87 columns):\n",
      " #   Column                                              Non-Null Count  Dtype         \n",
      "---  ------                                              --------------  -----         \n",
      " 0   date                                                22716 non-null  datetime64[ns]\n",
      " 1   final.output.concentrate_ag                         22627 non-null  float64       \n",
      " 2   final.output.concentrate_pb                         22629 non-null  float64       \n",
      " 3   final.output.concentrate_sol                        22331 non-null  float64       \n",
      " 4   final.output.concentrate_au                         22630 non-null  float64       \n",
      " 5   final.output.recovery                               20753 non-null  float64       \n",
      " 6   final.output.tail_ag                                22633 non-null  float64       \n",
      " 7   final.output.tail_pb                                22516 non-null  float64       \n",
      " 8   final.output.tail_sol                               22445 non-null  float64       \n",
      " 9   final.output.tail_au                                22635 non-null  float64       \n",
      " 10  primary_cleaner.input.sulfate                       21107 non-null  float64       \n",
      " 11  primary_cleaner.input.depressant                    21170 non-null  float64       \n",
      " 12  primary_cleaner.input.feed_size                     22716 non-null  float64       \n",
      " 13  primary_cleaner.input.xanthate                      21565 non-null  float64       \n",
      " 14  primary_cleaner.output.concentrate_ag               22618 non-null  float64       \n",
      " 15  primary_cleaner.output.concentrate_pb               22268 non-null  float64       \n",
      " 16  primary_cleaner.output.concentrate_sol              21918 non-null  float64       \n",
      " 17  primary_cleaner.output.concentrate_au               22618 non-null  float64       \n",
      " 18  primary_cleaner.output.tail_ag                      22614 non-null  float64       \n",
      " 19  primary_cleaner.output.tail_pb                      22594 non-null  float64       \n",
      " 20  primary_cleaner.output.tail_sol                     22365 non-null  float64       \n",
      " 21  primary_cleaner.output.tail_au                      22617 non-null  float64       \n",
      " 22  primary_cleaner.state.floatbank8_a_air              22660 non-null  float64       \n",
      " 23  primary_cleaner.state.floatbank8_a_level            22667 non-null  float64       \n",
      " 24  primary_cleaner.state.floatbank8_b_air              22660 non-null  float64       \n",
      " 25  primary_cleaner.state.floatbank8_b_level            22673 non-null  float64       \n",
      " 26  primary_cleaner.state.floatbank8_c_air              22662 non-null  float64       \n",
      " 27  primary_cleaner.state.floatbank8_c_level            22673 non-null  float64       \n",
      " 28  primary_cleaner.state.floatbank8_d_air              22661 non-null  float64       \n",
      " 29  primary_cleaner.state.floatbank8_d_level            22673 non-null  float64       \n",
      " 30  rougher.calculation.sulfate_to_au_concentrate       22672 non-null  float64       \n",
      " 31  rougher.calculation.floatbank10_sulfate_to_au_feed  22672 non-null  float64       \n",
      " 32  rougher.calculation.floatbank11_sulfate_to_au_feed  22672 non-null  float64       \n",
      " 33  rougher.calculation.au_pb_ratio                     21089 non-null  float64       \n",
      " 34  rougher.input.feed_ag                               22618 non-null  float64       \n",
      " 35  rougher.input.feed_pb                               22472 non-null  float64       \n",
      " 36  rougher.input.feed_rate                             22163 non-null  float64       \n",
      " 37  rougher.input.feed_size                             22277 non-null  float64       \n",
      " 38  rougher.input.feed_sol                              22357 non-null  float64       \n",
      " 39  rougher.input.feed_au                               22617 non-null  float64       \n",
      " 40  rougher.input.floatbank10_sulfate                   21415 non-null  float64       \n",
      " 41  rougher.input.floatbank10_xanthate                  22247 non-null  float64       \n",
      " 42  rougher.input.floatbank11_sulfate                   22038 non-null  float64       \n",
      " 43  rougher.input.floatbank11_xanthate                  20459 non-null  float64       \n",
      " 44  rougher.output.concentrate_ag                       22618 non-null  float64       \n",
      " 45  rougher.output.concentrate_pb                       22618 non-null  float64       \n",
      " 46  rougher.output.concentrate_sol                      22526 non-null  float64       \n",
      " 47  rougher.output.concentrate_au                       22618 non-null  float64       \n",
      " 48  rougher.output.recovery                             19597 non-null  float64       \n",
      " 49  rougher.output.tail_ag                              19979 non-null  float64       \n",
      " 50  rougher.output.tail_pb                              22618 non-null  float64       \n",
      " 51  rougher.output.tail_sol                             19980 non-null  float64       \n",
      " 52  rougher.output.tail_au                              19980 non-null  float64       \n",
      " 53  rougher.state.floatbank10_a_air                     22646 non-null  float64       \n",
      " 54  rougher.state.floatbank10_a_level                   22647 non-null  float64       \n",
      " 55  rougher.state.floatbank10_b_air                     22646 non-null  float64       \n",
      " 56  rougher.state.floatbank10_b_level                   22647 non-null  float64       \n",
      " 57  rougher.state.floatbank10_c_air                     22646 non-null  float64       \n",
      " 58  rougher.state.floatbank10_c_level                   22654 non-null  float64       \n",
      " 59  rougher.state.floatbank10_d_air                     22641 non-null  float64       \n",
      " 60  rougher.state.floatbank10_d_level                   22649 non-null  float64       \n",
      " 61  rougher.state.floatbank10_e_air                     22096 non-null  float64       \n",
      " 62  rougher.state.floatbank10_e_level                   22649 non-null  float64       \n",
      " 63  rougher.state.floatbank10_f_air                     22641 non-null  float64       \n",
      " 64  rougher.state.floatbank10_f_level                   22642 non-null  float64       \n",
      " 65  secondary_cleaner.output.tail_ag                    22616 non-null  float64       \n",
      " 66  secondary_cleaner.output.tail_pb                    22600 non-null  float64       \n",
      " 67  secondary_cleaner.output.tail_sol                   20501 non-null  float64       \n",
      " 68  secondary_cleaner.output.tail_au                    22618 non-null  float64       \n",
      " 69  secondary_cleaner.state.floatbank2_a_air            22333 non-null  float64       \n",
      " 70  secondary_cleaner.state.floatbank2_a_level          22591 non-null  float64       \n",
      " 71  secondary_cleaner.state.floatbank2_b_air            22538 non-null  float64       \n",
      " 72  secondary_cleaner.state.floatbank2_b_level          22588 non-null  float64       \n",
      " 73  secondary_cleaner.state.floatbank3_a_air            22585 non-null  float64       \n",
      " 74  secondary_cleaner.state.floatbank3_a_level          22587 non-null  float64       \n",
      " 75  secondary_cleaner.state.floatbank3_b_air            22592 non-null  float64       \n",
      " 76  secondary_cleaner.state.floatbank3_b_level          22590 non-null  float64       \n",
      " 77  secondary_cleaner.state.floatbank4_a_air            22571 non-null  float64       \n",
      " 78  secondary_cleaner.state.floatbank4_a_level          22587 non-null  float64       \n",
      " 79  secondary_cleaner.state.floatbank4_b_air            22608 non-null  float64       \n",
      " 80  secondary_cleaner.state.floatbank4_b_level          22607 non-null  float64       \n",
      " 81  secondary_cleaner.state.floatbank5_a_air            22615 non-null  float64       \n",
      " 82  secondary_cleaner.state.floatbank5_a_level          22615 non-null  float64       \n",
      " 83  secondary_cleaner.state.floatbank5_b_air            22615 non-null  float64       \n",
      " 84  secondary_cleaner.state.floatbank5_b_level          22616 non-null  float64       \n",
      " 85  secondary_cleaner.state.floatbank6_a_air            22597 non-null  float64       \n",
      " 86  secondary_cleaner.state.floatbank6_a_level          22615 non-null  float64       \n",
      "dtypes: datetime64[ns](1), float64(86)\n",
      "memory usage: 15.1 MB\n"
     ]
    }
   ],
   "source": [
    "df_full.info()"
   ]
  },
  {
   "cell_type": "markdown",
   "metadata": {},
   "source": [
    "Terdapat perbaikan yang perlu dilakukan terhadap dataset sebelum menggunakan dalam membuat model machine learning yaitu terdapat missing value pada ketiga dataset, serta perlu dilakukan pengecekan apakah terdapat data duplikat atau tidak. Tipe data dari setiap kolom sudah sesuai sehingga tidak perlu dirubah. Selain itu, dapat dilihat bahwa df_test memiliki jumlah kolom yang lebih sedikit dari df_train dan df_full."
   ]
  },
  {
   "cell_type": "markdown",
   "metadata": {},
   "source": [
    "<div class=\"alert alert-success\">\n",
    "<b>Chamdani's comment v.1</b> <a class=\"tocSkip\"></a>\n",
    "\n",
    "Hebat, Kerja bagus!\n",
    "\n",
    "</div>"
   ]
  },
  {
   "cell_type": "markdown",
   "metadata": {},
   "source": [
    "### Pengecekan perhitungan perolehan emas"
   ]
  },
  {
   "cell_type": "markdown",
   "metadata": {},
   "source": [
    "Sebelum melakukan data cleaning perlu dilakukan pengecekan apakah perhitungan recovery emas telah sesuai dengan persamaan yang diberikan, yaitu:\n",
    "\n",
    "    Recovery = C x (F-T) / (F x (C-T)) * 100%\n",
    "\n",
    "    dimana,\n",
    "    C = konsentrasi emas setelah proses roughing (rougher.output.concentrate_au)\n",
    "    F = konsentrasi emas umpan (rougher.input.feed_au)\n",
    "    T = konsentrasi emas pada tail (rougher.output.tail_au)"
   ]
  },
  {
   "cell_type": "code",
   "execution_count": 8,
   "metadata": {},
   "outputs": [],
   "source": [
    "recovery = df_train.copy()"
   ]
  },
  {
   "cell_type": "code",
   "execution_count": 9,
   "metadata": {},
   "outputs": [],
   "source": [
    "C = recovery['rougher.output.concentrate_au']\n",
    "F = recovery['rougher.input.feed_au']\n",
    "T = recovery['rougher.output.tail_au']\n",
    "recovery['simulation'] = ((C*(F-T))/(F*(C-T)))*100"
   ]
  },
  {
   "cell_type": "code",
   "execution_count": 10,
   "metadata": {},
   "outputs": [
    {
     "name": "stdout",
     "output_type": "stream",
     "text": [
      "Nilai MAE = 9.3034e-15\n"
     ]
    }
   ],
   "source": [
    "recovery['ae'] = (recovery['simulation'] - recovery['rougher.output.recovery']).abs()\n",
    "print(f\"Nilai MAE = {recovery['ae'].mean():.4e}\")"
   ]
  },
  {
   "cell_type": "markdown",
   "metadata": {},
   "source": [
    "Nilai recovery terhitung dan recovery dari dataset memiliki nilai MAE yang sangat rendah sehingga dapat dikatakan nilai recovery dari dataset sudah benar mengikuti persamaan yang diberikan."
   ]
  },
  {
   "cell_type": "markdown",
   "metadata": {},
   "source": [
    "<div class=\"alert alert-success\">\n",
    "<b>Chamdani's comment v.1</b> <a class=\"tocSkip\"></a>\n",
    "\n",
    "Hebat, Kerja bagus!\n",
    "\n",
    "</div>"
   ]
  },
  {
   "cell_type": "markdown",
   "metadata": {},
   "source": [
    "### Fitur yang tidak tersedia pada datatest validation"
   ]
  },
  {
   "cell_type": "markdown",
   "metadata": {},
   "source": [
    "Selanjutnya perlu dicek fitur apa saja yang tidak terdapat pada dataset test. Apakah fitur tersebut memang seharusnya tidak perlu ada dalam dataset?"
   ]
  },
  {
   "cell_type": "code",
   "execution_count": 11,
   "metadata": {
    "scrolled": true
   },
   "outputs": [
    {
     "data": {
      "text/plain": [
       "['final.output.concentrate_ag',\n",
       " 'final.output.concentrate_au',\n",
       " 'final.output.concentrate_pb',\n",
       " 'final.output.concentrate_sol',\n",
       " 'final.output.recovery',\n",
       " 'final.output.tail_ag',\n",
       " 'final.output.tail_au',\n",
       " 'final.output.tail_pb',\n",
       " 'final.output.tail_sol',\n",
       " 'primary_cleaner.output.concentrate_ag',\n",
       " 'primary_cleaner.output.concentrate_au',\n",
       " 'primary_cleaner.output.concentrate_pb',\n",
       " 'primary_cleaner.output.concentrate_sol',\n",
       " 'primary_cleaner.output.tail_ag',\n",
       " 'primary_cleaner.output.tail_au',\n",
       " 'primary_cleaner.output.tail_pb',\n",
       " 'primary_cleaner.output.tail_sol',\n",
       " 'rougher.calculation.au_pb_ratio',\n",
       " 'rougher.calculation.floatbank10_sulfate_to_au_feed',\n",
       " 'rougher.calculation.floatbank11_sulfate_to_au_feed',\n",
       " 'rougher.calculation.sulfate_to_au_concentrate',\n",
       " 'rougher.output.concentrate_ag',\n",
       " 'rougher.output.concentrate_au',\n",
       " 'rougher.output.concentrate_pb',\n",
       " 'rougher.output.concentrate_sol',\n",
       " 'rougher.output.recovery',\n",
       " 'rougher.output.tail_ag',\n",
       " 'rougher.output.tail_au',\n",
       " 'rougher.output.tail_pb',\n",
       " 'rougher.output.tail_sol',\n",
       " 'secondary_cleaner.output.tail_ag',\n",
       " 'secondary_cleaner.output.tail_au',\n",
       " 'secondary_cleaner.output.tail_pb',\n",
       " 'secondary_cleaner.output.tail_sol']"
      ]
     },
     "execution_count": 11,
     "metadata": {},
     "output_type": "execute_result"
    }
   ],
   "source": [
    "all_feature     = df_full.columns\n",
    "test_feature    = df_test.columns\n",
    "missing_feature = all_feature[np.logical_not(all_feature.isin(test_feature))].values\n",
    "sorted(list(missing_feature))"
   ]
  },
  {
   "cell_type": "markdown",
   "metadata": {},
   "source": [
    "Kolom-kolom yang tidak terdapat pada df_train sebagian besar bahkan seluruhnya merupakan hasil output dari masing-masing proses, yaitu data konsentrasi, dan parameter terhitung lainnya. Sebagian besar data tersebut tidak diperlukan untuk proses prediksi/pembuatan model machine learning. Begitupula untuk data keluaran secondary cleaner dimana data tersebutlah yang menjadi target kita. Kenapa data tersebut tidak diperlukan? karena kolom-kolom tersebut memiliki keterkaitan yang sangat kuat dengan fitur dari parameter input dari proses awal dimana data-data output merupakan sebuah akibat dari proses yang dikenakan kepada data-data input.\n",
    "\n",
    "Lalu apa yang akan terjadi kita memasukan data-data ini kedalam Machine learning? hal pernah yang akan terjadi ialah kolom-kolom tersebut akan memiliki nilai importance yang besar dan saya yakin data keluaran primary cleaner akan memiliki nilai importance yang paling besar karena merupakan input dari proses terakhir dan pasti akan memiliki korelasi paling besar dengan target. Apabila kita memaksakan memasukan kolom-kolom tesebut, hal yang akan terjadi adalah model kita akan memiliki akurasi yang besar dimana hal tersebut akan menjadi \"too good to be true\". Akurasi besar tersebut bukan berarti model kita pintar, tapi model kita diberi contekan!. Kasus ini disebut dengan data leakage."
   ]
  },
  {
   "cell_type": "markdown",
   "metadata": {},
   "source": [
    "<div class=\"alert alert-success\">\n",
    "<b>Chamdani's comment v.1</b> <a class=\"tocSkip\"></a>\n",
    "\n",
    "Hebat, Kerja bagus!\n",
    "\n",
    "</div>"
   ]
  },
  {
   "cell_type": "markdown",
   "metadata": {},
   "source": [
    "## Preprocessing Data"
   ]
  },
  {
   "cell_type": "markdown",
   "metadata": {},
   "source": [
    "Proses ini terdiri dari mengatasi missing value, mengatai nilai duplikat dan memperbaiki tipe data setiap kolom."
   ]
  },
  {
   "cell_type": "markdown",
   "metadata": {},
   "source": [
    "### Dataset Training"
   ]
  },
  {
   "cell_type": "code",
   "execution_count": 12,
   "metadata": {},
   "outputs": [
    {
     "data": {
      "text/plain": [
       "(16860, 87)"
      ]
     },
     "execution_count": 12,
     "metadata": {},
     "output_type": "execute_result"
    }
   ],
   "source": [
    "df_train.shape"
   ]
  },
  {
   "cell_type": "code",
   "execution_count": 13,
   "metadata": {},
   "outputs": [
    {
     "data": {
      "text/plain": [
       "rougher.output.recovery               15.260973\n",
       "rougher.output.tail_ag                13.345196\n",
       "rougher.output.tail_sol               13.339265\n",
       "rougher.output.tail_au                13.339265\n",
       "secondary_cleaner.output.tail_sol     11.779359\n",
       "rougher.input.floatbank11_xanthate    11.293001\n",
       "final.output.recovery                  9.021352\n",
       "primary_cleaner.input.sulfate          7.752076\n",
       "primary_cleaner.input.depressant       7.485172\n",
       "rougher.calculation.au_pb_ratio        7.366548\n",
       "dtype: float64"
      ]
     },
     "execution_count": 13,
     "metadata": {},
     "output_type": "execute_result"
    }
   ],
   "source": [
    "(df_train.isna().sum()/len(df_train)).sort_values(ascending=False).head(10)*100"
   ]
  },
  {
   "cell_type": "code",
   "execution_count": 14,
   "metadata": {},
   "outputs": [
    {
     "data": {
      "image/png": "[encoded data removed]",
      "text/plain": [
       "<Figure size 720x360 with 2 Axes>"
      ]
     },
     "metadata": {
      "needs_background": "light"
     },
     "output_type": "display_data"
    }
   ],
   "source": [
    "plt.figure(figsize = (10,5))\n",
    "plt.subplot(1,2,1)\n",
    "plt.plot(df_train.date,df_train['rougher.output.tail_au'],'o-', markersize = 0.5)\n",
    "plt.xlim([df_train.date[0], df_train.date[1000]])\n",
    "plt.subplot(1,2,2)\n",
    "plt.plot(df_train.date,df_train['rougher.output.tail_au'],'o',markersize=1)\n",
    "plt.show()"
   ]
  },
  {
   "cell_type": "markdown",
   "metadata": {},
   "source": [
    "Terdapat 2.34% data hilang pada dataset kita. Apabila di-breakdown per kolom, terdapat banyak kolom dengan data hilang lebih dari 10%. Data tersebut terlalu berharga apabila kita hilangkan dari dataset. Berdasarkan referensi dari https://towardsdatascience.com/filling-gaps-in-time-series-data-2db7366f1965 oleh Barret Studdard, missing value pada data timeseries dapat diatas dengan beberapa cara yaitu forward fill, backward fill, interpolation, dll. Untuk mengatasi nilai hilang pada project ini saya akan menggunakan metode interpolasi linear."
   ]
  },
  {
   "cell_type": "markdown",
   "metadata": {},
   "source": [
    "<div class=\"alert alert-success\">\n",
    "<b>Chamdani's comment v.1</b> <a class=\"tocSkip\"></a>\n",
    "\n",
    "Hebat, Kerja bagus!\n",
    "\n",
    "</div>"
   ]
  },
  {
   "cell_type": "code",
   "execution_count": 15,
   "metadata": {},
   "outputs": [],
   "source": [
    "df_train_nonull = df_train.copy()\n",
    "df_train_nonull.index = df_train['date']\n",
    "df_train_nonull = df_train_nonull.interpolate(method='ffill')\n",
    "df_train_nonull.reset_index(drop=True, inplace=True)"
   ]
  },
  {
   "cell_type": "code",
   "execution_count": 16,
   "metadata": {},
   "outputs": [
    {
     "data": {
      "image/png": "[encoded data removed]",
      "text/plain": [
       "<Figure size 720x360 with 2 Axes>"
      ]
     },
     "metadata": {
      "needs_background": "light"
     },
     "output_type": "display_data"
    }
   ],
   "source": [
    "plt.figure(figsize = (10,5))\n",
    "plt.subplot(1,2,1)\n",
    "plt.plot(df_train_nonull.date,df_train_nonull['rougher.output.tail_au'],'o-', markersize = 0.5)\n",
    "plt.xlim([df_train_nonull.date[0], df_train_nonull.date[1000]])\n",
    "plt.xlim([df_train.date[0], df_train.date[1000]])\n",
    "plt.subplot(1,2,2)\n",
    "plt.plot(df_train_nonull.date,df_train_nonull['rougher.output.tail_au'],'o',markersize=1)\n",
    "plt.show()"
   ]
  },
  {
   "cell_type": "markdown",
   "metadata": {},
   "source": [
    "Meskipun missing value telah diisi namun tetap saja masih terdapat data kosong pada rentang waktu tertentu. Bisa jadi data hilang tersebut yang merupakan data yang dijadikan test dataset. Jika benar, maka grafik pada dataset full seharusnya memiliki data timeframe yang lengkap."
   ]
  },
  {
   "cell_type": "markdown",
   "metadata": {},
   "source": [
    "<div class=\"alert alert-success\">\n",
    "<b>Chamdani's comment v.1</b> <a class=\"tocSkip\"></a>\n",
    "\n",
    "Hebat, Kerja bagus!\n",
    "\n",
    "</div>"
   ]
  },
  {
   "cell_type": "code",
   "execution_count": 17,
   "metadata": {},
   "outputs": [
    {
     "data": {
      "text/plain": [
       "date                                 0.0\n",
       "rougher.state.floatbank10_b_air      0.0\n",
       "rougher.state.floatbank10_f_air      0.0\n",
       "rougher.state.floatbank10_e_level    0.0\n",
       "rougher.state.floatbank10_e_air      0.0\n",
       "rougher.state.floatbank10_d_level    0.0\n",
       "rougher.state.floatbank10_d_air      0.0\n",
       "rougher.state.floatbank10_c_level    0.0\n",
       "rougher.state.floatbank10_c_air      0.0\n",
       "rougher.state.floatbank10_b_level    0.0\n",
       "dtype: float64"
      ]
     },
     "execution_count": 17,
     "metadata": {},
     "output_type": "execute_result"
    }
   ],
   "source": [
    "(df_train_nonull.isna().sum()/len(df_train_nonull)).sort_values(ascending=False).head(10)*100"
   ]
  },
  {
   "cell_type": "markdown",
   "metadata": {},
   "source": [
    "Seluruh missing value pada dataset train sudah berhasil teratasi. Selanjutnya akan dilihat apakah terdapat data duplikat atau tidak."
   ]
  },
  {
   "cell_type": "code",
   "execution_count": 18,
   "metadata": {},
   "outputs": [
    {
     "data": {
      "text/plain": [
       "0"
      ]
     },
     "execution_count": 18,
     "metadata": {},
     "output_type": "execute_result"
    }
   ],
   "source": [
    "df_train_nonull['date'].duplicated().sum()"
   ]
  },
  {
   "cell_type": "markdown",
   "metadata": {},
   "source": [
    "Tidak ada dapat duplikat dalam dataset training. Proses selanjutnya yaitu mengecek dan memperbaiki tipe data dari setiap kolom."
   ]
  },
  {
   "cell_type": "markdown",
   "metadata": {},
   "source": [
    "<div class=\"alert alert-success\">\n",
    "<b>Chamdani's comment v.1</b> <a class=\"tocSkip\"></a>\n",
    "\n",
    "Hebat, Kerja bagus!\n",
    "\n",
    "</div>"
   ]
  },
  {
   "cell_type": "markdown",
   "metadata": {},
   "source": [
    "### Dataset Test"
   ]
  },
  {
   "cell_type": "markdown",
   "metadata": {},
   "source": [
    "Strategi yang sama kita gunakan untuk mengatasi nilai hilang pada dataset test."
   ]
  },
  {
   "cell_type": "code",
   "execution_count": 19,
   "metadata": {},
   "outputs": [
    {
     "data": {
      "text/plain": [
       "(5856, 53)"
      ]
     },
     "execution_count": 19,
     "metadata": {},
     "output_type": "execute_result"
    }
   ],
   "source": [
    "df_test.shape"
   ]
  },
  {
   "cell_type": "code",
   "execution_count": 20,
   "metadata": {},
   "outputs": [
    {
     "data": {
      "text/plain": [
       "rougher.input.floatbank11_xanthate          6.028005\n",
       "primary_cleaner.input.sulfate               5.157104\n",
       "primary_cleaner.input.depressant            4.849727\n",
       "rougher.input.floatbank10_sulfate           4.388661\n",
       "primary_cleaner.input.xanthate              2.834699\n",
       "rougher.input.floatbank10_xanthate          2.100410\n",
       "rougher.input.feed_sol                      1.144126\n",
       "rougher.input.floatbank11_sulfate           0.939208\n",
       "rougher.input.feed_rate                     0.683060\n",
       "secondary_cleaner.state.floatbank3_a_air    0.580601\n",
       "dtype: float64"
      ]
     },
     "execution_count": 20,
     "metadata": {},
     "output_type": "execute_result"
    }
   ],
   "source": [
    "(df_test.isna().sum()/len(df_test)).sort_values(ascending=False).head(10)*100"
   ]
  },
  {
   "cell_type": "code",
   "execution_count": 21,
   "metadata": {},
   "outputs": [],
   "source": [
    "df_test_nonull = df_test.copy()\n",
    "df_test_nonull.index = df_test['date']\n",
    "df_test_nonull = df_test_nonull.interpolate(method='ffill')\n",
    "df_test_nonull.reset_index(drop=True, inplace=True)"
   ]
  },
  {
   "cell_type": "code",
   "execution_count": 22,
   "metadata": {},
   "outputs": [
    {
     "data": {
      "text/plain": [
       "date                                          0.0\n",
       "rougher.state.floatbank10_c_air               0.0\n",
       "rougher.state.floatbank10_d_air               0.0\n",
       "rougher.state.floatbank10_d_level             0.0\n",
       "rougher.state.floatbank10_e_air               0.0\n",
       "rougher.state.floatbank10_e_level             0.0\n",
       "rougher.state.floatbank10_f_air               0.0\n",
       "rougher.state.floatbank10_f_level             0.0\n",
       "secondary_cleaner.state.floatbank2_a_air      0.0\n",
       "secondary_cleaner.state.floatbank2_a_level    0.0\n",
       "dtype: float64"
      ]
     },
     "execution_count": 22,
     "metadata": {},
     "output_type": "execute_result"
    }
   ],
   "source": [
    "(df_test_nonull.isna().sum()/len(df_test_nonull)).sort_values(ascending=False).head(10)*100"
   ]
  },
  {
   "cell_type": "code",
   "execution_count": 23,
   "metadata": {},
   "outputs": [
    {
     "data": {
      "text/plain": [
       "0"
      ]
     },
     "execution_count": 23,
     "metadata": {},
     "output_type": "execute_result"
    }
   ],
   "source": [
    "df_test_nonull['date'].duplicated().sum()"
   ]
  },
  {
   "cell_type": "markdown",
   "metadata": {},
   "source": [
    "Sip, dataset test sudah tidak lagi memiliki nilai hilang dan data terduplikat."
   ]
  },
  {
   "cell_type": "markdown",
   "metadata": {},
   "source": [
    "<div class=\"alert alert-success\">\n",
    "<b>Chamdani's comment v.1</b> <a class=\"tocSkip\"></a>\n",
    "\n",
    "Hebat, Kerja bagus!\n",
    "\n",
    "</div>"
   ]
  },
  {
   "cell_type": "markdown",
   "metadata": {},
   "source": [
    "### Dataset Full"
   ]
  },
  {
   "cell_type": "markdown",
   "metadata": {},
   "source": [
    "Sekali lagi kita gunakan cara yang sama untuk Dataset Full."
   ]
  },
  {
   "cell_type": "code",
   "execution_count": 24,
   "metadata": {},
   "outputs": [
    {
     "data": {
      "text/plain": [
       "(22716, 87)"
      ]
     },
     "execution_count": 24,
     "metadata": {},
     "output_type": "execute_result"
    }
   ],
   "source": [
    "df_full.shape"
   ]
  },
  {
   "cell_type": "code",
   "execution_count": 25,
   "metadata": {},
   "outputs": [
    {
     "data": {
      "text/plain": [
       "rougher.output.recovery               13.730410\n",
       "rougher.output.tail_ag                12.048776\n",
       "rougher.output.tail_au                12.044374\n",
       "rougher.output.tail_sol               12.044374\n",
       "rougher.input.floatbank11_xanthate     9.935728\n",
       "secondary_cleaner.output.tail_sol      9.750836\n",
       "final.output.recovery                  8.641486\n",
       "rougher.calculation.au_pb_ratio        7.162353\n",
       "primary_cleaner.input.sulfate          7.083113\n",
       "primary_cleaner.input.depressant       6.805776\n",
       "dtype: float64"
      ]
     },
     "execution_count": 25,
     "metadata": {},
     "output_type": "execute_result"
    }
   ],
   "source": [
    "(df_full.isna().sum()/len(df_full)).sort_values(ascending=False).head(10)*100"
   ]
  },
  {
   "cell_type": "code",
   "execution_count": 26,
   "metadata": {},
   "outputs": [
    {
     "data": {
      "image/png": "[encoded data removed]",
      "text/plain": [
       "<Figure size 720x360 with 2 Axes>"
      ]
     },
     "metadata": {
      "needs_background": "light"
     },
     "output_type": "display_data"
    }
   ],
   "source": [
    "plt.figure(figsize = (10,5))\n",
    "plt.subplot(1,2,1)\n",
    "plt.plot(df_full.date,df_full['rougher.output.tail_au'],'o-', markersize = 0.5)\n",
    "plt.xlim([df_full.date[0], df_full.date[1000]])\n",
    "plt.subplot(1,2,2)\n",
    "plt.plot(df_full.date,df_full['rougher.output.tail_au'],'o',markersize=1)\n",
    "plt.show()"
   ]
  },
  {
   "cell_type": "markdown",
   "metadata": {},
   "source": [
    "Sesuai prediksi sebelumnya, dataset full tentu memiliki data yang lengkap dimana mencakup dataset training dan dataset test."
   ]
  },
  {
   "cell_type": "markdown",
   "metadata": {},
   "source": [
    "<div class=\"alert alert-success\">\n",
    "<b>Chamdani's comment v.1</b> <a class=\"tocSkip\"></a>\n",
    "\n",
    "Hebat, Kerja bagus!\n",
    "\n",
    "</div>"
   ]
  },
  {
   "cell_type": "code",
   "execution_count": 27,
   "metadata": {},
   "outputs": [],
   "source": [
    "df_full_nonull = df_full.copy()\n",
    "df_full_nonull.index = df_full['date']\n",
    "df_full_nonull = df_full_nonull.interpolate(method='ffill')\n",
    "df_full_nonull.reset_index(drop=True, inplace=True)"
   ]
  },
  {
   "cell_type": "code",
   "execution_count": 28,
   "metadata": {},
   "outputs": [
    {
     "data": {
      "image/png": "[encoded data removed]",
      "text/plain": [
       "<Figure size 720x360 with 2 Axes>"
      ]
     },
     "metadata": {
      "needs_background": "light"
     },
     "output_type": "display_data"
    }
   ],
   "source": [
    "plt.figure(figsize = (10,5))\n",
    "plt.subplot(1,2,1)\n",
    "plt.plot(df_full_nonull.date,df_full_nonull['rougher.output.tail_au'],'o-', markersize = 0.5)\n",
    "plt.xlim([df_full_nonull.date[0], df_full_nonull.date[1000]])\n",
    "plt.subplot(1,2,2)\n",
    "plt.plot(df_full_nonull.date,df_full_nonull['rougher.output.tail_au'],'o',markersize=1)\n",
    "plt.show()"
   ]
  },
  {
   "cell_type": "markdown",
   "metadata": {},
   "source": [
    "Nilai hilang dan duplikat sudah berhasil teratasi."
   ]
  },
  {
   "cell_type": "markdown",
   "metadata": {},
   "source": [
    "<div class=\"alert alert-success\">\n",
    "<b>Chamdani's comment v.1</b> <a class=\"tocSkip\"></a>\n",
    "\n",
    "Hebat, Kerja bagus!\n",
    "\n",
    "</div>"
   ]
  },
  {
   "cell_type": "markdown",
   "metadata": {},
   "source": [
    "# Analisa Data"
   ]
  },
  {
   "cell_type": "markdown",
   "metadata": {},
   "source": [
    "Setelah proses cleaning dilakukan, langkah selanjutnya yaitu mempelajari data yang dimiliki."
   ]
  },
  {
   "cell_type": "markdown",
   "metadata": {},
   "source": [
    "## Distribusi Metal Setiap Tahapan"
   ]
  },
  {
   "cell_type": "code",
   "execution_count": 29,
   "metadata": {},
   "outputs": [],
   "source": [
    "def concHist(rdata, metal):\n",
    "    step = ['rougher','primary_cleaner','secondary_cleaner','final']\n",
    "\n",
    "    plt.figure(figsize=(8,4))\n",
    "    col = ['red','green','magenta']\n",
    "    try:\n",
    "        sb.histplot(rdata, x='rougher.input.feed_'+metal, label = metal+'-feed',\n",
    "                    bins = 50, alpha = 0.1, element=\"step\", color = 'blue',common_norm=False)\n",
    "    except: print('haha')\n",
    "    ii = 0\n",
    "    for i in step:\n",
    "        x_ = i+'.output.concentrate_'+metal\n",
    "        try:\n",
    "            sb.histplot(data=rdata, x=x_,label=metal+'-'+i, bins = 50,alpha = 0.1, element=\"step\", color = col[ii],\n",
    "                        common_norm=False)\n",
    "            ii+=1\n",
    "        except:\n",
    "            continue\n",
    "    plt.xlabel('Concentration')\n",
    "    plt.legend(loc='best')\n",
    "    plt.title(f'Distribusi metal {metal.capitalize():s} untuk setiap tahapan proses')\n",
    "    plt.grid()\n",
    "    plt.show()\n",
    "    "
   ]
  },
  {
   "cell_type": "markdown",
   "metadata": {},
   "source": [
    "<div class=\"alert alert-success\">\n",
    "<b>Chamdani's comment v.1</b> <a class=\"tocSkip\"></a>\n",
    "\n",
    "Hebat, Kerja bagus!\n",
    "\n",
    "</div>"
   ]
  },
  {
   "cell_type": "markdown",
   "metadata": {},
   "source": [
    "### Emas"
   ]
  },
  {
   "cell_type": "code",
   "execution_count": 30,
   "metadata": {},
   "outputs": [
    {
     "data": {
      "image/png": "[encoded data removed]",
      "text/plain": [
       "<Figure size 576x288 with 1 Axes>"
      ]
     },
     "metadata": {
      "needs_background": "light"
     },
     "output_type": "display_data"
    }
   ],
   "source": [
    "concHist(df_full,'au')"
   ]
  },
  {
   "cell_type": "markdown",
   "metadata": {},
   "source": [
    "Berdasarkan grafik distribusi emas di atas, dapat disimpulkan bahwa setiap tahapan berkontrusi untuk meningkatkan konsentrasi emas. Selain itu, terjadi penyempitan distribusi emas disetiap step-nya. Hal ini menunjukan proses ekstrasi emas ini berjalan dengan baik dan menghasilkan produk akhir yang relatif seragam."
   ]
  },
  {
   "cell_type": "markdown",
   "metadata": {},
   "source": [
    "<div class=\"alert alert-success\">\n",
    "<b>Chamdani's comment v.1</b> <a class=\"tocSkip\"></a>\n",
    "\n",
    "Hebat, Kerja bagus!\n",
    "\n",
    "</div>"
   ]
  },
  {
   "cell_type": "markdown",
   "metadata": {},
   "source": [
    "### Perak"
   ]
  },
  {
   "cell_type": "code",
   "execution_count": 31,
   "metadata": {
    "scrolled": true
   },
   "outputs": [
    {
     "data": {
      "image/png": "[encoded data removed]",
      "text/plain": [
       "<Figure size 576x288 with 1 Axes>"
      ]
     },
     "metadata": {
      "needs_background": "light"
     },
     "output_type": "display_data"
    }
   ],
   "source": [
    "concHist(df_full,'ag')"
   ]
  },
  {
   "cell_type": "markdown",
   "metadata": {},
   "source": [
    "Berdasarkan grafik distribusi di atas, element Ag masih terbawa oleh produk sedangkan pada proses cleaning element Ag. Kemungkinan hal tersebut dapat terjadi karena pada tahap roughing sifat Ag mirip seperti sifat emas sehingga tetap terbawa ke produk utama proses roughing. Sedangkan pada proses cleaning memang tujuannya yaitu itu memisahkan element emas dari element lainnya sehingga element Ag akan terpisahkan terbawa ke hasil samping."
   ]
  },
  {
   "cell_type": "markdown",
   "metadata": {},
   "source": [
    "<div class=\"alert alert-success\">\n",
    "<b>Chamdani's comment v.1</b> <a class=\"tocSkip\"></a>\n",
    "\n",
    "Hebat, Kerja bagus!\n",
    "\n",
    "</div>"
   ]
  },
  {
   "cell_type": "markdown",
   "metadata": {},
   "source": [
    "### TImbal"
   ]
  },
  {
   "cell_type": "code",
   "execution_count": 32,
   "metadata": {},
   "outputs": [
    {
     "data": {
      "image/png": "[encoded data removed]",
      "text/plain": [
       "<Figure size 576x288 with 1 Axes>"
      ]
     },
     "metadata": {
      "needs_background": "light"
     },
     "output_type": "display_data"
    }
   ],
   "source": [
    "concHist(df_full,'pb')"
   ]
  },
  {
   "cell_type": "markdown",
   "metadata": {},
   "source": [
    "Berdasarkan grafik distribusi di atas, element timbal meningkat di setiap tahapan proses. Namun tidak terjadi perubahan yang signifikan pada proses cleaning kedua. Hal tersebut bisa jadi dikarenakan pada proses roughing sifat dari element ini sama dengan emas namun karena konsentrasinya memang sudah rendah sejak awal maka proses cleaning tidak terlalu berdampak pada element ini."
   ]
  },
  {
   "cell_type": "markdown",
   "metadata": {},
   "source": [
    "<div class=\"alert alert-success\">\n",
    "<b>Chamdani's comment v.1</b> <a class=\"tocSkip\"></a>\n",
    "\n",
    "Hebat, Kerja bagus!\n",
    "\n",
    "</div>"
   ]
  },
  {
   "cell_type": "markdown",
   "metadata": {},
   "source": [
    "## Distribusi Metal Umpan pada Dataset Training dan Test"
   ]
  },
  {
   "cell_type": "markdown",
   "metadata": {},
   "source": [
    "Sebelum menggunakan training dataset untuk membuat model Machine Learning, perlu dilakukan pengecekan distribusi data pada data training dan data test. Apabila distribusinya berbeda, maka training dataset tidak akan mampu untuk mewakili dataset test atau dapat dikatakan perilakunya akan berbeda."
   ]
  },
  {
   "cell_type": "code",
   "execution_count": 33,
   "metadata": {},
   "outputs": [
    {
     "data": {
      "image/png": "[encoded data removed]",
      "text/plain": [
       "<Figure size 864x288 with 2 Axes>"
      ]
     },
     "metadata": {
      "needs_background": "light"
     },
     "output_type": "display_data"
    }
   ],
   "source": [
    "plt.figure(figsize = (12,4))\n",
    "plt.subplot(1,2,1)\n",
    "plt.title('histogram plot')\n",
    "sb.histplot(df_train_nonull['rougher.input.feed_size'],label='train',\n",
    "            fill = False,  bins = 55, element='step')\n",
    "sb.histplot(df_test_nonull['rougher.input.feed_size'],label='train',\n",
    "            fill = False,  bins = 55, element='step')\n",
    "plt.grid()\n",
    "\n",
    "plt.legend()\n",
    "plt.subplot(1,2,2)\n",
    "plt.title('density plot')\n",
    "sb.kdeplot(df_train_nonull['rougher.input.feed_size'],label='train')\n",
    "sb.kdeplot(df_test_nonull['rougher.input.feed_size'],label='test')\n",
    "plt.grid()\n",
    "plt.legend()\n",
    "plt.show()\n"
   ]
  },
  {
   "cell_type": "markdown",
   "metadata": {},
   "source": [
    "Berdasarkan histrogram plot di atas, data distirbusi umpan pada dataset training dan test memiliki distribusi yang hampir mirip. Pada kedua dataset sebagian besar data terdistribusi pada kisaran 0 - 100. Selain menggunakan histogram plot, kita dapat menggunakan kde atau density plot untuk melihat membandingkan distribusi kedua dataset. Density plot menampilkan \"densitas\" atau banyaknya jumlah data pada suatu ukuran per jumlah data yang dimiliki.  Total dari nilai density dari masing-masing ukuran tersebut akan bernilai 1. Dengan density plot kita dapat melihat tingkat kemiripan distribusi suatu dataset meskipun jumlah data keduanya berbeda. Dapat disimpulkan kedua dataset memiliki distribusi yang sama, sehingga training dataset dapat digunakan untuk membuat model untuk memprediksi target pada test dataset."
   ]
  },
  {
   "cell_type": "markdown",
   "metadata": {},
   "source": [
    "<div class=\"alert alert-success\">\n",
    "<b>Chamdani's comment v.1</b> <a class=\"tocSkip\"></a>\n",
    "\n",
    "Hebat, Kerja bagus!\n",
    "\n",
    "</div>"
   ]
  },
  {
   "cell_type": "markdown",
   "metadata": {},
   "source": [
    "## Konsentrasi Substansi Total Untuk Setiap Tahapan"
   ]
  },
  {
   "cell_type": "code",
   "execution_count": 34,
   "metadata": {},
   "outputs": [
    {
     "data": {
      "image/png": "[encoded data removed]",
      "text/plain": [
       "<Figure size 720x504 with 4 Axes>"
      ]
     },
     "metadata": {
      "needs_background": "light"
     },
     "output_type": "display_data"
    }
   ],
   "source": [
    "substances = ['pb','ag','sol','au']\n",
    "steps = ['rougher.input.feed_','rougher.output.concentrate_','primary_cleaner.output.concentrate_',\n",
    "         'final.output.concentrate_']\n",
    "plt.figure(figsize=(10,7))\n",
    "i=1\n",
    "for step in steps:\n",
    "    cons = list(np.zeros(len(df_full)))\n",
    "    for sub in substances:\n",
    "        cons += df_full.loc[:,step+sub]\n",
    "    plt.subplot(2,2,i)\n",
    "    sb.histplot(cons, bins=30, kde=True, color='magenta')\n",
    "    plt.title('Konsentrasi pada step '+step[:step.find(\".\")+7])\n",
    "    i+=1\n",
    "    plt.grid()\n",
    "plt.tight_layout()\n",
    "plt.show()\n",
    "        "
   ]
  },
  {
   "cell_type": "markdown",
   "metadata": {},
   "source": [
    "Berdasarkan histplot di atas, terlihat bahwa terjadi peningkatan konsentrasi substansi di setiap tahapan prosesnya, yang ditandai dengan penyempinan kurva frekuensi. Terdapat anomali pada dataset yang dimiliki, yaitu terdapat data konsentrasi substansi yang bernilai 0 dan jumlahnya cenderung tetap disetiap tahapan proses.\n",
    "\n",
    "Selanjutnya data konsentrasi total yang bernilai 0 perlu kita eliminasi dari dataset. Dengan ketentuan, apabila terdapat konsentrasi yang bernilai 0 untuk setiap tahapan dan substansi akan dihapus dari dataset."
   ]
  },
  {
   "cell_type": "markdown",
   "metadata": {},
   "source": [
    "<div class=\"alert alert-success\">\n",
    "<b>Chamdani's comment v.1</b> <a class=\"tocSkip\"></a>\n",
    "\n",
    "Hebat, Kerja bagus!\n",
    "\n",
    "</div>"
   ]
  },
  {
   "cell_type": "code",
   "execution_count": 35,
   "metadata": {},
   "outputs": [],
   "source": [
    "def anomali(dataset, st, subs):\n",
    "    for step in st:\n",
    "        for sub in subs:\n",
    "            dataset = dataset.loc[dataset[step+sub]>0.1,:]\n",
    "    return dataset"
   ]
  },
  {
   "cell_type": "code",
   "execution_count": 36,
   "metadata": {},
   "outputs": [],
   "source": [
    "df_train_noano = anomali(df_train_nonull, steps, substances)"
   ]
  },
  {
   "cell_type": "code",
   "execution_count": 37,
   "metadata": {},
   "outputs": [
    {
     "data": {
      "image/png": "[encoded data removed]",
      "text/plain": [
       "<Figure size 864x648 with 4 Axes>"
      ]
     },
     "metadata": {
      "needs_background": "light"
     },
     "output_type": "display_data"
    }
   ],
   "source": [
    "substances = ['au']\n",
    "steps = ['rougher.input.feed_','rougher.output.concentrate_','primary_cleaner.output.concentrate_',\n",
    "         'final.output.concentrate_']\n",
    "plt.figure(figsize=(12,9))\n",
    "i=1\n",
    "for step in steps:\n",
    "    cons = list(np.zeros(len(df_train_noano)))\n",
    "    for sub in substances:\n",
    "        cons += df_train_noano.loc[:,step+sub]\n",
    "    plt.subplot(2,2,i)\n",
    "    sb.histplot(cons, bins=30, kde=True, color='magenta')\n",
    "    plt.title('Konsentrasi pada step '+step[:step.find(\".\")+7])\n",
    "    i+=1\n",
    "    plt.grid()\n",
    "plt.tight_layout()\n",
    "plt.show()\n",
    "        "
   ]
  },
  {
   "cell_type": "code",
   "execution_count": 38,
   "metadata": {},
   "outputs": [
    {
     "name": "stdout",
     "output_type": "stream",
     "text": [
      "(14215, 87)\n"
     ]
    },
    {
     "data": {
      "text/plain": [
       "15.688018979833927"
      ]
     },
     "execution_count": 38,
     "metadata": {},
     "output_type": "execute_result"
    }
   ],
   "source": [
    "print(df_train_noano.shape)\n",
    "100-len(df_train_noano)/len(df_train_nonull)*100"
   ]
  },
  {
   "cell_type": "markdown",
   "metadata": {},
   "source": [
    "Sebanyak 15% dari abnormal telah dikeluarkan dari dataset sehingga saat ini kita memiliki 14337 record."
   ]
  },
  {
   "cell_type": "markdown",
   "metadata": {},
   "source": [
    "<div class=\"alert alert-success\">\n",
    "<b>Chamdani's comment v.1</b> <a class=\"tocSkip\"></a>\n",
    "\n",
    "Hebat, Kerja bagus!\n",
    "\n",
    "</div>"
   ]
  },
  {
   "cell_type": "markdown",
   "metadata": {},
   "source": [
    "# Machine Learning Training"
   ]
  },
  {
   "cell_type": "markdown",
   "metadata": {},
   "source": [
    "Dataset sudah bersih, anomali sudah diatasi. Langkah selanjutnya yaitu membuat model Machine Learning. Proses ini terdiri dari langkah-langkah sebagai berikut:\n",
    "1. Penyiapan Dataset untuk Feature dan Target\n",
    "2. Pemilihan Model dan Hyperparameter Optimal\n",
    "3. Proses Sanity Check"
   ]
  },
  {
   "cell_type": "markdown",
   "metadata": {},
   "source": [
    "## Menyiapan Features dan Target"
   ]
  },
  {
   "cell_type": "markdown",
   "metadata": {},
   "source": [
    "Kolom-kolom yang akan menjadi features adalah kolom-kolom yang tersedia pada dataset test. Sedangkan yang menjadi target adalah \"rougher.output.recovery\" dan \"final.output.recovery\"."
   ]
  },
  {
   "cell_type": "code",
   "execution_count": 39,
   "metadata": {},
   "outputs": [],
   "source": [
    "# Menyiapkan features dan target untuk dataset training\n",
    "features_train = df_train_noano[df_test.columns.values].drop(columns=['date'], axis = 1)\n",
    "\n",
    "target_col =  [\"rougher.output.recovery\",\"final.output.recovery\"]\n",
    "target_train = df_train_noano[target_col]\n",
    "target_train.columns = [0,1]"
   ]
  },
  {
   "cell_type": "code",
   "execution_count": 40,
   "metadata": {
    "scrolled": true
   },
   "outputs": [
    {
     "name": "stdout",
     "output_type": "stream",
     "text": [
      "<class 'pandas.core.frame.DataFrame'>\n",
      "Int64Index: 14215 entries, 0 to 16859\n",
      "Data columns (total 52 columns):\n",
      " #   Column                                      Non-Null Count  Dtype  \n",
      "---  ------                                      --------------  -----  \n",
      " 0   primary_cleaner.input.sulfate               14215 non-null  float64\n",
      " 1   primary_cleaner.input.depressant            14215 non-null  float64\n",
      " 2   primary_cleaner.input.feed_size             14215 non-null  float64\n",
      " 3   primary_cleaner.input.xanthate              14215 non-null  float64\n",
      " 4   primary_cleaner.state.floatbank8_a_air      14215 non-null  float64\n",
      " 5   primary_cleaner.state.floatbank8_a_level    14215 non-null  float64\n",
      " 6   primary_cleaner.state.floatbank8_b_air      14215 non-null  float64\n",
      " 7   primary_cleaner.state.floatbank8_b_level    14215 non-null  float64\n",
      " 8   primary_cleaner.state.floatbank8_c_air      14215 non-null  float64\n",
      " 9   primary_cleaner.state.floatbank8_c_level    14215 non-null  float64\n",
      " 10  primary_cleaner.state.floatbank8_d_air      14215 non-null  float64\n",
      " 11  primary_cleaner.state.floatbank8_d_level    14215 non-null  float64\n",
      " 12  rougher.input.feed_ag                       14215 non-null  float64\n",
      " 13  rougher.input.feed_pb                       14215 non-null  float64\n",
      " 14  rougher.input.feed_rate                     14215 non-null  float64\n",
      " 15  rougher.input.feed_size                     14215 non-null  float64\n",
      " 16  rougher.input.feed_sol                      14215 non-null  float64\n",
      " 17  rougher.input.feed_au                       14215 non-null  float64\n",
      " 18  rougher.input.floatbank10_sulfate           14215 non-null  float64\n",
      " 19  rougher.input.floatbank10_xanthate          14215 non-null  float64\n",
      " 20  rougher.input.floatbank11_sulfate           14215 non-null  float64\n",
      " 21  rougher.input.floatbank11_xanthate          14215 non-null  float64\n",
      " 22  rougher.state.floatbank10_a_air             14215 non-null  float64\n",
      " 23  rougher.state.floatbank10_a_level           14215 non-null  float64\n",
      " 24  rougher.state.floatbank10_b_air             14215 non-null  float64\n",
      " 25  rougher.state.floatbank10_b_level           14215 non-null  float64\n",
      " 26  rougher.state.floatbank10_c_air             14215 non-null  float64\n",
      " 27  rougher.state.floatbank10_c_level           14215 non-null  float64\n",
      " 28  rougher.state.floatbank10_d_air             14215 non-null  float64\n",
      " 29  rougher.state.floatbank10_d_level           14215 non-null  float64\n",
      " 30  rougher.state.floatbank10_e_air             14215 non-null  float64\n",
      " 31  rougher.state.floatbank10_e_level           14215 non-null  float64\n",
      " 32  rougher.state.floatbank10_f_air             14215 non-null  float64\n",
      " 33  rougher.state.floatbank10_f_level           14215 non-null  float64\n",
      " 34  secondary_cleaner.state.floatbank2_a_air    14215 non-null  float64\n",
      " 35  secondary_cleaner.state.floatbank2_a_level  14215 non-null  float64\n",
      " 36  secondary_cleaner.state.floatbank2_b_air    14215 non-null  float64\n",
      " 37  secondary_cleaner.state.floatbank2_b_level  14215 non-null  float64\n",
      " 38  secondary_cleaner.state.floatbank3_a_air    14215 non-null  float64\n",
      " 39  secondary_cleaner.state.floatbank3_a_level  14215 non-null  float64\n",
      " 40  secondary_cleaner.state.floatbank3_b_air    14215 non-null  float64\n",
      " 41  secondary_cleaner.state.floatbank3_b_level  14215 non-null  float64\n",
      " 42  secondary_cleaner.state.floatbank4_a_air    14215 non-null  float64\n",
      " 43  secondary_cleaner.state.floatbank4_a_level  14215 non-null  float64\n",
      " 44  secondary_cleaner.state.floatbank4_b_air    14215 non-null  float64\n",
      " 45  secondary_cleaner.state.floatbank4_b_level  14215 non-null  float64\n",
      " 46  secondary_cleaner.state.floatbank5_a_air    14215 non-null  float64\n",
      " 47  secondary_cleaner.state.floatbank5_a_level  14215 non-null  float64\n",
      " 48  secondary_cleaner.state.floatbank5_b_air    14215 non-null  float64\n",
      " 49  secondary_cleaner.state.floatbank5_b_level  14215 non-null  float64\n",
      " 50  secondary_cleaner.state.floatbank6_a_air    14215 non-null  float64\n",
      " 51  secondary_cleaner.state.floatbank6_a_level  14215 non-null  float64\n",
      "dtypes: float64(52)\n",
      "memory usage: 5.7 MB\n"
     ]
    }
   ],
   "source": [
    "features_train.info()"
   ]
  },
  {
   "cell_type": "code",
   "execution_count": 41,
   "metadata": {},
   "outputs": [
    {
     "name": "stdout",
     "output_type": "stream",
     "text": [
      "<class 'pandas.core.frame.DataFrame'>\n",
      "Int64Index: 14215 entries, 0 to 16859\n",
      "Data columns (total 2 columns):\n",
      " #   Column  Non-Null Count  Dtype  \n",
      "---  ------  --------------  -----  \n",
      " 0   0       14215 non-null  float64\n",
      " 1   1       14215 non-null  float64\n",
      "dtypes: float64(2)\n",
      "memory usage: 333.2 KB\n"
     ]
    }
   ],
   "source": [
    "target_train.info()"
   ]
  },
  {
   "cell_type": "markdown",
   "metadata": {},
   "source": [
    "Pemisahan dataset training menjadi features dan target berhasil dilakukan. Selanjutnya melakukan setting features dan target pada dataset test."
   ]
  },
  {
   "cell_type": "code",
   "execution_count": 42,
   "metadata": {},
   "outputs": [],
   "source": [
    "#feature\n",
    "features_test = df_test_nonull.drop(columns=['date'], axis = 1)\n",
    "\n",
    "#target\n",
    "target_test = df_full_nonull.loc[df_full_nonull['date'].isin(df_test_nonull['date']), target_col]\n",
    "target_test.columns = [0,1]"
   ]
  },
  {
   "cell_type": "code",
   "execution_count": 43,
   "metadata": {},
   "outputs": [
    {
     "data": {
      "text/plain": [
       "(5856, 52)"
      ]
     },
     "execution_count": 43,
     "metadata": {},
     "output_type": "execute_result"
    }
   ],
   "source": [
    "features_test.shape"
   ]
  },
  {
   "cell_type": "code",
   "execution_count": 44,
   "metadata": {},
   "outputs": [
    {
     "data": {
      "text/plain": [
       "(5856, 2)"
      ]
     },
     "execution_count": 44,
     "metadata": {},
     "output_type": "execute_result"
    }
   ],
   "source": [
    "target_test.shape"
   ]
  },
  {
   "cell_type": "markdown",
   "metadata": {},
   "source": [
    "Setting feature dan target untuk dataset test sudah berhasil dilakukan. Dataset training dan test sudah dapat digunakan untuk melatih dan mengevaluasi model Machine Learning yang akan dibuat."
   ]
  },
  {
   "cell_type": "markdown",
   "metadata": {},
   "source": [
    "<div class=\"alert alert-success\">\n",
    "<b>Chamdani's comment v.1</b> <a class=\"tocSkip\"></a>\n",
    "\n",
    "Hebat, Kerja bagus!\n",
    "\n",
    "</div>"
   ]
  },
  {
   "cell_type": "markdown",
   "metadata": {},
   "source": [
    "## Evaluation Metric"
   ]
  },
  {
   "cell_type": "markdown",
   "metadata": {},
   "source": [
    "Pada pembuatan model pada project ini, metrik evaluasi yang digunakan adalah sMAPE (symmetric Mean Absolute Percentage Error), atau kesalahan persentase absolut rata-rata simetris. Model dapat dikatakan bagus apabila mampu menghasilkan prediksi yang memiliki nilai sMAPE rendah."
   ]
  },
  {
   "cell_type": "code",
   "execution_count": 88,
   "metadata": {},
   "outputs": [],
   "source": [
    "def smape(predi, tari):\n",
    "    smape = (tari-predi).abs() / ((tari.abs()+predi.abs())/2)*100\n",
    "    return smape.mean()\n",
    "def smapeFinal(prediction, target):\n",
    "    rougher = smape(prediction[0], target[0])\n",
    "    final   = smape(prediction[1],target[1])\n",
    "    return .25*rougher + .75*final"
   ]
  },
  {
   "cell_type": "code",
   "execution_count": 89,
   "metadata": {},
   "outputs": [
    {
     "data": {
      "text/plain": [
       "9.559473155909098"
      ]
     },
     "execution_count": 89,
     "metadata": {},
     "output_type": "execute_result"
    }
   ],
   "source": [
    "dummy_target = pd.DataFrame(np.ones(target_train.shape), columns = [0,1])\n",
    "dummy_target[0] = target_train[0].mean()\n",
    "dummy_target[1] = target_train[1].mean()\n",
    "smapeFinal(dummy_target, target_train)"
   ]
  },
  {
   "cell_type": "code",
   "execution_count": 47,
   "metadata": {},
   "outputs": [
    {
     "data": {
      "text/plain": [
       "<matplotlib.legend.Legend at 0x1a64d1f6430>"
      ]
     },
     "execution_count": 47,
     "metadata": {},
     "output_type": "execute_result"
    },
    {
     "data": {
      "image/png": "[encoded data removed]",
      "text/plain": [
       "<Figure size 432x288 with 1 Axes>"
      ]
     },
     "metadata": {
      "needs_background": "light"
     },
     "output_type": "display_data"
    }
   ],
   "source": [
    "plt.plot(df_train_noano['date'],target_train[1],'ob')\n",
    "plt.plot(df_train_noano['date'],dummy_target[1],'or',markersize=1)\n",
    "plt.legend(['dummy','target'])"
   ]
  },
  {
   "cell_type": "markdown",
   "metadata": {},
   "source": [
    "Evaluation metric telah berhasil dibuat, dengan menggunakan target dummy yang bernilai rata-rata dari target sesungguhnya, diperolelh nilai sMAPE final sebesar 9.56%."
   ]
  },
  {
   "cell_type": "markdown",
   "metadata": {},
   "source": [
    "<div class=\"alert alert-success\">\n",
    "<b>Chamdani's comment v.1</b> <a class=\"tocSkip\"></a>\n",
    "\n",
    "Hebat, Kerja bagus!\n",
    "\n",
    "</div>"
   ]
  },
  {
   "cell_type": "markdown",
   "metadata": {},
   "source": [
    "## Mencari Model Machine Learning Terbaik"
   ]
  },
  {
   "cell_type": "markdown",
   "metadata": {},
   "source": [
    "Pemodelan dilakukan menggunakan 3 jenis model berbeda untuk mengetahui model mana yang akan memberikan hasil terbaik untuk kasus ini. \n",
    "\n",
    "Jenis model terebut adalah sebagai berikut:\n",
    "1. Linear Regression\n",
    "2. Random Forest Regressor\n",
    "3. XGBoost\n",
    "\n",
    "Setiap model terebut tentunya akan dituning sehingga didapatkan hyperparameter terbaiknya. Proses tuning dilakukan dengan bantuan Grid Search. Model yang dipilih adalah model yang mampu memberikan score metric paling minimum. Untuk mendapatkan evaluasi terbaik, digunakan metode cross validation. Cross validation memastikan model yang dibuat memastikan model tidak mengalami overfitting.\n",
    "\n",
    "Pertama yaitu menyusun fungsi untuk melakukan proses parameter tuning hingga proses cross validation."
   ]
  },
  {
   "cell_type": "code",
   "execution_count": 166,
   "metadata": {},
   "outputs": [],
   "source": [
    "def cross_val(model, feature, target, choosen = None):\n",
    "    scores=[]\n",
    "    for train_i, valid_i in KFold(n_splits = 5).split(feature):\n",
    "        # Filter index training\n",
    "        feature.reset_index(drop=True, inplace=True)\n",
    "        target.reset_index(drop=True, inplace=True)\n",
    "        \n",
    "        feature_t = feature.loc[train_i,:].reset_index(drop=True)\n",
    "        target_t  = target.loc[train_i,:].reset_index(drop=True)\n",
    "        \n",
    "        # Filter index validation\n",
    "        feature_v = feature.loc[valid_i,:].reset_index(drop=True)\n",
    "        target_v  = target.loc[valid_i,:].reset_index(drop=True)\n",
    "        \n",
    "        if choosen == 'XGBoost': \n",
    "            # Fit and Train\n",
    "            model.fit(feature_t, target_t[0])\n",
    "            predicted_1 = model.predict(feature_v)\n",
    "            model.fit(feature_t, target_t[1])\n",
    "            predicted_2 = model.predict(feature_v)\n",
    "            predicted = pd.DataFrame(np.transpose([predicted_1, predicted_2]), columns = [0,1])\n",
    "\n",
    "        else:\n",
    "            # Fit and Train\n",
    "            model.fit(feature_t, target_t)\n",
    "            predicted = pd.DataFrame(model.predict(feature_v), columns = [0,1])\n",
    "        \n",
    "        # Metrix Calculation\n",
    "        scores.append(smapeFinal(predicted, target_v))\n",
    "        \n",
    "    scores = pd.Series(scores)\n",
    "    return scores.mean()\n",
    "    "
   ]
  },
  {
   "cell_type": "markdown",
   "metadata": {},
   "source": [
    "Uji fungsi cross validation untuk memastikan fungsi berjalan dengan baik."
   ]
  },
  {
   "cell_type": "code",
   "execution_count": 49,
   "metadata": {},
   "outputs": [
    {
     "data": {
      "text/plain": [
       "16.187139296184963"
      ]
     },
     "execution_count": 49,
     "metadata": {},
     "output_type": "execute_result"
    }
   ],
   "source": [
    "cross_val(DecisionTreeRegressor(), features_train, target_train)"
   ]
  },
  {
   "cell_type": "markdown",
   "metadata": {},
   "source": [
    "Fungsi berjalan dengan baik, selanjutnya yaitu membuat fungsi untuk melakukan proses tuning dengan tuner Optuna."
   ]
  },
  {
   "cell_type": "code",
   "execution_count": 50,
   "metadata": {},
   "outputs": [],
   "source": [
    "def objectiveFun(trial, model_name):\n",
    "    if model_name == 'XGBoost':\n",
    "        param = {'learning_rate': trial.suggest_float(\"learning_rate\", 0.01, 0.3),\n",
    "                 'n_estimators': trial.suggest_int(\"n_estimators\", 10, 200),\n",
    "                 'max_depth': trial.suggest_int(\"max_depth\", 3, 9),\n",
    "                 'gamma': trial.suggest_float('gamma', 0.1, 1),\n",
    "                 'reg_alpha': trial.suggest_float('reg_alpha', 0.1, 1),\n",
    "                 'reg_lambda': trial.suggest_float('reg_lambda', 0.1, 1),\n",
    "                 'tree_method': 'gpu_hist',\n",
    "                 'gpu_id': 0,\n",
    "                 'seed' : 123\n",
    "                }\n",
    "        model_ = xgb.XGBRegressor(**param)\n",
    "    elif model_name == 'RandomForestRegressor':\n",
    "        param = {'n_estimators': trial.suggest_int('n_estimators', 10, 200),\n",
    "                 'max_depth': trial.suggest_int('max_depth', 3, 9),\n",
    "                 'min_samples_split': trial.suggest_int('min_samples_split', 2, 10),\n",
    "                 'min_samples_leaf': trial.suggest_int('min_samples_leaf', 1, 10),\n",
    "                 'n_jobs':12,\n",
    "                 'random_state': 123\n",
    "                }\n",
    "        model_ = RandomForestRegressor(**param)\n",
    "    scores = cross_val(model_, features_train, target_train,model_name)\n",
    "    return scores"
   ]
  },
  {
   "cell_type": "markdown",
   "metadata": {},
   "source": [
    "<div class=\"alert alert-success\">\n",
    "<b>Chamdani's comment v.1</b> <a class=\"tocSkip\"></a>\n",
    "\n",
    "Hebat, Kerja bagus!\n",
    "\n",
    "</div>"
   ]
  },
  {
   "cell_type": "markdown",
   "metadata": {},
   "source": [
    "### Linear Regression"
   ]
  },
  {
   "cell_type": "markdown",
   "metadata": {},
   "source": [
    "Pada model Linear Regression tidak ada hyperparameter yang perlu di-tunning, sehingga kita dapat langsung menggunakan fungsi cross validation."
   ]
  },
  {
   "cell_type": "code",
   "execution_count": null,
   "metadata": {},
   "outputs": [],
   "source": [
    "cross_val(LinearRegression(), features_train, target_train,'LinearRegression')"
   ]
  },
  {
   "cell_type": "markdown",
   "metadata": {},
   "source": [
    "Hmmm, meskipun suah menggunakan model Machine Learning tetapi nilai sMAPE masih lebih rendah dibandingkan dengan menggunakan nilai rata-rata dari target training. Selanjutnya kita akan mencoba menggunakan model Random Forest Regressor, semoga dapat menghasilkan model yang lebih baik."
   ]
  },
  {
   "cell_type": "markdown",
   "metadata": {},
   "source": [
    "<div class=\"alert alert-success\">\n",
    "<b>Chamdani's comment v.1</b> <a class=\"tocSkip\"></a>\n",
    "\n",
    "Hebat, Kerja bagus!\n",
    "\n",
    "</div>"
   ]
  },
  {
   "cell_type": "markdown",
   "metadata": {},
   "source": [
    "### Random Forest Regressor"
   ]
  },
  {
   "cell_type": "code",
   "execution_count": 52,
   "metadata": {},
   "outputs": [
    {
     "name": "stderr",
     "output_type": "stream",
     "text": [
      "[I 2023-08-10 20:08:34,024] A new study created in memory with name: no-name-17557301-62b7-4817-a51a-79c04daa3d20\n",
      "[I 2023-08-10 20:08:44,508] Trial 0 finished with value: 9.55547688445374 and parameters: {'n_estimators': 82, 'max_depth': 9, 'min_samples_split': 2, 'min_samples_leaf': 2}. Best is trial 0 with value: 9.55547688445374.\n",
      "[I 2023-08-10 20:08:47,789] Trial 1 finished with value: 9.201992951279257 and parameters: {'n_estimators': 34, 'max_depth': 6, 'min_samples_split': 3, 'min_samples_leaf': 2}. Best is trial 1 with value: 9.201992951279257.\n",
      "[I 2023-08-10 20:08:55,938] Trial 2 finished with value: 9.368216983100185 and parameters: {'n_estimators': 73, 'max_depth': 7, 'min_samples_split': 7, 'min_samples_leaf': 1}. Best is trial 1 with value: 9.201992951279257.\n",
      "[I 2023-08-10 20:09:00,138] Trial 3 finished with value: 8.84677175768845 and parameters: {'n_estimators': 83, 'max_depth': 3, 'min_samples_split': 5, 'min_samples_leaf': 9}. Best is trial 3 with value: 8.84677175768845.\n",
      "[I 2023-08-10 20:09:06,738] Trial 4 finished with value: 9.566932817613258 and parameters: {'n_estimators': 50, 'max_depth': 8, 'min_samples_split': 2, 'min_samples_leaf': 1}. Best is trial 3 with value: 8.84677175768845.\n",
      "[I 2023-08-10 20:09:12,241] Trial 5 finished with value: 9.285075903261415 and parameters: {'n_estimators': 37, 'max_depth': 9, 'min_samples_split': 3, 'min_samples_leaf': 6}. Best is trial 3 with value: 8.84677175768845.\n",
      "[I 2023-08-10 20:09:33,118] Trial 6 finished with value: 9.44219937766749 and parameters: {'n_estimators': 151, 'max_depth': 9, 'min_samples_split': 7, 'min_samples_leaf': 4}. Best is trial 3 with value: 8.84677175768845.\n",
      "[I 2023-08-10 20:09:47,409] Trial 7 finished with value: 9.127264075706858 and parameters: {'n_estimators': 108, 'max_depth': 8, 'min_samples_split': 2, 'min_samples_leaf': 10}. Best is trial 3 with value: 8.84677175768845.\n",
      "[I 2023-08-10 20:09:50,497] Trial 8 finished with value: 8.908808085289888 and parameters: {'n_estimators': 59, 'max_depth': 3, 'min_samples_split': 3, 'min_samples_leaf': 1}. Best is trial 3 with value: 8.84677175768845.\n",
      "[I 2023-08-10 20:09:56,707] Trial 9 finished with value: 9.171094665331191 and parameters: {'n_estimators': 61, 'max_depth': 6, 'min_samples_split': 7, 'min_samples_leaf': 3}. Best is trial 3 with value: 8.84677175768845.\n",
      "[I 2023-08-10 20:10:06,417] Trial 10 finished with value: 8.843436986514478 and parameters: {'n_estimators': 190, 'max_depth': 3, 'min_samples_split': 10, 'min_samples_leaf': 10}. Best is trial 10 with value: 8.843436986514478.\n",
      "[I 2023-08-10 20:10:15,817] Trial 11 finished with value: 8.843314578795427 and parameters: {'n_estimators': 184, 'max_depth': 3, 'min_samples_split': 10, 'min_samples_leaf': 10}. Best is trial 11 with value: 8.843314578795427.\n",
      "[I 2023-08-10 20:10:28,657] Trial 12 finished with value: 8.729731481379147 and parameters: {'n_estimators': 197, 'max_depth': 4, 'min_samples_split': 10, 'min_samples_leaf': 8}. Best is trial 12 with value: 8.729731481379147.\n",
      "[I 2023-08-10 20:10:41,417] Trial 13 finished with value: 8.75282153422988 and parameters: {'n_estimators': 196, 'max_depth': 4, 'min_samples_split': 10, 'min_samples_leaf': 7}. Best is trial 12 with value: 8.729731481379147.\n",
      "[I 2023-08-10 20:10:53,528] Trial 14 finished with value: 8.845242919530529 and parameters: {'n_estimators': 155, 'max_depth': 5, 'min_samples_split': 9, 'min_samples_leaf': 7}. Best is trial 12 with value: 8.729731481379147.\n",
      "[I 2023-08-10 20:11:06,182] Trial 15 finished with value: 8.82013780520732 and parameters: {'n_estimators': 158, 'max_depth': 5, 'min_samples_split': 9, 'min_samples_leaf': 8}. Best is trial 12 with value: 8.729731481379147.\n",
      "[I 2023-08-10 20:11:15,149] Trial 16 finished with value: 8.780092295099774 and parameters: {'n_estimators': 122, 'max_depth': 4, 'min_samples_split': 9, 'min_samples_leaf': 5}. Best is trial 12 with value: 8.729731481379147.\n",
      "[I 2023-08-10 20:11:28,338] Trial 17 finished with value: 8.75014576274291 and parameters: {'n_estimators': 195, 'max_depth': 4, 'min_samples_split': 8, 'min_samples_leaf': 7}. Best is trial 12 with value: 8.729731481379147.\n",
      "[I 2023-08-10 20:11:39,851] Trial 18 finished with value: 8.71850615246444 and parameters: {'n_estimators': 171, 'max_depth': 4, 'min_samples_split': 8, 'min_samples_leaf': 8}. Best is trial 18 with value: 8.71850615246444.\n",
      "[I 2023-08-10 20:11:50,737] Trial 19 finished with value: 8.821962951768311 and parameters: {'n_estimators': 134, 'max_depth': 5, 'min_samples_split': 5, 'min_samples_leaf': 8}. Best is trial 18 with value: 8.71850615246444.\n",
      "[I 2023-08-10 20:12:06,982] Trial 20 finished with value: 8.945085540485183 and parameters: {'n_estimators': 171, 'max_depth': 6, 'min_samples_split': 8, 'min_samples_leaf': 8}. Best is trial 18 with value: 8.71850615246444.\n",
      "[I 2023-08-10 20:12:19,228] Trial 21 finished with value: 8.757183637660253 and parameters: {'n_estimators': 175, 'max_depth': 4, 'min_samples_split': 8, 'min_samples_leaf': 6}. Best is trial 18 with value: 8.71850615246444.\n",
      "[I 2023-08-10 20:12:34,088] Trial 22 finished with value: 8.7534054837201 and parameters: {'n_estimators': 198, 'max_depth': 4, 'min_samples_split': 8, 'min_samples_leaf': 7}. Best is trial 18 with value: 8.71850615246444.\n",
      "[I 2023-08-10 20:12:47,592] Trial 23 finished with value: 8.796861425787665 and parameters: {'n_estimators': 168, 'max_depth': 5, 'min_samples_split': 6, 'min_samples_leaf': 9}. Best is trial 18 with value: 8.71850615246444.\n",
      "[I 2023-08-10 20:12:56,883] Trial 24 finished with value: 8.774888288033427 and parameters: {'n_estimators': 141, 'max_depth': 4, 'min_samples_split': 9, 'min_samples_leaf': 5}. Best is trial 18 with value: 8.71850615246444.\n",
      "[I 2023-08-10 20:12:58,005] Trial 25 finished with value: 8.910915164872064 and parameters: {'n_estimators': 12, 'max_depth': 5, 'min_samples_split': 6, 'min_samples_leaf': 9}. Best is trial 18 with value: 8.71850615246444.\n",
      "[I 2023-08-10 20:13:10,973] Trial 26 finished with value: 8.754125778264633 and parameters: {'n_estimators': 200, 'max_depth': 4, 'min_samples_split': 8, 'min_samples_leaf': 7}. Best is trial 18 with value: 8.71850615246444.\n",
      "[I 2023-08-10 20:13:20,846] Trial 27 finished with value: 8.863217799075057 and parameters: {'n_estimators': 181, 'max_depth': 3, 'min_samples_split': 10, 'min_samples_leaf': 8}. Best is trial 18 with value: 8.71850615246444.\n",
      "[I 2023-08-10 20:13:33,037] Trial 28 finished with value: 9.061105335723823 and parameters: {'n_estimators': 123, 'max_depth': 6, 'min_samples_split': 7, 'min_samples_leaf': 6}. Best is trial 18 with value: 8.71850615246444.\n",
      "[I 2023-08-10 20:13:43,860] Trial 29 finished with value: 8.721335959468597 and parameters: {'n_estimators': 164, 'max_depth': 4, 'min_samples_split': 5, 'min_samples_leaf': 9}. Best is trial 18 with value: 8.71850615246444.\n",
      "[I 2023-08-10 20:13:56,887] Trial 30 finished with value: 8.814914647344025 and parameters: {'n_estimators': 162, 'max_depth': 5, 'min_samples_split': 5, 'min_samples_leaf': 9}. Best is trial 18 with value: 8.71850615246444.\n",
      "[I 2023-08-10 20:14:09,016] Trial 31 finished with value: 8.722156652622918 and parameters: {'n_estimators': 187, 'max_depth': 4, 'min_samples_split': 4, 'min_samples_leaf': 8}. Best is trial 18 with value: 8.71850615246444.\n",
      "[I 2023-08-10 20:14:21,170] Trial 32 finished with value: 8.71806475271225 and parameters: {'n_estimators': 178, 'max_depth': 4, 'min_samples_split': 4, 'min_samples_leaf': 8}. Best is trial 32 with value: 8.71806475271225.\n",
      "[I 2023-08-10 20:14:29,032] Trial 33 finished with value: 8.848747783182763 and parameters: {'n_estimators': 146, 'max_depth': 3, 'min_samples_split': 4, 'min_samples_leaf': 9}. Best is trial 32 with value: 8.71806475271225.\n",
      "[I 2023-08-10 20:14:43,432] Trial 34 finished with value: 8.801009238565236 and parameters: {'n_estimators': 177, 'max_depth': 5, 'min_samples_split': 4, 'min_samples_leaf': 10}. Best is trial 32 with value: 8.71806475271225.\n",
      "[I 2023-08-10 20:14:53,212] Trial 35 finished with value: 8.96060739427714 and parameters: {'n_estimators': 98, 'max_depth': 6, 'min_samples_split': 4, 'min_samples_leaf': 9}. Best is trial 32 with value: 8.71806475271225.\n",
      "[I 2023-08-10 20:15:01,893] Trial 36 finished with value: 8.871903794784135 and parameters: {'n_estimators': 163, 'max_depth': 3, 'min_samples_split': 5, 'min_samples_leaf': 8}. Best is trial 32 with value: 8.71806475271225.\n",
      "[I 2023-08-10 20:15:22,339] Trial 37 finished with value: 9.01670486873195 and parameters: {'n_estimators': 186, 'max_depth': 7, 'min_samples_split': 4, 'min_samples_leaf': 8}. Best is trial 32 with value: 8.71806475271225.\n",
      "[I 2023-08-10 20:15:34,319] Trial 38 finished with value: 8.709682694115227 and parameters: {'n_estimators': 172, 'max_depth': 4, 'min_samples_split': 3, 'min_samples_leaf': 9}. Best is trial 38 with value: 8.709682694115227.\n",
      "[I 2023-08-10 20:15:41,574] Trial 39 finished with value: 8.83606076652536 and parameters: {'n_estimators': 133, 'max_depth': 3, 'min_samples_split': 3, 'min_samples_leaf': 10}. Best is trial 38 with value: 8.709682694115227.\n",
      "[I 2023-08-10 20:15:58,587] Trial 40 finished with value: 9.028125982075883 and parameters: {'n_estimators': 151, 'max_depth': 7, 'min_samples_split': 2, 'min_samples_leaf': 9}. Best is trial 38 with value: 8.709682694115227.\n",
      "[I 2023-08-10 20:16:10,267] Trial 41 finished with value: 8.712160634242007 and parameters: {'n_estimators': 170, 'max_depth': 4, 'min_samples_split': 3, 'min_samples_leaf': 9}. Best is trial 38 with value: 8.709682694115227.\n",
      "[I 2023-08-10 20:16:21,903] Trial 42 finished with value: 8.709682694115228 and parameters: {'n_estimators': 172, 'max_depth': 4, 'min_samples_split': 3, 'min_samples_leaf': 9}. Best is trial 38 with value: 8.709682694115227.\n",
      "[I 2023-08-10 20:16:33,897] Trial 43 finished with value: 8.71316988561142 and parameters: {'n_estimators': 175, 'max_depth': 4, 'min_samples_split': 3, 'min_samples_leaf': 10}. Best is trial 38 with value: 8.709682694115227.\n",
      "[I 2023-08-10 20:16:42,970] Trial 44 finished with value: 8.844588271317058 and parameters: {'n_estimators': 178, 'max_depth': 3, 'min_samples_split': 2, 'min_samples_leaf': 10}. Best is trial 38 with value: 8.709682694115227.\n",
      "[I 2023-08-10 20:16:49,643] Trial 45 finished with value: 8.824035763331988 and parameters: {'n_estimators': 83, 'max_depth': 5, 'min_samples_split': 3, 'min_samples_leaf': 10}. Best is trial 38 with value: 8.709682694115227.\n",
      "[I 2023-08-10 20:16:58,791] Trial 46 finished with value: 8.721179334190115 and parameters: {'n_estimators': 140, 'max_depth': 4, 'min_samples_split': 3, 'min_samples_leaf': 9}. Best is trial 38 with value: 8.709682694115227.\n",
      "[I 2023-08-10 20:17:06,635] Trial 47 finished with value: 8.902182957651315 and parameters: {'n_estimators': 154, 'max_depth': 3, 'min_samples_split': 2, 'min_samples_leaf': 3}. Best is trial 38 with value: 8.709682694115227.\n",
      "[I 2023-08-10 20:17:28,217] Trial 48 finished with value: 9.080126442536436 and parameters: {'n_estimators': 189, 'max_depth': 8, 'min_samples_split': 3, 'min_samples_leaf': 10}. Best is trial 38 with value: 8.709682694115227.\n",
      "[I 2023-08-10 20:17:38,613] Trial 49 finished with value: 8.822344118259764 and parameters: {'n_estimators': 116, 'max_depth': 5, 'min_samples_split': 2, 'min_samples_leaf': 10}. Best is trial 38 with value: 8.709682694115227.\n",
      "[I 2023-08-10 20:17:50,620] Trial 50 finished with value: 8.713543250958544 and parameters: {'n_estimators': 169, 'max_depth': 4, 'min_samples_split': 3, 'min_samples_leaf': 9}. Best is trial 38 with value: 8.709682694115227.\n",
      "[I 2023-08-10 20:18:01,635] Trial 51 finished with value: 8.713543250958546 and parameters: {'n_estimators': 169, 'max_depth': 4, 'min_samples_split': 3, 'min_samples_leaf': 9}. Best is trial 38 with value: 8.709682694115227.\n",
      "[I 2023-08-10 20:18:12,304] Trial 52 finished with value: 8.716754102098154 and parameters: {'n_estimators': 167, 'max_depth': 4, 'min_samples_split': 3, 'min_samples_leaf': 9}. Best is trial 38 with value: 8.709682694115227.\n",
      "[I 2023-08-10 20:18:22,672] Trial 53 finished with value: 8.714790997910772 and parameters: {'n_estimators': 155, 'max_depth': 4, 'min_samples_split': 3, 'min_samples_leaf': 9}. Best is trial 38 with value: 8.709682694115227.\n",
      "[I 2023-08-10 20:18:30,306] Trial 54 finished with value: 8.840914734733719 and parameters: {'n_estimators': 145, 'max_depth': 3, 'min_samples_split': 3, 'min_samples_leaf': 10}. Best is trial 38 with value: 8.709682694115227.\n",
      "[I 2023-08-10 20:18:43,849] Trial 55 finished with value: 8.799490803367211 and parameters: {'n_estimators': 174, 'max_depth': 5, 'min_samples_split': 2, 'min_samples_leaf': 10}. Best is trial 38 with value: 8.709682694115227.\n",
      "[I 2023-08-10 20:18:54,348] Trial 56 finished with value: 8.720882587585516 and parameters: {'n_estimators': 159, 'max_depth': 4, 'min_samples_split': 3, 'min_samples_leaf': 9}. Best is trial 38 with value: 8.709682694115227.\n",
      "[I 2023-08-10 20:19:06,901] Trial 57 finished with value: 8.852011888699332 and parameters: {'n_estimators': 192, 'max_depth': 4, 'min_samples_split': 2, 'min_samples_leaf': 2}. Best is trial 38 with value: 8.709682694115227.\n",
      "[I 2023-08-10 20:19:16,092] Trial 58 finished with value: 8.874963134936895 and parameters: {'n_estimators': 182, 'max_depth': 3, 'min_samples_split': 4, 'min_samples_leaf': 7}. Best is trial 38 with value: 8.709682694115227.\n",
      "[I 2023-08-10 20:19:26,178] Trial 59 finished with value: 8.828766397992805 and parameters: {'n_estimators': 131, 'max_depth': 5, 'min_samples_split': 3, 'min_samples_leaf': 10}. Best is trial 38 with value: 8.709682694115227.\n",
      "[I 2023-08-10 20:19:37,292] Trial 60 finished with value: 8.710454846545348 and parameters: {'n_estimators': 171, 'max_depth': 4, 'min_samples_split': 4, 'min_samples_leaf': 9}. Best is trial 38 with value: 8.709682694115227.\n",
      "[I 2023-08-10 20:19:48,751] Trial 61 finished with value: 8.71045484654535 and parameters: {'n_estimators': 171, 'max_depth': 4, 'min_samples_split': 4, 'min_samples_leaf': 9}. Best is trial 38 with value: 8.709682694115227.\n",
      "[I 2023-08-10 20:20:00,170] Trial 62 finished with value: 8.709682694115228 and parameters: {'n_estimators': 172, 'max_depth': 4, 'min_samples_split': 4, 'min_samples_leaf': 9}. Best is trial 38 with value: 8.709682694115227.\n",
      "[I 2023-08-10 20:20:11,536] Trial 63 finished with value: 8.730507902860104 and parameters: {'n_estimators': 151, 'max_depth': 4, 'min_samples_split': 4, 'min_samples_leaf': 8}. Best is trial 38 with value: 8.709682694115227.\n",
      "[I 2023-08-10 20:20:24,189] Trial 64 finished with value: 8.713736149909046 and parameters: {'n_estimators': 183, 'max_depth': 4, 'min_samples_split': 5, 'min_samples_leaf': 9}. Best is trial 38 with value: 8.709682694115227.\n",
      "[I 2023-08-10 20:20:37,164] Trial 65 finished with value: 8.821211691366539 and parameters: {'n_estimators': 159, 'max_depth': 5, 'min_samples_split': 6, 'min_samples_leaf': 10}. Best is trial 38 with value: 8.709682694115227.\n",
      "[I 2023-08-10 20:20:39,117] Trial 66 finished with value: 8.82627020969542 and parameters: {'n_estimators': 36, 'max_depth': 3, 'min_samples_split': 4, 'min_samples_leaf': 8}. Best is trial 38 with value: 8.709682694115227.\n",
      "[I 2023-08-10 20:20:50,538] Trial 67 finished with value: 8.708929538182321 and parameters: {'n_estimators': 173, 'max_depth': 4, 'min_samples_split': 4, 'min_samples_leaf': 9}. Best is trial 67 with value: 8.708929538182321.\n",
      "[I 2023-08-10 20:21:03,509] Trial 68 finished with value: 8.840314850614588 and parameters: {'n_estimators': 165, 'max_depth': 5, 'min_samples_split': 5, 'min_samples_leaf': 7}. Best is trial 67 with value: 8.708929538182321.\n",
      "[I 2023-08-10 20:21:16,226] Trial 69 finished with value: 8.71512870268005 and parameters: {'n_estimators': 193, 'max_depth': 4, 'min_samples_split': 4, 'min_samples_leaf': 9}. Best is trial 67 with value: 8.708929538182321.\n",
      "[I 2023-08-10 20:21:23,765] Trial 70 finished with value: 8.89641379718585 and parameters: {'n_estimators': 145, 'max_depth': 3, 'min_samples_split': 4, 'min_samples_leaf': 4}. Best is trial 67 with value: 8.708929538182321.\n",
      "[I 2023-08-10 20:21:35,229] Trial 71 finished with value: 8.70493839451526 and parameters: {'n_estimators': 176, 'max_depth': 4, 'min_samples_split': 4, 'min_samples_leaf': 9}. Best is trial 71 with value: 8.70493839451526.\n",
      "[I 2023-08-10 20:21:46,666] Trial 72 finished with value: 8.717653299457892 and parameters: {'n_estimators': 172, 'max_depth': 4, 'min_samples_split': 4, 'min_samples_leaf': 8}. Best is trial 71 with value: 8.70493839451526.\n",
      "[I 2023-08-10 20:21:58,703] Trial 73 finished with value: 8.710585043129125 and parameters: {'n_estimators': 182, 'max_depth': 4, 'min_samples_split': 5, 'min_samples_leaf': 9}. Best is trial 71 with value: 8.70493839451526.\n",
      "[I 2023-08-10 20:22:10,816] Trial 74 finished with value: 8.714138265084657 and parameters: {'n_estimators': 187, 'max_depth': 4, 'min_samples_split': 5, 'min_samples_leaf': 9}. Best is trial 71 with value: 8.70493839451526.\n",
      "[I 2023-08-10 20:22:25,646] Trial 75 finished with value: 8.805550580758375 and parameters: {'n_estimators': 182, 'max_depth': 5, 'min_samples_split': 6, 'min_samples_leaf': 8}. Best is trial 71 with value: 8.70493839451526.\n",
      "[I 2023-08-10 20:22:36,297] Trial 76 finished with value: 8.731247481008582 and parameters: {'n_estimators': 161, 'max_depth': 4, 'min_samples_split': 5, 'min_samples_leaf': 8}. Best is trial 71 with value: 8.70493839451526.\n",
      "[I 2023-08-10 20:22:49,232] Trial 77 finished with value: 8.718877088712972 and parameters: {'n_estimators': 199, 'max_depth': 4, 'min_samples_split': 4, 'min_samples_leaf': 9}. Best is trial 71 with value: 8.70493839451526.\n",
      "[I 2023-08-10 20:23:00,989] Trial 78 finished with value: 8.70735534038449 and parameters: {'n_estimators': 174, 'max_depth': 4, 'min_samples_split': 5, 'min_samples_leaf': 9}. Best is trial 71 with value: 8.70493839451526.\n",
      "[I 2023-08-10 20:23:15,244] Trial 79 finished with value: 8.80021205600921 and parameters: {'n_estimators': 176, 'max_depth': 5, 'min_samples_split': 4, 'min_samples_leaf': 8}. Best is trial 71 with value: 8.70493839451526.\n",
      "[I 2023-08-10 20:23:16,855] Trial 80 finished with value: 9.224902439748105 and parameters: {'n_estimators': 10, 'max_depth': 9, 'min_samples_split': 4, 'min_samples_leaf': 9}. Best is trial 71 with value: 8.70493839451526.\n",
      "[I 2023-08-10 20:23:28,729] Trial 81 finished with value: 8.706812376836748 and parameters: {'n_estimators': 179, 'max_depth': 4, 'min_samples_split': 5, 'min_samples_leaf': 9}. Best is trial 71 with value: 8.70493839451526.\n",
      "[I 2023-08-10 20:23:39,330] Trial 82 finished with value: 8.721335959468597 and parameters: {'n_estimators': 164, 'max_depth': 4, 'min_samples_split': 5, 'min_samples_leaf': 9}. Best is trial 71 with value: 8.70493839451526.\n",
      "[I 2023-08-10 20:23:51,845] Trial 83 finished with value: 8.721519830117561 and parameters: {'n_estimators': 191, 'max_depth': 4, 'min_samples_split': 6, 'min_samples_leaf': 8}. Best is trial 71 with value: 8.70493839451526.\n",
      "[I 2023-08-10 20:24:00,762] Trial 84 finished with value: 8.846085437813139 and parameters: {'n_estimators': 177, 'max_depth': 3, 'min_samples_split': 5, 'min_samples_leaf': 10}. Best is trial 71 with value: 8.70493839451526.\n",
      "[I 2023-08-10 20:24:10,867] Trial 85 finished with value: 8.714790997910772 and parameters: {'n_estimators': 155, 'max_depth': 4, 'min_samples_split': 4, 'min_samples_leaf': 9}. Best is trial 71 with value: 8.70493839451526.\n",
      "[I 2023-08-10 20:24:22,336] Trial 86 finished with value: 8.709682694115228 and parameters: {'n_estimators': 172, 'max_depth': 4, 'min_samples_split': 5, 'min_samples_leaf': 9}. Best is trial 71 with value: 8.70493839451526.\n",
      "[I 2023-08-10 20:24:24,805] Trial 87 finished with value: 8.80949351536536 and parameters: {'n_estimators': 42, 'max_depth': 3, 'min_samples_split': 6, 'min_samples_leaf': 10}. Best is trial 71 with value: 8.70493839451526.\n",
      "[I 2023-08-10 20:24:37,137] Trial 88 finished with value: 8.713626064134282 and parameters: {'n_estimators': 186, 'max_depth': 4, 'min_samples_split': 5, 'min_samples_leaf': 9}. Best is trial 71 with value: 8.70493839451526.\n",
      "[I 2023-08-10 20:24:48,900] Trial 89 finished with value: 8.717517512796078 and parameters: {'n_estimators': 179, 'max_depth': 4, 'min_samples_split': 5, 'min_samples_leaf': 8}. Best is trial 71 with value: 8.70493839451526.\n",
      "[I 2023-08-10 20:24:51,043] Trial 90 finished with value: 8.89402036580971 and parameters: {'n_estimators': 24, 'max_depth': 5, 'min_samples_split': 6, 'min_samples_leaf': 5}. Best is trial 71 with value: 8.70493839451526.\n",
      "[I 2023-08-10 20:25:02,735] Trial 91 finished with value: 8.708929538182321 and parameters: {'n_estimators': 173, 'max_depth': 4, 'min_samples_split': 4, 'min_samples_leaf': 9}. Best is trial 71 with value: 8.70493839451526.\n",
      "[I 2023-08-10 20:25:14,251] Trial 92 finished with value: 8.719580266588064 and parameters: {'n_estimators': 166, 'max_depth': 4, 'min_samples_split': 5, 'min_samples_leaf': 9}. Best is trial 71 with value: 8.70493839451526.\n",
      "[I 2023-08-10 20:25:25,665] Trial 93 finished with value: 8.708929538182323 and parameters: {'n_estimators': 173, 'max_depth': 4, 'min_samples_split': 4, 'min_samples_leaf': 9}. Best is trial 71 with value: 8.70493839451526.\n",
      "[I 2023-08-10 20:25:31,895] Trial 94 finished with value: 8.724518954414282 and parameters: {'n_estimators': 94, 'max_depth': 4, 'min_samples_split': 4, 'min_samples_leaf': 9}. Best is trial 71 with value: 8.70493839451526.\n",
      "[I 2023-08-10 20:25:44,792] Trial 95 finished with value: 8.719174818758649 and parameters: {'n_estimators': 195, 'max_depth': 4, 'min_samples_split': 5, 'min_samples_leaf': 10}. Best is trial 71 with value: 8.70493839451526.\n",
      "[I 2023-08-10 20:25:50,074] Trial 96 finished with value: 8.73141029561433 and parameters: {'n_estimators': 75, 'max_depth': 4, 'min_samples_split': 4, 'min_samples_leaf': 8}. Best is trial 71 with value: 8.70493839451526.\n",
      "[I 2023-08-10 20:26:04,000] Trial 97 finished with value: 8.795069642955497 and parameters: {'n_estimators': 179, 'max_depth': 5, 'min_samples_split': 3, 'min_samples_leaf': 9}. Best is trial 71 with value: 8.70493839451526.\n",
      "[I 2023-08-10 20:26:12,806] Trial 98 finished with value: 8.851331976789051 and parameters: {'n_estimators': 173, 'max_depth': 3, 'min_samples_split': 7, 'min_samples_leaf': 9}. Best is trial 71 with value: 8.70493839451526.\n",
      "[I 2023-08-10 20:26:31,151] Trial 99 finished with value: 9.106314444585522 and parameters: {'n_estimators': 158, 'max_depth': 8, 'min_samples_split': 4, 'min_samples_leaf': 10}. Best is trial 71 with value: 8.70493839451526.\n",
      "[I 2023-08-10 20:26:43,826] Trial 100 finished with value: 8.721369559692937 and parameters: {'n_estimators': 189, 'max_depth': 4, 'min_samples_split': 3, 'min_samples_leaf': 8}. Best is trial 71 with value: 8.70493839451526.\n",
      "[I 2023-08-10 20:26:55,956] Trial 101 finished with value: 8.70735534038449 and parameters: {'n_estimators': 174, 'max_depth': 4, 'min_samples_split': 4, 'min_samples_leaf': 9}. Best is trial 71 with value: 8.70493839451526.\n",
      "[I 2023-08-10 20:27:07,366] Trial 102 finished with value: 8.707355340384492 and parameters: {'n_estimators': 174, 'max_depth': 4, 'min_samples_split': 4, 'min_samples_leaf': 9}. Best is trial 71 with value: 8.70493839451526.\n",
      "[I 2023-08-10 20:27:25,378] Trial 103 finished with value: 9.011800461182276 and parameters: {'n_estimators': 167, 'max_depth': 7, 'min_samples_split': 4, 'min_samples_leaf': 9}. Best is trial 71 with value: 8.70493839451526.\n",
      "[I 2023-08-10 20:27:36,304] Trial 104 finished with value: 8.727908903249633 and parameters: {'n_estimators': 162, 'max_depth': 4, 'min_samples_split': 4, 'min_samples_leaf': 10}. Best is trial 71 with value: 8.70493839451526.\n",
      "[I 2023-08-10 20:27:48,594] Trial 105 finished with value: 8.714507197239147 and parameters: {'n_estimators': 185, 'max_depth': 4, 'min_samples_split': 3, 'min_samples_leaf': 9}. Best is trial 71 with value: 8.70493839451526.\n",
      "[I 2023-08-10 20:27:58,657] Trial 106 finished with value: 8.730507902860104 and parameters: {'n_estimators': 151, 'max_depth': 4, 'min_samples_split': 4, 'min_samples_leaf': 8}. Best is trial 71 with value: 8.70493839451526.\n",
      "[I 2023-08-10 20:28:10,368] Trial 107 finished with value: 8.70493839451526 and parameters: {'n_estimators': 176, 'max_depth': 4, 'min_samples_split': 4, 'min_samples_leaf': 9}. Best is trial 71 with value: 8.70493839451526.\n",
      "[I 2023-08-10 20:28:19,309] Trial 108 finished with value: 8.845902477098626 and parameters: {'n_estimators': 176, 'max_depth': 3, 'min_samples_split': 3, 'min_samples_leaf': 10}. Best is trial 71 with value: 8.70493839451526.\n",
      "[I 2023-08-10 20:28:31,274] Trial 109 finished with value: 8.707238432929113 and parameters: {'n_estimators': 181, 'max_depth': 4, 'min_samples_split': 4, 'min_samples_leaf': 9}. Best is trial 71 with value: 8.70493839451526.\n",
      "[I 2023-08-10 20:28:43,141] Trial 110 finished with value: 8.707480372828503 and parameters: {'n_estimators': 180, 'max_depth': 4, 'min_samples_split': 4, 'min_samples_leaf': 9}. Best is trial 71 with value: 8.70493839451526.\n",
      "[I 2023-08-10 20:28:55,068] Trial 111 finished with value: 8.707480372828503 and parameters: {'n_estimators': 180, 'max_depth': 4, 'min_samples_split': 4, 'min_samples_leaf': 9}. Best is trial 71 with value: 8.70493839451526.\n",
      "[I 2023-08-10 20:29:07,220] Trial 112 finished with value: 8.707238432929113 and parameters: {'n_estimators': 181, 'max_depth': 4, 'min_samples_split': 4, 'min_samples_leaf': 9}. Best is trial 71 with value: 8.70493839451526.\n",
      "[I 2023-08-10 20:29:18,985] Trial 113 finished with value: 8.707480372828503 and parameters: {'n_estimators': 180, 'max_depth': 4, 'min_samples_split': 4, 'min_samples_leaf': 9}. Best is trial 71 with value: 8.70493839451526.\n",
      "[I 2023-08-10 20:29:31,077] Trial 114 finished with value: 8.707238432929113 and parameters: {'n_estimators': 181, 'max_depth': 4, 'min_samples_split': 4, 'min_samples_leaf': 9}. Best is trial 71 with value: 8.70493839451526.\n",
      "[I 2023-08-10 20:29:45,243] Trial 115 finished with value: 8.727070972362576 and parameters: {'n_estimators': 195, 'max_depth': 4, 'min_samples_split': 4, 'min_samples_leaf': 8}. Best is trial 71 with value: 8.70493839451526.\n",
      "[I 2023-08-10 20:29:58,585] Trial 116 finished with value: 8.717433780473318 and parameters: {'n_estimators': 184, 'max_depth': 4, 'min_samples_split': 4, 'min_samples_leaf': 9}. Best is trial 71 with value: 8.70493839451526.\n",
      "[I 2023-08-10 20:30:15,009] Trial 117 finished with value: 8.804518303675483 and parameters: {'n_estimators': 180, 'max_depth': 5, 'min_samples_split': 4, 'min_samples_leaf': 10}. Best is trial 71 with value: 8.70493839451526.\n",
      "[I 2023-08-10 20:30:29,461] Trial 118 finished with value: 8.71360274066041 and parameters: {'n_estimators': 189, 'max_depth': 4, 'min_samples_split': 4, 'min_samples_leaf': 9}. Best is trial 71 with value: 8.70493839451526.\n",
      "[I 2023-08-10 20:30:43,246] Trial 119 finished with value: 8.713800569405155 and parameters: {'n_estimators': 191, 'max_depth': 4, 'min_samples_split': 5, 'min_samples_leaf': 9}. Best is trial 71 with value: 8.70493839451526.\n",
      "[I 2023-08-10 20:30:57,953] Trial 120 finished with value: 8.807486915323324 and parameters: {'n_estimators': 184, 'max_depth': 5, 'min_samples_split': 4, 'min_samples_leaf': 10}. Best is trial 71 with value: 8.70493839451526.\n",
      "[I 2023-08-10 20:31:10,419] Trial 121 finished with value: 8.705794019314007 and parameters: {'n_estimators': 177, 'max_depth': 4, 'min_samples_split': 4, 'min_samples_leaf': 9}. Best is trial 71 with value: 8.70493839451526.\n",
      "[I 2023-08-10 20:31:22,666] Trial 122 finished with value: 8.707480372828503 and parameters: {'n_estimators': 180, 'max_depth': 4, 'min_samples_split': 4, 'min_samples_leaf': 9}. Best is trial 71 with value: 8.70493839451526.\n",
      "[I 2023-08-10 20:31:36,477] Trial 123 finished with value: 8.72015173271625 and parameters: {'n_estimators': 200, 'max_depth': 4, 'min_samples_split': 4, 'min_samples_leaf': 9}. Best is trial 71 with value: 8.70493839451526.\n",
      "[I 2023-08-10 20:31:49,256] Trial 124 finished with value: 8.714138265084657 and parameters: {'n_estimators': 187, 'max_depth': 4, 'min_samples_split': 4, 'min_samples_leaf': 9}. Best is trial 71 with value: 8.70493839451526.\n",
      "[I 2023-08-10 20:32:01,301] Trial 125 finished with value: 8.705794019314007 and parameters: {'n_estimators': 177, 'max_depth': 4, 'min_samples_split': 4, 'min_samples_leaf': 9}. Best is trial 71 with value: 8.70493839451526.\n",
      "[I 2023-08-10 20:32:12,552] Trial 126 finished with value: 8.756841760133863 and parameters: {'n_estimators': 168, 'max_depth': 4, 'min_samples_split': 4, 'min_samples_leaf': 6}. Best is trial 71 with value: 8.70493839451526.\n",
      "[I 2023-08-10 20:32:24,198] Trial 127 finished with value: 8.705794019314009 and parameters: {'n_estimators': 177, 'max_depth': 4, 'min_samples_split': 5, 'min_samples_leaf': 9}. Best is trial 71 with value: 8.70493839451526.\n",
      "[I 2023-08-10 20:32:33,635] Trial 128 finished with value: 8.903708876006771 and parameters: {'n_estimators': 183, 'max_depth': 3, 'min_samples_split': 5, 'min_samples_leaf': 3}. Best is trial 71 with value: 8.70493839451526.\n",
      "[I 2023-08-10 20:32:45,462] Trial 129 finished with value: 8.715082834325518 and parameters: {'n_estimators': 176, 'max_depth': 4, 'min_samples_split': 5, 'min_samples_leaf': 8}. Best is trial 71 with value: 8.70493839451526.\n",
      "[I 2023-08-10 20:32:57,362] Trial 130 finished with value: 8.70493839451526 and parameters: {'n_estimators': 176, 'max_depth': 4, 'min_samples_split': 5, 'min_samples_leaf': 9}. Best is trial 71 with value: 8.70493839451526.\n",
      "[I 2023-08-10 20:33:08,626] Trial 131 finished with value: 8.715530708285318 and parameters: {'n_estimators': 168, 'max_depth': 4, 'min_samples_split': 5, 'min_samples_leaf': 9}. Best is trial 71 with value: 8.70493839451526.\n",
      "[I 2023-08-10 20:33:21,706] Trial 132 finished with value: 8.70493839451526 and parameters: {'n_estimators': 176, 'max_depth': 4, 'min_samples_split': 5, 'min_samples_leaf': 9}. Best is trial 71 with value: 8.70493839451526.\n",
      "[I 2023-08-10 20:33:34,627] Trial 133 finished with value: 8.70493839451526 and parameters: {'n_estimators': 176, 'max_depth': 4, 'min_samples_split': 5, 'min_samples_leaf': 9}. Best is trial 71 with value: 8.70493839451526.\n",
      "[I 2023-08-10 20:33:47,163] Trial 134 finished with value: 8.721335959468597 and parameters: {'n_estimators': 164, 'max_depth': 4, 'min_samples_split': 5, 'min_samples_leaf': 9}. Best is trial 71 with value: 8.70493839451526.\n",
      "[I 2023-08-10 20:34:00,682] Trial 135 finished with value: 8.705794019314007 and parameters: {'n_estimators': 177, 'max_depth': 4, 'min_samples_split': 5, 'min_samples_leaf': 9}. Best is trial 71 with value: 8.70493839451526.\n",
      "[I 2023-08-10 20:34:13,495] Trial 136 finished with value: 8.722049130200288 and parameters: {'n_estimators': 188, 'max_depth': 4, 'min_samples_split': 6, 'min_samples_leaf': 8}. Best is trial 71 with value: 8.70493839451526.\n",
      "[I 2023-08-10 20:34:26,366] Trial 137 finished with value: 8.71512870268005 and parameters: {'n_estimators': 193, 'max_depth': 4, 'min_samples_split': 5, 'min_samples_leaf': 9}. Best is trial 71 with value: 8.70493839451526.\n",
      "[I 2023-08-10 20:34:38,150] Trial 138 finished with value: 8.83693947678754 and parameters: {'n_estimators': 177, 'max_depth': 4, 'min_samples_split': 5, 'min_samples_leaf': 1}. Best is trial 71 with value: 8.70493839451526.\n",
      "[I 2023-08-10 20:34:50,286] Trial 139 finished with value: 8.717226823315858 and parameters: {'n_estimators': 185, 'max_depth': 4, 'min_samples_split': 6, 'min_samples_leaf': 10}. Best is trial 71 with value: 8.70493839451526.\n",
      "[I 2023-08-10 20:35:03,950] Trial 140 finished with value: 8.796690230618944 and parameters: {'n_estimators': 169, 'max_depth': 5, 'min_samples_split': 5, 'min_samples_leaf': 9}. Best is trial 71 with value: 8.70493839451526.\n",
      "[I 2023-08-10 20:35:15,475] Trial 141 finished with value: 8.70493839451526 and parameters: {'n_estimators': 176, 'max_depth': 4, 'min_samples_split': 5, 'min_samples_leaf': 9}. Best is trial 71 with value: 8.70493839451526.\n",
      "[I 2023-08-10 20:35:27,086] Trial 142 finished with value: 8.707240882745028 and parameters: {'n_estimators': 178, 'max_depth': 4, 'min_samples_split': 5, 'min_samples_leaf': 9}. Best is trial 71 with value: 8.70493839451526.\n",
      "[I 2023-08-10 20:35:38,645] Trial 143 finished with value: 8.705794019314007 and parameters: {'n_estimators': 177, 'max_depth': 4, 'min_samples_split': 5, 'min_samples_leaf': 9}. Best is trial 71 with value: 8.70493839451526.\n",
      "[I 2023-08-10 20:35:50,815] Trial 144 finished with value: 8.717433780473318 and parameters: {'n_estimators': 184, 'max_depth': 4, 'min_samples_split': 5, 'min_samples_leaf': 9}. Best is trial 71 with value: 8.70493839451526.\n",
      "[I 2023-08-10 20:36:02,079] Trial 145 finished with value: 8.713543250958548 and parameters: {'n_estimators': 169, 'max_depth': 4, 'min_samples_split': 5, 'min_samples_leaf': 9}. Best is trial 71 with value: 8.70493839451526.\n",
      "[I 2023-08-10 20:36:13,815] Trial 146 finished with value: 8.712004691268968 and parameters: {'n_estimators': 177, 'max_depth': 4, 'min_samples_split': 5, 'min_samples_leaf': 10}. Best is trial 71 with value: 8.70493839451526.\n",
      "[I 2023-08-10 20:36:24,784] Trial 147 finished with value: 8.726470466232584 and parameters: {'n_estimators': 164, 'max_depth': 4, 'min_samples_split': 6, 'min_samples_leaf': 8}. Best is trial 71 with value: 8.70493839451526.\n",
      "[I 2023-08-10 20:36:36,844] Trial 148 finished with value: 8.710585043129123 and parameters: {'n_estimators': 182, 'max_depth': 4, 'min_samples_split': 5, 'min_samples_leaf': 9}. Best is trial 71 with value: 8.70493839451526.\n",
      "[I 2023-08-10 20:36:49,101] Trial 149 finished with value: 8.714065159340024 and parameters: {'n_estimators': 188, 'max_depth': 4, 'min_samples_split': 5, 'min_samples_leaf': 9}. Best is trial 71 with value: 8.70493839451526.\n",
      "[I 2023-08-10 20:36:59,636] Trial 150 finished with value: 8.725359504192586 and parameters: {'n_estimators': 160, 'max_depth': 4, 'min_samples_split': 5, 'min_samples_leaf': 9}. Best is trial 71 with value: 8.70493839451526.\n",
      "[I 2023-08-10 20:37:11,240] Trial 151 finished with value: 8.705794019314007 and parameters: {'n_estimators': 177, 'max_depth': 4, 'min_samples_split': 5, 'min_samples_leaf': 9}. Best is trial 71 with value: 8.70493839451526.\n",
      "[I 2023-08-10 20:37:22,836] Trial 152 finished with value: 8.705794019314007 and parameters: {'n_estimators': 177, 'max_depth': 4, 'min_samples_split': 5, 'min_samples_leaf': 9}. Best is trial 71 with value: 8.70493839451526.\n",
      "[I 2023-08-10 20:37:34,578] Trial 153 finished with value: 8.70493839451526 and parameters: {'n_estimators': 176, 'max_depth': 4, 'min_samples_split': 5, 'min_samples_leaf': 9}. Best is trial 71 with value: 8.70493839451526.\n",
      "[I 2023-08-10 20:37:45,829] Trial 154 finished with value: 8.712160634242009 and parameters: {'n_estimators': 170, 'max_depth': 4, 'min_samples_split': 5, 'min_samples_leaf': 9}. Best is trial 71 with value: 8.70493839451526.\n",
      "[I 2023-08-10 20:37:57,366] Trial 155 finished with value: 8.70493839451526 and parameters: {'n_estimators': 176, 'max_depth': 4, 'min_samples_split': 6, 'min_samples_leaf': 9}. Best is trial 71 with value: 8.70493839451526.\n",
      "[I 2023-08-10 20:38:09,646] Trial 156 finished with value: 8.706874334776478 and parameters: {'n_estimators': 175, 'max_depth': 4, 'min_samples_split': 6, 'min_samples_leaf': 9}. Best is trial 71 with value: 8.70493839451526.\n",
      "[I 2023-08-10 20:38:21,384] Trial 157 finished with value: 8.72151417030316 and parameters: {'n_estimators': 168, 'max_depth': 4, 'min_samples_split': 6, 'min_samples_leaf': 8}. Best is trial 71 with value: 8.70493839451526.\n",
      "[I 2023-08-10 20:38:38,772] Trial 158 finished with value: 8.927249310046445 and parameters: {'n_estimators': 177, 'max_depth': 6, 'min_samples_split': 5, 'min_samples_leaf': 10}. Best is trial 71 with value: 8.70493839451526.\n",
      "[I 2023-08-10 20:38:42,394] Trial 159 finished with value: 8.84203962389676 and parameters: {'n_estimators': 63, 'max_depth': 3, 'min_samples_split': 7, 'min_samples_leaf': 9}. Best is trial 71 with value: 8.70493839451526.\n",
      "[I 2023-08-10 20:38:53,879] Trial 160 finished with value: 8.710454846545346 and parameters: {'n_estimators': 171, 'max_depth': 4, 'min_samples_split': 5, 'min_samples_leaf': 9}. Best is trial 71 with value: 8.70493839451526.\n",
      "[I 2023-08-10 20:39:05,576] Trial 161 finished with value: 8.706874334776478 and parameters: {'n_estimators': 175, 'max_depth': 4, 'min_samples_split': 6, 'min_samples_leaf': 9}. Best is trial 71 with value: 8.70493839451526.\n",
      "[I 2023-08-10 20:39:16,600] Trial 162 finished with value: 8.721811417948274 and parameters: {'n_estimators': 165, 'max_depth': 4, 'min_samples_split': 6, 'min_samples_leaf': 9}. Best is trial 71 with value: 8.70493839451526.\n",
      "[I 2023-08-10 20:39:28,232] Trial 163 finished with value: 8.70687433477648 and parameters: {'n_estimators': 175, 'max_depth': 4, 'min_samples_split': 6, 'min_samples_leaf': 9}. Best is trial 71 with value: 8.70493839451526.\n",
      "[I 2023-08-10 20:39:39,816] Trial 164 finished with value: 8.70493839451526 and parameters: {'n_estimators': 176, 'max_depth': 4, 'min_samples_split': 5, 'min_samples_leaf': 9}. Best is trial 71 with value: 8.70493839451526.\n",
      "[I 2023-08-10 20:39:52,077] Trial 165 finished with value: 8.709682694115227 and parameters: {'n_estimators': 172, 'max_depth': 4, 'min_samples_split': 5, 'min_samples_leaf': 9}. Best is trial 71 with value: 8.70493839451526.\n",
      "[I 2023-08-10 20:40:05,684] Trial 166 finished with value: 8.70724088274503 and parameters: {'n_estimators': 178, 'max_depth': 4, 'min_samples_split': 5, 'min_samples_leaf': 9}. Best is trial 71 with value: 8.70493839451526.\n",
      "[I 2023-08-10 20:40:14,135] Trial 167 finished with value: 8.73309769994113 and parameters: {'n_estimators': 115, 'max_depth': 4, 'min_samples_split': 5, 'min_samples_leaf': 10}. Best is trial 71 with value: 8.70493839451526.\n",
      "[I 2023-08-10 20:40:26,758] Trial 168 finished with value: 8.714507197239147 and parameters: {'n_estimators': 185, 'max_depth': 4, 'min_samples_split': 5, 'min_samples_leaf': 9}. Best is trial 71 with value: 8.70493839451526.\n",
      "[I 2023-08-10 20:40:37,867] Trial 169 finished with value: 8.724221930554958 and parameters: {'n_estimators': 166, 'max_depth': 4, 'min_samples_split': 5, 'min_samples_leaf': 8}. Best is trial 71 with value: 8.70493839451526.\n",
      "[I 2023-08-10 20:40:51,410] Trial 170 finished with value: 8.713276803249462 and parameters: {'n_estimators': 190, 'max_depth': 4, 'min_samples_split': 5, 'min_samples_leaf': 9}. Best is trial 71 with value: 8.70493839451526.\n",
      "[I 2023-08-10 20:41:03,739] Trial 171 finished with value: 8.706874334776478 and parameters: {'n_estimators': 175, 'max_depth': 4, 'min_samples_split': 6, 'min_samples_leaf': 9}. Best is trial 71 with value: 8.70493839451526.\n",
      "[I 2023-08-10 20:41:15,723] Trial 172 finished with value: 8.707240882745028 and parameters: {'n_estimators': 178, 'max_depth': 4, 'min_samples_split': 5, 'min_samples_leaf': 9}. Best is trial 71 with value: 8.70493839451526.\n",
      "[I 2023-08-10 20:41:27,510] Trial 173 finished with value: 8.71045484654535 and parameters: {'n_estimators': 171, 'max_depth': 4, 'min_samples_split': 7, 'min_samples_leaf': 9}. Best is trial 71 with value: 8.70493839451526.\n",
      "[I 2023-08-10 20:41:40,921] Trial 174 finished with value: 8.713736149909044 and parameters: {'n_estimators': 183, 'max_depth': 4, 'min_samples_split': 6, 'min_samples_leaf': 9}. Best is trial 71 with value: 8.70493839451526.\n",
      "[I 2023-08-10 20:41:54,030] Trial 175 finished with value: 8.706874334776478 and parameters: {'n_estimators': 175, 'max_depth': 4, 'min_samples_split': 5, 'min_samples_leaf': 9}. Best is trial 71 with value: 8.70493839451526.\n",
      "[I 2023-08-10 20:42:06,111] Trial 176 finished with value: 8.707480372828499 and parameters: {'n_estimators': 180, 'max_depth': 4, 'min_samples_split': 5, 'min_samples_leaf': 9}. Best is trial 71 with value: 8.70493839451526.\n",
      "[I 2023-08-10 20:42:17,457] Trial 177 finished with value: 8.71045484654535 and parameters: {'n_estimators': 171, 'max_depth': 4, 'min_samples_split': 5, 'min_samples_leaf': 9}. Best is trial 71 with value: 8.70493839451526.\n",
      "[I 2023-08-10 20:42:29,205] Trial 178 finished with value: 8.704938394515258 and parameters: {'n_estimators': 176, 'max_depth': 4, 'min_samples_split': 5, 'min_samples_leaf': 9}. Best is trial 178 with value: 8.704938394515258.\n",
      "[I 2023-08-10 20:42:50,906] Trial 179 finished with value: 9.099818147060756 and parameters: {'n_estimators': 186, 'max_depth': 8, 'min_samples_split': 5, 'min_samples_leaf': 8}. Best is trial 178 with value: 8.704938394515258.\n",
      "[I 2023-08-10 20:43:01,806] Trial 180 finished with value: 8.720629539916064 and parameters: {'n_estimators': 168, 'max_depth': 4, 'min_samples_split': 5, 'min_samples_leaf': 10}. Best is trial 178 with value: 8.704938394515258.\n",
      "[I 2023-08-10 20:43:13,354] Trial 181 finished with value: 8.704938394515262 and parameters: {'n_estimators': 176, 'max_depth': 4, 'min_samples_split': 5, 'min_samples_leaf': 9}. Best is trial 178 with value: 8.704938394515258.\n",
      "[I 2023-08-10 20:43:25,461] Trial 182 finished with value: 8.70724088274503 and parameters: {'n_estimators': 178, 'max_depth': 4, 'min_samples_split': 5, 'min_samples_leaf': 9}. Best is trial 178 with value: 8.704938394515258.\n",
      "[I 2023-08-10 20:43:38,086] Trial 183 finished with value: 8.713736149909044 and parameters: {'n_estimators': 183, 'max_depth': 4, 'min_samples_split': 5, 'min_samples_leaf': 9}. Best is trial 178 with value: 8.704938394515258.\n",
      "[I 2023-08-10 20:43:49,839] Trial 184 finished with value: 8.707355340384492 and parameters: {'n_estimators': 174, 'max_depth': 4, 'min_samples_split': 5, 'min_samples_leaf': 9}. Best is trial 178 with value: 8.704938394515258.\n",
      "[I 2023-08-10 20:44:01,556] Trial 185 finished with value: 8.706812376836748 and parameters: {'n_estimators': 179, 'max_depth': 4, 'min_samples_split': 5, 'min_samples_leaf': 9}. Best is trial 178 with value: 8.704938394515258.\n",
      "[I 2023-08-10 20:44:12,886] Trial 186 finished with value: 8.71045484654535 and parameters: {'n_estimators': 171, 'max_depth': 4, 'min_samples_split': 5, 'min_samples_leaf': 9}. Best is trial 178 with value: 8.704938394515258.\n",
      "[I 2023-08-10 20:44:24,759] Trial 187 finished with value: 8.707238432929113 and parameters: {'n_estimators': 181, 'max_depth': 4, 'min_samples_split': 5, 'min_samples_leaf': 9}. Best is trial 178 with value: 8.704938394515258.\n",
      "[I 2023-08-10 20:44:36,293] Trial 188 finished with value: 8.730057361055245 and parameters: {'n_estimators': 162, 'max_depth': 4, 'min_samples_split': 5, 'min_samples_leaf': 9}. Best is trial 178 with value: 8.704938394515258.\n",
      "[I 2023-08-10 20:44:48,167] Trial 189 finished with value: 8.704938394515258 and parameters: {'n_estimators': 176, 'max_depth': 4, 'min_samples_split': 5, 'min_samples_leaf': 9}. Best is trial 178 with value: 8.704938394515258.\n",
      "[I 2023-08-10 20:45:05,606] Trial 190 finished with value: 9.014300097030329 and parameters: {'n_estimators': 166, 'max_depth': 7, 'min_samples_split': 5, 'min_samples_leaf': 9}. Best is trial 178 with value: 8.704938394515258.\n",
      "[I 2023-08-10 20:45:17,079] Trial 191 finished with value: 8.704938394515262 and parameters: {'n_estimators': 176, 'max_depth': 4, 'min_samples_split': 5, 'min_samples_leaf': 9}. Best is trial 178 with value: 8.704938394515258.\n",
      "[I 2023-08-10 20:45:28,596] Trial 192 finished with value: 8.707355340384492 and parameters: {'n_estimators': 174, 'max_depth': 4, 'min_samples_split': 5, 'min_samples_leaf': 9}. Best is trial 178 with value: 8.704938394515258.\n",
      "[I 2023-08-10 20:45:40,895] Trial 193 finished with value: 8.705794019314009 and parameters: {'n_estimators': 177, 'max_depth': 4, 'min_samples_split': 5, 'min_samples_leaf': 9}. Best is trial 178 with value: 8.704938394515258.\n",
      "[I 2023-08-10 20:45:52,478] Trial 194 finished with value: 8.712160634242009 and parameters: {'n_estimators': 170, 'max_depth': 4, 'min_samples_split': 5, 'min_samples_leaf': 9}. Best is trial 178 with value: 8.704938394515258.\n",
      "[I 2023-08-10 20:46:05,115] Trial 195 finished with value: 8.71743378047332 and parameters: {'n_estimators': 184, 'max_depth': 4, 'min_samples_split': 5, 'min_samples_leaf': 9}. Best is trial 178 with value: 8.704938394515258.\n",
      "[I 2023-08-10 20:46:16,436] Trial 196 finished with value: 8.707355340384492 and parameters: {'n_estimators': 174, 'max_depth': 4, 'min_samples_split': 5, 'min_samples_leaf': 9}. Best is trial 178 with value: 8.704938394515258.\n",
      "[I 2023-08-10 20:46:29,269] Trial 197 finished with value: 8.70724088274503 and parameters: {'n_estimators': 178, 'max_depth': 4, 'min_samples_split': 5, 'min_samples_leaf': 9}. Best is trial 178 with value: 8.704938394515258.\n",
      "[I 2023-08-10 20:46:41,725] Trial 198 finished with value: 8.805005828504148 and parameters: {'n_estimators': 182, 'max_depth': 4, 'min_samples_split': 5, 'min_samples_leaf': 4}. Best is trial 178 with value: 8.704938394515258.\n",
      "[I 2023-08-10 20:46:54,575] Trial 199 finished with value: 8.714138265084657 and parameters: {'n_estimators': 187, 'max_depth': 4, 'min_samples_split': 5, 'min_samples_leaf': 9}. Best is trial 178 with value: 8.704938394515258.\n",
      "[I 2023-08-10 20:47:06,858] Trial 200 finished with value: 8.709682694115227 and parameters: {'n_estimators': 172, 'max_depth': 4, 'min_samples_split': 5, 'min_samples_leaf': 9}. Best is trial 178 with value: 8.704938394515258.\n",
      "[I 2023-08-10 20:47:19,506] Trial 201 finished with value: 8.705794019314007 and parameters: {'n_estimators': 177, 'max_depth': 4, 'min_samples_split': 5, 'min_samples_leaf': 9}. Best is trial 178 with value: 8.704938394515258.\n",
      "[I 2023-08-10 20:47:32,400] Trial 202 finished with value: 8.707240882745026 and parameters: {'n_estimators': 178, 'max_depth': 4, 'min_samples_split': 5, 'min_samples_leaf': 9}. Best is trial 178 with value: 8.704938394515258.\n",
      "[I 2023-08-10 20:47:46,070] Trial 203 finished with value: 8.70687433477648 and parameters: {'n_estimators': 175, 'max_depth': 4, 'min_samples_split': 5, 'min_samples_leaf': 9}. Best is trial 178 with value: 8.704938394515258.\n",
      "[I 2023-08-10 20:47:57,628] Trial 204 finished with value: 8.715530708285314 and parameters: {'n_estimators': 168, 'max_depth': 4, 'min_samples_split': 5, 'min_samples_leaf': 9}. Best is trial 178 with value: 8.704938394515258.\n",
      "[I 2023-08-10 20:48:09,668] Trial 205 finished with value: 8.707238432929115 and parameters: {'n_estimators': 181, 'max_depth': 4, 'min_samples_split': 5, 'min_samples_leaf': 9}. Best is trial 178 with value: 8.704938394515258.\n",
      "[I 2023-08-10 20:48:32,065] Trial 206 finished with value: 9.078216037693652 and parameters: {'n_estimators': 177, 'max_depth': 9, 'min_samples_split': 5, 'min_samples_leaf': 9}. Best is trial 178 with value: 8.704938394515258.\n",
      "[I 2023-08-10 20:48:44,538] Trial 207 finished with value: 8.709682694115227 and parameters: {'n_estimators': 172, 'max_depth': 4, 'min_samples_split': 5, 'min_samples_leaf': 9}. Best is trial 178 with value: 8.704938394515258.\n",
      "[I 2023-08-10 20:48:56,785] Trial 208 finished with value: 8.717433780473318 and parameters: {'n_estimators': 184, 'max_depth': 4, 'min_samples_split': 5, 'min_samples_leaf': 9}. Best is trial 178 with value: 8.704938394515258.\n",
      "[I 2023-08-10 20:49:08,230] Trial 209 finished with value: 8.706874334776476 and parameters: {'n_estimators': 175, 'max_depth': 4, 'min_samples_split': 5, 'min_samples_leaf': 9}. Best is trial 178 with value: 8.704938394515258.\n",
      "[I 2023-08-10 20:49:19,434] Trial 210 finished with value: 8.72151417030316 and parameters: {'n_estimators': 168, 'max_depth': 4, 'min_samples_split': 6, 'min_samples_leaf': 8}. Best is trial 178 with value: 8.704938394515258.\n",
      "[I 2023-08-10 20:49:31,566] Trial 211 finished with value: 8.705794019314009 and parameters: {'n_estimators': 177, 'max_depth': 4, 'min_samples_split': 5, 'min_samples_leaf': 9}. Best is trial 178 with value: 8.704938394515258.\n",
      "[I 2023-08-10 20:49:43,855] Trial 212 finished with value: 8.706812376836748 and parameters: {'n_estimators': 179, 'max_depth': 4, 'min_samples_split': 5, 'min_samples_leaf': 9}. Best is trial 178 with value: 8.704938394515258.\n",
      "[I 2023-08-10 20:49:55,260] Trial 213 finished with value: 8.709682694115227 and parameters: {'n_estimators': 172, 'max_depth': 4, 'min_samples_split': 5, 'min_samples_leaf': 9}. Best is trial 178 with value: 8.704938394515258.\n",
      "[I 2023-08-10 20:50:07,140] Trial 214 finished with value: 8.707238432929113 and parameters: {'n_estimators': 181, 'max_depth': 4, 'min_samples_split': 5, 'min_samples_leaf': 9}. Best is trial 178 with value: 8.704938394515258.\n",
      "[I 2023-08-10 20:50:18,575] Trial 215 finished with value: 8.70493839451526 and parameters: {'n_estimators': 176, 'max_depth': 4, 'min_samples_split': 5, 'min_samples_leaf': 9}. Best is trial 178 with value: 8.704938394515258.\n",
      "[I 2023-08-10 20:50:29,894] Trial 216 finished with value: 8.707355340384492 and parameters: {'n_estimators': 174, 'max_depth': 4, 'min_samples_split': 5, 'min_samples_leaf': 9}. Best is trial 178 with value: 8.704938394515258.\n",
      "[I 2023-08-10 20:50:41,932] Trial 217 finished with value: 8.714507197239147 and parameters: {'n_estimators': 185, 'max_depth': 4, 'min_samples_split': 5, 'min_samples_leaf': 9}. Best is trial 178 with value: 8.704938394515258.\n",
      "[I 2023-08-10 20:50:53,201] Trial 218 finished with value: 8.71045484654535 and parameters: {'n_estimators': 171, 'max_depth': 4, 'min_samples_split': 5, 'min_samples_leaf': 9}. Best is trial 178 with value: 8.704938394515258.\n",
      "[I 2023-08-10 20:51:05,035] Trial 219 finished with value: 8.71249080656545 and parameters: {'n_estimators': 180, 'max_depth': 4, 'min_samples_split': 5, 'min_samples_leaf': 10}. Best is trial 178 with value: 8.704938394515258.\n",
      "[I 2023-08-10 20:51:13,485] Trial 220 finished with value: 8.7256804427543 and parameters: {'n_estimators': 128, 'max_depth': 4, 'min_samples_split': 4, 'min_samples_leaf': 9}. Best is trial 178 with value: 8.704938394515258.\n",
      "[I 2023-08-10 20:51:24,858] Trial 221 finished with value: 8.70493839451526 and parameters: {'n_estimators': 176, 'max_depth': 4, 'min_samples_split': 5, 'min_samples_leaf': 9}. Best is trial 178 with value: 8.704938394515258.\n",
      "[I 2023-08-10 20:51:36,984] Trial 222 finished with value: 8.705794019314007 and parameters: {'n_estimators': 177, 'max_depth': 4, 'min_samples_split': 5, 'min_samples_leaf': 9}. Best is trial 178 with value: 8.704938394515258.\n",
      "[I 2023-08-10 20:51:50,375] Trial 223 finished with value: 8.706874334776478 and parameters: {'n_estimators': 175, 'max_depth': 4, 'min_samples_split': 5, 'min_samples_leaf': 9}. Best is trial 178 with value: 8.704938394515258.\n",
      "[I 2023-08-10 20:52:03,998] Trial 224 finished with value: 8.707238432929113 and parameters: {'n_estimators': 181, 'max_depth': 4, 'min_samples_split': 5, 'min_samples_leaf': 9}. Best is trial 178 with value: 8.704938394515258.\n",
      "[I 2023-08-10 20:52:15,322] Trial 225 finished with value: 8.712160634242009 and parameters: {'n_estimators': 170, 'max_depth': 4, 'min_samples_split': 5, 'min_samples_leaf': 9}. Best is trial 178 with value: 8.704938394515258.\n",
      "[I 2023-08-10 20:52:27,061] Trial 226 finished with value: 8.706874334776476 and parameters: {'n_estimators': 175, 'max_depth': 4, 'min_samples_split': 5, 'min_samples_leaf': 9}. Best is trial 178 with value: 8.704938394515258.\n",
      "[I 2023-08-10 20:52:39,086] Trial 227 finished with value: 8.719580266588064 and parameters: {'n_estimators': 166, 'max_depth': 4, 'min_samples_split': 5, 'min_samples_leaf': 9}. Best is trial 178 with value: 8.704938394515258.\n",
      "[I 2023-08-10 20:52:51,351] Trial 228 finished with value: 8.707240882745028 and parameters: {'n_estimators': 178, 'max_depth': 4, 'min_samples_split': 5, 'min_samples_leaf': 9}. Best is trial 178 with value: 8.704938394515258.\n",
      "[I 2023-08-10 20:53:02,620] Trial 229 finished with value: 8.709682694115228 and parameters: {'n_estimators': 172, 'max_depth': 4, 'min_samples_split': 7, 'min_samples_leaf': 9}. Best is trial 178 with value: 8.704938394515258.\n",
      "[I 2023-08-10 20:53:14,665] Trial 230 finished with value: 8.710585043129123 and parameters: {'n_estimators': 182, 'max_depth': 4, 'min_samples_split': 5, 'min_samples_leaf': 9}. Best is trial 178 with value: 8.704938394515258.\n",
      "[I 2023-08-10 20:53:26,173] Trial 231 finished with value: 8.70493839451526 and parameters: {'n_estimators': 176, 'max_depth': 4, 'min_samples_split': 5, 'min_samples_leaf': 9}. Best is trial 178 with value: 8.704938394515258.\n",
      "[I 2023-08-10 20:53:37,525] Trial 232 finished with value: 8.704938394515262 and parameters: {'n_estimators': 176, 'max_depth': 4, 'min_samples_split': 5, 'min_samples_leaf': 9}. Best is trial 178 with value: 8.704938394515258.\n",
      "[I 2023-08-10 20:53:49,604] Trial 233 finished with value: 8.70735534038449 and parameters: {'n_estimators': 174, 'max_depth': 4, 'min_samples_split': 5, 'min_samples_leaf': 9}. Best is trial 178 with value: 8.704938394515258.\n",
      "[I 2023-08-10 20:54:02,055] Trial 234 finished with value: 8.706812376836748 and parameters: {'n_estimators': 179, 'max_depth': 4, 'min_samples_split': 9, 'min_samples_leaf': 9}. Best is trial 178 with value: 8.704938394515258.\n",
      "[I 2023-08-10 20:54:13,788] Trial 235 finished with value: 8.713543250958546 and parameters: {'n_estimators': 169, 'max_depth': 4, 'min_samples_split': 5, 'min_samples_leaf': 9}. Best is trial 178 with value: 8.704938394515258.\n",
      "[I 2023-08-10 20:54:25,811] Trial 236 finished with value: 8.707355340384492 and parameters: {'n_estimators': 174, 'max_depth': 4, 'min_samples_split': 5, 'min_samples_leaf': 9}. Best is trial 178 with value: 8.704938394515258.\n",
      "[I 2023-08-10 20:54:32,984] Trial 237 finished with value: 8.732230305563329 and parameters: {'n_estimators': 98, 'max_depth': 4, 'min_samples_split': 5, 'min_samples_leaf': 9}. Best is trial 178 with value: 8.704938394515258.\n",
      "[I 2023-08-10 20:54:46,319] Trial 238 finished with value: 8.713736149909046 and parameters: {'n_estimators': 183, 'max_depth': 4, 'min_samples_split': 4, 'min_samples_leaf': 9}. Best is trial 178 with value: 8.704938394515258.\n",
      "[I 2023-08-10 20:54:59,012] Trial 239 finished with value: 8.707240882745028 and parameters: {'n_estimators': 178, 'max_depth': 4, 'min_samples_split': 5, 'min_samples_leaf': 9}. Best is trial 178 with value: 8.704938394515258.\n",
      "[I 2023-08-10 20:55:13,429] Trial 240 finished with value: 8.714138265084655 and parameters: {'n_estimators': 187, 'max_depth': 4, 'min_samples_split': 5, 'min_samples_leaf': 9}. Best is trial 178 with value: 8.704938394515258.\n",
      "[I 2023-08-10 20:55:25,554] Trial 241 finished with value: 8.704938394515258 and parameters: {'n_estimators': 176, 'max_depth': 4, 'min_samples_split': 5, 'min_samples_leaf': 9}. Best is trial 178 with value: 8.704938394515258.\n",
      "[I 2023-08-10 20:55:36,894] Trial 242 finished with value: 8.709682694115228 and parameters: {'n_estimators': 172, 'max_depth': 4, 'min_samples_split': 5, 'min_samples_leaf': 9}. Best is trial 178 with value: 8.704938394515258.\n",
      "[I 2023-08-10 20:55:48,665] Trial 243 finished with value: 8.70493839451526 and parameters: {'n_estimators': 176, 'max_depth': 4, 'min_samples_split': 5, 'min_samples_leaf': 9}. Best is trial 178 with value: 8.704938394515258.\n",
      "[I 2023-08-10 20:56:00,535] Trial 244 finished with value: 8.757183637660253 and parameters: {'n_estimators': 175, 'max_depth': 4, 'min_samples_split': 5, 'min_samples_leaf': 6}. Best is trial 178 with value: 8.704938394515258.\n",
      "[I 2023-08-10 20:56:12,562] Trial 245 finished with value: 8.707238432929113 and parameters: {'n_estimators': 181, 'max_depth': 4, 'min_samples_split': 5, 'min_samples_leaf': 9}. Best is trial 178 with value: 8.704938394515258.\n",
      "[I 2023-08-10 20:56:23,835] Trial 246 finished with value: 8.822957637124357 and parameters: {'n_estimators': 171, 'max_depth': 4, 'min_samples_split': 5, 'min_samples_leaf': 2}. Best is trial 178 with value: 8.704938394515258.\n",
      "[I 2023-08-10 20:56:35,412] Trial 247 finished with value: 8.705794019314009 and parameters: {'n_estimators': 177, 'max_depth': 4, 'min_samples_split': 5, 'min_samples_leaf': 9}. Best is trial 178 with value: 8.704938394515258.\n",
      "[I 2023-08-10 20:56:46,607] Trial 248 finished with value: 8.719580266588064 and parameters: {'n_estimators': 166, 'max_depth': 4, 'min_samples_split': 5, 'min_samples_leaf': 9}. Best is trial 178 with value: 8.704938394515258.\n",
      "[I 2023-08-10 20:56:58,737] Trial 249 finished with value: 8.707238432929115 and parameters: {'n_estimators': 181, 'max_depth': 4, 'min_samples_split': 4, 'min_samples_leaf': 9}. Best is trial 178 with value: 8.704938394515258.\n"
     ]
    },
    {
     "name": "stdout",
     "output_type": "stream",
     "text": [
      "Best trial: {'n_estimators': 176, 'max_depth': 4, 'min_samples_split': 5, 'min_samples_leaf': 9}\n",
      "Best RMSE: 8.704938394515258\n"
     ]
    }
   ],
   "source": [
    "# Create a study object\n",
    "study_rf = optuna.create_study(direction=\"minimize\")\n",
    "study_rf.optimize(lambda trial: objectiveFun(trial, 'RandomForestRegressor'), n_trials=250)\n",
    "\n",
    "# Results\n",
    "print(f\"Best trial: {study_rf.best_trial.params}\")\n",
    "print(f\"Best RMSE: {study_rf.best_value}\")"
   ]
  },
  {
   "cell_type": "markdown",
   "metadata": {},
   "source": [
    "Hasil output code di atas:\n",
    "    \n",
    "    Best trial: {'n_estimators': 176, 'max_depth': 4, 'min_samples_split': 5, 'min_samples_leaf': 9}\n",
    "Best RMSE: 8.704938394515258"
   ]
  },
  {
   "cell_type": "markdown",
   "metadata": {},
   "source": [
    "Berdasarkan hasil hyperparameter tuning dengan menggunakan optuna terhadap model RandomForestRegressor diperoleh nilai metrik sMAPE sebesar 8.7049. Selanjutnya kita akan melatihan model XGBoost, apakah akan diperoleh model yang lebih baik lagi?"
   ]
  },
  {
   "cell_type": "markdown",
   "metadata": {},
   "source": [
    "<div class=\"alert alert-success\">\n",
    "<b>Chamdani's comment v.1</b> <a class=\"tocSkip\"></a>\n",
    "\n",
    "Hebat, Kerja bagus!\n",
    "\n",
    "</div>"
   ]
  },
  {
   "cell_type": "markdown",
   "metadata": {},
   "source": [
    "### XGBoost"
   ]
  },
  {
   "cell_type": "code",
   "execution_count": 53,
   "metadata": {},
   "outputs": [
    {
     "name": "stderr",
     "output_type": "stream",
     "text": [
      "[I 2023-08-10 20:56:58,751] A new study created in memory with name: no-name-ead6d8e1-7716-4909-b0d2-abc3afa278ff\n",
      "[I 2023-08-10 20:57:02,089] Trial 0 finished with value: 10.298413865328415 and parameters: {'learning_rate': 0.2790001843906306, 'n_estimators': 28, 'max_depth': 6, 'gamma': 0.5171124528822385, 'reg_alpha': 0.3924964951863429, 'reg_lambda': 0.7225162013474786}. Best is trial 0 with value: 10.298413865328415.\n",
      "[I 2023-08-10 20:57:04,128] Trial 1 finished with value: 9.588445215633694 and parameters: {'learning_rate': 0.16600834624282074, 'n_estimators': 67, 'max_depth': 4, 'gamma': 0.9685895077935834, 'reg_alpha': 0.40996040812788903, 'reg_lambda': 0.740398660874491}. Best is trial 1 with value: 9.588445215633694.\n",
      "[I 2023-08-10 20:57:08,857] Trial 2 finished with value: 9.236153187668695 and parameters: {'learning_rate': 0.03628257144965065, 'n_estimators': 181, 'max_depth': 4, 'gamma': 0.9430833888968649, 'reg_alpha': 0.8937736182502455, 'reg_lambda': 0.34133767435216283}. Best is trial 2 with value: 9.236153187668695.\n",
      "[I 2023-08-10 20:57:10,245] Trial 3 finished with value: 9.257319298243893 and parameters: {'learning_rate': 0.20036306768203246, 'n_estimators': 40, 'max_depth': 4, 'gamma': 0.7872447777133119, 'reg_alpha': 0.9795458498966624, 'reg_lambda': 0.35737442953188214}. Best is trial 2 with value: 9.236153187668695.\n",
      "[I 2023-08-10 20:57:26,926] Trial 4 finished with value: 10.504870086546727 and parameters: {'learning_rate': 0.16323345356049676, 'n_estimators': 94, 'max_depth': 9, 'gamma': 0.13848521247810064, 'reg_alpha': 0.19659695330476795, 'reg_lambda': 0.3150135750425519}. Best is trial 2 with value: 9.236153187668695.\n",
      "[I 2023-08-10 20:57:31,554] Trial 5 finished with value: 10.541156803204062 and parameters: {'learning_rate': 0.19539647484236225, 'n_estimators': 83, 'max_depth': 6, 'gamma': 0.48812297576175667, 'reg_alpha': 0.6501773236253969, 'reg_lambda': 0.7714102897352666}. Best is trial 2 with value: 9.236153187668695.\n",
      "[I 2023-08-10 20:58:00,055] Trial 6 finished with value: 10.341943926623339 and parameters: {'learning_rate': 0.038730683900720916, 'n_estimators': 165, 'max_depth': 9, 'gamma': 0.31457102491029426, 'reg_alpha': 0.6996900926383256, 'reg_lambda': 0.43363197403192755}. Best is trial 2 with value: 9.236153187668695.\n",
      "[I 2023-08-10 20:58:21,427] Trial 7 finished with value: 10.903847491952423 and parameters: {'learning_rate': 0.2463020613538276, 'n_estimators': 142, 'max_depth': 9, 'gamma': 0.13119937082966843, 'reg_alpha': 0.15280514387934266, 'reg_lambda': 0.29212729476892724}. Best is trial 2 with value: 9.236153187668695.\n",
      "[I 2023-08-10 20:58:25,222] Trial 8 finished with value: 9.675422449530075 and parameters: {'learning_rate': 0.10618616607525073, 'n_estimators': 198, 'max_depth': 3, 'gamma': 0.7321652521039992, 'reg_alpha': 0.32627875240853044, 'reg_lambda': 0.908161855139909}. Best is trial 2 with value: 9.236153187668695.\n",
      "[I 2023-08-10 20:58:37,843] Trial 9 finished with value: 9.876320216877577 and parameters: {'learning_rate': 0.04605919991643735, 'n_estimators': 100, 'max_depth': 8, 'gamma': 0.7049302734266676, 'reg_alpha': 0.6658691497488491, 'reg_lambda': 0.22307136302125635}. Best is trial 2 with value: 9.236153187668695.\n",
      "[I 2023-08-10 20:58:43,173] Trial 10 finished with value: 9.736646620379597 and parameters: {'learning_rate': 0.09213126708527533, 'n_estimators': 143, 'max_depth': 5, 'gamma': 0.9807003866872598, 'reg_alpha': 0.9753442042252611, 'reg_lambda': 0.1726073919739281}. Best is trial 2 with value: 9.236153187668695.\n",
      "[I 2023-08-10 20:58:43,861] Trial 11 finished with value: 123.82652110895306 and parameters: {'learning_rate': 0.018325877535902008, 'n_estimators': 14, 'max_depth': 3, 'gamma': 0.7946997064667054, 'reg_alpha': 0.9812639373007875, 'reg_lambda': 0.4986062204568692}. Best is trial 2 with value: 9.236153187668695.\n",
      "[I 2023-08-10 20:58:45,458] Trial 12 finished with value: 9.57811813328181 and parameters: {'learning_rate': 0.21386649336934854, 'n_estimators': 47, 'max_depth': 4, 'gamma': 0.8604401832441054, 'reg_alpha': 0.8643587660193752, 'reg_lambda': 0.4268133154083108}. Best is trial 2 with value: 9.236153187668695.\n",
      "[I 2023-08-10 20:58:52,614] Trial 13 finished with value: 9.954789387566137 and parameters: {'learning_rate': 0.10792940482807983, 'n_estimators': 198, 'max_depth': 5, 'gamma': 0.877529703425824, 'reg_alpha': 0.8286907193883716, 'reg_lambda': 0.11293591933479971}. Best is trial 2 with value: 9.236153187668695.\n",
      "[I 2023-08-10 20:58:56,058] Trial 14 finished with value: 9.83829481142389 and parameters: {'learning_rate': 0.13235969691123076, 'n_estimators': 128, 'max_depth': 4, 'gamma': 0.6407962632620721, 'reg_alpha': 0.7895489710986437, 'reg_lambda': 0.34798371693837854}. Best is trial 2 with value: 9.236153187668695.\n",
      "[I 2023-08-10 20:58:58,418] Trial 15 finished with value: 9.775392330259416 and parameters: {'learning_rate': 0.06700800549626498, 'n_estimators': 53, 'max_depth': 5, 'gamma': 0.868338593102012, 'reg_alpha': 0.9937580037961037, 'reg_lambda': 0.6143037884304268}. Best is trial 2 with value: 9.236153187668695.\n",
      "[I 2023-08-10 20:59:11,724] Trial 16 finished with value: 10.329961895657808 and parameters: {'learning_rate': 0.13899883679065422, 'n_estimators': 173, 'max_depth': 7, 'gamma': 0.9994476734078943, 'reg_alpha': 0.5529145368694319, 'reg_lambda': 0.5513819670248935}. Best is trial 2 with value: 9.236153187668695.\n",
      "[I 2023-08-10 20:59:14,192] Trial 17 finished with value: 15.71238523624956 and parameters: {'learning_rate': 0.017912518764543903, 'n_estimators': 116, 'max_depth': 3, 'gamma': 0.6350412639900826, 'reg_alpha': 0.8993766389604331, 'reg_lambda': 0.224805635192732}. Best is trial 2 with value: 9.236153187668695.\n",
      "[I 2023-08-10 20:59:18,497] Trial 18 finished with value: 9.361058756527527 and parameters: {'learning_rate': 0.07482797267249033, 'n_estimators': 165, 'max_depth': 4, 'gamma': 0.7788981363296809, 'reg_alpha': 0.7703235874193746, 'reg_lambda': 0.3882767248535576}. Best is trial 2 with value: 9.236153187668695.\n",
      "[I 2023-08-10 20:59:24,569] Trial 19 finished with value: 10.748386086325423 and parameters: {'learning_rate': 0.19770923268693577, 'n_estimators': 74, 'max_depth': 7, 'gamma': 0.8957736709559181, 'reg_alpha': 0.9232791854504103, 'reg_lambda': 0.2835920305046203}. Best is trial 2 with value: 9.236153187668695.\n",
      "[I 2023-08-10 20:59:26,315] Trial 20 finished with value: 9.421788461184676 and parameters: {'learning_rate': 0.1261987772593941, 'n_estimators': 37, 'max_depth': 5, 'gamma': 0.7973435373336454, 'reg_alpha': 0.883955361647823, 'reg_lambda': 0.1069919308977959}. Best is trial 2 with value: 9.236153187668695.\n",
      "[I 2023-08-10 20:59:30,947] Trial 21 finished with value: 9.562812656620636 and parameters: {'learning_rate': 0.0749856377979968, 'n_estimators': 173, 'max_depth': 4, 'gamma': 0.7613208907409591, 'reg_alpha': 0.7830789697649005, 'reg_lambda': 0.39462748969311334}. Best is trial 2 with value: 9.236153187668695.\n",
      "[I 2023-08-10 20:59:35,076] Trial 22 finished with value: 9.511083179258302 and parameters: {'learning_rate': 0.05583385352483804, 'n_estimators': 156, 'max_depth': 4, 'gamma': 0.8228209729215874, 'reg_alpha': 0.7516363036753689, 'reg_lambda': 0.36979685389436234}. Best is trial 2 with value: 9.236153187668695.\n",
      "[I 2023-08-10 20:59:38,495] Trial 23 finished with value: 9.426513003768651 and parameters: {'learning_rate': 0.07989275175025069, 'n_estimators': 176, 'max_depth': 3, 'gamma': 0.921729283665296, 'reg_alpha': 0.8317867275179631, 'reg_lambda': 0.4739544787055397}. Best is trial 2 with value: 9.236153187668695.\n",
      "[I 2023-08-10 20:59:45,703] Trial 24 finished with value: 12.749642560945484 and parameters: {'learning_rate': 0.013195378912680335, 'n_estimators': 190, 'max_depth': 5, 'gamma': 0.9094256986796535, 'reg_alpha': 0.9130033978944908, 'reg_lambda': 0.4011675205447083}. Best is trial 2 with value: 9.236153187668695.\n",
      "[I 2023-08-10 20:59:48,931] Trial 25 finished with value: 9.104246041705238 and parameters: {'learning_rate': 0.044124106788501066, 'n_estimators': 119, 'max_depth': 4, 'gamma': 0.7028269303732321, 'reg_alpha': 0.7393622842750835, 'reg_lambda': 0.3219070276537832}. Best is trial 25 with value: 9.104246041705238.\n",
      "[I 2023-08-10 20:59:55,998] Trial 26 finished with value: 9.632751618319947 and parameters: {'learning_rate': 0.047236138965548596, 'n_estimators': 127, 'max_depth': 6, 'gamma': 0.6718523124287233, 'reg_alpha': 0.9996605539608255, 'reg_lambda': 0.2586701734763653}. Best is trial 25 with value: 9.104246041705238.\n",
      "[I 2023-08-10 20:59:57,583] Trial 27 finished with value: 13.172485328754666 and parameters: {'learning_rate': 0.03580514199598762, 'n_estimators': 65, 'max_depth': 3, 'gamma': 0.6129316142907876, 'reg_alpha': 0.8468368177146636, 'reg_lambda': 0.3277672073530577}. Best is trial 25 with value: 9.104246041705238.\n",
      "[I 2023-08-10 21:00:01,773] Trial 28 finished with value: 9.765162437988291 and parameters: {'learning_rate': 0.1057977705276031, 'n_estimators': 110, 'max_depth': 5, 'gamma': 0.7292210296333147, 'reg_alpha': 0.9287706027729017, 'reg_lambda': 0.18659488636923108}. Best is trial 25 with value: 9.104246041705238.\n",
      "[I 2023-08-10 21:00:02,752] Trial 29 finished with value: 11.493565282488834 and parameters: {'learning_rate': 0.2902253737778784, 'n_estimators': 10, 'max_depth': 6, 'gamma': 0.5507570601897346, 'reg_alpha': 0.6011727581207982, 'reg_lambda': 0.31764699002380076}. Best is trial 25 with value: 9.104246041705238.\n",
      "[I 2023-08-10 21:00:03,897] Trial 30 finished with value: 24.64802241475217 and parameters: {'learning_rate': 0.05480040640278073, 'n_estimators': 28, 'max_depth': 4, 'gamma': 0.827101486242438, 'reg_alpha': 0.6958053118795692, 'reg_lambda': 0.48884825273430854}. Best is trial 25 with value: 9.104246041705238.\n",
      "[I 2023-08-10 21:00:07,917] Trial 31 finished with value: 9.534635538507887 and parameters: {'learning_rate': 0.06857385687582021, 'n_estimators': 148, 'max_depth': 4, 'gamma': 0.7691951395029535, 'reg_alpha': 0.7896123032239892, 'reg_lambda': 0.3652877132944934}. Best is trial 25 with value: 9.104246041705238.\n",
      "[I 2023-08-10 21:00:12,734] Trial 32 finished with value: 9.119370202789922 and parameters: {'learning_rate': 0.0313661330778562, 'n_estimators': 182, 'max_depth': 4, 'gamma': 0.9430356683023287, 'reg_alpha': 0.7481092489550625, 'reg_lambda': 0.26353774020960213}. Best is trial 25 with value: 9.104246041705238.\n",
      "[I 2023-08-10 21:00:16,280] Trial 33 finished with value: 8.850530639268433 and parameters: {'learning_rate': 0.032563228675522506, 'n_estimators': 185, 'max_depth': 3, 'gamma': 0.9545167211504634, 'reg_alpha': 0.7174226278268697, 'reg_lambda': 0.26917606075288814}. Best is trial 33 with value: 8.850530639268433.\n",
      "[I 2023-08-10 21:00:19,805] Trial 34 finished with value: 8.840046622618384 and parameters: {'learning_rate': 0.03285855970048331, 'n_estimators': 184, 'max_depth': 3, 'gamma': 0.9447386502956059, 'reg_alpha': 0.72812293411344, 'reg_lambda': 0.2555772408078157}. Best is trial 34 with value: 8.840046622618384.\n",
      "[I 2023-08-10 21:00:23,384] Trial 35 finished with value: 8.814442197617291 and parameters: {'learning_rate': 0.026417044397227384, 'n_estimators': 187, 'max_depth': 3, 'gamma': 0.9559127803041918, 'reg_alpha': 0.7308679314608206, 'reg_lambda': 0.27017888307906646}. Best is trial 35 with value: 8.814442197617291.\n",
      "[I 2023-08-10 21:00:27,040] Trial 36 finished with value: 17.82845223792945 and parameters: {'learning_rate': 0.010389502367747931, 'n_estimators': 185, 'max_depth': 3, 'gamma': 0.9429894635010563, 'reg_alpha': 0.6254502182227069, 'reg_lambda': 0.1702615685248925}. Best is trial 35 with value: 8.814442197617291.\n",
      "[I 2023-08-10 21:00:30,211] Trial 37 finished with value: 8.83816704204031 and parameters: {'learning_rate': 0.031653562347132416, 'n_estimators': 161, 'max_depth': 3, 'gamma': 0.999985899775822, 'reg_alpha': 0.7215014593126193, 'reg_lambda': 0.2751559941994415}. Best is trial 35 with value: 8.814442197617291.\n",
      "[I 2023-08-10 21:00:33,350] Trial 38 finished with value: 8.857990594320615 and parameters: {'learning_rate': 0.027841902713931756, 'n_estimators': 160, 'max_depth': 3, 'gamma': 0.9958105694220408, 'reg_alpha': 0.6988892077868442, 'reg_lambda': 0.24069089946548386}. Best is trial 35 with value: 8.814442197617291.\n",
      "[I 2023-08-10 21:00:36,999] Trial 39 finished with value: 8.851042084641453 and parameters: {'learning_rate': 0.029109717218207626, 'n_estimators': 190, 'max_depth': 3, 'gamma': 0.9463894567314183, 'reg_alpha': 0.5824468856993767, 'reg_lambda': 0.28631589604074265}. Best is trial 35 with value: 8.814442197617291.\n",
      "[I 2023-08-10 21:00:39,989] Trial 40 finished with value: 9.08046221019352 and parameters: {'learning_rate': 0.05338942772562209, 'n_estimators': 151, 'max_depth': 3, 'gamma': 0.9611371052342977, 'reg_alpha': 0.5051439800639873, 'reg_lambda': 0.21706272204229293}. Best is trial 35 with value: 8.814442197617291.\n",
      "[I 2023-08-10 21:00:43,624] Trial 41 finished with value: 8.858491136507642 and parameters: {'learning_rate': 0.025592408108403013, 'n_estimators': 192, 'max_depth': 3, 'gamma': 0.9268046046575834, 'reg_alpha': 0.652354322861785, 'reg_lambda': 0.2910221395384557}. Best is trial 35 with value: 8.814442197617291.\n",
      "[I 2023-08-10 21:00:47,545] Trial 42 finished with value: 8.935581688368426 and parameters: {'learning_rate': 0.0325839024406919, 'n_estimators': 200, 'max_depth': 3, 'gamma': 0.9672124918412623, 'reg_alpha': 0.5891539453515112, 'reg_lambda': 0.26711180822810054}. Best is trial 35 with value: 8.814442197617291.\n",
      "[I 2023-08-10 21:00:50,915] Trial 43 finished with value: 8.864503517923882 and parameters: {'learning_rate': 0.027691275309679454, 'n_estimators': 169, 'max_depth': 3, 'gamma': 0.8939504619842245, 'reg_alpha': 0.7066129042362762, 'reg_lambda': 0.16354015302754915}. Best is trial 35 with value: 8.814442197617291.\n",
      "[I 2023-08-10 21:00:54,750] Trial 44 finished with value: 14.37218093321917 and parameters: {'learning_rate': 0.011981938629884246, 'n_estimators': 185, 'max_depth': 3, 'gamma': 0.8458480307799989, 'reg_alpha': 0.637154622117577, 'reg_lambda': 0.3086124329730917}. Best is trial 35 with value: 8.814442197617291.\n",
      "[I 2023-08-10 21:00:57,491] Trial 45 finished with value: 8.892714408708661 and parameters: {'learning_rate': 0.04140798976699179, 'n_estimators': 136, 'max_depth': 3, 'gamma': 0.9974615246012226, 'reg_alpha': 0.6782116943393454, 'reg_lambda': 0.2130684014798828}. Best is trial 35 with value: 8.814442197617291.\n",
      "[I 2023-08-10 21:01:01,417] Trial 46 finished with value: 9.262985061835499 and parameters: {'learning_rate': 0.05783864809969494, 'n_estimators': 192, 'max_depth': 3, 'gamma': 0.9347265895618369, 'reg_alpha': 0.7273403923861931, 'reg_lambda': 0.1346372338987596}. Best is trial 35 with value: 8.814442197617291.\n",
      "[I 2023-08-10 21:01:06,140] Trial 47 finished with value: 9.717136818066319 and parameters: {'learning_rate': 0.08706789046338609, 'n_estimators': 177, 'max_depth': 4, 'gamma': 0.8934195348183115, 'reg_alpha': 0.6636373480252432, 'reg_lambda': 0.14612967130289828}. Best is trial 35 with value: 8.814442197617291.\n",
      "[I 2023-08-10 21:01:25,282] Trial 48 finished with value: 10.072417471860156 and parameters: {'learning_rate': 0.06270408561327549, 'n_estimators': 160, 'max_depth': 8, 'gamma': 0.863500932376184, 'reg_alpha': 0.5242623846064919, 'reg_lambda': 0.18991419629186404}. Best is trial 35 with value: 8.814442197617291.\n",
      "[I 2023-08-10 21:01:28,872] Trial 49 finished with value: 9.139734771071547 and parameters: {'learning_rate': 0.04493648582881095, 'n_estimators': 189, 'max_depth': 3, 'gamma': 0.9650104423134845, 'reg_alpha': 0.8098781655924422, 'reg_lambda': 0.24355722027634436}. Best is trial 35 with value: 8.814442197617291.\n",
      "[I 2023-08-10 21:01:34,107] Trial 50 finished with value: 9.147689079384694 and parameters: {'learning_rate': 0.027466041890383028, 'n_estimators': 200, 'max_depth': 4, 'gamma': 0.8381799233513785, 'reg_alpha': 0.717764803093493, 'reg_lambda': 0.2839327108049939}. Best is trial 35 with value: 8.814442197617291.\n",
      "[I 2023-08-10 21:01:37,302] Trial 51 finished with value: 9.454128473911215 and parameters: {'learning_rate': 0.021500553946294586, 'n_estimators': 158, 'max_depth': 3, 'gamma': 0.9873086742725892, 'reg_alpha': 0.6947715266403022, 'reg_lambda': 0.24260662725135834}. Best is trial 35 with value: 8.814442197617291.\n",
      "[I 2023-08-10 21:01:40,562] Trial 52 finished with value: 8.903050580540729 and parameters: {'learning_rate': 0.036830476207060876, 'n_estimators': 165, 'max_depth': 3, 'gamma': 0.9953608170249658, 'reg_alpha': 0.7528529555563072, 'reg_lambda': 0.34820172260057536}. Best is trial 35 with value: 8.814442197617291.\n",
      "[I 2023-08-10 21:01:44,144] Trial 53 finished with value: 9.171501216247647 and parameters: {'learning_rate': 0.02068345015342389, 'n_estimators': 180, 'max_depth': 3, 'gamma': 0.9209641779910388, 'reg_alpha': 0.6796701283170054, 'reg_lambda': 0.19301978587894628}. Best is trial 35 with value: 8.814442197617291.\n",
      "[I 2023-08-10 21:01:47,447] Trial 54 finished with value: 9.288764684539357 and parameters: {'learning_rate': 0.06349712998245177, 'n_estimators': 168, 'max_depth': 3, 'gamma': 0.9554237240700547, 'reg_alpha': 0.8027715149061758, 'reg_lambda': 0.22297154136000247}. Best is trial 35 with value: 8.814442197617291.\n",
      "[I 2023-08-10 21:01:51,298] Trial 55 finished with value: 9.267702598212413 and parameters: {'learning_rate': 0.048107380082365356, 'n_estimators': 142, 'max_depth': 4, 'gamma': 0.8841156154658673, 'reg_alpha': 0.7245886150339285, 'reg_lambda': 0.28601820133117023}. Best is trial 35 with value: 8.814442197617291.\n",
      "[I 2023-08-10 21:01:59,258] Trial 56 finished with value: 10.94437372351754 and parameters: {'learning_rate': 0.035634337090001765, 'n_estimators': 91, 'max_depth': 7, 'gamma': 0.9657023811505745, 'reg_alpha': 0.6211407280010373, 'reg_lambda': 0.24774146970445032}. Best is trial 35 with value: 8.814442197617291.\n",
      "[I 2023-08-10 21:02:02,758] Trial 57 finished with value: 8.987725003175601 and parameters: {'learning_rate': 0.02273801147124394, 'n_estimators': 177, 'max_depth': 3, 'gamma': 0.9988170439747567, 'reg_alpha': 0.7765471146382747, 'reg_lambda': 0.1296291605083693}. Best is trial 35 with value: 8.814442197617291.\n",
      "[I 2023-08-10 21:02:06,560] Trial 58 finished with value: 12.10249225261117 and parameters: {'learning_rate': 0.01307399568991736, 'n_estimators': 193, 'max_depth': 3, 'gamma': 0.912698702959824, 'reg_alpha': 0.5742439900986621, 'reg_lambda': 0.3113631130919992}. Best is trial 35 with value: 8.814442197617291.\n",
      "[I 2023-08-10 21:02:10,898] Trial 59 finished with value: 9.556563701286354 and parameters: {'learning_rate': 0.07055026772728215, 'n_estimators': 162, 'max_depth': 4, 'gamma': 0.8598949799225024, 'reg_alpha': 0.647133281643543, 'reg_lambda': 0.35305771952050047}. Best is trial 35 with value: 8.814442197617291.\n",
      "[I 2023-08-10 21:02:15,497] Trial 60 finished with value: 9.161769008974352 and parameters: {'learning_rate': 0.05093609704711159, 'n_estimators': 172, 'max_depth': 4, 'gamma': 0.8140381385491254, 'reg_alpha': 0.8209245416128114, 'reg_lambda': 0.4312853143288994}. Best is trial 35 with value: 8.814442197617291.\n",
      "[I 2023-08-10 21:02:19,215] Trial 61 finished with value: 8.793256212601133 and parameters: {'learning_rate': 0.027199926551275552, 'n_estimators': 193, 'max_depth': 3, 'gamma': 0.9272471531339309, 'reg_alpha': 0.6671603565089761, 'reg_lambda': 0.292989884122792}. Best is trial 61 with value: 8.793256212601133.\n",
      "[I 2023-08-10 21:02:22,676] Trial 62 finished with value: 8.94331884063539 and parameters: {'learning_rate': 0.03867461177815481, 'n_estimators': 184, 'max_depth': 3, 'gamma': 0.9394056871927037, 'reg_alpha': 0.6916366389987818, 'reg_lambda': 0.32919517024374917}. Best is trial 61 with value: 8.793256212601133.\n",
      "[I 2023-08-10 21:02:26,565] Trial 63 finished with value: 8.818427275225556 and parameters: {'learning_rate': 0.027345042520124353, 'n_estimators': 194, 'max_depth': 3, 'gamma': 0.9001089826101177, 'reg_alpha': 0.7609210996201135, 'reg_lambda': 0.21052131622526637}. Best is trial 61 with value: 8.793256212601133.\n",
      "[I 2023-08-10 21:02:30,682] Trial 64 finished with value: 16.453518458616344 and parameters: {'learning_rate': 0.010270624249106675, 'n_estimators': 197, 'max_depth': 3, 'gamma': 0.8845038278479722, 'reg_alpha': 0.7666195139862967, 'reg_lambda': 0.20034506437568245}. Best is trial 61 with value: 8.793256212601133.\n",
      "[I 2023-08-10 21:02:34,291] Trial 65 finished with value: 9.025265507917839 and parameters: {'learning_rate': 0.04257364234352716, 'n_estimators': 188, 'max_depth': 3, 'gamma': 0.9192735997894399, 'reg_alpha': 0.7359068968876901, 'reg_lambda': 0.2726552721230635}. Best is trial 61 with value: 8.793256212601133.\n",
      "[I 2023-08-10 21:02:57,333] Trial 66 finished with value: 9.755023399559011 and parameters: {'learning_rate': 0.060328507590416275, 'n_estimators': 195, 'max_depth': 8, 'gamma': 0.8676378720268529, 'reg_alpha': 0.85548395198487, 'reg_lambda': 0.16478408809180184}. Best is trial 61 with value: 8.793256212601133.\n",
      "[I 2023-08-10 21:03:02,225] Trial 67 finished with value: 9.254762236992041 and parameters: {'learning_rate': 0.021239459192626896, 'n_estimators': 181, 'max_depth': 4, 'gamma': 0.9589902997608556, 'reg_alpha': 0.6576555275023451, 'reg_lambda': 0.1088314010120483}. Best is trial 61 with value: 8.793256212601133.\n",
      "[I 2023-08-10 21:03:05,593] Trial 68 finished with value: 8.855727741907916 and parameters: {'learning_rate': 0.032816877182423904, 'n_estimators': 174, 'max_depth': 3, 'gamma': 0.9069410971664569, 'reg_alpha': 0.7771235826554721, 'reg_lambda': 0.30084941754261524}. Best is trial 61 with value: 8.793256212601133.\n",
      "[I 2023-08-10 21:03:10,317] Trial 69 finished with value: 9.278778897819501 and parameters: {'learning_rate': 0.0485212247802752, 'n_estimators': 185, 'max_depth': 4, 'gamma': 0.8042332624149563, 'reg_alpha': 0.6036248396581971, 'reg_lambda': 0.37108872825866746}. Best is trial 61 with value: 8.793256212601133.\n",
      "[I 2023-08-10 21:03:13,478] Trial 70 finished with value: 9.204822460333762 and parameters: {'learning_rate': 0.07742575591065715, 'n_estimators': 153, 'max_depth': 3, 'gamma': 0.9482028529067771, 'reg_alpha': 0.7257781226420126, 'reg_lambda': 0.22774372172905244}. Best is trial 61 with value: 8.793256212601133.\n",
      "[I 2023-08-10 21:03:16,968] Trial 71 finished with value: 8.853302811422834 and parameters: {'learning_rate': 0.03243366999382858, 'n_estimators': 176, 'max_depth': 3, 'gamma': 0.8920437171415466, 'reg_alpha': 0.7673839325628662, 'reg_lambda': 0.30442715785943886}. Best is trial 61 with value: 8.793256212601133.\n",
      "[I 2023-08-10 21:03:20,905] Trial 72 finished with value: 9.425999912743668 and parameters: {'learning_rate': 0.018114211032245694, 'n_estimators': 189, 'max_depth': 3, 'gamma': 0.8478930240683127, 'reg_alpha': 0.7521686407356462, 'reg_lambda': 0.2671048650752663}. Best is trial 61 with value: 8.793256212601133.\n",
      "[I 2023-08-10 21:03:24,677] Trial 73 finished with value: 8.835453865836573 and parameters: {'learning_rate': 0.034253585828346235, 'n_estimators': 179, 'max_depth': 3, 'gamma': 0.9721986307005133, 'reg_alpha': 0.8063853722612461, 'reg_lambda': 0.3078539645171797}. Best is trial 61 with value: 8.793256212601133.\n",
      "[I 2023-08-10 21:03:28,881] Trial 74 finished with value: 9.16053016330757 and parameters: {'learning_rate': 0.054596834504928374, 'n_estimators': 197, 'max_depth': 3, 'gamma': 0.9768882605503285, 'reg_alpha': 0.8105804015497171, 'reg_lambda': 0.2574482484739497}. Best is trial 61 with value: 8.793256212601133.\n",
      "[I 2023-08-10 21:03:32,466] Trial 75 finished with value: 8.921834627991801 and parameters: {'learning_rate': 0.04176852827308491, 'n_estimators': 168, 'max_depth': 3, 'gamma': 0.9699164599578907, 'reg_alpha': 0.845284585249613, 'reg_lambda': 0.33776215566312795}. Best is trial 61 with value: 8.793256212601133.\n",
      "[I 2023-08-10 21:03:37,270] Trial 76 finished with value: 9.128901256602095 and parameters: {'learning_rate': 0.028419649630745426, 'n_estimators': 181, 'max_depth': 4, 'gamma': 0.9308561886988675, 'reg_alpha': 0.672053087686367, 'reg_lambda': 0.40073295367807826}. Best is trial 61 with value: 8.793256212601133.\n",
      "[I 2023-08-10 21:03:41,365] Trial 77 finished with value: 9.157443999594857 and parameters: {'learning_rate': 0.019136600216739907, 'n_estimators': 194, 'max_depth': 3, 'gamma': 0.9107913396077361, 'reg_alpha': 0.793797263182077, 'reg_lambda': 0.20898180785732723}. Best is trial 61 with value: 8.793256212601133.\n",
      "[I 2023-08-10 21:03:46,499] Trial 78 finished with value: 9.5688180945768 and parameters: {'learning_rate': 0.06262025268877598, 'n_estimators': 188, 'max_depth': 4, 'gamma': 0.9783704497285545, 'reg_alpha': 0.7047838385220583, 'reg_lambda': 0.23273627152545534}. Best is trial 61 with value: 8.793256212601133.\n",
      "[I 2023-08-10 21:03:50,333] Trial 79 finished with value: 9.016515434288896 and parameters: {'learning_rate': 0.038155375963097135, 'n_estimators': 200, 'max_depth': 3, 'gamma': 0.9419568252334676, 'reg_alpha': 0.8743212549904764, 'reg_lambda': 0.2815923133876836}. Best is trial 61 with value: 8.793256212601133.\n",
      "[I 2023-08-10 21:03:56,667] Trial 80 finished with value: 9.187955344293316 and parameters: {'learning_rate': 0.05034230570871186, 'n_estimators': 171, 'max_depth': 5, 'gamma': 0.8276883402794886, 'reg_alpha': 0.6244383009081945, 'reg_lambda': 0.3260359759069293}. Best is trial 61 with value: 8.793256212601133.\n",
      "[I 2023-08-10 21:04:00,150] Trial 81 finished with value: 8.86616059712605 and parameters: {'learning_rate': 0.03287475577916222, 'n_estimators': 178, 'max_depth': 3, 'gamma': 0.885256532176655, 'reg_alpha': 0.7573861675704358, 'reg_lambda': 0.3083589793288105}. Best is trial 61 with value: 8.793256212601133.\n",
      "[I 2023-08-10 21:04:03,632] Trial 82 finished with value: 8.858995276633568 and parameters: {'learning_rate': 0.02865248078738851, 'n_estimators': 175, 'max_depth': 3, 'gamma': 0.9058745689791493, 'reg_alpha': 0.7233557119408908, 'reg_lambda': 0.28764084241780924}. Best is trial 61 with value: 8.793256212601133.\n",
      "[I 2023-08-10 21:04:07,179] Trial 83 finished with value: 9.557394401616184 and parameters: {'learning_rate': 0.01797639354192994, 'n_estimators': 185, 'max_depth': 3, 'gamma': 0.9431629550596893, 'reg_alpha': 0.7704663090144299, 'reg_lambda': 0.2543723973940671}. Best is trial 61 with value: 8.793256212601133.\n",
      "[I 2023-08-10 21:04:10,401] Trial 84 finished with value: 8.94229414030352 and parameters: {'learning_rate': 0.025485727371181714, 'n_estimators': 165, 'max_depth': 3, 'gamma': 0.8820939882050516, 'reg_alpha': 0.7417154282178464, 'reg_lambda': 0.37197189724310464}. Best is trial 61 with value: 8.793256212601133.\n",
      "[I 2023-08-10 21:04:14,027] Trial 85 finished with value: 9.051068218973958 and parameters: {'learning_rate': 0.04168179116305484, 'n_estimators': 192, 'max_depth': 3, 'gamma': 0.9795182432651209, 'reg_alpha': 0.6819393793904482, 'reg_lambda': 0.18896490645405908}. Best is trial 61 with value: 8.793256212601133.\n",
      "[I 2023-08-10 21:04:17,558] Trial 86 finished with value: 19.438877998343635 and parameters: {'learning_rate': 0.01020850590599898, 'n_estimators': 178, 'max_depth': 3, 'gamma': 0.9278159113818957, 'reg_alpha': 0.8207582971218003, 'reg_lambda': 0.3412030875876759}. Best is trial 61 with value: 8.793256212601133.\n",
      "[I 2023-08-10 21:04:21,182] Trial 87 finished with value: 8.798881590746822 and parameters: {'learning_rate': 0.03301198551994136, 'n_estimators': 188, 'max_depth': 3, 'gamma': 0.9594585707158512, 'reg_alpha': 0.7883378248066045, 'reg_lambda': 0.3039328138461123}. Best is trial 61 with value: 8.793256212601133.\n",
      "[I 2023-08-10 21:04:25,948] Trial 88 finished with value: 9.475671999696859 and parameters: {'learning_rate': 0.05582471614946548, 'n_estimators': 187, 'max_depth': 4, 'gamma': 0.9979731928308434, 'reg_alpha': 0.7893019500530436, 'reg_lambda': 0.22183904526453146}. Best is trial 61 with value: 8.793256212601133.\n",
      "[I 2023-08-10 21:04:29,416] Trial 89 finished with value: 9.113490499493356 and parameters: {'learning_rate': 0.046480248467653126, 'n_estimators': 182, 'max_depth': 3, 'gamma': 0.9623059427847014, 'reg_alpha': 0.7085114659915492, 'reg_lambda': 0.26485466064829644}. Best is trial 61 with value: 8.793256212601133.\n",
      "[I 2023-08-10 21:04:34,381] Trial 90 finished with value: 9.591983633806748 and parameters: {'learning_rate': 0.06715274052806353, 'n_estimators': 193, 'max_depth': 4, 'gamma': 0.9545622483445813, 'reg_alpha': 0.6656405863843973, 'reg_lambda': 0.20660169957375332}. Best is trial 61 with value: 8.793256212601133.\n",
      "[I 2023-08-10 21:04:37,730] Trial 91 finished with value: 8.82140135777653 and parameters: {'learning_rate': 0.03349369557978335, 'n_estimators': 172, 'max_depth': 3, 'gamma': 0.8991623382310198, 'reg_alpha': 0.8352457173039537, 'reg_lambda': 0.2984150680398382}. Best is trial 61 with value: 8.793256212601133.\n",
      "[I 2023-08-10 21:04:41,261] Trial 92 finished with value: 8.93085525331817 and parameters: {'learning_rate': 0.025400185968095314, 'n_estimators': 171, 'max_depth': 3, 'gamma': 0.9247711600936479, 'reg_alpha': 0.8353156389233466, 'reg_lambda': 0.23953702946411168}. Best is trial 61 with value: 8.793256212601133.\n",
      "[I 2023-08-10 21:04:45,076] Trial 93 finished with value: 8.943708511927197 and parameters: {'learning_rate': 0.0363438081586806, 'n_estimators': 196, 'max_depth': 3, 'gamma': 0.8585155919588663, 'reg_alpha': 0.7905461868043872, 'reg_lambda': 0.3001916702229892}. Best is trial 61 with value: 8.793256212601133.\n",
      "[I 2023-08-10 21:04:48,813] Trial 94 finished with value: 9.683924751393965 and parameters: {'learning_rate': 0.017141159441685587, 'n_estimators': 190, 'max_depth': 3, 'gamma': 0.9772580110694836, 'reg_alpha': 0.8643980832607713, 'reg_lambda': 0.32427947348524006}. Best is trial 61 with value: 8.793256212601133.\n",
      "[I 2023-08-10 21:04:52,340] Trial 95 finished with value: 9.084120645591383 and parameters: {'learning_rate': 0.04309106325768279, 'n_estimators': 183, 'max_depth': 3, 'gamma': 0.9111765667079739, 'reg_alpha': 0.7376779809883092, 'reg_lambda': 0.279239392615806}. Best is trial 61 with value: 8.793256212601133.\n",
      "[I 2023-08-10 21:04:55,378] Trial 96 finished with value: 9.276826347164606 and parameters: {'learning_rate': 0.024429475653823855, 'n_estimators': 148, 'max_depth': 3, 'gamma': 0.9460062209734004, 'reg_alpha': 0.8087688597452088, 'reg_lambda': 0.3532962520664774}. Best is trial 61 with value: 8.793256212601133.\n",
      "[I 2023-08-10 21:04:58,615] Trial 97 finished with value: 8.815332870021164 and parameters: {'learning_rate': 0.03127758920598489, 'n_estimators': 163, 'max_depth': 3, 'gamma': 0.981133950460457, 'reg_alpha': 0.8345036593275179, 'reg_lambda': 0.2488592732394876}. Best is trial 61 with value: 8.793256212601133.\n",
      "[I 2023-08-10 21:05:01,797] Trial 98 finished with value: 9.077745158286081 and parameters: {'learning_rate': 0.05011330245375235, 'n_estimators': 156, 'max_depth': 3, 'gamma': 0.9806827454909061, 'reg_alpha': 0.837004318237994, 'reg_lambda': 0.24622729952375566}. Best is trial 61 with value: 8.793256212601133.\n",
      "[I 2023-08-10 21:05:15,357] Trial 99 finished with value: 9.717570087653186 and parameters: {'learning_rate': 0.03678980695534387, 'n_estimators': 165, 'max_depth': 7, 'gamma': 0.8743255192304316, 'reg_alpha': 0.9049369241455136, 'reg_lambda': 0.15096035871074362}. Best is trial 61 with value: 8.793256212601133.\n",
      "[I 2023-08-10 21:05:17,558] Trial 100 finished with value: 20.021932398995837 and parameters: {'learning_rate': 0.017235356206935663, 'n_estimators': 103, 'max_depth': 3, 'gamma': 0.9984221939411759, 'reg_alpha': 0.8251371278717226, 'reg_lambda': 0.18171384231125737}. Best is trial 61 with value: 8.793256212601133.\n",
      "[I 2023-08-10 21:05:21,135] Trial 101 finished with value: 8.796361967728094 and parameters: {'learning_rate': 0.03180387104524283, 'n_estimators': 181, 'max_depth': 3, 'gamma': 0.9539150643552128, 'reg_alpha': 0.7559454283937241, 'reg_lambda': 0.2718715287935654}. Best is trial 61 with value: 8.793256212601133.\n",
      "[I 2023-08-10 21:05:24,644] Trial 102 finished with value: 8.816507114079196 and parameters: {'learning_rate': 0.03162033393025593, 'n_estimators': 180, 'max_depth': 3, 'gamma': 0.9296129341670085, 'reg_alpha': 0.7558595921816212, 'reg_lambda': 0.2683995977811553}. Best is trial 61 with value: 8.793256212601133.\n",
      "[I 2023-08-10 21:05:27,984] Trial 103 finished with value: 8.812430044270972 and parameters: {'learning_rate': 0.030678157667338286, 'n_estimators': 169, 'max_depth': 3, 'gamma': 0.9031555603219424, 'reg_alpha': 0.7570960613894905, 'reg_lambda': 0.296343283833954}. Best is trial 61 with value: 8.793256212601133.\n",
      "[I 2023-08-10 21:05:31,307] Trial 104 finished with value: 11.79372501924323 and parameters: {'learning_rate': 0.015327749138292974, 'n_estimators': 168, 'max_depth': 3, 'gamma': 0.9020317166469017, 'reg_alpha': 0.7575693821335142, 'reg_lambda': 0.3197903506451884}. Best is trial 61 with value: 8.793256212601133.\n",
      "[I 2023-08-10 21:05:34,075] Trial 105 finished with value: 9.56191275816839 and parameters: {'learning_rate': 0.02446975277172644, 'n_estimators': 135, 'max_depth': 3, 'gamma': 0.9344871637246737, 'reg_alpha': 0.7952677000080491, 'reg_lambda': 0.29142019846150796}. Best is trial 61 with value: 8.793256212601133.\n",
      "[I 2023-08-10 21:05:37,386] Trial 106 finished with value: 8.889109384940175 and parameters: {'learning_rate': 0.04037318063464326, 'n_estimators': 173, 'max_depth': 3, 'gamma': 0.8371899593679908, 'reg_alpha': 0.8548962617427602, 'reg_lambda': 0.22911630035479713}. Best is trial 61 with value: 8.793256212601133.\n",
      "[I 2023-08-10 21:05:40,594] Trial 107 finished with value: 9.141911914523602 and parameters: {'learning_rate': 0.05685698830096973, 'n_estimators': 164, 'max_depth': 3, 'gamma': 0.9677748225363563, 'reg_alpha': 0.778279346503446, 'reg_lambda': 0.2688848675261313}. Best is trial 61 with value: 8.793256212601133.\n",
      "[I 2023-08-10 21:05:45,305] Trial 108 finished with value: 9.06312105384823 and parameters: {'learning_rate': 0.030836297454389223, 'n_estimators': 179, 'max_depth': 4, 'gamma': 0.9238126235507881, 'reg_alpha': 0.8742633893160549, 'reg_lambda': 0.38400601729152906}. Best is trial 61 with value: 8.793256212601133.\n",
      "[I 2023-08-10 21:05:47,125] Trial 109 finished with value: 9.186544397654611 and parameters: {'learning_rate': 0.04611397705807378, 'n_estimators': 79, 'max_depth': 3, 'gamma': 0.898269565098245, 'reg_alpha': 0.7465831049027621, 'reg_lambda': 0.20136689157665405}. Best is trial 61 with value: 8.793256212601133.\n",
      "[I 2023-08-10 21:05:50,357] Trial 110 finished with value: 23.590905413239653 and parameters: {'learning_rate': 0.010082306917015744, 'n_estimators': 159, 'max_depth': 3, 'gamma': 0.8714472434564202, 'reg_alpha': 0.8059323322678916, 'reg_lambda': 0.3013814959178659}. Best is trial 61 with value: 8.793256212601133.\n",
      "[I 2023-08-10 21:05:53,529] Trial 111 finished with value: 8.85973216116739 and parameters: {'learning_rate': 0.0322446497177436, 'n_estimators': 152, 'max_depth': 3, 'gamma': 0.9552798086386458, 'reg_alpha': 0.7125703037285563, 'reg_lambda': 0.248664715418558}. Best is trial 61 with value: 8.793256212601133.\n",
      "[I 2023-08-10 21:05:57,016] Trial 112 finished with value: 8.941154407978008 and parameters: {'learning_rate': 0.037367348811870094, 'n_estimators': 181, 'max_depth': 3, 'gamma': 0.9833731752756476, 'reg_alpha': 0.768813060062061, 'reg_lambda': 0.255472480828701}. Best is trial 61 with value: 8.793256212601133.\n",
      "[I 2023-08-10 21:06:00,426] Trial 113 finished with value: 9.037250426474978 and parameters: {'learning_rate': 0.023002979017154687, 'n_estimators': 170, 'max_depth': 3, 'gamma': 0.9213036616511926, 'reg_alpha': 0.734228298944291, 'reg_lambda': 0.3340891197102259}. Best is trial 61 with value: 8.793256212601133.\n",
      "[I 2023-08-10 21:06:31,706] Trial 114 finished with value: 10.020299001354328 and parameters: {'learning_rate': 0.028061707555029222, 'n_estimators': 175, 'max_depth': 9, 'gamma': 0.9567552308056805, 'reg_alpha': 0.6886216140091015, 'reg_lambda': 0.27684051866795467}. Best is trial 61 with value: 8.793256212601133.\n",
      "[I 2023-08-10 21:06:35,339] Trial 115 finished with value: 9.79500731569425 and parameters: {'learning_rate': 0.016783372000502162, 'n_estimators': 189, 'max_depth': 3, 'gamma': 0.9341301992210314, 'reg_alpha': 0.7808355237353344, 'reg_lambda': 0.2151137385011277}. Best is trial 61 with value: 8.793256212601133.\n",
      "[I 2023-08-10 21:06:38,969] Trial 116 finished with value: 9.228729812186236 and parameters: {'learning_rate': 0.053055514678227736, 'n_estimators': 185, 'max_depth': 3, 'gamma': 0.8934155970224883, 'reg_alpha': 0.7538384596570051, 'reg_lambda': 0.34050628158032203}. Best is trial 61 with value: 8.793256212601133.\n",
      "[I 2023-08-10 21:06:42,666] Trial 117 finished with value: 8.94305685456788 and parameters: {'learning_rate': 0.04331135892556352, 'n_estimators': 196, 'max_depth': 3, 'gamma': 0.9750318248706368, 'reg_alpha': 0.8138668620017797, 'reg_lambda': 0.3030874317503628}. Best is trial 61 with value: 8.793256212601133.\n",
      "[I 2023-08-10 21:06:51,485] Trial 118 finished with value: 9.533810491081924 and parameters: {'learning_rate': 0.034338586978972456, 'n_estimators': 161, 'max_depth': 6, 'gamma': 0.8487288077123633, 'reg_alpha': 0.8364421762605663, 'reg_lambda': 0.22855648799422412}. Best is trial 61 with value: 8.793256212601133.\n",
      "[I 2023-08-10 21:06:54,795] Trial 119 finished with value: 9.28353745077842 and parameters: {'learning_rate': 0.02120397055498606, 'n_estimators': 168, 'max_depth': 3, 'gamma': 0.9443362114878655, 'reg_alpha': 0.7215297941428861, 'reg_lambda': 0.3180287460402857}. Best is trial 61 with value: 8.793256212601133.\n",
      "[I 2023-08-10 21:06:56,666] Trial 120 finished with value: 21.38934959709311 and parameters: {'learning_rate': 0.02985415294561504, 'n_estimators': 57, 'max_depth': 4, 'gamma': 0.9104035344557566, 'reg_alpha': 0.7039662606587691, 'reg_lambda': 0.17499296182376933}. Best is trial 61 with value: 8.793256212601133.\n",
      "[I 2023-08-10 21:07:00,206] Trial 121 finished with value: 8.862455889930505 and parameters: {'learning_rate': 0.03745751842900777, 'n_estimators': 178, 'max_depth': 3, 'gamma': 0.9868219838939639, 'reg_alpha': 0.7397286117065754, 'reg_lambda': 0.26546056476187724}. Best is trial 61 with value: 8.793256212601133.\n",
      "[I 2023-08-10 21:07:03,714] Trial 122 finished with value: 9.151013151481603 and parameters: {'learning_rate': 0.047892370553170555, 'n_estimators': 186, 'max_depth': 3, 'gamma': 0.9587031212893122, 'reg_alpha': 0.7625627918996762, 'reg_lambda': 0.27448984015073646}. Best is trial 61 with value: 8.793256212601133.\n",
      "[I 2023-08-10 21:07:07,244] Trial 123 finished with value: 9.00982013870196 and parameters: {'learning_rate': 0.021996245950151844, 'n_estimators': 182, 'max_depth': 3, 'gamma': 0.9299065346809293, 'reg_alpha': 0.7206384433508577, 'reg_lambda': 0.28797520406143984}. Best is trial 61 with value: 8.793256212601133.\n",
      "[I 2023-08-10 21:07:11,066] Trial 124 finished with value: 8.85140760609534 and parameters: {'learning_rate': 0.0321953338631855, 'n_estimators': 200, 'max_depth': 3, 'gamma': 0.9633625957721048, 'reg_alpha': 0.7952709479396953, 'reg_lambda': 0.24086974652776658}. Best is trial 61 with value: 8.793256212601133.\n",
      "[I 2023-08-10 21:07:14,706] Trial 125 finished with value: 8.989914723255028 and parameters: {'learning_rate': 0.04338157630429282, 'n_estimators': 192, 'max_depth': 3, 'gamma': 0.9964072147846106, 'reg_alpha': 0.6923964943837635, 'reg_lambda': 0.25561960981947884}. Best is trial 61 with value: 8.793256212601133.\n",
      "[I 2023-08-10 21:07:18,175] Trial 126 finished with value: 11.75060890434588 and parameters: {'learning_rate': 0.01493015084655484, 'n_estimators': 173, 'max_depth': 3, 'gamma': 0.8978269223482603, 'reg_alpha': 0.7732089271620836, 'reg_lambda': 0.3601193324771843}. Best is trial 61 with value: 8.793256212601133.\n",
      "[I 2023-08-10 21:07:21,796] Trial 127 finished with value: 9.142589573272483 and parameters: {'learning_rate': 0.06007270095732508, 'n_estimators': 187, 'max_depth': 3, 'gamma': 0.8775209544641775, 'reg_alpha': 0.7401510138934061, 'reg_lambda': 0.30614284121076574}. Best is trial 61 with value: 8.793256212601133.\n",
      "[I 2023-08-10 21:07:25,257] Trial 128 finished with value: 8.822266346759374 and parameters: {'learning_rate': 0.026178806228465787, 'n_estimators': 178, 'max_depth': 3, 'gamma': 0.9429153014749108, 'reg_alpha': 0.8199374996327948, 'reg_lambda': 0.21699012553241434}. Best is trial 61 with value: 8.793256212601133.\n",
      "[I 2023-08-10 21:07:28,775] Trial 129 finished with value: 8.845289105459859 and parameters: {'learning_rate': 0.026572771711636377, 'n_estimators': 179, 'max_depth': 3, 'gamma': 0.9420135422734954, 'reg_alpha': 0.8214931213230273, 'reg_lambda': 0.21063121904712867}. Best is trial 61 with value: 8.793256212601133.\n",
      "[I 2023-08-10 21:07:31,275] Trial 130 finished with value: 8.93057654873511 and parameters: {'learning_rate': 0.03991285915374272, 'n_estimators': 121, 'max_depth': 3, 'gamma': 0.7828689962881275, 'reg_alpha': 0.8480310209221764, 'reg_lambda': 0.23193492051570463}. Best is trial 61 with value: 8.793256212601133.\n",
      "[I 2023-08-10 21:07:34,766] Trial 131 finished with value: 8.865884971599673 and parameters: {'learning_rate': 0.025606594060857437, 'n_estimators': 177, 'max_depth': 3, 'gamma': 0.9194477531050875, 'reg_alpha': 0.8228064184837526, 'reg_lambda': 0.25178900864783643}. Best is trial 61 with value: 8.793256212601133.\n",
      "[I 2023-08-10 21:07:38,209] Trial 132 finished with value: 8.93256622870801 and parameters: {'learning_rate': 0.02304683301783305, 'n_estimators': 180, 'max_depth': 3, 'gamma': 0.9483783142851827, 'reg_alpha': 0.8003615072896045, 'reg_lambda': 0.20019963801948035}. Best is trial 61 with value: 8.793256212601133.\n",
      "[I 2023-08-10 21:07:41,586] Trial 133 finished with value: 8.832717154712194 and parameters: {'learning_rate': 0.030649944549931897, 'n_estimators': 173, 'max_depth': 3, 'gamma': 0.9750168290133888, 'reg_alpha': 0.8249930822227168, 'reg_lambda': 0.21652177756545699}. Best is trial 61 with value: 8.793256212601133.\n",
      "[I 2023-08-10 21:07:44,814] Trial 134 finished with value: 8.869517622876115 and parameters: {'learning_rate': 0.03479749421365734, 'n_estimators': 165, 'max_depth': 3, 'gamma': 0.9779303035423403, 'reg_alpha': 0.787325521478094, 'reg_lambda': 0.16665947291746536}. Best is trial 61 with value: 8.793256212601133.\n",
      "[I 2023-08-10 21:07:48,156] Trial 135 finished with value: 9.001556666659011 and parameters: {'learning_rate': 0.05193939133522407, 'n_estimators': 173, 'max_depth': 3, 'gamma': 0.9662617117907043, 'reg_alpha': 0.8630036606221655, 'reg_lambda': 0.19165878575806788}. Best is trial 61 with value: 8.793256212601133.\n",
      "[I 2023-08-10 21:07:51,775] Trial 136 finished with value: 10.060089869956148 and parameters: {'learning_rate': 0.016559520078063078, 'n_estimators': 183, 'max_depth': 3, 'gamma': 0.9829948743990845, 'reg_alpha': 0.8901154751753965, 'reg_lambda': 0.28619865807496064}. Best is trial 61 with value: 8.793256212601133.\n",
      "[I 2023-08-10 21:07:55,464] Trial 137 finished with value: 8.822689166628573 and parameters: {'learning_rate': 0.03186474239167416, 'n_estimators': 194, 'max_depth': 3, 'gamma': 0.9165110565938932, 'reg_alpha': 0.8441000967162616, 'reg_lambda': 0.22398128395567102}. Best is trial 61 with value: 8.793256212601133.\n",
      "[I 2023-08-10 21:07:59,158] Trial 138 finished with value: 9.067316554184778 and parameters: {'learning_rate': 0.03987585462744908, 'n_estimators': 192, 'max_depth': 3, 'gamma': 0.9100536390610456, 'reg_alpha': 0.886558120776665, 'reg_lambda': 0.216458781714655}. Best is trial 61 with value: 8.793256212601133.\n",
      "[I 2023-08-10 21:08:02,266] Trial 139 finished with value: 8.878764615955776 and parameters: {'learning_rate': 0.029750889125378165, 'n_estimators': 156, 'max_depth': 3, 'gamma': 0.8184153955229885, 'reg_alpha': 0.8288621503073945, 'reg_lambda': 0.1561957654696695}. Best is trial 61 with value: 8.793256212601133.\n",
      "[I 2023-08-10 21:08:04,937] Trial 140 finished with value: 9.213076297230383 and parameters: {'learning_rate': 0.045850251992386945, 'n_estimators': 92, 'max_depth': 4, 'gamma': 0.9991220594629981, 'reg_alpha': 0.8348456545070634, 'reg_lambda': 0.13997734507944615}. Best is trial 61 with value: 8.793256212601133.\n",
      "[I 2023-08-10 21:08:08,659] Trial 141 finished with value: 8.916979893298535 and parameters: {'learning_rate': 0.03419994168752273, 'n_estimators': 195, 'max_depth': 3, 'gamma': 0.9353873716472028, 'reg_alpha': 0.7566561587505981, 'reg_lambda': 0.23360837636224072}. Best is trial 61 with value: 8.793256212601133.\n",
      "[I 2023-08-10 21:08:12,416] Trial 142 finished with value: 9.12787936591373 and parameters: {'learning_rate': 0.019947883743897166, 'n_estimators': 190, 'max_depth': 3, 'gamma': 0.8945003384385866, 'reg_alpha': 0.8032407605332847, 'reg_lambda': 0.2697965222970951}. Best is trial 61 with value: 8.793256212601133.\n",
      "[I 2023-08-10 21:08:15,846] Trial 143 finished with value: 21.363016044394975 and parameters: {'learning_rate': 0.010120867136358413, 'n_estimators': 169, 'max_depth': 3, 'gamma': 0.8614613142203564, 'reg_alpha': 0.8470778774404262, 'reg_lambda': 0.18362104958260342}. Best is trial 61 with value: 8.793256212601133.\n",
      "[I 2023-08-10 21:08:19,324] Trial 144 finished with value: 8.839282283787064 and parameters: {'learning_rate': 0.029126147760435053, 'n_estimators': 175, 'max_depth': 3, 'gamma': 0.9517108451122576, 'reg_alpha': 0.7750193702666978, 'reg_lambda': 0.3155397014166745}. Best is trial 61 with value: 8.793256212601133.\n",
      "[I 2023-08-10 21:08:22,746] Trial 145 finished with value: 8.823647185599745 and parameters: {'learning_rate': 0.02899808512456146, 'n_estimators': 176, 'max_depth': 3, 'gamma': 0.9238724148209736, 'reg_alpha': 0.7906881163977076, 'reg_lambda': 0.31464852190430187}. Best is trial 61 with value: 8.793256212601133.\n",
      "[I 2023-08-10 21:08:26,298] Trial 146 finished with value: 8.993543537891771 and parameters: {'learning_rate': 0.039454113121044736, 'n_estimators': 186, 'max_depth': 3, 'gamma': 0.9261672642668899, 'reg_alpha': 0.8072319495196438, 'reg_lambda': 0.29242574823232315}. Best is trial 61 with value: 8.793256212601133.\n",
      "[I 2023-08-10 21:08:29,625] Trial 147 finished with value: 10.255851736892998 and parameters: {'learning_rate': 0.15813541075490736, 'n_estimators': 170, 'max_depth': 3, 'gamma': 0.8832939891990357, 'reg_alpha': 0.7866129427555494, 'reg_lambda': 0.3344995816700935}. Best is trial 61 with value: 8.793256212601133.\n",
      "[I 2023-08-10 21:08:33,006] Trial 148 finished with value: 9.67988108863231 and parameters: {'learning_rate': 0.09890407694318387, 'n_estimators': 176, 'max_depth': 3, 'gamma': 0.9709033021069017, 'reg_alpha': 0.8706321635146754, 'reg_lambda': 0.24454213521495216}. Best is trial 61 with value: 8.793256212601133.\n",
      "[I 2023-08-10 21:08:36,296] Trial 149 finished with value: 9.380141931774432 and parameters: {'learning_rate': 0.021310627072434654, 'n_estimators': 162, 'max_depth': 3, 'gamma': 0.757210952053375, 'reg_alpha': 0.8483486819147469, 'reg_lambda': 0.26637399625238867}. Best is trial 61 with value: 8.793256212601133.\n",
      "[I 2023-08-10 21:08:40,066] Trial 150 finished with value: 9.541385601288956 and parameters: {'learning_rate': 0.08399144520648984, 'n_estimators': 197, 'max_depth': 3, 'gamma': 0.9115529178439725, 'reg_alpha': 0.8168763086094689, 'reg_lambda': 0.3484295067832758}. Best is trial 61 with value: 8.793256212601133.\n",
      "[I 2023-08-10 21:08:43,496] Trial 151 finished with value: 8.775415820433006 and parameters: {'learning_rate': 0.028821090184771993, 'n_estimators': 176, 'max_depth': 3, 'gamma': 0.9504653811484276, 'reg_alpha': 0.7739980066842884, 'reg_lambda': 0.3159380788626483}. Best is trial 151 with value: 8.775415820433006.\n",
      "[I 2023-08-10 21:08:47,126] Trial 152 finished with value: 8.813746520100178 and parameters: {'learning_rate': 0.026601421203402587, 'n_estimators': 181, 'max_depth': 3, 'gamma': 0.9584875879310588, 'reg_alpha': 0.7755116899883953, 'reg_lambda': 0.309183441702494}. Best is trial 151 with value: 8.775415820433006.\n",
      "[I 2023-08-10 21:08:50,765] Trial 153 finished with value: 8.819626101865051 and parameters: {'learning_rate': 0.02732812241354567, 'n_estimators': 182, 'max_depth': 3, 'gamma': 0.9301139975521666, 'reg_alpha': 0.7677597721769773, 'reg_lambda': 0.2996575803170281}. Best is trial 151 with value: 8.775415820433006.\n",
      "[I 2023-08-10 21:08:54,246] Trial 154 finished with value: 8.817760542932593 and parameters: {'learning_rate': 0.026442947298174632, 'n_estimators': 182, 'max_depth': 3, 'gamma': 0.9259079369113853, 'reg_alpha': 0.7596397724130729, 'reg_lambda': 0.3234277631993834}. Best is trial 151 with value: 8.775415820433006.\n",
      "[I 2023-08-10 21:08:57,775] Trial 155 finished with value: 11.165525071094496 and parameters: {'learning_rate': 0.014816773266059137, 'n_estimators': 183, 'max_depth': 3, 'gamma': 0.9163932852870426, 'reg_alpha': 0.7622611337145998, 'reg_lambda': 0.3154442363619684}. Best is trial 151 with value: 8.775415820433006.\n",
      "[I 2023-08-10 21:09:01,401] Trial 156 finished with value: 8.867675488924455 and parameters: {'learning_rate': 0.025965091337888976, 'n_estimators': 188, 'max_depth': 3, 'gamma': 0.8688332430304658, 'reg_alpha': 0.748508689794075, 'reg_lambda': 0.328196558561646}. Best is trial 151 with value: 8.775415820433006.\n",
      "[I 2023-08-10 21:09:08,702] Trial 157 finished with value: 9.685266973378743 and parameters: {'learning_rate': 0.018776060494050034, 'n_estimators': 193, 'max_depth': 5, 'gamma': 0.9339554247004972, 'reg_alpha': 0.7854256602813464, 'reg_lambda': 0.3693925648199924}. Best is trial 151 with value: 8.775415820433006.\n",
      "[I 2023-08-10 21:09:12,179] Trial 158 finished with value: 10.092646114186511 and parameters: {'learning_rate': 0.12271128482183336, 'n_estimators': 182, 'max_depth': 3, 'gamma': 0.8991388540635176, 'reg_alpha': 0.7652292620556446, 'reg_lambda': 0.29531053720616}. Best is trial 151 with value: 8.775415820433006.\n",
      "[I 2023-08-10 21:09:15,907] Trial 159 finished with value: 8.81336872050478 and parameters: {'learning_rate': 0.026399815175759275, 'n_estimators': 189, 'max_depth': 3, 'gamma': 0.8856572803277302, 'reg_alpha': 0.7303231494106477, 'reg_lambda': 0.3501403310914808}. Best is trial 151 with value: 8.775415820433006.\n",
      "[I 2023-08-10 21:09:19,637] Trial 160 finished with value: 8.899351044058639 and parameters: {'learning_rate': 0.023248840957683654, 'n_estimators': 189, 'max_depth': 3, 'gamma': 0.8805606244290198, 'reg_alpha': 0.7312297904449494, 'reg_lambda': 0.34768832265600336}. Best is trial 151 with value: 8.775415820433006.\n",
      "[I 2023-08-10 21:09:23,196] Trial 161 finished with value: 8.878298636454357 and parameters: {'learning_rate': 0.038001769559929836, 'n_estimators': 185, 'max_depth': 3, 'gamma': 0.925662840978639, 'reg_alpha': 0.748259527697814, 'reg_lambda': 0.4178354095219584}. Best is trial 151 with value: 8.775415820433006.\n",
      "[I 2023-08-10 21:09:26,665] Trial 162 finished with value: 8.80916391392227 and parameters: {'learning_rate': 0.02711002578284534, 'n_estimators': 180, 'max_depth': 3, 'gamma': 0.9461259846608405, 'reg_alpha': 0.7764527289715182, 'reg_lambda': 0.32510662586210287}. Best is trial 151 with value: 8.775415820433006.\n",
      "[I 2023-08-10 21:09:30,411] Trial 163 finished with value: 9.538825546942649 and parameters: {'learning_rate': 0.017231002820092132, 'n_estimators': 194, 'max_depth': 3, 'gamma': 0.9533605051353202, 'reg_alpha': 0.7122723891430182, 'reg_lambda': 0.3797435112053078}. Best is trial 151 with value: 8.775415820433006.\n",
      "[I 2023-08-10 21:09:34,285] Trial 164 finished with value: 8.818091403857775 and parameters: {'learning_rate': 0.02446747436299036, 'n_estimators': 200, 'max_depth': 3, 'gamma': 0.9008575543360104, 'reg_alpha': 0.7713790505395024, 'reg_lambda': 0.28925401827032043}. Best is trial 151 with value: 8.775415820433006.\n",
      "[I 2023-08-10 21:09:38,099] Trial 165 finished with value: 8.822502328521722 and parameters: {'learning_rate': 0.02469026535448399, 'n_estimators': 200, 'max_depth': 3, 'gamma': 0.8555291644754145, 'reg_alpha': 0.7728367045096084, 'reg_lambda': 0.29497689985137177}. Best is trial 151 with value: 8.775415820433006.\n",
      "[I 2023-08-10 21:09:41,586] Trial 166 finished with value: 12.079655748615778 and parameters: {'learning_rate': 0.013990652100237578, 'n_estimators': 180, 'max_depth': 3, 'gamma': 0.9007091280800696, 'reg_alpha': 0.7460325519375952, 'reg_lambda': 0.3342938999476694}. Best is trial 151 with value: 8.775415820433006.\n",
      "[I 2023-08-10 21:09:45,245] Trial 167 finished with value: 9.002903673977016 and parameters: {'learning_rate': 0.043384498202090505, 'n_estimators': 189, 'max_depth': 3, 'gamma': 0.9419358363721295, 'reg_alpha': 0.7267509681974345, 'reg_lambda': 0.3572210941662488}. Best is trial 151 with value: 8.775415820433006.\n",
      "[I 2023-08-10 21:09:48,837] Trial 168 finished with value: 10.817222099626917 and parameters: {'learning_rate': 0.17793671544645923, 'n_estimators': 185, 'max_depth': 3, 'gamma': 0.8398600478476043, 'reg_alpha': 0.7631128148261151, 'reg_lambda': 0.2779006596799565}. Best is trial 151 with value: 8.775415820433006.\n",
      "[I 2023-08-10 21:09:49,632] Trial 169 finished with value: 59.5121536534118 and parameters: {'learning_rate': 0.036244593287209755, 'n_estimators': 21, 'max_depth': 3, 'gamma': 0.8834775749775393, 'reg_alpha': 0.7046474253329758, 'reg_lambda': 0.3130805574822102}. Best is trial 151 with value: 8.775415820433006.\n",
      "[I 2023-08-10 21:09:53,196] Trial 170 finished with value: 8.813019018007067 and parameters: {'learning_rate': 0.02847594746087946, 'n_estimators': 180, 'max_depth': 3, 'gamma': 0.9564201272551907, 'reg_alpha': 0.7776522951195738, 'reg_lambda': 0.2930615482827505}. Best is trial 151 with value: 8.775415820433006.\n",
      "[I 2023-08-10 21:09:56,815] Trial 171 finished with value: 8.886016529875402 and parameters: {'learning_rate': 0.025500449356768748, 'n_estimators': 182, 'max_depth': 3, 'gamma': 0.9536650212152139, 'reg_alpha': 0.7795234247567796, 'reg_lambda': 0.2925442377741763}. Best is trial 151 with value: 8.775415820433006.\n",
      "[I 2023-08-10 21:10:00,427] Trial 172 finished with value: 9.143357962637156 and parameters: {'learning_rate': 0.021057175117869673, 'n_estimators': 178, 'max_depth': 3, 'gamma': 0.674372015347694, 'reg_alpha': 0.7950454817964608, 'reg_lambda': 0.32847103221754814}. Best is trial 151 with value: 8.775415820433006.\n",
      "[I 2023-08-10 21:10:04,195] Trial 173 finished with value: 8.831542502008983 and parameters: {'learning_rate': 0.03024756499948689, 'n_estimators': 190, 'max_depth': 3, 'gamma': 0.9371913403022049, 'reg_alpha': 0.7389999722856282, 'reg_lambda': 0.27629659084432606}. Best is trial 151 with value: 8.775415820433006.\n",
      "[I 2023-08-10 21:10:07,908] Trial 174 finished with value: 8.904710171391033 and parameters: {'learning_rate': 0.035083048030184444, 'n_estimators': 197, 'max_depth': 3, 'gamma': 0.9629751604793847, 'reg_alpha': 0.7580732415615731, 'reg_lambda': 0.3029871381039373}. Best is trial 151 with value: 8.775415820433006.\n",
      "[I 2023-08-10 21:10:11,626] Trial 175 finished with value: 18.67594094255469 and parameters: {'learning_rate': 0.010027324687210785, 'n_estimators': 186, 'max_depth': 3, 'gamma': 0.9055599388822757, 'reg_alpha': 0.7766622491588787, 'reg_lambda': 0.2581666784758085}. Best is trial 151 with value: 8.775415820433006.\n",
      "[I 2023-08-10 21:10:14,995] Trial 176 finished with value: 9.084408722934116 and parameters: {'learning_rate': 0.04680475157485736, 'n_estimators': 172, 'max_depth': 3, 'gamma': 0.9394680048520592, 'reg_alpha': 0.8027264452628683, 'reg_lambda': 0.28966773009412605}. Best is trial 151 with value: 8.775415820433006.\n",
      "[I 2023-08-10 21:10:18,504] Trial 177 finished with value: 8.812824748380198 and parameters: {'learning_rate': 0.026546109090195346, 'n_estimators': 181, 'max_depth': 3, 'gamma': 0.557887318059885, 'reg_alpha': 0.7290589118721428, 'reg_lambda': 0.34272751120102996}. Best is trial 151 with value: 8.775415820433006.\n",
      "[I 2023-08-10 21:10:22,005] Trial 178 finished with value: 9.20705721660234 and parameters: {'learning_rate': 0.019999245509908156, 'n_estimators': 182, 'max_depth': 3, 'gamma': 0.6337866856231255, 'reg_alpha': 0.7307341525213017, 'reg_lambda': 0.35950946549057144}. Best is trial 151 with value: 8.775415820433006.\n",
      "[I 2023-08-10 21:10:25,695] Trial 179 finished with value: 8.968932111677372 and parameters: {'learning_rate': 0.04076611022119577, 'n_estimators': 190, 'max_depth': 3, 'gamma': 0.4099973023871867, 'reg_alpha': 0.6842017482799128, 'reg_lambda': 0.39535774810425933}. Best is trial 151 with value: 8.775415820433006.\n",
      "[I 2023-08-10 21:10:28,054] Trial 180 finished with value: 9.442727542963107 and parameters: {'learning_rate': 0.030294471485988184, 'n_estimators': 112, 'max_depth': 3, 'gamma': 0.5449912328772257, 'reg_alpha': 0.7084148041730602, 'reg_lambda': 0.33882708776891396}. Best is trial 151 with value: 8.775415820433006.\n",
      "[I 2023-08-10 21:10:31,507] Trial 181 finished with value: 8.822276082626171 and parameters: {'learning_rate': 0.025692483994840108, 'n_estimators': 176, 'max_depth': 3, 'gamma': 0.8161937322401405, 'reg_alpha': 0.7562222183365711, 'reg_lambda': 0.32036481225119445}. Best is trial 151 with value: 8.775415820433006.\n",
      "[I 2023-08-10 21:10:35,006] Trial 182 finished with value: 10.992974941010672 and parameters: {'learning_rate': 0.015360676556197543, 'n_estimators': 179, 'max_depth': 3, 'gamma': 0.5938311753874739, 'reg_alpha': 0.7783167276515925, 'reg_lambda': 0.3053692701668736}. Best is trial 151 with value: 8.775415820433006.\n",
      "[I 2023-08-10 21:10:38,309] Trial 183 finished with value: 8.855523657255237 and parameters: {'learning_rate': 0.034895070678007865, 'n_estimators': 168, 'max_depth': 3, 'gamma': 0.2495982798579141, 'reg_alpha': 0.7413151290300652, 'reg_lambda': 0.2802507876510503}. Best is trial 151 with value: 8.775415820433006.\n",
      "[I 2023-08-10 21:10:42,005] Trial 184 finished with value: 8.77867512091198 and parameters: {'learning_rate': 0.02684833874560386, 'n_estimators': 186, 'max_depth': 3, 'gamma': 0.7165348078791782, 'reg_alpha': 0.8090049307553588, 'reg_lambda': 0.4543149788046823}. Best is trial 151 with value: 8.775415820433006.\n",
      "[I 2023-08-10 21:10:45,636] Trial 185 finished with value: 8.896893699161458 and parameters: {'learning_rate': 0.02289125526788208, 'n_estimators': 186, 'max_depth': 3, 'gamma': 0.740780066938835, 'reg_alpha': 0.765347318850186, 'reg_lambda': 0.5486833848989581}. Best is trial 151 with value: 8.775415820433006.\n",
      "[I 2023-08-10 21:10:49,291] Trial 186 finished with value: 8.869165928488261 and parameters: {'learning_rate': 0.03452731184662287, 'n_estimators': 191, 'max_depth': 3, 'gamma': 0.7859460199117013, 'reg_alpha': 0.7989365487916591, 'reg_lambda': 0.3705851720824922}. Best is trial 151 with value: 8.775415820433006.\n",
      "[I 2023-08-10 21:10:52,815] Trial 187 finished with value: 8.757000390751795 and parameters: {'learning_rate': 0.029009298442672464, 'n_estimators': 183, 'max_depth': 3, 'gamma': 0.6842431254904875, 'reg_alpha': 0.6663337272348825, 'reg_lambda': 0.4462068241770646}. Best is trial 187 with value: 8.757000390751795.\n",
      "[I 2023-08-10 21:10:56,424] Trial 188 finished with value: 9.761633487285485 and parameters: {'learning_rate': 0.017610104254451413, 'n_estimators': 183, 'max_depth': 3, 'gamma': 0.8295356964452134, 'reg_alpha': 0.6504609803186197, 'reg_lambda': 0.40052692494345116}. Best is trial 187 with value: 8.757000390751795.\n",
      "[I 2023-08-10 21:11:00,163] Trial 189 finished with value: 8.76588407991771 and parameters: {'learning_rate': 0.028122774004487754, 'n_estimators': 196, 'max_depth': 3, 'gamma': 0.7394586026609699, 'reg_alpha': 0.6729321619764993, 'reg_lambda': 0.4077653823796778}. Best is trial 187 with value: 8.757000390751795.\n",
      "[I 2023-08-10 21:11:04,015] Trial 190 finished with value: 8.964384106693478 and parameters: {'learning_rate': 0.03905683601849847, 'n_estimators': 200, 'max_depth': 3, 'gamma': 0.6928983951127985, 'reg_alpha': 0.6665761595609411, 'reg_lambda': 0.3467968331237267}. Best is trial 187 with value: 8.757000390751795.\n",
      "[I 2023-08-10 21:11:07,736] Trial 191 finished with value: 8.767933009171076 and parameters: {'learning_rate': 0.029217019055493815, 'n_estimators': 194, 'max_depth': 3, 'gamma': 0.7336760449700769, 'reg_alpha': 0.6927251183713683, 'reg_lambda': 0.4539482580316495}. Best is trial 187 with value: 8.757000390751795.\n",
      "[I 2023-08-10 21:11:11,485] Trial 192 finished with value: 8.788335342230258 and parameters: {'learning_rate': 0.029519001704575526, 'n_estimators': 195, 'max_depth': 3, 'gamma': 0.6968129717106646, 'reg_alpha': 0.6498861328305113, 'reg_lambda': 0.45383224293829605}. Best is trial 187 with value: 8.757000390751795.\n",
      "[I 2023-08-10 21:11:15,247] Trial 193 finished with value: 8.93943173314073 and parameters: {'learning_rate': 0.02115956653655009, 'n_estimators': 197, 'max_depth': 3, 'gamma': 0.7263821638276619, 'reg_alpha': 0.678330414325753, 'reg_lambda': 0.4512756710535757}. Best is trial 187 with value: 8.757000390751795.\n",
      "[I 2023-08-10 21:11:19,038] Trial 194 finished with value: 8.801271664561394 and parameters: {'learning_rate': 0.029203759326053503, 'n_estimators': 193, 'max_depth': 3, 'gamma': 0.7050911560015328, 'reg_alpha': 0.6636663104355968, 'reg_lambda': 0.4673083654364209}. Best is trial 187 with value: 8.757000390751795.\n",
      "[I 2023-08-10 21:11:22,701] Trial 195 finished with value: 9.044026662663203 and parameters: {'learning_rate': 0.04215743047485514, 'n_estimators': 191, 'max_depth': 3, 'gamma': 0.7126129920396683, 'reg_alpha': 0.6397338843075373, 'reg_lambda': 0.4516502106983191}. Best is trial 187 with value: 8.757000390751795.\n",
      "[I 2023-08-10 21:11:26,426] Trial 196 finished with value: 8.79951544900244 and parameters: {'learning_rate': 0.03213069970437175, 'n_estimators': 194, 'max_depth': 3, 'gamma': 0.6823238394362723, 'reg_alpha': 0.6676763298844257, 'reg_lambda': 0.47618582495830264}. Best is trial 187 with value: 8.757000390751795.\n",
      "[I 2023-08-10 21:11:30,154] Trial 197 finished with value: 9.384201276713702 and parameters: {'learning_rate': 0.07506409746555755, 'n_estimators': 195, 'max_depth': 3, 'gamma': 0.7019101637259212, 'reg_alpha': 0.6568399873242121, 'reg_lambda': 0.44336914261911875}. Best is trial 187 with value: 8.757000390751795.\n",
      "[I 2023-08-10 21:11:33,888] Trial 198 finished with value: 9.1561216375926 and parameters: {'learning_rate': 0.049615155213255005, 'n_estimators': 188, 'max_depth': 3, 'gamma': 0.6847665940169293, 'reg_alpha': 0.6669150422956498, 'reg_lambda': 0.4775845639526157}. Best is trial 187 with value: 8.757000390751795.\n",
      "[I 2023-08-10 21:11:37,626] Trial 199 finished with value: 8.884570597454617 and parameters: {'learning_rate': 0.03242082004345814, 'n_estimators': 194, 'max_depth': 3, 'gamma': 0.6566471517714605, 'reg_alpha': 0.6903832588139928, 'reg_lambda': 0.41767070527839173}. Best is trial 187 with value: 8.757000390751795.\n",
      "[I 2023-08-10 21:12:09,439] Trial 200 finished with value: 10.174624555625632 and parameters: {'learning_rate': 0.03798787234773937, 'n_estimators': 187, 'max_depth': 9, 'gamma': 0.7438511414955263, 'reg_alpha': 0.630948323029995, 'reg_lambda': 0.42598877416143033}. Best is trial 187 with value: 8.757000390751795.\n",
      "[I 2023-08-10 21:12:13,228] Trial 201 finished with value: 8.799861421494516 and parameters: {'learning_rate': 0.03012339946839729, 'n_estimators': 192, 'max_depth': 3, 'gamma': 0.7685455819089159, 'reg_alpha': 0.6460477617147191, 'reg_lambda': 0.4683999100689427}. Best is trial 187 with value: 8.757000390751795.\n",
      "[I 2023-08-10 21:12:16,905] Trial 202 finished with value: 8.795263933294214 and parameters: {'learning_rate': 0.030590371724075416, 'n_estimators': 192, 'max_depth': 3, 'gamma': 0.7116882010670522, 'reg_alpha': 0.6514039024720183, 'reg_lambda': 0.46495655706174477}. Best is trial 187 with value: 8.757000390751795.\n",
      "[I 2023-08-10 21:12:20,579] Trial 203 finished with value: 8.804123091225675 and parameters: {'learning_rate': 0.030129937516224004, 'n_estimators': 192, 'max_depth': 3, 'gamma': 0.7146853851482248, 'reg_alpha': 0.6492751351525224, 'reg_lambda': 0.46894036042669174}. Best is trial 187 with value: 8.757000390751795.\n",
      "[I 2023-08-10 21:12:24,229] Trial 204 finished with value: 8.810145341614497 and parameters: {'learning_rate': 0.029344108868312947, 'n_estimators': 193, 'max_depth': 3, 'gamma': 0.7139482801301555, 'reg_alpha': 0.6154376529258263, 'reg_lambda': 0.4654056873178598}. Best is trial 187 with value: 8.757000390751795.\n",
      "[I 2023-08-10 21:12:27,924] Trial 205 finished with value: 10.964781318186601 and parameters: {'learning_rate': 0.2406901770645813, 'n_estimators': 196, 'max_depth': 3, 'gamma': 0.7133904994961724, 'reg_alpha': 0.6200331175392153, 'reg_lambda': 0.4648759046518467}. Best is trial 187 with value: 8.757000390751795.\n",
      "[I 2023-08-10 21:12:31,639] Trial 206 finished with value: 9.742809029286029 and parameters: {'learning_rate': 0.09326911528833423, 'n_estimators': 193, 'max_depth': 3, 'gamma': 0.7325891967112593, 'reg_alpha': 0.6468718395540904, 'reg_lambda': 0.49068510607484567}. Best is trial 187 with value: 8.757000390751795.\n",
      "[I 2023-08-10 21:12:35,297] Trial 207 finished with value: 8.78376413911234 and parameters: {'learning_rate': 0.030034487425687997, 'n_estimators': 192, 'max_depth': 3, 'gamma': 0.7159592592556138, 'reg_alpha': 0.6636079802086629, 'reg_lambda': 0.45971172504434404}. Best is trial 187 with value: 8.757000390751795.\n",
      "[I 2023-08-10 21:12:39,039] Trial 208 finished with value: 8.992793795583793 and parameters: {'learning_rate': 0.04184619438506227, 'n_estimators': 191, 'max_depth': 3, 'gamma': 0.7108244366545978, 'reg_alpha': 0.6624779331717507, 'reg_lambda': 0.4700854265325876}. Best is trial 187 with value: 8.757000390751795.\n",
      "[I 2023-08-10 21:12:42,969] Trial 209 finished with value: 8.956638129609251 and parameters: {'learning_rate': 0.03474541315030097, 'n_estimators': 196, 'max_depth': 3, 'gamma': 0.7621654268742328, 'reg_alpha': 0.634758333332848, 'reg_lambda': 0.45628321376546727}. Best is trial 187 with value: 8.757000390751795.\n",
      "[I 2023-08-10 21:12:58,214] Trial 210 finished with value: 10.402513309597461 and parameters: {'learning_rate': 0.14278865231058177, 'n_estimators': 193, 'max_depth': 7, 'gamma': 0.677954095511799, 'reg_alpha': 0.6173009628975735, 'reg_lambda': 0.5096565579496499}. Best is trial 187 with value: 8.757000390751795.\n",
      "[I 2023-08-10 21:13:01,968] Trial 211 finished with value: 8.807896279594313 and parameters: {'learning_rate': 0.02949648188611651, 'n_estimators': 197, 'max_depth': 3, 'gamma': 0.6965833478012288, 'reg_alpha': 0.6500036719008204, 'reg_lambda': 0.4432085295348826}. Best is trial 187 with value: 8.757000390751795.\n",
      "[I 2023-08-10 21:13:05,719] Trial 212 finished with value: 8.812619506418807 and parameters: {'learning_rate': 0.029701193497648277, 'n_estimators': 197, 'max_depth': 3, 'gamma': 0.6975112061444957, 'reg_alpha': 0.653143407820187, 'reg_lambda': 0.4370469172148991}. Best is trial 187 with value: 8.757000390751795.\n",
      "[I 2023-08-10 21:13:09,496] Trial 213 finished with value: 8.830388281088732 and parameters: {'learning_rate': 0.03216594083069954, 'n_estimators': 198, 'max_depth': 3, 'gamma': 0.6998605952979225, 'reg_alpha': 0.6473490495705826, 'reg_lambda': 0.4402138010243046}. Best is trial 187 with value: 8.757000390751795.\n",
      "[I 2023-08-10 21:13:13,295] Trial 214 finished with value: 8.964609307206361 and parameters: {'learning_rate': 0.020609921296732146, 'n_estimators': 197, 'max_depth': 3, 'gamma': 0.7211666221343702, 'reg_alpha': 0.6061639574011768, 'reg_lambda': 0.47421643462189533}. Best is trial 187 with value: 8.757000390751795.\n",
      "[I 2023-08-10 21:13:17,085] Trial 215 finished with value: 8.83394077148862 and parameters: {'learning_rate': 0.0300630236009575, 'n_estimators': 200, 'max_depth': 3, 'gamma': 0.6969254188573553, 'reg_alpha': 0.6745011837514493, 'reg_lambda': 0.43173424674458216}. Best is trial 187 with value: 8.757000390751795.\n",
      "[I 2023-08-10 21:13:39,639] Trial 216 finished with value: 10.074252421396599 and parameters: {'learning_rate': 0.038728851228155746, 'n_estimators': 193, 'max_depth': 8, 'gamma': 0.7288415964644507, 'reg_alpha': 0.6620362862606501, 'reg_lambda': 0.4586392668793394}. Best is trial 187 with value: 8.757000390751795.\n",
      "[I 2023-08-10 21:13:43,426] Trial 217 finished with value: 9.043578216259817 and parameters: {'learning_rate': 0.04604313312245774, 'n_estimators': 193, 'max_depth': 3, 'gamma': 0.6644656666562742, 'reg_alpha': 0.6378753110961779, 'reg_lambda': 0.49020773343253315}. Best is trial 187 with value: 8.757000390751795.\n",
      "[I 2023-08-10 21:13:47,015] Trial 218 finished with value: 9.395312494210204 and parameters: {'learning_rate': 0.06615273798249208, 'n_estimators': 189, 'max_depth': 3, 'gamma': 0.7503869930145405, 'reg_alpha': 0.6791021584185825, 'reg_lambda': 0.43819868321443595}. Best is trial 187 with value: 8.757000390751795.\n",
      "[I 2023-08-10 21:13:50,795] Trial 219 finished with value: 10.008432246073122 and parameters: {'learning_rate': 0.015724053116310824, 'n_estimators': 196, 'max_depth': 3, 'gamma': 0.689474131091408, 'reg_alpha': 0.6381288671874028, 'reg_lambda': 0.5073975830213214}. Best is trial 187 with value: 8.757000390751795.\n",
      "[I 2023-08-10 21:13:54,355] Trial 220 finished with value: 10.131406641660877 and parameters: {'learning_rate': 0.11830697418254482, 'n_estimators': 186, 'max_depth': 3, 'gamma': 0.7727223258388061, 'reg_alpha': 0.6547186936541369, 'reg_lambda': 0.4116325507681014}. Best is trial 187 with value: 8.757000390751795.\n",
      "[I 2023-08-10 21:13:58,015] Trial 221 finished with value: 8.810130618340132 and parameters: {'learning_rate': 0.027905424029477932, 'n_estimators': 190, 'max_depth': 3, 'gamma': 0.7172527718309072, 'reg_alpha': 0.684709324853319, 'reg_lambda': 0.4645656456090153}. Best is trial 187 with value: 8.757000390751795.\n",
      "[I 2023-08-10 21:14:01,699] Trial 222 finished with value: 8.80960764417716 and parameters: {'learning_rate': 0.029602961455477465, 'n_estimators': 191, 'max_depth': 3, 'gamma': 0.7171526375669381, 'reg_alpha': 0.6898061127920748, 'reg_lambda': 0.47093704566041555}. Best is trial 187 with value: 8.757000390751795.\n",
      "[I 2023-08-10 21:14:05,395] Trial 223 finished with value: 8.95370601491351 and parameters: {'learning_rate': 0.03639499560416056, 'n_estimators': 192, 'max_depth': 3, 'gamma': 0.720021842903711, 'reg_alpha': 0.6846085372312001, 'reg_lambda': 0.4669445338184068}. Best is trial 187 with value: 8.757000390751795.\n",
      "[I 2023-08-10 21:14:09,228] Trial 224 finished with value: 8.949771890335214 and parameters: {'learning_rate': 0.021266048555462623, 'n_estimators': 196, 'max_depth': 3, 'gamma': 0.704011409054326, 'reg_alpha': 0.6698458122575106, 'reg_lambda': 0.4481321998384238}. Best is trial 187 with value: 8.757000390751795.\n",
      "[I 2023-08-10 21:14:13,045] Trial 225 finished with value: 8.859289217286408 and parameters: {'learning_rate': 0.03189943978551117, 'n_estimators': 200, 'max_depth': 3, 'gamma': 0.7399160443921176, 'reg_alpha': 0.6974130609940576, 'reg_lambda': 0.4779242305327814}. Best is trial 187 with value: 8.757000390751795.\n",
      "[I 2023-08-10 21:14:16,765] Trial 226 finished with value: 8.826981176721736 and parameters: {'learning_rate': 0.025708327013797043, 'n_estimators': 190, 'max_depth': 3, 'gamma': 0.6865527715572406, 'reg_alpha': 0.6490358539602037, 'reg_lambda': 0.4395925032780753}. Best is trial 187 with value: 8.757000390751795.\n",
      "[I 2023-08-10 21:14:20,406] Trial 227 finished with value: 9.597646251303395 and parameters: {'learning_rate': 0.10692367215700795, 'n_estimators': 188, 'max_depth': 3, 'gamma': 0.7207722219271415, 'reg_alpha': 0.6201077133064211, 'reg_lambda': 0.4826428701986466}. Best is trial 187 with value: 8.757000390751795.\n",
      "[I 2023-08-10 21:14:24,171] Trial 228 finished with value: 8.839363650119301 and parameters: {'learning_rate': 0.02921279788274814, 'n_estimators': 193, 'max_depth': 3, 'gamma': 0.7557078182266701, 'reg_alpha': 0.5921624376596266, 'reg_lambda': 0.42858908344570384}. Best is trial 187 with value: 8.757000390751795.\n",
      "[I 2023-08-10 21:14:27,986] Trial 229 finished with value: 8.955258282256656 and parameters: {'learning_rate': 0.03691206151891211, 'n_estimators': 196, 'max_depth': 3, 'gamma': 0.6664842316969323, 'reg_alpha': 0.6905537520812389, 'reg_lambda': 0.5039281953925228}. Best is trial 187 with value: 8.757000390751795.\n",
      "[I 2023-08-10 21:14:31,661] Trial 230 finished with value: 9.00803733671485 and parameters: {'learning_rate': 0.02122880402598796, 'n_estimators': 186, 'max_depth': 3, 'gamma': 0.7424263367341641, 'reg_alpha': 0.668593031453098, 'reg_lambda': 0.4654051055096941}. Best is trial 187 with value: 8.757000390751795.\n",
      "[I 2023-08-10 21:14:35,396] Trial 231 finished with value: 8.814670609106075 and parameters: {'learning_rate': 0.028969882875271042, 'n_estimators': 191, 'max_depth': 3, 'gamma': 0.7072492141245541, 'reg_alpha': 0.6412154659836866, 'reg_lambda': 0.4541410398930444}. Best is trial 187 with value: 8.757000390751795.\n",
      "[I 2023-08-10 21:14:38,976] Trial 232 finished with value: 8.764407086269696 and parameters: {'learning_rate': 0.030154420534186373, 'n_estimators': 185, 'max_depth': 3, 'gamma': 0.7302970393362599, 'reg_alpha': 0.6608404094185171, 'reg_lambda': 0.4879250334002614}. Best is trial 187 with value: 8.757000390751795.\n",
      "[I 2023-08-10 21:14:42,586] Trial 233 finished with value: 8.816868468140978 and parameters: {'learning_rate': 0.03345589284109676, 'n_estimators': 187, 'max_depth': 3, 'gamma': 0.7194798018162666, 'reg_alpha': 0.6666755128797444, 'reg_lambda': 0.4822303986063564}. Best is trial 187 with value: 8.757000390751795.\n",
      "[I 2023-08-10 21:14:52,846] Trial 234 finished with value: 9.64256794889911 and parameters: {'learning_rate': 0.04024257942209789, 'n_estimators': 192, 'max_depth': 6, 'gamma': 0.6855335035508927, 'reg_alpha': 0.6094896034405514, 'reg_lambda': 0.4572430329637868}. Best is trial 187 with value: 8.757000390751795.\n",
      "[I 2023-08-10 21:14:56,686] Trial 235 finished with value: 8.850404956526505 and parameters: {'learning_rate': 0.023636735072602517, 'n_estimators': 197, 'max_depth': 3, 'gamma': 0.7371772637813575, 'reg_alpha': 0.6312565287761592, 'reg_lambda': 0.4951962463956012}. Best is trial 187 with value: 8.757000390751795.\n",
      "[I 2023-08-10 21:15:00,251] Trial 236 finished with value: 8.82826758980158 and parameters: {'learning_rate': 0.02915732911341145, 'n_estimators': 186, 'max_depth': 3, 'gamma': 0.768319188321637, 'reg_alpha': 0.6574121900530707, 'reg_lambda': 0.41816752645479166}. Best is trial 187 with value: 8.757000390751795.\n",
      "[I 2023-08-10 21:15:03,916] Trial 237 finished with value: 9.123733769546735 and parameters: {'learning_rate': 0.019706952854249365, 'n_estimators': 190, 'max_depth': 3, 'gamma': 0.6973584992591816, 'reg_alpha': 0.6840831711140279, 'reg_lambda': 0.4386542379800066}. Best is trial 187 with value: 8.757000390751795.\n",
      "[I 2023-08-10 21:15:07,578] Trial 238 finished with value: 8.955546315562156 and parameters: {'learning_rate': 0.03488275593813359, 'n_estimators': 194, 'max_depth': 3, 'gamma': 0.7249689502021995, 'reg_alpha': 0.7016053292734872, 'reg_lambda': 0.4672753206359485}. Best is trial 187 with value: 8.757000390751795.\n",
      "[I 2023-08-10 21:15:11,401] Trial 239 finished with value: 9.010286033277014 and parameters: {'learning_rate': 0.044284111953823424, 'n_estimators': 200, 'max_depth': 3, 'gamma': 0.6565743544605266, 'reg_alpha': 0.6773819702473494, 'reg_lambda': 0.4101479839496991}. Best is trial 187 with value: 8.757000390751795.\n",
      "[I 2023-08-10 21:15:15,105] Trial 240 finished with value: 11.018566418467675 and parameters: {'learning_rate': 0.014828927222550437, 'n_estimators': 185, 'max_depth': 3, 'gamma': 0.7514470574341443, 'reg_alpha': 0.6513102228291601, 'reg_lambda': 0.45015614499221374}. Best is trial 187 with value: 8.757000390751795.\n",
      "[I 2023-08-10 21:15:18,735] Trial 241 finished with value: 8.771048495305212 and parameters: {'learning_rate': 0.027731726107917246, 'n_estimators': 189, 'max_depth': 3, 'gamma': 0.7070383335996011, 'reg_alpha': 0.6254701706171677, 'reg_lambda': 0.4843766045699774}. Best is trial 187 with value: 8.757000390751795.\n",
      "[I 2023-08-10 21:15:19,949] Trial 242 finished with value: 37.25479347855395 and parameters: {'learning_rate': 0.026875988004905517, 'n_estimators': 43, 'max_depth': 3, 'gamma': 0.7098905002485436, 'reg_alpha': 0.6189150097551646, 'reg_lambda': 0.5164687070412047}. Best is trial 187 with value: 8.757000390751795.\n",
      "[I 2023-08-10 21:15:23,624] Trial 243 finished with value: 8.823003783178331 and parameters: {'learning_rate': 0.03182229186452114, 'n_estimators': 190, 'max_depth': 3, 'gamma': 0.6770075489605569, 'reg_alpha': 0.632277159341348, 'reg_lambda': 0.4816614031189877}. Best is trial 187 with value: 8.757000390751795.\n",
      "[I 2023-08-10 21:15:27,395] Trial 244 finished with value: 8.817834922005693 and parameters: {'learning_rate': 0.02591661391398043, 'n_estimators': 195, 'max_depth': 3, 'gamma': 0.7345770901327323, 'reg_alpha': 0.6583601708107245, 'reg_lambda': 0.4637651163786935}. Best is trial 187 with value: 8.757000390751795.\n",
      "[I 2023-08-10 21:15:31,355] Trial 245 finished with value: 8.825330770201582 and parameters: {'learning_rate': 0.035878282440308364, 'n_estimators': 184, 'max_depth': 3, 'gamma': 0.6981506194930809, 'reg_alpha': 0.569209822674458, 'reg_lambda': 0.490399616009892}. Best is trial 187 with value: 8.757000390751795.\n",
      "[I 2023-08-10 21:15:35,309] Trial 246 finished with value: 9.325009228149852 and parameters: {'learning_rate': 0.06963741039799028, 'n_estimators': 188, 'max_depth': 3, 'gamma': 0.711903001431006, 'reg_alpha': 0.6037215579051003, 'reg_lambda': 0.4258981344814516}. Best is trial 187 with value: 8.757000390751795.\n",
      "[I 2023-08-10 21:15:39,270] Trial 247 finished with value: 10.628961108288744 and parameters: {'learning_rate': 0.17834426034789416, 'n_estimators': 192, 'max_depth': 3, 'gamma': 0.6784771644736085, 'reg_alpha': 0.6932974205427304, 'reg_lambda': 0.523870629902381}. Best is trial 187 with value: 8.757000390751795.\n",
      "[I 2023-08-10 21:15:43,107] Trial 248 finished with value: 8.94131936237638 and parameters: {'learning_rate': 0.020831398059527766, 'n_estimators': 196, 'max_depth': 3, 'gamma': 0.7933226329195039, 'reg_alpha': 0.6458778413407757, 'reg_lambda': 0.4772219541077657}. Best is trial 187 with value: 8.757000390751795.\n",
      "[I 2023-08-10 21:15:46,882] Trial 249 finished with value: 9.542949690794035 and parameters: {'learning_rate': 0.11134266870057498, 'n_estimators': 189, 'max_depth': 3, 'gamma': 0.7268641025147936, 'reg_alpha': 0.6730754806200653, 'reg_lambda': 0.4496045197040334}. Best is trial 187 with value: 8.757000390751795.\n",
      "[I 2023-08-10 21:15:50,826] Trial 250 finished with value: 10.526052152401743 and parameters: {'learning_rate': 0.1481588358374213, 'n_estimators': 193, 'max_depth': 3, 'gamma': 0.7744493282830365, 'reg_alpha': 0.6222580303113509, 'reg_lambda': 0.46605845436559706}. Best is trial 187 with value: 8.757000390751795.\n",
      "[I 2023-08-10 21:15:54,515] Trial 251 finished with value: 8.827124123286712 and parameters: {'learning_rate': 0.03014450258812578, 'n_estimators': 184, 'max_depth': 3, 'gamma': 0.6957170458667531, 'reg_alpha': 0.7063814175829319, 'reg_lambda': 0.49983131883170895}. Best is trial 187 with value: 8.757000390751795.\n",
      "[I 2023-08-10 21:15:58,349] Trial 252 finished with value: 8.983440139315167 and parameters: {'learning_rate': 0.03855163060549312, 'n_estimators': 197, 'max_depth': 3, 'gamma': 0.6528781308514098, 'reg_alpha': 0.6565670456379951, 'reg_lambda': 0.43025993976465515}. Best is trial 187 with value: 8.757000390751795.\n",
      "[I 2023-08-10 21:16:02,014] Trial 253 finished with value: 9.503275173332359 and parameters: {'learning_rate': 0.09270289199650283, 'n_estimators': 188, 'max_depth': 3, 'gamma': 0.7342600089594062, 'reg_alpha': 0.6748568151899723, 'reg_lambda': 0.44453514975295155}. Best is trial 187 with value: 8.757000390751795.\n",
      "[I 2023-08-10 21:16:05,706] Trial 254 finished with value: 8.853656004719289 and parameters: {'learning_rate': 0.023635849838331786, 'n_estimators': 193, 'max_depth': 3, 'gamma': 0.7563420443375215, 'reg_alpha': 0.6377737939634505, 'reg_lambda': 0.49150116049008985}. Best is trial 187 with value: 8.757000390751795.\n",
      "[I 2023-08-10 21:16:09,200] Trial 255 finished with value: 9.623851166742616 and parameters: {'learning_rate': 0.09989513809152044, 'n_estimators': 184, 'max_depth': 3, 'gamma': 0.7114913853753341, 'reg_alpha': 0.6807108156459947, 'reg_lambda': 0.46808955207114417}. Best is trial 187 with value: 8.757000390751795.\n",
      "[I 2023-08-10 21:16:13,064] Trial 256 finished with value: 9.430743895911505 and parameters: {'learning_rate': 0.08108394876969885, 'n_estimators': 200, 'max_depth': 3, 'gamma': 0.6875677813172034, 'reg_alpha': 0.6031576071328988, 'reg_lambda': 0.38830198699533747}. Best is trial 187 with value: 8.757000390751795.\n",
      "[I 2023-08-10 21:16:16,699] Trial 257 finished with value: 8.857818548962475 and parameters: {'learning_rate': 0.03162839755873981, 'n_estimators': 192, 'max_depth': 3, 'gamma': 0.8050751920227053, 'reg_alpha': 0.6531125043306506, 'reg_lambda': 0.4374580261547774}. Best is trial 187 with value: 8.757000390751795.\n",
      "[I 2023-08-10 21:16:20,315] Trial 258 finished with value: 9.165449620211174 and parameters: {'learning_rate': 0.05640721410705625, 'n_estimators': 189, 'max_depth': 3, 'gamma': 0.6761634714983609, 'reg_alpha': 0.6974320499403049, 'reg_lambda': 0.4583375305003667}. Best is trial 187 with value: 8.757000390751795.\n",
      "[I 2023-08-10 21:16:24,232] Trial 259 finished with value: 9.767449797805323 and parameters: {'learning_rate': 0.016344703124153013, 'n_estimators': 196, 'max_depth': 3, 'gamma': 0.748007579224421, 'reg_alpha': 0.6297533894689988, 'reg_lambda': 0.4008788017528759}. Best is trial 187 with value: 8.757000390751795.\n",
      "[I 2023-08-10 21:16:27,825] Trial 260 finished with value: 8.967504870640957 and parameters: {'learning_rate': 0.04422974459625128, 'n_estimators': 185, 'max_depth': 3, 'gamma': 0.6476852318451258, 'reg_alpha': 0.6700646047365519, 'reg_lambda': 0.4807256483223323}. Best is trial 187 with value: 8.757000390751795.\n",
      "[I 2023-08-10 21:16:32,209] Trial 261 finished with value: 8.817563515615626 and parameters: {'learning_rate': 0.024870455144442992, 'n_estimators': 191, 'max_depth': 3, 'gamma': 0.7200816534765769, 'reg_alpha': 0.5811859478479977, 'reg_lambda': 0.41339584253253114}. Best is trial 187 with value: 8.757000390751795.\n",
      "[I 2023-08-10 21:16:34,356] Trial 262 finished with value: 12.113279732762823 and parameters: {'learning_rate': 0.0360624338370234, 'n_estimators': 69, 'max_depth': 3, 'gamma': 0.6353317529333298, 'reg_alpha': 0.6927025599317145, 'reg_lambda': 0.5149260541087833}. Best is trial 187 with value: 8.757000390751795.\n",
      "[I 2023-08-10 21:16:38,822] Trial 263 finished with value: 8.780581762920638 and parameters: {'learning_rate': 0.0285375039516964, 'n_estimators': 181, 'max_depth': 3, 'gamma': 0.7015460122312392, 'reg_alpha': 0.7160282317051758, 'reg_lambda': 0.4524229811057867}. Best is trial 187 with value: 8.757000390751795.\n",
      "[I 2023-08-10 21:16:42,935] Trial 264 finished with value: 8.85196335430292 and parameters: {'learning_rate': 0.03244900062114675, 'n_estimators': 196, 'max_depth': 3, 'gamma': 0.702594450855408, 'reg_alpha': 0.6463802856542226, 'reg_lambda': 0.530761934845486}. Best is trial 187 with value: 8.757000390751795.\n",
      "[I 2023-08-10 21:16:46,676] Trial 265 finished with value: 9.072789883807229 and parameters: {'learning_rate': 0.05077281330942053, 'n_estimators': 187, 'max_depth': 3, 'gamma': 0.7326361765248225, 'reg_alpha': 0.712710156079392, 'reg_lambda': 0.45014105565161316}. Best is trial 187 with value: 8.757000390751795.\n",
      "[I 2023-08-10 21:16:48,775] Trial 266 finished with value: 9.003514264764684 and parameters: {'learning_rate': 0.04083489380708934, 'n_estimators': 96, 'max_depth': 3, 'gamma': 0.6771831016501323, 'reg_alpha': 0.6627397217779726, 'reg_lambda': 0.48126133837442553}. Best is trial 187 with value: 8.757000390751795.\n",
      "[I 2023-08-10 21:16:52,649] Trial 267 finished with value: 9.035775313319059 and parameters: {'learning_rate': 0.020300246199254378, 'n_estimators': 194, 'max_depth': 3, 'gamma': 0.6996710580176767, 'reg_alpha': 0.6219995837896068, 'reg_lambda': 0.49978018777489336}. Best is trial 187 with value: 8.757000390751795.\n",
      "[I 2023-08-10 21:16:56,275] Trial 268 finished with value: 9.5416904163508 and parameters: {'learning_rate': 0.08472583109483951, 'n_estimators': 183, 'max_depth': 3, 'gamma': 0.7731543627640448, 'reg_alpha': 0.5238112870955852, 'reg_lambda': 0.46391564037355804}. Best is trial 187 with value: 8.757000390751795.\n",
      "[I 2023-08-10 21:16:59,985] Trial 269 finished with value: 8.777238358160341 and parameters: {'learning_rate': 0.028901904020217493, 'n_estimators': 189, 'max_depth': 3, 'gamma': 0.7180693091716875, 'reg_alpha': 0.6887904862329495, 'reg_lambda': 0.4387019047960036}. Best is trial 187 with value: 8.757000390751795.\n",
      "[I 2023-08-10 21:17:03,555] Trial 270 finished with value: 10.218764024528943 and parameters: {'learning_rate': 0.016760493543970297, 'n_estimators': 178, 'max_depth': 3, 'gamma': 0.7207027914982524, 'reg_alpha': 0.691727089944696, 'reg_lambda': 0.41755479684844554}. Best is trial 187 with value: 8.757000390751795.\n",
      "[I 2023-08-10 21:17:07,411] Trial 271 finished with value: 18.05057107723697 and parameters: {'learning_rate': 0.010136457615338861, 'n_estimators': 188, 'max_depth': 3, 'gamma': 0.7495365005442053, 'reg_alpha': 0.7126554654109813, 'reg_lambda': 0.4959877440085088}. Best is trial 187 with value: 8.757000390751795.\n",
      "[I 2023-08-10 21:17:11,308] Trial 272 finished with value: 8.903960336487597 and parameters: {'learning_rate': 0.03715562629942385, 'n_estimators': 190, 'max_depth': 3, 'gamma': 0.665705613546724, 'reg_alpha': 0.6779898371289309, 'reg_lambda': 0.43152289247258724}. Best is trial 187 with value: 8.757000390751795.\n",
      "[I 2023-08-10 21:17:14,870] Trial 273 finished with value: 9.327111924270358 and parameters: {'learning_rate': 0.07599395438262704, 'n_estimators': 183, 'max_depth': 3, 'gamma': 0.7140679715566733, 'reg_alpha': 0.16309529983317728, 'reg_lambda': 0.47182788081344}. Best is trial 187 with value: 8.757000390751795.\n",
      "[I 2023-08-10 21:17:18,515] Trial 274 finished with value: 8.825175732378344 and parameters: {'learning_rate': 0.024897230883984146, 'n_estimators': 186, 'max_depth': 3, 'gamma': 0.7388722647092658, 'reg_alpha': 0.7076772021650278, 'reg_lambda': 0.4515293569138947}. Best is trial 187 with value: 8.757000390751795.\n",
      "[I 2023-08-10 21:17:21,980] Trial 275 finished with value: 12.557061827598217 and parameters: {'learning_rate': 0.29784025595337676, 'n_estimators': 180, 'max_depth': 3, 'gamma': 0.7602026371221967, 'reg_alpha': 0.3458905801417381, 'reg_lambda': 0.4796814282825499}. Best is trial 187 with value: 8.757000390751795.\n",
      "[I 2023-08-10 21:17:24,615] Trial 276 finished with value: 9.412973340238143 and parameters: {'learning_rate': 0.12989068443079682, 'n_estimators': 129, 'max_depth': 3, 'gamma': 0.6875986787669397, 'reg_alpha': 0.687893037512756, 'reg_lambda': 0.5272786859645469}. Best is trial 187 with value: 8.757000390751795.\n",
      "[I 2023-08-10 21:17:28,384] Trial 277 finished with value: 10.251242596045767 and parameters: {'learning_rate': 0.13133651880133543, 'n_estimators': 192, 'max_depth': 3, 'gamma': 0.7826210193290223, 'reg_alpha': 0.6682383741119187, 'reg_lambda': 0.45597131133896524}. Best is trial 187 with value: 8.757000390751795.\n",
      "[I 2023-08-10 21:17:35,656] Trial 278 finished with value: 9.197750521833122 and parameters: {'learning_rate': 0.030030059730860637, 'n_estimators': 189, 'max_depth': 5, 'gamma': 0.7290292388075943, 'reg_alpha': 0.6367534816459324, 'reg_lambda': 0.4285482461344673}. Best is trial 187 with value: 8.757000390751795.\n",
      "[I 2023-08-10 21:17:39,469] Trial 279 finished with value: 9.001828462366309 and parameters: {'learning_rate': 0.04191487494592622, 'n_estimators': 194, 'max_depth': 3, 'gamma': 0.7140168987879221, 'reg_alpha': 0.2378344804638719, 'reg_lambda': 0.5042658256096051}. Best is trial 187 with value: 8.757000390751795.\n",
      "[I 2023-08-10 21:17:43,395] Trial 280 finished with value: 8.893014069504279 and parameters: {'learning_rate': 0.021577191457002473, 'n_estimators': 200, 'max_depth': 3, 'gamma': 0.6690787503907561, 'reg_alpha': 0.5997114586097845, 'reg_lambda': 0.44170475345529747}. Best is trial 187 with value: 8.757000390751795.\n",
      "[I 2023-08-10 21:17:46,855] Trial 281 finished with value: 8.87369210670779 and parameters: {'learning_rate': 0.034958508826536845, 'n_estimators': 176, 'max_depth': 3, 'gamma': 0.7429265924403862, 'reg_alpha': 0.7178185300779482, 'reg_lambda': 0.4691531218059218}. Best is trial 187 with value: 8.757000390751795.\n",
      "[I 2023-08-10 21:17:50,466] Trial 282 finished with value: 8.795016725543615 and parameters: {'learning_rate': 0.027849573841300147, 'n_estimators': 186, 'max_depth': 3, 'gamma': 0.7005625931984819, 'reg_alpha': 0.6569683243798972, 'reg_lambda': 0.3947392909263589}. Best is trial 187 with value: 8.757000390751795.\n",
      "[I 2023-08-10 21:17:54,125] Trial 283 finished with value: 10.518473158982767 and parameters: {'learning_rate': 0.22486788211390257, 'n_estimators': 186, 'max_depth': 3, 'gamma': 0.6919537666547653, 'reg_alpha': 0.6583629021516408, 'reg_lambda': 0.4179146496973655}. Best is trial 187 with value: 8.757000390751795.\n",
      "[I 2023-08-10 21:17:57,765] Trial 284 finished with value: 8.82879005609582 and parameters: {'learning_rate': 0.02584106285017812, 'n_estimators': 191, 'max_depth': 3, 'gamma': 0.7139799140074999, 'reg_alpha': 0.6398913950607911, 'reg_lambda': 0.38550267996912474}. Best is trial 187 with value: 8.757000390751795.\n",
      "[I 2023-08-10 21:18:01,555] Trial 285 finished with value: 9.096265118809658 and parameters: {'learning_rate': 0.047640744084433695, 'n_estimators': 187, 'max_depth': 3, 'gamma': 0.7621012330392334, 'reg_alpha': 0.6759763631445992, 'reg_lambda': 0.4023766750537876}. Best is trial 187 with value: 8.757000390751795.\n",
      "[I 2023-08-10 21:18:05,226] Trial 286 finished with value: 10.82272068918685 and parameters: {'learning_rate': 0.015254273800660948, 'n_estimators': 183, 'max_depth': 3, 'gamma': 0.6233773530294169, 'reg_alpha': 0.4732586468347966, 'reg_lambda': 0.5979714449232665}. Best is trial 187 with value: 8.757000390751795.\n",
      "[I 2023-08-10 21:18:08,950] Trial 287 finished with value: 8.827792607402696 and parameters: {'learning_rate': 0.027958848284653625, 'n_estimators': 194, 'max_depth': 3, 'gamma': 0.6975001658272799, 'reg_alpha': 0.6164034114584884, 'reg_lambda': 0.4498594398982375}. Best is trial 187 with value: 8.757000390751795.\n",
      "[I 2023-08-10 21:18:12,716] Trial 288 finished with value: 9.011225793312216 and parameters: {'learning_rate': 0.02071136078406361, 'n_estimators': 190, 'max_depth': 3, 'gamma': 0.6541815192687414, 'reg_alpha': 0.6927038834468454, 'reg_lambda': 0.4051264144050069}. Best is trial 187 with value: 8.757000390751795.\n",
      "[I 2023-08-10 21:18:17,829] Trial 289 finished with value: 9.306555768341884 and parameters: {'learning_rate': 0.03521248877905139, 'n_estimators': 197, 'max_depth': 4, 'gamma': 0.7290901918381301, 'reg_alpha': 0.6495623701780618, 'reg_lambda': 0.48086710378246744}. Best is trial 187 with value: 8.757000390751795.\n",
      "[I 2023-08-10 21:18:21,265] Trial 290 finished with value: 8.793545251787506 and parameters: {'learning_rate': 0.030130139970554404, 'n_estimators': 181, 'max_depth': 3, 'gamma': 0.8051795354635343, 'reg_alpha': 0.6634691626545118, 'reg_lambda': 0.4347209116764901}. Best is trial 187 with value: 8.757000390751795.\n",
      "[I 2023-08-10 21:18:24,686] Trial 291 finished with value: 8.911556308202384 and parameters: {'learning_rate': 0.042012540355776784, 'n_estimators': 179, 'max_depth': 3, 'gamma': 0.7923545933455671, 'reg_alpha': 0.6725064824847229, 'reg_lambda': 0.42460137735965986}. Best is trial 187 with value: 8.757000390751795.\n",
      "[I 2023-08-10 21:18:28,167] Trial 292 finished with value: 10.17477923970723 and parameters: {'learning_rate': 0.11906165728335488, 'n_estimators': 182, 'max_depth': 3, 'gamma': 0.8132084052811603, 'reg_alpha': 0.6987351668398989, 'reg_lambda': 0.3908019149547408}. Best is trial 187 with value: 8.757000390751795.\n",
      "[I 2023-08-10 21:18:31,699] Trial 293 finished with value: 10.917721751603482 and parameters: {'learning_rate': 0.2772683096269771, 'n_estimators': 185, 'max_depth': 3, 'gamma': 0.750389770811867, 'reg_alpha': 0.664045536277738, 'reg_lambda': 0.4374627693911996}. Best is trial 187 with value: 8.757000390751795.\n",
      "[I 2023-08-10 21:18:35,196] Trial 294 finished with value: 8.937496437761904 and parameters: {'learning_rate': 0.02403931255273792, 'n_estimators': 181, 'max_depth': 3, 'gamma': 0.7718558416892393, 'reg_alpha': 0.6782905882700315, 'reg_lambda': 0.4535237316911108}. Best is trial 187 with value: 8.757000390751795.\n",
      "[I 2023-08-10 21:18:38,925] Trial 295 finished with value: 10.384435490462787 and parameters: {'learning_rate': 0.1676920744710047, 'n_estimators': 188, 'max_depth': 3, 'gamma': 0.6783322601038558, 'reg_alpha': 0.645350603534499, 'reg_lambda': 0.9811406569345189}. Best is trial 187 with value: 8.757000390751795.\n",
      "[I 2023-08-10 21:18:42,570] Trial 296 finished with value: 8.79810069662416 and parameters: {'learning_rate': 0.03363424319474835, 'n_estimators': 184, 'max_depth': 3, 'gamma': 0.7330480413375755, 'reg_alpha': 0.7097061588647662, 'reg_lambda': 0.49069005248502184}. Best is trial 187 with value: 8.757000390751795.\n",
      "[I 2023-08-10 21:18:46,005] Trial 297 finished with value: 8.84400118913739 and parameters: {'learning_rate': 0.03763002814737319, 'n_estimators': 176, 'max_depth': 3, 'gamma': 0.7400746178110844, 'reg_alpha': 0.7200315315383283, 'reg_lambda': 0.49360154894145736}. Best is trial 187 with value: 8.757000390751795.\n",
      "[I 2023-08-10 21:18:49,536] Trial 298 finished with value: 9.362024612192775 and parameters: {'learning_rate': 0.07231527203783525, 'n_estimators': 184, 'max_depth': 3, 'gamma': 0.801722327123031, 'reg_alpha': 0.699045228755595, 'reg_lambda': 0.5113222746500582}. Best is trial 187 with value: 8.757000390751795.\n",
      "[I 2023-08-10 21:18:53,005] Trial 299 finished with value: 9.214336924069947 and parameters: {'learning_rate': 0.061864957373817565, 'n_estimators': 179, 'max_depth': 3, 'gamma': 0.7612265044826554, 'reg_alpha': 0.6605144475148346, 'reg_lambda': 0.3750270963695755}. Best is trial 187 with value: 8.757000390751795.\n",
      "[I 2023-08-10 21:18:56,536] Trial 300 finished with value: 8.864462544016664 and parameters: {'learning_rate': 0.03386559820577585, 'n_estimators': 185, 'max_depth': 3, 'gamma': 0.732819719527784, 'reg_alpha': 0.7156098839542859, 'reg_lambda': 0.4197080170792952}. Best is trial 187 with value: 8.757000390751795.\n",
      "[I 2023-08-10 21:19:00,136] Trial 301 finished with value: 9.071002024939432 and parameters: {'learning_rate': 0.04891699460648353, 'n_estimators': 188, 'max_depth': 3, 'gamma': 0.7851414250066929, 'reg_alpha': 0.6349915722494103, 'reg_lambda': 0.49037296583653384}. Best is trial 187 with value: 8.757000390751795.\n",
      "[I 2023-08-10 21:19:03,676] Trial 302 finished with value: 9.680291661656582 and parameters: {'learning_rate': 0.017853549174516502, 'n_estimators': 182, 'max_depth': 3, 'gamma': 0.6893767149774389, 'reg_alpha': 0.6592137420543275, 'reg_lambda': 0.4397310099378235}. Best is trial 187 with value: 8.757000390751795.\n",
      "[I 2023-08-10 21:19:07,516] Trial 303 finished with value: 8.86429374637083 and parameters: {'learning_rate': 0.032011441024041534, 'n_estimators': 196, 'max_depth': 3, 'gamma': 0.8257429588797214, 'reg_alpha': 0.9318917265642165, 'reg_lambda': 0.39997235821798316}. Best is trial 187 with value: 8.757000390751795.\n",
      "[I 2023-08-10 21:19:11,178] Trial 304 finished with value: 8.966420419759746 and parameters: {'learning_rate': 0.04118794560849393, 'n_estimators': 193, 'max_depth': 3, 'gamma': 0.706257575725885, 'reg_alpha': 0.6785091219554923, 'reg_lambda': 0.47416705854273433}. Best is trial 187 with value: 8.757000390751795.\n",
      "[I 2023-08-10 21:19:14,780] Trial 305 finished with value: 8.875041788609021 and parameters: {'learning_rate': 0.023527166660801176, 'n_estimators': 190, 'max_depth': 3, 'gamma': 0.6014706987907603, 'reg_alpha': 0.5908823357015491, 'reg_lambda': 0.4500045190617622}. Best is trial 187 with value: 8.757000390751795.\n",
      "[I 2023-08-10 21:19:16,742] Trial 306 finished with value: 35.8199343912607 and parameters: {'learning_rate': 0.014092636709810738, 'n_estimators': 85, 'max_depth': 3, 'gamma': 0.6625781325052723, 'reg_alpha': 0.6297110701145128, 'reg_lambda': 0.42664008320113544}. Best is trial 187 with value: 8.757000390751795.\n",
      "[I 2023-08-10 21:19:20,085] Trial 307 finished with value: 8.800210194096607 and parameters: {'learning_rate': 0.03130971339934343, 'n_estimators': 175, 'max_depth': 3, 'gamma': 0.7237096853144681, 'reg_alpha': 0.6995702762270595, 'reg_lambda': 0.5413898440631061}. Best is trial 187 with value: 8.757000390751795.\n",
      "[I 2023-08-10 21:19:23,644] Trial 308 finished with value: 8.918203125626437 and parameters: {'learning_rate': 0.03737077339545667, 'n_estimators': 179, 'max_depth': 3, 'gamma': 0.7344535493789464, 'reg_alpha': 0.7048794369407639, 'reg_lambda': 0.5539754517772117}. Best is trial 187 with value: 8.757000390751795.\n",
      "[I 2023-08-10 21:19:27,009] Trial 309 finished with value: 9.642956917032322 and parameters: {'learning_rate': 0.0993850557949651, 'n_estimators': 173, 'max_depth': 3, 'gamma': 0.7497149810907147, 'reg_alpha': 0.731277700186693, 'reg_lambda': 0.5385360687891262}. Best is trial 187 with value: 8.757000390751795.\n",
      "[I 2023-08-10 21:19:40,865] Trial 310 finished with value: 9.893771719653268 and parameters: {'learning_rate': 0.12421352059401862, 'n_estimators': 177, 'max_depth': 7, 'gamma': 0.8407000308096156, 'reg_alpha': 0.6535629237761634, 'reg_lambda': 0.5137868527767935}. Best is trial 187 with value: 8.757000390751795.\n",
      "[I 2023-08-10 21:19:44,379] Trial 311 finished with value: 9.534423778422358 and parameters: {'learning_rate': 0.11070476462532512, 'n_estimators': 176, 'max_depth': 3, 'gamma': 0.6840807254612913, 'reg_alpha': 0.683530717944238, 'reg_lambda': 0.49514586061509996}. Best is trial 187 with value: 8.757000390751795.\n",
      "[I 2023-08-10 21:19:47,818] Trial 312 finished with value: 9.321467136659244 and parameters: {'learning_rate': 0.05432110666213444, 'n_estimators': 182, 'max_depth': 3, 'gamma': 0.6499958805974626, 'reg_alpha': 0.6670507619531513, 'reg_lambda': 0.5377573431850342}. Best is trial 187 with value: 8.757000390751795.\n",
      "[I 2023-08-10 21:19:51,706] Trial 313 finished with value: 8.840484942092761 and parameters: {'learning_rate': 0.03225394122369471, 'n_estimators': 200, 'max_depth': 3, 'gamma': 0.7739499467690358, 'reg_alpha': 0.6317135226323276, 'reg_lambda': 0.4378250284753214}. Best is trial 187 with value: 8.757000390751795.\n",
      "[I 2023-08-10 21:19:56,566] Trial 314 finished with value: 9.62261939588964 and parameters: {'learning_rate': 0.08769383438225628, 'n_estimators': 184, 'max_depth': 4, 'gamma': 0.705091432985115, 'reg_alpha': 0.6476951893859474, 'reg_lambda': 0.5613135589121466}. Best is trial 187 with value: 8.757000390751795.\n",
      "[I 2023-08-10 21:20:00,264] Trial 315 finished with value: 8.872241847861693 and parameters: {'learning_rate': 0.023868189543180793, 'n_estimators': 187, 'max_depth': 3, 'gamma': 0.72671798289792, 'reg_alpha': 0.717024664580719, 'reg_lambda': 0.5172354031748672}. Best is trial 187 with value: 8.757000390751795.\n",
      "[I 2023-08-10 21:20:03,666] Trial 316 finished with value: 11.013326421420564 and parameters: {'learning_rate': 0.19949072222826075, 'n_estimators': 175, 'max_depth': 3, 'gamma': 0.7978189630055014, 'reg_alpha': 0.6988719446535495, 'reg_lambda': 0.40841469772329586}. Best is trial 187 with value: 8.757000390751795.\n",
      "[I 2023-08-10 21:20:07,126] Trial 317 finished with value: 9.098035198143847 and parameters: {'learning_rate': 0.045624792632395425, 'n_estimators': 180, 'max_depth': 3, 'gamma': 0.7008030239420266, 'reg_alpha': 0.6125877808270579, 'reg_lambda': 0.4645314925447336}. Best is trial 187 with value: 8.757000390751795.\n",
      "[I 2023-08-10 21:20:10,895] Trial 318 finished with value: 9.014486108949566 and parameters: {'learning_rate': 0.020062059768114412, 'n_estimators': 197, 'max_depth': 3, 'gamma': 0.6724099340785826, 'reg_alpha': 0.6726566743167334, 'reg_lambda': 0.4854893240256295}. Best is trial 187 with value: 8.757000390751795.\n",
      "[I 2023-08-10 21:20:14,517] Trial 319 finished with value: 8.79161079102248 and parameters: {'learning_rate': 0.02945183283971662, 'n_estimators': 186, 'max_depth': 3, 'gamma': 0.8528207218036804, 'reg_alpha': 0.5768179849790326, 'reg_lambda': 0.3740835140641965}. Best is trial 187 with value: 8.757000390751795.\n",
      "[I 2023-08-10 21:20:18,035] Trial 320 finished with value: 10.050343341073104 and parameters: {'learning_rate': 0.1488037741757182, 'n_estimators': 187, 'max_depth': 3, 'gamma': 0.7517970618478665, 'reg_alpha': 0.10311911614131575, 'reg_lambda': 0.3863961465731587}. Best is trial 187 with value: 8.757000390751795.\n",
      "[I 2023-08-10 21:20:40,686] Trial 321 finished with value: 9.911041694427746 and parameters: {'learning_rate': 0.038530412459751105, 'n_estimators': 193, 'max_depth': 8, 'gamma': 0.8279030064450791, 'reg_alpha': 0.6014129362720261, 'reg_lambda': 0.3716613062676568}. Best is trial 187 with value: 8.757000390751795.\n",
      "[I 2023-08-10 21:20:51,035] Trial 322 finished with value: 9.566478954056809 and parameters: {'learning_rate': 0.03148756751958173, 'n_estimators': 190, 'max_depth': 6, 'gamma': 0.859338542887752, 'reg_alpha': 0.5621891433840003, 'reg_lambda': 0.45355967739640357}. Best is trial 187 with value: 8.757000390751795.\n",
      "[I 2023-08-10 21:20:54,685] Trial 323 finished with value: 8.99372036599525 and parameters: {'learning_rate': 0.04370869154494853, 'n_estimators': 186, 'max_depth': 3, 'gamma': 0.7256307003532207, 'reg_alpha': 0.5507111104860243, 'reg_lambda': 0.5676308784535443}. Best is trial 187 with value: 8.757000390751795.\n",
      "[I 2023-08-10 21:20:58,450] Trial 324 finished with value: 8.808064640234068 and parameters: {'learning_rate': 0.02756766271473376, 'n_estimators': 195, 'max_depth': 3, 'gamma': 0.7669134314948804, 'reg_alpha': 0.5889231922001607, 'reg_lambda': 0.41025400393461925}. Best is trial 187 with value: 8.757000390751795.\n",
      "[I 2023-08-10 21:20:59,489] Trial 325 finished with value: 15.13807478818445 and parameters: {'learning_rate': 0.06152972382845283, 'n_estimators': 34, 'max_depth': 3, 'gamma': 0.7068415963629422, 'reg_alpha': 0.5679325904540753, 'reg_lambda': 0.762777734434111}. Best is trial 187 with value: 8.757000390751795.\n",
      "[I 2023-08-10 21:21:03,134] Trial 326 finished with value: 8.901062180510547 and parameters: {'learning_rate': 0.03567460672603799, 'n_estimators': 184, 'max_depth': 3, 'gamma': 0.6868697625405216, 'reg_alpha': 0.6271588781754696, 'reg_lambda': 0.5031555372869498}. Best is trial 187 with value: 8.757000390751795.\n",
      "[I 2023-08-10 21:21:06,826] Trial 327 finished with value: 9.574331412645599 and parameters: {'learning_rate': 0.017229453802386153, 'n_estimators': 192, 'max_depth': 3, 'gamma': 0.8107373100403394, 'reg_alpha': 0.645889471299344, 'reg_lambda': 0.4287451350964528}. Best is trial 187 with value: 8.757000390751795.\n",
      "[I 2023-08-10 21:21:09,669] Trial 328 finished with value: 10.850655686046617 and parameters: {'learning_rate': 0.21413149498568324, 'n_estimators': 146, 'max_depth': 3, 'gamma': 0.7376306492136315, 'reg_alpha': 0.9902311099920464, 'reg_lambda': 0.39199727145693647}. Best is trial 187 with value: 8.757000390751795.\n",
      "[I 2023-08-10 21:21:13,516] Trial 329 finished with value: 10.788130028419355 and parameters: {'learning_rate': 0.18878459453510307, 'n_estimators': 198, 'max_depth': 3, 'gamma': 0.8483385699982471, 'reg_alpha': 0.5829935775142806, 'reg_lambda': 0.48176422904248234}. Best is trial 187 with value: 8.757000390751795.\n",
      "[I 2023-08-10 21:21:17,266] Trial 330 finished with value: 8.804857629017812 and parameters: {'learning_rate': 0.02704411505577424, 'n_estimators': 188, 'max_depth': 3, 'gamma': 0.719904684015243, 'reg_alpha': 0.660384456052916, 'reg_lambda': 0.6207291809749732}. Best is trial 187 with value: 8.757000390751795.\n",
      "[I 2023-08-10 21:21:21,095] Trial 331 finished with value: 14.683130223678077 and parameters: {'learning_rate': 0.011689853738585776, 'n_estimators': 187, 'max_depth': 3, 'gamma': 0.46302223488668726, 'reg_alpha': 0.6793551824835796, 'reg_lambda': 0.5368622896625459}. Best is trial 187 with value: 8.757000390751795.\n",
      "[I 2023-08-10 21:21:24,619] Trial 332 finished with value: 8.967859653749935 and parameters: {'learning_rate': 0.022365890667117878, 'n_estimators': 180, 'max_depth': 3, 'gamma': 0.752624453982337, 'reg_alpha': 0.5405593488388295, 'reg_lambda': 0.5215906684430464}. Best is trial 187 with value: 8.757000390751795.\n",
      "[I 2023-08-10 21:21:28,185] Trial 333 finished with value: 8.884453267101748 and parameters: {'learning_rate': 0.034797869623371495, 'n_estimators': 184, 'max_depth': 3, 'gamma': 0.7219506520547939, 'reg_alpha': 0.6623582790942474, 'reg_lambda': 0.3627855342424535}. Best is trial 187 with value: 8.757000390751795.\n",
      "[I 2023-08-10 21:21:31,740] Trial 334 finished with value: 10.044226653578093 and parameters: {'learning_rate': 0.15994361661860967, 'n_estimators': 189, 'max_depth': 3, 'gamma': 0.6406939747604016, 'reg_alpha': 0.7027401683346172, 'reg_lambda': 0.5758470928742906}. Best is trial 187 with value: 8.757000390751795.\n",
      "[I 2023-08-10 21:21:35,257] Trial 335 finished with value: 8.801932070351455 and parameters: {'learning_rate': 0.027958137007892184, 'n_estimators': 182, 'max_depth': 3, 'gamma': 0.7447146528021067, 'reg_alpha': 0.6248249588406641, 'reg_lambda': 0.6618347971873112}. Best is trial 187 with value: 8.757000390751795.\n",
      "[I 2023-08-10 21:21:38,614] Trial 336 finished with value: 10.18061752851551 and parameters: {'learning_rate': 0.1360247216476371, 'n_estimators': 174, 'max_depth': 3, 'gamma': 0.7872470735933451, 'reg_alpha': 0.6116415702184221, 'reg_lambda': 0.46083477591958516}. Best is trial 187 with value: 8.757000390751795.\n",
      "[I 2023-08-10 21:21:42,255] Trial 337 finished with value: 8.964881196538775 and parameters: {'learning_rate': 0.040257988898405365, 'n_estimators': 181, 'max_depth': 3, 'gamma': 0.7696882834984271, 'reg_alpha': 0.6269826918964774, 'reg_lambda': 0.6794760211174377}. Best is trial 187 with value: 8.757000390751795.\n",
      "[I 2023-08-10 21:21:45,829] Trial 338 finished with value: 9.268825010312204 and parameters: {'learning_rate': 0.0682136653288781, 'n_estimators': 183, 'max_depth': 3, 'gamma': 0.7435463959451521, 'reg_alpha': 0.6067263037481695, 'reg_lambda': 0.4935199625583745}. Best is trial 187 with value: 8.757000390751795.\n",
      "[I 2023-08-10 21:21:50,552] Trial 339 finished with value: 9.49015195831559 and parameters: {'learning_rate': 0.02007570809618684, 'n_estimators': 178, 'max_depth': 4, 'gamma': 0.7608002897797584, 'reg_alpha': 0.7345671215293949, 'reg_lambda': 0.4739490720858682}. Best is trial 187 with value: 8.757000390751795.\n",
      "[I 2023-08-10 21:21:54,236] Trial 340 finished with value: 8.835412067517026 and parameters: {'learning_rate': 0.03187090654725666, 'n_estimators': 192, 'max_depth': 3, 'gamma': 0.7964401702860976, 'reg_alpha': 0.6357467882216649, 'reg_lambda': 0.5095412216992999}. Best is trial 187 with value: 8.757000390751795.\n",
      "[I 2023-08-10 21:21:57,795] Trial 341 finished with value: 9.108170092972223 and parameters: {'learning_rate': 0.04770962699034026, 'n_estimators': 185, 'max_depth': 3, 'gamma': 0.7336784308529238, 'reg_alpha': 0.6854113735773758, 'reg_lambda': 0.42168065103305136}. Best is trial 187 with value: 8.757000390751795.\n",
      "[I 2023-08-10 21:22:04,244] Trial 342 finished with value: 9.882402405362612 and parameters: {'learning_rate': 0.1044713530279692, 'n_estimators': 171, 'max_depth': 5, 'gamma': 0.7047650522184977, 'reg_alpha': 0.5781476380243062, 'reg_lambda': 0.4453734591112395}. Best is trial 187 with value: 8.757000390751795.\n",
      "[I 2023-08-10 21:22:07,917] Trial 343 finished with value: 8.83584937238236 and parameters: {'learning_rate': 0.025069842296808996, 'n_estimators': 190, 'max_depth': 3, 'gamma': 0.675859834666362, 'reg_alpha': 0.6441391289124486, 'reg_lambda': 0.6095430870322298}. Best is trial 187 with value: 8.757000390751795.\n",
      "[I 2023-08-10 21:22:11,496] Trial 344 finished with value: 8.951909499460147 and parameters: {'learning_rate': 0.03839900693843173, 'n_estimators': 181, 'max_depth': 3, 'gamma': 0.7727341800084337, 'reg_alpha': 0.7173843161936223, 'reg_lambda': 0.8668069014261983}. Best is trial 187 with value: 8.757000390751795.\n",
      "[I 2023-08-10 21:22:15,249] Trial 345 finished with value: 9.165521070686125 and parameters: {'learning_rate': 0.05369560964889311, 'n_estimators': 194, 'max_depth': 3, 'gamma': 0.7427878086396191, 'reg_alpha': 0.6889830856225142, 'reg_lambda': 0.7931036835917019}. Best is trial 187 with value: 8.757000390751795.\n",
      "[I 2023-08-10 21:22:18,906] Trial 346 finished with value: 8.77012138989727 and parameters: {'learning_rate': 0.029413342937384384, 'n_estimators': 187, 'max_depth': 3, 'gamma': 0.8213166458273623, 'reg_alpha': 0.6700922236441509, 'reg_lambda': 0.40688670276388605}. Best is trial 187 with value: 8.757000390751795.\n",
      "[I 2023-08-10 21:22:21,696] Trial 347 finished with value: 10.277856976059638 and parameters: {'learning_rate': 0.021341011290880826, 'n_estimators': 138, 'max_depth': 3, 'gamma': 0.8210067133121819, 'reg_alpha': 0.7025302853839733, 'reg_lambda': 0.39584554363569446}. Best is trial 187 with value: 8.757000390751795.\n",
      "[I 2023-08-10 21:22:25,319] Trial 348 finished with value: 8.846346523618893 and parameters: {'learning_rate': 0.03392049556791431, 'n_estimators': 185, 'max_depth': 3, 'gamma': 0.8544391526069185, 'reg_alpha': 0.6710764827099347, 'reg_lambda': 0.4012007223307399}. Best is trial 187 with value: 8.757000390751795.\n",
      "[I 2023-08-10 21:22:28,815] Trial 349 finished with value: 8.847742268548213 and parameters: {'learning_rate': 0.02730665972506851, 'n_estimators': 178, 'max_depth': 3, 'gamma': 0.823569952784674, 'reg_alpha': 0.5021198621538585, 'reg_lambda': 0.36598525133037013}. Best is trial 187 with value: 8.757000390751795.\n",
      "[I 2023-08-10 21:22:32,518] Trial 350 finished with value: 11.178099687157818 and parameters: {'learning_rate': 0.014454240934841708, 'n_estimators': 187, 'max_depth': 3, 'gamma': 0.838026060202132, 'reg_alpha': 0.6915985755992281, 'reg_lambda': 0.41657655666109306}. Best is trial 187 with value: 8.757000390751795.\n",
      "[I 2023-08-10 21:22:35,886] Trial 351 finished with value: 8.943395610856877 and parameters: {'learning_rate': 0.04442193995302733, 'n_estimators': 175, 'max_depth': 3, 'gamma': 0.783652347579164, 'reg_alpha': 0.6633307539127523, 'reg_lambda': 0.6462455341398553}. Best is trial 187 with value: 8.757000390751795.\n",
      "[I 2023-08-10 21:22:39,356] Trial 352 finished with value: 8.970141671379812 and parameters: {'learning_rate': 0.038937654308795144, 'n_estimators': 182, 'max_depth': 3, 'gamma': 0.6100667539671402, 'reg_alpha': 0.6225775698796568, 'reg_lambda': 0.3847020667768275}. Best is trial 187 with value: 8.757000390751795.\n",
      "[I 2023-08-10 21:22:42,919] Trial 353 finished with value: 10.138163960701016 and parameters: {'learning_rate': 0.15415752808040395, 'n_estimators': 189, 'max_depth': 3, 'gamma': 0.8151056496438893, 'reg_alpha': 0.5946548963435593, 'reg_lambda': 0.5520711091732828}. Best is trial 187 with value: 8.757000390751795.\n",
      "[I 2023-08-10 21:22:44,368] Trial 354 finished with value: 9.122165212908161 and parameters: {'learning_rate': 0.1350424811448138, 'n_estimators': 57, 'max_depth': 3, 'gamma': 0.7548448891717621, 'reg_alpha': 0.7384308823618672, 'reg_lambda': 0.5889336489473757}. Best is trial 187 with value: 8.757000390751795.\n",
      "[I 2023-08-10 21:22:47,996] Trial 355 finished with value: 9.694166058353673 and parameters: {'learning_rate': 0.11688284673089133, 'n_estimators': 184, 'max_depth': 3, 'gamma': 0.7948881347760288, 'reg_alpha': 0.9501375794234836, 'reg_lambda': 0.4294248885537361}. Best is trial 187 with value: 8.757000390751795.\n",
      "[I 2023-08-10 21:22:50,285] Trial 356 finished with value: 39.926790254653284 and parameters: {'learning_rate': 0.010409943765645455, 'n_estimators': 106, 'max_depth': 3, 'gamma': 0.6642523320340872, 'reg_alpha': 0.7178743309859634, 'reg_lambda': 0.5486215675946597}. Best is trial 187 with value: 8.757000390751795.\n",
      "[I 2023-08-10 21:22:53,866] Trial 357 finished with value: 10.109494049909658 and parameters: {'learning_rate': 0.12798212980876722, 'n_estimators': 179, 'max_depth': 3, 'gamma': 0.2554643604151901, 'reg_alpha': 0.6781878353388928, 'reg_lambda': 0.5292664743986637}. Best is trial 187 with value: 8.757000390751795.\n",
      "[I 2023-08-10 21:22:57,767] Trial 358 finished with value: 9.364299109727089 and parameters: {'learning_rate': 0.07640341830655709, 'n_estimators': 194, 'max_depth': 3, 'gamma': 0.62499565274265, 'reg_alpha': 0.6455814761423537, 'reg_lambda': 0.7121368031513935}. Best is trial 187 with value: 8.757000390751795.\n",
      "[I 2023-08-10 21:23:29,918] Trial 359 finished with value: 10.304538568417547 and parameters: {'learning_rate': 0.029476356963196452, 'n_estimators': 187, 'max_depth': 9, 'gamma': 0.6961532667749343, 'reg_alpha': 0.6630282489479705, 'reg_lambda': 0.44022843472755113}. Best is trial 187 with value: 8.757000390751795.\n",
      "[I 2023-08-10 21:23:33,590] Trial 360 finished with value: 9.091189439861136 and parameters: {'learning_rate': 0.019752260775476226, 'n_estimators': 191, 'max_depth': 3, 'gamma': 0.8056819400279166, 'reg_alpha': 0.8106962686130827, 'reg_lambda': 0.6431891960568572}. Best is trial 187 with value: 8.757000390751795.\n",
      "[I 2023-08-10 21:23:37,156] Trial 361 finished with value: 8.821480862675395 and parameters: {'learning_rate': 0.03382384597629331, 'n_estimators': 182, 'max_depth': 3, 'gamma': 0.7319558305525263, 'reg_alpha': 0.7054553683123589, 'reg_lambda': 0.45648014139796766}. Best is trial 187 with value: 8.757000390751795.\n",
      "[I 2023-08-10 21:23:40,735] Trial 362 finished with value: 9.449522896558834 and parameters: {'learning_rate': 0.09322507479617428, 'n_estimators': 187, 'max_depth': 3, 'gamma': 0.7153027442055566, 'reg_alpha': 0.62362988901952, 'reg_lambda': 0.41394996002004136}. Best is trial 187 with value: 8.757000390751795.\n",
      "[I 2023-08-10 21:23:44,504] Trial 363 finished with value: 9.562280157932694 and parameters: {'learning_rate': 0.08095929995834585, 'n_estimators': 197, 'max_depth': 3, 'gamma': 0.13512437806313843, 'reg_alpha': 0.22503602296746306, 'reg_lambda': 0.5859487974771014}. Best is trial 187 with value: 8.757000390751795.\n",
      "[I 2023-08-10 21:23:47,906] Trial 364 finished with value: 8.931919096784133 and parameters: {'learning_rate': 0.02442516086423427, 'n_estimators': 174, 'max_depth': 3, 'gamma': 0.9797514998557689, 'reg_alpha': 0.6900951235657447, 'reg_lambda': 0.4937999639984092}. Best is trial 187 with value: 8.757000390751795.\n",
      "[I 2023-08-10 21:23:51,732] Trial 365 finished with value: 9.322380059630326 and parameters: {'learning_rate': 0.05892225375647146, 'n_estimators': 200, 'max_depth': 3, 'gamma': 0.8694396504859435, 'reg_alpha': 0.7438337863274485, 'reg_lambda': 0.11817126976020803}. Best is trial 187 with value: 8.757000390751795.\n",
      "[I 2023-08-10 21:23:56,754] Trial 366 finished with value: 9.16165080734607 and parameters: {'learning_rate': 0.02856409802758944, 'n_estimators': 191, 'max_depth': 4, 'gamma': 0.7638021939664725, 'reg_alpha': 0.6410868962843608, 'reg_lambda': 0.3738135134918611}. Best is trial 187 with value: 8.757000390751795.\n",
      "[I 2023-08-10 21:24:00,346] Trial 367 finished with value: 8.94057900196504 and parameters: {'learning_rate': 0.0405698423859087, 'n_estimators': 185, 'max_depth': 3, 'gamma': 0.6922378887838118, 'reg_alpha': 0.6780738307422772, 'reg_lambda': 0.47529366267897366}. Best is trial 187 with value: 8.757000390751795.\n",
      "[I 2023-08-10 21:24:04,056] Trial 368 finished with value: 8.922997619258343 and parameters: {'learning_rate': 0.03489544826443517, 'n_estimators': 195, 'max_depth': 3, 'gamma': 0.7832170526288592, 'reg_alpha': 0.6640580779471824, 'reg_lambda': 0.5664646234599418}. Best is trial 187 with value: 8.757000390751795.\n",
      "[I 2023-08-10 21:24:07,565] Trial 369 finished with value: 10.148809636719857 and parameters: {'learning_rate': 0.016947017785838833, 'n_estimators': 178, 'max_depth': 3, 'gamma': 0.7246104465365055, 'reg_alpha': 0.718025306393046, 'reg_lambda': 0.4363294238646054}. Best is trial 187 with value: 8.757000390751795.\n",
      "[I 2023-08-10 21:24:11,278] Trial 370 finished with value: 8.838991391255572 and parameters: {'learning_rate': 0.02446885061528241, 'n_estimators': 189, 'max_depth': 3, 'gamma': 0.8458225355343336, 'reg_alpha': 0.6124260203944546, 'reg_lambda': 0.5060950561582285}. Best is trial 187 with value: 8.757000390751795.\n",
      "[I 2023-08-10 21:24:14,813] Trial 371 finished with value: 9.114678843638233 and parameters: {'learning_rate': 0.05159423586216898, 'n_estimators': 182, 'max_depth': 3, 'gamma': 0.5968781677917081, 'reg_alpha': 0.30176576618637424, 'reg_lambda': 0.4578483939042415}. Best is trial 187 with value: 8.757000390751795.\n",
      "[I 2023-08-10 21:24:18,607] Trial 372 finished with value: 8.857273251018537 and parameters: {'learning_rate': 0.031729517639411134, 'n_estimators': 191, 'max_depth': 3, 'gamma': 0.5262844358499883, 'reg_alpha': 0.6541357316822672, 'reg_lambda': 0.4044174707620989}. Best is trial 187 with value: 8.757000390751795.\n",
      "[I 2023-08-10 21:24:22,336] Trial 373 finished with value: 10.084771803260304 and parameters: {'learning_rate': 0.14595406120071444, 'n_estimators': 185, 'max_depth': 3, 'gamma': 0.6743565602799203, 'reg_alpha': 0.7973322613714557, 'reg_lambda': 0.5255445574478006}. Best is trial 187 with value: 8.757000390751795.\n",
      "[I 2023-08-10 21:24:26,156] Trial 374 finished with value: 10.164811057150171 and parameters: {'learning_rate': 0.14156266541260742, 'n_estimators': 193, 'max_depth': 3, 'gamma': 0.7476480439668071, 'reg_alpha': 0.6966486219806411, 'reg_lambda': 0.3540593505273537}. Best is trial 187 with value: 8.757000390751795.\n",
      "[I 2023-08-10 21:24:32,818] Trial 375 finished with value: 9.225405782265764 and parameters: {'learning_rate': 0.04568046117519202, 'n_estimators': 177, 'max_depth': 5, 'gamma': 0.7076430567097994, 'reg_alpha': 0.6311026890703755, 'reg_lambda': 0.4445038967799058}. Best is trial 187 with value: 8.757000390751795.\n",
      "[I 2023-08-10 21:24:39,746] Trial 376 finished with value: 12.887675632684608 and parameters: {'learning_rate': 0.021326412315661528, 'n_estimators': 121, 'max_depth': 6, 'gamma': 0.9680224565406871, 'reg_alpha': 0.6804109414045896, 'reg_lambda': 0.47523427206247704}. Best is trial 187 with value: 8.757000390751795.\n",
      "[I 2023-08-10 21:24:43,129] Trial 377 finished with value: 8.865122387633367 and parameters: {'learning_rate': 0.03729469000343479, 'n_estimators': 171, 'max_depth': 3, 'gamma': 0.654697304919677, 'reg_alpha': 0.5677786833613513, 'reg_lambda': 0.42315423937439206}. Best is trial 187 with value: 8.757000390751795.\n",
      "[I 2023-08-10 21:24:46,926] Trial 378 finished with value: 8.799649337190102 and parameters: {'learning_rate': 0.02757504536786496, 'n_estimators': 188, 'max_depth': 3, 'gamma': 0.6884517778647545, 'reg_alpha': 0.47765784696200114, 'reg_lambda': 0.3340503577951074}. Best is trial 187 with value: 8.757000390751795.\n",
      "[I 2023-08-10 21:24:50,744] Trial 379 finished with value: 10.955741538688608 and parameters: {'learning_rate': 0.18850913203935363, 'n_estimators': 195, 'max_depth': 3, 'gamma': 0.6758792726476622, 'reg_alpha': 0.39347744384235267, 'reg_lambda': 0.3365972866637674}. Best is trial 187 with value: 8.757000390751795.\n",
      "[I 2023-08-10 21:24:54,446] Trial 380 finished with value: 10.764991192850522 and parameters: {'learning_rate': 0.1684678503215321, 'n_estimators': 189, 'max_depth': 3, 'gamma': 0.8676641934449278, 'reg_alpha': 0.5003821537945307, 'reg_lambda': 0.3176035542275211}. Best is trial 187 with value: 8.757000390751795.\n",
      "[I 2023-08-10 21:24:58,035] Trial 381 finished with value: 8.838167163232342 and parameters: {'learning_rate': 0.031217009144560673, 'n_estimators': 188, 'max_depth': 3, 'gamma': 0.6882671834261206, 'reg_alpha': 0.7294993505533341, 'reg_lambda': 0.38162574716891345}. Best is trial 187 with value: 8.757000390751795.\n",
      "[I 2023-08-10 21:25:01,849] Trial 382 finished with value: 9.524335974685297 and parameters: {'learning_rate': 0.016760617740392128, 'n_estimators': 200, 'max_depth': 3, 'gamma': 0.7013280237448624, 'reg_alpha': 0.5305513953480757, 'reg_lambda': 0.3418615866416764}. Best is trial 187 with value: 8.757000390751795.\n",
      "[I 2023-08-10 21:25:05,576] Trial 383 finished with value: 8.842988098861703 and parameters: {'learning_rate': 0.02445807591716696, 'n_estimators': 194, 'max_depth': 3, 'gamma': 0.48838395620368047, 'reg_alpha': 0.42054524006105143, 'reg_lambda': 0.48425574035922336}. Best is trial 187 with value: 8.757000390751795.\n",
      "[I 2023-08-10 21:25:09,164] Trial 384 finished with value: 10.929888244535025 and parameters: {'learning_rate': 0.2599207948508705, 'n_estimators': 186, 'max_depth': 3, 'gamma': 0.6538054645283389, 'reg_alpha': 0.4868415366190142, 'reg_lambda': 0.4648019456117986}. Best is trial 187 with value: 8.757000390751795.\n",
      "[I 2023-08-10 21:25:14,216] Trial 385 finished with value: 9.280612341635933 and parameters: {'learning_rate': 0.041057199689224014, 'n_estimators': 191, 'max_depth': 4, 'gamma': 0.7161425550434635, 'reg_alpha': 0.5386153336442482, 'reg_lambda': 0.32270168151490164}. Best is trial 187 with value: 8.757000390751795.\n",
      "[I 2023-08-10 21:25:18,157] Trial 386 finished with value: 10.973832413705455 and parameters: {'learning_rate': 0.2129965795271093, 'n_estimators': 196, 'max_depth': 3, 'gamma': 0.5645826052355744, 'reg_alpha': 0.7062569612430947, 'reg_lambda': 0.35832175692244156}. Best is trial 187 with value: 8.757000390751795.\n",
      "[I 2023-08-10 21:25:21,836] Trial 387 finished with value: 9.335342400623986 and parameters: {'learning_rate': 0.06687554910575291, 'n_estimators': 184, 'max_depth': 3, 'gamma': 0.683660389383683, 'reg_alpha': 0.44541920416207414, 'reg_lambda': 0.3920324935019826}. Best is trial 187 with value: 8.757000390751795.\n",
      "[I 2023-08-10 21:25:25,455] Trial 388 finished with value: 9.490435190201717 and parameters: {'learning_rate': 0.08922709124917289, 'n_estimators': 189, 'max_depth': 3, 'gamma': 0.7271029916688974, 'reg_alpha': 0.4795006675739875, 'reg_lambda': 0.43119014375848436}. Best is trial 187 with value: 8.757000390751795.\n",
      "[I 2023-08-10 21:25:29,176] Trial 389 finished with value: 8.881259186887165 and parameters: {'learning_rate': 0.034155108757512286, 'n_estimators': 193, 'max_depth': 3, 'gamma': 0.6230675738422816, 'reg_alpha': 0.5798446823978866, 'reg_lambda': 0.45575337490058193}. Best is trial 187 with value: 8.757000390751795.\n",
      "[I 2023-08-10 21:25:32,911] Trial 390 finished with value: 8.79139283484696 and parameters: {'learning_rate': 0.0273974570209317, 'n_estimators': 197, 'max_depth': 3, 'gamma': 0.6421819709334438, 'reg_alpha': 0.7530982488394501, 'reg_lambda': 0.49135046850844505}. Best is trial 187 with value: 8.757000390751795.\n",
      "[I 2023-08-10 21:25:36,726] Trial 391 finished with value: 8.925533246560851 and parameters: {'learning_rate': 0.021549402944685773, 'n_estimators': 197, 'max_depth': 3, 'gamma': 0.579213872483902, 'reg_alpha': 0.7563009213746853, 'reg_lambda': 0.49739774377766627}. Best is trial 187 with value: 8.757000390751795.\n",
      "[I 2023-08-10 21:25:40,275] Trial 392 finished with value: 8.824845698228543 and parameters: {'learning_rate': 0.02683908585168054, 'n_estimators': 180, 'max_depth': 3, 'gamma': 0.1728869539064678, 'reg_alpha': 0.4571069938137014, 'reg_lambda': 0.5148730814273778}. Best is trial 187 with value: 8.757000390751795.\n",
      "[I 2023-08-10 21:25:44,066] Trial 393 finished with value: 10.0372313603557 and parameters: {'learning_rate': 0.12569414318188296, 'n_estimators': 197, 'max_depth': 3, 'gamma': 0.6375651749492048, 'reg_alpha': 0.5484692037721411, 'reg_lambda': 0.28006146076420324}. Best is trial 187 with value: 8.757000390751795.\n",
      "[I 2023-08-10 21:25:47,866] Trial 394 finished with value: 10.145869711728363 and parameters: {'learning_rate': 0.015080767411706615, 'n_estimators': 200, 'max_depth': 3, 'gamma': 0.6852090320303971, 'reg_alpha': 0.5075037062018433, 'reg_lambda': 0.30644915418028473}. Best is trial 187 with value: 8.757000390751795.\n",
      "[I 2023-08-10 21:25:51,446] Trial 395 finished with value: 9.697450249195594 and parameters: {'learning_rate': 0.10002108304837569, 'n_estimators': 186, 'max_depth': 3, 'gamma': 0.6593199700468069, 'reg_alpha': 0.7854590780991668, 'reg_lambda': 0.4066244219513925}. Best is trial 187 with value: 8.757000390751795.\n",
      "[I 2023-08-10 21:25:55,149] Trial 396 finished with value: 10.031364873162866 and parameters: {'learning_rate': 0.11132752423550653, 'n_estimators': 190, 'max_depth': 3, 'gamma': 0.6102947406115222, 'reg_alpha': 0.7486204111975631, 'reg_lambda': 0.48448768628040223}. Best is trial 187 with value: 8.757000390751795.\n",
      "[I 2023-08-10 21:25:58,604] Trial 397 finished with value: 8.968363409700832 and parameters: {'learning_rate': 0.03734923588079859, 'n_estimators': 182, 'max_depth': 3, 'gamma': 0.7021654756511094, 'reg_alpha': 0.7314170669611496, 'reg_lambda': 0.2638703587991158}. Best is trial 187 with value: 8.757000390751795.\n",
      "[I 2023-08-10 21:25:59,265] Trial 398 finished with value: 67.37320487119862 and parameters: {'learning_rate': 0.04744839813418897, 'n_estimators': 14, 'max_depth': 3, 'gamma': 0.6422907907799278, 'reg_alpha': 0.543137700156626, 'reg_lambda': 0.14817413755605274}. Best is trial 187 with value: 8.757000390751795.\n",
      "[I 2023-08-10 21:26:02,946] Trial 399 finished with value: 8.82759151146893 and parameters: {'learning_rate': 0.03204322127367661, 'n_estimators': 194, 'max_depth': 3, 'gamma': 0.6613937218406909, 'reg_alpha': 0.36982145041467057, 'reg_lambda': 0.3733826064718733}. Best is trial 187 with value: 8.757000390751795.\n",
      "[I 2023-08-10 21:26:06,560] Trial 400 finished with value: 9.0399110260078 and parameters: {'learning_rate': 0.020677458394877918, 'n_estimators': 187, 'max_depth': 3, 'gamma': 0.9480013011510394, 'reg_alpha': 0.7459780833361516, 'reg_lambda': 0.5379224952310692}. Best is trial 187 with value: 8.757000390751795.\n",
      "[I 2023-08-10 21:26:10,156] Trial 401 finished with value: 8.956359276961988 and parameters: {'learning_rate': 0.042729897378849004, 'n_estimators': 177, 'max_depth': 3, 'gamma': 0.838196928568471, 'reg_alpha': 0.5648407628683639, 'reg_lambda': 0.5096432714892548}. Best is trial 187 with value: 8.757000390751795.\n",
      "[I 2023-08-10 21:26:12,686] Trial 402 finished with value: 34.70148615145682 and parameters: {'learning_rate': 0.010598108228205148, 'n_estimators': 116, 'max_depth': 3, 'gamma': 0.8037261581227946, 'reg_alpha': 0.5203145786478364, 'reg_lambda': 0.44392623041589074}. Best is trial 187 with value: 8.757000390751795.\n",
      "[I 2023-08-10 21:26:16,356] Trial 403 finished with value: 8.804998223992575 and parameters: {'learning_rate': 0.02561598855145372, 'n_estimators': 192, 'max_depth': 3, 'gamma': 0.9919092569351773, 'reg_alpha': 0.813657239575612, 'reg_lambda': 0.4183877127976965}. Best is trial 187 with value: 8.757000390751795.\n",
      "[I 2023-08-10 21:26:19,919] Trial 404 finished with value: 9.338366656911916 and parameters: {'learning_rate': 0.08101931947252912, 'n_estimators': 184, 'max_depth': 3, 'gamma': 0.9679675877255138, 'reg_alpha': 0.44157587032341306, 'reg_lambda': 0.49639085221778506}. Best is trial 187 with value: 8.757000390751795.\n",
      "[I 2023-08-10 21:26:23,596] Trial 405 finished with value: 10.228310387409664 and parameters: {'learning_rate': 0.14132925845245403, 'n_estimators': 189, 'max_depth': 3, 'gamma': 0.7272908389486556, 'reg_alpha': 0.8711986182347675, 'reg_lambda': 0.4636659388838453}. Best is trial 187 with value: 8.757000390751795.\n",
      "[I 2023-08-10 21:26:27,064] Trial 406 finished with value: 8.86919555150183 and parameters: {'learning_rate': 0.0343790531991478, 'n_estimators': 180, 'max_depth': 3, 'gamma': 0.9186152036521054, 'reg_alpha': 0.7200345253930945, 'reg_lambda': 0.34462384631304355}. Best is trial 187 with value: 8.757000390751795.\n",
      "[I 2023-08-10 21:26:30,854] Trial 407 finished with value: 8.804947518180441 and parameters: {'learning_rate': 0.027589394444907916, 'n_estimators': 198, 'max_depth': 3, 'gamma': 0.7100966547943597, 'reg_alpha': 0.47078573496610354, 'reg_lambda': 0.4798406411397062}. Best is trial 187 with value: 8.757000390751795.\n",
      "[I 2023-08-10 21:26:51,913] Trial 408 finished with value: 11.832737142036368 and parameters: {'learning_rate': 0.01775754407443354, 'n_estimators': 174, 'max_depth': 8, 'gamma': 0.6721955057081991, 'reg_alpha': 0.6946712938098317, 'reg_lambda': 0.43399477214712007}. Best is trial 187 with value: 8.757000390751795.\n",
      "[I 2023-08-10 21:27:02,488] Trial 409 finished with value: 9.862547570937497 and parameters: {'learning_rate': 0.03953264196639722, 'n_estimators': 127, 'max_depth': 7, 'gamma': 0.8809536701088234, 'reg_alpha': 0.5225663994916281, 'reg_lambda': 0.4513715639724753}. Best is trial 187 with value: 8.757000390751795.\n",
      "[I 2023-08-10 21:27:06,236] Trial 410 finished with value: 8.835775268809211 and parameters: {'learning_rate': 0.03010864953805169, 'n_estimators': 186, 'max_depth': 3, 'gamma': 0.7612837899426361, 'reg_alpha': 0.7878885737792967, 'reg_lambda': 0.3264407682769273}. Best is trial 187 with value: 8.757000390751795.\n",
      "[I 2023-08-10 21:27:11,379] Trial 411 finished with value: 9.02297631311251 and parameters: {'learning_rate': 0.023765077537831608, 'n_estimators': 193, 'max_depth': 4, 'gamma': 0.6909960464032263, 'reg_alpha': 0.7662861695084199, 'reg_lambda': 0.4057892140066208}. Best is trial 187 with value: 8.757000390751795.\n",
      "[I 2023-08-10 21:27:15,039] Trial 412 finished with value: 9.302263627119256 and parameters: {'learning_rate': 0.05421056262528539, 'n_estimators': 190, 'max_depth': 3, 'gamma': 0.7372455166713581, 'reg_alpha': 0.6773242706940993, 'reg_lambda': 0.38462653814126396}. Best is trial 187 with value: 8.757000390751795.\n",
      "[I 2023-08-10 21:27:18,617] Trial 413 finished with value: 8.829387331327625 and parameters: {'learning_rate': 0.035456241809589686, 'n_estimators': 183, 'max_depth': 3, 'gamma': 0.8289878312654857, 'reg_alpha': 0.6538327415141276, 'reg_lambda': 0.30350327432172064}. Best is trial 187 with value: 8.757000390751795.\n",
      "[I 2023-08-10 21:27:21,816] Trial 414 finished with value: 9.663346449874819 and parameters: {'learning_rate': 0.12100154842109684, 'n_estimators': 167, 'max_depth': 3, 'gamma': 0.6260877721349545, 'reg_alpha': 0.6979276005378809, 'reg_lambda': 0.48859097764739934}. Best is trial 187 with value: 8.757000390751795.\n",
      "[I 2023-08-10 21:27:25,542] Trial 415 finished with value: 9.006728749135947 and parameters: {'learning_rate': 0.04309594444098258, 'n_estimators': 195, 'max_depth': 3, 'gamma': 0.5861231302637175, 'reg_alpha': 0.4134609337229314, 'reg_lambda': 0.4651999225768293}. Best is trial 187 with value: 8.757000390751795.\n",
      "[I 2023-08-10 21:27:29,209] Trial 416 finished with value: 8.834228451966402 and parameters: {'learning_rate': 0.02913820803696974, 'n_estimators': 179, 'max_depth': 3, 'gamma': 0.7149879309122746, 'reg_alpha': 0.5905231727982428, 'reg_lambda': 0.5311736432329406}. Best is trial 187 with value: 8.757000390751795.\n",
      "[I 2023-08-10 21:27:33,154] Trial 417 finished with value: 8.905488164217882 and parameters: {'learning_rate': 0.02121343696530677, 'n_estimators': 200, 'max_depth': 3, 'gamma': 0.7786115570013139, 'reg_alpha': 0.7238920524232695, 'reg_lambda': 0.575006687904717}. Best is trial 187 with value: 8.757000390751795.\n",
      "[I 2023-08-10 21:27:36,805] Trial 418 finished with value: 8.95958358216156 and parameters: {'learning_rate': 0.03650962314444236, 'n_estimators': 187, 'max_depth': 3, 'gamma': 0.9494908610766137, 'reg_alpha': 0.6757038566213428, 'reg_lambda': 0.4255974934369967}. Best is trial 187 with value: 8.757000390751795.\n",
      "[I 2023-08-10 21:27:40,526] Trial 419 finished with value: 10.526321576606282 and parameters: {'learning_rate': 0.015100104171033834, 'n_estimators': 191, 'max_depth': 3, 'gamma': 0.35516251361099127, 'reg_alpha': 0.6405808475523687, 'reg_lambda': 0.27895094740724824}. Best is trial 187 with value: 8.757000390751795.\n",
      "[I 2023-08-10 21:27:44,109] Trial 420 finished with value: 9.893864300445923 and parameters: {'learning_rate': 0.15409641725727471, 'n_estimators': 183, 'max_depth': 3, 'gamma': 0.6932035099476184, 'reg_alpha': 0.8311880296385382, 'reg_lambda': 0.363623920207504}. Best is trial 187 with value: 8.757000390751795.\n",
      "[I 2023-08-10 21:27:47,899] Trial 421 finished with value: 10.63264483828697 and parameters: {'learning_rate': 0.24328658753425864, 'n_estimators': 196, 'max_depth': 3, 'gamma': 0.7408581967856714, 'reg_alpha': 0.964434917066872, 'reg_lambda': 0.5056975422005174}. Best is trial 187 with value: 8.757000390751795.\n",
      "[I 2023-08-10 21:27:51,615] Trial 422 finished with value: 9.818431830984782 and parameters: {'learning_rate': 0.09689562503432096, 'n_estimators': 188, 'max_depth': 3, 'gamma': 0.6691356887096662, 'reg_alpha': 0.7443923857640514, 'reg_lambda': 0.4450860039967238}. Best is trial 187 with value: 8.757000390751795.\n",
      "[I 2023-08-10 21:27:55,065] Trial 423 finished with value: 8.842184892266332 and parameters: {'learning_rate': 0.026538584699467134, 'n_estimators': 176, 'max_depth': 3, 'gamma': 0.8132801843653078, 'reg_alpha': 0.6622065920212138, 'reg_lambda': 0.4764844110179267}. Best is trial 187 with value: 8.757000390751795.\n",
      "[I 2023-08-10 21:27:58,840] Trial 424 finished with value: 9.283424685719345 and parameters: {'learning_rate': 0.05918317354395328, 'n_estimators': 193, 'max_depth': 3, 'gamma': 0.985919290830956, 'reg_alpha': 0.7073006758831436, 'reg_lambda': 0.4111588876438069}. Best is trial 187 with value: 8.757000390751795.\n",
      "[I 2023-08-10 21:28:02,485] Trial 425 finished with value: 8.811003753662229 and parameters: {'learning_rate': 0.03284413143504397, 'n_estimators': 185, 'max_depth': 3, 'gamma': 0.716573209106849, 'reg_alpha': 0.6049414772708137, 'reg_lambda': 0.24732902116893635}. Best is trial 187 with value: 8.757000390751795.\n",
      "[I 2023-08-10 21:28:05,980] Trial 426 finished with value: 9.050533797267393 and parameters: {'learning_rate': 0.04830763900914281, 'n_estimators': 180, 'max_depth': 3, 'gamma': 0.8575399288263943, 'reg_alpha': 0.48975071394964853, 'reg_lambda': 0.45429681667499244}. Best is trial 187 with value: 8.757000390751795.\n",
      "[I 2023-08-10 21:28:09,635] Trial 427 finished with value: 10.114638910628281 and parameters: {'learning_rate': 0.1359281634756069, 'n_estimators': 190, 'max_depth': 3, 'gamma': 0.5769274997091761, 'reg_alpha': 0.5617674850706268, 'reg_lambda': 0.544771649973242}. Best is trial 187 with value: 8.757000390751795.\n",
      "[I 2023-08-10 21:28:13,456] Trial 428 finished with value: 9.083616111649047 and parameters: {'learning_rate': 0.019541466896999034, 'n_estimators': 195, 'max_depth': 3, 'gamma': 0.10287069627345946, 'reg_alpha': 0.28824115361821845, 'reg_lambda': 0.3957390096360084}. Best is trial 187 with value: 8.757000390751795.\n",
      "[I 2023-08-10 21:28:17,089] Trial 429 finished with value: 8.995432811301157 and parameters: {'learning_rate': 0.04018178145940564, 'n_estimators': 184, 'max_depth': 3, 'gamma': 0.9351084767055392, 'reg_alpha': 0.9332184600765819, 'reg_lambda': 0.43512521099528295}. Best is trial 187 with value: 8.757000390751795.\n",
      "[I 2023-08-10 21:28:20,526] Trial 430 finished with value: 8.884317988905124 and parameters: {'learning_rate': 0.025000959580321024, 'n_estimators': 171, 'max_depth': 3, 'gamma': 0.6483049177403171, 'reg_alpha': 0.6854047511426046, 'reg_lambda': 0.5173498464221574}. Best is trial 187 with value: 8.757000390751795.\n",
      "[I 2023-08-10 21:28:24,155] Trial 431 finished with value: 9.659844281485707 and parameters: {'learning_rate': 0.10356266824865246, 'n_estimators': 188, 'max_depth': 3, 'gamma': 0.7563920956872099, 'reg_alpha': 0.8009563597386575, 'reg_lambda': 0.3212403475150722}. Best is trial 187 with value: 8.757000390751795.\n",
      "[I 2023-08-10 21:28:27,939] Trial 432 finished with value: 11.209343211164292 and parameters: {'learning_rate': 0.282222642326016, 'n_estimators': 200, 'max_depth': 3, 'gamma': 0.5560424887030954, 'reg_alpha': 0.6491876232842219, 'reg_lambda': 0.28972453745588783}. Best is trial 187 with value: 8.757000390751795.\n",
      "[I 2023-08-10 21:28:32,905] Trial 433 finished with value: 9.285473596214734 and parameters: {'learning_rate': 0.03254166614681861, 'n_estimators': 192, 'max_depth': 4, 'gamma': 0.7917057683929057, 'reg_alpha': 0.39676552342186044, 'reg_lambda': 0.494463029576958}. Best is trial 187 with value: 8.757000390751795.\n",
      "[I 2023-08-10 21:28:36,436] Trial 434 finished with value: 9.914455954350338 and parameters: {'learning_rate': 0.1287570271125243, 'n_estimators': 180, 'max_depth': 3, 'gamma': 0.7032537994697963, 'reg_alpha': 0.42344422865708115, 'reg_lambda': 0.4677967914877494}. Best is trial 187 with value: 8.757000390751795.\n",
      "[I 2023-08-10 21:28:40,316] Trial 435 finished with value: 8.81596001975968 and parameters: {'learning_rate': 0.02938331780304785, 'n_estimators': 197, 'max_depth': 3, 'gamma': 0.7273812221311957, 'reg_alpha': 0.7640446567659092, 'reg_lambda': 0.3482984801796834}. Best is trial 187 with value: 8.757000390751795.\n",
      "[I 2023-08-10 21:28:43,999] Trial 436 finished with value: 9.258134449166135 and parameters: {'learning_rate': 0.08430325480260836, 'n_estimators': 187, 'max_depth': 3, 'gamma': 0.6803245248768588, 'reg_alpha': 0.6668065821846441, 'reg_lambda': 0.4226789205437434}. Best is trial 187 with value: 8.757000390751795.\n",
      "[I 2023-08-10 21:28:47,695] Trial 437 finished with value: 8.93945347541391 and parameters: {'learning_rate': 0.022544233348075468, 'n_estimators': 184, 'max_depth': 3, 'gamma': 0.9067153403452198, 'reg_alpha': 0.7118386919936871, 'reg_lambda': 0.3815014478687296}. Best is trial 187 with value: 8.757000390751795.\n",
      "[I 2023-08-10 21:28:51,346] Trial 438 finished with value: 10.552224659004224 and parameters: {'learning_rate': 0.20798223992525444, 'n_estimators': 191, 'max_depth': 3, 'gamma': 0.9593183277902383, 'reg_alpha': 0.6318724404599292, 'reg_lambda': 0.4521952217212084}. Best is trial 187 with value: 8.757000390751795.\n",
      "[I 2023-08-10 21:28:54,896] Trial 439 finished with value: 8.87771016424009 and parameters: {'learning_rate': 0.03882428555130073, 'n_estimators': 177, 'max_depth': 3, 'gamma': 0.7441126117752404, 'reg_alpha': 0.551859627324489, 'reg_lambda': 0.8316767426418081}. Best is trial 187 with value: 8.757000390751795.\n",
      "[I 2023-08-10 21:28:58,684] Trial 440 finished with value: 10.904750821090039 and parameters: {'learning_rate': 0.22860388328679787, 'n_estimators': 195, 'max_depth': 3, 'gamma': 0.7004813209351218, 'reg_alpha': 0.6862094723668335, 'reg_lambda': 0.10690888433042611}. Best is trial 187 with value: 8.757000390751795.\n",
      "[I 2023-08-10 21:29:02,222] Trial 441 finished with value: 10.357743957835558 and parameters: {'learning_rate': 0.016144697328455276, 'n_estimators': 182, 'max_depth': 3, 'gamma': 0.9989936636811203, 'reg_alpha': 0.46431240390079354, 'reg_lambda': 0.1230473142735734}. Best is trial 187 with value: 8.757000390751795.\n",
      "[I 2023-08-10 21:29:05,838] Trial 442 finished with value: 10.582688022955983 and parameters: {'learning_rate': 0.2588701790360247, 'n_estimators': 189, 'max_depth': 3, 'gamma': 0.7699795520170798, 'reg_alpha': 0.7286504961353452, 'reg_lambda': 0.6014786016215735}. Best is trial 187 with value: 8.757000390751795.\n",
      "[I 2023-08-10 21:29:07,666] Trial 443 finished with value: 9.287743637589221 and parameters: {'learning_rate': 0.04480969135816129, 'n_estimators': 79, 'max_depth': 3, 'gamma': 0.8908071911654553, 'reg_alpha': 0.6628265003316884, 'reg_lambda': 0.47811317178723145}. Best is trial 187 with value: 8.757000390751795.\n",
      "[I 2023-08-10 21:29:11,336] Trial 444 finished with value: 9.259609021064112 and parameters: {'learning_rate': 0.0721276569372668, 'n_estimators': 186, 'max_depth': 3, 'gamma': 0.6710406687113527, 'reg_alpha': 0.7849691522140655, 'reg_lambda': 0.6218517181881714}. Best is trial 187 with value: 8.757000390751795.\n",
      "[I 2023-08-10 21:29:14,785] Trial 445 finished with value: 20.65688714622258 and parameters: {'learning_rate': 0.010044888305236442, 'n_estimators': 174, 'max_depth': 3, 'gamma': 0.7311686551253749, 'reg_alpha': 0.8846192047968602, 'reg_lambda': 0.25859022553552086}. Best is trial 187 with value: 8.757000390751795.\n",
      "[I 2023-08-10 21:29:18,616] Trial 446 finished with value: 8.847690205593173 and parameters: {'learning_rate': 0.0330388238358017, 'n_estimators': 197, 'max_depth': 3, 'gamma': 0.7165642968060885, 'reg_alpha': 0.5114706002979696, 'reg_lambda': 0.8917475239845161}. Best is trial 187 with value: 8.757000390751795.\n",
      "[I 2023-08-10 21:29:22,475] Trial 447 finished with value: 8.79628836182523 and parameters: {'learning_rate': 0.026897145055282977, 'n_estimators': 192, 'max_depth': 3, 'gamma': 0.690801389566203, 'reg_alpha': 0.6459358376873141, 'reg_lambda': 0.4356229963893685}. Best is trial 187 with value: 8.757000390751795.\n",
      "[I 2023-08-10 21:29:26,246] Trial 448 finished with value: 9.49493285247029 and parameters: {'learning_rate': 0.0765608255056203, 'n_estimators': 193, 'max_depth': 3, 'gamma': 0.6314843042524705, 'reg_alpha': 0.6076239075157147, 'reg_lambda': 0.4301886075825967}. Best is trial 187 with value: 8.757000390751795.\n",
      "[I 2023-08-10 21:29:29,926] Trial 449 finished with value: 9.86655136033359 and parameters: {'learning_rate': 0.11793570921440641, 'n_estimators': 190, 'max_depth': 3, 'gamma': 0.6864930823149084, 'reg_alpha': 0.6466172747822322, 'reg_lambda': 0.4118671247599843}. Best is trial 187 with value: 8.757000390751795.\n",
      "[I 2023-08-10 21:29:33,645] Trial 450 finished with value: 8.827990290226609 and parameters: {'learning_rate': 0.02535873558268083, 'n_estimators': 194, 'max_depth': 3, 'gamma': 0.49310023975534667, 'reg_alpha': 0.8562495508128913, 'reg_lambda': 0.44428411363348996}. Best is trial 187 with value: 8.757000390751795.\n",
      "[I 2023-08-10 21:29:37,466] Trial 451 finished with value: 9.663034703450453 and parameters: {'learning_rate': 0.09352211199318239, 'n_estimators': 200, 'max_depth': 3, 'gamma': 0.6674142667471705, 'reg_alpha': 0.9141527745268092, 'reg_lambda': 0.39244704037359335}. Best is trial 187 with value: 8.757000390751795.\n",
      "[I 2023-08-10 21:29:41,235] Trial 452 finished with value: 9.285895749476904 and parameters: {'learning_rate': 0.018832956003549686, 'n_estimators': 191, 'max_depth': 3, 'gamma': 0.8397088577308566, 'reg_alpha': 0.6268295415832756, 'reg_lambda': 0.6982678495804621}. Best is trial 187 with value: 8.757000390751795.\n",
      "[I 2023-08-10 21:29:44,985] Trial 453 finished with value: 8.788815540656659 and parameters: {'learning_rate': 0.026646152673649254, 'n_estimators': 196, 'max_depth': 3, 'gamma': 0.4591702965699641, 'reg_alpha': 0.3512720761728749, 'reg_lambda': 0.458748263038339}. Best is trial 187 with value: 8.757000390751795.\n",
      "[I 2023-08-10 21:29:48,819] Trial 454 finished with value: 9.028921940842656 and parameters: {'learning_rate': 0.051364067673991584, 'n_estimators': 197, 'max_depth': 3, 'gamma': 0.5287762460488429, 'reg_alpha': 0.31456059666159997, 'reg_lambda': 0.42085459732938557}. Best is trial 187 with value: 8.757000390751795.\n",
      "[I 2023-08-10 21:29:52,616] Trial 455 finished with value: 10.38710759115182 and parameters: {'learning_rate': 0.17146851346639114, 'n_estimators': 197, 'max_depth': 3, 'gamma': 0.4042643697305318, 'reg_alpha': 0.1404875030106596, 'reg_lambda': 0.7528419017495994}. Best is trial 187 with value: 8.757000390751795.\n",
      "[I 2023-08-10 21:29:56,254] Trial 456 finished with value: 8.834740153849642 and parameters: {'learning_rate': 0.025312364952596797, 'n_estimators': 187, 'max_depth': 3, 'gamma': 0.6046099709757761, 'reg_alpha': 0.5922895844017602, 'reg_lambda': 0.44023887655610777}. Best is trial 187 with value: 8.757000390751795.\n",
      "[I 2023-08-10 21:30:00,011] Trial 457 finished with value: 9.36688865805495 and parameters: {'learning_rate': 0.08595709493237232, 'n_estimators': 194, 'max_depth': 3, 'gamma': 0.5658531161516526, 'reg_alpha': 0.35681024003727635, 'reg_lambda': 0.4581644491347509}. Best is trial 187 with value: 8.757000390751795.\n",
      "[I 2023-08-10 21:30:03,899] Trial 458 finished with value: 9.127384742271667 and parameters: {'learning_rate': 0.018918248862777105, 'n_estimators': 200, 'max_depth': 3, 'gamma': 0.47771073775362866, 'reg_alpha': 0.2530053618529854, 'reg_lambda': 0.36346740767565555}. Best is trial 187 with value: 8.757000390751795.\n",
      "[I 2023-08-10 21:30:07,518] Trial 459 finished with value: 8.912068398744145 and parameters: {'learning_rate': 0.03757901522237585, 'n_estimators': 189, 'max_depth': 3, 'gamma': 0.6580122401106152, 'reg_alpha': 0.48698177567005785, 'reg_lambda': 0.7411768070406866}. Best is trial 187 with value: 8.757000390751795.\n",
      "[I 2023-08-10 21:30:11,079] Trial 460 finished with value: 8.828417158971758 and parameters: {'learning_rate': 0.02830110386336737, 'n_estimators': 184, 'max_depth': 3, 'gamma': 0.538860403150424, 'reg_alpha': 0.3776243183922177, 'reg_lambda': 0.3344649537900729}. Best is trial 187 with value: 8.757000390751795.\n",
      "[I 2023-08-10 21:30:14,949] Trial 461 finished with value: 8.841984779152483 and parameters: {'learning_rate': 0.023513921695527594, 'n_estimators': 194, 'max_depth': 3, 'gamma': 0.872177737055738, 'reg_alpha': 0.2680996610756419, 'reg_lambda': 0.3138432909678871}. Best is trial 187 with value: 8.757000390751795.\n",
      "[I 2023-08-10 21:30:18,595] Trial 462 finished with value: 10.572224727004993 and parameters: {'learning_rate': 0.1763541361004397, 'n_estimators': 191, 'max_depth': 3, 'gamma': 0.45607329847515377, 'reg_alpha': 0.37861529044877407, 'reg_lambda': 0.4048104147305545}. Best is trial 187 with value: 8.757000390751795.\n",
      "[I 2023-08-10 21:30:22,175] Trial 463 finished with value: 10.325769397406537 and parameters: {'learning_rate': 0.16240999604823425, 'n_estimators': 187, 'max_depth': 3, 'gamma': 0.6918857001910463, 'reg_alpha': 0.505527555822507, 'reg_lambda': 0.42994452167487585}. Best is trial 187 with value: 8.757000390751795.\n",
      "[I 2023-08-10 21:30:26,874] Trial 464 finished with value: 10.509581771721097 and parameters: {'learning_rate': 0.2036623180692999, 'n_estimators': 181, 'max_depth': 4, 'gamma': 0.6467187014459546, 'reg_alpha': 0.45638771839004233, 'reg_lambda': 0.2979524787666701}. Best is trial 187 with value: 8.757000390751795.\n",
      "[I 2023-08-10 21:30:30,609] Trial 465 finished with value: 10.369658503831587 and parameters: {'learning_rate': 0.16037380816451172, 'n_estimators': 196, 'max_depth': 3, 'gamma': 0.511604005173916, 'reg_alpha': 0.5248097972541363, 'reg_lambda': 0.4654454602021588}. Best is trial 187 with value: 8.757000390751795.\n",
      "[I 2023-08-10 21:30:34,225] Trial 466 finished with value: 8.839670139135407 and parameters: {'learning_rate': 0.03462862770744664, 'n_estimators': 186, 'max_depth': 3, 'gamma': 0.9241623935417729, 'reg_alpha': 0.40810343617523726, 'reg_lambda': 0.4480178608551338}. Best is trial 187 with value: 8.757000390751795.\n",
      "[I 2023-08-10 21:30:37,870] Trial 467 finished with value: 9.908544955704283 and parameters: {'learning_rate': 0.11269782605471924, 'n_estimators': 191, 'max_depth': 3, 'gamma': 0.4338950802301262, 'reg_alpha': 0.6151905849187729, 'reg_lambda': 0.48255453351152117}. Best is trial 187 with value: 8.757000390751795.\n",
      "[I 2023-08-10 21:30:41,646] Trial 468 finished with value: 10.121336519189182 and parameters: {'learning_rate': 0.15089701840502912, 'n_estimators': 194, 'max_depth': 3, 'gamma': 0.6125851176527366, 'reg_alpha': 0.2964015991496733, 'reg_lambda': 0.9305078261286064}. Best is trial 187 with value: 8.757000390751795.\n",
      "[I 2023-08-10 21:30:45,226] Trial 469 finished with value: 8.99399161447685 and parameters: {'learning_rate': 0.0418738531041396, 'n_estimators': 182, 'max_depth': 3, 'gamma': 0.9703771321728897, 'reg_alpha': 0.5335310806380293, 'reg_lambda': 0.26910760577953646}. Best is trial 187 with value: 8.757000390751795.\n",
      "[I 2023-08-10 21:30:49,035] Trial 470 finished with value: 9.300184584539394 and parameters: {'learning_rate': 0.06858729485583796, 'n_estimators': 200, 'max_depth': 3, 'gamma': 0.49718968078437353, 'reg_alpha': 0.5845103467006009, 'reg_lambda': 0.39790870946023427}. Best is trial 187 with value: 8.757000390751795.\n",
      "[I 2023-08-10 21:30:52,639] Trial 471 finished with value: 10.757279797429826 and parameters: {'learning_rate': 0.1969053199884262, 'n_estimators': 188, 'max_depth': 3, 'gamma': 0.40566361107349946, 'reg_alpha': 0.4264207646779203, 'reg_lambda': 0.3726753825961494}. Best is trial 187 with value: 8.757000390751795.\n",
      "[I 2023-08-10 21:30:56,386] Trial 472 finished with value: 9.874306324846994 and parameters: {'learning_rate': 0.016959547299391767, 'n_estimators': 185, 'max_depth': 3, 'gamma': 0.5452941274903266, 'reg_alpha': 0.34761749220429494, 'reg_lambda': 0.43909486292737676}. Best is trial 187 with value: 8.757000390751795.\n",
      "[I 2023-08-10 21:31:00,223] Trial 473 finished with value: 8.856635307237656 and parameters: {'learning_rate': 0.03211338620754853, 'n_estimators': 191, 'max_depth': 3, 'gamma': 0.5060151320016675, 'reg_alpha': 0.17251890586689111, 'reg_lambda': 0.4180339073176628}. Best is trial 187 with value: 8.757000390751795.\n",
      "[I 2023-08-10 21:31:04,166] Trial 474 finished with value: 10.106449738644518 and parameters: {'learning_rate': 0.1329193914488459, 'n_estimators': 196, 'max_depth': 3, 'gamma': 0.528390896950601, 'reg_alpha': 0.3858388589428987, 'reg_lambda': 0.4846279373631195}. Best is trial 187 with value: 8.757000390751795.\n",
      "[I 2023-08-10 21:31:08,126] Trial 475 finished with value: 8.835408022314482 and parameters: {'learning_rate': 0.02699337205212729, 'n_estimators': 180, 'max_depth': 3, 'gamma': 0.5882749440916779, 'reg_alpha': 0.35288766561498996, 'reg_lambda': 0.4573190230097486}. Best is trial 187 with value: 8.757000390751795.\n",
      "[I 2023-08-10 21:31:12,248] Trial 476 finished with value: 8.975829898350408 and parameters: {'learning_rate': 0.022064136083205982, 'n_estimators': 188, 'max_depth': 3, 'gamma': 0.5118937421032683, 'reg_alpha': 0.29429161983287433, 'reg_lambda': 0.2384527152472319}. Best is trial 187 with value: 8.757000390751795.\n",
      "[I 2023-08-10 21:31:16,067] Trial 477 finished with value: 9.81006225585771 and parameters: {'learning_rate': 0.10470837016643922, 'n_estimators': 193, 'max_depth': 3, 'gamma': 0.3616858016192987, 'reg_alpha': 0.33293451294820864, 'reg_lambda': 0.8061266873000653}. Best is trial 187 with value: 8.757000390751795.\n",
      "[I 2023-08-10 21:31:19,808] Trial 478 finished with value: 11.833613974808053 and parameters: {'learning_rate': 0.013946874680115575, 'n_estimators': 184, 'max_depth': 3, 'gamma': 0.6892237440123097, 'reg_alpha': 0.45526663700302505, 'reg_lambda': 0.5062580086196861}. Best is trial 187 with value: 8.757000390751795.\n",
      "[I 2023-08-10 21:31:23,668] Trial 479 finished with value: 9.00809783380341 and parameters: {'learning_rate': 0.03661230707239504, 'n_estimators': 196, 'max_depth': 3, 'gamma': 0.8536246803824218, 'reg_alpha': 0.20314719509965243, 'reg_lambda': 0.46483145781422885}. Best is trial 187 with value: 8.757000390751795.\n",
      "[I 2023-08-10 21:31:27,486] Trial 480 finished with value: 8.84299327135176 and parameters: {'learning_rate': 0.029081052588817182, 'n_estimators': 190, 'max_depth': 3, 'gamma': 0.7052696499299947, 'reg_alpha': 0.4408551556774887, 'reg_lambda': 0.3347974242724377}. Best is trial 187 with value: 8.757000390751795.\n",
      "[I 2023-08-10 21:31:31,076] Trial 481 finished with value: 9.89994178220966 and parameters: {'learning_rate': 0.1588419700893438, 'n_estimators': 183, 'max_depth': 3, 'gamma': 0.6786335158384275, 'reg_alpha': 0.33866810400895025, 'reg_lambda': 0.7727516961638906}. Best is trial 187 with value: 8.757000390751795.\n",
      "[I 2023-08-10 21:31:34,765] Trial 482 finished with value: 9.107757238860554 and parameters: {'learning_rate': 0.042860398732132834, 'n_estimators': 188, 'max_depth': 3, 'gamma': 0.8061760322914275, 'reg_alpha': 0.8981677140423436, 'reg_lambda': 0.3536099590149621}. Best is trial 187 with value: 8.757000390751795.\n",
      "[I 2023-08-10 21:31:50,505] Trial 483 finished with value: 10.3779042953643 and parameters: {'learning_rate': 0.13807458224520938, 'n_estimators': 200, 'max_depth': 7, 'gamma': 0.45331789317290017, 'reg_alpha': 0.32201086326820444, 'reg_lambda': 0.41329405385875095}. Best is trial 187 with value: 8.757000390751795.\n",
      "[I 2023-08-10 21:31:54,086] Trial 484 finished with value: 9.188502551692103 and parameters: {'learning_rate': 0.02048685419345579, 'n_estimators': 178, 'max_depth': 3, 'gamma': 0.8263780140950397, 'reg_alpha': 0.6684835161579981, 'reg_lambda': 0.3794712163085147}. Best is trial 187 with value: 8.757000390751795.\n",
      "[I 2023-08-10 21:31:57,800] Trial 485 finished with value: 9.333638339069818 and parameters: {'learning_rate': 0.06439821336114965, 'n_estimators': 191, 'max_depth': 3, 'gamma': 0.637078232920557, 'reg_alpha': 0.24570472240245841, 'reg_lambda': 0.4353526735488108}. Best is trial 187 with value: 8.757000390751795.\n",
      "[I 2023-08-10 21:32:01,488] Trial 486 finished with value: 8.825444444665184 and parameters: {'learning_rate': 0.034046816136011106, 'n_estimators': 194, 'max_depth': 3, 'gamma': 0.9327941012771432, 'reg_alpha': 0.39018696326079855, 'reg_lambda': 0.9920006313218377}. Best is trial 187 with value: 8.757000390751795.\n",
      "[I 2023-08-10 21:32:11,594] Trial 487 finished with value: 9.712986152633945 and parameters: {'learning_rate': 0.04997589410318985, 'n_estimators': 185, 'max_depth': 6, 'gamma': 0.6641643866375916, 'reg_alpha': 0.9806684060021931, 'reg_lambda': 0.28480087543334254}. Best is trial 187 with value: 8.757000390751795.\n",
      "[I 2023-08-10 21:32:13,215] Trial 488 finished with value: 18.427719774807628 and parameters: {'learning_rate': 0.028713239396599522, 'n_estimators': 65, 'max_depth': 3, 'gamma': 0.697187562214126, 'reg_alpha': 0.27317379398370645, 'reg_lambda': 0.4921585311765955}. Best is trial 187 with value: 8.757000390751795.\n",
      "[I 2023-08-10 21:32:20,436] Trial 489 finished with value: 9.393874421521634 and parameters: {'learning_rate': 0.05913836630849413, 'n_estimators': 197, 'max_depth': 5, 'gamma': 0.9118461348428474, 'reg_alpha': 0.3199158927639909, 'reg_lambda': 0.3136625971989494}. Best is trial 187 with value: 8.757000390751795.\n",
      "[I 2023-08-10 21:32:24,005] Trial 490 finished with value: 8.925632924997995 and parameters: {'learning_rate': 0.0228434064104061, 'n_estimators': 181, 'max_depth': 3, 'gamma': 0.4747643407777423, 'reg_alpha': 0.7527994523906455, 'reg_lambda': 0.18804556666779657}. Best is trial 187 with value: 8.757000390751795.\n",
      "[I 2023-08-10 21:32:27,727] Trial 491 finished with value: 17.850063118746153 and parameters: {'learning_rate': 0.010000429233646638, 'n_estimators': 192, 'max_depth': 3, 'gamma': 0.8835347280393459, 'reg_alpha': 0.33431173408759374, 'reg_lambda': 0.4506683960238329}. Best is trial 187 with value: 8.757000390751795.\n",
      "[I 2023-08-10 21:32:32,655] Trial 492 finished with value: 9.358382765149202 and parameters: {'learning_rate': 0.03769341166462056, 'n_estimators': 187, 'max_depth': 4, 'gamma': 0.7084182132776526, 'reg_alpha': 0.403343517131241, 'reg_lambda': 0.471649713225825}. Best is trial 187 with value: 8.757000390751795.\n",
      "[I 2023-08-10 21:32:36,326] Trial 493 finished with value: 10.381249056609402 and parameters: {'learning_rate': 0.1934819647994882, 'n_estimators': 189, 'max_depth': 3, 'gamma': 0.9450998681602811, 'reg_alpha': 0.23175149156348057, 'reg_lambda': 0.39482689606669047}. Best is trial 187 with value: 8.757000390751795.\n",
      "[I 2023-08-10 21:32:40,146] Trial 494 finished with value: 8.81036037404265 and parameters: {'learning_rate': 0.02990140649981009, 'n_estimators': 197, 'max_depth': 3, 'gamma': 0.725777942542605, 'reg_alpha': 0.8165395957826397, 'reg_lambda': 0.4302852666724043}. Best is trial 187 with value: 8.757000390751795.\n",
      "[I 2023-08-10 21:32:43,755] Trial 495 finished with value: 9.082955273109352 and parameters: {'learning_rate': 0.045150084067497216, 'n_estimators': 184, 'max_depth': 3, 'gamma': 0.44070986273177076, 'reg_alpha': 0.4401957025359139, 'reg_lambda': 0.41728385636948945}. Best is trial 187 with value: 8.757000390751795.\n",
      "[I 2023-08-10 21:32:47,486] Trial 496 finished with value: 9.804614079449312 and parameters: {'learning_rate': 0.01767311552860213, 'n_estimators': 179, 'max_depth': 3, 'gamma': 0.7505112751104327, 'reg_alpha': 0.5526305169497626, 'reg_lambda': 0.5184612045725497}. Best is trial 187 with value: 8.757000390751795.\n",
      "[I 2023-08-10 21:32:51,286] Trial 497 finished with value: 8.905939932094299 and parameters: {'learning_rate': 0.024337953197561223, 'n_estimators': 193, 'max_depth': 3, 'gamma': 0.6725479037347705, 'reg_alpha': 0.6388474512944348, 'reg_lambda': 0.13188066365209722}. Best is trial 187 with value: 8.757000390751795.\n",
      "[I 2023-08-10 21:32:53,455] Trial 498 finished with value: 9.277636224037494 and parameters: {'learning_rate': 0.03645349049213384, 'n_estimators': 97, 'max_depth': 3, 'gamma': 0.9726213170896469, 'reg_alpha': 0.31271565346668717, 'reg_lambda': 0.4932137403320467}. Best is trial 187 with value: 8.757000390751795.\n",
      "[I 2023-08-10 21:32:57,095] Trial 499 finished with value: 8.78727105871786 and parameters: {'learning_rate': 0.030206580339301098, 'n_estimators': 187, 'max_depth': 3, 'gamma': 0.5692936515961466, 'reg_alpha': 0.42228183607873426, 'reg_lambda': 0.46010106176636584}. Best is trial 187 with value: 8.757000390751795.\n"
     ]
    },
    {
     "name": "stdout",
     "output_type": "stream",
     "text": [
      "Best trial: {'learning_rate': 0.029009298442672464, 'n_estimators': 183, 'max_depth': 3, 'gamma': 0.6842431254904875, 'reg_alpha': 0.6663337272348825, 'reg_lambda': 0.4462068241770646}\n",
      "Best RMSE: 8.757000390751795\n"
     ]
    }
   ],
   "source": [
    "# Create a study object\n",
    "study_xgb = optuna.create_study(direction=\"minimize\")\n",
    "study_xgb.optimize(lambda trial: objectiveFun(trial, 'XGBoost'), n_trials=500)\n",
    "\n",
    "# Results\n",
    "print(f\"Best trial: {study_xgb.best_trial.params}\")\n",
    "print(f\"Best RMSE: {study_xgb.best_value}\")"
   ]
  },
  {
   "cell_type": "markdown",
   "metadata": {},
   "source": [
    "Hasil Output Code diatas:\n",
    "\n",
    "    Best trial: {'learning_rate': 0.029009298442672464, 'n_estimators': 183, 'max_depth': 3, 'gamma': 0.6842431254904875, 'reg_alpha': 0.6663337272348825, 'reg_lambda': 0.4462068241770646}\n",
    "Best RMSE: 8.757000390751795"
   ]
  },
  {
   "cell_type": "markdown",
   "metadata": {},
   "source": [
    "Berdasarkan tuning parameter optuna untuk model XGBoost diperoleh nilai sMAPE terbaik sebesar 8.5750. Nilai tersebut lebih tinggi dari sMAPE untuk model RandomForestRegressor."
   ]
  },
  {
   "cell_type": "markdown",
   "metadata": {},
   "source": [
    "<div class=\"alert alert-success\">\n",
    "<b>Chamdani's comment v.1</b> <a class=\"tocSkip\"></a>\n",
    "\n",
    "Hebat, Kerja bagus!\n",
    "\n",
    "</div>"
   ]
  },
  {
   "cell_type": "markdown",
   "metadata": {},
   "source": [
    "## Model Terpilih"
   ]
  },
  {
   "cell_type": "markdown",
   "metadata": {},
   "source": [
    "Model terbaik yang sejauh ini didiperoleh yaitu model RandomForestRegressor. Dengan Hyperparameter sebagai berikut:\n",
    "1. n_estimators: 176\n",
    "2. max_depth: 4\n",
    "3. min_samples_split: 5\n",
    "4. min_samples_leaf: 9"
   ]
  },
  {
   "cell_type": "code",
   "execution_count": 170,
   "metadata": {},
   "outputs": [
    {
     "name": "stdout",
     "output_type": "stream",
     "text": [
      "Nilai sMAPE model terbaik terhadap train dataset adalah = 7.3427\n",
      "Nilai sMAPE model terbaik terhadap test dataset adalah = 11.0761\n"
     ]
    }
   ],
   "source": [
    "# Membuat Model\n",
    "param = {'n_estimators': 176, 'max_depth': 4, 'min_samples_split': 5, 'min_samples_leaf': 9, 'random_state': 123, 'n_jobs':12}\n",
    "best_model = RandomForestRegressor(**param)\n",
    "\n",
    "# Training Model\n",
    "best_model.fit(features_train, target_train)\n",
    "\n",
    "# Target Prediction\n",
    "prediction_test = pd.DataFrame(best_model.predict(features_test), columns = [0,1])\n",
    "prediction_train =  pd.DataFrame(best_model.predict(features_train), columns = [0,1])\n",
    "\n",
    "# sMAPE calculation\n",
    "smape_test = smapeFinal(prediction_test, target_test)\n",
    "smape_train = smapeFinal(prediction_train, target_train)\n",
    "\n",
    "print(f'Nilai sMAPE model terbaik terhadap train dataset adalah = {smape_train:.4f}')\n",
    "print(f'Nilai sMAPE model terbaik terhadap test dataset adalah = {smape_test:.4f}')"
   ]
  },
  {
   "cell_type": "markdown",
   "metadata": {},
   "source": [
    "Nilai sMAPE test dataset lebih tinggi dari train dataset. Hmm, apakah hasilnya akan lebih baik dari mode Dummy?"
   ]
  },
  {
   "cell_type": "code",
   "execution_count": 159,
   "metadata": {
    "scrolled": true
   },
   "outputs": [
    {
     "name": "stdout",
     "output_type": "stream",
     "text": [
      "Nilai sMAPE = 11.0761\n"
     ]
    },
    {
     "data": {
      "text/html": [
       "<div>\n",
       "<style scoped>\n",
       "    .dataframe tbody tr th:only-of-type {\n",
       "        vertical-align: middle;\n",
       "    }\n",
       "\n",
       "    .dataframe tbody tr th {\n",
       "        vertical-align: top;\n",
       "    }\n",
       "\n",
       "    .dataframe thead th {\n",
       "        text-align: right;\n",
       "    }\n",
       "</style>\n",
       "<table border=\"1\" class=\"dataframe\">\n",
       "  <thead>\n",
       "    <tr style=\"text-align: right;\">\n",
       "      <th></th>\n",
       "      <th>pred_1</th>\n",
       "      <th>pred_2</th>\n",
       "      <th>target_1</th>\n",
       "      <th>target_2</th>\n",
       "      <th>smape_1</th>\n",
       "      <th>smape_2</th>\n",
       "      <th>smape_total</th>\n",
       "    </tr>\n",
       "  </thead>\n",
       "  <tbody>\n",
       "    <tr>\n",
       "      <th>31</th>\n",
       "      <td>71.126359</td>\n",
       "      <td>52.061662</td>\n",
       "      <td>0.000000</td>\n",
       "      <td>0.000000</td>\n",
       "      <td>200.000000</td>\n",
       "      <td>200.000000</td>\n",
       "      <td>200.000000</td>\n",
       "    </tr>\n",
       "    <tr>\n",
       "      <th>30</th>\n",
       "      <td>74.225565</td>\n",
       "      <td>60.586684</td>\n",
       "      <td>0.000000</td>\n",
       "      <td>0.000000</td>\n",
       "      <td>200.000000</td>\n",
       "      <td>200.000000</td>\n",
       "      <td>200.000000</td>\n",
       "    </tr>\n",
       "    <tr>\n",
       "      <th>32</th>\n",
       "      <td>71.114738</td>\n",
       "      <td>51.965022</td>\n",
       "      <td>0.000000</td>\n",
       "      <td>0.000000</td>\n",
       "      <td>200.000000</td>\n",
       "      <td>200.000000</td>\n",
       "      <td>200.000000</td>\n",
       "    </tr>\n",
       "    <tr>\n",
       "      <th>5711</th>\n",
       "      <td>85.145199</td>\n",
       "      <td>66.726561</td>\n",
       "      <td>6.705438</td>\n",
       "      <td>0.000000</td>\n",
       "      <td>170.798512</td>\n",
       "      <td>200.000000</td>\n",
       "      <td>192.699628</td>\n",
       "    </tr>\n",
       "    <tr>\n",
       "      <th>5709</th>\n",
       "      <td>84.503755</td>\n",
       "      <td>66.301342</td>\n",
       "      <td>6.705438</td>\n",
       "      <td>0.000000</td>\n",
       "      <td>170.593147</td>\n",
       "      <td>200.000000</td>\n",
       "      <td>192.648287</td>\n",
       "    </tr>\n",
       "    <tr>\n",
       "      <th>...</th>\n",
       "      <td>...</td>\n",
       "      <td>...</td>\n",
       "      <td>...</td>\n",
       "      <td>...</td>\n",
       "      <td>...</td>\n",
       "      <td>...</td>\n",
       "      <td>...</td>\n",
       "    </tr>\n",
       "    <tr>\n",
       "      <th>1550</th>\n",
       "      <td>81.741691</td>\n",
       "      <td>64.757297</td>\n",
       "      <td>81.355116</td>\n",
       "      <td>64.833590</td>\n",
       "      <td>0.474043</td>\n",
       "      <td>0.117745</td>\n",
       "      <td>0.206819</td>\n",
       "    </tr>\n",
       "    <tr>\n",
       "      <th>5051</th>\n",
       "      <td>89.465232</td>\n",
       "      <td>72.200356</td>\n",
       "      <td>90.096537</td>\n",
       "      <td>72.229723</td>\n",
       "      <td>0.703162</td>\n",
       "      <td>0.040666</td>\n",
       "      <td>0.206290</td>\n",
       "    </tr>\n",
       "    <tr>\n",
       "      <th>2828</th>\n",
       "      <td>83.312839</td>\n",
       "      <td>66.173434</td>\n",
       "      <td>83.094724</td>\n",
       "      <td>66.082450</td>\n",
       "      <td>0.262145</td>\n",
       "      <td>0.137588</td>\n",
       "      <td>0.168727</td>\n",
       "    </tr>\n",
       "    <tr>\n",
       "      <th>4497</th>\n",
       "      <td>89.835669</td>\n",
       "      <td>71.840465</td>\n",
       "      <td>89.596775</td>\n",
       "      <td>71.841350</td>\n",
       "      <td>0.266278</td>\n",
       "      <td>0.001232</td>\n",
       "      <td>0.067493</td>\n",
       "    </tr>\n",
       "    <tr>\n",
       "      <th>3578</th>\n",
       "      <td>82.016920</td>\n",
       "      <td>64.806982</td>\n",
       "      <td>81.926074</td>\n",
       "      <td>64.778276</td>\n",
       "      <td>0.110826</td>\n",
       "      <td>0.044304</td>\n",
       "      <td>0.060934</td>\n",
       "    </tr>\n",
       "  </tbody>\n",
       "</table>\n",
       "<p>5856 rows × 7 columns</p>\n",
       "</div>"
      ],
      "text/plain": [
       "         pred_1     pred_2   target_1   target_2     smape_1     smape_2  \\\n",
       "31    71.126359  52.061662   0.000000   0.000000  200.000000  200.000000   \n",
       "30    74.225565  60.586684   0.000000   0.000000  200.000000  200.000000   \n",
       "32    71.114738  51.965022   0.000000   0.000000  200.000000  200.000000   \n",
       "5711  85.145199  66.726561   6.705438   0.000000  170.798512  200.000000   \n",
       "5709  84.503755  66.301342   6.705438   0.000000  170.593147  200.000000   \n",
       "...         ...        ...        ...        ...         ...         ...   \n",
       "1550  81.741691  64.757297  81.355116  64.833590    0.474043    0.117745   \n",
       "5051  89.465232  72.200356  90.096537  72.229723    0.703162    0.040666   \n",
       "2828  83.312839  66.173434  83.094724  66.082450    0.262145    0.137588   \n",
       "4497  89.835669  71.840465  89.596775  71.841350    0.266278    0.001232   \n",
       "3578  82.016920  64.806982  81.926074  64.778276    0.110826    0.044304   \n",
       "\n",
       "      smape_total  \n",
       "31     200.000000  \n",
       "30     200.000000  \n",
       "32     200.000000  \n",
       "5711   192.699628  \n",
       "5709   192.648287  \n",
       "...           ...  \n",
       "1550     0.206819  \n",
       "5051     0.206290  \n",
       "2828     0.168727  \n",
       "4497     0.067493  \n",
       "3578     0.060934  \n",
       "\n",
       "[5856 rows x 7 columns]"
      ]
     },
     "execution_count": 159,
     "metadata": {},
     "output_type": "execute_result"
    }
   ],
   "source": [
    "# Gabungkan hasil prediksi dan target menjadi satu DF\n",
    "df_result = pd.DataFrame(columns=['pred_1','pred_2','target_1','target_2'])\n",
    "df_result[['pred_1','pred_2']] = prediction_test \n",
    "df_result[['target_1','target_2']] = target_test \n",
    "\n",
    "# Menghitung sMAPE\n",
    "df_result['smape_1'] = (target_test[0]-prediction_test[0]).abs() / ((target_test[0].abs()+prediction_test[0].abs())/2)*100\n",
    "df_result['smape_2'] = (target_test[1]-prediction_test[1]).abs() / ((target_test[1].abs()+prediction_test[1].abs())/2)*100\n",
    "\n",
    "df_result['smape_total'] = .25*df_result['smape_1'] + .75*df_result['smape_2']\n",
    "\n",
    "# Menampilkan 5 baris pertama dan terakhir\n",
    "print(f'Nilai sMAPE = {df_result.smape_total.mean():.4f}')\n",
    "\n",
    "df_result.sort_values(by='smape_total', ascending=False)"
   ]
  },
  {
   "cell_type": "markdown",
   "metadata": {},
   "source": [
    "Ternyata salah satu penyebab sMAPE tinggi salah satunya karena terdapat data yang nilai targetnya bernilai 0."
   ]
  },
  {
   "cell_type": "code",
   "execution_count": 184,
   "metadata": {},
   "outputs": [
    {
     "data": {
      "image/png": "[encoded data removed]",
      "text/plain": [
       "<Figure size 720x360 with 2 Axes>"
      ]
     },
     "metadata": {
      "needs_background": "light"
     },
     "output_type": "display_data"
    }
   ],
   "source": [
    "plt.figure(figsize=(10,5))\n",
    "plt.subplot(1,2,1)\n",
    "sb.histplot(prediction_test[0], color = 'red',  label = 'prediction')\n",
    "sb.histplot(target_test[0],color = 'green', label = 'target')\n",
    "plt.subplot(1,2,2)\n",
    "sb.histplot(prediction_test[1], color = 'red',label = 'prediction')\n",
    "sb.histplot(target_test[1], color = 'green', label = 'target')\n",
    "plt.legend()\n",
    "plt.show()"
   ]
  },
  {
   "cell_type": "markdown",
   "metadata": {},
   "source": [
    "Bahkan terdapat prediksi yang sangat tidak masuk akal, konsentrasi emas prediksinya mencapai 1200!. Apakah terdapat asam sulfat yang berubah jadi emas? Ternyata kita telah menciptakan reaktor fusi haha."
   ]
  },
  {
   "cell_type": "markdown",
   "metadata": {},
   "source": [
    "<div class=\"alert alert-success\">\n",
    "<b>Chamdani's comment v.1</b> <a class=\"tocSkip\"></a>\n",
    "\n",
    "Hebat, Kerja bagus!\n",
    "\n",
    "</div>"
   ]
  },
  {
   "cell_type": "markdown",
   "metadata": {},
   "source": [
    "Sebelum melakukan sanity test saya penasaran hyperparameter apa yang paling berpengaruh terhadap performa model ini."
   ]
  },
  {
   "cell_type": "code",
   "execution_count": 64,
   "metadata": {},
   "outputs": [
    {
     "data": {
      "application/vnd.plotly.v1+json": {
       "config": {
        "plotlyServerURL": "https://plot.ly"
       },
       "data": [
        {
         "cliponaxis": false,
         "hovertemplate": [
          "min_samples_split (IntDistribution): 0.00771251122847795<extra></extra>",
          "n_estimators (IntDistribution): 0.03985495493110923<extra></extra>",
          "min_samples_leaf (IntDistribution): 0.1313760692291804<extra></extra>",
          "max_depth (IntDistribution): 0.8210564646112323<extra></extra>"
         ],
         "marker": {
          "color": "rgb(66,146,198)"
         },
         "orientation": "h",
         "text": [
          "<0.01",
          "0.04",
          "0.13",
          "0.82"
         ],
         "textposition": "outside",
         "type": "bar",
         "x": [
          0.00771251122847795,
          0.03985495493110923,
          0.1313760692291804,
          0.8210564646112323
         ],
         "y": [
          "min_samples_split",
          "n_estimators",
          "min_samples_leaf",
          "max_depth"
         ]
        }
       ],
       "layout": {
        "showlegend": false,
        "template": {
         "data": {
          "bar": [
           {
            "error_x": {
             "color": "#2a3f5f"
            },
            "error_y": {
             "color": "#2a3f5f"
            },
            "marker": {
             "line": {
              "color": "#E5ECF6",
              "width": 0.5
             },
             "pattern": {
              "fillmode": "overlay",
              "size": 10,
              "solidity": 0.2
             }
            },
            "type": "bar"
           }
          ],
          "barpolar": [
           {
            "marker": {
             "line": {
              "color": "#E5ECF6",
              "width": 0.5
             },
             "pattern": {
              "fillmode": "overlay",
              "size": 10,
              "solidity": 0.2
             }
            },
            "type": "barpolar"
           }
          ],
          "carpet": [
           {
            "aaxis": {
             "endlinecolor": "#2a3f5f",
             "gridcolor": "white",
             "linecolor": "white",
             "minorgridcolor": "white",
             "startlinecolor": "#2a3f5f"
            },
            "baxis": {
             "endlinecolor": "#2a3f5f",
             "gridcolor": "white",
             "linecolor": "white",
             "minorgridcolor": "white",
             "startlinecolor": "#2a3f5f"
            },
            "type": "carpet"
           }
          ],
          "choropleth": [
           {
            "colorbar": {
             "outlinewidth": 0,
             "ticks": ""
            },
            "type": "choropleth"
           }
          ],
          "contour": [
           {
            "colorbar": {
             "outlinewidth": 0,
             "ticks": ""
            },
            "colorscale": [
             [
              0,
              "#0d0887"
             ],
             [
              0.1111111111111111,
              "#46039f"
             ],
             [
              0.2222222222222222,
              "#7201a8"
             ],
             [
              0.3333333333333333,
              "#9c179e"
             ],
             [
              0.4444444444444444,
              "#bd3786"
             ],
             [
              0.5555555555555556,
              "#d8576b"
             ],
             [
              0.6666666666666666,
              "#ed7953"
             ],
             [
              0.7777777777777778,
              "#fb9f3a"
             ],
             [
              0.8888888888888888,
              "#fdca26"
             ],
             [
              1,
              "#f0f921"
             ]
            ],
            "type": "contour"
           }
          ],
          "contourcarpet": [
           {
            "colorbar": {
             "outlinewidth": 0,
             "ticks": ""
            },
            "type": "contourcarpet"
           }
          ],
          "heatmap": [
           {
            "colorbar": {
             "outlinewidth": 0,
             "ticks": ""
            },
            "colorscale": [
             [
              0,
              "#0d0887"
             ],
             [
              0.1111111111111111,
              "#46039f"
             ],
             [
              0.2222222222222222,
              "#7201a8"
             ],
             [
              0.3333333333333333,
              "#9c179e"
             ],
             [
              0.4444444444444444,
              "#bd3786"
             ],
             [
              0.5555555555555556,
              "#d8576b"
             ],
             [
              0.6666666666666666,
              "#ed7953"
             ],
             [
              0.7777777777777778,
              "#fb9f3a"
             ],
             [
              0.8888888888888888,
              "#fdca26"
             ],
             [
              1,
              "#f0f921"
             ]
            ],
            "type": "heatmap"
           }
          ],
          "heatmapgl": [
           {
            "colorbar": {
             "outlinewidth": 0,
             "ticks": ""
            },
            "colorscale": [
             [
              0,
              "#0d0887"
             ],
             [
              0.1111111111111111,
              "#46039f"
             ],
             [
              0.2222222222222222,
              "#7201a8"
             ],
             [
              0.3333333333333333,
              "#9c179e"
             ],
             [
              0.4444444444444444,
              "#bd3786"
             ],
             [
              0.5555555555555556,
              "#d8576b"
             ],
             [
              0.6666666666666666,
              "#ed7953"
             ],
             [
              0.7777777777777778,
              "#fb9f3a"
             ],
             [
              0.8888888888888888,
              "#fdca26"
             ],
             [
              1,
              "#f0f921"
             ]
            ],
            "type": "heatmapgl"
           }
          ],
          "histogram": [
           {
            "marker": {
             "pattern": {
              "fillmode": "overlay",
              "size": 10,
              "solidity": 0.2
             }
            },
            "type": "histogram"
           }
          ],
          "histogram2d": [
           {
            "colorbar": {
             "outlinewidth": 0,
             "ticks": ""
            },
            "colorscale": [
             [
              0,
              "#0d0887"
             ],
             [
              0.1111111111111111,
              "#46039f"
             ],
             [
              0.2222222222222222,
              "#7201a8"
             ],
             [
              0.3333333333333333,
              "#9c179e"
             ],
             [
              0.4444444444444444,
              "#bd3786"
             ],
             [
              0.5555555555555556,
              "#d8576b"
             ],
             [
              0.6666666666666666,
              "#ed7953"
             ],
             [
              0.7777777777777778,
              "#fb9f3a"
             ],
             [
              0.8888888888888888,
              "#fdca26"
             ],
             [
              1,
              "#f0f921"
             ]
            ],
            "type": "histogram2d"
           }
          ],
          "histogram2dcontour": [
           {
            "colorbar": {
             "outlinewidth": 0,
             "ticks": ""
            },
            "colorscale": [
             [
              0,
              "#0d0887"
             ],
             [
              0.1111111111111111,
              "#46039f"
             ],
             [
              0.2222222222222222,
              "#7201a8"
             ],
             [
              0.3333333333333333,
              "#9c179e"
             ],
             [
              0.4444444444444444,
              "#bd3786"
             ],
             [
              0.5555555555555556,
              "#d8576b"
             ],
             [
              0.6666666666666666,
              "#ed7953"
             ],
             [
              0.7777777777777778,
              "#fb9f3a"
             ],
             [
              0.8888888888888888,
              "#fdca26"
             ],
             [
              1,
              "#f0f921"
             ]
            ],
            "type": "histogram2dcontour"
           }
          ],
          "mesh3d": [
           {
            "colorbar": {
             "outlinewidth": 0,
             "ticks": ""
            },
            "type": "mesh3d"
           }
          ],
          "parcoords": [
           {
            "line": {
             "colorbar": {
              "outlinewidth": 0,
              "ticks": ""
             }
            },
            "type": "parcoords"
           }
          ],
          "pie": [
           {
            "automargin": true,
            "type": "pie"
           }
          ],
          "scatter": [
           {
            "marker": {
             "colorbar": {
              "outlinewidth": 0,
              "ticks": ""
             }
            },
            "type": "scatter"
           }
          ],
          "scatter3d": [
           {
            "line": {
             "colorbar": {
              "outlinewidth": 0,
              "ticks": ""
             }
            },
            "marker": {
             "colorbar": {
              "outlinewidth": 0,
              "ticks": ""
             }
            },
            "type": "scatter3d"
           }
          ],
          "scattercarpet": [
           {
            "marker": {
             "colorbar": {
              "outlinewidth": 0,
              "ticks": ""
             }
            },
            "type": "scattercarpet"
           }
          ],
          "scattergeo": [
           {
            "marker": {
             "colorbar": {
              "outlinewidth": 0,
              "ticks": ""
             }
            },
            "type": "scattergeo"
           }
          ],
          "scattergl": [
           {
            "marker": {
             "colorbar": {
              "outlinewidth": 0,
              "ticks": ""
             }
            },
            "type": "scattergl"
           }
          ],
          "scattermapbox": [
           {
            "marker": {
             "colorbar": {
              "outlinewidth": 0,
              "ticks": ""
             }
            },
            "type": "scattermapbox"
           }
          ],
          "scatterpolar": [
           {
            "marker": {
             "colorbar": {
              "outlinewidth": 0,
              "ticks": ""
             }
            },
            "type": "scatterpolar"
           }
          ],
          "scatterpolargl": [
           {
            "marker": {
             "colorbar": {
              "outlinewidth": 0,
              "ticks": ""
             }
            },
            "type": "scatterpolargl"
           }
          ],
          "scatterternary": [
           {
            "marker": {
             "colorbar": {
              "outlinewidth": 0,
              "ticks": ""
             }
            },
            "type": "scatterternary"
           }
          ],
          "surface": [
           {
            "colorbar": {
             "outlinewidth": 0,
             "ticks": ""
            },
            "colorscale": [
             [
              0,
              "#0d0887"
             ],
             [
              0.1111111111111111,
              "#46039f"
             ],
             [
              0.2222222222222222,
              "#7201a8"
             ],
             [
              0.3333333333333333,
              "#9c179e"
             ],
             [
              0.4444444444444444,
              "#bd3786"
             ],
             [
              0.5555555555555556,
              "#d8576b"
             ],
             [
              0.6666666666666666,
              "#ed7953"
             ],
             [
              0.7777777777777778,
              "#fb9f3a"
             ],
             [
              0.8888888888888888,
              "#fdca26"
             ],
             [
              1,
              "#f0f921"
             ]
            ],
            "type": "surface"
           }
          ],
          "table": [
           {
            "cells": {
             "fill": {
              "color": "#EBF0F8"
             },
             "line": {
              "color": "white"
             }
            },
            "header": {
             "fill": {
              "color": "#C8D4E3"
             },
             "line": {
              "color": "white"
             }
            },
            "type": "table"
           }
          ]
         },
         "layout": {
          "annotationdefaults": {
           "arrowcolor": "#2a3f5f",
           "arrowhead": 0,
           "arrowwidth": 1
          },
          "autotypenumbers": "strict",
          "coloraxis": {
           "colorbar": {
            "outlinewidth": 0,
            "ticks": ""
           }
          },
          "colorscale": {
           "diverging": [
            [
             0,
             "#8e0152"
            ],
            [
             0.1,
             "#c51b7d"
            ],
            [
             0.2,
             "#de77ae"
            ],
            [
             0.3,
             "#f1b6da"
            ],
            [
             0.4,
             "#fde0ef"
            ],
            [
             0.5,
             "#f7f7f7"
            ],
            [
             0.6,
             "#e6f5d0"
            ],
            [
             0.7,
             "#b8e186"
            ],
            [
             0.8,
             "#7fbc41"
            ],
            [
             0.9,
             "#4d9221"
            ],
            [
             1,
             "#276419"
            ]
           ],
           "sequential": [
            [
             0,
             "#0d0887"
            ],
            [
             0.1111111111111111,
             "#46039f"
            ],
            [
             0.2222222222222222,
             "#7201a8"
            ],
            [
             0.3333333333333333,
             "#9c179e"
            ],
            [
             0.4444444444444444,
             "#bd3786"
            ],
            [
             0.5555555555555556,
             "#d8576b"
            ],
            [
             0.6666666666666666,
             "#ed7953"
            ],
            [
             0.7777777777777778,
             "#fb9f3a"
            ],
            [
             0.8888888888888888,
             "#fdca26"
            ],
            [
             1,
             "#f0f921"
            ]
           ],
           "sequentialminus": [
            [
             0,
             "#0d0887"
            ],
            [
             0.1111111111111111,
             "#46039f"
            ],
            [
             0.2222222222222222,
             "#7201a8"
            ],
            [
             0.3333333333333333,
             "#9c179e"
            ],
            [
             0.4444444444444444,
             "#bd3786"
            ],
            [
             0.5555555555555556,
             "#d8576b"
            ],
            [
             0.6666666666666666,
             "#ed7953"
            ],
            [
             0.7777777777777778,
             "#fb9f3a"
            ],
            [
             0.8888888888888888,
             "#fdca26"
            ],
            [
             1,
             "#f0f921"
            ]
           ]
          },
          "colorway": [
           "#636efa",
           "#EF553B",
           "#00cc96",
           "#ab63fa",
           "#FFA15A",
           "#19d3f3",
           "#FF6692",
           "#B6E880",
           "#FF97FF",
           "#FECB52"
          ],
          "font": {
           "color": "#2a3f5f"
          },
          "geo": {
           "bgcolor": "white",
           "lakecolor": "white",
           "landcolor": "#E5ECF6",
           "showlakes": true,
           "showland": true,
           "subunitcolor": "white"
          },
          "hoverlabel": {
           "align": "left"
          },
          "hovermode": "closest",
          "mapbox": {
           "style": "light"
          },
          "paper_bgcolor": "white",
          "plot_bgcolor": "#E5ECF6",
          "polar": {
           "angularaxis": {
            "gridcolor": "white",
            "linecolor": "white",
            "ticks": ""
           },
           "bgcolor": "#E5ECF6",
           "radialaxis": {
            "gridcolor": "white",
            "linecolor": "white",
            "ticks": ""
           }
          },
          "scene": {
           "xaxis": {
            "backgroundcolor": "#E5ECF6",
            "gridcolor": "white",
            "gridwidth": 2,
            "linecolor": "white",
            "showbackground": true,
            "ticks": "",
            "zerolinecolor": "white"
           },
           "yaxis": {
            "backgroundcolor": "#E5ECF6",
            "gridcolor": "white",
            "gridwidth": 2,
            "linecolor": "white",
            "showbackground": true,
            "ticks": "",
            "zerolinecolor": "white"
           },
           "zaxis": {
            "backgroundcolor": "#E5ECF6",
            "gridcolor": "white",
            "gridwidth": 2,
            "linecolor": "white",
            "showbackground": true,
            "ticks": "",
            "zerolinecolor": "white"
           }
          },
          "shapedefaults": {
           "line": {
            "color": "#2a3f5f"
           }
          },
          "ternary": {
           "aaxis": {
            "gridcolor": "white",
            "linecolor": "white",
            "ticks": ""
           },
           "baxis": {
            "gridcolor": "white",
            "linecolor": "white",
            "ticks": ""
           },
           "bgcolor": "#E5ECF6",
           "caxis": {
            "gridcolor": "white",
            "linecolor": "white",
            "ticks": ""
           }
          },
          "title": {
           "x": 0.05
          },
          "xaxis": {
           "automargin": true,
           "gridcolor": "white",
           "linecolor": "white",
           "ticks": "",
           "title": {
            "standoff": 15
           },
           "zerolinecolor": "white",
           "zerolinewidth": 2
          },
          "yaxis": {
           "automargin": true,
           "gridcolor": "white",
           "linecolor": "white",
           "ticks": "",
           "title": {
            "standoff": 15
           },
           "zerolinecolor": "white",
           "zerolinewidth": 2
          }
         }
        },
        "title": {
         "text": "Hyperparameter Importances"
        },
        "xaxis": {
         "title": {
          "text": "Importance for Objective Value"
         }
        },
        "yaxis": {
         "title": {
          "text": "Hyperparameter"
         }
        }
       }
      },
      "text/html": [
       "<div>                            <div id=\"a935ba43-7398-4c94-91dc-6f5fb048a032\" class=\"plotly-graph-div\" style=\"height:525px; width:100%;\"></div>            <script type=\"text/javascript\">                require([\"plotly\"], function(Plotly) {                    window.PLOTLYENV=window.PLOTLYENV || {};                                    if (document.getElementById(\"a935ba43-7398-4c94-91dc-6f5fb048a032\")) {                    Plotly.newPlot(                        \"a935ba43-7398-4c94-91dc-6f5fb048a032\",                        [{\"cliponaxis\":false,\"hovertemplate\":[\"min_samples_split (IntDistribution): 0.00771251122847795<extra></extra>\",\"n_estimators (IntDistribution): 0.03985495493110923<extra></extra>\",\"min_samples_leaf (IntDistribution): 0.1313760692291804<extra></extra>\",\"max_depth (IntDistribution): 0.8210564646112323<extra></extra>\"],\"marker\":{\"color\":\"rgb(66,146,198)\"},\"orientation\":\"h\",\"text\":[\"<0.01\",\"0.04\",\"0.13\",\"0.82\"],\"textposition\":\"outside\",\"x\":[0.00771251122847795,0.03985495493110923,0.1313760692291804,0.8210564646112323],\"y\":[\"min_samples_split\",\"n_estimators\",\"min_samples_leaf\",\"max_depth\"],\"type\":\"bar\"}],                        {\"showlegend\":false,\"title\":{\"text\":\"Hyperparameter Importances\"},\"xaxis\":{\"title\":{\"text\":\"Importance for Objective Value\"}},\"yaxis\":{\"title\":{\"text\":\"Hyperparameter\"}},\"template\":{\"data\":{\"bar\":[{\"error_x\":{\"color\":\"#2a3f5f\"},\"error_y\":{\"color\":\"#2a3f5f\"},\"marker\":{\"line\":{\"color\":\"#E5ECF6\",\"width\":0.5},\"pattern\":{\"fillmode\":\"overlay\",\"size\":10,\"solidity\":0.2}},\"type\":\"bar\"}],\"barpolar\":[{\"marker\":{\"line\":{\"color\":\"#E5ECF6\",\"width\":0.5},\"pattern\":{\"fillmode\":\"overlay\",\"size\":10,\"solidity\":0.2}},\"type\":\"barpolar\"}],\"carpet\":[{\"aaxis\":{\"endlinecolor\":\"#2a3f5f\",\"gridcolor\":\"white\",\"linecolor\":\"white\",\"minorgridcolor\":\"white\",\"startlinecolor\":\"#2a3f5f\"},\"baxis\":{\"endlinecolor\":\"#2a3f5f\",\"gridcolor\":\"white\",\"linecolor\":\"white\",\"minorgridcolor\":\"white\",\"startlinecolor\":\"#2a3f5f\"},\"type\":\"carpet\"}],\"choropleth\":[{\"colorbar\":{\"outlinewidth\":0,\"ticks\":\"\"},\"type\":\"choropleth\"}],\"contour\":[{\"colorbar\":{\"outlinewidth\":0,\"ticks\":\"\"},\"colorscale\":[[0.0,\"#0d0887\"],[0.1111111111111111,\"#46039f\"],[0.2222222222222222,\"#7201a8\"],[0.3333333333333333,\"#9c179e\"],[0.4444444444444444,\"#bd3786\"],[0.5555555555555556,\"#d8576b\"],[0.6666666666666666,\"#ed7953\"],[0.7777777777777778,\"#fb9f3a\"],[0.8888888888888888,\"#fdca26\"],[1.0,\"#f0f921\"]],\"type\":\"contour\"}],\"contourcarpet\":[{\"colorbar\":{\"outlinewidth\":0,\"ticks\":\"\"},\"type\":\"contourcarpet\"}],\"heatmap\":[{\"colorbar\":{\"outlinewidth\":0,\"ticks\":\"\"},\"colorscale\":[[0.0,\"#0d0887\"],[0.1111111111111111,\"#46039f\"],[0.2222222222222222,\"#7201a8\"],[0.3333333333333333,\"#9c179e\"],[0.4444444444444444,\"#bd3786\"],[0.5555555555555556,\"#d8576b\"],[0.6666666666666666,\"#ed7953\"],[0.7777777777777778,\"#fb9f3a\"],[0.8888888888888888,\"#fdca26\"],[1.0,\"#f0f921\"]],\"type\":\"heatmap\"}],\"heatmapgl\":[{\"colorbar\":{\"outlinewidth\":0,\"ticks\":\"\"},\"colorscale\":[[0.0,\"#0d0887\"],[0.1111111111111111,\"#46039f\"],[0.2222222222222222,\"#7201a8\"],[0.3333333333333333,\"#9c179e\"],[0.4444444444444444,\"#bd3786\"],[0.5555555555555556,\"#d8576b\"],[0.6666666666666666,\"#ed7953\"],[0.7777777777777778,\"#fb9f3a\"],[0.8888888888888888,\"#fdca26\"],[1.0,\"#f0f921\"]],\"type\":\"heatmapgl\"}],\"histogram\":[{\"marker\":{\"pattern\":{\"fillmode\":\"overlay\",\"size\":10,\"solidity\":0.2}},\"type\":\"histogram\"}],\"histogram2d\":[{\"colorbar\":{\"outlinewidth\":0,\"ticks\":\"\"},\"colorscale\":[[0.0,\"#0d0887\"],[0.1111111111111111,\"#46039f\"],[0.2222222222222222,\"#7201a8\"],[0.3333333333333333,\"#9c179e\"],[0.4444444444444444,\"#bd3786\"],[0.5555555555555556,\"#d8576b\"],[0.6666666666666666,\"#ed7953\"],[0.7777777777777778,\"#fb9f3a\"],[0.8888888888888888,\"#fdca26\"],[1.0,\"#f0f921\"]],\"type\":\"histogram2d\"}],\"histogram2dcontour\":[{\"colorbar\":{\"outlinewidth\":0,\"ticks\":\"\"},\"colorscale\":[[0.0,\"#0d0887\"],[0.1111111111111111,\"#46039f\"],[0.2222222222222222,\"#7201a8\"],[0.3333333333333333,\"#9c179e\"],[0.4444444444444444,\"#bd3786\"],[0.5555555555555556,\"#d8576b\"],[0.6666666666666666,\"#ed7953\"],[0.7777777777777778,\"#fb9f3a\"],[0.8888888888888888,\"#fdca26\"],[1.0,\"#f0f921\"]],\"type\":\"histogram2dcontour\"}],\"mesh3d\":[{\"colorbar\":{\"outlinewidth\":0,\"ticks\":\"\"},\"type\":\"mesh3d\"}],\"parcoords\":[{\"line\":{\"colorbar\":{\"outlinewidth\":0,\"ticks\":\"\"}},\"type\":\"parcoords\"}],\"pie\":[{\"automargin\":true,\"type\":\"pie\"}],\"scatter\":[{\"marker\":{\"colorbar\":{\"outlinewidth\":0,\"ticks\":\"\"}},\"type\":\"scatter\"}],\"scatter3d\":[{\"line\":{\"colorbar\":{\"outlinewidth\":0,\"ticks\":\"\"}},\"marker\":{\"colorbar\":{\"outlinewidth\":0,\"ticks\":\"\"}},\"type\":\"scatter3d\"}],\"scattercarpet\":[{\"marker\":{\"colorbar\":{\"outlinewidth\":0,\"ticks\":\"\"}},\"type\":\"scattercarpet\"}],\"scattergeo\":[{\"marker\":{\"colorbar\":{\"outlinewidth\":0,\"ticks\":\"\"}},\"type\":\"scattergeo\"}],\"scattergl\":[{\"marker\":{\"colorbar\":{\"outlinewidth\":0,\"ticks\":\"\"}},\"type\":\"scattergl\"}],\"scattermapbox\":[{\"marker\":{\"colorbar\":{\"outlinewidth\":0,\"ticks\":\"\"}},\"type\":\"scattermapbox\"}],\"scatterpolar\":[{\"marker\":{\"colorbar\":{\"outlinewidth\":0,\"ticks\":\"\"}},\"type\":\"scatterpolar\"}],\"scatterpolargl\":[{\"marker\":{\"colorbar\":{\"outlinewidth\":0,\"ticks\":\"\"}},\"type\":\"scatterpolargl\"}],\"scatterternary\":[{\"marker\":{\"colorbar\":{\"outlinewidth\":0,\"ticks\":\"\"}},\"type\":\"scatterternary\"}],\"surface\":[{\"colorbar\":{\"outlinewidth\":0,\"ticks\":\"\"},\"colorscale\":[[0.0,\"#0d0887\"],[0.1111111111111111,\"#46039f\"],[0.2222222222222222,\"#7201a8\"],[0.3333333333333333,\"#9c179e\"],[0.4444444444444444,\"#bd3786\"],[0.5555555555555556,\"#d8576b\"],[0.6666666666666666,\"#ed7953\"],[0.7777777777777778,\"#fb9f3a\"],[0.8888888888888888,\"#fdca26\"],[1.0,\"#f0f921\"]],\"type\":\"surface\"}],\"table\":[{\"cells\":{\"fill\":{\"color\":\"#EBF0F8\"},\"line\":{\"color\":\"white\"}},\"header\":{\"fill\":{\"color\":\"#C8D4E3\"},\"line\":{\"color\":\"white\"}},\"type\":\"table\"}]},\"layout\":{\"annotationdefaults\":{\"arrowcolor\":\"#2a3f5f\",\"arrowhead\":0,\"arrowwidth\":1},\"autotypenumbers\":\"strict\",\"coloraxis\":{\"colorbar\":{\"outlinewidth\":0,\"ticks\":\"\"}},\"colorscale\":{\"diverging\":[[0,\"#8e0152\"],[0.1,\"#c51b7d\"],[0.2,\"#de77ae\"],[0.3,\"#f1b6da\"],[0.4,\"#fde0ef\"],[0.5,\"#f7f7f7\"],[0.6,\"#e6f5d0\"],[0.7,\"#b8e186\"],[0.8,\"#7fbc41\"],[0.9,\"#4d9221\"],[1,\"#276419\"]],\"sequential\":[[0.0,\"#0d0887\"],[0.1111111111111111,\"#46039f\"],[0.2222222222222222,\"#7201a8\"],[0.3333333333333333,\"#9c179e\"],[0.4444444444444444,\"#bd3786\"],[0.5555555555555556,\"#d8576b\"],[0.6666666666666666,\"#ed7953\"],[0.7777777777777778,\"#fb9f3a\"],[0.8888888888888888,\"#fdca26\"],[1.0,\"#f0f921\"]],\"sequentialminus\":[[0.0,\"#0d0887\"],[0.1111111111111111,\"#46039f\"],[0.2222222222222222,\"#7201a8\"],[0.3333333333333333,\"#9c179e\"],[0.4444444444444444,\"#bd3786\"],[0.5555555555555556,\"#d8576b\"],[0.6666666666666666,\"#ed7953\"],[0.7777777777777778,\"#fb9f3a\"],[0.8888888888888888,\"#fdca26\"],[1.0,\"#f0f921\"]]},\"colorway\":[\"#636efa\",\"#EF553B\",\"#00cc96\",\"#ab63fa\",\"#FFA15A\",\"#19d3f3\",\"#FF6692\",\"#B6E880\",\"#FF97FF\",\"#FECB52\"],\"font\":{\"color\":\"#2a3f5f\"},\"geo\":{\"bgcolor\":\"white\",\"lakecolor\":\"white\",\"landcolor\":\"#E5ECF6\",\"showlakes\":true,\"showland\":true,\"subunitcolor\":\"white\"},\"hoverlabel\":{\"align\":\"left\"},\"hovermode\":\"closest\",\"mapbox\":{\"style\":\"light\"},\"paper_bgcolor\":\"white\",\"plot_bgcolor\":\"#E5ECF6\",\"polar\":{\"angularaxis\":{\"gridcolor\":\"white\",\"linecolor\":\"white\",\"ticks\":\"\"},\"bgcolor\":\"#E5ECF6\",\"radialaxis\":{\"gridcolor\":\"white\",\"linecolor\":\"white\",\"ticks\":\"\"}},\"scene\":{\"xaxis\":{\"backgroundcolor\":\"#E5ECF6\",\"gridcolor\":\"white\",\"gridwidth\":2,\"linecolor\":\"white\",\"showbackground\":true,\"ticks\":\"\",\"zerolinecolor\":\"white\"},\"yaxis\":{\"backgroundcolor\":\"#E5ECF6\",\"gridcolor\":\"white\",\"gridwidth\":2,\"linecolor\":\"white\",\"showbackground\":true,\"ticks\":\"\",\"zerolinecolor\":\"white\"},\"zaxis\":{\"backgroundcolor\":\"#E5ECF6\",\"gridcolor\":\"white\",\"gridwidth\":2,\"linecolor\":\"white\",\"showbackground\":true,\"ticks\":\"\",\"zerolinecolor\":\"white\"}},\"shapedefaults\":{\"line\":{\"color\":\"#2a3f5f\"}},\"ternary\":{\"aaxis\":{\"gridcolor\":\"white\",\"linecolor\":\"white\",\"ticks\":\"\"},\"baxis\":{\"gridcolor\":\"white\",\"linecolor\":\"white\",\"ticks\":\"\"},\"bgcolor\":\"#E5ECF6\",\"caxis\":{\"gridcolor\":\"white\",\"linecolor\":\"white\",\"ticks\":\"\"}},\"title\":{\"x\":0.05},\"xaxis\":{\"automargin\":true,\"gridcolor\":\"white\",\"linecolor\":\"white\",\"ticks\":\"\",\"title\":{\"standoff\":15},\"zerolinecolor\":\"white\",\"zerolinewidth\":2},\"yaxis\":{\"automargin\":true,\"gridcolor\":\"white\",\"linecolor\":\"white\",\"ticks\":\"\",\"title\":{\"standoff\":15},\"zerolinecolor\":\"white\",\"zerolinewidth\":2}}}},                        {\"responsive\": true}                    ).then(function(){\n",
       "                            \n",
       "var gd = document.getElementById('a935ba43-7398-4c94-91dc-6f5fb048a032');\n",
       "var x = new MutationObserver(function (mutations, observer) {{\n",
       "        var display = window.getComputedStyle(gd).display;\n",
       "        if (!display || display === 'none') {{\n",
       "            console.log([gd, 'removed!']);\n",
       "            Plotly.purge(gd);\n",
       "            observer.disconnect();\n",
       "        }}\n",
       "}});\n",
       "\n",
       "// Listen for the removal of the full notebook cells\n",
       "var notebookContainer = gd.closest('#notebook-container');\n",
       "if (notebookContainer) {{\n",
       "    x.observe(notebookContainer, {childList: true});\n",
       "}}\n",
       "\n",
       "// Listen for the clearing of the current output cell\n",
       "var outputEl = gd.closest('.output');\n",
       "if (outputEl) {{\n",
       "    x.observe(outputEl, {childList: true});\n",
       "}}\n",
       "\n",
       "                        })                };                });            </script>        </div>"
      ]
     },
     "metadata": {},
     "output_type": "display_data"
    }
   ],
   "source": [
    "vis.plot_param_importances(study_rf)"
   ]
  },
  {
   "cell_type": "markdown",
   "metadata": {},
   "source": [
    "Ternyata untuk kasus ini, hyperparameter max_depth memiliki dampak yang paling signifikant terhadap performa model disusul oleh min_samples_leaf, n_estimators, dan terakhir yaitu min_samples_split."
   ]
  },
  {
   "cell_type": "markdown",
   "metadata": {},
   "source": [
    "<div class=\"alert alert-success\">\n",
    "<b>Chamdani's comment v.1</b> <a class=\"tocSkip\"></a>\n",
    "\n",
    "Hebat, Kerja bagus!\n",
    "\n",
    "</div>"
   ]
  },
  {
   "cell_type": "markdown",
   "metadata": {},
   "source": [
    "# Sanity Check"
   ]
  },
  {
   "cell_type": "markdown",
   "metadata": {},
   "source": [
    "Selanjutnya kita akan membandingkan model terbaik terebut dengan model DummyRegressor. Dummy Regressor tidak mempelajari feature yang ada. Apakah DummyRegressor akan lebih baik?"
   ]
  },
  {
   "cell_type": "code",
   "execution_count": 171,
   "metadata": {},
   "outputs": [
    {
     "data": {
      "text/plain": [
       "9.880870136188058"
      ]
     },
     "execution_count": 171,
     "metadata": {},
     "output_type": "execute_result"
    }
   ],
   "source": [
    "# cross_val dummy regressor\n",
    "cross_val(DummyRegressor(), features_train, target_train)"
   ]
  },
  {
   "cell_type": "code",
   "execution_count": 178,
   "metadata": {},
   "outputs": [
    {
     "name": "stdout",
     "output_type": "stream",
     "text": [
      "Nilai sMAPE model terbaik terhadap train dataset adalah = 9.6363\n",
      "Nilai sMAPE model terbaik terhadap test dataset adalah = 12.2680\n"
     ]
    }
   ],
   "source": [
    "# Fit\n",
    "dummy_model = DummyRegressor()\n",
    "dummy_model.fit(features_train, target_train)\n",
    "\n",
    "# Predicted\n",
    "predicted_dummy_test = pd.DataFrame(dummy_model.predict(features_test), columns = [0,1])\n",
    "predicted_dummy_train =  pd.DataFrame(dummy_model.predict(features_train), columns = [0,1])\n",
    "\n",
    "# sMAPE calculation\n",
    "smape_test = smapeFinal(predicted_dummy_test, target_test)\n",
    "smape_train = smapeFinal(predicted_dummy_train, target_train)\n",
    "\n",
    "print(f'Nilai sMAPE model terbaik terhadap train dataset adalah = {smape_train:.4f}')\n",
    "print(f'Nilai sMAPE model terbaik terhadap test dataset adalah = {smape_test:.4f}')"
   ]
  },
  {
   "cell_type": "markdown",
   "metadata": {},
   "source": [
    "Wew, hampir saja model kita setara dengan Dummy Regressur :). Untung saja model kita memiliki nilai sMAPE training dataset dan test dataset yang lebih besar sehingga dapat disimpulkan model kita lebih baik. Namun perbedaanya tidak terlalu signifikan dan perlu dilakukan kajian lebih lanjut untuk membangun model yang lebih baik. Terutama untuk memprediksi target-target yang memang bernilai nol."
   ]
  },
  {
   "cell_type": "markdown",
   "metadata": {},
   "source": [
    "<div class=\"alert alert-success\">\n",
    "<b>Chamdani's comment v.1</b> <a class=\"tocSkip\"></a>\n",
    "\n",
    "Hebat, Kerja bagus!\n",
    "\n",
    "</div>"
   ]
  },
  {
   "cell_type": "markdown",
   "metadata": {},
   "source": [
    "# Kesimpulan"
   ]
  },
  {
   "cell_type": "markdown",
   "metadata": {},
   "source": [
    "Berkut adalah kesimpulan yang dapat diperoleh dari project ini:\n",
    "1. Untuk project ini, model RandomForestRegressor merupakan model paling baik dari DummyRegressor, LinearRegression, dan XGBoost.\n",
    "2. Model terbaik yang diperoleh belum memiliki performa yang optimal yang ditandai dengan nilai sMAPE yang tidak jauh berbeda dengan DummyRegressor dan terdapat nilai prediksi yang tidak masuk akal.\n",
    "3. Dibutuhkan kajian lebih lanjut untuk mendapatkan model lain yang lebih tepat untuk mengerjakan project ini.\n",
    "4. Library Optuna dapat digunakan untuk tuning hyperparameter. Optuna lebih baik ketimbang cara manual dengan for-loops. Apabila tuning dilakukan dengan for-loops diperlukan waktu yang lama dan range tuning yang sempit."
   ]
  },
  {
   "cell_type": "markdown",
   "metadata": {},
   "source": [
    "<div class=\"alert alert-success\">\n",
    "<b>Chamdani's comment v.1</b> <a class=\"tocSkip\"></a>\n",
    "\n",
    "Hebat, Kerja bagus!\n",
    "\n",
    "</div>"
   ]
  }
 ],
 "metadata": {
  "kernelspec": {
   "display_name": "Python 3 (ipykernel)",
   "language": "python",
   "name": "python3"
  },
  "language_info": {
   "codemirror_mode": {
    "name": "ipython",
    "version": 3
   },
   "file_extension": ".py",
   "mimetype": "text/x-python",
   "name": "python",
   "nbconvert_exporter": "python",
   "pygments_lexer": "ipython3",
   "version": "3.9.5"
  },
  "toc": {
   "base_numbering": 1,
   "nav_menu": {},
   "number_sections": true,
   "sideBar": true,
   "skip_h1_title": true,
   "title_cell": "Table of Contents",
   "title_sidebar": "Contents",
   "toc_cell": false,
   "toc_position": {},
   "toc_section_display": true,
   "toc_window_display": false
  }
 },
 "nbformat": 4,
 "nbformat_minor": 2
}
