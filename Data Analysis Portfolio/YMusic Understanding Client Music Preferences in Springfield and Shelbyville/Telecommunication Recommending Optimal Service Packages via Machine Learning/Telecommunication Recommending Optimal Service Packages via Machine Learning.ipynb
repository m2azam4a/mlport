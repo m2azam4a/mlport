{
 "cells": [
  {
   "cell_type": "markdown",
   "metadata": {},
   "source": [
    "# Project Machine Learning: Operator Seluler Megaline"
   ]
  },
  {
   "cell_type": "markdown",
   "metadata": {},
   "source": [
    "Project ini merupakan project lanjutan dari Sprint sebelumnya. Dimana Operator Seluler Megaline ingin mengembangkan sebuah model untuk memberikan rekomendasi paket yang tepat dan merekomendasikan salah satu dari dua paket terbaru yang tersedia yaitu Smart dan Ultra. Model tersebut dibuat dengan menggunakan Machine Learning dengan mempelajari perilaku pengguna yang sudah menggunakan paket ini lebih dulu.\n",
    "\n",
    "Langkah selanjutnya setelah project ini selesai yaitu, operator dapat memberikan rekomendasikan paket yang tepat kepada pengguna setelah paket lamanya habis/kadaluarsa. Setiap pengguna tentu akan mendapatkan rekomendasi yang berbeda-beda sesuai dengan perilakunya."
   ]
  },
  {
   "cell_type": "markdown",
   "metadata": {},
   "source": [
    "## Daftar isi"
   ]
  },
  {
   "cell_type": "markdown",
   "metadata": {},
   "source": [
    "- [Dafar Isi](#Daftar-Isi)\n",
    "- [Penyiapan Data](#Penyiapan-Data)\n",
    "\n",
    "    - [Import Library](#Import-Library)\n",
    "    - [Mempalari dan Memperbaiki Kualitas Data](#Mempalari-dan-Memperbaiki-Kualitas-Data)\n",
    "    - [Memisahkan data](#Memisahkan-data)\n",
    "\n",
    "- [Pembelajaran Model](#Pembelajaran-Model)\n",
    "    - [Decision Tree](#Decision-Tree)\n",
    "    - [Random Forest](#Random-Forest)\n",
    "    - [Logistic Regression](#Logistic-Regression)\n",
    "\n",
    "- [Pengujian Test Dataset](#Pengujian-Test-Dataset)\n",
    "- [Kesimpulan](#Kesimpulan)"
   ]
  },
  {
   "cell_type": "markdown",
   "metadata": {},
   "source": [
    "## Penyiapan Data"
   ]
  },
  {
   "cell_type": "markdown",
   "metadata": {},
   "source": [
    "### Import Library"
   ]
  },
  {
   "cell_type": "markdown",
   "metadata": {},
   "source": [
    "Library yang digunakan adalah pengolahan data (Pandas), pembuatan data visualization (Matplotlib) dan pembuatan machine learning (Scikit-Learn)."
   ]
  },
  {
   "cell_type": "code",
   "execution_count": 1,
   "metadata": {},
   "outputs": [],
   "source": [
    "import pandas as pd\n",
    "import matplotlib.pyplot as plt\n",
    "\n",
    "from sklearn.tree import DecisionTreeClassifier\n",
    "from sklearn.ensemble import RandomForestClassifier\n",
    "from sklearn.linear_model import LogisticRegression\n",
    "from sklearn.dummy import DummyClassifier\n",
    "\n",
    "from sklearn.model_selection import train_test_split, GridSearchCV\n",
    "from sklearn.metrics import accuracy_score, precision_score, recall_score, f1_score\n",
    "from sklearn.metrics import confusion_matrix, ConfusionMatrixDisplay"
   ]
  },
  {
   "cell_type": "markdown",
   "metadata": {},
   "source": [
    "### Mempelajari dan Memperbaiki Kualitas Data"
   ]
  },
  {
   "cell_type": "code",
   "execution_count": 2,
   "metadata": {},
   "outputs": [],
   "source": [
    "df = pd.read_csv('/datasets/users_behavior.csv')"
   ]
  },
  {
   "cell_type": "code",
   "execution_count": 3,
   "metadata": {},
   "outputs": [
    {
     "data": {
      "text/html": [
       "<div>\n",
       "<style scoped>\n",
       "    .dataframe tbody tr th:only-of-type {\n",
       "        vertical-align: middle;\n",
       "    }\n",
       "\n",
       "    .dataframe tbody tr th {\n",
       "        vertical-align: top;\n",
       "    }\n",
       "\n",
       "    .dataframe thead th {\n",
       "        text-align: right;\n",
       "    }\n",
       "</style>\n",
       "<table border=\"1\" class=\"dataframe\">\n",
       "  <thead>\n",
       "    <tr style=\"text-align: right;\">\n",
       "      <th></th>\n",
       "      <th>calls</th>\n",
       "      <th>minutes</th>\n",
       "      <th>messages</th>\n",
       "      <th>mb_used</th>\n",
       "      <th>is_ultra</th>\n",
       "    </tr>\n",
       "  </thead>\n",
       "  <tbody>\n",
       "    <tr>\n",
       "      <th>count</th>\n",
       "      <td>3214.000000</td>\n",
       "      <td>3214.000000</td>\n",
       "      <td>3214.000000</td>\n",
       "      <td>3214.000000</td>\n",
       "      <td>3214.000000</td>\n",
       "    </tr>\n",
       "    <tr>\n",
       "      <th>mean</th>\n",
       "      <td>63.038892</td>\n",
       "      <td>438.208787</td>\n",
       "      <td>38.281269</td>\n",
       "      <td>17207.673836</td>\n",
       "      <td>0.306472</td>\n",
       "    </tr>\n",
       "    <tr>\n",
       "      <th>std</th>\n",
       "      <td>33.236368</td>\n",
       "      <td>234.569872</td>\n",
       "      <td>36.148326</td>\n",
       "      <td>7570.968246</td>\n",
       "      <td>0.461100</td>\n",
       "    </tr>\n",
       "    <tr>\n",
       "      <th>min</th>\n",
       "      <td>0.000000</td>\n",
       "      <td>0.000000</td>\n",
       "      <td>0.000000</td>\n",
       "      <td>0.000000</td>\n",
       "      <td>0.000000</td>\n",
       "    </tr>\n",
       "    <tr>\n",
       "      <th>25%</th>\n",
       "      <td>40.000000</td>\n",
       "      <td>274.575000</td>\n",
       "      <td>9.000000</td>\n",
       "      <td>12491.902500</td>\n",
       "      <td>0.000000</td>\n",
       "    </tr>\n",
       "    <tr>\n",
       "      <th>50%</th>\n",
       "      <td>62.000000</td>\n",
       "      <td>430.600000</td>\n",
       "      <td>30.000000</td>\n",
       "      <td>16943.235000</td>\n",
       "      <td>0.000000</td>\n",
       "    </tr>\n",
       "    <tr>\n",
       "      <th>75%</th>\n",
       "      <td>82.000000</td>\n",
       "      <td>571.927500</td>\n",
       "      <td>57.000000</td>\n",
       "      <td>21424.700000</td>\n",
       "      <td>1.000000</td>\n",
       "    </tr>\n",
       "    <tr>\n",
       "      <th>max</th>\n",
       "      <td>244.000000</td>\n",
       "      <td>1632.060000</td>\n",
       "      <td>224.000000</td>\n",
       "      <td>49745.730000</td>\n",
       "      <td>1.000000</td>\n",
       "    </tr>\n",
       "  </tbody>\n",
       "</table>\n",
       "</div>"
      ],
      "text/plain": [
       "             calls      minutes     messages       mb_used     is_ultra\n",
       "count  3214.000000  3214.000000  3214.000000   3214.000000  3214.000000\n",
       "mean     63.038892   438.208787    38.281269  17207.673836     0.306472\n",
       "std      33.236368   234.569872    36.148326   7570.968246     0.461100\n",
       "min       0.000000     0.000000     0.000000      0.000000     0.000000\n",
       "25%      40.000000   274.575000     9.000000  12491.902500     0.000000\n",
       "50%      62.000000   430.600000    30.000000  16943.235000     0.000000\n",
       "75%      82.000000   571.927500    57.000000  21424.700000     1.000000\n",
       "max     244.000000  1632.060000   224.000000  49745.730000     1.000000"
      ]
     },
     "execution_count": 3,
     "metadata": {},
     "output_type": "execute_result"
    }
   ],
   "source": [
    "df.describe()"
   ]
  },
  {
   "cell_type": "code",
   "execution_count": 4,
   "metadata": {},
   "outputs": [
    {
     "name": "stdout",
     "output_type": "stream",
     "text": [
      "<class 'pandas.core.frame.DataFrame'>\n",
      "RangeIndex: 3214 entries, 0 to 3213\n",
      "Data columns (total 5 columns):\n",
      " #   Column    Non-Null Count  Dtype  \n",
      "---  ------    --------------  -----  \n",
      " 0   calls     3214 non-null   float64\n",
      " 1   minutes   3214 non-null   float64\n",
      " 2   messages  3214 non-null   float64\n",
      " 3   mb_used   3214 non-null   float64\n",
      " 4   is_ultra  3214 non-null   int64  \n",
      "dtypes: float64(4), int64(1)\n",
      "memory usage: 125.7 KB\n"
     ]
    }
   ],
   "source": [
    "df.info()"
   ]
  },
  {
   "cell_type": "code",
   "execution_count": 5,
   "metadata": {},
   "outputs": [
    {
     "data": {
      "text/plain": [
       "calls       0\n",
       "minutes     0\n",
       "messages    0\n",
       "mb_used     0\n",
       "is_ultra    0\n",
       "dtype: int64"
      ]
     },
     "execution_count": 5,
     "metadata": {},
     "output_type": "execute_result"
    }
   ],
   "source": [
    "df.isna().sum()"
   ]
  },
  {
   "cell_type": "markdown",
   "metadata": {},
   "source": [
    "Data sudah yang dimiliki sudah bersih dari nilai kosong, mari kita cek apakah ada data terduplikat."
   ]
  },
  {
   "cell_type": "code",
   "execution_count": 6,
   "metadata": {},
   "outputs": [
    {
     "data": {
      "text/plain": [
       "0"
      ]
     },
     "execution_count": 6,
     "metadata": {},
     "output_type": "execute_result"
    }
   ],
   "source": [
    "df.duplicated().sum()"
   ]
  },
  {
   "cell_type": "markdown",
   "metadata": {},
   "source": [
    "Tidak ada data duplikat. Selanjutnya saya ingin mengubah tipe data pada kolom 'Messages' menjadi int. karena jumlah pesan tidak mungkin bernilai setengah."
   ]
  },
  {
   "cell_type": "code",
   "execution_count": 7,
   "metadata": {},
   "outputs": [],
   "source": [
    "df['messages'] = df['messages'].astype(int)"
   ]
  },
  {
   "cell_type": "code",
   "execution_count": 8,
   "metadata": {},
   "outputs": [
    {
     "data": {
      "text/html": [
       "<div>\n",
       "<style scoped>\n",
       "    .dataframe tbody tr th:only-of-type {\n",
       "        vertical-align: middle;\n",
       "    }\n",
       "\n",
       "    .dataframe tbody tr th {\n",
       "        vertical-align: top;\n",
       "    }\n",
       "\n",
       "    .dataframe thead th {\n",
       "        text-align: right;\n",
       "    }\n",
       "</style>\n",
       "<table border=\"1\" class=\"dataframe\">\n",
       "  <thead>\n",
       "    <tr style=\"text-align: right;\">\n",
       "      <th></th>\n",
       "      <th>calls</th>\n",
       "      <th>minutes</th>\n",
       "      <th>messages</th>\n",
       "      <th>mb_used</th>\n",
       "      <th>is_ultra</th>\n",
       "    </tr>\n",
       "  </thead>\n",
       "  <tbody>\n",
       "    <tr>\n",
       "      <th>0</th>\n",
       "      <td>40.0</td>\n",
       "      <td>311.90</td>\n",
       "      <td>83</td>\n",
       "      <td>19915.42</td>\n",
       "      <td>0</td>\n",
       "    </tr>\n",
       "    <tr>\n",
       "      <th>1</th>\n",
       "      <td>85.0</td>\n",
       "      <td>516.75</td>\n",
       "      <td>56</td>\n",
       "      <td>22696.96</td>\n",
       "      <td>0</td>\n",
       "    </tr>\n",
       "    <tr>\n",
       "      <th>2</th>\n",
       "      <td>77.0</td>\n",
       "      <td>467.66</td>\n",
       "      <td>86</td>\n",
       "      <td>21060.45</td>\n",
       "      <td>0</td>\n",
       "    </tr>\n",
       "    <tr>\n",
       "      <th>3</th>\n",
       "      <td>106.0</td>\n",
       "      <td>745.53</td>\n",
       "      <td>81</td>\n",
       "      <td>8437.39</td>\n",
       "      <td>1</td>\n",
       "    </tr>\n",
       "    <tr>\n",
       "      <th>4</th>\n",
       "      <td>66.0</td>\n",
       "      <td>418.74</td>\n",
       "      <td>1</td>\n",
       "      <td>14502.75</td>\n",
       "      <td>0</td>\n",
       "    </tr>\n",
       "  </tbody>\n",
       "</table>\n",
       "</div>"
      ],
      "text/plain": [
       "   calls  minutes  messages   mb_used  is_ultra\n",
       "0   40.0   311.90        83  19915.42         0\n",
       "1   85.0   516.75        56  22696.96         0\n",
       "2   77.0   467.66        86  21060.45         0\n",
       "3  106.0   745.53        81   8437.39         1\n",
       "4   66.0   418.74         1  14502.75         0"
      ]
     },
     "execution_count": 8,
     "metadata": {},
     "output_type": "execute_result"
    }
   ],
   "source": [
    "df.head()"
   ]
  },
  {
   "cell_type": "markdown",
   "metadata": {},
   "source": [
    "Dataset sudah siap digunakan untuk analisa selanjutnya."
   ]
  },
  {
   "cell_type": "markdown",
   "metadata": {},
   "source": [
    "### Memisahkan data"
   ]
  },
  {
   "cell_type": "markdown",
   "metadata": {},
   "source": [
    "Sebelum membangun sebuah model, karena data kita terbatas, maka kita perlu membagi dataset menjadi 3 bagian. Yaitu:\n",
    "1. Train Dataset, data untuk melatih/training model\n",
    "2. Validation Dataset, data untuk proses validasi apakah model yang dibuat sudah mencapai target yang diinginkan pada tahap ini dilakukan proses tuning\n",
    "3. Test Dataset, pengujian akhir model\n",
    "    \n",
    "Setelah saya searching di Google berapa nilai Split Ratio yang ideal untuk membuat Machine Learning. Berdasarkan https://www.v7labs.com/blog/train-validation-test-set Tidak ada nilai Split Ratio yang pas untuk berbagai jenis model. Nilai Split Ratio ideal akan bergantung dari banyaknya dimensi/feature, kualitas data, dan lain-lain. Namun Split Ratio yang umum digunakan adalah 80:10:10 , 70:15:15, 60:20:20. Berdasarkan https://www.techtarget.com, ratio 70:20:10 pas untuk dataset kecil. Karena jumlah data yang saya miliki hanya 3214 data maka saya akan menggunakan Split Ratio 70:20:10.\n",
    "\n",
    "Pertama memisahkan feature dan target dari dataset."
   ]
  },
  {
   "cell_type": "code",
   "execution_count": 9,
   "metadata": {},
   "outputs": [],
   "source": [
    "feature = df.drop(['is_ultra'], axis = 1)\n",
    "target = df['is_ultra']"
   ]
  },
  {
   "cell_type": "markdown",
   "metadata": {},
   "source": [
    "Selanjutnya, memisahkan feature dan target menjadi 2 bagian yaitu data training dan data temporary dengan komposisi 70:30."
   ]
  },
  {
   "cell_type": "code",
   "execution_count": 10,
   "metadata": {},
   "outputs": [],
   "source": [
    "feature_train, feature_temp, target_train, target_temp = train_test_split(feature, target, test_size=0.3, random_state=2412)"
   ]
  },
  {
   "cell_type": "markdown",
   "metadata": {},
   "source": [
    "Selanjutnya memisahkan feature temp, dan target temp menjadi 2 bagian yaitu data validation dan data test dengan komposisi 2:1"
   ]
  },
  {
   "cell_type": "code",
   "execution_count": 11,
   "metadata": {},
   "outputs": [],
   "source": [
    "feature_valid, feature_test, target_valid, target_test = train_test_split(feature_temp, target_temp, test_size=0.3334, random_state=2412)"
   ]
  },
  {
   "cell_type": "markdown",
   "metadata": {},
   "source": [
    "Selanjutnya kita lakukan pengecekan apakah Split Ratio yang dihasilkan sudah sesuai atau belum:"
   ]
  },
  {
   "cell_type": "code",
   "execution_count": 12,
   "metadata": {},
   "outputs": [
    {
     "name": "stdout",
     "output_type": "stream",
     "text": [
      "Size train dataset adalah 70%\n",
      "Size validation dataset adalah 20%\n",
      "Size test dataset adalah 10%\n"
     ]
    }
   ],
   "source": [
    "print(f'Size train dataset adalah {round(len(feature_train)/len(feature)*100)}%')\n",
    "print(f'Size validation dataset adalah {round(len(feature_valid)/len(feature)*100)}%')\n",
    "print(f'Size test dataset adalah {round(len(feature_test)/len(feature)*100)}%')"
   ]
  },
  {
   "cell_type": "markdown",
   "metadata": {},
   "source": [
    "Proses split dataset berjalan dengan baik"
   ]
  },
  {
   "cell_type": "markdown",
   "metadata": {},
   "source": [
    "## Pembelajaran Model"
   ]
  },
  {
   "cell_type": "markdown",
   "metadata": {},
   "source": [
    "Model Machine Learning yang dibuat adalah jenis Klasifikasi, karena kita ingin menentukan rekomendasi paket menjadi dua kategori yaitu 1 (Paket Ultra) dan 0 (Paket Smart). Berikut ada beberapa model Machine Learning yang umum digunakan untuk jenis Klasifikasi:\n",
    "1. Decision Tree\n",
    "2. Random Forest\n",
    "3. Logistic Regression\n",
    "\n",
    "Model dapat dikatakan bekerja dengan baik apabila dapat menghasilkan accuracy diatas 75% pada saat pengujian data validation."
   ]
  },
  {
   "cell_type": "markdown",
   "metadata": {},
   "source": [
    "### Decistion Tree"
   ]
  },
  {
   "cell_type": "markdown",
   "metadata": {},
   "source": [
    "Pada model Machine Learning Decision Tree hyperparameter yang akan saya gunakan dan variasikan adalah max_depth, dan criterion. Max depth divariasikan dari nilai 1 hingga 6 karena jika terlalu besar potensi terjadinya overfitting akan semakin besar. Untuk criterion saya akan memilih yang terbaik antara 'gini' dan 'entropy'."
   ]
  },
  {
   "cell_type": "code",
   "execution_count": 13,
   "metadata": {},
   "outputs": [
    {
     "name": "stdout",
     "output_type": "stream",
     "text": [
      "Max_depth terbaik adalah 5 dan criterion terbaik adalah entropy dengan akurasi dataset test adalah 79.31570762052877\n"
     ]
    }
   ],
   "source": [
    "best_dt_depth = 0\n",
    "best_dt_accuracy = 0\n",
    "best_dt_model = None\n",
    "for depth in range(1,7):\n",
    "    for crit in ['gini','entropy']:\n",
    "        model_dt = DecisionTreeClassifier(random_state=2412, max_depth=depth, criterion = crit)\n",
    "        model_dt.fit(feature_train,target_train)\n",
    "        prediction_dt_valid = model_dt.predict(feature_valid)\n",
    "        akurasi = accuracy_score(target_valid, prediction_dt_valid)\n",
    "        if akurasi > best_dt_accuracy:\n",
    "            best_dt_depth = depth\n",
    "            beest_dt_crit = crit\n",
    "            best_dt_accuracy = akurasi\n",
    "            best_dt_model = model_dt\n",
    "print(f'Max_depth terbaik adalah {best_dt_depth} dan criterion terbaik adalah {crit} dengan akurasi dataset test adalah',best_dt_accuracy*100)"
   ]
  },
  {
   "cell_type": "markdown",
   "metadata": {},
   "source": [
    "Model ini sudah menghasilkan accuracy diatas target yaitu 79.3%. Namun kita akan tetap melakukan explorasi untuk model yang lain. Selanjutnya kita akan melihat confussion matrixnya."
   ]
  },
  {
   "cell_type": "code",
   "execution_count": 14,
   "metadata": {},
   "outputs": [
    {
     "data": {
      "image/png": "[encoded data removed]",
      "text/plain": [
       "<Figure size 432x288 with 2 Axes>"
      ]
     },
     "metadata": {
      "needs_background": "light"
     },
     "output_type": "display_data"
    }
   ],
   "source": [
    "con_dt = confusion_matrix(target_valid, best_dt_model.predict(feature_valid))\n",
    "disp = ConfusionMatrixDisplay(confusion_matrix=con_dt)\n",
    "disp.plot()\n",
    "plt.title('Model: Decision Tree')\n",
    "plt.xlabel('Prediksi')\n",
    "plt.ylabel('Aktual')\n",
    "plt.show()"
   ]
  },
  {
   "cell_type": "markdown",
   "metadata": {},
   "source": [
    "Selanjutnya yaitu menghitung nilai akurasi, presisi, recall, dan f1 dari model ini."
   ]
  },
  {
   "cell_type": "code",
   "execution_count": 15,
   "metadata": {},
   "outputs": [
    {
     "name": "stdout",
     "output_type": "stream",
     "text": [
      "Akurasi yang didapatkan adalah 79.31570762052877\n",
      "Presisi yang didapatkan adalah 80.0\n",
      "Recall yang didapatkan adalah 41.45077720207254\n",
      "Nilai F1 yang didapatkan adalah 54.60750853242321\n"
     ]
    }
   ],
   "source": [
    "print(f'Akurasi yang didapatkan adalah {accuracy_score(target_valid, best_dt_model.predict(feature_valid))*100}')\n",
    "print(f'Presisi yang didapatkan adalah {precision_score(target_valid, best_dt_model.predict(feature_valid))*100}')\n",
    "print(f'Recall yang didapatkan adalah {recall_score(target_valid, best_dt_model.predict(feature_valid))*100}')\n",
    "print(f'Nilai F1 yang didapatkan adalah {f1_score(target_valid, best_dt_model.predict(feature_valid))*100}')"
   ]
  },
  {
   "cell_type": "markdown",
   "metadata": {},
   "source": [
    "Mari kita cek apakah terjadi overfitting atau underfitting dari model ini."
   ]
  },
  {
   "cell_type": "code",
   "execution_count": 16,
   "metadata": {},
   "outputs": [
    {
     "name": "stdout",
     "output_type": "stream",
     "text": [
      "Akurasi yang didapatkan adalah 81.68074699866608\n",
      "Presisi yang didapatkan adalah 90.633608815427\n",
      "Recall yang didapatkan adalah 46.53465346534654\n",
      "Nilai F1 yang didapatkan adalah 61.49532710280374\n"
     ]
    }
   ],
   "source": [
    "print(f'Akurasi yang didapatkan adalah {accuracy_score(target_train, best_dt_model.predict(feature_train))*100}')\n",
    "print(f'Presisi yang didapatkan adalah {precision_score(target_train, best_dt_model.predict(feature_train))*100}')\n",
    "print(f'Recall yang didapatkan adalah {recall_score(target_train, best_dt_model.predict(feature_train))*100}')\n",
    "print(f'Nilai F1 yang didapatkan adalah {f1_score(target_train, best_dt_model.predict(feature_train))*100}')"
   ]
  },
  {
   "cell_type": "markdown",
   "metadata": {},
   "source": [
    "Tidak terjadi overfitting karena nilai akurasi dari train test tidak jauh berbeda dari validation test.\n",
    "\n",
    "Saya menemukan cara cepat dengan menggunakan chatGPT untuk proses trial & error mencari model terbaik dengan menggunakan parameter grid. Mari kita coba apakah hasilnya akan sama atau tidak."
   ]
  },
  {
   "cell_type": "code",
   "execution_count": 17,
   "metadata": {},
   "outputs": [
    {
     "name": "stdout",
     "output_type": "stream",
     "text": [
      "Best Hyperparameters: {'criterion': 'gini', 'max_depth': 6, 'random_state': 2412}\n",
      "Best Score: 0.7914704281118534\n",
      "Validation Accuracy: 0.7838258164852255\n"
     ]
    }
   ],
   "source": [
    "param_grid = {\n",
    "    'max_depth': [1,2,3,4,5,6],  \n",
    "    'criterion':['entropy','gini'],\n",
    "    'random_state':[2412]\n",
    "}\n",
    "\n",
    "# Create the decision tree classifier\n",
    "clf = DecisionTreeClassifier()\n",
    "\n",
    "# Perform grid search with cross-validation\n",
    "grid_search = GridSearchCV(clf, param_grid)\n",
    "grid_search.fit(feature_train, target_train)\n",
    "\n",
    "# Get the best hyperparameter configuration and its corresponding score\n",
    "best_params = grid_search.best_params_\n",
    "best_score = grid_search.best_score_\n",
    "\n",
    "print(\"Best Hyperparameters:\", best_params)\n",
    "print(\"Best Score:\", best_score)\n",
    "\n",
    "# Evaluate the model with the best hyperparameters on the validation set\n",
    "best_model = grid_search.best_estimator_\n",
    "val_accuracy = accuracy_score(target_valid, best_model.predict(feature_valid))\n",
    "\n",
    "print(\"Validation Accuracy:\", val_accuracy)\n"
   ]
  },
  {
   "cell_type": "code",
   "execution_count": 18,
   "metadata": {},
   "outputs": [
    {
     "name": "stdout",
     "output_type": "stream",
     "text": [
      "Akurasi yang didapatkan adalah 78.38258164852256\n",
      "Presisi yang didapatkan adalah 73.68421052631578\n",
      "Recall yang didapatkan adalah 43.523316062176164\n",
      "Nilai F1 yang didapatkan adalah 54.72312703583062\n"
     ]
    }
   ],
   "source": [
    "print(f'Akurasi yang didapatkan adalah {accuracy_score(target_valid, best_model.predict(feature_valid))*100}')\n",
    "print(f'Presisi yang didapatkan adalah {precision_score(target_valid, best_model.predict(feature_valid))*100}')\n",
    "print(f'Recall yang didapatkan adalah {recall_score(target_valid, best_model.predict(feature_valid))*100}')\n",
    "print(f'Nilai F1 yang didapatkan adalah {f1_score(target_valid, best_model.predict(feature_valid))*100}')"
   ]
  },
  {
   "cell_type": "markdown",
   "metadata": {},
   "source": [
    "Hasilnya berbeda dengan metode for-loop. Mungkin pada metode ini, yang menjadi pertimbangan tidak hanya nilai Accuracy-nya saja tapi nilai overal dari akurasi, presisi, recall, dan f1. Selanjutnya saya akan menggunakan metode for-loops saja."
   ]
  },
  {
   "cell_type": "markdown",
   "metadata": {},
   "source": [
    "### Random Forest"
   ]
  },
  {
   "cell_type": "markdown",
   "metadata": {},
   "source": [
    "Pemodelan Random Forest menggunakan Hyperparameter random_state, max_depth dan n_estimators. Metode ini mempertimbangan hasil dari lebih dari satu pohon, sehingga hasilnya akan minim akan overfitting. Berbeda dari decision tree yang hanya memiliki satu pohon saja.\n",
    "\n",
    "Nilai n_estimators akan divariasikan dari 5 hingga 300 dengan kelipatan 5, dengan nilai max_dept dari 1 hingga 6, serta criterion 'gini' atau 'entropy'."
   ]
  },
  {
   "cell_type": "code",
   "execution_count": 19,
   "metadata": {},
   "outputs": [],
   "source": [
    "best_rt_model = None\n",
    "best_rf_accuracy = 0\n",
    "best_nt = 0\n",
    "best_rf_depth = 0\n",
    "best_rf_crit = None\n",
    "for nt in range(5,300,30):\n",
    "    for depth in range(1,7):\n",
    "        for crit in ['gini','entropy']:\n",
    "            model_rf = RandomForestClassifier(random_state = 2412, criterion=crit, n_estimators = nt, max_depth = depth)\n",
    "            model_rf.fit(feature_train, target_train)\n",
    "            predictions_rf_valid = model_rf.predict(feature_valid)\n",
    "            akurasi = accuracy_score(target_valid, predictions_rf_valid)\n",
    "            if akurasi > best_rf_accuracy:\n",
    "                best_rf_model = model_rf\n",
    "                best_rf_accuracy = akurasi\n",
    "                best_rt_nt = nt\n",
    "                best_rf_depth = depth\n",
    "                best_rf_crit = crit\n",
    "                "
   ]
  },
  {
   "cell_type": "code",
   "execution_count": 20,
   "metadata": {},
   "outputs": [
    {
     "name": "stdout",
     "output_type": "stream",
     "text": [
      "max depth terbaik adalah  6\n",
      "criterion terbaik adalah  gini\n",
      "n_estimators terbaik adalah  35\n",
      "akurasi yang diperoleh adalah 81.02643856920683\n"
     ]
    }
   ],
   "source": [
    "print(f'max depth terbaik adalah ', best_rf_depth)\n",
    "print(f'criterion terbaik adalah ', best_rf_crit)\n",
    "print(f'n_estimators terbaik adalah ', best_rt_nt)\n",
    "print(f'akurasi yang diperoleh adalah',best_rf_accuracy*100)"
   ]
  },
  {
   "cell_type": "markdown",
   "metadata": {},
   "source": [
    "Mari kita lihat confussion matrixnya"
   ]
  },
  {
   "cell_type": "code",
   "execution_count": 44,
   "metadata": {},
   "outputs": [
    {
     "data": {
      "image/png": "[encoded data removed]",
      "text/plain": [
       "<Figure size 432x288 with 2 Axes>"
      ]
     },
     "metadata": {
      "needs_background": "light"
     },
     "output_type": "display_data"
    }
   ],
   "source": [
    "con_rf = confusion_matrix(target_valid, best_rf_model.predict(feature_valid))\n",
    "disp = ConfusionMatrixDisplay(confusion_matrix=con_rf)\n",
    "disp.plot()\n",
    "plt.title('Model: Random Forest')\n",
    "plt.xlabel('Prediksi')\n",
    "plt.ylabel('Aktual')\n",
    "plt.show()"
   ]
  },
  {
   "cell_type": "code",
   "execution_count": 22,
   "metadata": {},
   "outputs": [
    {
     "name": "stdout",
     "output_type": "stream",
     "text": [
      "Akurasi yang didapatkan adalah 81.02643856920683\n",
      "Presisi yang didapatkan adalah 78.4\n",
      "Recall yang didapatkan adalah 50.77720207253886\n",
      "Nilai F1 yang didapatkan adalah 61.63522012578617\n"
     ]
    }
   ],
   "source": [
    "print(f'Akurasi yang didapatkan adalah {accuracy_score(target_valid, best_rf_model.predict(feature_valid))*100}')\n",
    "print(f'Presisi yang didapatkan adalah {precision_score(target_valid, best_rf_model.predict(feature_valid))*100}')\n",
    "print(f'Recall yang didapatkan adalah {recall_score(target_valid, best_rf_model.predict(feature_valid))*100}')\n",
    "print(f'Nilai F1 yang didapatkan adalah {f1_score(target_valid, best_rf_model.predict(feature_valid))*100}')"
   ]
  },
  {
   "cell_type": "markdown",
   "metadata": {},
   "source": [
    "Terjadi peningkatan kualitas prediksi dari model Decision Tree sebelumnya yaitu 81.02%. Apakah terjadi overfitting, mari kita cek akurasi train test nya."
   ]
  },
  {
   "cell_type": "code",
   "execution_count": 23,
   "metadata": {},
   "outputs": [
    {
     "name": "stdout",
     "output_type": "stream",
     "text": [
      "Akurasi yang didapatkan adalah 83.28145842596709\n",
      "Presisi yang didapatkan adalah 89.31116389548693\n",
      "Recall yang didapatkan adalah 53.18246110325319\n",
      "Nilai F1 yang didapatkan adalah 66.66666666666667\n"
     ]
    }
   ],
   "source": [
    "print(f'Akurasi yang didapatkan adalah {accuracy_score(target_train, best_rf_model.predict(feature_train))*100}')\n",
    "print(f'Presisi yang didapatkan adalah {precision_score(target_train, best_rf_model.predict(feature_train))*100}')\n",
    "print(f'Recall yang didapatkan adalah {recall_score(target_train, best_rf_model.predict(feature_train))*100}')\n",
    "print(f'Nilai F1 yang didapatkan adalah {f1_score(target_train, best_rf_model.predict(feature_train))*100}')"
   ]
  },
  {
   "cell_type": "markdown",
   "metadata": {},
   "source": [
    "Nilai akurasi data train lebih tinggi namun tidak berbeda jauh dari data validation. Sehingga dapat dikatakan model sudah berjalan dengan baik tanpa adanya overfitting atau underfitting."
   ]
  },
  {
   "cell_type": "markdown",
   "metadata": {},
   "source": [
    "### Logistic Regression"
   ]
  },
  {
   "cell_type": "markdown",
   "metadata": {},
   "source": [
    "Jenis model terakhir yang akan kita uji adalah Logistic Regression. Pada model ini, hyperparameter yang digunakan adalah jumlah maksimum iterasi dan solver yang digunakan. Berikut adalah metode solver yang dapat digunakan:\n",
    "1. \"liblinear\" : Cocok untuk dataset dengan ukuran small - medium.\n",
    "2. \"lbfgs\" : Cocok untuk dataset ukuran  kecil = medium. Performa lambat untuk data besar, dan kurang bagus untuk data dengan banyak feature.\n",
    "3. \"newton-cg\" : Cocok untuk dataset besar, namun lambat.\n",
    "4. \"sag\" : Cocok untuk dataset besar, lambat untuk dataset kecil - medium\n",
    "5. \"saga\" : Eficient untuk dataset besar, lambat untuk dataset kecil. Namun bagus untuk kompleksitar besar.\n",
    "\n",
    "Berdasarkan kelebihan dan kekurangan yang dimiliki masing-masing solver. Saya akan mencoba solver \"liblnear\" , \"lbfgs\", dan \"saga\". Liblinear merupakan solver paling umum digunakan, karena feature di dataset yang dimiliki sedikit mungkin solver lbfgs dapat menghasilkan prediksi yang baik, supaya jumlah model yang diuji ganjil saya pilih solver saga untuk meramaikan pertarungan!.\n",
    "\n",
    "Jumlah maksimum iterasi akan saya set tetap di 500 iterasi."
   ]
  },
  {
   "cell_type": "code",
   "execution_count": 34,
   "metadata": {},
   "outputs": [
    {
     "name": "stdout",
     "output_type": "stream",
     "text": [
      "0.7356143079315708 liblinear\n",
      "0.7465007776049767 lbfgs\n",
      "0.7107309486780715 saga\n",
      "Solver terbaik adalah lbfgs dengan akurasi dataset test adalah 74.65007776049767\n"
     ]
    }
   ],
   "source": [
    "best_lr_model = None\n",
    "best_lr_accuracy = 0\n",
    "best_lr = 0\n",
    "best_lr_solver = None\n",
    "akurasi = 0\n",
    "for  solv in [\"liblinear\", \"lbfgs\", \"saga\"]:\n",
    "    model_lr = LogisticRegression(max_iter = 5000, solver = solv, random_state = 2412)\n",
    "    model_lr.fit(feature_train,target_train)\n",
    "    prediction_lr_valid = model_lr.predict(feature_valid)\n",
    "    akurasi = accuracy_score(target_valid, prediction_lr_valid)\n",
    "    print(akurasi, solv)\n",
    "    if akurasi > best_lr_accuracy:\n",
    "        best_lr_solver = solv\n",
    "        best_lr_accuracy = akurasi\n",
    "        best_lr_model = model_lr\n",
    "print(f'Solver terbaik adalah {best_lr_solver} dengan akurasi dataset test adalah',best_lr_accuracy*100)"
   ]
  },
  {
   "cell_type": "markdown",
   "metadata": {},
   "source": [
    "Solver terbaik untuk kasus ini adalah menggunakan \"lbfgs\". Sesuai dengan prediksi sebelumnya, bahwa dataset yang dimiliki memiliki feature yang sedikit sehingga tingkat kompleksitasnya rendah dimana model lbfgs unggul untuk kasus tersebut.\n",
    "\n",
    "Mari kita lihat confussion matrix-nya:"
   ]
  },
  {
   "cell_type": "code",
   "execution_count": 35,
   "metadata": {},
   "outputs": [
    {
     "data": {
      "image/png": "[encoded data removed]",
      "text/plain": [
       "<Figure size 432x288 with 2 Axes>"
      ]
     },
     "metadata": {
      "needs_background": "light"
     },
     "output_type": "display_data"
    }
   ],
   "source": [
    "con_lr = confusion_matrix(target_valid, best_lr_model.predict(feature_valid))\n",
    "disp = ConfusionMatrixDisplay(confusion_matrix=con_lr)\n",
    "disp.plot()\n",
    "plt.title('Model: Logistic Regression')\n",
    "plt.xlabel('Prediksi')\n",
    "plt.ylabel('Aktual')\n",
    "plt.show()"
   ]
  },
  {
   "cell_type": "markdown",
   "metadata": {},
   "source": [
    "Dilihat dari hasilnya, model kita lebih banyak memprediksi nilai akhir bernilai 0 dibandingkan 1. Apakah terjadi underfitting?"
   ]
  },
  {
   "cell_type": "code",
   "execution_count": 37,
   "metadata": {},
   "outputs": [
    {
     "name": "stdout",
     "output_type": "stream",
     "text": [
      "Akurasi yang didapatkan adalah 74.65007776049767\n",
      "Presisi yang didapatkan adalah 81.25\n",
      "Recall yang didapatkan adalah 20.207253886010363\n",
      "Nilai F1 yang didapatkan adalah 32.365145228215766\n"
     ]
    }
   ],
   "source": [
    "print(f'Akurasi yang didapatkan adalah {accuracy_score(target_valid, best_lr_model.predict(feature_valid))*100}')\n",
    "print(f'Presisi yang didapatkan adalah {precision_score(target_valid, best_lr_model.predict(feature_valid))*100}')\n",
    "print(f'Recall yang didapatkan adalah {recall_score(target_valid, best_lr_model.predict(feature_valid))*100}')\n",
    "print(f'Nilai F1 yang didapatkan adalah {f1_score(target_valid, best_lr_model.predict(feature_valid))*100}')"
   ]
  },
  {
   "cell_type": "code",
   "execution_count": 38,
   "metadata": {},
   "outputs": [
    {
     "name": "stdout",
     "output_type": "stream",
     "text": [
      "Akurasi yang didapatkan adalah 74.16629613161405\n",
      "Presisi yang didapatkan adalah 81.81818181818183\n",
      "Recall yang didapatkan adalah 22.913719943422915\n",
      "Nilai F1 yang didapatkan adalah 35.80110497237569\n"
     ]
    }
   ],
   "source": [
    "print(f'Akurasi yang didapatkan adalah {accuracy_score(target_train, best_lr_model.predict(feature_train))*100}')\n",
    "print(f'Presisi yang didapatkan adalah {precision_score(target_train, best_lr_model.predict(feature_train))*100}')\n",
    "print(f'Recall yang didapatkan adalah {recall_score(target_train, best_lr_model.predict(feature_train))*100}')\n",
    "print(f'Nilai F1 yang didapatkan adalah {f1_score(target_train, best_lr_model.predict(feature_train))*100}')"
   ]
  },
  {
   "cell_type": "markdown",
   "metadata": {},
   "source": [
    "Berdasarkan hasil di atas, selain memang akurasinya kecil. Nilai F-1 dari model ini juga rendah dimana hanya bernilai 32.36 saja dibandingkan dengan model klasifikasi sebelumnya. Rendahnya nilai F-1 menunjukan model tidak mampu mengklasifikasikan data dengan benar. Artinya performa dengan model Linear Regression memang tidak terlalu bagus untuk diaplikasikan untuk dataset ini."
   ]
  },
  {
   "cell_type": "markdown",
   "metadata": {},
   "source": [
    "## Pengujian Test Dataset"
   ]
  },
  {
   "cell_type": "markdown",
   "metadata": {},
   "source": [
    "Setelah menguji 3 model Machine Learning klasifikasi, didapatkan model terbaik yang dipilih yaitu RandomForest dengan hyperparameter max_depth bernilai 6, n_estimators bernilai 35, dan criterion yang digunakan adalah gini."
   ]
  },
  {
   "cell_type": "code",
   "execution_count": 39,
   "metadata": {},
   "outputs": [
    {
     "data": {
      "text/plain": [
       "RandomForestClassifier(max_depth=6, n_estimators=35, random_state=2412)"
      ]
     },
     "execution_count": 39,
     "metadata": {},
     "output_type": "execute_result"
    }
   ],
   "source": [
    "best_rf_model"
   ]
  },
  {
   "cell_type": "code",
   "execution_count": 41,
   "metadata": {},
   "outputs": [],
   "source": [
    "best_rf_model.fit(feature_train, target_train)\n",
    "predictions_rf_test = model_rf.predict(feature_test)\n",
    "akurasi = accuracy_score(target_test, predictions_rf_test)\n",
    "presisi = precision_score(target_test, predictions_rf_test)\n",
    "recall = recall_score(target_test, predictions_rf_test)\n",
    "nilai_f1 = f1_score(target_test, predictions_rf_test)"
   ]
  },
  {
   "cell_type": "code",
   "execution_count": 42,
   "metadata": {},
   "outputs": [
    {
     "name": "stdout",
     "output_type": "stream",
     "text": [
      "Dari pemodelan yang digunakan, Random Forest yang dipilih menjadi yang terbaik, dengan detail sebagai berikut:\n",
      "Akurasi yang didapatkan adalah 0.8291925465838509\n",
      "Presisi yang didapatkan adalah 0.75\n",
      "Recall yang didapatkan adalah 0.5294117647058824\n",
      "Nilai F1 yang didapatkan adalah 0.6206896551724139\n"
     ]
    }
   ],
   "source": [
    "print('Dari pemodelan yang digunakan, Random Forest yang dipilih menjadi yang terbaik, dengan detail sebagai berikut:')\n",
    "print(f'Akurasi yang didapatkan adalah {akurasi}')\n",
    "print(f'Presisi yang didapatkan adalah {presisi}')\n",
    "print(f'Recall yang didapatkan adalah {recall}')\n",
    "print(f'Nilai F1 yang didapatkan adalah {nilai_f1}')"
   ]
  },
  {
   "cell_type": "code",
   "execution_count": 43,
   "metadata": {},
   "outputs": [
    {
     "data": {
      "image/png": "[encoded data removed]",
      "text/plain": [
       "<Figure size 432x288 with 2 Axes>"
      ]
     },
     "metadata": {
      "needs_background": "light"
     },
     "output_type": "display_data"
    }
   ],
   "source": [
    "cm_best_rf = confusion_matrix(target_test, predictions_rf_test)\n",
    "disp = ConfusionMatrixDisplay(confusion_matrix=cm_best_rf)\n",
    "disp.plot()\n",
    "plt.title('Confusion Matrix untuk Random Forest dengan test dataset.')\n",
    "plt.xlabel('Prediksi')\n",
    "plt.ylabel('Aktual')\n",
    "plt.show()"
   ]
  },
  {
   "cell_type": "markdown",
   "metadata": {},
   "source": [
    "Hasil yang diperoleh sangat baik dimana akurasi yang didapat melebihi akurasi yang diperoleh ketika menguji data validation namun masih dibawah akurasi yang diperoleh saat menguji data training. Yang artinya, model kita memang tidak mengalami overfitting maupun underfitting. Selain itu, nilai F-1 nya juga masih dipertahankan dinilai 0.61-0.62 sehingga dapat dikatakan performa dari model ini sudah bagus."
   ]
  },
  {
   "cell_type": "markdown",
   "metadata": {},
   "source": [
    "## Kesimpulan"
   ]
  },
  {
   "cell_type": "markdown",
   "metadata": {},
   "source": [
    "Kesimpulan yang diperoleh dari project ini adalah sebagai berikut:"
   ]
  },
  {
   "cell_type": "markdown",
   "metadata": {},
   "source": [
    "1. Urutan model dari yang terbaik untuk memprediksi paket yang cocok berdasarkan kebiasaan pengguna adalah Random Forest, Decision Tree, dan Logistic Regression.\n",
    "2. Model klasifikasi Random Forest dan Decisiton Tree mampu memberikan akurasi di atas 75%, sedangkan Logistic Regression hanya memberikan akurasi 75%. Itupun dengan nilai F-1 yang rendah.\n",
    "3. Model Random Forest merupakan model terbaik selanjutnya dapat digunkan oleh perusahaan untuk memberikan rekomendasi kepada pelanggannya, diantara paket Smart dan Ultra, paket yang mana yang sesuai dengan kebiasaan si pelanggan.\n",
    "4. Nilai akurasi yang dihasilkan untuk pengujian training, validation, dan test berturut-turut sebesar 83.3%, 81.0%, dan 82.9%.\n",
    "5. Untuk implementasinya, model ini tetap perlu dievaluasi kinerjanya. Apakah dalam 1-2 bulan dari diberlakukannya project ini. Terjadinya perpindahan atau peningkatan penggunaan dari masing-masing Paket atau tidak dan apakah pelanggan yang berpindah memang sesuai dengan rekomendasi yang diberikan atau tidak."
   ]
  }
 ],
 "metadata": {
  "kernelspec": {
   "display_name": "Python 3 (ipykernel)",
   "language": "python",
   "name": "python3"
  },
  "language_info": {
   "codemirror_mode": {
    "name": "ipython",
    "version": 3
   },
   "file_extension": ".py",
   "mimetype": "text/x-python",
   "name": "python",
   "nbconvert_exporter": "python",
   "pygments_lexer": "ipython3",
   "version": "3.9.5"
  },
  "toc": {
   "base_numbering": 1,
   "nav_menu": {},
   "number_sections": true,
   "sideBar": true,
   "skip_h1_title": true,
   "title_cell": "Table of Contents",
   "title_sidebar": "Contents",
   "toc_cell": false,
   "toc_position": {},
   "toc_section_display": true,
   "toc_window_display": false
  }
 },
 "nbformat": 4,
 "nbformat_minor": 2
}
