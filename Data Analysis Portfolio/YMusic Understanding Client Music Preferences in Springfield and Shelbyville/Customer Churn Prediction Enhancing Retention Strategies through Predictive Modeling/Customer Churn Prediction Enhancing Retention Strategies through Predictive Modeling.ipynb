{
 "cells": [
  {
   "cell_type": "markdown",
   "metadata": {},
   "source": [
    "<div style=\"border:solid black 2px; padding: 20px\">\n",
    "\n",
    "# Reviewer's feedback v.1\n",
    "\n",
    "**Hi Azam**\n",
    "    \n",
    "**Greetings from Chamdani**\n",
    "\n",
    "Terima kasih telah mengirimkan project kamu dengan ini kamu sudah memulai sebuah langkah yang luar biasa saat ini. Disini saya akan mereview proyek kamu ya.\n",
    "\n",
    "Saya akan memberikan beberapa komentar dan feedback seperti dibawah ini, **mohon jangan dipindah, dirubah, maupun dihapus ya :).**\n",
    "    \n",
    "> Mohon diperhatikan bahwa apabila ada temuan atau kesalahan yang sama namun tidak ada komentar perbaikan disana, itu berarti kamu masih tetap harus memperbaikinya yaa.\n",
    "\n",
    "Komentar yang saya berikan akan muncul dalam warna hijau, kuning, atau pun merah seperti ini:\n",
    "\n",
    "</div>"
   ]
  },
  {
   "cell_type": "markdown",
   "metadata": {},
   "source": [
    "<div class=\"alert alert-success\">\n",
    "<b>Chamdani's comment v.*</b> <a class=\"tocSkip\"></a>\n",
    "\n",
    "Bagus, semua berjalan lancar.\n",
    "\n",
    "</div>"
   ]
  },
  {
   "cell_type": "markdown",
   "metadata": {},
   "source": [
    "<div class=\"alert alert-warning\">\n",
    "<b>Chamdani's comment v.*</b> <a class=\"tocSkip\"></a>\n",
    "\n",
    "Ada beberapa catatan.\n",
    "\n",
    "</div>"
   ]
  },
  {
   "cell_type": "markdown",
   "metadata": {},
   "source": [
    "<div class=\"alert alert-danger\">\n",
    "<b>Chamdani's comment v.*</b> <a class=\"tocSkip\"></a>\n",
    "\n",
    "Perlu beberapa perbaikan.\n",
    "\n",
    "</div>"
   ]
  },
  {
   "cell_type": "markdown",
   "metadata": {},
   "source": [
    "<div class=\"alert alert-info\">\n",
    "<b>Chamdani's info v.1</b> <a class=\"tocSkip\"></a>\n",
    "\n",
    "Catatan umum:\n",
    "* Fungsi `print` tidak diperlukan untuk mencetak suatu nilai\n",
    "* Lebih baik tulis kode pada bagian akhir cell code untuk menampilkan output tanpa `print`\n",
    "* Perintah soal yang ada dalam tanda kurung siku `[...]` sebaiknya dihilangkan\n",
    "* Sangat disarankan untuk menggunakan cell markdown untuk memberikan deskripsi temuan atau kesimpulan.\n",
    "* Tidak disarankan menggunakan cell code untuk memberikan penjelasan / deskripsi.\n",
    "* Untuk menghindari galat pada notebook project kamu. Batasi jumlah output yang dikeluarkan setiap kode dengan batas max 10 baris data.\n",
    "\n",
    "</div>"
   ]
  },
  {
   "cell_type": "markdown",
   "metadata": {},
   "source": [
    "<div style=\"border:solid gray 5px; padding: 20px\" class=\"alert alert-warning\">\n",
    "\n",
    "**INGATLAH** \n",
    "* Project kamu tidak akan bisa diterima bila kamu masih memiliki feedback berwarna merah. \n",
    "* Kamu hanya memiliki 3 kali kesempatan iterasi submission disetiap projectnya \n",
    "* Kamu dapat memperbaiki dan menyelesaikan feedback **pertama** dari saya tidak lebih dari 1\\*24 jam setiap iterasinya. *Untuk membantu saya mengetahui apakah ada kesulitan dari feedback project kamu*\n",
    "* Jika merasa kesulitan kamu dapat menuliskan responmu atas feedback saya menggunakan blok markdown warna biru yaa."
   ]
  },
  {
   "cell_type": "markdown",
   "metadata": {},
   "source": [
    "Kamu dapat menjawab saya dengan menggunakan blok berwarna biru seperti ini"
   ]
  },
  {
   "cell_type": "markdown",
   "metadata": {},
   "source": [
    "<div class=\"alert alert-info\">\n",
    "<b>Student answer</b> <a class=\"tocSkip\"></a>\n",
    "\n",
    "Siap kak.\n",
    "\n",
    "</div>"
   ]
  },
  {
   "cell_type": "markdown",
   "metadata": {},
   "source": [
    "<div style=\"border:solid black 2px; padding: 20px\" class=\"alert alert-success\">\n",
    "    \n",
    "# General feedback v.1 *Project Accepted*\n",
    "\n",
    "Terima kasih banyak telah mengirimkan proyek Anda! \n",
    "<br>\n",
    "    \n",
    "Secara keseluruhan, proyek Anda **SANGAT** mengesankan. Semoga apa yang kamu pelajari dalam project ini dapat membantu meningkatkan kemampuanmu. Pertahankan apa yang sudah bagus, dan tingkatkan apa yang menurutmu masih perlu ditingkatkan. Semoga berhasil pada project selanjutnya yaa :)\n",
    "\n",
    "**TETAP SEMANGAT!!**\n",
    "    \n",
    "</div>"
   ]
  },
  {
   "cell_type": "markdown",
   "metadata": {},
   "source": [
    "# Project Supervised Machine Learning: Nasabah Bank Beta"
   ]
  },
  {
   "cell_type": "markdown",
   "metadata": {},
   "source": [
    "## Latar Belakang"
   ]
  },
  {
   "cell_type": "markdown",
   "metadata": {},
   "source": [
    "Nasabah Bank Beta pergi meninggalkan perusahaan: sedikit demi sedikit, jumlah mereka berkurang setiap bulannya. Para pegawai bank menyadari bahwa akan lebih menghemat biaya jika perusahaan fokus untuk mempertahankan nasabah lama mereka yang setia daripada menarik nasabah baru.\n",
    "Pada kasus ini, tugas kita adalah untuk memprediksi apakah seorang nasabah akan segera meninggalkan bank atau tidak. Anda memiliki data terkait perilaku para klien di masa lalu dan riwayat pemutusan kontrak mereka dengan bank.\n",
    "Buatlah sebuah model dengan skor F1 semaksimal mungkin. Untuk bisa dinyatakan lulus dari peninjauan, Anda memerlukan skor F1 minimal 0,59 untuk test dataset. Periksa nilai F1 untuk test set.\n",
    "Selain itu, ukur metrik AUC-ROC dan bandingkan metrik tersebut dengan skor F1."
   ]
  },
  {
   "cell_type": "markdown",
   "metadata": {},
   "source": [
    "## Daftar isi"
   ]
  },
  {
   "cell_type": "markdown",
   "metadata": {},
   "source": [
    "- 1. [Latar Belakang](#Latar-Belakang)\n",
    "\n",
    "- 2. [Daftar Isi](#Daftar-Isi)\n",
    "\n",
    "- 3. [Persiapan dan Mempelajari Dataset](#Persiapan-dan-Mempelajari-Dataset)\n",
    "    - 3.1 [Mengecek dan Mengatasi Nilai Hilang](#Mengecek-dan-Mengatasi-Nilai-Hilang)\n",
    "    - 3.2 [Mengatasi Kolom Kategorik](#Mengatasi-Kolom-Kategorik)\n",
    "    - 3.3 [Penskalaan Fitur](#Penskalaan-Fitur)\n",
    "     \n",
    "- 4. [Pemodelan Machine Learning](#Pemodelan-Machine-Learning)\n",
    "    - 4.1 [Training, Validation dan Test Dataset](#Training,-Validation-dan-Test-Dataset)\n",
    "    - 4.2 [Pemodelan Machine Learning dengan Data tanpa Penyeimbangan Data](#Pemodelan-Machine-Learning-dengan-Data-tanpa-Penyeimbangan-Data)\n",
    "        - 4.2.1 [Baseline](#Baseline)\n",
    "        - 4.2.2 [Model Decision Tree](#Model-Decision-Tree)\n",
    "        - 4.2.3 [Model Random Forest](#Model-Random-Forest)\n",
    "        - 4.2.4 [Model Logistic Regression](#Model-Logistic-Regression)\n",
    "        - 4.2.5 [Cross Validation](#Cross-Validation)\n",
    "    - 4.3 [Pemodelan ML dengan Data dengan Penyeimbangan Data](#Pemodelan-ML-dengan-Data-dengan-Penyeimbangan-Data)\n",
    "        - 4.3.1 [Data](#Data)\n",
    "        - 4.3.2 [Balancing dengan Upsampling](#Balancing-dengan-Upsampling)\n",
    "        - 4.3.3 [Balancing dengan Downsampling](#Balancing-dengan-Downsampling)\n",
    "        - 4.3.4 [Huperparameter Tuning](#Hyperparameter-Tuning)\n",
    "            - 4.3.4.1 [Hyperparameter Tuning untuk Data Upsampling](#Hyperparameter-Tuning-untuk-Data-Upsampling)\n",
    "            - 4.3.4.2 [Hyperparameter Tuning untuk Data Downsampling](#Hyperparameter-Tuning-untuk-Data-Downsampling)\n",
    "        - 4.3.5 [Adjustment Threshold](#Adjustment-Threshold)\n",
    "            - 4.3.5.1 [Adjustment threshold data upsampling](#Adjustment-threshold-data-upsampling)\n",
    "            - 4.3.5.2 [Adjustment threshold data downsampling](#Adjustment-threshold-data-downsampling)\n",
    "        - 4.3.6 [AUC-ROC]\n",
    "            - 4.3.6.1 [AUC ROC Upsampling](#AUC-ROC-Upsampling)\n",
    "            - 4.3.6.2 [AUC ROC Downsampling](#AUC-ROC-Downsampling)\n",
    "            \n",
    "- 5. [Pengujian Model Final dengan Test Dataset](#Pengujian-Model-Final-dengan-Test-Dataset)\n",
    "    - 5.1 [Baseline Model](#Baseline-Model)\n",
    "    - 5.2 [Model Final](#Model-Final)\n",
    "        - 5.2.1 [Model RF Upsampling](#Model-RF-Upsampling)\n",
    "        - 5.2.2 [Model RF Downsampling](#Model-RF-Downsampling)\n",
    "            - 5.2.2.1 [Tanpa Threshold](#Tanpa-Threshold)\n",
    "            - 5.2.2.2 [Dengan Threshold](#Dengan-Threshold)\n",
    "- 6. [Kesimpulan](#Kesimpulan)"
   ]
  },
  {
   "cell_type": "markdown",
   "metadata": {},
   "source": [
    "<div class=\"alert alert-success\">\n",
    "<b>Chamdani's comment v.1</b> <a class=\"tocSkip\"></a>\n",
    "\n",
    "Bagus, semua berjalan lancar.\n",
    "\n",
    "</div>"
   ]
  },
  {
   "cell_type": "markdown",
   "metadata": {},
   "source": [
    "## Persiapan dan Mempelajari Dataset"
   ]
  },
  {
   "cell_type": "code",
   "execution_count": 1,
   "metadata": {},
   "outputs": [],
   "source": [
    "import numpy as np\n",
    "import pandas as pd\n",
    "import matplotlib.pyplot as plt\n",
    "\n",
    "from sklearn.tree import DecisionTreeClassifier\n",
    "from sklearn.ensemble import RandomForestClassifier\n",
    "from sklearn.linear_model import LogisticRegression\n",
    "from sklearn.dummy import DummyClassifier\n",
    "\n",
    "from sklearn.preprocessing import StandardScaler\n",
    "from sklearn.model_selection import train_test_split, GridSearchCV\n",
    "from sklearn.metrics import accuracy_score, precision_score, recall_score, f1_score\n",
    "from sklearn.metrics import confusion_matrix, ConfusionMatrixDisplay\n",
    "\n",
    "from sklearn.model_selection import cross_val_score\n",
    "from sklearn.model_selection import StratifiedKFold\n",
    "from sklearn.utils import shuffle\n",
    "from sklearn.metrics import f1_score, confusion_matrix, ConfusionMatrixDisplay, precision_score, accuracy_score, recall_score, precision_recall_curve, roc_curve, roc_auc_score"
   ]
  },
  {
   "cell_type": "code",
   "execution_count": 2,
   "metadata": {},
   "outputs": [],
   "source": [
    "df = pd.read_csv('/datasets/Churn.csv')"
   ]
  },
  {
   "cell_type": "markdown",
   "metadata": {},
   "source": [
    "<div class=\"alert alert-success\">\n",
    "<b>Chamdani's comment v.1</b> <a class=\"tocSkip\"></a>\n",
    "\n",
    "Bagus, semua berjalan lancar.\n",
    "\n",
    "</div>"
   ]
  },
  {
   "cell_type": "markdown",
   "metadata": {},
   "source": [
    "### Mengecek dan Mengatasi Nilai Hilang"
   ]
  },
  {
   "cell_type": "code",
   "execution_count": 3,
   "metadata": {},
   "outputs": [
    {
     "data": {
      "text/html": [
       "<div>\n",
       "<style scoped>\n",
       "    .dataframe tbody tr th:only-of-type {\n",
       "        vertical-align: middle;\n",
       "    }\n",
       "\n",
       "    .dataframe tbody tr th {\n",
       "        vertical-align: top;\n",
       "    }\n",
       "\n",
       "    .dataframe thead th {\n",
       "        text-align: right;\n",
       "    }\n",
       "</style>\n",
       "<table border=\"1\" class=\"dataframe\">\n",
       "  <thead>\n",
       "    <tr style=\"text-align: right;\">\n",
       "      <th></th>\n",
       "      <th>RowNumber</th>\n",
       "      <th>CustomerId</th>\n",
       "      <th>Surname</th>\n",
       "      <th>CreditScore</th>\n",
       "      <th>Geography</th>\n",
       "      <th>Gender</th>\n",
       "      <th>Age</th>\n",
       "      <th>Tenure</th>\n",
       "      <th>Balance</th>\n",
       "      <th>NumOfProducts</th>\n",
       "      <th>HasCrCard</th>\n",
       "      <th>IsActiveMember</th>\n",
       "      <th>EstimatedSalary</th>\n",
       "      <th>Exited</th>\n",
       "    </tr>\n",
       "  </thead>\n",
       "  <tbody>\n",
       "    <tr>\n",
       "      <th>0</th>\n",
       "      <td>1</td>\n",
       "      <td>15634602</td>\n",
       "      <td>Hargrave</td>\n",
       "      <td>619</td>\n",
       "      <td>France</td>\n",
       "      <td>Female</td>\n",
       "      <td>42</td>\n",
       "      <td>2.0</td>\n",
       "      <td>0.00</td>\n",
       "      <td>1</td>\n",
       "      <td>1</td>\n",
       "      <td>1</td>\n",
       "      <td>101348.88</td>\n",
       "      <td>1</td>\n",
       "    </tr>\n",
       "    <tr>\n",
       "      <th>1</th>\n",
       "      <td>2</td>\n",
       "      <td>15647311</td>\n",
       "      <td>Hill</td>\n",
       "      <td>608</td>\n",
       "      <td>Spain</td>\n",
       "      <td>Female</td>\n",
       "      <td>41</td>\n",
       "      <td>1.0</td>\n",
       "      <td>83807.86</td>\n",
       "      <td>1</td>\n",
       "      <td>0</td>\n",
       "      <td>1</td>\n",
       "      <td>112542.58</td>\n",
       "      <td>0</td>\n",
       "    </tr>\n",
       "    <tr>\n",
       "      <th>2</th>\n",
       "      <td>3</td>\n",
       "      <td>15619304</td>\n",
       "      <td>Onio</td>\n",
       "      <td>502</td>\n",
       "      <td>France</td>\n",
       "      <td>Female</td>\n",
       "      <td>42</td>\n",
       "      <td>8.0</td>\n",
       "      <td>159660.80</td>\n",
       "      <td>3</td>\n",
       "      <td>1</td>\n",
       "      <td>0</td>\n",
       "      <td>113931.57</td>\n",
       "      <td>1</td>\n",
       "    </tr>\n",
       "    <tr>\n",
       "      <th>3</th>\n",
       "      <td>4</td>\n",
       "      <td>15701354</td>\n",
       "      <td>Boni</td>\n",
       "      <td>699</td>\n",
       "      <td>France</td>\n",
       "      <td>Female</td>\n",
       "      <td>39</td>\n",
       "      <td>1.0</td>\n",
       "      <td>0.00</td>\n",
       "      <td>2</td>\n",
       "      <td>0</td>\n",
       "      <td>0</td>\n",
       "      <td>93826.63</td>\n",
       "      <td>0</td>\n",
       "    </tr>\n",
       "    <tr>\n",
       "      <th>4</th>\n",
       "      <td>5</td>\n",
       "      <td>15737888</td>\n",
       "      <td>Mitchell</td>\n",
       "      <td>850</td>\n",
       "      <td>Spain</td>\n",
       "      <td>Female</td>\n",
       "      <td>43</td>\n",
       "      <td>2.0</td>\n",
       "      <td>125510.82</td>\n",
       "      <td>1</td>\n",
       "      <td>1</td>\n",
       "      <td>1</td>\n",
       "      <td>79084.10</td>\n",
       "      <td>0</td>\n",
       "    </tr>\n",
       "  </tbody>\n",
       "</table>\n",
       "</div>"
      ],
      "text/plain": [
       "   RowNumber  CustomerId   Surname  CreditScore Geography  Gender  Age  \\\n",
       "0          1    15634602  Hargrave          619    France  Female   42   \n",
       "1          2    15647311      Hill          608     Spain  Female   41   \n",
       "2          3    15619304      Onio          502    France  Female   42   \n",
       "3          4    15701354      Boni          699    France  Female   39   \n",
       "4          5    15737888  Mitchell          850     Spain  Female   43   \n",
       "\n",
       "   Tenure    Balance  NumOfProducts  HasCrCard  IsActiveMember  \\\n",
       "0     2.0       0.00              1          1               1   \n",
       "1     1.0   83807.86              1          0               1   \n",
       "2     8.0  159660.80              3          1               0   \n",
       "3     1.0       0.00              2          0               0   \n",
       "4     2.0  125510.82              1          1               1   \n",
       "\n",
       "   EstimatedSalary  Exited  \n",
       "0        101348.88       1  \n",
       "1        112542.58       0  \n",
       "2        113931.57       1  \n",
       "3         93826.63       0  \n",
       "4         79084.10       0  "
      ]
     },
     "execution_count": 3,
     "metadata": {},
     "output_type": "execute_result"
    }
   ],
   "source": [
    "df.head()"
   ]
  },
  {
   "cell_type": "code",
   "execution_count": 4,
   "metadata": {
    "scrolled": true
   },
   "outputs": [
    {
     "name": "stdout",
     "output_type": "stream",
     "text": [
      "<class 'pandas.core.frame.DataFrame'>\n",
      "RangeIndex: 10000 entries, 0 to 9999\n",
      "Data columns (total 14 columns):\n",
      " #   Column           Non-Null Count  Dtype  \n",
      "---  ------           --------------  -----  \n",
      " 0   RowNumber        10000 non-null  int64  \n",
      " 1   CustomerId       10000 non-null  int64  \n",
      " 2   Surname          10000 non-null  object \n",
      " 3   CreditScore      10000 non-null  int64  \n",
      " 4   Geography        10000 non-null  object \n",
      " 5   Gender           10000 non-null  object \n",
      " 6   Age              10000 non-null  int64  \n",
      " 7   Tenure           9091 non-null   float64\n",
      " 8   Balance          10000 non-null  float64\n",
      " 9   NumOfProducts    10000 non-null  int64  \n",
      " 10  HasCrCard        10000 non-null  int64  \n",
      " 11  IsActiveMember   10000 non-null  int64  \n",
      " 12  EstimatedSalary  10000 non-null  float64\n",
      " 13  Exited           10000 non-null  int64  \n",
      "dtypes: float64(3), int64(8), object(3)\n",
      "memory usage: 1.1+ MB\n"
     ]
    }
   ],
   "source": [
    "df.info()"
   ]
  },
  {
   "cell_type": "code",
   "execution_count": 5,
   "metadata": {},
   "outputs": [
    {
     "data": {
      "text/html": [
       "<div>\n",
       "<style scoped>\n",
       "    .dataframe tbody tr th:only-of-type {\n",
       "        vertical-align: middle;\n",
       "    }\n",
       "\n",
       "    .dataframe tbody tr th {\n",
       "        vertical-align: top;\n",
       "    }\n",
       "\n",
       "    .dataframe thead th {\n",
       "        text-align: right;\n",
       "    }\n",
       "</style>\n",
       "<table border=\"1\" class=\"dataframe\">\n",
       "  <thead>\n",
       "    <tr style=\"text-align: right;\">\n",
       "      <th></th>\n",
       "      <th>RowNumber</th>\n",
       "      <th>CustomerId</th>\n",
       "      <th>CreditScore</th>\n",
       "      <th>Age</th>\n",
       "      <th>Tenure</th>\n",
       "      <th>Balance</th>\n",
       "      <th>NumOfProducts</th>\n",
       "      <th>HasCrCard</th>\n",
       "      <th>IsActiveMember</th>\n",
       "      <th>EstimatedSalary</th>\n",
       "      <th>Exited</th>\n",
       "    </tr>\n",
       "  </thead>\n",
       "  <tbody>\n",
       "    <tr>\n",
       "      <th>count</th>\n",
       "      <td>10000.00000</td>\n",
       "      <td>1.000000e+04</td>\n",
       "      <td>10000.000000</td>\n",
       "      <td>10000.000000</td>\n",
       "      <td>9091.000000</td>\n",
       "      <td>10000.000000</td>\n",
       "      <td>10000.000000</td>\n",
       "      <td>10000.00000</td>\n",
       "      <td>10000.000000</td>\n",
       "      <td>10000.000000</td>\n",
       "      <td>10000.000000</td>\n",
       "    </tr>\n",
       "    <tr>\n",
       "      <th>mean</th>\n",
       "      <td>5000.50000</td>\n",
       "      <td>1.569094e+07</td>\n",
       "      <td>650.528800</td>\n",
       "      <td>38.921800</td>\n",
       "      <td>4.997690</td>\n",
       "      <td>76485.889288</td>\n",
       "      <td>1.530200</td>\n",
       "      <td>0.70550</td>\n",
       "      <td>0.515100</td>\n",
       "      <td>100090.239881</td>\n",
       "      <td>0.203700</td>\n",
       "    </tr>\n",
       "    <tr>\n",
       "      <th>std</th>\n",
       "      <td>2886.89568</td>\n",
       "      <td>7.193619e+04</td>\n",
       "      <td>96.653299</td>\n",
       "      <td>10.487806</td>\n",
       "      <td>2.894723</td>\n",
       "      <td>62397.405202</td>\n",
       "      <td>0.581654</td>\n",
       "      <td>0.45584</td>\n",
       "      <td>0.499797</td>\n",
       "      <td>57510.492818</td>\n",
       "      <td>0.402769</td>\n",
       "    </tr>\n",
       "    <tr>\n",
       "      <th>min</th>\n",
       "      <td>1.00000</td>\n",
       "      <td>1.556570e+07</td>\n",
       "      <td>350.000000</td>\n",
       "      <td>18.000000</td>\n",
       "      <td>0.000000</td>\n",
       "      <td>0.000000</td>\n",
       "      <td>1.000000</td>\n",
       "      <td>0.00000</td>\n",
       "      <td>0.000000</td>\n",
       "      <td>11.580000</td>\n",
       "      <td>0.000000</td>\n",
       "    </tr>\n",
       "    <tr>\n",
       "      <th>25%</th>\n",
       "      <td>2500.75000</td>\n",
       "      <td>1.562853e+07</td>\n",
       "      <td>584.000000</td>\n",
       "      <td>32.000000</td>\n",
       "      <td>2.000000</td>\n",
       "      <td>0.000000</td>\n",
       "      <td>1.000000</td>\n",
       "      <td>0.00000</td>\n",
       "      <td>0.000000</td>\n",
       "      <td>51002.110000</td>\n",
       "      <td>0.000000</td>\n",
       "    </tr>\n",
       "    <tr>\n",
       "      <th>50%</th>\n",
       "      <td>5000.50000</td>\n",
       "      <td>1.569074e+07</td>\n",
       "      <td>652.000000</td>\n",
       "      <td>37.000000</td>\n",
       "      <td>5.000000</td>\n",
       "      <td>97198.540000</td>\n",
       "      <td>1.000000</td>\n",
       "      <td>1.00000</td>\n",
       "      <td>1.000000</td>\n",
       "      <td>100193.915000</td>\n",
       "      <td>0.000000</td>\n",
       "    </tr>\n",
       "    <tr>\n",
       "      <th>75%</th>\n",
       "      <td>7500.25000</td>\n",
       "      <td>1.575323e+07</td>\n",
       "      <td>718.000000</td>\n",
       "      <td>44.000000</td>\n",
       "      <td>7.000000</td>\n",
       "      <td>127644.240000</td>\n",
       "      <td>2.000000</td>\n",
       "      <td>1.00000</td>\n",
       "      <td>1.000000</td>\n",
       "      <td>149388.247500</td>\n",
       "      <td>0.000000</td>\n",
       "    </tr>\n",
       "    <tr>\n",
       "      <th>max</th>\n",
       "      <td>10000.00000</td>\n",
       "      <td>1.581569e+07</td>\n",
       "      <td>850.000000</td>\n",
       "      <td>92.000000</td>\n",
       "      <td>10.000000</td>\n",
       "      <td>250898.090000</td>\n",
       "      <td>4.000000</td>\n",
       "      <td>1.00000</td>\n",
       "      <td>1.000000</td>\n",
       "      <td>199992.480000</td>\n",
       "      <td>1.000000</td>\n",
       "    </tr>\n",
       "  </tbody>\n",
       "</table>\n",
       "</div>"
      ],
      "text/plain": [
       "         RowNumber    CustomerId   CreditScore           Age       Tenure  \\\n",
       "count  10000.00000  1.000000e+04  10000.000000  10000.000000  9091.000000   \n",
       "mean    5000.50000  1.569094e+07    650.528800     38.921800     4.997690   \n",
       "std     2886.89568  7.193619e+04     96.653299     10.487806     2.894723   \n",
       "min        1.00000  1.556570e+07    350.000000     18.000000     0.000000   \n",
       "25%     2500.75000  1.562853e+07    584.000000     32.000000     2.000000   \n",
       "50%     5000.50000  1.569074e+07    652.000000     37.000000     5.000000   \n",
       "75%     7500.25000  1.575323e+07    718.000000     44.000000     7.000000   \n",
       "max    10000.00000  1.581569e+07    850.000000     92.000000    10.000000   \n",
       "\n",
       "             Balance  NumOfProducts    HasCrCard  IsActiveMember  \\\n",
       "count   10000.000000   10000.000000  10000.00000    10000.000000   \n",
       "mean    76485.889288       1.530200      0.70550        0.515100   \n",
       "std     62397.405202       0.581654      0.45584        0.499797   \n",
       "min         0.000000       1.000000      0.00000        0.000000   \n",
       "25%         0.000000       1.000000      0.00000        0.000000   \n",
       "50%     97198.540000       1.000000      1.00000        1.000000   \n",
       "75%    127644.240000       2.000000      1.00000        1.000000   \n",
       "max    250898.090000       4.000000      1.00000        1.000000   \n",
       "\n",
       "       EstimatedSalary        Exited  \n",
       "count     10000.000000  10000.000000  \n",
       "mean     100090.239881      0.203700  \n",
       "std       57510.492818      0.402769  \n",
       "min          11.580000      0.000000  \n",
       "25%       51002.110000      0.000000  \n",
       "50%      100193.915000      0.000000  \n",
       "75%      149388.247500      0.000000  \n",
       "max      199992.480000      1.000000  "
      ]
     },
     "execution_count": 5,
     "metadata": {},
     "output_type": "execute_result"
    }
   ],
   "source": [
    "df.describe()"
   ]
  },
  {
   "cell_type": "code",
   "execution_count": 6,
   "metadata": {},
   "outputs": [
    {
     "data": {
      "text/plain": [
       "909"
      ]
     },
     "execution_count": 6,
     "metadata": {},
     "output_type": "execute_result"
    }
   ],
   "source": [
    "df['Tenure'].isna().sum()"
   ]
  },
  {
   "cell_type": "code",
   "execution_count": 7,
   "metadata": {},
   "outputs": [
    {
     "data": {
      "text/plain": [
       "9.09"
      ]
     },
     "execution_count": 7,
     "metadata": {},
     "output_type": "execute_result"
    }
   ],
   "source": [
    "df['Tenure'].isna().sum()/len(df)*100"
   ]
  },
  {
   "cell_type": "markdown",
   "metadata": {},
   "source": [
    "Terdapat 909 data yang hilang pada kolom Tenure atau sebanyak 9.09%. Data tersebut lumayan besar. Mari kita analisa lebih lanjt langkah apa yang diperlukan untuk mengatasi hal tersebut. Mengingat 9.09% data yang hilang tersebut terkonsentrasi pada satu kolom saja sehingga perlu untuk diperhatikan.\n",
    "\n",
    "Definisi kata \"Tenure\" dalam konteks nasabah bank yang saya peroleh dari Google, Tenure memiliki arti periode waktu atau lamanya hubungan antara nasabah dengan bank tertentu. Tenure biasanya dinyatakan dalam tahun, data Tenure dapat digunakan sebagai indikator evaluasi tingkat kesetiaan nasabah terhadap bank.\n",
    "\n",
    "Jika dihapus kita akan kehilangkan 9% data dan itu lumayan banyak. Mari ktia lihat lebih jauh data yang dimiliki."
   ]
  },
  {
   "cell_type": "markdown",
   "metadata": {},
   "source": [
    "<div class=\"alert alert-success\">\n",
    "<b>Chamdani's comment v.1</b> <a class=\"tocSkip\"></a>\n",
    "\n",
    "Bagus, semua berjalan lancar.\n",
    "\n",
    "</div>"
   ]
  },
  {
   "cell_type": "code",
   "execution_count": 8,
   "metadata": {},
   "outputs": [
    {
     "data": {
      "text/html": [
       "<div>\n",
       "<style scoped>\n",
       "    .dataframe tbody tr th:only-of-type {\n",
       "        vertical-align: middle;\n",
       "    }\n",
       "\n",
       "    .dataframe tbody tr th {\n",
       "        vertical-align: top;\n",
       "    }\n",
       "\n",
       "    .dataframe thead th {\n",
       "        text-align: right;\n",
       "    }\n",
       "</style>\n",
       "<table border=\"1\" class=\"dataframe\">\n",
       "  <thead>\n",
       "    <tr style=\"text-align: right;\">\n",
       "      <th></th>\n",
       "      <th>RowNumber</th>\n",
       "      <th>CustomerId</th>\n",
       "      <th>CreditScore</th>\n",
       "      <th>Age</th>\n",
       "      <th>Tenure</th>\n",
       "      <th>Balance</th>\n",
       "      <th>NumOfProducts</th>\n",
       "      <th>HasCrCard</th>\n",
       "      <th>IsActiveMember</th>\n",
       "      <th>EstimatedSalary</th>\n",
       "      <th>Exited</th>\n",
       "    </tr>\n",
       "  </thead>\n",
       "  <tbody>\n",
       "    <tr>\n",
       "      <th>RowNumber</th>\n",
       "      <td>1.000000</td>\n",
       "      <td>0.004202</td>\n",
       "      <td>0.005840</td>\n",
       "      <td>0.000783</td>\n",
       "      <td>-0.007322</td>\n",
       "      <td>-0.009067</td>\n",
       "      <td>0.007246</td>\n",
       "      <td>0.000599</td>\n",
       "      <td>0.012044</td>\n",
       "      <td>-0.005988</td>\n",
       "      <td>-0.016571</td>\n",
       "    </tr>\n",
       "    <tr>\n",
       "      <th>CustomerId</th>\n",
       "      <td>0.004202</td>\n",
       "      <td>1.000000</td>\n",
       "      <td>0.005308</td>\n",
       "      <td>0.009497</td>\n",
       "      <td>-0.021418</td>\n",
       "      <td>-0.012419</td>\n",
       "      <td>0.016972</td>\n",
       "      <td>-0.014025</td>\n",
       "      <td>0.001665</td>\n",
       "      <td>0.015271</td>\n",
       "      <td>-0.006248</td>\n",
       "    </tr>\n",
       "    <tr>\n",
       "      <th>CreditScore</th>\n",
       "      <td>0.005840</td>\n",
       "      <td>0.005308</td>\n",
       "      <td>1.000000</td>\n",
       "      <td>-0.003965</td>\n",
       "      <td>-0.000062</td>\n",
       "      <td>0.006268</td>\n",
       "      <td>0.012238</td>\n",
       "      <td>-0.005458</td>\n",
       "      <td>0.025651</td>\n",
       "      <td>-0.001384</td>\n",
       "      <td>-0.027094</td>\n",
       "    </tr>\n",
       "    <tr>\n",
       "      <th>Age</th>\n",
       "      <td>0.000783</td>\n",
       "      <td>0.009497</td>\n",
       "      <td>-0.003965</td>\n",
       "      <td>1.000000</td>\n",
       "      <td>-0.013134</td>\n",
       "      <td>0.028308</td>\n",
       "      <td>-0.030680</td>\n",
       "      <td>-0.011721</td>\n",
       "      <td>0.085472</td>\n",
       "      <td>-0.007201</td>\n",
       "      <td>0.285323</td>\n",
       "    </tr>\n",
       "    <tr>\n",
       "      <th>Tenure</th>\n",
       "      <td>-0.007322</td>\n",
       "      <td>-0.021418</td>\n",
       "      <td>-0.000062</td>\n",
       "      <td>-0.013134</td>\n",
       "      <td>1.000000</td>\n",
       "      <td>-0.007911</td>\n",
       "      <td>0.011979</td>\n",
       "      <td>0.027232</td>\n",
       "      <td>-0.032178</td>\n",
       "      <td>0.010520</td>\n",
       "      <td>-0.016761</td>\n",
       "    </tr>\n",
       "    <tr>\n",
       "      <th>Balance</th>\n",
       "      <td>-0.009067</td>\n",
       "      <td>-0.012419</td>\n",
       "      <td>0.006268</td>\n",
       "      <td>0.028308</td>\n",
       "      <td>-0.007911</td>\n",
       "      <td>1.000000</td>\n",
       "      <td>-0.304180</td>\n",
       "      <td>-0.014858</td>\n",
       "      <td>-0.010084</td>\n",
       "      <td>0.012797</td>\n",
       "      <td>0.118533</td>\n",
       "    </tr>\n",
       "    <tr>\n",
       "      <th>NumOfProducts</th>\n",
       "      <td>0.007246</td>\n",
       "      <td>0.016972</td>\n",
       "      <td>0.012238</td>\n",
       "      <td>-0.030680</td>\n",
       "      <td>0.011979</td>\n",
       "      <td>-0.304180</td>\n",
       "      <td>1.000000</td>\n",
       "      <td>0.003183</td>\n",
       "      <td>0.009612</td>\n",
       "      <td>0.014204</td>\n",
       "      <td>-0.047820</td>\n",
       "    </tr>\n",
       "    <tr>\n",
       "      <th>HasCrCard</th>\n",
       "      <td>0.000599</td>\n",
       "      <td>-0.014025</td>\n",
       "      <td>-0.005458</td>\n",
       "      <td>-0.011721</td>\n",
       "      <td>0.027232</td>\n",
       "      <td>-0.014858</td>\n",
       "      <td>0.003183</td>\n",
       "      <td>1.000000</td>\n",
       "      <td>-0.011866</td>\n",
       "      <td>-0.009933</td>\n",
       "      <td>-0.007138</td>\n",
       "    </tr>\n",
       "    <tr>\n",
       "      <th>IsActiveMember</th>\n",
       "      <td>0.012044</td>\n",
       "      <td>0.001665</td>\n",
       "      <td>0.025651</td>\n",
       "      <td>0.085472</td>\n",
       "      <td>-0.032178</td>\n",
       "      <td>-0.010084</td>\n",
       "      <td>0.009612</td>\n",
       "      <td>-0.011866</td>\n",
       "      <td>1.000000</td>\n",
       "      <td>-0.011421</td>\n",
       "      <td>-0.156128</td>\n",
       "    </tr>\n",
       "    <tr>\n",
       "      <th>EstimatedSalary</th>\n",
       "      <td>-0.005988</td>\n",
       "      <td>0.015271</td>\n",
       "      <td>-0.001384</td>\n",
       "      <td>-0.007201</td>\n",
       "      <td>0.010520</td>\n",
       "      <td>0.012797</td>\n",
       "      <td>0.014204</td>\n",
       "      <td>-0.009933</td>\n",
       "      <td>-0.011421</td>\n",
       "      <td>1.000000</td>\n",
       "      <td>0.012097</td>\n",
       "    </tr>\n",
       "    <tr>\n",
       "      <th>Exited</th>\n",
       "      <td>-0.016571</td>\n",
       "      <td>-0.006248</td>\n",
       "      <td>-0.027094</td>\n",
       "      <td>0.285323</td>\n",
       "      <td>-0.016761</td>\n",
       "      <td>0.118533</td>\n",
       "      <td>-0.047820</td>\n",
       "      <td>-0.007138</td>\n",
       "      <td>-0.156128</td>\n",
       "      <td>0.012097</td>\n",
       "      <td>1.000000</td>\n",
       "    </tr>\n",
       "  </tbody>\n",
       "</table>\n",
       "</div>"
      ],
      "text/plain": [
       "                 RowNumber  CustomerId  CreditScore       Age    Tenure  \\\n",
       "RowNumber         1.000000    0.004202     0.005840  0.000783 -0.007322   \n",
       "CustomerId        0.004202    1.000000     0.005308  0.009497 -0.021418   \n",
       "CreditScore       0.005840    0.005308     1.000000 -0.003965 -0.000062   \n",
       "Age               0.000783    0.009497    -0.003965  1.000000 -0.013134   \n",
       "Tenure           -0.007322   -0.021418    -0.000062 -0.013134  1.000000   \n",
       "Balance          -0.009067   -0.012419     0.006268  0.028308 -0.007911   \n",
       "NumOfProducts     0.007246    0.016972     0.012238 -0.030680  0.011979   \n",
       "HasCrCard         0.000599   -0.014025    -0.005458 -0.011721  0.027232   \n",
       "IsActiveMember    0.012044    0.001665     0.025651  0.085472 -0.032178   \n",
       "EstimatedSalary  -0.005988    0.015271    -0.001384 -0.007201  0.010520   \n",
       "Exited           -0.016571   -0.006248    -0.027094  0.285323 -0.016761   \n",
       "\n",
       "                  Balance  NumOfProducts  HasCrCard  IsActiveMember  \\\n",
       "RowNumber       -0.009067       0.007246   0.000599        0.012044   \n",
       "CustomerId      -0.012419       0.016972  -0.014025        0.001665   \n",
       "CreditScore      0.006268       0.012238  -0.005458        0.025651   \n",
       "Age              0.028308      -0.030680  -0.011721        0.085472   \n",
       "Tenure          -0.007911       0.011979   0.027232       -0.032178   \n",
       "Balance          1.000000      -0.304180  -0.014858       -0.010084   \n",
       "NumOfProducts   -0.304180       1.000000   0.003183        0.009612   \n",
       "HasCrCard       -0.014858       0.003183   1.000000       -0.011866   \n",
       "IsActiveMember  -0.010084       0.009612  -0.011866        1.000000   \n",
       "EstimatedSalary  0.012797       0.014204  -0.009933       -0.011421   \n",
       "Exited           0.118533      -0.047820  -0.007138       -0.156128   \n",
       "\n",
       "                 EstimatedSalary    Exited  \n",
       "RowNumber              -0.005988 -0.016571  \n",
       "CustomerId              0.015271 -0.006248  \n",
       "CreditScore            -0.001384 -0.027094  \n",
       "Age                    -0.007201  0.285323  \n",
       "Tenure                  0.010520 -0.016761  \n",
       "Balance                 0.012797  0.118533  \n",
       "NumOfProducts           0.014204 -0.047820  \n",
       "HasCrCard              -0.009933 -0.007138  \n",
       "IsActiveMember         -0.011421 -0.156128  \n",
       "EstimatedSalary         1.000000  0.012097  \n",
       "Exited                  0.012097  1.000000  "
      ]
     },
     "execution_count": 8,
     "metadata": {},
     "output_type": "execute_result"
    }
   ],
   "source": [
    "df.corr()"
   ]
  },
  {
   "cell_type": "markdown",
   "metadata": {},
   "source": [
    "Sayang sekali, berdasarkan correlation matrix tidak ada parameter lain yang berkolerasi terhadap kolom Tenure. Nilai korelasi tertinggi yaitu dengan kolom IsActiveNumber yang isinya hanya nilai 1 dan 0 saja. Mari kita lihat distribusinya."
   ]
  },
  {
   "cell_type": "code",
   "execution_count": 9,
   "metadata": {},
   "outputs": [
    {
     "data": {
      "image/png": "[encoded data removed]",
      "text/plain": [
       "<Figure size 720x216 with 1 Axes>"
      ]
     },
     "metadata": {
      "needs_background": "light"
     },
     "output_type": "display_data"
    }
   ],
   "source": [
    "plt.figure(figsize=(10, 3))\n",
    "df.groupby('Tenure')['Age'].count().plot.bar()\n",
    "plt.show()"
   ]
  },
  {
   "cell_type": "code",
   "execution_count": 10,
   "metadata": {},
   "outputs": [
    {
     "name": "stdout",
     "output_type": "stream",
     "text": [
      "4.997690023099769\n",
      "5.0\n",
      "0    1.0\n",
      "dtype: float64\n"
     ]
    }
   ],
   "source": [
    "print(df['Tenure'].mean())\n",
    "print(df['Tenure'].median())\n",
    "print(df['Tenure'].mode())"
   ]
  },
  {
   "cell_type": "markdown",
   "metadata": {},
   "source": [
    "Dari histrogram di atas, data Tenure memiliki distribusi berbentuk Rectangular. Artinya, jumlah data untuk setiap bin sama banyak. Berdasarkan referensi yang saya baca, menggantinya dengan nilai mean atau median akan kurang valid. Sehingga untuk saat ini saya akan menghapus data yang hilang. Namun jika dikemudian hari saya menemukan pendekatan yang lebih baik, akan saya update lagi."
   ]
  },
  {
   "cell_type": "code",
   "execution_count": 11,
   "metadata": {},
   "outputs": [
    {
     "name": "stdout",
     "output_type": "stream",
     "text": [
      "<class 'pandas.core.frame.DataFrame'>\n",
      "Int64Index: 9091 entries, 0 to 9998\n",
      "Data columns (total 14 columns):\n",
      " #   Column           Non-Null Count  Dtype  \n",
      "---  ------           --------------  -----  \n",
      " 0   RowNumber        9091 non-null   int64  \n",
      " 1   CustomerId       9091 non-null   int64  \n",
      " 2   Surname          9091 non-null   object \n",
      " 3   CreditScore      9091 non-null   int64  \n",
      " 4   Geography        9091 non-null   object \n",
      " 5   Gender           9091 non-null   object \n",
      " 6   Age              9091 non-null   int64  \n",
      " 7   Tenure           9091 non-null   float64\n",
      " 8   Balance          9091 non-null   float64\n",
      " 9   NumOfProducts    9091 non-null   int64  \n",
      " 10  HasCrCard        9091 non-null   int64  \n",
      " 11  IsActiveMember   9091 non-null   int64  \n",
      " 12  EstimatedSalary  9091 non-null   float64\n",
      " 13  Exited           9091 non-null   int64  \n",
      "dtypes: float64(3), int64(8), object(3)\n",
      "memory usage: 1.0+ MB\n"
     ]
    }
   ],
   "source": [
    "df.dropna(subset=['Tenure'], inplace = True)\n",
    "df.info()"
   ]
  },
  {
   "cell_type": "markdown",
   "metadata": {},
   "source": [
    "Nilai hilang sudah berhasil teratasi, namun sedih data yang hilang lumayan banyak yaitu sebesar 9.09%!."
   ]
  },
  {
   "cell_type": "markdown",
   "metadata": {},
   "source": [
    "<div class=\"alert alert-success\">\n",
    "<b>Chamdani's comment v.1</b> <a class=\"tocSkip\"></a>\n",
    "\n",
    "Bagus, semua berjalan lancar.\n",
    "\n",
    "</div>"
   ]
  },
  {
   "cell_type": "markdown",
   "metadata": {},
   "source": [
    "### Mengatasi Kolom Kategorik"
   ]
  },
  {
   "cell_type": "markdown",
   "metadata": {},
   "source": [
    "Dari dataset yang dimiliki, terdapat beberapa kolom yang memuat data kategorik yang perlu kita olah yaitu RowNumber, CustomerId, Surname, Geography, dan Gender.\n",
    "\n",
    "Dari 5 kolom tersebut, kolom Row Number, CustomerId, dan Surname perlu kita hilangkan dari dataset karena akan menurunkan performa Machine Learning. Hal tersebut dikarenakan ketiga kolom tersebut tidak merepresentasikan sebuah \"perilaku\" hanya sebagai identitas yang nilainya tentu akan unique."
   ]
  },
  {
   "cell_type": "code",
   "execution_count": 12,
   "metadata": {},
   "outputs": [],
   "source": [
    "df.drop(['RowNumber','CustomerId','Surname'], axis = 1, inplace = True)"
   ]
  },
  {
   "cell_type": "markdown",
   "metadata": {},
   "source": [
    "Selanjutnya kita akan menginvestigasi kolom Geography dan Gender. Jika nilai uniknya tidak terlalu banyak kita bisa menggunakan One Hot Encoding."
   ]
  },
  {
   "cell_type": "code",
   "execution_count": 13,
   "metadata": {},
   "outputs": [
    {
     "data": {
      "text/plain": [
       "array(['France', 'Spain', 'Germany'], dtype=object)"
      ]
     },
     "execution_count": 13,
     "metadata": {},
     "output_type": "execute_result"
    }
   ],
   "source": [
    "df['Geography'].unique()"
   ]
  },
  {
   "cell_type": "code",
   "execution_count": 14,
   "metadata": {},
   "outputs": [
    {
     "data": {
      "text/plain": [
       "array(['Female', 'Male'], dtype=object)"
      ]
     },
     "execution_count": 14,
     "metadata": {},
     "output_type": "execute_result"
    }
   ],
   "source": [
    "df['Gender'].unique()"
   ]
  },
  {
   "cell_type": "markdown",
   "metadata": {},
   "source": [
    "Jumlah kategori pada kolom Geography dan Gender tidak banyak sehingga menggunakan OHE sudah cukup baik."
   ]
  },
  {
   "cell_type": "code",
   "execution_count": 15,
   "metadata": {},
   "outputs": [],
   "source": [
    "df_encoded = pd.get_dummies(df, drop_first=True)"
   ]
  },
  {
   "cell_type": "code",
   "execution_count": 16,
   "metadata": {},
   "outputs": [
    {
     "data": {
      "text/html": [
       "<div>\n",
       "<style scoped>\n",
       "    .dataframe tbody tr th:only-of-type {\n",
       "        vertical-align: middle;\n",
       "    }\n",
       "\n",
       "    .dataframe tbody tr th {\n",
       "        vertical-align: top;\n",
       "    }\n",
       "\n",
       "    .dataframe thead th {\n",
       "        text-align: right;\n",
       "    }\n",
       "</style>\n",
       "<table border=\"1\" class=\"dataframe\">\n",
       "  <thead>\n",
       "    <tr style=\"text-align: right;\">\n",
       "      <th></th>\n",
       "      <th>CreditScore</th>\n",
       "      <th>Age</th>\n",
       "      <th>Tenure</th>\n",
       "      <th>Balance</th>\n",
       "      <th>NumOfProducts</th>\n",
       "      <th>HasCrCard</th>\n",
       "      <th>IsActiveMember</th>\n",
       "      <th>EstimatedSalary</th>\n",
       "      <th>Exited</th>\n",
       "      <th>Geography_Germany</th>\n",
       "      <th>Geography_Spain</th>\n",
       "      <th>Gender_Male</th>\n",
       "    </tr>\n",
       "  </thead>\n",
       "  <tbody>\n",
       "    <tr>\n",
       "      <th>0</th>\n",
       "      <td>619</td>\n",
       "      <td>42</td>\n",
       "      <td>2.0</td>\n",
       "      <td>0.00</td>\n",
       "      <td>1</td>\n",
       "      <td>1</td>\n",
       "      <td>1</td>\n",
       "      <td>101348.88</td>\n",
       "      <td>1</td>\n",
       "      <td>0</td>\n",
       "      <td>0</td>\n",
       "      <td>0</td>\n",
       "    </tr>\n",
       "    <tr>\n",
       "      <th>1</th>\n",
       "      <td>608</td>\n",
       "      <td>41</td>\n",
       "      <td>1.0</td>\n",
       "      <td>83807.86</td>\n",
       "      <td>1</td>\n",
       "      <td>0</td>\n",
       "      <td>1</td>\n",
       "      <td>112542.58</td>\n",
       "      <td>0</td>\n",
       "      <td>0</td>\n",
       "      <td>1</td>\n",
       "      <td>0</td>\n",
       "    </tr>\n",
       "    <tr>\n",
       "      <th>2</th>\n",
       "      <td>502</td>\n",
       "      <td>42</td>\n",
       "      <td>8.0</td>\n",
       "      <td>159660.80</td>\n",
       "      <td>3</td>\n",
       "      <td>1</td>\n",
       "      <td>0</td>\n",
       "      <td>113931.57</td>\n",
       "      <td>1</td>\n",
       "      <td>0</td>\n",
       "      <td>0</td>\n",
       "      <td>0</td>\n",
       "    </tr>\n",
       "    <tr>\n",
       "      <th>3</th>\n",
       "      <td>699</td>\n",
       "      <td>39</td>\n",
       "      <td>1.0</td>\n",
       "      <td>0.00</td>\n",
       "      <td>2</td>\n",
       "      <td>0</td>\n",
       "      <td>0</td>\n",
       "      <td>93826.63</td>\n",
       "      <td>0</td>\n",
       "      <td>0</td>\n",
       "      <td>0</td>\n",
       "      <td>0</td>\n",
       "    </tr>\n",
       "    <tr>\n",
       "      <th>4</th>\n",
       "      <td>850</td>\n",
       "      <td>43</td>\n",
       "      <td>2.0</td>\n",
       "      <td>125510.82</td>\n",
       "      <td>1</td>\n",
       "      <td>1</td>\n",
       "      <td>1</td>\n",
       "      <td>79084.10</td>\n",
       "      <td>0</td>\n",
       "      <td>0</td>\n",
       "      <td>1</td>\n",
       "      <td>0</td>\n",
       "    </tr>\n",
       "  </tbody>\n",
       "</table>\n",
       "</div>"
      ],
      "text/plain": [
       "   CreditScore  Age  Tenure    Balance  NumOfProducts  HasCrCard  \\\n",
       "0          619   42     2.0       0.00              1          1   \n",
       "1          608   41     1.0   83807.86              1          0   \n",
       "2          502   42     8.0  159660.80              3          1   \n",
       "3          699   39     1.0       0.00              2          0   \n",
       "4          850   43     2.0  125510.82              1          1   \n",
       "\n",
       "   IsActiveMember  EstimatedSalary  Exited  Geography_Germany  \\\n",
       "0               1        101348.88       1                  0   \n",
       "1               1        112542.58       0                  0   \n",
       "2               0        113931.57       1                  0   \n",
       "3               0         93826.63       0                  0   \n",
       "4               1         79084.10       0                  0   \n",
       "\n",
       "   Geography_Spain  Gender_Male  \n",
       "0                0            0  \n",
       "1                1            0  \n",
       "2                0            0  \n",
       "3                0            0  \n",
       "4                1            0  "
      ]
     },
     "execution_count": 16,
     "metadata": {},
     "output_type": "execute_result"
    }
   ],
   "source": [
    "df_encoded.head()"
   ]
  },
  {
   "cell_type": "markdown",
   "metadata": {},
   "source": [
    "Kolom dengan data kategorik sudah berhasil diubah menjadi data numerik dengan menggunakan OHE!. drop_first digunakan untuk meningkatkan performa Machine Learning. Jika tidak dihilangkan, akan terbentuk kolom dengan korelasi tinggi yang akan membingungkan model ML. Contohnya pada kolom Gender_Male, sudah dipasikan apabila kolom tersebut berisi nilai 1 berarti bergender Male dan 0 akan bergender Female."
   ]
  },
  {
   "cell_type": "markdown",
   "metadata": {},
   "source": [
    "<div class=\"alert alert-success\">\n",
    "<b>Chamdani's comment v.1</b> <a class=\"tocSkip\"></a>\n",
    "\n",
    "Bagus, semua berjalan lancar.\n",
    "\n",
    "</div>"
   ]
  },
  {
   "cell_type": "markdown",
   "metadata": {},
   "source": [
    "### Penskalaan Fitur"
   ]
  },
  {
   "cell_type": "markdown",
   "metadata": {},
   "source": [
    "Selanjutnya kita akan melakukan penskalaan fitur pada data numerik. Kita tahu data numerik CreditScore, Age, Tenure, Balance, dan EstimatedSalary memiliki rentang nilai yang berbeda atau adanya dispersi. Dispersi ini dapat membuat Machine Learning mengira bahwa data dengan rentang nilai yang lebih besar lebih berharga dibandingkan data dengan rentang nilai yang kecil. Padahal secara aktual, kita ingin semua feature yang ada setara. Standarisasi skala dapat dilakukan dengan StandardScaller.\n",
    "\n",
    "Namun sebenarnya untuk metode Decision Tree atau Random Forest tidak terlalu dipengaruhi oleh skala data. Namun normalisasi skala pada data yang memiliki rentang skala yang sangat luas bisa jadi akan membantu meningkatkan performa model tersebut, walaupun bisa jadi tidak signifikan."
   ]
  },
  {
   "cell_type": "code",
   "execution_count": 17,
   "metadata": {},
   "outputs": [],
   "source": [
    "scaler  = StandardScaler()"
   ]
  },
  {
   "cell_type": "code",
   "execution_count": 18,
   "metadata": {},
   "outputs": [],
   "source": [
    "numeric = ['CreditScore', 'Age', 'Tenure', 'Balance','EstimatedSalary']\n",
    "df_scaled = df_encoded.copy()\n",
    "df_scaled[numeric] = scaler.fit_transform(df_encoded[numeric])"
   ]
  },
  {
   "cell_type": "code",
   "execution_count": 19,
   "metadata": {},
   "outputs": [
    {
     "data": {
      "text/html": [
       "<div>\n",
       "<style scoped>\n",
       "    .dataframe tbody tr th:only-of-type {\n",
       "        vertical-align: middle;\n",
       "    }\n",
       "\n",
       "    .dataframe tbody tr th {\n",
       "        vertical-align: top;\n",
       "    }\n",
       "\n",
       "    .dataframe thead th {\n",
       "        text-align: right;\n",
       "    }\n",
       "</style>\n",
       "<table border=\"1\" class=\"dataframe\">\n",
       "  <thead>\n",
       "    <tr style=\"text-align: right;\">\n",
       "      <th></th>\n",
       "      <th>CreditScore</th>\n",
       "      <th>Age</th>\n",
       "      <th>Tenure</th>\n",
       "      <th>Balance</th>\n",
       "      <th>NumOfProducts</th>\n",
       "      <th>HasCrCard</th>\n",
       "      <th>IsActiveMember</th>\n",
       "      <th>EstimatedSalary</th>\n",
       "      <th>Exited</th>\n",
       "      <th>Geography_Germany</th>\n",
       "      <th>Geography_Spain</th>\n",
       "      <th>Gender_Male</th>\n",
       "    </tr>\n",
       "  </thead>\n",
       "  <tbody>\n",
       "    <tr>\n",
       "      <th>0</th>\n",
       "      <td>-0.329200</td>\n",
       "      <td>0.289040</td>\n",
       "      <td>-1.035627</td>\n",
       "      <td>-1.227780</td>\n",
       "      <td>1</td>\n",
       "      <td>1</td>\n",
       "      <td>1</td>\n",
       "      <td>0.020264</td>\n",
       "      <td>1</td>\n",
       "      <td>0</td>\n",
       "      <td>0</td>\n",
       "      <td>0</td>\n",
       "    </tr>\n",
       "    <tr>\n",
       "      <th>1</th>\n",
       "      <td>-0.443301</td>\n",
       "      <td>0.194298</td>\n",
       "      <td>-1.381103</td>\n",
       "      <td>0.116887</td>\n",
       "      <td>1</td>\n",
       "      <td>0</td>\n",
       "      <td>1</td>\n",
       "      <td>0.214527</td>\n",
       "      <td>0</td>\n",
       "      <td>0</td>\n",
       "      <td>1</td>\n",
       "      <td>0</td>\n",
       "    </tr>\n",
       "    <tr>\n",
       "      <th>2</th>\n",
       "      <td>-1.542828</td>\n",
       "      <td>0.289040</td>\n",
       "      <td>1.037224</td>\n",
       "      <td>1.333920</td>\n",
       "      <td>3</td>\n",
       "      <td>1</td>\n",
       "      <td>0</td>\n",
       "      <td>0.238632</td>\n",
       "      <td>1</td>\n",
       "      <td>0</td>\n",
       "      <td>0</td>\n",
       "      <td>0</td>\n",
       "    </tr>\n",
       "    <tr>\n",
       "      <th>3</th>\n",
       "      <td>0.500631</td>\n",
       "      <td>0.004815</td>\n",
       "      <td>-1.381103</td>\n",
       "      <td>-1.227780</td>\n",
       "      <td>2</td>\n",
       "      <td>0</td>\n",
       "      <td>0</td>\n",
       "      <td>-0.110281</td>\n",
       "      <td>0</td>\n",
       "      <td>0</td>\n",
       "      <td>0</td>\n",
       "      <td>0</td>\n",
       "    </tr>\n",
       "    <tr>\n",
       "      <th>4</th>\n",
       "      <td>2.066937</td>\n",
       "      <td>0.383782</td>\n",
       "      <td>-1.035627</td>\n",
       "      <td>0.785996</td>\n",
       "      <td>1</td>\n",
       "      <td>1</td>\n",
       "      <td>1</td>\n",
       "      <td>-0.366132</td>\n",
       "      <td>0</td>\n",
       "      <td>0</td>\n",
       "      <td>1</td>\n",
       "      <td>0</td>\n",
       "    </tr>\n",
       "  </tbody>\n",
       "</table>\n",
       "</div>"
      ],
      "text/plain": [
       "   CreditScore       Age    Tenure   Balance  NumOfProducts  HasCrCard  \\\n",
       "0    -0.329200  0.289040 -1.035627 -1.227780              1          1   \n",
       "1    -0.443301  0.194298 -1.381103  0.116887              1          0   \n",
       "2    -1.542828  0.289040  1.037224  1.333920              3          1   \n",
       "3     0.500631  0.004815 -1.381103 -1.227780              2          0   \n",
       "4     2.066937  0.383782 -1.035627  0.785996              1          1   \n",
       "\n",
       "   IsActiveMember  EstimatedSalary  Exited  Geography_Germany  \\\n",
       "0               1         0.020264       1                  0   \n",
       "1               1         0.214527       0                  0   \n",
       "2               0         0.238632       1                  0   \n",
       "3               0        -0.110281       0                  0   \n",
       "4               1        -0.366132       0                  0   \n",
       "\n",
       "   Geography_Spain  Gender_Male  \n",
       "0                0            0  \n",
       "1                1            0  \n",
       "2                0            0  \n",
       "3                0            0  \n",
       "4                1            0  "
      ]
     },
     "execution_count": 19,
     "metadata": {},
     "output_type": "execute_result"
    }
   ],
   "source": [
    "df_scaled.head()"
   ]
  },
  {
   "cell_type": "markdown",
   "metadata": {},
   "source": [
    "Untuk kolom NumOfProducts, HasCrCard, IsActiveMember, dll tidak perlu dilakukan standard scaler karena data tersebut meski memuat data numeris tetapi tipe datanya kategorik dengan nilai 1 atau 0 sehingga tidak perlu dilakukan penskalaan.\n",
    "\n",
    "Secara overal, data sudah siap untuk selanjutnya digunakan untuk pembuatan model Machine Learning."
   ]
  },
  {
   "cell_type": "markdown",
   "metadata": {},
   "source": [
    "<div class=\"alert alert-success\">\n",
    "<b>Chamdani's comment v.1</b> <a class=\"tocSkip\"></a>\n",
    "\n",
    "Bagus, semua berjalan lancar.\n",
    "\n",
    "</div>"
   ]
  },
  {
   "cell_type": "markdown",
   "metadata": {},
   "source": [
    "## Pemodelan Machine Learning"
   ]
  },
  {
   "cell_type": "markdown",
   "metadata": {},
   "source": [
    "Strategi yang akan saya gunakan untuk membuat model Machine Learning ini yaitu dengan menemukan model terbaik pada 3 model ML Klasifikasi yaitu Decision Tree, Random Forest, dan Logistic Regression dengan menggunakan Data tanpa Penyeimbangan Data. Selanjutnya model terbaik dengan hasil tuning hyperparameter paling optimal akan digunakan untuk mengolah Data dengan Penyeimbangan Data. Untuk membandingkan apakah dengan melakukan balancing akan meningkatkan kualitas ML atau tidak.\n",
    "\n",
    "Selanjutnya bisa jadi hyperparameter perlu di Tuning ulang karena bisa jadi hyperparameter optimalnya berubah untuk dataset yang sudah di Balancing. Selain itu, kita akan melakukan performa Model yang telah dibuat dengan berbagai metriks."
   ]
  },
  {
   "cell_type": "markdown",
   "metadata": {},
   "source": [
    "### Training, Validation dan Test Dataset"
   ]
  },
  {
   "cell_type": "markdown",
   "metadata": {},
   "source": [
    "Sesuai dengan tujuan dari Project ini yaitu menentukan pelanggan yang akan bertahan atau tidak yang dapat kita lihat pada kolom Exited. Sehingga kolom tersebut digunakan sebagai data target. Sedangkan sisanya akan menjadi data feature.\n",
    "\n",
    "Pemisahan Data Training, Feature, dan Test menggunakan komposisi 75% (Training), 15% (Validation), dan 10% (Test)."
   ]
  },
  {
   "cell_type": "code",
   "execution_count": 20,
   "metadata": {},
   "outputs": [],
   "source": [
    "features = df_scaled.drop(['Exited'], axis = 1)\n",
    "target = df_scaled['Exited']"
   ]
  },
  {
   "cell_type": "code",
   "execution_count": 21,
   "metadata": {},
   "outputs": [
    {
     "name": "stdout",
     "output_type": "stream",
     "text": [
      "(9091, 11)\n",
      "(9091,)\n"
     ]
    }
   ],
   "source": [
    "print(features.shape)\n",
    "print(target.shape)"
   ]
  },
  {
   "cell_type": "code",
   "execution_count": 22,
   "metadata": {},
   "outputs": [],
   "source": [
    "features_train, features_rest, target_train, target_rest = train_test_split(features, target, test_size = 0.25, random_state = 54321)\n",
    "features_valid, features_test, target_valid, target_test = train_test_split(features_rest, target_rest, test_size = 0.4, random_state = 54321)"
   ]
  },
  {
   "cell_type": "code",
   "execution_count": 23,
   "metadata": {},
   "outputs": [
    {
     "name": "stdout",
     "output_type": "stream",
     "text": [
      "Ukuran train dataset adalah 75 %\n",
      "Ukuran valid dataset adalah 15 %\n",
      "Ukuran test dataset adalah 10 %\n"
     ]
    }
   ],
   "source": [
    "print('Ukuran train dataset adalah',round(len(features_train)/len(features)*100),'%')\n",
    "print('Ukuran valid dataset adalah',round(len(features_valid)/len(features)*100),'%')\n",
    "print('Ukuran test dataset adalah',round(len(features_test)/len(features)*100),'%')"
   ]
  },
  {
   "cell_type": "markdown",
   "metadata": {},
   "source": [
    "Data sudah terbagi dengan komposisi yang sesuai!."
   ]
  },
  {
   "cell_type": "markdown",
   "metadata": {},
   "source": [
    "<div class=\"alert alert-success\">\n",
    "<b>Chamdani's comment v.1</b> <a class=\"tocSkip\"></a>\n",
    "\n",
    "Bagus, semua berjalan lancar.\n",
    "\n",
    "</div>"
   ]
  },
  {
   "cell_type": "markdown",
   "metadata": {},
   "source": [
    "### Pemodelan Machine Learning dengan Data tanpa Penyeimbangan Data"
   ]
  },
  {
   "cell_type": "markdown",
   "metadata": {},
   "source": [
    "Tipe data target yang akan diprediksi adalah kategorik, sehingga model yang bisa digunakan adalah Decision Tree, Random Forest, dan Logistic Regression. Untuk selanjutnya saya akan melakukan proses tuning untuk ketiga model tersebut dan mengambil model yang memberikan performa terbaik."
   ]
  },
  {
   "cell_type": "markdown",
   "metadata": {},
   "source": [
    "#### Baseline"
   ]
  },
  {
   "cell_type": "code",
   "execution_count": 24,
   "metadata": {},
   "outputs": [
    {
     "name": "stdout",
     "output_type": "stream",
     "text": [
      "Akurasi yang didapatkan adalah 20.102714600146733\n",
      "Presisi yang didapatkan adalah 20.102714600146733\n",
      "Recall yang didapatkan adalah 100.0\n",
      "Nilai F1 yang didapatkan adalah 33.475870494807566\n"
     ]
    }
   ],
   "source": [
    "print(f'Akurasi yang didapatkan adalah {accuracy_score(target_valid, [1]*len(target_valid))*100}')\n",
    "print(f'Presisi yang didapatkan adalah {precision_score(target_valid, [1]*len(target_valid))*100}')\n",
    "print(f'Recall yang didapatkan adalah {recall_score(target_valid, [1]*len(target_valid))*100}')\n",
    "print(f'Nilai F1 yang didapatkan adalah {f1_score(target_valid, [1]*len(target_valid))*100}')"
   ]
  },
  {
   "cell_type": "code",
   "execution_count": 25,
   "metadata": {},
   "outputs": [
    {
     "data": {
      "image/png": "[encoded data removed]",
      "text/plain": [
       "<Figure size 432x288 with 2 Axes>"
      ]
     },
     "metadata": {
      "needs_background": "light"
     },
     "output_type": "display_data"
    }
   ],
   "source": [
    "con_dt = confusion_matrix(target_valid,[1]*len(target_valid))\n",
    "disp = ConfusionMatrixDisplay(confusion_matrix=con_dt)\n",
    "disp.plot()\n",
    "plt.title('Model: Decision Tree')\n",
    "plt.xlabel('Prediksi')\n",
    "plt.ylabel('Aktual')\n",
    "plt.show()"
   ]
  },
  {
   "cell_type": "markdown",
   "metadata": {},
   "source": [
    "Akurasi baselinenya cukup besar yaitu 79%. Sudah terlihat data yang kita miliki tidak seimbang."
   ]
  },
  {
   "cell_type": "code",
   "execution_count": 26,
   "metadata": {},
   "outputs": [
    {
     "data": {
      "image/png": "[encoded data removed]",
      "text/plain": [
       "<Figure size 432x288 with 1 Axes>"
      ]
     },
     "metadata": {
      "needs_background": "light"
     },
     "output_type": "display_data"
    }
   ],
   "source": [
    "target.value_counts().plot.bar()\n",
    "plt.grid()\n",
    "plt.show()"
   ]
  },
  {
   "cell_type": "markdown",
   "metadata": {},
   "source": [
    "Data kita memang tidak balance, seharusnya pelatihan machine learning dengan balancing data akan memberikan hasil yang lebih baik, terutama untuk proses training model."
   ]
  },
  {
   "cell_type": "markdown",
   "metadata": {},
   "source": [
    "<div class=\"alert alert-success\">\n",
    "<b>Chamdani's comment v.1</b> <a class=\"tocSkip\"></a>\n",
    "\n",
    "Bagus, semua berjalan lancar.\n",
    "\n",
    "</div>"
   ]
  },
  {
   "cell_type": "markdown",
   "metadata": {},
   "source": [
    "#### Model Decision Tree"
   ]
  },
  {
   "cell_type": "markdown",
   "metadata": {},
   "source": [
    "Pada pemodelan Machine Learning dengan Decision Tree, Hyperparameter yang akan saya optimasikan adalah max_depth dan criterion. Max depth divariasikan dari rentang nilai 1 hingga 6. Untuk criterion saya akan memilih yang terbaik antara 'gini' dan 'entropy'."
   ]
  },
  {
   "cell_type": "code",
   "execution_count": 27,
   "metadata": {},
   "outputs": [
    {
     "name": "stdout",
     "output_type": "stream",
     "text": [
      "Max_depth terbaik adalah 5 dan criterion terbaik adalah entropy dengan akurasi dataset test adalah 86.94057226705796\n"
     ]
    }
   ],
   "source": [
    "best_dt_depth = 0\n",
    "best_dt_accuracy = 0\n",
    "best_dt_model = None\n",
    "for depth in range(1,7):\n",
    "    for crit in ['gini','entropy']:\n",
    "        model_dt = DecisionTreeClassifier(random_state=54321, max_depth=depth, criterion = crit)\n",
    "        model_dt.fit(features_train,target_train)\n",
    "        prediction_dt_valid = model_dt.predict(features_valid)\n",
    "        akurasi = accuracy_score(target_valid, prediction_dt_valid)\n",
    "        if akurasi > best_dt_accuracy:\n",
    "            best_dt_depth = depth\n",
    "            beest_dt_crit = crit\n",
    "            best_dt_accuracy = akurasi\n",
    "            best_dt_model = model_dt\n",
    "print(f'Max_depth terbaik adalah {best_dt_depth} dan criterion terbaik adalah {crit} dengan akurasi dataset test adalah',best_dt_accuracy*100)"
   ]
  },
  {
   "cell_type": "markdown",
   "metadata": {},
   "source": [
    "Akurasi yang cukup fantastis! terjadi peningkatkan sebesar7% dari akurasi baseline-nya. Mari kita lihat confusion matrix-nya."
   ]
  },
  {
   "cell_type": "code",
   "execution_count": 28,
   "metadata": {},
   "outputs": [
    {
     "data": {
      "image/png": "[encoded data removed]",
      "text/plain": [
       "<Figure size 432x288 with 2 Axes>"
      ]
     },
     "metadata": {
      "needs_background": "light"
     },
     "output_type": "display_data"
    }
   ],
   "source": [
    "con_dt = confusion_matrix(target_valid, best_dt_model.predict(features_valid))\n",
    "disp = ConfusionMatrixDisplay(confusion_matrix=con_dt)\n",
    "disp.plot()\n",
    "plt.title('Model: Decision Tree')\n",
    "plt.xlabel('Prediksi')\n",
    "plt.ylabel('Aktual')\n",
    "plt.show()"
   ]
  },
  {
   "cell_type": "markdown",
   "metadata": {},
   "source": [
    "Selanjutnya yaitu menghitung nilai metrik akurais, presisi, recall, dan f1 Untuk data Training."
   ]
  },
  {
   "cell_type": "code",
   "execution_count": 29,
   "metadata": {},
   "outputs": [
    {
     "name": "stdout",
     "output_type": "stream",
     "text": [
      "Metrik untuk data training:\n",
      "Akurasi yang didapatkan adalah 85.80228806101496\n",
      "Presisi yang didapatkan adalah 79.33042212518195\n",
      "Recall yang didapatkan adalah 39.752005835156815\n",
      "Nilai F1 yang didapatkan adalah 52.964042759961124\n"
     ]
    }
   ],
   "source": [
    "print('Metrik untuk data training:')\n",
    "print(f'Akurasi yang didapatkan adalah {accuracy_score(target_train, best_dt_model.predict(features_train))*100}')\n",
    "print(f'Presisi yang didapatkan adalah {precision_score(target_train, best_dt_model.predict(features_train))*100}')\n",
    "print(f'Recall yang didapatkan adalah {recall_score(target_train, best_dt_model.predict(features_train))*100}')\n",
    "print(f'Nilai F1 yang didapatkan adalah {f1_score(target_train, best_dt_model.predict(features_train))*100}')"
   ]
  },
  {
   "cell_type": "code",
   "execution_count": 30,
   "metadata": {},
   "outputs": [
    {
     "name": "stdout",
     "output_type": "stream",
     "text": [
      "Metrik untuk data validation:\n",
      "Akurasi yang didapatkan adalah 86.94057226705796\n",
      "Presisi yang didapatkan adalah 82.43243243243244\n",
      "Recall yang didapatkan adalah 44.52554744525548\n",
      "Nilai F1 yang didapatkan adalah 57.81990521327014\n"
     ]
    }
   ],
   "source": [
    "print('Metrik untuk data validation:')\n",
    "print(f'Akurasi yang didapatkan adalah {accuracy_score(target_valid, best_dt_model.predict(features_valid))*100}')\n",
    "print(f'Presisi yang didapatkan adalah {precision_score(target_valid, best_dt_model.predict(features_valid))*100}')\n",
    "print(f'Recall yang didapatkan adalah {recall_score(target_valid, best_dt_model.predict(features_valid))*100}')\n",
    "print(f'Nilai F1 yang didapatkan adalah {f1_score(target_valid, best_dt_model.predict(features_valid))*100}')"
   ]
  },
  {
   "cell_type": "markdown",
   "metadata": {},
   "source": [
    "<div class=\"alert alert-success\">\n",
    "<b>Chamdani's comment v.1</b> <a class=\"tocSkip\"></a>\n",
    "\n",
    "Bagus, semua berjalan lancar.\n",
    "\n",
    "</div>"
   ]
  },
  {
   "cell_type": "markdown",
   "metadata": {},
   "source": [
    "#### Model Random Forest"
   ]
  },
  {
   "cell_type": "markdown",
   "metadata": {},
   "source": [
    "Pemodelan Random Forest menggunakan hyperparameter random_state, max_depth, dan n_estimators, Nilai n_estimators akan divariasikan dari 50 hingga 300 dengan kelipatan 15. Nilai max_depth akan divariasikan dari 1 hingga 6, serta criterion 'gini' atau 'entropy'."
   ]
  },
  {
   "cell_type": "code",
   "execution_count": 31,
   "metadata": {},
   "outputs": [],
   "source": [
    "best_rt_model = None\n",
    "best_rf_accuracy = 0\n",
    "best_nt = 0\n",
    "best_rf_depth = 0\n",
    "best_rf_crit = None\n",
    "for nt in range(60,300,5):\n",
    "    for depth in range(1,7):\n",
    "        for crit in ['gini','entropy']:\n",
    "            model_rf = RandomForestClassifier(random_state = 54321, criterion=crit, n_estimators = nt, max_depth = depth)\n",
    "            model_rf.fit(features_train, target_train)\n",
    "            predictions_rf_valid = model_rf.predict(features_valid)\n",
    "            akurasi = accuracy_score(target_valid, predictions_rf_valid)\n",
    "            if akurasi > best_rf_accuracy:\n",
    "                best_rf_model = model_rf\n",
    "                best_rf_accuracy = akurasi\n",
    "                best_rt_nt = nt\n",
    "                best_rf_depth = depth\n",
    "                best_rf_crit = crit\n"
   ]
  },
  {
   "cell_type": "code",
   "execution_count": 32,
   "metadata": {},
   "outputs": [
    {
     "name": "stdout",
     "output_type": "stream",
     "text": [
      "max depth terbaik adalah  5\n",
      "criterion terbaik adalah  gini\n",
      "n_estimators terbaik adalah  75\n",
      "akurasi yang diperoleh adalah 87.2340425531915\n"
     ]
    }
   ],
   "source": [
    "print(f'max depth terbaik adalah ', best_rf_depth)\n",
    "print(f'criterion terbaik adalah ', best_rf_crit)\n",
    "print(f'n_estimators terbaik adalah ', best_rt_nt)\n",
    "print(f'akurasi yang diperoleh adalah',best_rf_accuracy*100)"
   ]
  },
  {
   "cell_type": "markdown",
   "metadata": {},
   "source": [
    "Mari kita lihat confussion matrix-nya serta metrik lain."
   ]
  },
  {
   "cell_type": "code",
   "execution_count": 33,
   "metadata": {},
   "outputs": [
    {
     "data": {
      "image/png": "[encoded data removed]",
      "text/plain": [
       "<Figure size 432x288 with 2 Axes>"
      ]
     },
     "metadata": {
      "needs_background": "light"
     },
     "output_type": "display_data"
    }
   ],
   "source": [
    "con_rf = confusion_matrix(target_valid, best_rf_model.predict(features_valid))\n",
    "disp = ConfusionMatrixDisplay(confusion_matrix=con_rf)\n",
    "disp.plot()\n",
    "plt.title('Model: Random Forest')\n",
    "plt.xlabel('Prediksi')\n",
    "plt.ylabel('Aktual')\n",
    "plt.show()"
   ]
  },
  {
   "cell_type": "code",
   "execution_count": 34,
   "metadata": {},
   "outputs": [
    {
     "name": "stdout",
     "output_type": "stream",
     "text": [
      "Akurasi yang didapatkan adalah 85.99295981226166\n",
      "Presisi yang didapatkan adalah 85.49488054607508\n",
      "Recall yang didapatkan adalah 36.542669584245075\n",
      "Nilai F1 yang didapatkan adalah 51.200817577925385\n"
     ]
    }
   ],
   "source": [
    "print(f'Akurasi yang didapatkan adalah {accuracy_score(target_train, best_rf_model.predict(features_train))*100}')\n",
    "print(f'Presisi yang didapatkan adalah {precision_score(target_train, best_rf_model.predict(features_train))*100}')\n",
    "print(f'Recall yang didapatkan adalah {recall_score(target_train, best_rf_model.predict(features_train))*100}')\n",
    "print(f'Nilai F1 yang didapatkan adalah {f1_score(target_train, best_rf_model.predict(features_train))*100}')"
   ]
  },
  {
   "cell_type": "code",
   "execution_count": 35,
   "metadata": {},
   "outputs": [
    {
     "name": "stdout",
     "output_type": "stream",
     "text": [
      "Akurasi yang didapatkan adalah 87.2340425531915\n",
      "Presisi yang didapatkan adalah 89.0625\n",
      "Recall yang didapatkan adalah 41.605839416058394\n",
      "Nilai F1 yang didapatkan adalah 56.71641791044776\n"
     ]
    }
   ],
   "source": [
    "print(f'Akurasi yang didapatkan adalah {accuracy_score(target_valid, best_rf_model.predict(features_valid))*100}')\n",
    "print(f'Presisi yang didapatkan adalah {precision_score(target_valid, best_rf_model.predict(features_valid))*100}')\n",
    "print(f'Recall yang didapatkan adalah {recall_score(target_valid, best_rf_model.predict(features_valid))*100}')\n",
    "print(f'Nilai F1 yang didapatkan adalah {f1_score(target_valid, best_rf_model.predict(features_valid))*100}')"
   ]
  },
  {
   "cell_type": "markdown",
   "metadata": {},
   "source": [
    "<div class=\"alert alert-success\">\n",
    "<b>Chamdani's comment v.1</b> <a class=\"tocSkip\"></a>\n",
    "\n",
    "Bagus, semua berjalan lancar.\n",
    "\n",
    "</div>"
   ]
  },
  {
   "cell_type": "markdown",
   "metadata": {},
   "source": [
    "#### Model Logistic Regression"
   ]
  },
  {
   "cell_type": "markdown",
   "metadata": {},
   "source": [
    "Jenis model terakhir yang akan kita uji adalah Logistic Regression. Pada model ini, hyperparameter yang digunakan adalah jumlah maksimum iterasi dan solver yang digunakan. Berikut adalah metode solver yang dapat digunakan:\n",
    "1. \"liblinear\" : Cocok untuk dataset dengan ukuran small - medium.\n",
    "2. \"lbfgs\" : Cocok untuk dataset ukuran  kecil = medium. Performa lambat untuk data besar, dan kurang bagus untuk data dengan banyak feature.\n",
    "3. \"newton-cg\" : Cocok untuk dataset besar, namun lambat.\n",
    "4. \"sag\" : Cocok untuk dataset besar, lambat untuk dataset kecil - medium\n",
    "5. \"saga\" : Eficient untuk dataset besar, lambat untuk dataset kecil. Namun bagus untuk kompleksitar besar.\n",
    "\n",
    "Berdasarkan kelebihan dan kekurangan yang dimiliki masing-masing solver. Saya akan mencoba solver \"liblnear\" , \"lbfgs\", dan \"saga\". Liblinear merupakan solver paling umum digunakan, karena feature di dataset yang dimiliki sedikit mungkin solver lbfgs dapat menghasilkan prediksi yang baik, supaya jumlah model yang diuji ganjil saya pilih solver saga untuk meramaikan pertarungan!.\n",
    "\n",
    "Jumlah maksimum iterasi akan saya set tetap di 500 iterasi."
   ]
  },
  {
   "cell_type": "code",
   "execution_count": 36,
   "metadata": {},
   "outputs": [
    {
     "name": "stdout",
     "output_type": "stream",
     "text": [
      "0.8143800440205429 liblinear\n",
      "0.8136463683052091 lbfgs\n",
      "0.8136463683052091 saga\n",
      "Solver terbaik adalah liblinear dengan akurasi dataset test adalah 81.43800440205429\n"
     ]
    }
   ],
   "source": [
    "best_lr_model = None\n",
    "best_lr_accuracy = 0\n",
    "best_lr = 0\n",
    "best_lr_solver = None\n",
    "akurasi = 0\n",
    "for  solv in [\"liblinear\", \"lbfgs\", \"saga\"]:\n",
    "    model_lr = LogisticRegression(max_iter = 5000, solver = solv, random_state = 54321)\n",
    "    model_lr.fit(features_train,target_train)\n",
    "    prediction_lr_valid = model_lr.predict(features_valid)\n",
    "    akurasi = accuracy_score(target_valid, prediction_lr_valid)\n",
    "    print(akurasi, solv)\n",
    "    if akurasi > best_lr_accuracy:\n",
    "        best_lr_solver = solv\n",
    "        best_lr_accuracy = akurasi\n",
    "        best_lr_model = model_lr\n",
    "print(f'Solver terbaik adalah {best_lr_solver} dengan akurasi dataset test adalah',best_lr_accuracy*100)"
   ]
  },
  {
   "cell_type": "code",
   "execution_count": 37,
   "metadata": {},
   "outputs": [
    {
     "data": {
      "image/png": "[encoded data removed]",
      "text/plain": [
       "<Figure size 432x288 with 2 Axes>"
      ]
     },
     "metadata": {
      "needs_background": "light"
     },
     "output_type": "display_data"
    }
   ],
   "source": [
    "con_lr = confusion_matrix(target_valid, best_lr_model.predict(features_valid))\n",
    "disp = ConfusionMatrixDisplay(confusion_matrix=con_lr)\n",
    "disp.plot()\n",
    "plt.title('Model: Logistic Regression')\n",
    "plt.xlabel('Prediksi')\n",
    "plt.ylabel('Aktual')\n",
    "plt.show()"
   ]
  },
  {
   "cell_type": "code",
   "execution_count": 38,
   "metadata": {},
   "outputs": [
    {
     "name": "stdout",
     "output_type": "stream",
     "text": [
      "Akurasi yang didapatkan adalah 81.2995013200352\n",
      "Presisi yang didapatkan adalah 59.48616600790514\n",
      "Recall yang didapatkan adalah 21.954777534646244\n",
      "Nilai F1 yang didapatkan adalah 32.072456046883325\n"
     ]
    }
   ],
   "source": [
    "print(f'Akurasi yang didapatkan adalah {accuracy_score(target_train, best_lr_model.predict(features_train))*100}')\n",
    "print(f'Presisi yang didapatkan adalah {precision_score(target_train, best_lr_model.predict(features_train))*100}')\n",
    "print(f'Recall yang didapatkan adalah {recall_score(target_train, best_lr_model.predict(features_train))*100}')\n",
    "print(f'Nilai F1 yang didapatkan adalah {f1_score(target_train, best_lr_model.predict(features_train))*100}')"
   ]
  },
  {
   "cell_type": "code",
   "execution_count": 39,
   "metadata": {},
   "outputs": [
    {
     "name": "stdout",
     "output_type": "stream",
     "text": [
      "Akurasi yang didapatkan adalah 81.43800440205429\n",
      "Presisi yang didapatkan adalah 59.813084112149525\n",
      "Recall yang didapatkan adalah 23.357664233576642\n",
      "Nilai F1 yang didapatkan adalah 33.595800524934376\n"
     ]
    }
   ],
   "source": [
    "print(f'Akurasi yang didapatkan adalah {accuracy_score(target_valid, best_lr_model.predict(features_valid))*100}')\n",
    "print(f'Presisi yang didapatkan adalah {precision_score(target_valid, best_lr_model.predict(features_valid))*100}')\n",
    "print(f'Recall yang didapatkan adalah {recall_score(target_valid, best_lr_model.predict(features_valid))*100}')\n",
    "print(f'Nilai F1 yang didapatkan adalah {f1_score(target_valid, best_lr_model.predict(features_valid))*100}')"
   ]
  },
  {
   "cell_type": "markdown",
   "metadata": {},
   "source": [
    "<div class=\"alert alert-success\">\n",
    "<b>Chamdani's comment v.1</b> <a class=\"tocSkip\"></a>\n",
    "\n",
    "Bagus, semua berjalan lancar.\n",
    "\n",
    "</div>"
   ]
  },
  {
   "cell_type": "markdown",
   "metadata": {},
   "source": [
    "#### Cross Validation"
   ]
  },
  {
   "cell_type": "code",
   "execution_count": 40,
   "metadata": {},
   "outputs": [],
   "source": [
    "def train_acc(X, y, model):    \n",
    "    k = 5\n",
    "    cross_val = StratifiedKFold(n_splits=k, random_state = 54321, shuffle = True)\n",
    "    \n",
    "    cv_scores = cross_val_score(\n",
    "        model, X, y,\n",
    "        cv=cross_val, scoring=\"accuracy\"\n",
    "    )\n",
    "\n",
    "    return cv_scores\n",
    "def train_recall(X, y, model):    \n",
    "    k = 5\n",
    "    cross_val = StratifiedKFold(n_splits=k, random_state = 54321, shuffle = True)\n",
    "    \n",
    "    cv_scores = cross_val_score(\n",
    "        model, X, y,\n",
    "        cv=cross_val, scoring=\"recall\"\n",
    "    )\n",
    "\n",
    "    return cv_scores"
   ]
  },
  {
   "cell_type": "code",
   "execution_count": 41,
   "metadata": {},
   "outputs": [
    {
     "name": "stdout",
     "output_type": "stream",
     "text": [
      "DT Cross-validation recall: 0.379\n",
      "RF Cross-validation recall: 0.383\n",
      "LR Cross-validation recall: 0.197\n",
      "DT Cross-validation acc: 0.85\n",
      "RF Cross-validation acc: 0.863\n",
      "LR Cross-validation acc: 0.814\n"
     ]
    }
   ],
   "source": [
    "score_dt_recall = train_recall(features_valid, target_valid, best_dt_model)\n",
    "print(\"DT Cross-validation recall:\", score_dt_recall.mean().round(3))\n",
    "score_rf_recall = train_recall(features_valid, target_valid, best_rf_model)\n",
    "print(\"RF Cross-validation recall:\", score_rf_recall.mean().round(3))\n",
    "score_lr_recall = train_recall(features_valid, target_valid, best_lr_model)\n",
    "print(\"LR Cross-validation recall:\", score_lr_recall.mean().round(3))\n",
    "\n",
    "score_dt_acc = train_acc(features_valid, target_valid, best_dt_model)\n",
    "print(\"DT Cross-validation acc:\", score_dt_acc.mean().round(3))\n",
    "score_rf_acc = train_acc(features_valid, target_valid, best_rf_model)\n",
    "print(\"RF Cross-validation acc:\", score_rf_acc.mean().round(3))\n",
    "score_lr_acc = train_acc(features_valid, target_valid, best_lr_model)\n",
    "print(\"LR Cross-validation acc:\", score_lr_acc.mean().round(3))\n"
   ]
  },
  {
   "cell_type": "markdown",
   "metadata": {},
   "source": [
    "Berdasarkan hasil analisa cross validation di atas, model RF memberikan hasil yang lebih baik dalam hal konsistensi nilai recall yaitu bernilai 0.383 disusul oleh model DT sebeasr 0.379 (selisih 0.004).\n",
    "\n",
    "Sedangkan untuk metrik akurasi model RF memberikan nilai sebesar 0.863 disusul oleh model DT sebesar 0.850 (selisih 0.013)."
   ]
  },
  {
   "cell_type": "markdown",
   "metadata": {},
   "source": [
    "<div class=\"alert alert-success\">\n",
    "<b>Chamdani's comment v.1</b> <a class=\"tocSkip\"></a>\n",
    "\n",
    "Bagus, semua berjalan lancar.\n",
    "\n",
    "</div>"
   ]
  },
  {
   "cell_type": "markdown",
   "metadata": {},
   "source": [
    "### Pemodelan ML dengan Data dengan Penyeimbangan Data"
   ]
  },
  {
   "cell_type": "markdown",
   "metadata": {},
   "source": [
    "Berdasarkan hasil penentuan model pada Data tanpa Balancing, dipilih model yang paling sesuai adalah Random Forest dengan pertimbangan sebagai berikut:\n",
    "1. Model Random Forest memiliki akurasi yang paling tinggi dari model Decision Tree dan Logistic Regression.\n",
    "2. Tujuan dari pembuatan model adalah untuk mendapatkan sebanyak mungkin nasabah yang setia, oleh karena itu metrik lain yang penting untuk dievaluasi adalah Recall. Target kita yaudah meminimalisir nilai False Negative (FN) karena semakin besar FN maka akan semakin banyak nasabah yang sebenarnya akan setia tapi diprediksi akan keluar. Dari ketiga model, Decision Tree memiliki nilai paling tinggi baik pada pengujian recall maupun uji cross-validation.\n",
    "3. Berdasarkan pertimbangan hasil cross-validation model RF dinilai lebih baik karena penurunan metrik akurasi dan nilai recall (dibandingkan dengan pengujian akurasi dan recall data validation dataset) paling rendah dibandingkan model lainnya. Meskipun recall-nya lebih rendah dari model DT, tapi perbedaanya tidak terlalu besar. Sehingga dalam hal konsistensi model, model RF lah yang paling baik untuk kasus ini.\n",
    "\n",
    "Selanjutnya yaitu melakukan pelatihan model Machine Learning dengan data yang sudah di-balancing."
   ]
  },
  {
   "cell_type": "code",
   "execution_count": 42,
   "metadata": {},
   "outputs": [],
   "source": [
    "model_up = best_rf_model\n",
    "model_down = best_rf_model"
   ]
  },
  {
   "cell_type": "markdown",
   "metadata": {},
   "source": [
    "<div class=\"alert alert-success\">\n",
    "<b>Chamdani's comment v.1</b> <a class=\"tocSkip\"></a>\n",
    "\n",
    "Bagus, semua berjalan lancar.\n",
    "\n",
    "</div>"
   ]
  },
  {
   "cell_type": "markdown",
   "metadata": {},
   "source": [
    "#### Data"
   ]
  },
  {
   "cell_type": "markdown",
   "metadata": {},
   "source": [
    "Proses balancing data baik dengan upsampling maupun downsampling dilakukan pada train dataset. Tujuan dari balancing yaitu untuk mengatasi ketidakseimbangan kelas dalam dataset pelatihan agar model dapat belajar dengan baik dari kedua kelas."
   ]
  },
  {
   "cell_type": "code",
   "execution_count": 43,
   "metadata": {},
   "outputs": [
    {
     "name": "stdout",
     "output_type": "stream",
     "text": [
      "0.25169818248577197\n"
     ]
    }
   ],
   "source": [
    "features_ones = features_train[target_train == 1]\n",
    "features_zeros = features_train[target_train == 0]\n",
    "\n",
    "print(len(features_ones)/len(features_zeros))"
   ]
  },
  {
   "cell_type": "markdown",
   "metadata": {},
   "source": [
    "Ukuran dataset features_one 4 kali lebih sedikit dibandingkan dengan features_zeros"
   ]
  },
  {
   "cell_type": "markdown",
   "metadata": {},
   "source": [
    "<div class=\"alert alert-success\">\n",
    "<b>Chamdani's comment v.1</b> <a class=\"tocSkip\"></a>\n",
    "\n",
    "Bagus, semua berjalan lancar.\n",
    "\n",
    "</div>"
   ]
  },
  {
   "cell_type": "markdown",
   "metadata": {},
   "source": [
    "#### Balancing dengan Upsampling"
   ]
  },
  {
   "cell_type": "markdown",
   "metadata": {},
   "source": [
    "Upsampling merupakan salahsatu metode balancing data dengan cara meningkatkan jumlah sampel kelas yang lebih sedikit (minoritas)."
   ]
  },
  {
   "cell_type": "code",
   "execution_count": 44,
   "metadata": {},
   "outputs": [],
   "source": [
    "def upsample(features, target, repeat):\n",
    "    features_zeros = features[target == 0]\n",
    "    features_ones = features[target == 1]\n",
    "    target_zeros = target[target == 0]\n",
    "    target_ones = target[target == 1]\n",
    "\n",
    "    features1 = pd.concat([features_zeros] + [features_ones] * repeat)\n",
    "    target1 = pd.concat([target_zeros] + [target_ones] * repeat)\n",
    "\n",
    "    features_upsampled, target_upsampled = shuffle(\n",
    "        features1, target1, random_state=12345\n",
    "    )\n",
    "\n",
    "    return features_upsampled, target_upsampled, features1, target1"
   ]
  },
  {
   "cell_type": "code",
   "execution_count": 45,
   "metadata": {},
   "outputs": [],
   "source": [
    "features_upsampled, target_upsampled, features1, target1 = upsample(\n",
    "    features_train, target_train, 4)"
   ]
  },
  {
   "cell_type": "code",
   "execution_count": 46,
   "metadata": {},
   "outputs": [
    {
     "name": "stdout",
     "output_type": "stream",
     "text": [
      "(5484, 11)\n",
      "(5447, 11)\n"
     ]
    }
   ],
   "source": [
    "print(features_upsampled[target_upsampled == 1].shape)\n",
    "print(features_upsampled[target_upsampled == 0].shape)"
   ]
  },
  {
   "cell_type": "markdown",
   "metadata": {},
   "source": [
    "Jumlah kelas sudah seimbang. Selanjutnya yaitu melakukan training model dengan dataset yang sudah di upsampling."
   ]
  },
  {
   "cell_type": "code",
   "execution_count": 47,
   "metadata": {},
   "outputs": [],
   "source": [
    "model_up.fit(features_upsampled, target_upsampled)\n",
    "predicted_valid = model_up.predict(features_valid)"
   ]
  },
  {
   "cell_type": "code",
   "execution_count": 48,
   "metadata": {},
   "outputs": [
    {
     "data": {
      "image/png": "[encoded data removed]",
      "text/plain": [
       "<Figure size 432x288 with 2 Axes>"
      ]
     },
     "metadata": {
      "needs_background": "light"
     },
     "output_type": "display_data"
    }
   ],
   "source": [
    "con_up = confusion_matrix(target_valid, model_up.predict(features_valid))\n",
    "disp = ConfusionMatrixDisplay(confusion_matrix=con_up)\n",
    "disp.plot()\n",
    "plt.title('Model: RF dengan balancing upsampling')\n",
    "plt.xlabel('Prediksi')\n",
    "plt.ylabel('Aktual')\n",
    "plt.show()"
   ]
  },
  {
   "cell_type": "markdown",
   "metadata": {},
   "source": [
    "Dibandingkan dengan model RF sebelum balancing data, model dengan data balancing terjadi peningkatkan False Positive (FP) dari 14 menjadi 193 yang berarti semakin banyak nasabah yang dianggap setia padahal sebenarnya akan pergi. Meskipun begitu, nilai False Negative nya menurun dari 160 menjadi 78, yang artinya kita dapat merangkul lebih banyak nasabah yang memang benar-benar akan setia.\n",
    "\n",
    "Untuk menentukan apakah perubahan ini lebih baik dari sebelumnya memang harus didiskusikan dengan bagian lain dengan mempertimbangkan expense untuk menjaga nasabah agar tetap setia dan keuntungan yang diperoleh dari nasabah yang benar-benar setia.\n",
    "\n",
    "Namun model dengan data balancing memberikan peningkatkan True Positive yang lumayan tinggi yaitu dari 114 menjadi 196!."
   ]
  },
  {
   "cell_type": "markdown",
   "metadata": {},
   "source": [
    "<div class=\"alert alert-success\">\n",
    "<b>Chamdani's comment v.1</b> <a class=\"tocSkip\"></a>\n",
    "\n",
    "Bagus, semua berjalan lancar.\n",
    "\n",
    "</div>"
   ]
  },
  {
   "cell_type": "code",
   "execution_count": 49,
   "metadata": {},
   "outputs": [
    {
     "name": "stdout",
     "output_type": "stream",
     "text": [
      "Akurasi yang didapatkan adalah 80.11738811445342\n",
      "Presisi yang didapatkan adalah 50.38560411311054\n",
      "Recall yang didapatkan adalah 71.53284671532847\n",
      "Nilai F1 yang didapatkan adalah 59.12518853695325\n"
     ]
    }
   ],
   "source": [
    "print(f'Akurasi yang didapatkan adalah {accuracy_score(target_valid, model_up.predict(features_valid))*100}')\n",
    "print(f'Presisi yang didapatkan adalah {precision_score(target_valid, model_up.predict(features_valid))*100}')\n",
    "print(f'Recall yang didapatkan adalah {recall_score(target_valid, model_up.predict(features_valid))*100}')\n",
    "print(f'Nilai F1 yang didapatkan adalah {f1_score(target_valid, model_up.predict(features_valid))*100}')"
   ]
  },
  {
   "cell_type": "markdown",
   "metadata": {},
   "source": [
    "Akurasi model menurun dari 87% menjadi 80%. Namun nilai Recall dan F1 meningkat dari 41% menjadi 71% peningkatan yang cukup drastis!."
   ]
  },
  {
   "cell_type": "markdown",
   "metadata": {},
   "source": [
    "<div class=\"alert alert-success\">\n",
    "<b>Chamdani's comment v.1</b> <a class=\"tocSkip\"></a>\n",
    "\n",
    "Bagus, semua berjalan lancar.\n",
    "\n",
    "</div>"
   ]
  },
  {
   "cell_type": "markdown",
   "metadata": {},
   "source": [
    "#### Balancing dengan Downsampling"
   ]
  },
  {
   "cell_type": "markdown",
   "metadata": {},
   "source": [
    "Metode lain yang dapat digunakan balancing data yaitu Downsampling yaitu dengan menghapus sebagian data pada sampel kelas yang lebih banyak (mayoritas) di akhir kita dapat melihat metode balancing mana yang terbaik untuk project ini.\n",
    "\n",
    "Untuk kasus ini, kelas mayoritas akan kita reduksi hingga 1/4 nya."
   ]
  },
  {
   "cell_type": "code",
   "execution_count": 50,
   "metadata": {},
   "outputs": [],
   "source": [
    "def downsample(features, target, fraction):\n",
    "    features_zeros = features[target == 0]\n",
    "    features_ones = features[target == 1]\n",
    "    target_zeros = target[target == 0]\n",
    "    target_ones = target[target == 1]\n",
    "\n",
    "    features_downsampled = pd.concat(\n",
    "        [features_zeros.sample(frac=fraction, random_state=12345)]\n",
    "        + [features_ones]\n",
    "    )\n",
    "    target_downsampled = pd.concat(\n",
    "        [target_zeros.sample(frac=fraction, random_state=12345)]\n",
    "        + [target_ones]\n",
    "    )\n",
    "\n",
    "    features_downsampled, target_downsampled = shuffle(\n",
    "        features_downsampled, target_downsampled, random_state=12345\n",
    "    )\n",
    "\n",
    "    return features_downsampled, target_downsampled"
   ]
  },
  {
   "cell_type": "code",
   "execution_count": 51,
   "metadata": {},
   "outputs": [],
   "source": [
    "features_downsampled, target_downsampled = downsample(\n",
    "    features_train, target_train, 0.25\n",
    ")"
   ]
  },
  {
   "cell_type": "code",
   "execution_count": 52,
   "metadata": {},
   "outputs": [
    {
     "name": "stdout",
     "output_type": "stream",
     "text": [
      "(1371, 11)\n",
      "(1362, 11)\n"
     ]
    }
   ],
   "source": [
    "print(features_downsampled[target_downsampled == 1].shape)\n",
    "print(features_downsampled[target_downsampled == 0].shape)"
   ]
  },
  {
   "cell_type": "code",
   "execution_count": 53,
   "metadata": {},
   "outputs": [],
   "source": [
    "model_down.fit(features_downsampled, target_downsampled)\n",
    "predicted_valid = model_down.predict(features_valid)"
   ]
  },
  {
   "cell_type": "code",
   "execution_count": 54,
   "metadata": {},
   "outputs": [
    {
     "data": {
      "image/png": "[encoded data removed]",
      "text/plain": [
       "<Figure size 432x288 with 2 Axes>"
      ]
     },
     "metadata": {
      "needs_background": "light"
     },
     "output_type": "display_data"
    }
   ],
   "source": [
    "con_down = confusion_matrix(target_valid, model_down.predict(features_valid))\n",
    "disp = ConfusionMatrixDisplay(confusion_matrix=con_down)\n",
    "disp.plot()\n",
    "plt.title('Model: RF dengan balancing downsampling')\n",
    "plt.xlabel('Prediksi')\n",
    "plt.ylabel('Aktual')\n",
    "plt.show()"
   ]
  },
  {
   "cell_type": "markdown",
   "metadata": {},
   "source": [
    "Jumlah FP meningkat menjadi 210 dan jumlah FN turun menjadi 70. Apakah penurunan FN sebanyak 8 dan penginkatkan FP sebanyak 27 sebanding?.\n",
    "\n",
    "Meskipun begitu nilai TP yang diperoleh meningkat 8 dari model dengan data upsampling. Mari kita lihat nilai metriknya secara value."
   ]
  },
  {
   "cell_type": "markdown",
   "metadata": {},
   "source": [
    "<div class=\"alert alert-success\">\n",
    "<b>Chamdani's comment v.1</b> <a class=\"tocSkip\"></a>\n",
    "\n",
    "Bagus, semua berjalan lancar.\n",
    "\n",
    "</div>"
   ]
  },
  {
   "cell_type": "code",
   "execution_count": 55,
   "metadata": {},
   "outputs": [
    {
     "name": "stdout",
     "output_type": "stream",
     "text": [
      "Akurasi yang didapatkan adalah 79.45707997065297\n",
      "Presisi yang didapatkan adalah 49.275362318840585\n",
      "Recall yang didapatkan adalah 74.45255474452554\n",
      "Nilai F1 yang didapatkan adalah 59.30232558139535\n"
     ]
    }
   ],
   "source": [
    "print(f'Akurasi yang didapatkan adalah {accuracy_score(target_valid, model_down.predict(features_valid))*100}')\n",
    "print(f'Presisi yang didapatkan adalah {precision_score(target_valid, model_down.predict(features_valid))*100}')\n",
    "print(f'Recall yang didapatkan adalah {recall_score(target_valid, model_down.predict(features_valid))*100}')\n",
    "print(f'Nilai F1 yang didapatkan adalah {f1_score(target_valid, model_down.predict(features_valid))*100}')"
   ]
  },
  {
   "cell_type": "markdown",
   "metadata": {},
   "source": [
    "Nilai akurasi yang diperoleh menurun sedikit dari metode downsampling dari 80.1% menjadi 79.4% serta peningkatkan nilai Recall dari 71.5% menjadi 74.5%. \n",
    "\n",
    "Berdasarkan tujuan awal yaitu meningkatkan metrik recall maka data balancing dengan metode downsampling memberikan hasil yang lebih baik. Tapi bisa jadi penilaiannya berubah apabila kedua dataset tersebut kita tuning. Selanjutnya kita melakukan tuning dan atur treshold sehingga didapatkan model dan hyp"
   ]
  },
  {
   "cell_type": "markdown",
   "metadata": {},
   "source": [
    "<div class=\"alert alert-success\">\n",
    "<b>Chamdani's comment v.1</b> <a class=\"tocSkip\"></a>\n",
    "\n",
    "Bagus, semua berjalan lancar.\n",
    "\n",
    "</div>"
   ]
  },
  {
   "cell_type": "markdown",
   "metadata": {},
   "source": [
    "#### Hyperparameter Tuning"
   ]
  },
  {
   "cell_type": "markdown",
   "metadata": {},
   "source": [
    "##### Hyperparameter Tuning untuk Data Upsampling"
   ]
  },
  {
   "cell_type": "markdown",
   "metadata": {},
   "source": [
    "Berdasarkan hasil temuan sebelumnya, digunakan data dengan balancing downsampling. Selanjutnya yaitu dilakukan proses tuning hyperparameter untuk meningkatkan kualitas model. Walaupun pada bab sebelumnya kita sudah melakukan tuning dengan data sebelum balancing, akan tetapi bisa jadi hasilnya berbeda jika kita melakukan tuning dengan data yang sudah di balancing."
   ]
  },
  {
   "cell_type": "code",
   "execution_count": 56,
   "metadata": {},
   "outputs": [
    {
     "name": "stdout",
     "output_type": "stream",
     "text": [
      "1 - 60 - gini - 0.7226277372262774 - 0.7380777696258254\n",
      "1 - 60 - entropy - 0.7226277372262774 - 0.7388114453411592\n",
      "2 - 60 - gini - 0.7007299270072993 - 0.7696258253851798\n",
      "3 - 60 - gini - 0.7116788321167883 - 0.7828319882611886\n",
      "4 - 60 - gini - 0.7043795620437956 - 0.797505502567865\n",
      "4 - 60 - entropy - 0.708029197080292 - 0.7945707997065297\n",
      "5 - 60 - gini - 0.708029197080292 - 0.7982391782831988\n",
      "5 - 60 - entropy - 0.708029197080292 - 0.8004402054292002\n",
      "6 - 65 - gini - 0.708029197080292 - 0.8063096111518708\n",
      "6 - 70 - gini - 0.7116788321167883 - 0.8085106382978723\n",
      "6 - 75 - gini - 0.7153284671532847 - 0.8063096111518708\n",
      "6 - 85 - gini - 0.7153284671532847 - 0.8077769625825385\n",
      "6 - 85 - entropy - 0.7153284671532847 - 0.8085106382978723\n",
      "5 - 90 - gini - 0.7226277372262774 - 0.8033749082905356\n",
      "6 - 95 - gini - 0.7153284671532847 - 0.8114453411592076\n",
      "6 - 100 - gini - 0.7153284671532847 - 0.8121790168745414\n",
      "5 - 140 - gini - 0.7226277372262774 - 0.805575935436537\n",
      "6 - 200 - gini - 0.718978102189781 - 0.8114453411592076\n",
      "6 - 205 - gini - 0.718978102189781 - 0.8121790168745414\n",
      "6 - 240 - gini - 0.7226277372262774 - 0.80997798972854\n",
      "6 - 250 - gini - 0.7262773722627737 - 0.8114453411592076\n",
      "6 - 280 - gini - 0.7299270072992701 - 0.80997798972854\n"
     ]
    }
   ],
   "source": [
    "best_rt_model = None\n",
    "best_rf_accuracy = 0\n",
    "best_nt = 0\n",
    "best_rf_depth = 0\n",
    "best_rf_crit = None\n",
    "for nt in range(60,300,5):\n",
    "    for depth in range(1,7):\n",
    "        for crit in ['gini','entropy']:\n",
    "            model_rf = RandomForestClassifier(random_state = 54321, criterion=crit, n_estimators = nt, max_depth = depth)\n",
    "            model_rf.fit(features_upsampled, target_upsampled)\n",
    "            predictions_rf_valid = model_rf.predict(features_valid)\n",
    "            akurasi = accuracy_score(target_valid, predictions_rf_valid)\n",
    "            recall = recall_score(target_valid, predictions_rf_valid)\n",
    "            if (akurasi+recall)/2 > best_rf_accuracy:\n",
    "                print(f'{depth} - {nt} - {crit} - {recall} - {akurasi}')\n",
    "                best_rf_model = model_rf\n",
    "                best_rf_accuracy = (recall+akurasi)/2\n",
    "                best_rt_nt = nt\n",
    "                best_rf_depth = depth\n",
    "                best_rf_crit = crit\n",
    "                best_rf_recall = recall"
   ]
  },
  {
   "cell_type": "code",
   "execution_count": 57,
   "metadata": {},
   "outputs": [],
   "source": [
    "best_rf_model_up = best_rf_model"
   ]
  },
  {
   "cell_type": "code",
   "execution_count": 58,
   "metadata": {},
   "outputs": [
    {
     "data": {
      "image/png": "[encoded data removed]",
      "text/plain": [
       "<Figure size 432x288 with 2 Axes>"
      ]
     },
     "metadata": {
      "needs_background": "light"
     },
     "output_type": "display_data"
    }
   ],
   "source": [
    "con_up_tune = confusion_matrix(target_valid, best_rf_model_up.predict(features_valid))\n",
    "disp = ConfusionMatrixDisplay(confusion_matrix=con_up_tune)\n",
    "disp.plot()\n",
    "plt.title('Model: RF dengan balancing upsampling (Tuned)')\n",
    "plt.xlabel('Prediksi')\n",
    "plt.ylabel('Aktual')\n",
    "plt.show()"
   ]
  },
  {
   "cell_type": "markdown",
   "metadata": {},
   "source": [
    "Apabila dibandingkan dengan model data upsampling tanpa tuning, terjadi peningkatan jumlah TN dari 896 menjadi 904 dan nilai TP meningkat dari 196 menjadi 200. Melihat dari tujuan awal kita hal ini termasuk bagus karena terjadi penurunan False Negative dari 78 menjadi 74."
   ]
  },
  {
   "cell_type": "code",
   "execution_count": 59,
   "metadata": {},
   "outputs": [
    {
     "name": "stdout",
     "output_type": "stream",
     "text": [
      "Akurasi yang didapatkan adalah 80.997798972854\n",
      "Presisi yang didapatkan adalah 51.94805194805194\n",
      "Recall yang didapatkan adalah 72.99270072992701\n",
      "Nilai F1 yang didapatkan adalah 60.69802731411229\n"
     ]
    }
   ],
   "source": [
    "print(f'Akurasi yang didapatkan adalah {accuracy_score(target_valid, best_rf_model_up.predict(features_valid))*100}')\n",
    "print(f'Presisi yang didapatkan adalah {precision_score(target_valid, best_rf_model_up.predict(features_valid))*100}')\n",
    "print(f'Recall yang didapatkan adalah {recall_score(target_valid, best_rf_model_up.predict(features_valid))*100}')\n",
    "print(f'Nilai F1 yang didapatkan adalah {f1_score(target_valid, best_rf_model_up.predict(features_valid))*100}')"
   ]
  },
  {
   "cell_type": "markdown",
   "metadata": {},
   "source": [
    "Secara metrik nilai akurasinya meningkat yang semula 80% mejadi 81% dan metrik recall nilai meningkat dari 71% menjadi 73%. Untuk nilai F1 meningkat dari 59.1% menjadi 60.7%.Mari kita bandingkan hasil tuningan Downsampling apakah akan lebih baik?"
   ]
  },
  {
   "cell_type": "markdown",
   "metadata": {},
   "source": [
    "<div class=\"alert alert-success\">\n",
    "<b>Chamdani's comment v.1</b> <a class=\"tocSkip\"></a>\n",
    "\n",
    "Bagus, semua berjalan lancar.\n",
    "\n",
    "</div>"
   ]
  },
  {
   "cell_type": "markdown",
   "metadata": {},
   "source": [
    "##### Hyperparameter Tuning untuk Data Downsampling"
   ]
  },
  {
   "cell_type": "code",
   "execution_count": 60,
   "metadata": {},
   "outputs": [
    {
     "name": "stdout",
     "output_type": "stream",
     "text": [
      "1 - 60 - gini - 0.6861313868613139 - 0.7637564196625092\n",
      "1 - 60 - entropy - 0.718978102189781 - 0.7666911225238444\n",
      "3 - 60 - gini - 0.7299270072992701 - 0.7813646368305209\n",
      "3 - 60 - entropy - 0.7299270072992701 - 0.7872340425531915\n",
      "4 - 60 - gini - 0.7262773722627737 - 0.7916360968451944\n",
      "4 - 60 - entropy - 0.718978102189781 - 0.8019075568598679\n",
      "5 - 60 - gini - 0.7445255474452555 - 0.7960381511371973\n",
      "6 - 60 - gini - 0.7591240875912408 - 0.7967718268525312\n",
      "6 - 65 - entropy - 0.7554744525547445 - 0.8026412325752018\n",
      "6 - 80 - entropy - 0.7554744525547445 - 0.8048422597212033\n"
     ]
    }
   ],
   "source": [
    "best_rt_model = None\n",
    "best_rf_accuracy = 0\n",
    "best_nt = 0\n",
    "best_rf_depth = 0\n",
    "best_rf_crit = None\n",
    "for nt in range(60,300,5):\n",
    "    for depth in range(1,7):\n",
    "        for crit in ['gini','entropy']:\n",
    "            model_rf = RandomForestClassifier(random_state = 54321, criterion=crit, n_estimators = nt, max_depth = depth)\n",
    "            model_rf.fit(features_downsampled, target_downsampled)\n",
    "            predictions_rf_valid = model_rf.predict(features_valid)\n",
    "            akurasi = accuracy_score(target_valid, predictions_rf_valid)\n",
    "            recall = recall_score(target_valid, predictions_rf_valid)\n",
    "            if (akurasi+recall)/2 > best_rf_accuracy:\n",
    "                print(f'{depth} - {nt} - {crit} - {recall} - {akurasi}')\n",
    "                best_rf_model = model_rf\n",
    "                best_rf_accuracy = (recall+akurasi)/2\n",
    "                best_rt_nt = nt\n",
    "                best_rf_depth = depth\n",
    "                best_rf_crit = crit\n",
    "                best_rf_recall = recall"
   ]
  },
  {
   "cell_type": "code",
   "execution_count": 61,
   "metadata": {},
   "outputs": [],
   "source": [
    "best_rf_model_down = best_rf_model"
   ]
  },
  {
   "cell_type": "code",
   "execution_count": 62,
   "metadata": {},
   "outputs": [
    {
     "data": {
      "image/png": "[encoded data removed]",
      "text/plain": [
       "<Figure size 432x288 with 2 Axes>"
      ]
     },
     "metadata": {
      "needs_background": "light"
     },
     "output_type": "display_data"
    }
   ],
   "source": [
    "con_down_tune = confusion_matrix(target_valid, best_rf_model_down.predict(features_valid))\n",
    "disp = ConfusionMatrixDisplay(confusion_matrix=con_down_tune)\n",
    "disp.plot()\n",
    "plt.title('Model: RF dengan balancing downsampling (tuned)')\n",
    "plt.xlabel('Prediksi')\n",
    "plt.ylabel('Aktual')\n",
    "plt.show()"
   ]
  },
  {
   "cell_type": "markdown",
   "metadata": {},
   "source": [
    "Perbandingan dengan model downsampling tanpa tuning:\n",
    "1. Terjadi peningkatan TN dari 879 menjadi 890 dan TP dari 204 menjadi 207\n",
    "2. Terjadi penurunan nilai FN dari 70 menjadi 67\n",
    "\n",
    "Perbandingan dengan model upsampling dengan tuning:\n",
    "1. Nilai TN lebih rendah, namun TP lebih tinggi\n",
    "2. Nilai FN lebih rendah, namun nilai FP lebih tinggi\n",
    "\n",
    "Perbandingan dengan model sebelum di tuning terjadi peningkatan yang cukup baik dimana nilai TP dan TN meningkatan dan penurunan nilai FN. Apabila dengan model upsampling yang telah dituning, kita perlu membandingkan secara metrik akurasi dan recall agar lebih mudah karena perbedaanya tidak terlalu signifikan."
   ]
  },
  {
   "cell_type": "markdown",
   "metadata": {},
   "source": [
    "<div class=\"alert alert-success\">\n",
    "<b>Chamdani's comment v.1</b> <a class=\"tocSkip\"></a>\n",
    "\n",
    "Bagus, semua berjalan lancar.\n",
    "\n",
    "</div>"
   ]
  },
  {
   "cell_type": "code",
   "execution_count": 63,
   "metadata": {},
   "outputs": [
    {
     "name": "stdout",
     "output_type": "stream",
     "text": [
      "Akurasi yang didapatkan adalah 80.48422597212033\n",
      "Presisi yang didapatkan adalah 50.98522167487685\n",
      "Recall yang didapatkan adalah 75.54744525547446\n",
      "Nilai F1 yang didapatkan adalah 60.882352941176464\n"
     ]
    }
   ],
   "source": [
    "print(f'Akurasi yang didapatkan adalah {accuracy_score(target_valid, best_rf_model_down.predict(features_valid))*100}')\n",
    "print(f'Presisi yang didapatkan adalah {precision_score(target_valid, best_rf_model_down.predict(features_valid))*100}')\n",
    "print(f'Recall yang didapatkan adalah {recall_score(target_valid, best_rf_model_down.predict(features_valid))*100}')\n",
    "print(f'Nilai F1 yang didapatkan adalah {f1_score(target_valid, best_rf_model_down.predict(features_valid))*100}')"
   ]
  },
  {
   "cell_type": "markdown",
   "metadata": {},
   "source": [
    "Perbandingan dengan model upsampling dengan tuninng:\n",
    "1. Akurasi yang diperoleh 0.05% lebih rendah\n",
    "2. Nilai Recall yang diperoleh 3% lebih tinggi\n",
    "3. Nilai F1 yang diperoleh 0.2% lebih tinggi\n",
    "\n",
    "Secara overal modal downsampling dengan tuning memberikan hasil yang lebih baik. Meskipun kita mengorbankan nilai akurasi, tetapi peningkatan nilai recall dan F1 lumayan baik. Selanjutnya untuk meningkatkan kualitas model yang telah dibuat kita akan menetapkan/menyesuailan threshold."
   ]
  },
  {
   "cell_type": "markdown",
   "metadata": {},
   "source": [
    "<div class=\"alert alert-success\">\n",
    "<b>Chamdani's comment v.1</b> <a class=\"tocSkip\"></a>\n",
    "\n",
    "Bagus, semua berjalan lancar.\n",
    "\n",
    "</div>"
   ]
  },
  {
   "cell_type": "markdown",
   "metadata": {},
   "source": [
    "#### Adjustment Threshold"
   ]
  },
  {
   "cell_type": "code",
   "execution_count": 64,
   "metadata": {},
   "outputs": [
    {
     "data": {
      "text/plain": [
       "RandomForestClassifier(criterion='entropy', max_depth=6, n_estimators=80,\n",
       "                       random_state=54321)"
      ]
     },
     "execution_count": 64,
     "metadata": {},
     "output_type": "execute_result"
    }
   ],
   "source": [
    "best_rf_model"
   ]
  },
  {
   "cell_type": "markdown",
   "metadata": {},
   "source": [
    "##### Adjustment treshold data upsampling"
   ]
  },
  {
   "cell_type": "code",
   "execution_count": 65,
   "metadata": {},
   "outputs": [],
   "source": [
    "predicted_valid_up = best_rf_model_up.predict(features_valid)"
   ]
  },
  {
   "cell_type": "code",
   "execution_count": 66,
   "metadata": {},
   "outputs": [
    {
     "name": "stderr",
     "output_type": "stream",
     "text": [
      "/opt/conda/lib/python3.9/site-packages/sklearn/metrics/_classification.py:1245: UndefinedMetricWarning: Precision is ill-defined and being set to 0.0 due to no predicted samples. Use `zero_division` parameter to control this behavior.\n",
      "  _warn_prf(average, modifier, msg_start, len(result))\n",
      "/opt/conda/lib/python3.9/site-packages/sklearn/metrics/_classification.py:1245: UndefinedMetricWarning: Precision is ill-defined and being set to 0.0 due to no predicted samples. Use `zero_division` parameter to control this behavior.\n",
      "  _warn_prf(average, modifier, msg_start, len(result))\n",
      "/opt/conda/lib/python3.9/site-packages/sklearn/metrics/_classification.py:1245: UndefinedMetricWarning: Precision is ill-defined and being set to 0.0 due to no predicted samples. Use `zero_division` parameter to control this behavior.\n",
      "  _warn_prf(average, modifier, msg_start, len(result))\n",
      "/opt/conda/lib/python3.9/site-packages/sklearn/metrics/_classification.py:1245: UndefinedMetricWarning: Precision is ill-defined and being set to 0.0 due to no predicted samples. Use `zero_division` parameter to control this behavior.\n",
      "  _warn_prf(average, modifier, msg_start, len(result))\n",
      "/opt/conda/lib/python3.9/site-packages/sklearn/metrics/_classification.py:1245: UndefinedMetricWarning: Precision is ill-defined and being set to 0.0 due to no predicted samples. Use `zero_division` parameter to control this behavior.\n",
      "  _warn_prf(average, modifier, msg_start, len(result))\n",
      "/opt/conda/lib/python3.9/site-packages/sklearn/metrics/_classification.py:1245: UndefinedMetricWarning: Precision is ill-defined and being set to 0.0 due to no predicted samples. Use `zero_division` parameter to control this behavior.\n",
      "  _warn_prf(average, modifier, msg_start, len(result))\n",
      "/opt/conda/lib/python3.9/site-packages/sklearn/metrics/_classification.py:1245: UndefinedMetricWarning: Precision is ill-defined and being set to 0.0 due to no predicted samples. Use `zero_division` parameter to control this behavior.\n",
      "  _warn_prf(average, modifier, msg_start, len(result))\n",
      "/opt/conda/lib/python3.9/site-packages/sklearn/metrics/_classification.py:1245: UndefinedMetricWarning: Precision is ill-defined and being set to 0.0 due to no predicted samples. Use `zero_division` parameter to control this behavior.\n",
      "  _warn_prf(average, modifier, msg_start, len(result))\n",
      "/opt/conda/lib/python3.9/site-packages/sklearn/metrics/_classification.py:1245: UndefinedMetricWarning: Precision is ill-defined and being set to 0.0 due to no predicted samples. Use `zero_division` parameter to control this behavior.\n",
      "  _warn_prf(average, modifier, msg_start, len(result))\n",
      "/opt/conda/lib/python3.9/site-packages/sklearn/metrics/_classification.py:1245: UndefinedMetricWarning: Precision is ill-defined and being set to 0.0 due to no predicted samples. Use `zero_division` parameter to control this behavior.\n",
      "  _warn_prf(average, modifier, msg_start, len(result))\n",
      "/opt/conda/lib/python3.9/site-packages/sklearn/metrics/_classification.py:1245: UndefinedMetricWarning: Precision is ill-defined and being set to 0.0 due to no predicted samples. Use `zero_division` parameter to control this behavior.\n",
      "  _warn_prf(average, modifier, msg_start, len(result))\n",
      "/opt/conda/lib/python3.9/site-packages/sklearn/metrics/_classification.py:1245: UndefinedMetricWarning: Precision is ill-defined and being set to 0.0 due to no predicted samples. Use `zero_division` parameter to control this behavior.\n",
      "  _warn_prf(average, modifier, msg_start, len(result))\n",
      "/opt/conda/lib/python3.9/site-packages/sklearn/metrics/_classification.py:1245: UndefinedMetricWarning: Precision is ill-defined and being set to 0.0 due to no predicted samples. Use `zero_division` parameter to control this behavior.\n",
      "  _warn_prf(average, modifier, msg_start, len(result))\n",
      "/opt/conda/lib/python3.9/site-packages/sklearn/metrics/_classification.py:1245: UndefinedMetricWarning: Precision is ill-defined and being set to 0.0 due to no predicted samples. Use `zero_division` parameter to control this behavior.\n",
      "  _warn_prf(average, modifier, msg_start, len(result))\n",
      "/opt/conda/lib/python3.9/site-packages/sklearn/metrics/_classification.py:1245: UndefinedMetricWarning: Precision is ill-defined and being set to 0.0 due to no predicted samples. Use `zero_division` parameter to control this behavior.\n",
      "  _warn_prf(average, modifier, msg_start, len(result))\n",
      "/opt/conda/lib/python3.9/site-packages/sklearn/metrics/_classification.py:1245: UndefinedMetricWarning: Precision is ill-defined and being set to 0.0 due to no predicted samples. Use `zero_division` parameter to control this behavior.\n",
      "  _warn_prf(average, modifier, msg_start, len(result))\n",
      "/opt/conda/lib/python3.9/site-packages/sklearn/metrics/_classification.py:1245: UndefinedMetricWarning: Precision is ill-defined and being set to 0.0 due to no predicted samples. Use `zero_division` parameter to control this behavior.\n",
      "  _warn_prf(average, modifier, msg_start, len(result))\n",
      "/opt/conda/lib/python3.9/site-packages/sklearn/metrics/_classification.py:1245: UndefinedMetricWarning: Precision is ill-defined and being set to 0.0 due to no predicted samples. Use `zero_division` parameter to control this behavior.\n",
      "  _warn_prf(average, modifier, msg_start, len(result))\n",
      "/opt/conda/lib/python3.9/site-packages/sklearn/metrics/_classification.py:1245: UndefinedMetricWarning: Precision is ill-defined and being set to 0.0 due to no predicted samples. Use `zero_division` parameter to control this behavior.\n",
      "  _warn_prf(average, modifier, msg_start, len(result))\n",
      "/opt/conda/lib/python3.9/site-packages/sklearn/metrics/_classification.py:1245: UndefinedMetricWarning: Precision is ill-defined and being set to 0.0 due to no predicted samples. Use `zero_division` parameter to control this behavior.\n",
      "  _warn_prf(average, modifier, msg_start, len(result))\n",
      "/opt/conda/lib/python3.9/site-packages/sklearn/metrics/_classification.py:1245: UndefinedMetricWarning: Precision is ill-defined and being set to 0.0 due to no predicted samples. Use `zero_division` parameter to control this behavior.\n",
      "  _warn_prf(average, modifier, msg_start, len(result))\n",
      "/opt/conda/lib/python3.9/site-packages/sklearn/metrics/_classification.py:1245: UndefinedMetricWarning: Precision is ill-defined and being set to 0.0 due to no predicted samples. Use `zero_division` parameter to control this behavior.\n",
      "  _warn_prf(average, modifier, msg_start, len(result))\n",
      "/opt/conda/lib/python3.9/site-packages/sklearn/metrics/_classification.py:1245: UndefinedMetricWarning: Precision is ill-defined and being set to 0.0 due to no predicted samples. Use `zero_division` parameter to control this behavior.\n",
      "  _warn_prf(average, modifier, msg_start, len(result))\n",
      "/opt/conda/lib/python3.9/site-packages/sklearn/metrics/_classification.py:1245: UndefinedMetricWarning: Precision is ill-defined and being set to 0.0 due to no predicted samples. Use `zero_division` parameter to control this behavior.\n",
      "  _warn_prf(average, modifier, msg_start, len(result))\n",
      "/opt/conda/lib/python3.9/site-packages/sklearn/metrics/_classification.py:1245: UndefinedMetricWarning: Precision is ill-defined and being set to 0.0 due to no predicted samples. Use `zero_division` parameter to control this behavior.\n",
      "  _warn_prf(average, modifier, msg_start, len(result))\n",
      "/opt/conda/lib/python3.9/site-packages/sklearn/metrics/_classification.py:1245: UndefinedMetricWarning: Precision is ill-defined and being set to 0.0 due to no predicted samples. Use `zero_division` parameter to control this behavior.\n",
      "  _warn_prf(average, modifier, msg_start, len(result))\n",
      "/opt/conda/lib/python3.9/site-packages/sklearn/metrics/_classification.py:1245: UndefinedMetricWarning: Precision is ill-defined and being set to 0.0 due to no predicted samples. Use `zero_division` parameter to control this behavior.\n",
      "  _warn_prf(average, modifier, msg_start, len(result))\n",
      "/opt/conda/lib/python3.9/site-packages/sklearn/metrics/_classification.py:1245: UndefinedMetricWarning: Precision is ill-defined and being set to 0.0 due to no predicted samples. Use `zero_division` parameter to control this behavior.\n",
      "  _warn_prf(average, modifier, msg_start, len(result))\n",
      "/opt/conda/lib/python3.9/site-packages/sklearn/metrics/_classification.py:1245: UndefinedMetricWarning: Precision is ill-defined and being set to 0.0 due to no predicted samples. Use `zero_division` parameter to control this behavior.\n",
      "  _warn_prf(average, modifier, msg_start, len(result))\n",
      "/opt/conda/lib/python3.9/site-packages/sklearn/metrics/_classification.py:1245: UndefinedMetricWarning: Precision is ill-defined and being set to 0.0 due to no predicted samples. Use `zero_division` parameter to control this behavior.\n",
      "  _warn_prf(average, modifier, msg_start, len(result))\n",
      "/opt/conda/lib/python3.9/site-packages/sklearn/metrics/_classification.py:1245: UndefinedMetricWarning: Precision is ill-defined and being set to 0.0 due to no predicted samples. Use `zero_division` parameter to control this behavior.\n",
      "  _warn_prf(average, modifier, msg_start, len(result))\n",
      "/opt/conda/lib/python3.9/site-packages/sklearn/metrics/_classification.py:1245: UndefinedMetricWarning: Precision is ill-defined and being set to 0.0 due to no predicted samples. Use `zero_division` parameter to control this behavior.\n",
      "  _warn_prf(average, modifier, msg_start, len(result))\n",
      "/opt/conda/lib/python3.9/site-packages/sklearn/metrics/_classification.py:1245: UndefinedMetricWarning: Precision is ill-defined and being set to 0.0 due to no predicted samples. Use `zero_division` parameter to control this behavior.\n",
      "  _warn_prf(average, modifier, msg_start, len(result))\n",
      "/opt/conda/lib/python3.9/site-packages/sklearn/metrics/_classification.py:1245: UndefinedMetricWarning: Precision is ill-defined and being set to 0.0 due to no predicted samples. Use `zero_division` parameter to control this behavior.\n",
      "  _warn_prf(average, modifier, msg_start, len(result))\n",
      "/opt/conda/lib/python3.9/site-packages/sklearn/metrics/_classification.py:1245: UndefinedMetricWarning: Precision is ill-defined and being set to 0.0 due to no predicted samples. Use `zero_division` parameter to control this behavior.\n",
      "  _warn_prf(average, modifier, msg_start, len(result))\n",
      "/opt/conda/lib/python3.9/site-packages/sklearn/metrics/_classification.py:1245: UndefinedMetricWarning: Precision is ill-defined and being set to 0.0 due to no predicted samples. Use `zero_division` parameter to control this behavior.\n",
      "  _warn_prf(average, modifier, msg_start, len(result))\n",
      "/opt/conda/lib/python3.9/site-packages/sklearn/metrics/_classification.py:1245: UndefinedMetricWarning: Precision is ill-defined and being set to 0.0 due to no predicted samples. Use `zero_division` parameter to control this behavior.\n",
      "  _warn_prf(average, modifier, msg_start, len(result))\n",
      "/opt/conda/lib/python3.9/site-packages/sklearn/metrics/_classification.py:1245: UndefinedMetricWarning: Precision is ill-defined and being set to 0.0 due to no predicted samples. Use `zero_division` parameter to control this behavior.\n",
      "  _warn_prf(average, modifier, msg_start, len(result))\n",
      "/opt/conda/lib/python3.9/site-packages/sklearn/metrics/_classification.py:1245: UndefinedMetricWarning: Precision is ill-defined and being set to 0.0 due to no predicted samples. Use `zero_division` parameter to control this behavior.\n",
      "  _warn_prf(average, modifier, msg_start, len(result))\n",
      "/opt/conda/lib/python3.9/site-packages/sklearn/metrics/_classification.py:1245: UndefinedMetricWarning: Precision is ill-defined and being set to 0.0 due to no predicted samples. Use `zero_division` parameter to control this behavior.\n",
      "  _warn_prf(average, modifier, msg_start, len(result))\n",
      "/opt/conda/lib/python3.9/site-packages/sklearn/metrics/_classification.py:1245: UndefinedMetricWarning: Precision is ill-defined and being set to 0.0 due to no predicted samples. Use `zero_division` parameter to control this behavior.\n",
      "  _warn_prf(average, modifier, msg_start, len(result))\n",
      "/opt/conda/lib/python3.9/site-packages/sklearn/metrics/_classification.py:1245: UndefinedMetricWarning: Precision is ill-defined and being set to 0.0 due to no predicted samples. Use `zero_division` parameter to control this behavior.\n",
      "  _warn_prf(average, modifier, msg_start, len(result))\n",
      "/opt/conda/lib/python3.9/site-packages/sklearn/metrics/_classification.py:1245: UndefinedMetricWarning: Precision is ill-defined and being set to 0.0 due to no predicted samples. Use `zero_division` parameter to control this behavior.\n",
      "  _warn_prf(average, modifier, msg_start, len(result))\n",
      "/opt/conda/lib/python3.9/site-packages/sklearn/metrics/_classification.py:1245: UndefinedMetricWarning: Precision is ill-defined and being set to 0.0 due to no predicted samples. Use `zero_division` parameter to control this behavior.\n",
      "  _warn_prf(average, modifier, msg_start, len(result))\n",
      "/opt/conda/lib/python3.9/site-packages/sklearn/metrics/_classification.py:1245: UndefinedMetricWarning: Precision is ill-defined and being set to 0.0 due to no predicted samples. Use `zero_division` parameter to control this behavior.\n",
      "  _warn_prf(average, modifier, msg_start, len(result))\n",
      "/opt/conda/lib/python3.9/site-packages/sklearn/metrics/_classification.py:1245: UndefinedMetricWarning: Precision is ill-defined and being set to 0.0 due to no predicted samples. Use `zero_division` parameter to control this behavior.\n",
      "  _warn_prf(average, modifier, msg_start, len(result))\n",
      "/opt/conda/lib/python3.9/site-packages/sklearn/metrics/_classification.py:1245: UndefinedMetricWarning: Precision is ill-defined and being set to 0.0 due to no predicted samples. Use `zero_division` parameter to control this behavior.\n",
      "  _warn_prf(average, modifier, msg_start, len(result))\n",
      "/opt/conda/lib/python3.9/site-packages/sklearn/metrics/_classification.py:1245: UndefinedMetricWarning: Precision is ill-defined and being set to 0.0 due to no predicted samples. Use `zero_division` parameter to control this behavior.\n",
      "  _warn_prf(average, modifier, msg_start, len(result))\n",
      "/opt/conda/lib/python3.9/site-packages/sklearn/metrics/_classification.py:1245: UndefinedMetricWarning: Precision is ill-defined and being set to 0.0 due to no predicted samples. Use `zero_division` parameter to control this behavior.\n",
      "  _warn_prf(average, modifier, msg_start, len(result))\n",
      "/opt/conda/lib/python3.9/site-packages/sklearn/metrics/_classification.py:1245: UndefinedMetricWarning: Precision is ill-defined and being set to 0.0 due to no predicted samples. Use `zero_division` parameter to control this behavior.\n",
      "  _warn_prf(average, modifier, msg_start, len(result))\n",
      "/opt/conda/lib/python3.9/site-packages/sklearn/metrics/_classification.py:1245: UndefinedMetricWarning: Precision is ill-defined and being set to 0.0 due to no predicted samples. Use `zero_division` parameter to control this behavior.\n",
      "  _warn_prf(average, modifier, msg_start, len(result))\n",
      "/opt/conda/lib/python3.9/site-packages/sklearn/metrics/_classification.py:1245: UndefinedMetricWarning: Precision is ill-defined and being set to 0.0 due to no predicted samples. Use `zero_division` parameter to control this behavior.\n",
      "  _warn_prf(average, modifier, msg_start, len(result))\n",
      "/opt/conda/lib/python3.9/site-packages/sklearn/metrics/_classification.py:1245: UndefinedMetricWarning: Precision is ill-defined and being set to 0.0 due to no predicted samples. Use `zero_division` parameter to control this behavior.\n",
      "  _warn_prf(average, modifier, msg_start, len(result))\n",
      "/opt/conda/lib/python3.9/site-packages/sklearn/metrics/_classification.py:1245: UndefinedMetricWarning: Precision is ill-defined and being set to 0.0 due to no predicted samples. Use `zero_division` parameter to control this behavior.\n",
      "  _warn_prf(average, modifier, msg_start, len(result))\n",
      "/opt/conda/lib/python3.9/site-packages/sklearn/metrics/_classification.py:1245: UndefinedMetricWarning: Precision is ill-defined and being set to 0.0 due to no predicted samples. Use `zero_division` parameter to control this behavior.\n",
      "  _warn_prf(average, modifier, msg_start, len(result))\n",
      "/opt/conda/lib/python3.9/site-packages/sklearn/metrics/_classification.py:1245: UndefinedMetricWarning: Precision is ill-defined and being set to 0.0 due to no predicted samples. Use `zero_division` parameter to control this behavior.\n",
      "  _warn_prf(average, modifier, msg_start, len(result))\n",
      "/opt/conda/lib/python3.9/site-packages/sklearn/metrics/_classification.py:1245: UndefinedMetricWarning: Precision is ill-defined and being set to 0.0 due to no predicted samples. Use `zero_division` parameter to control this behavior.\n",
      "  _warn_prf(average, modifier, msg_start, len(result))\n",
      "/opt/conda/lib/python3.9/site-packages/sklearn/metrics/_classification.py:1245: UndefinedMetricWarning: Precision is ill-defined and being set to 0.0 due to no predicted samples. Use `zero_division` parameter to control this behavior.\n",
      "  _warn_prf(average, modifier, msg_start, len(result))\n",
      "/opt/conda/lib/python3.9/site-packages/sklearn/metrics/_classification.py:1245: UndefinedMetricWarning: Precision is ill-defined and being set to 0.0 due to no predicted samples. Use `zero_division` parameter to control this behavior.\n",
      "  _warn_prf(average, modifier, msg_start, len(result))\n",
      "/opt/conda/lib/python3.9/site-packages/sklearn/metrics/_classification.py:1245: UndefinedMetricWarning: Precision is ill-defined and being set to 0.0 due to no predicted samples. Use `zero_division` parameter to control this behavior.\n",
      "  _warn_prf(average, modifier, msg_start, len(result))\n",
      "/opt/conda/lib/python3.9/site-packages/sklearn/metrics/_classification.py:1245: UndefinedMetricWarning: Precision is ill-defined and being set to 0.0 due to no predicted samples. Use `zero_division` parameter to control this behavior.\n",
      "  _warn_prf(average, modifier, msg_start, len(result))\n",
      "/opt/conda/lib/python3.9/site-packages/sklearn/metrics/_classification.py:1245: UndefinedMetricWarning: Precision is ill-defined and being set to 0.0 due to no predicted samples. Use `zero_division` parameter to control this behavior.\n",
      "  _warn_prf(average, modifier, msg_start, len(result))\n",
      "/opt/conda/lib/python3.9/site-packages/sklearn/metrics/_classification.py:1245: UndefinedMetricWarning: Precision is ill-defined and being set to 0.0 due to no predicted samples. Use `zero_division` parameter to control this behavior.\n",
      "  _warn_prf(average, modifier, msg_start, len(result))\n",
      "/opt/conda/lib/python3.9/site-packages/sklearn/metrics/_classification.py:1245: UndefinedMetricWarning: Precision is ill-defined and being set to 0.0 due to no predicted samples. Use `zero_division` parameter to control this behavior.\n",
      "  _warn_prf(average, modifier, msg_start, len(result))\n",
      "/opt/conda/lib/python3.9/site-packages/sklearn/metrics/_classification.py:1245: UndefinedMetricWarning: Precision is ill-defined and being set to 0.0 due to no predicted samples. Use `zero_division` parameter to control this behavior.\n",
      "  _warn_prf(average, modifier, msg_start, len(result))\n",
      "/opt/conda/lib/python3.9/site-packages/sklearn/metrics/_classification.py:1245: UndefinedMetricWarning: Precision is ill-defined and being set to 0.0 due to no predicted samples. Use `zero_division` parameter to control this behavior.\n",
      "  _warn_prf(average, modifier, msg_start, len(result))\n",
      "/opt/conda/lib/python3.9/site-packages/sklearn/metrics/_classification.py:1245: UndefinedMetricWarning: Precision is ill-defined and being set to 0.0 due to no predicted samples. Use `zero_division` parameter to control this behavior.\n",
      "  _warn_prf(average, modifier, msg_start, len(result))\n",
      "/opt/conda/lib/python3.9/site-packages/sklearn/metrics/_classification.py:1245: UndefinedMetricWarning: Precision is ill-defined and being set to 0.0 due to no predicted samples. Use `zero_division` parameter to control this behavior.\n",
      "  _warn_prf(average, modifier, msg_start, len(result))\n",
      "/opt/conda/lib/python3.9/site-packages/sklearn/metrics/_classification.py:1245: UndefinedMetricWarning: Precision is ill-defined and being set to 0.0 due to no predicted samples. Use `zero_division` parameter to control this behavior.\n",
      "  _warn_prf(average, modifier, msg_start, len(result))\n",
      "/opt/conda/lib/python3.9/site-packages/sklearn/metrics/_classification.py:1245: UndefinedMetricWarning: Precision is ill-defined and being set to 0.0 due to no predicted samples. Use `zero_division` parameter to control this behavior.\n",
      "  _warn_prf(average, modifier, msg_start, len(result))\n",
      "/opt/conda/lib/python3.9/site-packages/sklearn/metrics/_classification.py:1245: UndefinedMetricWarning: Precision is ill-defined and being set to 0.0 due to no predicted samples. Use `zero_division` parameter to control this behavior.\n",
      "  _warn_prf(average, modifier, msg_start, len(result))\n",
      "/opt/conda/lib/python3.9/site-packages/sklearn/metrics/_classification.py:1245: UndefinedMetricWarning: Precision is ill-defined and being set to 0.0 due to no predicted samples. Use `zero_division` parameter to control this behavior.\n",
      "  _warn_prf(average, modifier, msg_start, len(result))\n",
      "/opt/conda/lib/python3.9/site-packages/sklearn/metrics/_classification.py:1245: UndefinedMetricWarning: Precision is ill-defined and being set to 0.0 due to no predicted samples. Use `zero_division` parameter to control this behavior.\n",
      "  _warn_prf(average, modifier, msg_start, len(result))\n",
      "/opt/conda/lib/python3.9/site-packages/sklearn/metrics/_classification.py:1245: UndefinedMetricWarning: Precision is ill-defined and being set to 0.0 due to no predicted samples. Use `zero_division` parameter to control this behavior.\n",
      "  _warn_prf(average, modifier, msg_start, len(result))\n",
      "/opt/conda/lib/python3.9/site-packages/sklearn/metrics/_classification.py:1245: UndefinedMetricWarning: Precision is ill-defined and being set to 0.0 due to no predicted samples. Use `zero_division` parameter to control this behavior.\n",
      "  _warn_prf(average, modifier, msg_start, len(result))\n",
      "/opt/conda/lib/python3.9/site-packages/sklearn/metrics/_classification.py:1245: UndefinedMetricWarning: Precision is ill-defined and being set to 0.0 due to no predicted samples. Use `zero_division` parameter to control this behavior.\n",
      "  _warn_prf(average, modifier, msg_start, len(result))\n",
      "/opt/conda/lib/python3.9/site-packages/sklearn/metrics/_classification.py:1245: UndefinedMetricWarning: Precision is ill-defined and being set to 0.0 due to no predicted samples. Use `zero_division` parameter to control this behavior.\n",
      "  _warn_prf(average, modifier, msg_start, len(result))\n"
     ]
    }
   ],
   "source": [
    "probabilities_valid = best_rf_model_up.predict_proba(features_valid)\n",
    "probabilities_one_valid = probabilities_valid[:,1]\n",
    "f1_store = []\n",
    "acc_store = []\n",
    "prec_store = []\n",
    "rec_store = []\n",
    "total = []\n",
    "tresh = np.arange(0,1.02,0.001)\n",
    "for threshold in np.arange(0,1.02,0.001):\n",
    "    predicted_valid = probabilities_one_valid > threshold\n",
    "    f1 = f1_score(target_valid, predicted_valid)\n",
    "    precision = precision_score(target_valid, predicted_valid)\n",
    "    accuracy = accuracy_score(target_valid, predicted_valid)\n",
    "    recall = recall_score(target_valid, predicted_valid)\n",
    "    f1_store.append(f1)\n",
    "    acc_store.append(accuracy)\n",
    "    prec_store.append(precision)\n",
    "    rec_store.append(recall)\n",
    "    total.append((accuracy+recall+f1)/3)"
   ]
  },
  {
   "cell_type": "code",
   "execution_count": 67,
   "metadata": {
    "scrolled": true
   },
   "outputs": [
    {
     "data": {
      "image/png": "[encoded data removed]",
      "text/plain": [
       "<Figure size 648x288 with 1 Axes>"
      ]
     },
     "metadata": {
      "needs_background": "light"
     },
     "output_type": "display_data"
    }
   ],
   "source": [
    "\n",
    "plt.figure(figsize=(9,4))\n",
    "plt.plot(tresh, total,label='average (accuracy, recall dan f1)')\n",
    "plt.plot(tresh, acc_store,label='accuracy')\n",
    "plt.plot(tresh, rec_store,label='recall')\n",
    "plt.plot(tresh, f1_store,label='f1')\n",
    "plt.xticks(np.arange(0,1.1,0.1))\n",
    "plt.legend()\n",
    "plt.grid()\n",
    "plt.show()"
   ]
  },
  {
   "cell_type": "code",
   "execution_count": 68,
   "metadata": {},
   "outputs": [
    {
     "name": "stdout",
     "output_type": "stream",
     "text": [
      "Nilai akurasi, recall, dan f1 di titik rata-rata akurasi, recall, f1 optimal:\n",
      "Nilai threshold = 0.500\n",
      "Nilai akurasi = 0.810\n",
      "Nilai recall = 0.730\n",
      "Nilai f1 = 0.607\n",
      " \n",
      "Nilai akurasi, recall, dan f1 di titik f1 maksimal:\n",
      "Nilai threshold = 0.533\n",
      "Nilai akurasi = 0.829\n",
      "Nilai recall = 0.679\n",
      "Nilai f1 = 0.615\n",
      " \n",
      "Nilai akurasi, recall, dan f1 di titik akurasi maksimal:\n",
      "Nilai threshold = 0.731\n",
      "Nilai akurasi = 0.872\n",
      "Nilai recall = 0.493\n",
      "Nilai f1 = 0.608\n"
     ]
    }
   ],
   "source": [
    "f1_store = pd.Series(f1_store)\n",
    "acc_store = pd.Series(acc_store)\n",
    "rec_store = pd.Series(rec_store)\n",
    "tresh = pd.Series(tresh)\n",
    "\n",
    "print('Nilai akurasi, recall, dan f1 di titik rata-rata akurasi, recall, f1 optimal:')\n",
    "print(f'Nilai threshold = {float(tresh[total==max(total)]):.3f}')\n",
    "print(f'Nilai akurasi = {float(acc_store[total==max(total)]):.3f}')\n",
    "print(f'Nilai recall = {float(rec_store[total==max(total)]):.3f}')\n",
    "print(f'Nilai f1 = {float(f1_store[total==max(total)]):.3f}')\n",
    "print(' ')\n",
    "print('Nilai akurasi, recall, dan f1 di titik f1 maksimal:')\n",
    "print(f'Nilai threshold = {float(tresh[f1_store==max(f1_store)]):.3f}')\n",
    "print(f'Nilai akurasi = {float(acc_store[f1_store==max(f1_store)]):.3f}')\n",
    "print(f'Nilai recall = {float(rec_store[f1_store==max(f1_store)]):.3f}')\n",
    "print(f'Nilai f1 = {float(f1_store[f1_store==max(f1_store)]):.3f}')\n",
    "print(' ')\n",
    "print('Nilai akurasi, recall, dan f1 di titik akurasi maksimal:')\n",
    "print(f'Nilai threshold = {float(tresh[acc_store==max(acc_store)]):.3f}')\n",
    "print(f'Nilai akurasi = {float(acc_store[acc_store==max(acc_store)]):.3f}')\n",
    "print(f'Nilai recall = {float(rec_store[acc_store==max(acc_store)]):.3f}')\n",
    "print(f'Nilai f1 = {float(f1_store[acc_store==max(acc_store)]):.3f}')"
   ]
  },
  {
   "cell_type": "markdown",
   "metadata": {},
   "source": [
    "Dari ketiga titik extrim tersebut, tidak ada yang menarik menurut saya. Ketika kita memaksimalkan satu metrik, metrik lainnya dikorbankan. Saya ingin mendapatkan akurasi yang cukup tinggi, dengan f1 minimal 0.59 namun tidak mengorbankan metrik recall."
   ]
  },
  {
   "cell_type": "markdown",
   "metadata": {},
   "source": [
    "<div class=\"alert alert-success\">\n",
    "<b>Chamdani's comment v.1</b> <a class=\"tocSkip\"></a>\n",
    "\n",
    "Bagus, semua berjalan lancar.\n",
    "\n",
    "</div>"
   ]
  },
  {
   "cell_type": "code",
   "execution_count": 69,
   "metadata": {},
   "outputs": [
    {
     "data": {
      "text/plain": [
       "493    0.493\n",
       "494    0.494\n",
       "dtype: float64"
      ]
     },
     "execution_count": 69,
     "metadata": {},
     "output_type": "execute_result"
    }
   ],
   "source": [
    "tresh[(acc_store>=0.80)&(rec_store>0.73)&(f1_store>=0.59)]"
   ]
  },
  {
   "cell_type": "markdown",
   "metadata": {},
   "source": [
    "Mari kita lihat pada index 493!"
   ]
  },
  {
   "cell_type": "code",
   "execution_count": 70,
   "metadata": {},
   "outputs": [
    {
     "name": "stdout",
     "output_type": "stream",
     "text": [
      " \n",
      "Nilai akurasi, recall, dan f1 di index 494:\n",
      "Nilai threshold = 0.494\n",
      "Nilai akurasi = 0.801\n",
      "Nilai recall = 0.734\n",
      "Nilai f1 = 0.597\n"
     ]
    }
   ],
   "source": [
    "print(' ')\n",
    "print('Nilai akurasi, recall, dan f1 di index 494:')\n",
    "print(f'Nilai threshold = {float(tresh[494]):.3f}')\n",
    "print(f'Nilai akurasi = {float(acc_store[494]):.3f}')\n",
    "print(f'Nilai recall = {float(rec_store[494]):.3f}')\n",
    "print(f'Nilai f1 = {float(f1_store[494]):.3f}')"
   ]
  },
  {
   "cell_type": "markdown",
   "metadata": {},
   "source": [
    "Ternyata perubahannya tidak signifikan. Berdasarkan hasil analisa diatas, titik yang memberikan akurasi, recall dan f1 optimum berada pada batas defaultnya yaitu 0.5!. Namun sebenarnya perintah dari project ini yaitu mendapatkan nilai f1 semaksimal mungkin. Namun saya lihat pada titik tersebut, nilai recallnya menurun menjadi 68%."
   ]
  },
  {
   "cell_type": "markdown",
   "metadata": {},
   "source": [
    "<div class=\"alert alert-success\">\n",
    "<b>Chamdani's comment v.1</b> <a class=\"tocSkip\"></a>\n",
    "\n",
    "Bagus, semua berjalan lancar.\n",
    "\n",
    "</div>"
   ]
  },
  {
   "cell_type": "code",
   "execution_count": 71,
   "metadata": {},
   "outputs": [],
   "source": [
    "upsampling_th = 0.5"
   ]
  },
  {
   "cell_type": "markdown",
   "metadata": {},
   "source": [
    "##### Adjustment treshold data downsampling"
   ]
  },
  {
   "cell_type": "code",
   "execution_count": 72,
   "metadata": {},
   "outputs": [],
   "source": [
    "predicted_valid_down = best_rf_model_down.predict(features_valid)"
   ]
  },
  {
   "cell_type": "code",
   "execution_count": 73,
   "metadata": {
    "collapsed": true
   },
   "outputs": [
    {
     "name": "stderr",
     "output_type": "stream",
     "text": [
      "/opt/conda/lib/python3.9/site-packages/sklearn/metrics/_classification.py:1245: UndefinedMetricWarning: Precision is ill-defined and being set to 0.0 due to no predicted samples. Use `zero_division` parameter to control this behavior.\n",
      "  _warn_prf(average, modifier, msg_start, len(result))\n",
      "/opt/conda/lib/python3.9/site-packages/sklearn/metrics/_classification.py:1245: UndefinedMetricWarning: Precision is ill-defined and being set to 0.0 due to no predicted samples. Use `zero_division` parameter to control this behavior.\n",
      "  _warn_prf(average, modifier, msg_start, len(result))\n",
      "/opt/conda/lib/python3.9/site-packages/sklearn/metrics/_classification.py:1245: UndefinedMetricWarning: Precision is ill-defined and being set to 0.0 due to no predicted samples. Use `zero_division` parameter to control this behavior.\n",
      "  _warn_prf(average, modifier, msg_start, len(result))\n",
      "/opt/conda/lib/python3.9/site-packages/sklearn/metrics/_classification.py:1245: UndefinedMetricWarning: Precision is ill-defined and being set to 0.0 due to no predicted samples. Use `zero_division` parameter to control this behavior.\n",
      "  _warn_prf(average, modifier, msg_start, len(result))\n",
      "/opt/conda/lib/python3.9/site-packages/sklearn/metrics/_classification.py:1245: UndefinedMetricWarning: Precision is ill-defined and being set to 0.0 due to no predicted samples. Use `zero_division` parameter to control this behavior.\n",
      "  _warn_prf(average, modifier, msg_start, len(result))\n",
      "/opt/conda/lib/python3.9/site-packages/sklearn/metrics/_classification.py:1245: UndefinedMetricWarning: Precision is ill-defined and being set to 0.0 due to no predicted samples. Use `zero_division` parameter to control this behavior.\n",
      "  _warn_prf(average, modifier, msg_start, len(result))\n",
      "/opt/conda/lib/python3.9/site-packages/sklearn/metrics/_classification.py:1245: UndefinedMetricWarning: Precision is ill-defined and being set to 0.0 due to no predicted samples. Use `zero_division` parameter to control this behavior.\n",
      "  _warn_prf(average, modifier, msg_start, len(result))\n",
      "/opt/conda/lib/python3.9/site-packages/sklearn/metrics/_classification.py:1245: UndefinedMetricWarning: Precision is ill-defined and being set to 0.0 due to no predicted samples. Use `zero_division` parameter to control this behavior.\n",
      "  _warn_prf(average, modifier, msg_start, len(result))\n",
      "/opt/conda/lib/python3.9/site-packages/sklearn/metrics/_classification.py:1245: UndefinedMetricWarning: Precision is ill-defined and being set to 0.0 due to no predicted samples. Use `zero_division` parameter to control this behavior.\n",
      "  _warn_prf(average, modifier, msg_start, len(result))\n",
      "/opt/conda/lib/python3.9/site-packages/sklearn/metrics/_classification.py:1245: UndefinedMetricWarning: Precision is ill-defined and being set to 0.0 due to no predicted samples. Use `zero_division` parameter to control this behavior.\n",
      "  _warn_prf(average, modifier, msg_start, len(result))\n",
      "/opt/conda/lib/python3.9/site-packages/sklearn/metrics/_classification.py:1245: UndefinedMetricWarning: Precision is ill-defined and being set to 0.0 due to no predicted samples. Use `zero_division` parameter to control this behavior.\n",
      "  _warn_prf(average, modifier, msg_start, len(result))\n",
      "/opt/conda/lib/python3.9/site-packages/sklearn/metrics/_classification.py:1245: UndefinedMetricWarning: Precision is ill-defined and being set to 0.0 due to no predicted samples. Use `zero_division` parameter to control this behavior.\n",
      "  _warn_prf(average, modifier, msg_start, len(result))\n",
      "/opt/conda/lib/python3.9/site-packages/sklearn/metrics/_classification.py:1245: UndefinedMetricWarning: Precision is ill-defined and being set to 0.0 due to no predicted samples. Use `zero_division` parameter to control this behavior.\n",
      "  _warn_prf(average, modifier, msg_start, len(result))\n",
      "/opt/conda/lib/python3.9/site-packages/sklearn/metrics/_classification.py:1245: UndefinedMetricWarning: Precision is ill-defined and being set to 0.0 due to no predicted samples. Use `zero_division` parameter to control this behavior.\n",
      "  _warn_prf(average, modifier, msg_start, len(result))\n",
      "/opt/conda/lib/python3.9/site-packages/sklearn/metrics/_classification.py:1245: UndefinedMetricWarning: Precision is ill-defined and being set to 0.0 due to no predicted samples. Use `zero_division` parameter to control this behavior.\n",
      "  _warn_prf(average, modifier, msg_start, len(result))\n",
      "/opt/conda/lib/python3.9/site-packages/sklearn/metrics/_classification.py:1245: UndefinedMetricWarning: Precision is ill-defined and being set to 0.0 due to no predicted samples. Use `zero_division` parameter to control this behavior.\n",
      "  _warn_prf(average, modifier, msg_start, len(result))\n",
      "/opt/conda/lib/python3.9/site-packages/sklearn/metrics/_classification.py:1245: UndefinedMetricWarning: Precision is ill-defined and being set to 0.0 due to no predicted samples. Use `zero_division` parameter to control this behavior.\n",
      "  _warn_prf(average, modifier, msg_start, len(result))\n",
      "/opt/conda/lib/python3.9/site-packages/sklearn/metrics/_classification.py:1245: UndefinedMetricWarning: Precision is ill-defined and being set to 0.0 due to no predicted samples. Use `zero_division` parameter to control this behavior.\n",
      "  _warn_prf(average, modifier, msg_start, len(result))\n",
      "/opt/conda/lib/python3.9/site-packages/sklearn/metrics/_classification.py:1245: UndefinedMetricWarning: Precision is ill-defined and being set to 0.0 due to no predicted samples. Use `zero_division` parameter to control this behavior.\n",
      "  _warn_prf(average, modifier, msg_start, len(result))\n",
      "/opt/conda/lib/python3.9/site-packages/sklearn/metrics/_classification.py:1245: UndefinedMetricWarning: Precision is ill-defined and being set to 0.0 due to no predicted samples. Use `zero_division` parameter to control this behavior.\n",
      "  _warn_prf(average, modifier, msg_start, len(result))\n",
      "/opt/conda/lib/python3.9/site-packages/sklearn/metrics/_classification.py:1245: UndefinedMetricWarning: Precision is ill-defined and being set to 0.0 due to no predicted samples. Use `zero_division` parameter to control this behavior.\n",
      "  _warn_prf(average, modifier, msg_start, len(result))\n",
      "/opt/conda/lib/python3.9/site-packages/sklearn/metrics/_classification.py:1245: UndefinedMetricWarning: Precision is ill-defined and being set to 0.0 due to no predicted samples. Use `zero_division` parameter to control this behavior.\n",
      "  _warn_prf(average, modifier, msg_start, len(result))\n",
      "/opt/conda/lib/python3.9/site-packages/sklearn/metrics/_classification.py:1245: UndefinedMetricWarning: Precision is ill-defined and being set to 0.0 due to no predicted samples. Use `zero_division` parameter to control this behavior.\n",
      "  _warn_prf(average, modifier, msg_start, len(result))\n",
      "/opt/conda/lib/python3.9/site-packages/sklearn/metrics/_classification.py:1245: UndefinedMetricWarning: Precision is ill-defined and being set to 0.0 due to no predicted samples. Use `zero_division` parameter to control this behavior.\n",
      "  _warn_prf(average, modifier, msg_start, len(result))\n",
      "/opt/conda/lib/python3.9/site-packages/sklearn/metrics/_classification.py:1245: UndefinedMetricWarning: Precision is ill-defined and being set to 0.0 due to no predicted samples. Use `zero_division` parameter to control this behavior.\n",
      "  _warn_prf(average, modifier, msg_start, len(result))\n",
      "/opt/conda/lib/python3.9/site-packages/sklearn/metrics/_classification.py:1245: UndefinedMetricWarning: Precision is ill-defined and being set to 0.0 due to no predicted samples. Use `zero_division` parameter to control this behavior.\n",
      "  _warn_prf(average, modifier, msg_start, len(result))\n",
      "/opt/conda/lib/python3.9/site-packages/sklearn/metrics/_classification.py:1245: UndefinedMetricWarning: Precision is ill-defined and being set to 0.0 due to no predicted samples. Use `zero_division` parameter to control this behavior.\n",
      "  _warn_prf(average, modifier, msg_start, len(result))\n",
      "/opt/conda/lib/python3.9/site-packages/sklearn/metrics/_classification.py:1245: UndefinedMetricWarning: Precision is ill-defined and being set to 0.0 due to no predicted samples. Use `zero_division` parameter to control this behavior.\n",
      "  _warn_prf(average, modifier, msg_start, len(result))\n",
      "/opt/conda/lib/python3.9/site-packages/sklearn/metrics/_classification.py:1245: UndefinedMetricWarning: Precision is ill-defined and being set to 0.0 due to no predicted samples. Use `zero_division` parameter to control this behavior.\n",
      "  _warn_prf(average, modifier, msg_start, len(result))\n",
      "/opt/conda/lib/python3.9/site-packages/sklearn/metrics/_classification.py:1245: UndefinedMetricWarning: Precision is ill-defined and being set to 0.0 due to no predicted samples. Use `zero_division` parameter to control this behavior.\n",
      "  _warn_prf(average, modifier, msg_start, len(result))\n",
      "/opt/conda/lib/python3.9/site-packages/sklearn/metrics/_classification.py:1245: UndefinedMetricWarning: Precision is ill-defined and being set to 0.0 due to no predicted samples. Use `zero_division` parameter to control this behavior.\n",
      "  _warn_prf(average, modifier, msg_start, len(result))\n",
      "/opt/conda/lib/python3.9/site-packages/sklearn/metrics/_classification.py:1245: UndefinedMetricWarning: Precision is ill-defined and being set to 0.0 due to no predicted samples. Use `zero_division` parameter to control this behavior.\n",
      "  _warn_prf(average, modifier, msg_start, len(result))\n",
      "/opt/conda/lib/python3.9/site-packages/sklearn/metrics/_classification.py:1245: UndefinedMetricWarning: Precision is ill-defined and being set to 0.0 due to no predicted samples. Use `zero_division` parameter to control this behavior.\n",
      "  _warn_prf(average, modifier, msg_start, len(result))\n",
      "/opt/conda/lib/python3.9/site-packages/sklearn/metrics/_classification.py:1245: UndefinedMetricWarning: Precision is ill-defined and being set to 0.0 due to no predicted samples. Use `zero_division` parameter to control this behavior.\n",
      "  _warn_prf(average, modifier, msg_start, len(result))\n",
      "/opt/conda/lib/python3.9/site-packages/sklearn/metrics/_classification.py:1245: UndefinedMetricWarning: Precision is ill-defined and being set to 0.0 due to no predicted samples. Use `zero_division` parameter to control this behavior.\n",
      "  _warn_prf(average, modifier, msg_start, len(result))\n",
      "/opt/conda/lib/python3.9/site-packages/sklearn/metrics/_classification.py:1245: UndefinedMetricWarning: Precision is ill-defined and being set to 0.0 due to no predicted samples. Use `zero_division` parameter to control this behavior.\n",
      "  _warn_prf(average, modifier, msg_start, len(result))\n",
      "/opt/conda/lib/python3.9/site-packages/sklearn/metrics/_classification.py:1245: UndefinedMetricWarning: Precision is ill-defined and being set to 0.0 due to no predicted samples. Use `zero_division` parameter to control this behavior.\n",
      "  _warn_prf(average, modifier, msg_start, len(result))\n",
      "/opt/conda/lib/python3.9/site-packages/sklearn/metrics/_classification.py:1245: UndefinedMetricWarning: Precision is ill-defined and being set to 0.0 due to no predicted samples. Use `zero_division` parameter to control this behavior.\n",
      "  _warn_prf(average, modifier, msg_start, len(result))\n",
      "/opt/conda/lib/python3.9/site-packages/sklearn/metrics/_classification.py:1245: UndefinedMetricWarning: Precision is ill-defined and being set to 0.0 due to no predicted samples. Use `zero_division` parameter to control this behavior.\n",
      "  _warn_prf(average, modifier, msg_start, len(result))\n",
      "/opt/conda/lib/python3.9/site-packages/sklearn/metrics/_classification.py:1245: UndefinedMetricWarning: Precision is ill-defined and being set to 0.0 due to no predicted samples. Use `zero_division` parameter to control this behavior.\n",
      "  _warn_prf(average, modifier, msg_start, len(result))\n",
      "/opt/conda/lib/python3.9/site-packages/sklearn/metrics/_classification.py:1245: UndefinedMetricWarning: Precision is ill-defined and being set to 0.0 due to no predicted samples. Use `zero_division` parameter to control this behavior.\n",
      "  _warn_prf(average, modifier, msg_start, len(result))\n",
      "/opt/conda/lib/python3.9/site-packages/sklearn/metrics/_classification.py:1245: UndefinedMetricWarning: Precision is ill-defined and being set to 0.0 due to no predicted samples. Use `zero_division` parameter to control this behavior.\n",
      "  _warn_prf(average, modifier, msg_start, len(result))\n",
      "/opt/conda/lib/python3.9/site-packages/sklearn/metrics/_classification.py:1245: UndefinedMetricWarning: Precision is ill-defined and being set to 0.0 due to no predicted samples. Use `zero_division` parameter to control this behavior.\n",
      "  _warn_prf(average, modifier, msg_start, len(result))\n",
      "/opt/conda/lib/python3.9/site-packages/sklearn/metrics/_classification.py:1245: UndefinedMetricWarning: Precision is ill-defined and being set to 0.0 due to no predicted samples. Use `zero_division` parameter to control this behavior.\n",
      "  _warn_prf(average, modifier, msg_start, len(result))\n",
      "/opt/conda/lib/python3.9/site-packages/sklearn/metrics/_classification.py:1245: UndefinedMetricWarning: Precision is ill-defined and being set to 0.0 due to no predicted samples. Use `zero_division` parameter to control this behavior.\n",
      "  _warn_prf(average, modifier, msg_start, len(result))\n",
      "/opt/conda/lib/python3.9/site-packages/sklearn/metrics/_classification.py:1245: UndefinedMetricWarning: Precision is ill-defined and being set to 0.0 due to no predicted samples. Use `zero_division` parameter to control this behavior.\n",
      "  _warn_prf(average, modifier, msg_start, len(result))\n",
      "/opt/conda/lib/python3.9/site-packages/sklearn/metrics/_classification.py:1245: UndefinedMetricWarning: Precision is ill-defined and being set to 0.0 due to no predicted samples. Use `zero_division` parameter to control this behavior.\n",
      "  _warn_prf(average, modifier, msg_start, len(result))\n",
      "/opt/conda/lib/python3.9/site-packages/sklearn/metrics/_classification.py:1245: UndefinedMetricWarning: Precision is ill-defined and being set to 0.0 due to no predicted samples. Use `zero_division` parameter to control this behavior.\n",
      "  _warn_prf(average, modifier, msg_start, len(result))\n",
      "/opt/conda/lib/python3.9/site-packages/sklearn/metrics/_classification.py:1245: UndefinedMetricWarning: Precision is ill-defined and being set to 0.0 due to no predicted samples. Use `zero_division` parameter to control this behavior.\n",
      "  _warn_prf(average, modifier, msg_start, len(result))\n",
      "/opt/conda/lib/python3.9/site-packages/sklearn/metrics/_classification.py:1245: UndefinedMetricWarning: Precision is ill-defined and being set to 0.0 due to no predicted samples. Use `zero_division` parameter to control this behavior.\n",
      "  _warn_prf(average, modifier, msg_start, len(result))\n",
      "/opt/conda/lib/python3.9/site-packages/sklearn/metrics/_classification.py:1245: UndefinedMetricWarning: Precision is ill-defined and being set to 0.0 due to no predicted samples. Use `zero_division` parameter to control this behavior.\n",
      "  _warn_prf(average, modifier, msg_start, len(result))\n",
      "/opt/conda/lib/python3.9/site-packages/sklearn/metrics/_classification.py:1245: UndefinedMetricWarning: Precision is ill-defined and being set to 0.0 due to no predicted samples. Use `zero_division` parameter to control this behavior.\n",
      "  _warn_prf(average, modifier, msg_start, len(result))\n",
      "/opt/conda/lib/python3.9/site-packages/sklearn/metrics/_classification.py:1245: UndefinedMetricWarning: Precision is ill-defined and being set to 0.0 due to no predicted samples. Use `zero_division` parameter to control this behavior.\n",
      "  _warn_prf(average, modifier, msg_start, len(result))\n",
      "/opt/conda/lib/python3.9/site-packages/sklearn/metrics/_classification.py:1245: UndefinedMetricWarning: Precision is ill-defined and being set to 0.0 due to no predicted samples. Use `zero_division` parameter to control this behavior.\n",
      "  _warn_prf(average, modifier, msg_start, len(result))\n",
      "/opt/conda/lib/python3.9/site-packages/sklearn/metrics/_classification.py:1245: UndefinedMetricWarning: Precision is ill-defined and being set to 0.0 due to no predicted samples. Use `zero_division` parameter to control this behavior.\n",
      "  _warn_prf(average, modifier, msg_start, len(result))\n",
      "/opt/conda/lib/python3.9/site-packages/sklearn/metrics/_classification.py:1245: UndefinedMetricWarning: Precision is ill-defined and being set to 0.0 due to no predicted samples. Use `zero_division` parameter to control this behavior.\n",
      "  _warn_prf(average, modifier, msg_start, len(result))\n",
      "/opt/conda/lib/python3.9/site-packages/sklearn/metrics/_classification.py:1245: UndefinedMetricWarning: Precision is ill-defined and being set to 0.0 due to no predicted samples. Use `zero_division` parameter to control this behavior.\n",
      "  _warn_prf(average, modifier, msg_start, len(result))\n"
     ]
    }
   ],
   "source": [
    "probabilities_valid = best_rf_model_down.predict_proba(features_valid)\n",
    "probabilities_one_valid = probabilities_valid[:,1]\n",
    "f1_store = []\n",
    "acc_store = []\n",
    "prec_store = []\n",
    "rec_store = []\n",
    "total = []\n",
    "tresh = np.arange(0,1.02,0.001)\n",
    "for threshold in np.arange(0,1.02,0.001):\n",
    "    predicted_valid = probabilities_one_valid > threshold\n",
    "    f1 = f1_score(target_valid, predicted_valid)\n",
    "    precision = precision_score(target_valid, predicted_valid)\n",
    "    accuracy = accuracy_score(target_valid, predicted_valid)\n",
    "    recall = recall_score(target_valid, predicted_valid)\n",
    "    f1_store.append(f1)\n",
    "    acc_store.append(accuracy)\n",
    "    prec_store.append(precision)\n",
    "    rec_store.append(recall)\n",
    "    total.append((accuracy+recall+f1)/3)"
   ]
  },
  {
   "cell_type": "code",
   "execution_count": 74,
   "metadata": {},
   "outputs": [
    {
     "data": {
      "image/png": "[encoded data removed]",
      "text/plain": [
       "<Figure size 648x288 with 1 Axes>"
      ]
     },
     "metadata": {
      "needs_background": "light"
     },
     "output_type": "display_data"
    }
   ],
   "source": [
    "plt.figure(figsize=(9,4))\n",
    "plt.plot(tresh, total,label='average (accuracy, recall dan f1)')\n",
    "plt.plot(tresh, acc_store,label='accuracy')\n",
    "plt.plot(tresh, rec_store,label='recall')\n",
    "plt.plot(tresh, f1_store,label='f1')\n",
    "plt.xticks(np.arange(0,1.1,0.1))\n",
    "plt.legend()\n",
    "plt.grid()\n",
    "plt.show()"
   ]
  },
  {
   "cell_type": "code",
   "execution_count": 75,
   "metadata": {},
   "outputs": [
    {
     "name": "stdout",
     "output_type": "stream",
     "text": [
      "Nilai akurasi, recall, dan f1 di titik rata-rata akurasi, recall, f1 optimal:\n",
      "Nilai threshold = 0.508\n",
      "Nilai akurasi = 0.813\n",
      "Nilai recall = 0.748\n",
      "Nilai f1 = 0.617\n",
      " \n",
      "Nilai akurasi, recall, dan f1 di titik f1 maksimal:\n",
      "Nilai threshold = 0.577\n",
      "Nilai akurasi = 0.849\n",
      "Nilai recall = 0.657\n",
      "Nilai f1 = 0.636\n",
      " \n",
      "Nilai akurasi, recall, dan f1 di titik akurasi maksimal:\n",
      "Nilai threshold = 0.764\n",
      "Nilai akurasi = 0.869\n",
      "Nilai recall = 0.423\n",
      "Nilai f1 = 0.564\n"
     ]
    }
   ],
   "source": [
    "f1_store = pd.Series(f1_store)\n",
    "acc_store = pd.Series(acc_store)\n",
    "rec_store = pd.Series(rec_store)\n",
    "tresh = pd.Series(tresh)\n",
    "\n",
    "print('Nilai akurasi, recall, dan f1 di titik rata-rata akurasi, recall, f1 optimal:')\n",
    "print(f'Nilai threshold = {float(tresh[total==max(total)]):.3f}')\n",
    "print(f'Nilai akurasi = {float(acc_store[total==max(total)]):.3f}')\n",
    "print(f'Nilai recall = {float(rec_store[total==max(total)]):.3f}')\n",
    "print(f'Nilai f1 = {float(f1_store[total==max(total)]):.3f}')\n",
    "print(' ')\n",
    "print('Nilai akurasi, recall, dan f1 di titik f1 maksimal:')\n",
    "print(f'Nilai threshold = {float(tresh[f1_store==max(f1_store)].iloc[0]):.3f}')\n",
    "print(f'Nilai akurasi = {float(acc_store[f1_store==max(f1_store)].iloc[0]):.3f}')\n",
    "print(f'Nilai recall = {float(rec_store[f1_store==max(f1_store)].iloc[0]):.3f}')\n",
    "print(f'Nilai f1 = {float(f1_store[f1_store==max(f1_store)].iloc[0]):.3f}')\n",
    "print(' ')\n",
    "print('Nilai akurasi, recall, dan f1 di titik akurasi maksimal:')\n",
    "print(f'Nilai threshold = {float(tresh[acc_store==max(acc_store)]):.3f}')\n",
    "print(f'Nilai akurasi = {float(acc_store[acc_store==max(acc_store)]):.3f}')\n",
    "print(f'Nilai recall = {float(rec_store[acc_store==max(acc_store)]):.3f}')\n",
    "print(f'Nilai f1 = {float(f1_store[acc_store==max(acc_store)]):.3f}')"
   ]
  },
  {
   "cell_type": "markdown",
   "metadata": {},
   "source": [
    "Berdasarkan analisa pada 3 titik optimum dipilih batas threshold yang memberikan rata-rata akurasi, recall, dan f1 yang paling optimal yaitu pada threshold = 0.508."
   ]
  },
  {
   "cell_type": "code",
   "execution_count": 76,
   "metadata": {},
   "outputs": [],
   "source": [
    "downsampling_th = 0.508"
   ]
  },
  {
   "cell_type": "markdown",
   "metadata": {},
   "source": [
    "#### AUC-ROC"
   ]
  },
  {
   "cell_type": "markdown",
   "metadata": {},
   "source": [
    "##### AUC ROC Upsampling"
   ]
  },
  {
   "cell_type": "code",
   "execution_count": 77,
   "metadata": {},
   "outputs": [],
   "source": [
    "probabilities_valid = best_rf_model_up.predict_proba(features_valid)\n",
    "probabilities_one_valid = probabilities_valid[:, 1]"
   ]
  },
  {
   "cell_type": "code",
   "execution_count": 78,
   "metadata": {},
   "outputs": [
    {
     "data": {
      "image/png": "[encoded data removed]",
      "text/plain": [
       "<Figure size 432x288 with 1 Axes>"
      ]
     },
     "metadata": {
      "needs_background": "light"
     },
     "output_type": "display_data"
    }
   ],
   "source": [
    "fpr, tpr, thresholds = roc_curve(target_valid, probabilities_one_valid)\n",
    "\n",
    "plt.figure()\n",
    "plt.plot(fpr, tpr)\n",
    "plt.plot([0, 1], [0, 1], linestyle='--')\n",
    "plt.xlim([0,1])\n",
    "plt.ylim([0,1])\n",
    "plt.xlabel(\"False Positive Rate\")\n",
    "plt.ylabel('True Positive Rate')\n",
    "plt.title('Kurva ROC')\n",
    "plt.show()"
   ]
  },
  {
   "cell_type": "code",
   "execution_count": 79,
   "metadata": {},
   "outputs": [
    {
     "data": {
      "text/plain": [
       "0.8567124462943972"
      ]
     },
     "execution_count": 79,
     "metadata": {},
     "output_type": "execute_result"
    }
   ],
   "source": [
    "roc_auc_score(target_valid, probabilities_one_valid)"
   ]
  },
  {
   "cell_type": "markdown",
   "metadata": {},
   "source": [
    "Nilai ROC AUC dapat dikatakan bagus karena mendekati 0.9."
   ]
  },
  {
   "cell_type": "markdown",
   "metadata": {},
   "source": [
    "<div class=\"alert alert-success\">\n",
    "<b>Chamdani's comment v.1</b> <a class=\"tocSkip\"></a>\n",
    "\n",
    "Bagus, semua berjalan lancar.\n",
    "\n",
    "</div>"
   ]
  },
  {
   "cell_type": "markdown",
   "metadata": {},
   "source": [
    "##### AUC ROC Upsampling"
   ]
  },
  {
   "cell_type": "code",
   "execution_count": 80,
   "metadata": {},
   "outputs": [],
   "source": [
    "probabilities_valid = best_rf_model_down.predict_proba(features_valid)\n",
    "probabilities_one_valid = probabilities_valid[:, 1]"
   ]
  },
  {
   "cell_type": "code",
   "execution_count": 81,
   "metadata": {},
   "outputs": [
    {
     "data": {
      "image/png": "[encoded data removed]",
      "text/plain": [
       "<Figure size 432x288 with 1 Axes>"
      ]
     },
     "metadata": {
      "needs_background": "light"
     },
     "output_type": "display_data"
    }
   ],
   "source": [
    "fpr, tpr, thresholds = roc_curve(target_valid, probabilities_one_valid)\n",
    "\n",
    "plt.figure()\n",
    "plt.plot(fpr, tpr)\n",
    "plt.plot([0, 1], [0, 1], linestyle='--')\n",
    "plt.xlim([0,1])\n",
    "plt.ylim([0,1])\n",
    "plt.xlabel(\"False Positive Rate\")\n",
    "plt.ylabel('True Positive Rate')\n",
    "plt.title('Kurva ROC')\n",
    "plt.show()"
   ]
  },
  {
   "cell_type": "code",
   "execution_count": 82,
   "metadata": {},
   "outputs": [
    {
     "data": {
      "text/plain": [
       "0.8562801203809831"
      ]
     },
     "execution_count": 82,
     "metadata": {},
     "output_type": "execute_result"
    }
   ],
   "source": [
    "roc_auc_score(target_valid, probabilities_one_valid)"
   ]
  },
  {
   "cell_type": "markdown",
   "metadata": {},
   "source": [
    "Nilai ROC AUC terbaik diperoleh oleh model dengan Upsampling. Meskipun begitu, perbedaanya tidak terlalu signifikan."
   ]
  },
  {
   "cell_type": "markdown",
   "metadata": {},
   "source": [
    "<div class=\"alert alert-success\">\n",
    "<b>Chamdani's comment v.1</b> <a class=\"tocSkip\"></a>\n",
    "\n",
    "Bagus, semua berjalan lancar.\n",
    "\n",
    "</div>"
   ]
  },
  {
   "cell_type": "markdown",
   "metadata": {},
   "source": [
    "## Pengujian Model Final dengan Test Dataset"
   ]
  },
  {
   "cell_type": "markdown",
   "metadata": {},
   "source": [
    "### Baseline Model"
   ]
  },
  {
   "cell_type": "markdown",
   "metadata": {},
   "source": [
    "Sebelum menguji dua model yang berhasil dikembangkan, pertama kita bandingkan terlebih dahulu dengan dummy classifier"
   ]
  },
  {
   "cell_type": "code",
   "execution_count": 83,
   "metadata": {},
   "outputs": [
    {
     "data": {
      "image/png": "[encoded data removed]",
      "text/plain": [
       "<Figure size 432x288 with 2 Axes>"
      ]
     },
     "metadata": {
      "needs_background": "light"
     },
     "output_type": "display_data"
    }
   ],
   "source": [
    "baseline_dummy = DummyClassifier(random_state=12345)\n",
    "baseline_dummy.fit(features_downsampled, target_downsampled)\n",
    "target_dummy_predict = baseline_dummy.predict(features_valid)\n",
    "cm_dm = confusion_matrix(target_valid, baseline_dummy.predict(features_valid))\n",
    "disp = ConfusionMatrixDisplay(confusion_matrix=cm_dm)\n",
    "disp.plot()\n",
    "plt.title('Dummy')\n",
    "plt.xlabel('Prediksi')\n",
    "plt.ylabel('Aktual')\n",
    "plt.show()"
   ]
  },
  {
   "cell_type": "code",
   "execution_count": 84,
   "metadata": {},
   "outputs": [
    {
     "name": "stdout",
     "output_type": "stream",
     "text": [
      "0.3347587049480757\n"
     ]
    }
   ],
   "source": [
    "print(f1_score(target_dummy_predict, target_valid))"
   ]
  },
  {
   "cell_type": "markdown",
   "metadata": {},
   "source": [
    "Nilai F1 score yang diperoleh hanya 33.4%. Dari sini kita sudah bisa menebak model kita sudah lebih baik dari Dummy Classifier. Yang artinya, model kita akan sudah sangat membantu berjalannya project bank kita."
   ]
  },
  {
   "cell_type": "markdown",
   "metadata": {},
   "source": [
    "<div class=\"alert alert-success\">\n",
    "<b>Chamdani's comment v.1</b> <a class=\"tocSkip\"></a>\n",
    "\n",
    "Bagus, semua berjalan lancar.\n",
    "\n",
    "</div>"
   ]
  },
  {
   "cell_type": "markdown",
   "metadata": {},
   "source": [
    "### Model Final"
   ]
  },
  {
   "cell_type": "code",
   "execution_count": 85,
   "metadata": {},
   "outputs": [],
   "source": [
    "final_model_up = best_rf_model_up\n",
    "final_model_down = best_rf_model_down"
   ]
  },
  {
   "cell_type": "markdown",
   "metadata": {},
   "source": [
    "Pada tahap ini akan dilakukan proses pengujian dengan dataset test. Dengan tujuan akhir ingin mengetahui seberapa besar pengaruh metode balancing dan penyesuaian batas threshold terhadap peningkatan kualitas model."
   ]
  },
  {
   "cell_type": "markdown",
   "metadata": {},
   "source": [
    "#### Model RF Upsampling"
   ]
  },
  {
   "cell_type": "markdown",
   "metadata": {},
   "source": [
    "Pada model RF dengan upsamling tidak ada adjustment Threshold yang diterapkan karena berdasarkan keputusan pada tahap sebelumnya nilai optimum memang terjadi pada saat Threshold bernilai 0.5."
   ]
  },
  {
   "cell_type": "code",
   "execution_count": 86,
   "metadata": {},
   "outputs": [
    {
     "name": "stdout",
     "output_type": "stream",
     "text": [
      "Akurasi yang didapatkan adalah 77.6923076923077\n",
      "Presisi yang didapatkan adalah 51.01351351351351\n",
      "Recall yang didapatkan adalah 72.24880382775119\n",
      "Nilai F1 yang didapatkan adalah 59.80198019801979\n"
     ]
    }
   ],
   "source": [
    "final_model_up.fit(features_upsampled, target_upsampled)\n",
    "print(f'Akurasi yang didapatkan adalah {accuracy_score(target_test, final_model_up.predict(features_test))*100}')\n",
    "print(f'Presisi yang didapatkan adalah {precision_score(target_test, final_model_up.predict(features_test))*100}')\n",
    "print(f'Recall yang didapatkan adalah {recall_score(target_test, final_model_up.predict(features_test))*100}')\n",
    "print(f'Nilai F1 yang didapatkan adalah {f1_score(target_test, final_model_up.predict(features_test))*100}')"
   ]
  },
  {
   "cell_type": "code",
   "execution_count": 87,
   "metadata": {},
   "outputs": [
    {
     "data": {
      "image/png": "[encoded data removed]",
      "text/plain": [
       "<Figure size 432x288 with 2 Axes>"
      ]
     },
     "metadata": {
      "needs_background": "light"
     },
     "output_type": "display_data"
    }
   ],
   "source": [
    "cm_up = confusion_matrix(target_test, final_model_up.predict(features_test))\n",
    "disp = ConfusionMatrixDisplay(confusion_matrix=cm_up)\n",
    "disp.plot()\n",
    "plt.title('Upsampled Tanpa Threshold')\n",
    "plt.xlabel('Prediksi')\n",
    "plt.ylabel('Aktual')\n",
    "plt.show()"
   ]
  },
  {
   "cell_type": "markdown",
   "metadata": {},
   "source": [
    "Tanpa dilakukan penyesuian threshold nilai F-1 sudah mencapai batas minimal tugas ini yaitu 0.59 namun terjadi penurunan akurasi menjadi 0.77."
   ]
  },
  {
   "cell_type": "markdown",
   "metadata": {},
   "source": [
    "<div class=\"alert alert-success\">\n",
    "<b>Chamdani's comment v.1</b> <a class=\"tocSkip\"></a>\n",
    "\n",
    "Bagus, semua berjalan lancar.\n",
    "\n",
    "</div>"
   ]
  },
  {
   "cell_type": "markdown",
   "metadata": {},
   "source": [
    "#### Model RF Downsampling"
   ]
  },
  {
   "cell_type": "markdown",
   "metadata": {},
   "source": [
    "##### Tanpa Threshold"
   ]
  },
  {
   "cell_type": "code",
   "execution_count": 88,
   "metadata": {},
   "outputs": [
    {
     "name": "stdout",
     "output_type": "stream",
     "text": [
      "Akurasi yang didapatkan adalah 76.5934065934066\n",
      "Presisi yang didapatkan adalah 49.378881987577635\n",
      "Recall yang didapatkan adalah 76.07655502392345\n",
      "Nilai F1 yang didapatkan adalah 59.887005649717516\n"
     ]
    }
   ],
   "source": [
    "final_model_down.fit(features_downsampled, target_downsampled)\n",
    "print(f'Akurasi yang didapatkan adalah {accuracy_score(target_test, final_model_down.predict(features_test))*100}')\n",
    "print(f'Presisi yang didapatkan adalah {precision_score(target_test, final_model_down.predict(features_test))*100}')\n",
    "print(f'Recall yang didapatkan adalah {recall_score(target_test, final_model_down.predict(features_test))*100}')\n",
    "print(f'Nilai F1 yang didapatkan adalah {f1_score(target_test, final_model_down.predict(features_test))*100}')"
   ]
  },
  {
   "cell_type": "markdown",
   "metadata": {},
   "source": [
    "Tanpa dilakukan penyesuian threshold nilai F-1 sudah mencapai batas minimal tugas ini yaitu 0.59 namun terjadi penurunan akurasi menjadi 0.76. Penurunan yang terjadi dapat dikatakan lumayan besar yaitu mencapai 4%."
   ]
  },
  {
   "cell_type": "markdown",
   "metadata": {},
   "source": [
    "<div class=\"alert alert-success\">\n",
    "<b>Chamdani's comment v.1</b> <a class=\"tocSkip\"></a>\n",
    "\n",
    "Bagus, semua berjalan lancar.\n",
    "\n",
    "</div>"
   ]
  },
  {
   "cell_type": "markdown",
   "metadata": {},
   "source": [
    "##### Dengan Threshold"
   ]
  },
  {
   "cell_type": "code",
   "execution_count": 89,
   "metadata": {},
   "outputs": [],
   "source": [
    "final_model_down.fit(features_downsampled, target_downsampled)\n",
    "probabilities_test = final_model_down.predict_proba(features_test)\n",
    "probabilities_one_test = probabilities_test[:, 1]\n",
    "predicted_test = probabilities_one_test > downsampling_th"
   ]
  },
  {
   "cell_type": "code",
   "execution_count": 90,
   "metadata": {},
   "outputs": [
    {
     "name": "stdout",
     "output_type": "stream",
     "text": [
      "Akurasi yang didapatkan adalah 76.70329670329672\n",
      "Presisi yang didapatkan adalah 49.51768488745981\n",
      "Recall yang didapatkan adalah 73.68421052631578\n",
      "Nilai F1 yang didapatkan adalah 59.23076923076923\n"
     ]
    }
   ],
   "source": [
    "print(f'Akurasi yang didapatkan adalah {accuracy_score(target_test, predicted_test)*100}')\n",
    "print(f'Presisi yang didapatkan adalah {precision_score(target_test, predicted_test)*100}')\n",
    "print(f'Recall yang didapatkan adalah {recall_score(target_test,predicted_test)*100}')\n",
    "print(f'Nilai F1 yang didapatkan adalah {f1_score(target_test, predicted_test)*100}')"
   ]
  },
  {
   "cell_type": "markdown",
   "metadata": {},
   "source": [
    "Pada saat pengujian dengan menggunakan test dataset diperoleh model upsampling memberikan hasil yang tidak jauh berbeda dari model downsampling. Model downsampling lebih unggul dalam metrik recall sedangkan model upsampling unggul dalam hal akurasi. Namun perbedaanya tidak terlalu signifikan.\n",
    "\n",
    "Penyesuaian threshold tidak terlalu berpengaruh pada kualitas model bahkan nilai recall pada model downsampling menurun apabila kita melakukan penyesuaian threshold."
   ]
  },
  {
   "cell_type": "markdown",
   "metadata": {},
   "source": [
    "<div class=\"alert alert-success\">\n",
    "<b>Chamdani's comment v.1</b> <a class=\"tocSkip\"></a>\n",
    "\n",
    "Bagus, semua berjalan lancar.\n",
    "\n",
    "</div>"
   ]
  },
  {
   "cell_type": "markdown",
   "metadata": {},
   "source": [
    "## Kesimpulan"
   ]
  },
  {
   "cell_type": "markdown",
   "metadata": {},
   "source": [
    "Kesimpulan yang diperoleh dari adalah:\n",
    "1. Kualitas model dapat ditingkatkan dengan melakukan balancing apabila kelas yang dimiliki berbeda bobot salah dua metodenya yaitu dengan Upsampling dan Downsampling. Pemilihan metode terbaik tergantung dari dataset yang dimiliki. Untuk kasus ini hasil pengujian final menunjukan metode Upsampling membuat model bekerja lebih baik.\n",
    "2. Threshold berpengaruh terhadap peningkatan metrik suatu model. Akan tetapi, target metrik yang akan kita optimasikan dengan penyesuaian threshold harus disesuaikan dengan tujuan dari pembuatan model itu sendiri. Tidak selamanya nilai F-1 yang menjadi acuan begitu pula dengan presisi dan recall. Pada penyesuaian nilai threshold, peningkatan F1 berbanding lurus dengan peningkatan akurasi namun berbanding terbalik dengan metrik recall.\n",
    "3. Proses balancing data dilakukan sebelum proses tuning hyperparameter. Karena proses balancing data merupakan salah satu proses persiapan dataset. Proses balancing data dilakukan hanya kepada training dataset saja.\n",
    "4. Proses penyesuaian threshold dilakukan setelah proses hyperparameter tuning."
   ]
  },
  {
   "cell_type": "markdown",
   "metadata": {},
   "source": [
    "<div class=\"alert alert-success\">\n",
    "<b>Chamdani's comment v.1</b> <a class=\"tocSkip\"></a>\n",
    "\n",
    "Bagus, semua berjalan lancar.\n",
    "\n",
    "</div>"
   ]
  },
  {
   "cell_type": "code",
   "execution_count": null,
   "metadata": {},
   "outputs": [],
   "source": []
  }
 ],
 "metadata": {
  "kernelspec": {
   "display_name": "Python 3 (ipykernel)",
   "language": "python",
   "name": "python3"
  },
  "language_info": {
   "codemirror_mode": {
    "name": "ipython",
    "version": 3
   },
   "file_extension": ".py",
   "mimetype": "text/x-python",
   "name": "python",
   "nbconvert_exporter": "python",
   "pygments_lexer": "ipython3",
   "version": "3.9.5"
  },
  "toc": {
   "base_numbering": 1,
   "nav_menu": {},
   "number_sections": true,
   "sideBar": true,
   "skip_h1_title": true,
   "title_cell": "Table of Contents",
   "title_sidebar": "Contents",
   "toc_cell": false,
   "toc_position": {
    "height": "calc(100% - 180px)",
    "left": "10px",
    "top": "150px",
    "width": "493.54px"
   },
   "toc_section_display": true,
   "toc_window_display": false
  }
 },
 "nbformat": 4,
 "nbformat_minor": 2
}
