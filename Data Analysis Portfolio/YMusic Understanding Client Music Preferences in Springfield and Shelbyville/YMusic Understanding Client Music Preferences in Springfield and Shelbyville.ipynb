{
 "cells": [
  {
   "cell_type": "markdown",
   "metadata": {
    "id": "E0vqbgi9ay0H"
   },
   "source": [
    "# Y.Music"
   ]
  },
  {
   "cell_type": "markdown",
   "metadata": {},
   "source": [
    "<div style=\"border:solid black 2px; padding: 20px\"><h1 style=\"color:green; margin-bottom:20px\">Reviewer's comment v1</h1>\n",
    "Halo Azam!\n",
    "\n",
    "Perkenalkan saya Naufal, disini saya akan mereview tugas Azam ya.\n",
    "\n",
    "Saya akan memberikan beberapa komen seperti dibawah ini, tolong jangan dipindah, dirubah, maupun dihapus ya.\n",
    "\n",
    "Komen yang saya berikan akan muncul dalam warna hijau, kuning, atau pun merah seperti ini:\n",
    "\n",
    "<div class=\"alert alert-success\">\n",
    "<b>Reviewer's comment</b> <a class=\"tocSkip\"></a>\n",
    "\n",
    "Bagus, semua berjalan lancar.\n",
    "\n",
    "</div>\n",
    "\n",
    "<div class=\"alert alert-warning\">\n",
    "<b>Reviewer's comment</b> <a class=\"tocSkip\"></a>\n",
    "\n",
    "Terdapat beberapa catatan.\n",
    "\n",
    "</div>\n",
    "\n",
    "<div class=\"alert alert-danger\">\n",
    "<b>Reviewer's comment</b> <a class=\"tocSkip\"></a>\n",
    "\n",
    "Perlu beberapa perbaikan\n",
    "\n",
    "</div>\n",
    "\n",
    "Dan tentu saja Azam dapat menjawab saya dengan menggunakan ini\n",
    "\n",
    "<div class=\"alert alert-block alert-info\">\n",
    "<b>Student answer.</b> <a class=\"tocSkip\"></a>\n",
    "</div>"
   ]
  },
  {
   "cell_type": "markdown",
   "metadata": {},
   "source": [
    "<div style=\"border:solid black 2px; padding: 20px\">\n",
    "<b>Reviewer's comment v1:</b>\n",
    "    \n",
    "<b>Overall Feedback</b> \n",
    "    \n",
    "- Secara keseluruhan ini adalah hasil yang sangat bagus! Beberapa poin bahkan melebihi dari ekspektasi pada peserta lain secara umum seperti penggunaan visualisasi `matplotlib.pyplot` yang masih belum menjadi cakupan di project ini.\n",
    "- Namun terdapat beberapa poin dimana perlu perbaikan namun saya rasa bukan lah hal yang sulit seperti terdapat beberapa pengulangan yang kurang efektif baik dalam perumusan fungsi maupun penulisan koding.\n",
    "    \n",
    "Untuk perbaikan nya ditunggu ya!\n",
    "</div>\n",
    "\n",
    "        "
   ]
  },
  {
   "cell_type": "markdown",
   "metadata": {},
   "source": [
    "<div style=\"border:solid black 2px; padding: 20px\">\n",
    "<b>Reviewer's comment v2:</b>\n",
    "    \n",
    "<b>Overall Feedback</b> \n",
    "    \n",
    "- Secara keseluruhan ini perbaikan yang sangat cepat, terima kasih untuk itu. \n",
    "- Namun terdapat beberapa poin yang sangat minor seperti penulisan kode sudah benar tapi masih terbaca sebagai komen dan beberapa poin yang mungkin akan menjadi pertimbangan untuk kedepanya.\n",
    "- Apabila perbaikan sudah dilakukan saya akan setujui dan project dapat di sudahi. Kerja yang bagus! semoga konsisten sampai di akhir program ya. \n",
    "    \n",
    "Untuk perbaikan tetap ditunggu ya!\n",
    "</div>\n",
    "\n",
    "        "
   ]
  },
  {
   "cell_type": "markdown",
   "metadata": {},
   "source": [
    "<div style=\"border:solid black 2px; padding: 20px\">\n",
    "<b>Reviewer's comment v3:</b>\n",
    "    \n",
    "<b>Overall Feedback</b> \n",
    "    \n",
    "Kerja yang sangat bagus! waktu perbaikan yang relatif singkat. Oleh karena itu project ini sudah selesai dan bisa melanjutkan ke track selanjutnya. Selamat ya!  👍👍\n",
    "</div>\n",
    "\n",
    "        "
   ]
  },
  {
   "cell_type": "markdown",
   "metadata": {
    "id": "VUC88oWjTJw2"
   },
   "source": [
    "## Pendahuluan <a id='intro'></a>\n",
    "Setiap kali kita melakukan penelitian, kita perlu merumuskan hipotesis yang kemudian dapat kita uji. Terkadang kita menerima hipotesis ini; tetapi terkadang kita juga menolaknya. Untuk membuat keputusan yang tepat, sebuah bisnis harus dapat memahami apakah asumsi yang dibuatnya benar atau tidak.\n",
    "\n",
    "Dalam proyek kali ini, Anda akan membandingkan preferensi musik kota Springfield dan Shelbyville. Anda akan mempelajari data Y.Music yang sebenarnya untuk menguji hipotesis di bawah ini dan membandingkan perilaku pengguna di kedua kota ini.\n",
    "\n",
    "### Tujuan: \n",
    "Menguji tiga hipotesis:\n",
    "1. Aktivitas pengguna berbeda-beda tergantung pada hari dan kotanya.\n",
    "2. Pada senin pagi, penduduk Springfield dan Shelbyville mendengarkan genre yang berbeda. Hal ini juga ini juga berlaku untuk Jumat malam.\n",
    "3. Pendengar di Springfield dan Shelbyville memiliki preferensi yang berbeda. Di Springfield, mereka lebih suka musik pop, sementara Shelbyville, musik rap memiliki lebih banyak penggemar.\n",
    "\n",
    "### Tahapan\n",
    "Data tentang perilaku pengguna disimpan dalam berkas `/datasets/music_project_en.csv`. Tidak ada informasi tentang kualitas data, jadi Anda perlu memeriksanya lebih dahulu sebelum menguji hipotesis.\n",
    "\n",
    "Pertama, Anda akan mengevaluasi kualitas data dan melihat apakah masalahnya signifikan. Kemudian, selama pra-pemrosesan data, Anda akan mencoba memperhitungkan masalah yang paling serius.\n",
    " \n",
    "Proyek ini akan terdiri dari tiga tahap:\n",
    " 1. Ikhtisar Data\n",
    " 2. Pra-pemrosesan Data\n",
    " 3. Menguji Hipotesis\n",
    "\n",
    " \n",
    "[Kembali ke Daftar Isi](#back)"
   ]
  },
  {
   "cell_type": "markdown",
   "metadata": {
    "id": "Ml1hmfXC_Zcs"
   },
   "source": [
    "## Tahap 1. Ikhtisar Data <a id='data_review'></a>\n",
    "\n",
    "Buka data di Y.Music lalu jelajahi data yang ada di sana."
   ]
  },
  {
   "cell_type": "markdown",
   "metadata": {
    "id": "57eAOGIz_Zcs"
   },
   "source": [
    "Anda akan membutuhkan `Pandas`, jadi Anda harus mengimpornya."
   ]
  },
  {
   "cell_type": "code",
   "execution_count": 1,
   "metadata": {
    "id": "AXN7PHPN_Zcs"
   },
   "outputs": [],
   "source": [
    "# mengimpor Pandas\n",
    "import pandas as pd\n",
    "import matplotlib.pyplot as plt"
   ]
  },
  {
   "cell_type": "markdown",
   "metadata": {},
   "source": [
    "<div class=\"alert alert-success\">\n",
    "<b>Reviewer's comment</b> <a class=\"tocSkip\"></a>\n",
    "\n",
    "Bagus! `pandas` terimpor dengan benar, bahkan package lain juga ditambahkan beserta singkatan yang umum dipakai.\n",
    "\n",
    "</div>"
   ]
  },
  {
   "cell_type": "markdown",
   "metadata": {
    "id": "SG23P8tt_Zcs"
   },
   "source": [
    "Baca file `music_project_en.csv` dari folder `/datasets/` lalu simpan di variabel `df`:"
   ]
  },
  {
   "cell_type": "code",
   "execution_count": 2,
   "metadata": {
    "id": "fFVu7vqh_Zct",
    "scrolled": true
   },
   "outputs": [
    {
     "data": {
      "text/html": [
       "<div>\n",
       "<style scoped>\n",
       "    .dataframe tbody tr th:only-of-type {\n",
       "        vertical-align: middle;\n",
       "    }\n",
       "\n",
       "    .dataframe tbody tr th {\n",
       "        vertical-align: top;\n",
       "    }\n",
       "\n",
       "    .dataframe thead th {\n",
       "        text-align: right;\n",
       "    }\n",
       "</style>\n",
       "<table border=\"1\" class=\"dataframe\">\n",
       "  <thead>\n",
       "    <tr style=\"text-align: right;\">\n",
       "      <th></th>\n",
       "      <th>userID</th>\n",
       "      <th>Track</th>\n",
       "      <th>artist</th>\n",
       "      <th>genre</th>\n",
       "      <th>City</th>\n",
       "      <th>time</th>\n",
       "      <th>Day</th>\n",
       "    </tr>\n",
       "  </thead>\n",
       "  <tbody>\n",
       "    <tr>\n",
       "      <th>count</th>\n",
       "      <td>65079</td>\n",
       "      <td>63736</td>\n",
       "      <td>57512</td>\n",
       "      <td>63881</td>\n",
       "      <td>65079</td>\n",
       "      <td>65079</td>\n",
       "      <td>65079</td>\n",
       "    </tr>\n",
       "    <tr>\n",
       "      <th>unique</th>\n",
       "      <td>41748</td>\n",
       "      <td>39666</td>\n",
       "      <td>37806</td>\n",
       "      <td>268</td>\n",
       "      <td>2</td>\n",
       "      <td>20392</td>\n",
       "      <td>3</td>\n",
       "    </tr>\n",
       "    <tr>\n",
       "      <th>top</th>\n",
       "      <td>A8AE9169</td>\n",
       "      <td>Brand</td>\n",
       "      <td>Kartvelli</td>\n",
       "      <td>pop</td>\n",
       "      <td>Springfield</td>\n",
       "      <td>08:14:07</td>\n",
       "      <td>Friday</td>\n",
       "    </tr>\n",
       "    <tr>\n",
       "      <th>freq</th>\n",
       "      <td>76</td>\n",
       "      <td>136</td>\n",
       "      <td>136</td>\n",
       "      <td>8850</td>\n",
       "      <td>45360</td>\n",
       "      <td>14</td>\n",
       "      <td>23149</td>\n",
       "    </tr>\n",
       "  </tbody>\n",
       "</table>\n",
       "</div>"
      ],
      "text/plain": [
       "          userID  Track     artist  genre       City        time     Day\n",
       "count      65079  63736      57512  63881        65079     65079   65079\n",
       "unique     41748  39666      37806    268            2     20392       3\n",
       "top     A8AE9169  Brand  Kartvelli    pop  Springfield  08:14:07  Friday\n",
       "freq          76    136        136   8850        45360        14   23149"
      ]
     },
     "execution_count": 2,
     "metadata": {},
     "output_type": "execute_result"
    }
   ],
   "source": [
    "# membaca berkas dan menyimpannya ke df\n",
    "df = pd.read_csv('/datasets/music_project_en.csv')\n",
    "df.describe()"
   ]
  },
  {
   "cell_type": "markdown",
   "metadata": {},
   "source": [
    "<div class=\"alert alert-success\">\n",
    "<b>Reviewer's comment</b> <a class=\"tocSkip\"></a>\n",
    "\n",
    "Penulisan direktori sudah benar dengan mencantumkan folder `/datasets/` serta penggunaan `describe()` untuk melihan informasi data secara cepat.\n",
    "\n",
    "</div>"
   ]
  },
  {
   "cell_type": "markdown",
   "metadata": {
    "id": "rDoOMd3uTqnZ"
   },
   "source": [
    "Tampilkan 10 baris tabel pertama:"
   ]
  },
  {
   "cell_type": "code",
   "execution_count": 3,
   "metadata": {
    "id": "oWTVX3gW_Zct",
    "scrolled": false
   },
   "outputs": [
    {
     "data": {
      "text/html": [
       "<div>\n",
       "<style scoped>\n",
       "    .dataframe tbody tr th:only-of-type {\n",
       "        vertical-align: middle;\n",
       "    }\n",
       "\n",
       "    .dataframe tbody tr th {\n",
       "        vertical-align: top;\n",
       "    }\n",
       "\n",
       "    .dataframe thead th {\n",
       "        text-align: right;\n",
       "    }\n",
       "</style>\n",
       "<table border=\"1\" class=\"dataframe\">\n",
       "  <thead>\n",
       "    <tr style=\"text-align: right;\">\n",
       "      <th></th>\n",
       "      <th>userID</th>\n",
       "      <th>Track</th>\n",
       "      <th>artist</th>\n",
       "      <th>genre</th>\n",
       "      <th>City</th>\n",
       "      <th>time</th>\n",
       "      <th>Day</th>\n",
       "    </tr>\n",
       "  </thead>\n",
       "  <tbody>\n",
       "    <tr>\n",
       "      <th>0</th>\n",
       "      <td>FFB692EC</td>\n",
       "      <td>Kamigata To Boots</td>\n",
       "      <td>The Mass Missile</td>\n",
       "      <td>rock</td>\n",
       "      <td>Shelbyville</td>\n",
       "      <td>20:28:33</td>\n",
       "      <td>Wednesday</td>\n",
       "    </tr>\n",
       "    <tr>\n",
       "      <th>1</th>\n",
       "      <td>55204538</td>\n",
       "      <td>Delayed Because of Accident</td>\n",
       "      <td>Andreas Rönnberg</td>\n",
       "      <td>rock</td>\n",
       "      <td>Springfield</td>\n",
       "      <td>14:07:09</td>\n",
       "      <td>Friday</td>\n",
       "    </tr>\n",
       "    <tr>\n",
       "      <th>2</th>\n",
       "      <td>20EC38</td>\n",
       "      <td>Funiculì funiculà</td>\n",
       "      <td>Mario Lanza</td>\n",
       "      <td>pop</td>\n",
       "      <td>Shelbyville</td>\n",
       "      <td>20:58:07</td>\n",
       "      <td>Wednesday</td>\n",
       "    </tr>\n",
       "    <tr>\n",
       "      <th>3</th>\n",
       "      <td>A3DD03C9</td>\n",
       "      <td>Dragons in the Sunset</td>\n",
       "      <td>Fire + Ice</td>\n",
       "      <td>folk</td>\n",
       "      <td>Shelbyville</td>\n",
       "      <td>08:37:09</td>\n",
       "      <td>Monday</td>\n",
       "    </tr>\n",
       "    <tr>\n",
       "      <th>4</th>\n",
       "      <td>E2DC1FAE</td>\n",
       "      <td>Soul People</td>\n",
       "      <td>Space Echo</td>\n",
       "      <td>dance</td>\n",
       "      <td>Springfield</td>\n",
       "      <td>08:34:34</td>\n",
       "      <td>Monday</td>\n",
       "    </tr>\n",
       "    <tr>\n",
       "      <th>5</th>\n",
       "      <td>842029A1</td>\n",
       "      <td>Chains</td>\n",
       "      <td>Obladaet</td>\n",
       "      <td>rusrap</td>\n",
       "      <td>Shelbyville</td>\n",
       "      <td>13:09:41</td>\n",
       "      <td>Friday</td>\n",
       "    </tr>\n",
       "    <tr>\n",
       "      <th>6</th>\n",
       "      <td>4CB90AA5</td>\n",
       "      <td>True</td>\n",
       "      <td>Roman Messer</td>\n",
       "      <td>dance</td>\n",
       "      <td>Springfield</td>\n",
       "      <td>13:00:07</td>\n",
       "      <td>Wednesday</td>\n",
       "    </tr>\n",
       "    <tr>\n",
       "      <th>7</th>\n",
       "      <td>F03E1C1F</td>\n",
       "      <td>Feeling This Way</td>\n",
       "      <td>Polina Griffith</td>\n",
       "      <td>dance</td>\n",
       "      <td>Springfield</td>\n",
       "      <td>20:47:49</td>\n",
       "      <td>Wednesday</td>\n",
       "    </tr>\n",
       "    <tr>\n",
       "      <th>8</th>\n",
       "      <td>8FA1D3BE</td>\n",
       "      <td>L’estate</td>\n",
       "      <td>Julia Dalia</td>\n",
       "      <td>ruspop</td>\n",
       "      <td>Springfield</td>\n",
       "      <td>09:17:40</td>\n",
       "      <td>Friday</td>\n",
       "    </tr>\n",
       "    <tr>\n",
       "      <th>9</th>\n",
       "      <td>E772D5C0</td>\n",
       "      <td>Pessimist</td>\n",
       "      <td>NaN</td>\n",
       "      <td>dance</td>\n",
       "      <td>Shelbyville</td>\n",
       "      <td>21:20:49</td>\n",
       "      <td>Wednesday</td>\n",
       "    </tr>\n",
       "  </tbody>\n",
       "</table>\n",
       "</div>"
      ],
      "text/plain": [
       "     userID                        Track            artist   genre  \\\n",
       "0  FFB692EC            Kamigata To Boots  The Mass Missile    rock   \n",
       "1  55204538  Delayed Because of Accident  Andreas Rönnberg    rock   \n",
       "2    20EC38            Funiculì funiculà       Mario Lanza     pop   \n",
       "3  A3DD03C9        Dragons in the Sunset        Fire + Ice    folk   \n",
       "4  E2DC1FAE                  Soul People        Space Echo   dance   \n",
       "5  842029A1                       Chains          Obladaet  rusrap   \n",
       "6  4CB90AA5                         True      Roman Messer   dance   \n",
       "7  F03E1C1F             Feeling This Way   Polina Griffith   dance   \n",
       "8  8FA1D3BE                     L’estate       Julia Dalia  ruspop   \n",
       "9  E772D5C0                    Pessimist               NaN   dance   \n",
       "\n",
       "        City        time        Day  \n",
       "0  Shelbyville  20:28:33  Wednesday  \n",
       "1  Springfield  14:07:09     Friday  \n",
       "2  Shelbyville  20:58:07  Wednesday  \n",
       "3  Shelbyville  08:37:09     Monday  \n",
       "4  Springfield  08:34:34     Monday  \n",
       "5  Shelbyville  13:09:41     Friday  \n",
       "6  Springfield  13:00:07  Wednesday  \n",
       "7  Springfield  20:47:49  Wednesday  \n",
       "8  Springfield  09:17:40     Friday  \n",
       "9  Shelbyville  21:20:49  Wednesday  "
      ]
     },
     "execution_count": 3,
     "metadata": {},
     "output_type": "execute_result"
    }
   ],
   "source": [
    "# memperoleh 10 baris pertama dari tabel df\n",
    "df.head(10)"
   ]
  },
  {
   "cell_type": "markdown",
   "metadata": {},
   "source": [
    "<div class=\"alert alert-success\">\n",
    "<b>Reviewer's comment</b> <a class=\"tocSkip\"></a>\n",
    "\n",
    "Penggunaan fungsi `head()` sudah benar untuk `n` baris pertama dari dataframe dan juga terdapat fungsi lain yang merupakan lawan dari `head()` yaitu `tail()` yang menampilkan `n` baris terkahir dari dataframe.\n",
    "\n",
    "</div>"
   ]
  },
  {
   "cell_type": "markdown",
   "metadata": {
    "id": "EO73Kwic_Zct"
   },
   "source": [
    "Memperoleh informasi umum tentang tabel dengan satu perintah:"
   ]
  },
  {
   "cell_type": "code",
   "execution_count": 4,
   "metadata": {
    "id": "DSf2kIb-_Zct",
    "scrolled": true
   },
   "outputs": [
    {
     "name": "stdout",
     "output_type": "stream",
     "text": [
      "<class 'pandas.core.frame.DataFrame'>\n",
      "RangeIndex: 65079 entries, 0 to 65078\n",
      "Data columns (total 7 columns):\n",
      " #   Column    Non-Null Count  Dtype \n",
      "---  ------    --------------  ----- \n",
      " 0     userID  65079 non-null  object\n",
      " 1   Track     63736 non-null  object\n",
      " 2   artist    57512 non-null  object\n",
      " 3   genre     63881 non-null  object\n",
      " 4     City    65079 non-null  object\n",
      " 5   time      65079 non-null  object\n",
      " 6   Day       65079 non-null  object\n",
      "dtypes: object(7)\n",
      "memory usage: 3.5+ MB\n"
     ]
    }
   ],
   "source": [
    "# memperoleh informasi umum tentang data di df\n",
    "df.info()"
   ]
  },
  {
   "cell_type": "markdown",
   "metadata": {},
   "source": [
    "<div class=\"alert alert-success\">\n",
    "<b>Reviewer's comment</b> <a class=\"tocSkip\"></a>\n",
    "\n",
    "Pilihan yang tepat menggunakan `info()` untuk menampilkan banyak informasi dari dataframe dengan efisien.\n",
    "\n",
    "</div>"
   ]
  },
  {
   "cell_type": "markdown",
   "metadata": {
    "id": "TaQ2Iwbr_Zct"
   },
   "source": [
    "Tabel ini berisi tujuh kolom. Semuanya menyimpan tipe data yang sama, yaitu: `objek`.\n",
    "\n",
    "Berdasarkan dokumentasi:\n",
    "- `'userID'` — pengenal pengguna\n",
    "- `'Track'` — judul trek\n",
    "- `'artist'` — nama artis\n",
    "- `'genre'`\n",
    "- `'City'` — kota tempat pengguna berada\n",
    "- `'time'` — lama waktu lagu tersebut dimainkan\n",
    "- `'Day'` — nama hari\n",
    "\n",
    "Kita dapat melihat tiga masalah dengan gaya penulisan nama kolom:\n",
    "1. Beberapa nama huruf besar, beberapa huruf kecil.\n",
    "2. Ada penggunaan spasi pada beberapa nama.\n",
    "3. userID terdiri dari dua kata yaitu user dan ID sebaiknya ditulis user_id.\n",
    "\n",
    "Jumlah nilai kolom berbeda. Ini berarti data mengandung nilai yang hilang.\n"
   ]
  },
  {
   "cell_type": "markdown",
   "metadata": {},
   "source": [
    "<div class=\"alert alert-danger\">\n",
    "<b>Reviewer's comment v1</b> <a class=\"tocSkip\"></a>\n",
    "\n",
    "Poin yang bagus terkait `time`, tetapi coba cek lagi nama nama kolom yang tersedia berdasarkan jumlah kata dalam penamaan kolom.\n",
    "\n",
    "</div>"
   ]
  },
  {
   "cell_type": "markdown",
   "metadata": {},
   "source": [
    "<div class=\"alert alert-block alert-info\">\n",
    "<b>Student answer:\n",
    "    </b> <a class=\"tocSkip\"></a>\n",
    "    Alasan ketiga diganti menjadi userID terdiri dari dua kata yaitu user dan ID sebaiknya ditulis user_id.\n",
    "</div>"
   ]
  },
  {
   "cell_type": "markdown",
   "metadata": {},
   "source": [
    "<div class=\"alert alert-success\">\n",
    "<b>Reviewer's comment v2</b> <a class=\"tocSkip\"></a>\n",
    "\n",
    "Bagus! \n",
    "\n",
    "</div>"
   ]
  },
  {
   "cell_type": "markdown",
   "metadata": {
    "id": "MCB6-dXG_Zct"
   },
   "source": [
    "### Kesimpulan <a id='data_review_conclusions'></a> \n",
    "\n",
    "Setiap baris dalam tabel menyimpan data pada lagu yang dimainkan. Beberapa kolom menggambarkan lagu itu sendiri: judul, artis, dan genre. Sisanya menyampaikan informasi tentang pengguna: kota asal mereka, waktu mereka memutar lagu.\n",
    "\n",
    "Jelas bahwa data tersebut cukup untuk menguji hipotesis. Namun, ada nilai-nilai yang hilang.\n",
    "\n",
    "Selanjutnya, kita perlu melakukan pra-pemrosesan data terlebih dahulu."
   ]
  },
  {
   "cell_type": "markdown",
   "metadata": {},
   "source": [
    "<div class=\"alert alert-warning\">\n",
    "<b>Reviewer's comment v1</b> <a class=\"tocSkip\"></a>\n",
    "\n",
    "Pengambilan kesimpulan cukup benar terkait nilai yang hilang namun terdapat beberapa cara penamaan kolom yang masih belum konsisten.\n",
    "\n",
    "</div>"
   ]
  },
  {
   "cell_type": "markdown",
   "metadata": {
    "id": "3eL__vcwViOi"
   },
   "source": [
    "[Kembali ke Daftar Isi](#back)"
   ]
  },
  {
   "cell_type": "markdown",
   "metadata": {
    "id": "SjYF6Ub9_Zct"
   },
   "source": [
    "## Tahap 2. Pra-pemrosesan Data <a id='data_preprocessing'></a>\n",
    "Perbaiki format pada judul kolom dan atasi nilai yang hilang. Kemudian, periksa apakah ada duplikat dalam data."
   ]
  },
  {
   "cell_type": "markdown",
   "metadata": {
    "id": "dIaKXr29_Zct"
   },
   "source": [
    "### Gaya Penulisan Judul <a id='header_style'></a>\n",
    "Tampilkan judul kolom:\n"
   ]
  },
  {
   "cell_type": "code",
   "execution_count": 5,
   "metadata": {
    "id": "oKOTdF_Q_Zct",
    "scrolled": true
   },
   "outputs": [
    {
     "data": {
      "text/plain": [
       "Index(['  userID', 'Track', 'artist', 'genre', '  City  ', 'time', 'Day'], dtype='object')"
      ]
     },
     "execution_count": 5,
     "metadata": {},
     "output_type": "execute_result"
    }
   ],
   "source": [
    "# daftar nama kolom di tabel df\n",
    "df.columns"
   ]
  },
  {
   "cell_type": "markdown",
   "metadata": {},
   "source": [
    "<div class=\"alert alert-success\">\n",
    "<b>Reviewer's comment v1</b> <a class=\"tocSkip\"></a>\n",
    "\n",
    "Sudah bagus tidak menggunakan fungsi `print()` dalam menampilkan output karena sudah menjadi baris terakhir di dalam sel.\n",
    "\n",
    "</div>"
   ]
  },
  {
   "cell_type": "markdown",
   "metadata": {
    "id": "zj5534cv_Zct"
   },
   "source": [
    "Ubah nama kolom sesuai dengan aturan gaya penulisan yang baik:\n",
    "* Jika nama memiliki beberapa kata, gunakan snake_case\n",
    "* Semua karakter harus menggunakan huruf kecil\n",
    "* Hapus spasi"
   ]
  },
  {
   "cell_type": "code",
   "execution_count": 6,
   "metadata": {
    "id": "ISlFqs5y_Zct"
   },
   "outputs": [],
   "source": [
    "# mengganti nama kolom\n",
    "#old_col = df.columns\n",
    "#new_col = ['user_id','track','artist','genre','city','time','day']\n",
    "#for i in range(len(old_col)):\n",
    "#    df = df.rename(columns={old_col[i]:new_col[i]})\n",
    "\n",
    "# New answer\n",
    "df = df.rename(columns={\n",
    "    '  userID':'user_id',\n",
    "    'Track':'track',\n",
    "    '  City  ':'city',\n",
    "    'Day':'day'})"
   ]
  },
  {
   "cell_type": "markdown",
   "metadata": {},
   "source": [
    "<div class=\"alert alert-danger\">\n",
    "<b>Reviewer's comment v1</b> <a class=\"tocSkip\"></a>\n",
    "\n",
    "Walaupun secara umum menghasilkan output yang benar namun cara ini belum efisien. `rename()` dapat digunakan untuk rename lebih dari satu kolom dalam sekali penggunaan.\n",
    "\n",
    "</div>\n",
    "<div class=\"alert alert-block alert-info\">\n",
    "<b>Student answer: v1</b> <a class=\"tocSkip\"></a>\n",
    "\n",
    "OK kak, tadinya pakai for loop biar tidak usah ngetik nama kolom yang salah hehe. Soalnya rawan typo, misal pas ketik \"<b>  userID</b>\", jumlah spasinya salah. Tapi benar, codenya jadi lebih panjang dan kolom yang benar juga harus diketik ulang di variabel \"<b> new_col </b>\" hehe.\n",
    "\n",
    "</div>"
   ]
  },
  {
   "cell_type": "markdown",
   "metadata": {},
   "source": [
    "<div class=\"alert alert-success\">\n",
    "<b>Reviewer's comment v2</b> <a class=\"tocSkip\"></a>\n",
    "\n",
    "Benar, poin yang bagus.\n",
    "\n",
    "</div>"
   ]
  },
  {
   "cell_type": "markdown",
   "metadata": {
    "id": "1dqbh00J_Zct"
   },
   "source": [
    "Memasukan nama kolom lama ke dalam sebuah list digunakan untuk menghindari human error ketika mengetik ulang nama kolom. Namun kekurangannya kita harus tahu urutan kolom lama, agar tidak salah tertukar ketika menggantinya dengan nama kolom yang baru.\n",
    "\n",
    "Periksa hasilnya. Tampilkan nama kolom sekali lagi:"
   ]
  },
  {
   "cell_type": "code",
   "execution_count": 7,
   "metadata": {
    "id": "d4NOAmTW_Zct"
   },
   "outputs": [
    {
     "data": {
      "text/plain": [
       "Index(['user_id', 'track', 'artist', 'genre', 'city', 'time', 'day'], dtype='object')"
      ]
     },
     "execution_count": 7,
     "metadata": {},
     "output_type": "execute_result"
    }
   ],
   "source": [
    "# hasil pengecekan: daftar nama kolom\n",
    "df.columns"
   ]
  },
  {
   "cell_type": "markdown",
   "metadata": {
    "id": "xYJk6ksJVpOl"
   },
   "source": [
    "[Kembali ke Daftar Isi](#back)"
   ]
  },
  {
   "cell_type": "markdown",
   "metadata": {
    "id": "5ISfbcfY_Zct"
   },
   "source": [
    "### Nilai-Nilai yang Hilang <a id='missing_values'></a>\n",
    "Pertama, temukan jumlah nilai yang hilang dalam tabel. Untuk melakukannya, gunakan dua metode `Pandas`:"
   ]
  },
  {
   "cell_type": "code",
   "execution_count": 8,
   "metadata": {
    "id": "RskX29qr_Zct",
    "scrolled": true
   },
   "outputs": [
    {
     "data": {
      "text/plain": [
       "user_id       0\n",
       "track      1343\n",
       "artist     7567\n",
       "genre      1198\n",
       "city          0\n",
       "time          0\n",
       "day           0\n",
       "dtype: int64"
      ]
     },
     "execution_count": 8,
     "metadata": {},
     "output_type": "execute_result"
    }
   ],
   "source": [
    "# menghitung nilai yang hilang\n",
    "#df.isnull().sum()\n",
    "df.isna().sum()"
   ]
  },
  {
   "cell_type": "markdown",
   "metadata": {},
   "source": [
    "<div class=\"alert alert-success\">\n",
    "<b>Reviewer's comment v1</b> <a class=\"tocSkip\"></a>\n",
    "\n",
    "Penggunaan dua metode `isnull` dan `isna` sudah bagus namun dalam sel sebelumnya hanya menampilkan baris terakhir saja yaitu `isna` yang merupakan metode paling umum digunakan.\n",
    "\n",
    "</div>"
   ]
  },
  {
   "cell_type": "markdown",
   "metadata": {
    "id": "qubhgnlO_Zct"
   },
   "source": [
    "Tidak semua nilai yang hilang berpengaruh terhadap penelitian. Misalnya, nilai yang hilang dalam `track` dan `artist` tidak begitu penting. Anda cukup menggantinya dengan tanda yang jelas.\n",
    "\n",
    "Namun nilai yang hilang dalam `'genre'` dapat memengaruhi perbandingan preferensi musik di Springfield dan Shelbyville. Dalam kehidupan nyata, ini akan berguna untuk mempelajari alasan mengapa data tersebut hilang dan mencoba memperbaikinya. Tetapi kita tidak memiliki kesempatan itu dalam proyek ini. Jadi Anda harus:\n",
    "* Isi nilai yang hilang ini dengan sebuah tanda\n",
    "* Evaluasi seberapa besar nilai yang hilang dapat memengaruhi perhitungan Anda"
   ]
  },
  {
   "cell_type": "markdown",
   "metadata": {
    "id": "fSv2laPA_Zct"
   },
   "source": [
    "Ganti nilai yang hilang pada `'track'`, `'artist'`, dan `'genre'` dengan string `'unknown'`. Untuk melakukannya, buat list `columns_to_replace`, lakukan *loop* dengan `for`, dan ganti nilai yang hilang di setiap kolom:"
   ]
  },
  {
   "cell_type": "code",
   "execution_count": 9,
   "metadata": {
    "id": "KplB5qWs_Zct"
   },
   "outputs": [],
   "source": [
    "# loop nama kolom dan ganti nilai yang hilang dengan 'unknown'\n",
    "columns_to_replace = ['track','artist','genre']\n",
    "for col in columns_to_replace:\n",
    "    df = df.fillna(value={col:'unknown'})"
   ]
  },
  {
   "cell_type": "markdown",
   "metadata": {},
   "source": [
    "<div class=\"alert alert-success\">\n",
    "<b>Reviewer's comment v1</b> <a class=\"tocSkip\"></a>\n",
    "\n",
    "Looping berjalan dengan lancar, penggantian nilai berjalan tanpa masalah.\n",
    "\n",
    "</div>"
   ]
  },
  {
   "cell_type": "markdown",
   "metadata": {
    "id": "Ilsm-MZo_Zct"
   },
   "source": [
    "Pastikan tidak ada tabel lagi yang berisi nilai yang hilang. Hitung kembali nilai yang hilang."
   ]
  },
  {
   "cell_type": "code",
   "execution_count": 10,
   "metadata": {
    "id": "Tq4nYRX4_Zct"
   },
   "outputs": [
    {
     "data": {
      "text/plain": [
       "user_id    0\n",
       "track      0\n",
       "artist     0\n",
       "genre      0\n",
       "city       0\n",
       "time       0\n",
       "day        0\n",
       "dtype: int64"
      ]
     },
     "execution_count": 10,
     "metadata": {},
     "output_type": "execute_result"
    }
   ],
   "source": [
    "# menghitung nilai yang hilang\n",
    "df.isna().sum()"
   ]
  },
  {
   "cell_type": "markdown",
   "metadata": {
    "id": "74ZIBmq9VrsK"
   },
   "source": [
    "[Kembali ke Daftar Isi](#back)"
   ]
  },
  {
   "cell_type": "markdown",
   "metadata": {
    "id": "BWKRtBJ3_Zct"
   },
   "source": [
    "### Duplikat <a id='duplicates'></a>\n",
    "Temukan jumlah duplikat yang jelas dalam tabel menggunakan satu perintah:"
   ]
  },
  {
   "cell_type": "code",
   "execution_count": 11,
   "metadata": {
    "id": "36eES_S0_Zct"
   },
   "outputs": [
    {
     "data": {
      "text/plain": [
       "3826"
      ]
     },
     "execution_count": 11,
     "metadata": {},
     "output_type": "execute_result"
    }
   ],
   "source": [
    "# menghitung duplikat yang jelas\n",
    "df.duplicated().sum()"
   ]
  },
  {
   "cell_type": "markdown",
   "metadata": {},
   "source": [
    "<div class=\"alert alert-success\">\n",
    "<b>Reviewer's comment v1</b> <a class=\"tocSkip\"></a>\n",
    "\n",
    "Perhitungan duplikat sudah dilakukan secara benar dan efisien.\n",
    "\n",
    "</div>"
   ]
  },
  {
   "cell_type": "markdown",
   "metadata": {
    "id": "Ot25h6XR_Zct"
   },
   "source": [
    "Panggil metode `Pandas` untuk menghapus duplikat yang jelas:"
   ]
  },
  {
   "cell_type": "code",
   "execution_count": 12,
   "metadata": {
    "id": "exFHq6tt_Zct"
   },
   "outputs": [],
   "source": [
    "# menghapus duplikat yang jelas\n",
    "df = df.drop_duplicates().reset_index(drop=True)"
   ]
  },
  {
   "cell_type": "markdown",
   "metadata": {},
   "source": [
    "<div class=\"alert alert-success\">\n",
    "<b>Reviewer's comment v1</b> <a class=\"tocSkip\"></a>\n",
    "\n",
    "Sempurna! penggunaan `drop_duplicates()` sudah benar hingga penggunaan `reset_index()` dan argumen `drop=True`.\n",
    "\n",
    "\n",
    "</div>"
   ]
  },
  {
   "cell_type": "markdown",
   "metadata": {
    "id": "Im2YwBEG_Zct"
   },
   "source": [
    "Hitung duplikat yang jelas sekali lagi untuk memastikan Anda telah menghapus semuanya:"
   ]
  },
  {
   "cell_type": "code",
   "execution_count": 13,
   "metadata": {
    "id": "-8PuNWQ0_Zct"
   },
   "outputs": [
    {
     "data": {
      "text/plain": [
       "0"
      ]
     },
     "execution_count": 13,
     "metadata": {},
     "output_type": "execute_result"
    }
   ],
   "source": [
    "# memeriksa duplikat\n",
    "df.duplicated().sum()"
   ]
  },
  {
   "cell_type": "markdown",
   "metadata": {
    "id": "QlFBsxAr_Zct"
   },
   "source": [
    "Sekarang hapus duplikat implisit di kolom `genre`. Misalnya, nama genre dapat ditulis dengan cara yang berbeda. Kesalahan seperti ini juga akan memengaruhi hasil."
   ]
  },
  {
   "cell_type": "markdown",
   "metadata": {
    "id": "eSjWwsOh_Zct"
   },
   "source": [
    "Tampilkan daftar nama genre yang unik, urutkan berdasarkan abjad. Untuk melakukannya:\n",
    "* Ambil kolom DataFrame yang dimaksud\n",
    "* Terapkan metode pengurutan untuk itu\n",
    "* Untuk kolom yang diurutkan, panggil metode yang akan menghasilkan semua nilai kolom yang unik"
   ]
  },
  {
   "cell_type": "code",
   "execution_count": 39,
   "metadata": {
    "id": "JIUcqzZN_Zct",
    "scrolled": true
   },
   "outputs": [
    {
     "data": {
      "text/plain": [
       "array(['acid', 'acoustic', 'action', 'adult', 'africa', 'afrikaans',\n",
       "       'alternative', 'ambient', 'americana', 'animated', 'anime',\n",
       "       'arabesk', 'arabic', 'arena', 'argentinetango', 'art', 'audiobook',\n",
       "       'avantgarde', 'axé', 'baile', 'balkan', 'beats', 'bigroom',\n",
       "       'black', 'bluegrass', 'blues', 'bollywood', 'bossa', 'brazilian',\n",
       "       'breakbeat', 'breaks', 'broadway', 'cantautori', 'cantopop',\n",
       "       'canzone', 'caribbean', 'caucasian', 'celtic', 'chamber',\n",
       "       'children', 'chill', 'chinese', 'choral', 'christian', 'christmas',\n",
       "       'classical', 'classicmetal', 'club', 'colombian', 'comedy',\n",
       "       'conjazz', 'contemporary', 'country', 'cuban', 'dance',\n",
       "       'dancehall', 'dancepop', 'dark', 'death', 'deep', 'deutschrock',\n",
       "       'deutschspr', 'dirty', 'disco', 'dnb', 'documentary', 'downbeat',\n",
       "       'downtempo', 'drum', 'dub', 'dubstep', 'eastern', 'easy',\n",
       "       'electronic', 'electropop', 'emo', 'entehno', 'epicmetal',\n",
       "       'estrada', 'ethnic', 'eurofolk', 'european', 'experimental',\n",
       "       'extrememetal', 'fado', 'film', 'fitness', 'flamenco', 'folk',\n",
       "       'folklore', 'folkmetal', 'folkrock', 'folktronica', 'forró',\n",
       "       'frankreich', 'französisch', 'french', 'funk', 'future', 'gangsta',\n",
       "       'garage', 'german', 'ghazal', 'gitarre', 'glitch', 'gospel',\n",
       "       'gothic', 'grime', 'grunge', 'gypsy', 'handsup', \"hard'n'heavy\",\n",
       "       'hardcore', 'hardstyle', 'hardtechno', 'hiphop', 'historisch',\n",
       "       'holiday', 'horror', 'house', 'idm', 'independent', 'indian',\n",
       "       'indie', 'indipop', 'industrial', 'inspirational', 'instrumental',\n",
       "       'international', 'irish', 'jam', 'japanese', 'jazz', 'jewish',\n",
       "       'jpop', 'jungle', 'k-pop', 'karadeniz', 'karaoke', 'kayokyoku',\n",
       "       'korean', 'laiko', 'latin', 'latino', 'leftfield', 'local',\n",
       "       'lounge', 'loungeelectronic', 'lovers', 'malaysian', 'mandopop',\n",
       "       'marschmusik', 'meditative', 'mediterranean', 'melodic', 'metal',\n",
       "       'metalcore', 'mexican', 'middle', 'minimal', 'miscellaneous',\n",
       "       'modern', 'mood', 'mpb', 'muslim', 'native', 'neoklassik', 'neue',\n",
       "       'new', 'newage', 'newwave', 'nu', 'nujazz', 'numetal', 'oceania',\n",
       "       'old', 'opera', 'orchestral', 'other', 'piano', 'pop',\n",
       "       'popelectronic', 'popeurodance', 'post', 'posthardcore',\n",
       "       'postrock', 'power', 'progmetal', 'progressive', 'psychedelic',\n",
       "       'punjabi', 'punk', 'quebecois', 'ragga', 'ram', 'rancheras', 'rap',\n",
       "       'rave', 'reggae', 'reggaeton', 'regional', 'relax', 'religious',\n",
       "       'retro', 'rhythm', 'rnb', 'rnr', 'rock', 'rockabilly', 'romance',\n",
       "       'roots', 'ruspop', 'rusrap', 'rusrock', 'salsa', 'samba',\n",
       "       'schlager', 'self', 'sertanejo', 'shoegazing', 'showtunes',\n",
       "       'singer', 'ska', 'slow', 'smooth', 'soul', 'soulful', 'sound',\n",
       "       'soundtrack', 'southern', 'specialty', 'speech', 'spiritual',\n",
       "       'sport', 'stonerrock', 'surf', 'swing', 'synthpop',\n",
       "       'sängerportrait', 'tango', 'tanzorchester', 'taraftar', 'tech',\n",
       "       'techno', 'thrash', 'top', 'traditional', 'tradjazz', 'trance',\n",
       "       'tribal', 'trip', 'triphop', 'tropical', 'türk', 'türkçe',\n",
       "       'unknown', 'urban', 'uzbek', 'variété', 'vi', 'videogame', 'vocal',\n",
       "       'western', 'world', 'worldbeat', 'ïîï'], dtype=object)"
      ]
     },
     "execution_count": 39,
     "metadata": {},
     "output_type": "execute_result"
    }
   ],
   "source": [
    "# melihat nama genre yang unik\n",
    "#sorted(df['genre'].unique())\n",
    "\n",
    "# New answer\n",
    "df['genre'].sort_values().unique()"
   ]
  },
  {
   "cell_type": "markdown",
   "metadata": {},
   "source": [
    "<div class=\"alert alert-warning\">\n",
    "<b>Reviewer's comment v1</b> <a class=\"tocSkip\"></a>\n",
    "\n",
    "Bagus, daftar genre yang unik dan berurutan sudah didapatkan. Namun alangkah lebih baiknya untuk mengurutkan nilai di dataframe menggunakan metode `sort_values()` sehingga seperti ini `df['genre'].sort_values().unique()`.\n",
    "\n",
    "</div>\n",
    "<div class=\"alert alert-block alert-info\">\n",
    "<b>Student answer:\n",
    "    </b> <a class=\"tocSkip\"></a>\n",
    "    Oke kak, masih sering ketuker kapan pakai <b>sort, sorted </b> atau <b>sort_values</b>. Tapi kalau dilihat dari type datanya, keluaran metode <b> sort_values </b> berupa array bukan list.\n",
    "    <div>"
   ]
  },
  {
   "cell_type": "markdown",
   "metadata": {},
   "source": [
    "<div class=\"alert alert-warning\">\n",
    "<b>Reviewer's comment v2</b> <a class=\"tocSkip\"></a>\n",
    "\n",
    "Penggunaan `sort_values()` disini memang diperuntukan untuk pengurutan di dataframe, kebetulan disini hanya satu kolom yang diurutkan sehingga `sorted()` bisa digunakan tetapi apabila pengurutan dilakukan pada multi kolom akan menjadi masalah. Coba cek link berikut terkait penggunaan `sort_values()` https://www.geeksforgeeks.org/sort-rows-or-columns-in-pandas-dataframe-based-on-values/.\n",
    "\n",
    "</div>\n",
    "<div class=\"alert alert-danger\">\n",
    "<b>Reviewer's comment v2</b> <a class=\"tocSkip\"></a>\n",
    "\n",
    "Dan sepertinya masih terlewat karena kode yang ditulis terbaca sebagai komen.\n",
    "\n",
    "</div>\n",
    "<div class=\"alert alert-block alert-info\">\n",
    "<b>Student answer:\n",
    "    </b> <a class=\"tocSkip\"></a>\n",
    "    Wah sepertinya ter-submit sebelum autosave-nya berjalan\n",
    "    <div>"
   ]
  },
  {
   "cell_type": "markdown",
   "metadata": {
    "id": "qej-Qmuo_Zct"
   },
   "source": [
    "Lihat melalui *list* untuk menemukan duplikat implisit dari genre `hiphop`. Ini bisa berupa nama yang ditulis secara salah atau nama alternatif dari genre yang sama.\n",
    "\n",
    "Anda akan melihat duplikat implisit berikut:\n",
    "* `hip`\n",
    "* `hop`\n",
    "* `hip-hop`\n",
    "\n",
    "Untuk menghapusnya, gunakan fungsi `replace_wrong_genres()` dengan dua parameter:\n",
    "* `wrong_genres=` — daftar duplikat\n",
    "* `correct_genre=` — string dengan nilai yang benar\n",
    "\n",
    "Fungsi harus mengoreksi nama dalam kolom `'genre'` dari tabel `df`, yaitu mengganti setiap nilai dari daftar `wrong_genres` dengan nilai dalam `correct_genre`."
   ]
  },
  {
   "cell_type": "code",
   "execution_count": 15,
   "metadata": {
    "id": "ErNDkmns_Zct"
   },
   "outputs": [],
   "source": [
    "# fungsi untuk mengganti duplikat implisit\n",
    "def replace_wrong_genres(wrong_genres,correct_genres):\n",
    "    for wrong_genre in wrong_genres:\n",
    "        df['genre']=df['genre'].replace(wrong_genre,correct_genres)"
   ]
  },
  {
   "cell_type": "markdown",
   "metadata": {},
   "source": [
    "<div class=\"alert alert-success\">\n",
    "<b>Reviewer's comment v1</b> <a class=\"tocSkip\"></a>\n",
    "\n",
    "Fungsi terdefinisi dengan benar.\n",
    "\n",
    "</div>"
   ]
  },
  {
   "cell_type": "markdown",
   "metadata": {
    "id": "aDoBJxbA_Zct"
   },
   "source": [
    "Panggil `replace_wrong_genres()` dan berikan argumennya sehingga menghapus duplikat implisit (`hip`, `hop`, dan `hip-hop`) dan menggantinya dengan `hiphop`:"
   ]
  },
  {
   "cell_type": "code",
   "execution_count": 16,
   "metadata": {
    "id": "YN5i2hpmSo09"
   },
   "outputs": [],
   "source": [
    "# menghapus duplikat implisit\n",
    "#replace_wrong_genres(['hip','hop','hip-hop'],'hiphop')\n",
    "#df = df.drop_duplicates().reset_index(drop=True)\n",
    "\n",
    "# New answer\n",
    "replace_wrong_genres(['hip','hop','hip-hop'],'hiphop')"
   ]
  },
  {
   "cell_type": "markdown",
   "metadata": {},
   "source": [
    "<div class=\"alert alert-success\">\n",
    "<b>Reviewer's comment v1</b> <a class=\"tocSkip\"></a>\n",
    "\n",
    "Tidak ada error. Sepertinya drop_duplicate tidak diperlukan lagi\n",
    "\n",
    "</div>"
   ]
  },
  {
   "cell_type": "markdown",
   "metadata": {
    "id": "zQKF16_RG15m"
   },
   "source": [
    "Pastikan nama duplikat telah dihapus. Tampilkan daftar nilai unik dari kolom `'genre'`:"
   ]
  },
  {
   "cell_type": "code",
   "execution_count": 17,
   "metadata": {
    "id": "wvixALnFG15m",
    "scrolled": false
   },
   "outputs": [
    {
     "data": {
      "text/plain": [
       "array(['acid', 'acoustic', 'action', 'adult', 'africa', 'afrikaans',\n",
       "       'alternative', 'ambient', 'americana', 'animated', 'anime',\n",
       "       'arabesk', 'arabic', 'arena', 'argentinetango', 'art', 'audiobook',\n",
       "       'avantgarde', 'axé', 'baile', 'balkan', 'beats', 'bigroom',\n",
       "       'black', 'bluegrass', 'blues', 'bollywood', 'bossa', 'brazilian',\n",
       "       'breakbeat', 'breaks', 'broadway', 'cantautori', 'cantopop',\n",
       "       'canzone', 'caribbean', 'caucasian', 'celtic', 'chamber',\n",
       "       'children', 'chill', 'chinese', 'choral', 'christian', 'christmas',\n",
       "       'classical', 'classicmetal', 'club', 'colombian', 'comedy',\n",
       "       'conjazz', 'contemporary', 'country', 'cuban', 'dance',\n",
       "       'dancehall', 'dancepop', 'dark', 'death', 'deep', 'deutschrock',\n",
       "       'deutschspr', 'dirty', 'disco', 'dnb', 'documentary', 'downbeat',\n",
       "       'downtempo', 'drum', 'dub', 'dubstep', 'eastern', 'easy',\n",
       "       'electronic', 'electropop', 'emo', 'entehno', 'epicmetal',\n",
       "       'estrada', 'ethnic', 'eurofolk', 'european', 'experimental',\n",
       "       'extrememetal', 'fado', 'film', 'fitness', 'flamenco', 'folk',\n",
       "       'folklore', 'folkmetal', 'folkrock', 'folktronica', 'forró',\n",
       "       'frankreich', 'französisch', 'french', 'funk', 'future', 'gangsta',\n",
       "       'garage', 'german', 'ghazal', 'gitarre', 'glitch', 'gospel',\n",
       "       'gothic', 'grime', 'grunge', 'gypsy', 'handsup', \"hard'n'heavy\",\n",
       "       'hardcore', 'hardstyle', 'hardtechno', 'hiphop', 'historisch',\n",
       "       'holiday', 'horror', 'house', 'idm', 'independent', 'indian',\n",
       "       'indie', 'indipop', 'industrial', 'inspirational', 'instrumental',\n",
       "       'international', 'irish', 'jam', 'japanese', 'jazz', 'jewish',\n",
       "       'jpop', 'jungle', 'k-pop', 'karadeniz', 'karaoke', 'kayokyoku',\n",
       "       'korean', 'laiko', 'latin', 'latino', 'leftfield', 'local',\n",
       "       'lounge', 'loungeelectronic', 'lovers', 'malaysian', 'mandopop',\n",
       "       'marschmusik', 'meditative', 'mediterranean', 'melodic', 'metal',\n",
       "       'metalcore', 'mexican', 'middle', 'minimal', 'miscellaneous',\n",
       "       'modern', 'mood', 'mpb', 'muslim', 'native', 'neoklassik', 'neue',\n",
       "       'new', 'newage', 'newwave', 'nu', 'nujazz', 'numetal', 'oceania',\n",
       "       'old', 'opera', 'orchestral', 'other', 'piano', 'pop',\n",
       "       'popelectronic', 'popeurodance', 'post', 'posthardcore',\n",
       "       'postrock', 'power', 'progmetal', 'progressive', 'psychedelic',\n",
       "       'punjabi', 'punk', 'quebecois', 'ragga', 'ram', 'rancheras', 'rap',\n",
       "       'rave', 'reggae', 'reggaeton', 'regional', 'relax', 'religious',\n",
       "       'retro', 'rhythm', 'rnb', 'rnr', 'rock', 'rockabilly', 'romance',\n",
       "       'roots', 'ruspop', 'rusrap', 'rusrock', 'salsa', 'samba',\n",
       "       'schlager', 'self', 'sertanejo', 'shoegazing', 'showtunes',\n",
       "       'singer', 'ska', 'slow', 'smooth', 'soul', 'soulful', 'sound',\n",
       "       'soundtrack', 'southern', 'specialty', 'speech', 'spiritual',\n",
       "       'sport', 'stonerrock', 'surf', 'swing', 'synthpop',\n",
       "       'sängerportrait', 'tango', 'tanzorchester', 'taraftar', 'tech',\n",
       "       'techno', 'thrash', 'top', 'traditional', 'tradjazz', 'trance',\n",
       "       'tribal', 'trip', 'triphop', 'tropical', 'türk', 'türkçe',\n",
       "       'unknown', 'urban', 'uzbek', 'variété', 'vi', 'videogame', 'vocal',\n",
       "       'western', 'world', 'worldbeat', 'ïîï'], dtype=object)"
      ]
     },
     "execution_count": 17,
     "metadata": {},
     "output_type": "execute_result"
    }
   ],
   "source": [
    "# memeriksa duplikat implisit\n",
    "#sorted(df['genre'].unique())\n",
    "\n",
    "# New answer\n",
    "df['genre'].sort_values().unique()"
   ]
  },
  {
   "cell_type": "markdown",
   "metadata": {},
   "source": [
    "<div class=\"alert alert-warning\">\n",
    "<b>Reviewer's comment v1</b> <a class=\"tocSkip\"></a>\n",
    "\n",
    "Sama halnya dengan bagian sebelumnya, daftar genre yang unik dan berurutan sudah didapatkan. Namun alangkah lebih baiknya untuk mengurutkan nilai di dataframe menggunakan metode `sort_values()` sehingga seperti ini `df['genre'].sort_values().unique()`.\n",
    "\n",
    "</div>"
   ]
  },
  {
   "cell_type": "markdown",
   "metadata": {
    "id": "ALgNbvF3VtPA"
   },
   "source": [
    "[Kembali ke Daftar Isi](#back)"
   ]
  },
  {
   "cell_type": "markdown",
   "metadata": {
    "id": "jz6a9-7HQUDd"
   },
   "source": [
    "### Kesimpulan <a id='data_preprocessing_conclusions'></a>\n",
    "Kita mendeteksi tiga masalah dengan data:\n",
    "\n",
    "- Gaya penulisan judul yang salah\n",
    "- Nilai-nilai yang hilang\n",
    "- Duplikat yang jelas dan implisit\n",
    "\n",
    "Judul telah dibersihkan untuk mempermudah pemrosesan tabel.\n",
    "\n",
    "Semua nilai yang hilang telah diganti dengan `'unknown'`. Tapi kita masih harus melihat apakah nilai yang hilang dalam `'genre'` akan memengaruhi perhitungan kita.\n",
    "\n",
    "Tidak adanya duplikat akan membuat hasil lebih tepat dan lebih mudah dipahami.\n",
    "\n",
    "Sekarang kita dapat melanjutkan ke pengujian hipotesis."
   ]
  },
  {
   "cell_type": "markdown",
   "metadata": {
    "id": "eK1es74rVujj"
   },
   "source": [
    "[Kembali ke Daftar Isi](#back)"
   ]
  },
  {
   "cell_type": "markdown",
   "metadata": {
    "id": "WttZHXH0SqKk"
   },
   "source": [
    "## Tahap 3. Menguji Hipotesis <a id='hypotheses'></a>"
   ]
  },
  {
   "cell_type": "markdown",
   "metadata": {
    "id": "Im936VVi_Zcu"
   },
   "source": [
    "### Hipotesis 1: Membandingkan Perilaku Pengguna di Dua Kota <a id='activity'></a>"
   ]
  },
  {
   "cell_type": "markdown",
   "metadata": {
    "id": "nwt_MuaL_Zcu"
   },
   "source": [
    "Menurut hipotesis pertama, pengguna dari Springfield dan Shelbyville memiliki perbedaan dalam mendengarkan musik. Pengujian ini menggunakan data pada hari: Senin, Rabu, dan Jumat.\n",
    "\n",
    "* Pisahkan pengguna ke dalam kelompok berdasarkan kota.\n",
    "* Bandingkan berapa banyak lagu yang dimainkan setiap kelompok pada hari Senin, Rabu, dan Jumat."
   ]
  },
  {
   "cell_type": "markdown",
   "metadata": {
    "id": "8Dw_YMmT_Zcu"
   },
   "source": [
    "Untuk latihan, lakukan setiap perhitungan secara terpisah.\n",
    "\n",
    "Evaluasi aktivitas pengguna di setiap kota. Kelompokkan data berdasarkan kota dan temukan jumlah lagu yang diputar di setiap kelompok.\n",
    "\n"
   ]
  },
  {
   "cell_type": "code",
   "execution_count": 18,
   "metadata": {
    "id": "0_Qs96oh_Zcu",
    "scrolled": true
   },
   "outputs": [
    {
     "data": {
      "image/png": "[encoded data removed]",
      "text/plain": [
       "<Figure size 432x288 with 1 Axes>"
      ]
     },
     "metadata": {
      "needs_background": "light"
     },
     "output_type": "display_data"
    },
    {
     "name": "stdout",
     "output_type": "stream",
     "text": [
      "Gambar 1. Jumlah Lagu Dimainkan Berdasarkan Kota\n",
      "\n",
      "\n",
      "Tabel 2. Jumlah Lagu Dimainkan Berdasarkan Kota\n"
     ]
    },
    {
     "data": {
      "text/plain": [
       "city\n",
       "Shelbyville    18512\n",
       "Springfield    42741\n",
       "Name: user_id, dtype: int64"
      ]
     },
     "execution_count": 18,
     "metadata": {},
     "output_type": "execute_result"
    }
   ],
   "source": [
    "# Menghitung lagu yang diputar di setiap kota\n",
    "data = df.groupby('city')['user_id'].count()\n",
    "\n",
    "plt.figure(0)\n",
    "plt.bar(data.index,data)\n",
    "plt.show()\n",
    "print('Gambar 1. Jumlah Lagu Dimainkan Berdasarkan Kota')\n",
    "\n",
    "print()\n",
    "print()\n",
    "print('Tabel 2. Jumlah Lagu Dimainkan Berdasarkan Kota')\n",
    "data"
   ]
  },
  {
   "cell_type": "markdown",
   "metadata": {},
   "source": [
    "<div class=\"alert alert-success\">\n",
    "<b>Reviewer's comment v1</b> <a class=\"tocSkip\"></a>\n",
    "\n",
    "Visualisasi yang bagus, walaupun dalam project ini belum mencakup terkait visualisasi.\n",
    "\n",
    "</div>"
   ]
  },
  {
   "cell_type": "markdown",
   "metadata": {},
   "source": [
    "<div class=\"alert alert-danger\">\n",
    "<b>Reviewer's comment v1</b> <a class=\"tocSkip\"></a>\n",
    "\n",
    "Hanya diperlukan satu kolom saja yang digunakan dalam pengelompokkan agar informasi terkait aktivitas pengguna di setiap kota diatas lebih mudah dipahami.\n",
    "\n",
    "</div>\n",
    "<div class=\"alert alert-block alert-info\">\n",
    "<b>Student answer:\n",
    "    </b> <a class=\"tocSkip\"></a>\n",
    "    Berarti ambil salah satu kolom saja ya Kak? saya ambil nilai di kolom <b> user_id </b>\n",
    "</div>"
   ]
  },
  {
   "cell_type": "markdown",
   "metadata": {},
   "source": [
    "<div class=\"alert alert-warning\">\n",
    "<b>Reviewer's comment v2</b> <a class=\"tocSkip\"></a>\n",
    "\n",
    "OK, akan lebih efisien apabila pemilihan kolom dilakukan sebelum `count()`. Pertimbangkan ketika data yang sangat besar dan harus dilakukan operasi `count()` disemua kolom sedangkan hanya dibutuhkan di salah satu kolom saja.\n",
    "\n",
    "</div>\n",
    "</div>\n",
    "<div class=\"alert alert-block alert-info\">\n",
    "<b>Student answer:\n",
    "    </b> <a class=\"tocSkip\"></a>\n",
    "   <b> \n",
    "       df.groupby('city')['user_id'].count() \n",
    "   </b> seperti ini sudah oke kan ya?. \n",
    "    \n",
    "    tidak perlu satu-satu kyk gini.\n",
    "    data = df.groupby('city')['user_id']\n",
    "    data = data.count()\n",
    "</div>\n",
    "\n"
   ]
  },
  {
   "cell_type": "markdown",
   "metadata": {
    "id": "dzli3w8o_Zcu"
   },
   "source": [
    "Springfield memiliki lebih banyak lagu yang dimainkan daripada Shelbyville. Namun bukan berarti warga Springfield lebih sering mendengarkan musik. Kota ini lebih besar, dan memiliki lebih banyak pengguna.\n",
    "\n",
    "Sekarang kelompokkan data menurut hari dan temukan jumlah lagu yang diputar pada hari Senin, Rabu, dan Jumat."
   ]
  },
  {
   "cell_type": "code",
   "execution_count": 19,
   "metadata": {
    "id": "uZMKjiJz_Zcu",
    "scrolled": true
   },
   "outputs": [
    {
     "data": {
      "image/png": "[encoded data removed]",
      "text/plain": [
       "<Figure size 432x288 with 1 Axes>"
      ]
     },
     "metadata": {
      "needs_background": "light"
     },
     "output_type": "display_data"
    },
    {
     "name": "stdout",
     "output_type": "stream",
     "text": [
      "Gambar 2. Jumlah Lagu Dimainkan Berdasarkan Hari\n",
      "\n",
      "\n",
      "Tabel 2. Jumlah Lagu Dimainkan Berdasarkan Hari\n"
     ]
    },
    {
     "data": {
      "text/plain": [
       "day\n",
       "Friday       21840\n",
       "Monday       21354\n",
       "Wednesday    18059\n",
       "Name: user_id, dtype: int64"
      ]
     },
     "execution_count": 19,
     "metadata": {},
     "output_type": "execute_result"
    }
   ],
   "source": [
    "# Menghitung trek yang diputar pada masing-masing hari\n",
    "data = df.groupby('day')['user_id'].count()\n",
    "\n",
    "plt.figure(1)\n",
    "plt.bar(data.index,data)\n",
    "plt.show()\n",
    "print('Gambar 2. Jumlah Lagu Dimainkan Berdasarkan Hari')\n",
    "\n",
    "print()\n",
    "print()\n",
    "print('Tabel 2. Jumlah Lagu Dimainkan Berdasarkan Hari')\n",
    "data"
   ]
  },
  {
   "cell_type": "markdown",
   "metadata": {},
   "source": [
    "<div class=\"alert alert-danger\">\n",
    "<b>Reviewer's comment v1</b> <a class=\"tocSkip\"></a>\n",
    "\n",
    "Sama seperti komen sebelumnya terkait satu kolom saja yang digunakan dalam pengelompokan.\n",
    "\n",
    "</div>"
   ]
  },
  {
   "cell_type": "markdown",
   "metadata": {
    "id": "cC2tNrlL_Zcu"
   },
   "source": [
    "Rabu adalah hari paling tenang secara keseluruhan. Tetapi jika kita mempertimbangkan kedua kota secara terpisah, kita mungkin akan memiliki kesimpulan yang berbeda."
   ]
  },
  {
   "cell_type": "markdown",
   "metadata": {
    "id": "POzs8bGa_Zcu"
   },
   "source": [
    "Anda telah melihat cara kerja pengelompokan berdasarkan kota atau hari. Sekarang tulis fungsi yang akan dikelompokkan berdasarkan keduanya.\n",
    "\n",
    "Buat fungsi `number_tracks()` untuk menghitung jumlah lagu yang diputar untuk hari dan kota tertentu. Ini akan membutuhkan dua parameter:\n",
    "* nama hari\n",
    "* nama kota\n",
    "\n",
    "Dalam fungsi, gunakan variabel untuk menyimpan baris dari tabel asli, di mana:\n",
    "  *  Nilai kolom `'day'` sama dengan parameter `day`\n",
    "  * Nilai kolom `'city'` sama dengan parameter `city`\n",
    "\n",
    "Terapkan pemfilteran berurutan dengan pengindeksan logis.\n",
    "\n",
    "Kemudian hitung nilai kolom `'user_id'` pada tabel yang dihasilkan. Simpan hasilnya ke variabel baru. Kembalikan variabel ini dari fungsi."
   ]
  },
  {
   "cell_type": "code",
   "execution_count": 20,
   "metadata": {
    "id": "Nz3GdQB1_Zcu"
   },
   "outputs": [],
   "source": [
    "# <membuat fungsi number_tracks()>\n",
    "# Kita akan mendeklarasikan sebuah fungsi dengan dua parameter: day=, city=.\n",
    "# Biarkan variabel track_list menyimpan baris df di mana\n",
    "# nilai di kolom 'day' sama dengan parameter day= dan, pada saat yang sama,\n",
    "# nilai pada kolom 'city' sama dengan parameter city= (terapkan pemfilteran berurutan\n",
    "# dengan pengindeksan logis).\n",
    "# Biarkan variabel track_list_count menyimpan jumlah nilai kolom 'user_id' pada track_list\n",
    "# (temukan dengan metode count()).\n",
    "# Biarkan fungsi menghasilkan jumlah: nilai track_list_count.\n",
    "\n",
    "# Fungsi menghitung lagu yang diputar untuk kota dan hari tertentu.\n",
    "# Pertama-tama ini akan mengambil baris dengan hari yang diinginkan dari tabel,\n",
    "# kemudian memfilter baris hasilnya dengan kota yang dimaksud,\n",
    "# kemudian temukan jumlah nilai 'user_id' pada tabel yang difilter,\n",
    "# kemudian menghasilkan jumlah tersebut.\n",
    "# Untuk melihat apa yang dihasilkan, kemas pemanggilan fungsi pada print().\n",
    "def number_tracks(city,day):\n",
    "    city_filtered = df.loc[(df['city']==city) & (df['day']==day)]\n",
    "    track_list_count = city_filtered['user_id'].count()\n",
    "    return track_list_count"
   ]
  },
  {
   "cell_type": "markdown",
   "metadata": {},
   "source": [
    "<div class=\"alert alert-success\">\n",
    "<b>Reviewer's comment v1</b> <a class=\"tocSkip\"></a>\n",
    "\n",
    "Fungsi terdefinisi dengan benar.\n",
    "\n",
    "</div>"
   ]
  },
  {
   "cell_type": "markdown",
   "metadata": {},
   "source": [
    "<div class=\"alert alert-warning\">\n",
    "<b>Reviewer's comment v1</b> <a class=\"tocSkip\"></a>\n",
    "\n",
    "Untuk penggunaan fungsi yang telah didefinisikan tidak perlu menggunakan `print()` karena sudah menjadi baris terakhir di sel tersebut.\n",
    "\n",
    "</div>\n",
    "<div class=\"alert alert-block alert-info\">\n",
    "<b>Student answer:\n",
    "    </b> <a class=\"tocSkip\"></a>\n",
    "    Maaf kak, lupa dihapus itu buat ngetest fungsinya aja pas awal bikin fungsinya:)\n",
    "</div>\n"
   ]
  },
  {
   "cell_type": "markdown",
   "metadata": {
    "id": "ytf7xFrFJQ2r"
   },
   "source": [
    "Panggil `number_tracks()` enam kali dan ubahlah nilai parameternya, sehingga Anda bisa mengambil data di kedua kota untuk masing-masing hari tersebut."
   ]
  },
  {
   "cell_type": "code",
   "execution_count": 21,
   "metadata": {
    "id": "rJcRATNQ_Zcu"
   },
   "outputs": [
    {
     "data": {
      "text/plain": [
       "15740"
      ]
     },
     "execution_count": 21,
     "metadata": {},
     "output_type": "execute_result"
    }
   ],
   "source": [
    "# jumlah lagu yang diputar di Springfield pada hari Senin\n",
    "number_tracks('Springfield','Monday')"
   ]
  },
  {
   "cell_type": "code",
   "execution_count": 22,
   "metadata": {
    "id": "hq_ncZ5T_Zcu"
   },
   "outputs": [
    {
     "data": {
      "text/plain": [
       "5614"
      ]
     },
     "execution_count": 22,
     "metadata": {},
     "output_type": "execute_result"
    }
   ],
   "source": [
    "# jumlah lagu yang diputar di Shelbyville pada hari Senin\n",
    "number_tracks('Shelbyville','Monday')"
   ]
  },
  {
   "cell_type": "code",
   "execution_count": 23,
   "metadata": {
    "id": "_NTy2VPU_Zcu"
   },
   "outputs": [
    {
     "data": {
      "text/plain": [
       "11056"
      ]
     },
     "execution_count": 23,
     "metadata": {},
     "output_type": "execute_result"
    }
   ],
   "source": [
    "#  jumlah lagu yang diputar di Springfield pada hari Rabu\n",
    "number_tracks('Springfield','Wednesday')"
   ]
  },
  {
   "cell_type": "code",
   "execution_count": 24,
   "metadata": {
    "id": "j2y3TAwo_Zcu"
   },
   "outputs": [
    {
     "data": {
      "text/plain": [
       "7003"
      ]
     },
     "execution_count": 24,
     "metadata": {},
     "output_type": "execute_result"
    }
   ],
   "source": [
    "#  jumlah lagu yang diputar di Shelbyville pada hari Rabu\n",
    "number_tracks('Shelbyville','Wednesday')"
   ]
  },
  {
   "cell_type": "code",
   "execution_count": 25,
   "metadata": {
    "id": "vYDw5u_K_Zcu"
   },
   "outputs": [
    {
     "data": {
      "text/plain": [
       "15945"
      ]
     },
     "execution_count": 25,
     "metadata": {},
     "output_type": "execute_result"
    }
   ],
   "source": [
    "# jumlah lagu yang diputar di Springfield pada hari Jumat\n",
    "number_tracks('Springfield','Friday')"
   ]
  },
  {
   "cell_type": "code",
   "execution_count": 26,
   "metadata": {
    "id": "8_yzFtW3_Zcu"
   },
   "outputs": [
    {
     "data": {
      "text/plain": [
       "5895"
      ]
     },
     "execution_count": 26,
     "metadata": {},
     "output_type": "execute_result"
    }
   ],
   "source": [
    "# jumlah lagu yang diputar di Shelbyville pada hari Jumat\n",
    "number_tracks('Shelbyville','Friday')"
   ]
  },
  {
   "cell_type": "markdown",
   "metadata": {},
   "source": [
    "<div class=\"alert alert-success\">\n",
    "<b>Reviewer's comment v1</b> <a class=\"tocSkip\"></a>\n",
    "\n",
    "100! Semua benar.\n",
    "\n",
    "</div>"
   ]
  },
  {
   "cell_type": "markdown",
   "metadata": {
    "id": "7QXffbO-_Zcu"
   },
   "source": [
    "Gunakan `pd.DataFrame` untuk membuat tabel, di mana\n",
    "* Nama kolom adalah: `['city', 'monday', 'wednesday', 'friday']`\n",
    "* Data adalah hasil yang Anda dapatkan dari `number_tracks()`"
   ]
  },
  {
   "cell_type": "code",
   "execution_count": 27,
   "metadata": {
    "id": "APAcLpOr_Zcu"
   },
   "outputs": [
    {
     "name": "stdout",
     "output_type": "stream",
     "text": [
      "\n"
     ]
    },
    {
     "data": {
      "image/png": "[encoded data removed]",
      "text/plain": [
       "<Figure size 432x288 with 1 Axes>"
      ]
     },
     "metadata": {
      "needs_background": "light"
     },
     "output_type": "display_data"
    },
    {
     "name": "stdout",
     "output_type": "stream",
     "text": [
      "Gambar 3 Jumlah Lagu Dimainkan Berdasarkan Hari\n",
      "\n",
      "\n",
      "Tabel 3 Jumlah Lagu Dimainkan Berdasarkan Hari\n"
     ]
    },
    {
     "data": {
      "text/html": [
       "<div>\n",
       "<style scoped>\n",
       "    .dataframe tbody tr th:only-of-type {\n",
       "        vertical-align: middle;\n",
       "    }\n",
       "\n",
       "    .dataframe tbody tr th {\n",
       "        vertical-align: top;\n",
       "    }\n",
       "\n",
       "    .dataframe thead th {\n",
       "        text-align: right;\n",
       "    }\n",
       "</style>\n",
       "<table border=\"1\" class=\"dataframe\">\n",
       "  <thead>\n",
       "    <tr style=\"text-align: right;\">\n",
       "      <th></th>\n",
       "      <th>city</th>\n",
       "      <th>Monday</th>\n",
       "      <th>Wednesday</th>\n",
       "      <th>Friday</th>\n",
       "    </tr>\n",
       "  </thead>\n",
       "  <tbody>\n",
       "    <tr>\n",
       "      <th>0</th>\n",
       "      <td>Springfield</td>\n",
       "      <td>15740</td>\n",
       "      <td>11056</td>\n",
       "      <td>15945</td>\n",
       "    </tr>\n",
       "    <tr>\n",
       "      <th>1</th>\n",
       "      <td>Shelbyville</td>\n",
       "      <td>5614</td>\n",
       "      <td>7003</td>\n",
       "      <td>5895</td>\n",
       "    </tr>\n",
       "  </tbody>\n",
       "</table>\n",
       "</div>"
      ],
      "text/plain": [
       "          city  Monday  Wednesday  Friday\n",
       "0  Springfield   15740      11056   15945\n",
       "1  Shelbyville    5614       7003    5895"
      ]
     },
     "execution_count": 27,
     "metadata": {},
     "output_type": "execute_result"
    }
   ],
   "source": [
    "# tabel dengan hasil\n",
    "# Membuat kolom list kota dan hari\n",
    "cities = ['Springfield','Shelbyville']\n",
    "days   = ['Monday','Wednesday','Friday']\n",
    "col = ['city']\n",
    "col.extend(days)\n",
    "\n",
    "# Membuat tempat kosong yang nantinya diisi data untuk DataFrame\n",
    "table = []\n",
    "\n",
    "# For-loops cara pertama\n",
    "[[[table.append([cities[i]])] , [table[i].append(number_tracks(cities[i],days[y])) for y in range(len(days))]]\\\n",
    " for i in range (len(cities))]\n",
    "\n",
    "#for i in range (len(cities)): #For loop cara ke-dua\n",
    "#    table.append([cities[i]])\n",
    "#    for y in range(len(days)):\n",
    "#        table[i].append(number_tracks(cities[i],days[y]))\n",
    "\n",
    "# Membuat DataFrame dari list table hasil dari for-loops\n",
    "table = pd.DataFrame(table,columns = col)\n",
    "\n",
    "# Membuat plot\n",
    "data = table\n",
    "print()\n",
    "plt.figure(2)\n",
    "plt.bar(data.columns[1:],data.loc[0,(data.columns[1:])])\n",
    "plt.bar(data.columns[1:],data.loc[1,(data.columns[1:])])\n",
    "plt.legend(data['city'],bbox_to_anchor=(1.05, 0.7),title='Keterangan')\n",
    "plt.show()\n",
    "print('Gambar 3 Jumlah Lagu Dimainkan Berdasarkan Hari')\n",
    "\n",
    "print()\n",
    "print()\n",
    "print('Tabel 3 Jumlah Lagu Dimainkan Berdasarkan Hari')\n",
    "data"
   ]
  },
  {
   "cell_type": "markdown",
   "metadata": {},
   "source": [
    "<div class=\"alert alert-success\">\n",
    "<b>Reviewer's comment v1</b> <a class=\"tocSkip\"></a>\n",
    "\n",
    "Penggunaan looping yang cukup efisien untuk input data ke dalam dataframe. Serta visualisasi yang membantu dalam memahami data.\n",
    "\n",
    "</div>\n",
    "\n",
    "<div class=\"alert alert-block alert-info\">\n",
    "<b>Student answer:\n",
    "    </b> <a class=\"tocSkip\"></a>\n",
    "    Lagi tertarik banget bikin for-loop pakai satu baris:). Tapi kekurangan for-loop satu baris ini jadi sulit dipahami ketika perintah di dalam for-loops kompleks/lebih dari satu line code.\n",
    "</div>"
   ]
  },
  {
   "cell_type": "markdown",
   "metadata": {},
   "source": [
    "<div class=\"alert alert-success\">\n",
    "<b>Reviewer's comment v2</b> <a class=\"tocSkip\"></a>\n",
    "\n",
    "Setuju, mungkin penulisan komen sebelum penulisan kode akan banyak membantu\n",
    "\n",
    "</div>"
   ]
  },
  {
   "cell_type": "markdown",
   "metadata": {},
   "source": [
    "<div class=\"alert alert-warning\">\n",
    "<b>Reviewer's comment v1</b> <a class=\"tocSkip\"></a>\n",
    "\n",
    "Terkait impor numpy disini sepertinya tidak diperlukan. Kalaupun diperlukan umumnya langkah ini ada di paling awal di setiap notebook.\n",
    "\n",
    "</div>\n",
    "<div class=\"alert alert-block alert-info\">\n",
    "<b>Student answer:\n",
    "    </b> <a class=\"tocSkip\"></a>\n",
    "    Lupa dihapus, padahal enggak dipakai sih hehe.\n",
    "</div>"
   ]
  },
  {
   "cell_type": "markdown",
   "metadata": {
    "id": "-EgPIHYu_Zcu"
   },
   "source": [
    "**Kesimpulan**\n",
    "\n",
    "Data mengungkapkan perbedaan perilaku pengguna:\n",
    "\n",
    "- Pada Springfield, jumlah lagu yang diputar mencapai puncaknya pada hari Senin dan Jumat, sedangkan pada hari Rabu terjadi penurunan aktivitas.\n",
    "- Di Shelbyville, sebaliknya, pengguna lebih banyak mendengarkan musik pada hari Rabu.\n",
    "\n",
    "Aktivitas pengguna pada hari Senin dan Jumat lebih sedikit."
   ]
  },
  {
   "cell_type": "markdown",
   "metadata": {
    "id": "p7nFQajCVw5B"
   },
   "source": [
    "[Kembali ke Daftar Isi](#back)"
   ]
  },
  {
   "cell_type": "markdown",
   "metadata": {
    "id": "atZAxtq4_Zcu"
   },
   "source": [
    "### Hipotesis 2: Musik di Awal dan Akhir Minggu <a id='week'></a>"
   ]
  },
  {
   "cell_type": "markdown",
   "metadata": {
    "id": "eXrQqXFH_Zcu"
   },
   "source": [
    "Menurut hipotesis kedua, pada Senin pagi dan Jumat malam, warga Springfield mendengarkan genre yang berbeda dari yang dinikmati warga Shelbyville."
   ]
  },
  {
   "cell_type": "markdown",
   "metadata": {
    "id": "S8UcW6Hw_Zcu"
   },
   "source": [
    "Dapatkan tabel (pastikan nama tabel gabungan Anda cocok dengan DataFrame yang diberikan dalam dua blok kode di bawah):\n",
    "* Untuk Springfield — `spr_general`\n",
    "* Untuk Shelbyville — `shel_general`"
   ]
  },
  {
   "cell_type": "code",
   "execution_count": 28,
   "metadata": {
    "id": "qeaFfM_P_Zcu"
   },
   "outputs": [],
   "source": [
    "# mendapatkan tabel spr_general dari baris df,\n",
    "# dimana nilai dari kolom 'city' adalah 'Springfield'\n",
    "spr_general = df[df['city']=='Springfield']"
   ]
  },
  {
   "cell_type": "code",
   "execution_count": 29,
   "metadata": {
    "id": "ORaVRKto_Zcu"
   },
   "outputs": [],
   "source": [
    "# mendapatkan shel_general dari baris df,\n",
    "# dimana nilai dari kolom 'city' adalah 'Shelbyville'\n",
    "shel_general = df[df['city']=='Shelbyville']\n"
   ]
  },
  {
   "cell_type": "markdown",
   "metadata": {},
   "source": [
    "<div class=\"alert alert-success\">\n",
    "<b>Reviewer's comment v1</b> <a class=\"tocSkip\"></a>\n",
    "\n",
    "Semua berjalan dengan lancar.\n",
    "\n",
    "</div>"
   ]
  },
  {
   "cell_type": "markdown",
   "metadata": {
    "id": "MEJV-CX2_Zcu"
   },
   "source": [
    "Tulis fungsi `genre_weekday()` dengan empat parameter:\n",
    "* Sebuah tabel untuk data\n",
    "* Nama hari\n",
    "* Tanda waktu pertama, dalam format 'hh:mm'\n",
    "* Tanda waktu terakhir, dalam format 'hh: mm'\n",
    "\n",
    "Fungsi tersebut harus menghasilkan info tentang 15 genre paling populer pada hari tertentu dalam periode diantara dua tanda waktu."
   ]
  },
  {
   "cell_type": "code",
   "execution_count": 30,
   "metadata": {
    "id": "laJT9BYl_Zcu"
   },
   "outputs": [],
   "source": [
    "# Mendeklarasikan fungsi genre_weekday() dengan parameter day=, time1=, dan time2=. Itu harus\n",
    "# memberikan informasi tentang genre paling populer pada hari dan waktu tertentu:\n",
    "\n",
    "# 1) Biarkan variabel genre_df menyimpan baris yang memenuhi beberapa ketentuan:\n",
    "#    - nilai pada kolom 'day' sama dengan nilai argumen hari=\n",
    "#    - nilai pada kolom 'time' lebih besar dari nilai argumen time1=\n",
    "#    - nilai pada kolom 'time' lebih kecil dari nilai argumen time2=\n",
    "#    Gunakan pemfilteran berurutan dengan pengindeksan logis.\n",
    "\n",
    "# 2) Kelompokkan genre_df berdasarkan kolom 'genre', lalu ambil salah satu kolomnya,\n",
    "#    dan gunakan metode count() untuk menemukan jumlah entri untuk masing-masing\n",
    "#    genre yang diwakili; simpan Series yang dihasilkan ke\n",
    "#    variabel genre_df_count\n",
    "\n",
    "# 3) Urutkan genre_df_count dalam urutan menurun dan simpan hasilnya\n",
    "#    ke variabel genre_df_sorted\n",
    "\n",
    "# 4) Menghasilkan objek Series dengan nilai 15 genre_df_sorted pertama - 15 genre paling\n",
    "#    populer (pada hari tertentu, dalam jangka waktu tertentu)\n",
    "\n",
    "def genre_weekday(data,day,time1,time2):\n",
    "    # pemfilteran berturut-turut\n",
    "    # genre_df hanya akan menyimpan baris df di mana day sama dengan day=\n",
    "    genre_df = data[data['day']==day]\n",
    "\n",
    "    # genre_df hanya akan menyimpan baris df di mana time lebih kecil dari time2=\n",
    "    genre_df = genre_df[genre_df['time']<time2]\n",
    "\n",
    "    # genre_df hanya akan menyimpan baris df di mana time lebih besar dari time1=\n",
    "    genre_df = genre_df[genre_df['time']>time1]\n",
    "\n",
    "    # kelompokkan DataFrame yang difilter berdasarkan kolom dengan nama genre, ambil kolom genre, dan temukan jumlah baris untuk setiap genre dengan metode count()\n",
    "    genre_df_grouped = genre_df.groupby('genre')['user_id'].count()\n",
    "\n",
    "\n",
    "    # kita akan mengurutkan hasilnya dalam urutan menurun (sehingga genre paling populer didahulukan pada objek Series\n",
    "    genre_df_sorted = genre_df_grouped.sort_values(axis=0,ascending=False)\n",
    "\n",
    "    # kita akan menghasilkan objek Series yang menyimpan 15 genre paling populer pada hari tertentu dalam jangka waktu tertentu\n",
    "    #return genre_df_sorted[:15]\n",
    "    # New answer\n",
    "    return genre_df_sorted[:15]"
   ]
  },
  {
   "cell_type": "markdown",
   "metadata": {},
   "source": [
    "<div class=\"alert alert-danger\">\n",
    "<b>Reviewer's comment v1</b> <a class=\"tocSkip\"></a>\n",
    "    \n",
    "Sepertinya dalam mendefinisikan fungsi `genre_weekday` belum ada pemilihan kolom `genre` setelah pengelompokan sehingga akan muncul pengulangan informasi pada output.\n",
    "\n",
    "</div>"
   ]
  },
  {
   "cell_type": "markdown",
   "metadata": {},
   "source": [
    "<div class=\"alert alert-danger\">\n",
    "<b>Reviewer's comment v2</b> <a class=\"tocSkip\"></a>\n",
    "\n",
    "Sama seperti pembahasan sebelumnya, akan lebih efisien apabila pemilihan kolom dilakukan sebelum `count()`. Pertimbangkan ketika data yang sangat besar dan harus dilakukan operasi `count()` disemua kolom sedangkan hanya dibutuhkan di salah satu kolom saja.\n",
    "\n",
    "</div>"
   ]
  },
  {
   "cell_type": "markdown",
   "metadata": {
    "id": "la2s2_PF_Zcu"
   },
   "source": [
    "Bandingkan hasil fungsi `genre_weekday()` untuk Springfield dan Shelbyville pada Senin pagi (dari pukul 07.00 hingga 11.00) dan pada Jumat malam (dari pukul 17:00 hingga 23:00):"
   ]
  },
  {
   "cell_type": "code",
   "execution_count": 31,
   "metadata": {
    "id": "yz7itPUQ_Zcu"
   },
   "outputs": [
    {
     "name": "stdout",
     "output_type": "stream",
     "text": [
      "\n"
     ]
    },
    {
     "data": {
      "image/png": "[encoded data removed]",
      "text/plain": [
       "<Figure size 432x288 with 1 Axes>"
      ]
     },
     "metadata": {
      "needs_background": "light"
     },
     "output_type": "display_data"
    },
    {
     "name": "stdout",
     "output_type": "stream",
     "text": [
      "Gambar 4 Genre Paling Favorit di Kota Springfield Senin Pagi\n",
      "\n",
      "\n",
      "Tabel 4 Genre Paling Favorit di Kota Springfield Senin Pagi\n"
     ]
    },
    {
     "data": {
      "text/plain": [
       "genre\n",
       "pop            781\n",
       "dance          549\n",
       "electronic     480\n",
       "rock           474\n",
       "hiphop         286\n",
       "ruspop         186\n",
       "world          181\n",
       "rusrap         175\n",
       "alternative    164\n",
       "unknown        161\n",
       "classical      157\n",
       "metal          120\n",
       "jazz           100\n",
       "folk            97\n",
       "soundtrack      95\n",
       "Name: user_id, dtype: int64"
      ]
     },
     "execution_count": 31,
     "metadata": {},
     "output_type": "execute_result"
    }
   ],
   "source": [
    "# memanggil fungsi untuk Senin pagi di Springfield (gunakan spr_general alih-alih tabel df)\n",
    "data = genre_weekday(spr_general,'Monday','07:00','11:00')\n",
    "print()\n",
    "plt.figure(3)\n",
    "plt.bar(data.index,data,color='green')\n",
    "plt.xticks(rotation=45)\n",
    "plt.show()\n",
    "print('Gambar 4 Genre Paling Favorit di Kota Springfield Senin Pagi')\n",
    "\n",
    "print()\n",
    "print()\n",
    "print('Tabel 4 Genre Paling Favorit di Kota Springfield Senin Pagi')\n",
    "data"
   ]
  },
  {
   "cell_type": "code",
   "execution_count": 32,
   "metadata": {
    "id": "kwUcHPdy_Zcu"
   },
   "outputs": [
    {
     "name": "stdout",
     "output_type": "stream",
     "text": [
      "\n"
     ]
    },
    {
     "data": {
      "image/png": "[encoded data removed]",
      "text/plain": [
       "<Figure size 432x288 with 1 Axes>"
      ]
     },
     "metadata": {
      "needs_background": "light"
     },
     "output_type": "display_data"
    },
    {
     "name": "stdout",
     "output_type": "stream",
     "text": [
      "Gambar 5 Genre Paling Favorit di Kota Shelbyville Senin Pagi\n",
      "\n",
      "\n",
      "Tabel 5 Genre Paling Favorit di Kota Shelbyville Senin Pagi\n"
     ]
    },
    {
     "data": {
      "text/plain": [
       "genre\n",
       "pop            218\n",
       "dance          182\n",
       "rock           162\n",
       "electronic     147\n",
       "hiphop          80\n",
       "ruspop          64\n",
       "alternative     58\n",
       "rusrap          55\n",
       "jazz            44\n",
       "classical       40\n",
       "world           36\n",
       "rap             32\n",
       "soundtrack      31\n",
       "rnb             27\n",
       "metal           27\n",
       "Name: user_id, dtype: int64"
      ]
     },
     "execution_count": 32,
     "metadata": {},
     "output_type": "execute_result"
    }
   ],
   "source": [
    "# memanggil fungsi untuk Senin pagi di Shelbyville (gunakan shel_general alih-alih tabel df)\n",
    "data = genre_weekday(shel_general,'Monday','07:00','11:00')\n",
    "print()\n",
    "plt.figure(4)\n",
    "plt.bar(data.index,data,color='green')\n",
    "plt.xticks(rotation=45)\n",
    "plt.show()\n",
    "print('Gambar 5 Genre Paling Favorit di Kota Shelbyville Senin Pagi')\n",
    "\n",
    "print()\n",
    "print()\n",
    "print('Tabel 5 Genre Paling Favorit di Kota Shelbyville Senin Pagi')\n",
    "data"
   ]
  },
  {
   "cell_type": "code",
   "execution_count": 33,
   "metadata": {
    "id": "EzXVRE1o_Zcu"
   },
   "outputs": [
    {
     "name": "stdout",
     "output_type": "stream",
     "text": [
      "\n"
     ]
    },
    {
     "data": {
      "image/png": "[encoded data removed]",
      "text/plain": [
       "<Figure size 432x288 with 1 Axes>"
      ]
     },
     "metadata": {
      "needs_background": "light"
     },
     "output_type": "display_data"
    },
    {
     "name": "stdout",
     "output_type": "stream",
     "text": [
      "Gambar 6 Genre Paling Favorit di Kota Springfield Jumat Malam\n",
      "\n",
      "\n",
      "Tabel 6 Genre Paling Favorit di Kota Springfield Jumat Malam\n"
     ]
    },
    {
     "data": {
      "text/plain": [
       "genre\n",
       "pop            713\n",
       "rock           517\n",
       "dance          495\n",
       "electronic     482\n",
       "hiphop         273\n",
       "world          208\n",
       "ruspop         170\n",
       "classical      163\n",
       "alternative    163\n",
       "rusrap         142\n",
       "jazz           111\n",
       "unknown        110\n",
       "soundtrack     105\n",
       "rnb             90\n",
       "metal           88\n",
       "Name: user_id, dtype: int64"
      ]
     },
     "execution_count": 33,
     "metadata": {},
     "output_type": "execute_result"
    }
   ],
   "source": [
    "# memanggil fungsi untuk Jumat malam di Springfield\n",
    "data = genre_weekday(spr_general,'Friday','17:00','23:00')\n",
    "print()\n",
    "plt.figure(5)\n",
    "plt.bar(data.index,data,color='green')\n",
    "plt.xticks(rotation=45)\n",
    "plt.show()\n",
    "print('Gambar 6 Genre Paling Favorit di Kota Springfield Jumat Malam')\n",
    "\n",
    "print()\n",
    "print()\n",
    "print('Tabel 6 Genre Paling Favorit di Kota Springfield Jumat Malam')\n",
    "data"
   ]
  },
  {
   "cell_type": "code",
   "execution_count": 34,
   "metadata": {
    "id": "JZaEKu5v_Zcu",
    "scrolled": true
   },
   "outputs": [
    {
     "name": "stdout",
     "output_type": "stream",
     "text": [
      "\n"
     ]
    },
    {
     "data": {
      "image/png": "[encoded data removed]",
      "text/plain": [
       "<Figure size 432x288 with 1 Axes>"
      ]
     },
     "metadata": {
      "needs_background": "light"
     },
     "output_type": "display_data"
    },
    {
     "name": "stdout",
     "output_type": "stream",
     "text": [
      "Gambar 7 Genre Paling Favorit di Kota Shelbyville Jumat Malam\n",
      "\n",
      "\n",
      "Tabel 7 Genre Paling Favorit di Kota Shelbyville Jumat Malam\n"
     ]
    },
    {
     "data": {
      "text/plain": [
       "genre\n",
       "pop            256\n",
       "rock           216\n",
       "electronic     216\n",
       "dance          210\n",
       "hiphop          97\n",
       "alternative     63\n",
       "jazz            61\n",
       "classical       60\n",
       "rusrap          59\n",
       "world           54\n",
       "unknown         47\n",
       "ruspop          47\n",
       "soundtrack      40\n",
       "metal           39\n",
       "rap             36\n",
       "Name: user_id, dtype: int64"
      ]
     },
     "execution_count": 34,
     "metadata": {},
     "output_type": "execute_result"
    }
   ],
   "source": [
    "# memanggil fungsi untuk Jumat malam di Shelbyville\n",
    "data = genre_weekday(shel_general,'Friday','17:00','23:00')\n",
    "print()\n",
    "plt.figure(6)\n",
    "plt.bar(data.index,data,color='green')\n",
    "plt.xticks(rotation=45)\n",
    "plt.show()\n",
    "print('Gambar 7 Genre Paling Favorit di Kota Shelbyville Jumat Malam')\n",
    "\n",
    "print()\n",
    "print()\n",
    "print('Tabel 7 Genre Paling Favorit di Kota Shelbyville Jumat Malam')\n",
    "data"
   ]
  },
  {
   "cell_type": "markdown",
   "metadata": {},
   "source": [
    "<div class=\"alert alert-danger\">\n",
    "<b>Reviewer's comment v1</b> <a class=\"tocSkip\"></a>\n",
    "    \n",
    "Masih terdapat beberapa hal yang perlu dirubah di fungsi `genre_weekday()` seperti di komen sebelumnya agar tidak terdapat perulangan informasi.\n",
    "\n",
    "</div>\n",
    "<div class=\"alert alert-block alert-info\">\n",
    "<b>Student answer:\n",
    "    </b> <a class=\"tocSkip\"></a>\n",
    "    Baik, noted Kak.\n",
    "</div>"
   ]
  },
  {
   "cell_type": "markdown",
   "metadata": {
    "id": "wrCe4MNX_Zcu"
   },
   "source": [
    "**Kesimpulan**\n",
    "\n",
    "Setelah membandingkan 15 genre teratas pada Senin pagi, kita dapat menarik kesimpulan berikut:\n",
    "\n",
    "1. Pengguna dari Springfield dan Shelbyville mendengarkan musik dengan genre yang sama. Lima genre teratas sama, hanya rock dan elektronik yang bertukar tempat.\n",
    "\n",
    "2. Di Springfield, jumlah nilai yang hilang ternyata sangat besar sehingga nilai `'unknown'` berada di urutan ke-10. Ini berarti bahwa nilai-nilai yang hilang memiliki jumlah data yang cukup besar, yang mungkin menjadi dasar untuk mempertanyakan ketepatan kesimpulan kita.\n",
    "\n",
    "Untuk Jumat malam, situasinya serupa. Genre individu agak bervariasi, tetapi secara keseluruhan, 15 besar genre untuk kedua kota sama.\n",
    "\n",
    "Dengan demikian, hipotesis kedua sebagian terbukti benar:\n",
    "* Pengguna mendengarkan musik yang sama di awal dan akhir minggu.\n",
    "* Tidak ada perbedaan yang mencolok antara Springfield dan Shelbyville. Pada kedua kota tersebut, pop adalah genre yang paling populer.\n",
    "\n",
    "Namun, jumlah nilai yang hilang membuat hasil ini dipertanyakan. Di Springfield, ada begitu banyak yang memengaruhi 15 teratas kita. Jika kita tidak mengabaikan nilai-nilai ini, hasilnya mungkin akan berbeda."
   ]
  },
  {
   "cell_type": "markdown",
   "metadata": {
    "id": "jLmXgdanVyhP"
   },
   "source": [
    "[Kembali ke Daftar Isi](#back)"
   ]
  },
  {
   "cell_type": "markdown",
   "metadata": {
    "id": "JolODAqr_Zcu"
   },
   "source": [
    "### Hipotesis 3: Preferensi Genre di Springfield dan Shelbyville <a id='genre'></a>\n",
    "\n",
    "Hipotesis: Shelbyville menyukai musik rap. Warga Springfield lebih menyukai pop."
   ]
  },
  {
   "cell_type": "markdown",
   "metadata": {
    "id": "DlegSvaT_Zcu"
   },
   "source": [
    "Kelompokkan tabel `spr_general` berdasarkan genre dan temukan jumlah lagu yang dimainkan untuk setiap genre dengan metode `count()`. Kemudian urutkan hasilnya dalam urutan menurun dan simpan ke `spr_genres`."
   ]
  },
  {
   "cell_type": "code",
   "execution_count": 35,
   "metadata": {
    "id": "r19lIPke_Zcu"
   },
   "outputs": [],
   "source": [
    "# pada satu baris: kelompokkan tabel spr_general berdasarkan kolom 'genre',\n",
    "# hitung nilai 'genre' dengan count() dalam pengelompokan,\n",
    "# urutkan Series yang dihasilkan dalam urutan menurun, lalu simpan ke spr_genres\n",
    "#spr_genre = spr_general.groupby('genre').count()\n",
    "#spr_genre = spr_genre.sort_values(ascending=False)\n",
    "\n",
    "# New answer\n",
    "spr_genre = spr_general.groupby('genre')['user_id'].count()\n",
    "spr_genre = spr_genre.sort_values(ascending=False)"
   ]
  },
  {
   "cell_type": "markdown",
   "metadata": {},
   "source": [
    "<div class=\"alert alert-danger\">\n",
    "<b>Reviewer's comment v1</b> <a class=\"tocSkip\"></a>\n",
    "    \n",
    "Kolom `genre` tidak dipilih setelah pengelompokan sehingga terdapat perulangan informasi seperti di sel selanjutnya\n",
    "\n",
    "</div>"
   ]
  },
  {
   "cell_type": "markdown",
   "metadata": {},
   "source": [
    "<div class=\"alert alert-warning\">\n",
    "<b>Reviewer's comment v2</b> <a class=\"tocSkip\"></a>\n",
    "\n",
    "Sama seperti pembahasan sebelumnya, pertimbangkan ketika data yang sangat besar dan harus dilakukan operasi `count()` disemua kolom sedangkan hanya dibutuhkan di salah satu kolom saja.\n",
    "\n",
    "</div>"
   ]
  },
  {
   "cell_type": "markdown",
   "metadata": {
    "id": "6kMuomxTiIr8"
   },
   "source": [
    "Tampilkan 10 baris pertama dari `spr_genres`:"
   ]
  },
  {
   "cell_type": "code",
   "execution_count": 36,
   "metadata": {
    "id": "WhCSooF8_Zcv"
   },
   "outputs": [
    {
     "data": {
      "image/png": "[encoded data removed]",
      "text/plain": [
       "<Figure size 432x288 with 1 Axes>"
      ]
     },
     "metadata": {},
     "output_type": "display_data"
    },
    {
     "name": "stdout",
     "output_type": "stream",
     "text": [
      "Gambar 8 Genre Paling Favorit di Kota Springfield\n",
      "\n",
      "\n",
      "Tabel 8 Genre Paling Favorit di Kota Springfield\n"
     ]
    },
    {
     "data": {
      "text/plain": [
       "genre\n",
       "pop            5892\n",
       "dance          4435\n",
       "rock           3965\n",
       "electronic     3786\n",
       "hiphop         2096\n",
       "classical      1616\n",
       "world          1432\n",
       "alternative    1379\n",
       "ruspop         1372\n",
       "rusrap         1161\n",
       "Name: user_id, dtype: int64"
      ]
     },
     "execution_count": 36,
     "metadata": {},
     "output_type": "execute_result"
    }
   ],
   "source": [
    "# menampilkan 10 baris pertama dari spr_genres\n",
    "data = spr_genre[:10]\n",
    "\n",
    "explod = []\n",
    "for value in data:\n",
    "    if value/data.sum() < 0.1:\n",
    "        explod.append(0.3)\n",
    "    else:\n",
    "        explod.append(0)\n",
    "\n",
    "plt.figure(7)\n",
    "plt.pie(data,labels=data.index,autopct='%.2f%%',explode=explod, radius=2,  labeldistance=1.1,\n",
    "        rotatelabels =True, startangle=90, textprops={'fontsize': 14},counterclock=False)\n",
    "plt.show()\n",
    "print('Gambar 8 Genre Paling Favorit di Kota Springfield')\n",
    "\n",
    "print()\n",
    "print()\n",
    "print('Tabel 8 Genre Paling Favorit di Kota Springfield')\n",
    "data"
   ]
  },
  {
   "cell_type": "markdown",
   "metadata": {
    "id": "cnPG2vnN_Zcv"
   },
   "source": [
    "Sekarang lakukan hal yang sama pada data di Shelbyville.\n",
    "\n",
    "Kelompokkan tabel `shel_general` berdasarkan genre dan temukan jumlah lagu yang dimainkan untuk setiap genre. Kemudian urutkan hasilnya dalam urutan menurun dan simpan ke tabel `shel_genres`:"
   ]
  },
  {
   "cell_type": "code",
   "execution_count": 37,
   "metadata": {
    "id": "gluLIpE7_Zcv"
   },
   "outputs": [],
   "source": [
    "# pada satu baris: kelompokkan tabel shel_general menurut kolom 'genre',\n",
    "# hitung nilai 'genre' dalam pengelompokan menggunakan count(),\n",
    "# urutkan Series yang dihasilkan dalam urutan menurun dan simpan ke shel_genres\n",
    "#shel_genre = shel_general.groupby('genre').count()\n",
    "#shel_genre = shel_genre.sort_values(by='user_id',ascending=False)\n",
    "\n",
    "# New answer\n",
    "shel_genre = shel_general.groupby('genre')['user_id'].count()\n",
    "shel_genre = shel_genre.sort_values(ascending=False)"
   ]
  },
  {
   "cell_type": "markdown",
   "metadata": {
    "id": "5Doha_ODgyQ8"
   },
   "source": [
    "Tampilkan 10 baris pertama dari `shel_genres`:"
   ]
  },
  {
   "cell_type": "code",
   "execution_count": 38,
   "metadata": {
    "id": "uaGJHjVU_Zcv",
    "scrolled": true
   },
   "outputs": [
    {
     "data": {
      "image/png": "[encoded data removed]",
      "text/plain": [
       "<Figure size 432x288 with 1 Axes>"
      ]
     },
     "metadata": {},
     "output_type": "display_data"
    },
    {
     "name": "stdout",
     "output_type": "stream",
     "text": [
      "Gambar 9 Genre Paling Favorit di Kota Shelbyville\n",
      "\n",
      "\n",
      "Tabel 9 Genre Paling Favorit di Kota Shelbyville\n"
     ]
    },
    {
     "data": {
      "text/plain": [
       "genre\n",
       "pop            2431\n",
       "dance          1932\n",
       "rock           1879\n",
       "electronic     1736\n",
       "hiphop          960\n",
       "alternative     649\n",
       "classical       646\n",
       "rusrap          564\n",
       "ruspop          538\n",
       "world           515\n",
       "Name: user_id, dtype: int64"
      ]
     },
     "execution_count": 38,
     "metadata": {},
     "output_type": "execute_result"
    }
   ],
   "source": [
    "# menampilkan 10 baris pertama dari shel_genres\n",
    "data = shel_genre[:10]\n",
    "\n",
    "explod = []\n",
    "for value in data:\n",
    "    if value/data.sum() < 0.1:\n",
    "        explod.append(0.3)\n",
    "    else:\n",
    "        explod.append(0)\n",
    "\n",
    "plt.figure(8)\n",
    "plt.pie(data,labels=data.index,autopct='%.2f%%',explode=explod, radius=2,  labeldistance=1.1,\n",
    "        rotatelabels =True, startangle=90, textprops={'fontsize': 14},counterclock=False)\n",
    "plt.show()\n",
    "print('Gambar 9 Genre Paling Favorit di Kota Shelbyville')\n",
    "\n",
    "print()\n",
    "print()\n",
    "print('Tabel 9 Genre Paling Favorit di Kota Shelbyville')\n",
    "data"
   ]
  },
  {
   "cell_type": "markdown",
   "metadata": {},
   "source": [
    "<div class=\"alert alert-danger\">\n",
    "<b>Reviewer's comment v1</b> <a class=\"tocSkip\"></a>\n",
    "    \n",
    "Secara visualisasi sudah benar namun sepertinya terkait tabel masih belum tepat karena menampilkan pola angka yang diluar konteks.\n",
    "</div>\n",
    "<div class=\"alert alert-block alert-info\">\n",
    "<b>Student answer:\n",
    "    </b> <a class=\"tocSkip\"></a>\n",
    "    Maaf kak, itu lagi iseng experiment bikin pascal triangle wkwk udah dihapus tapi muncul lagi:).\n",
    "</div>"
   ]
  },
  {
   "cell_type": "markdown",
   "metadata": {
    "id": "RY51YJYu_Zcv"
   },
   "source": [
    "**Kesimpulan**"
   ]
  },
  {
   "cell_type": "markdown",
   "metadata": {
    "id": "nVhnJEm__Zcv"
   },
   "source": [
    "Hipotesis terbukti benar sebagian:\n",
    "* Musik pop adalah genre paling populer di Springfield, seperti yang diharapkan.\n",
    "* Namun, musik pop ternyata sama populernya baik di Springfield maupun di Shelbyville, dan musik rap tidak berada di 5 besar untuk kedua kota tersebut.\n"
   ]
  },
  {
   "cell_type": "markdown",
   "metadata": {
    "id": "Byr0RfpPVz14"
   },
   "source": [
    "[Kembali ke Daftar Isi](#back)"
   ]
  },
  {
   "cell_type": "markdown",
   "metadata": {
    "id": "ykKQ0N65_Zcv"
   },
   "source": [
    "# Temuan <a id='end'></a>"
   ]
  },
  {
   "cell_type": "markdown",
   "metadata": {
    "id": "tjUwbHb3_Zcv"
   },
   "source": [
    "Kita telah menguji tiga hipotesis berikut:\n",
    "\n",
    "1. Aktivitas pengguna berbeda-beda tergantung pada hari dan kotanya.\n",
    "2. Pada senin pagi, penduduk Springfield dan Shelbyville mendengarkan genre yang berbeda. Hal ini juga ini juga berlaku untuk Jumat malam.\n",
    "3. Pendengar di Springfield dan Shelbyville memiliki preferensi yang berbeda. Baik Springfield maupun di Shelbyville, mereka lebih suka musik pop.\n",
    "\n",
    "Setelah menganalisis data, kita dapat menyimpulkan:\n",
    "\n",
    "1. Aktivitas pengguna di Springfield dan Shelbyville bergantung pada harinya, walaupun kotanya berbeda.\n",
    "\n",
    "Hipotesis pertama dapat diterima sepenuhnya.\n",
    "\n",
    "2. Preferensi musik tidak terlalu berbeda selama seminggu di Springfield dan Shelbyville. Kita dapat melihat perbedaan kecil dalam urutan pada hari Senin, tetapi:\n",
    "* Baik di Springfield maupun di Shelbyville, orang paling banyak mendengarkan musik pop.\n",
    "\n",
    "Jadi hipotesis ini tidak dapat kita terima. Kita juga harus ingat bahwa hasilnya bisa berbeda jika bukan karena nilai yang hilang.\n",
    "\n",
    "3. Ternyata preferensi musik pengguna dari Springfield dan Shelbyville sangat mirip.\n",
    "\n",
    "Hipotesis ketiga ditolak. Jika ada perbedaan preferensi, tidak dapat dilihat dari data ini.\n",
    "\n",
    "### Catatan\n",
    "Dalam proyek sesungguhnya, penelitian melibatkan pengujian hipotesis statistik, yang lebih tepat dan lebih kuantitatif. Perhatikan juga bahwa Anda tidak dapat selalu menarik kesimpulan tentang seluruh kota berdasarkan data dari satu sumber saja.\n",
    "\n",
    "Anda akan mempelajari pengujian hipotesis dalam sprint analisis data statistik."
   ]
  },
  {
   "cell_type": "markdown",
   "metadata": {},
   "source": [
    "<div class=\"alert alert-success\">\n",
    "<b>Reviewer's comment v1</b> <a class=\"tocSkip\"></a>\n",
    "    \n",
    "Secara keseluruhan ini adalah hasil yang sangat bagus dengan tambahan visualisasi yang bahkan belum menjadi cakupan di project ini namun terdapat beberapa catatan yang perlu diperbaiki.\n",
    "\n",
    "</div>"
   ]
  },
  {
   "cell_type": "markdown",
   "metadata": {},
   "source": [
    "<div class=\"alert alert-success\">\n",
    "<b>Reviewer's comment v2</b> <a class=\"tocSkip\"></a>\n",
    "    \n",
    "Perubahan yang sangat cepat untuk project ini terima kasih untuk itu, ada beberapa point yang kurang tepat namun sangat minor. Apabila sudah di perbaiki maka project ini langsug saya setujui dan selesai. Kerja yang bagus!\n",
    "\n",
    "</div>"
   ]
  },
  {
   "cell_type": "markdown",
   "metadata": {
    "id": "Ju4AHDSgV1FE"
   },
   "source": [
    "[Kembali ke Daftar Isi](#back)"
   ]
  },
  {
   "cell_type": "code",
   "execution_count": null,
   "metadata": {},
   "outputs": [],
   "source": []
  },
  {
   "cell_type": "code",
   "execution_count": null,
   "metadata": {},
   "outputs": [],
   "source": []
  }
 ],
 "metadata": {
  "ExecuteTimeLog": [
   {
    "duration": 488,
    "start_time": "2022-07-27T17:00:59.010Z"
   },
   {
    "duration": 106,
    "start_time": "2022-07-27T17:00:59.501Z"
   },
   {
    "duration": 0,
    "start_time": "2022-07-27T17:00:59.610Z"
   },
   {
    "duration": 0,
    "start_time": "2022-07-27T17:00:59.611Z"
   },
   {
    "duration": 0,
    "start_time": "2022-07-27T17:00:59.612Z"
   },
   {
    "duration": 0,
    "start_time": "2022-07-27T17:00:59.613Z"
   },
   {
    "duration": 0,
    "start_time": "2022-07-27T17:00:59.614Z"
   },
   {
    "duration": 0,
    "start_time": "2022-07-27T17:00:59.615Z"
   },
   {
    "duration": 0,
    "start_time": "2022-07-27T17:00:59.617Z"
   },
   {
    "duration": 0,
    "start_time": "2022-07-27T17:00:59.621Z"
   },
   {
    "duration": 0,
    "start_time": "2022-07-27T17:00:59.622Z"
   },
   {
    "duration": 0,
    "start_time": "2022-07-27T17:00:59.624Z"
   },
   {
    "duration": 0,
    "start_time": "2022-07-27T17:00:59.625Z"
   },
   {
    "duration": 0,
    "start_time": "2022-07-27T17:00:59.626Z"
   },
   {
    "duration": 0,
    "start_time": "2022-07-27T17:00:59.627Z"
   },
   {
    "duration": 0,
    "start_time": "2022-07-27T17:00:59.628Z"
   },
   {
    "duration": 0,
    "start_time": "2022-07-27T17:00:59.630Z"
   },
   {
    "duration": 0,
    "start_time": "2022-07-27T17:00:59.631Z"
   },
   {
    "duration": 0,
    "start_time": "2022-07-27T17:00:59.632Z"
   },
   {
    "duration": 0,
    "start_time": "2022-07-27T17:00:59.633Z"
   },
   {
    "duration": 0,
    "start_time": "2022-07-27T17:00:59.634Z"
   },
   {
    "duration": 0,
    "start_time": "2022-07-27T17:00:59.635Z"
   },
   {
    "duration": 0,
    "start_time": "2022-07-27T17:00:59.636Z"
   },
   {
    "duration": 0,
    "start_time": "2022-07-27T17:00:59.637Z"
   },
   {
    "duration": 0,
    "start_time": "2022-07-27T17:00:59.640Z"
   },
   {
    "duration": 0,
    "start_time": "2022-07-27T17:00:59.644Z"
   },
   {
    "duration": 0,
    "start_time": "2022-07-27T17:00:59.645Z"
   },
   {
    "duration": 0,
    "start_time": "2022-07-27T17:00:59.646Z"
   },
   {
    "duration": 0,
    "start_time": "2022-07-27T17:00:59.647Z"
   },
   {
    "duration": 0,
    "start_time": "2022-07-27T17:00:59.649Z"
   },
   {
    "duration": 0,
    "start_time": "2022-07-27T17:00:59.650Z"
   },
   {
    "duration": 0,
    "start_time": "2022-07-27T17:00:59.651Z"
   },
   {
    "duration": 0,
    "start_time": "2022-07-27T17:00:59.652Z"
   },
   {
    "duration": 0,
    "start_time": "2022-07-27T17:00:59.653Z"
   },
   {
    "duration": 0,
    "start_time": "2022-07-27T17:00:59.654Z"
   },
   {
    "duration": 0,
    "start_time": "2022-07-27T17:00:59.655Z"
   },
   {
    "duration": 0,
    "start_time": "2022-07-27T17:00:59.710Z"
   },
   {
    "duration": 0,
    "start_time": "2022-07-27T17:00:59.711Z"
   },
   {
    "duration": 471,
    "start_time": "2022-07-27T17:01:46.056Z"
   },
   {
    "duration": 645,
    "start_time": "2022-07-27T17:01:46.530Z"
   },
   {
    "duration": 11,
    "start_time": "2022-07-27T17:01:47.176Z"
   },
   {
    "duration": 22,
    "start_time": "2022-07-27T17:01:47.189Z"
   },
   {
    "duration": 16,
    "start_time": "2022-07-27T17:01:47.213Z"
   },
   {
    "duration": 11,
    "start_time": "2022-07-27T17:01:47.231Z"
   },
   {
    "duration": 16,
    "start_time": "2022-07-27T17:01:47.244Z"
   },
   {
    "duration": 21,
    "start_time": "2022-07-27T17:01:47.262Z"
   },
   {
    "duration": 33,
    "start_time": "2022-07-27T17:01:47.285Z"
   },
   {
    "duration": 17,
    "start_time": "2022-07-27T17:01:47.322Z"
   },
   {
    "duration": 23,
    "start_time": "2022-07-27T17:01:47.342Z"
   },
   {
    "duration": 12,
    "start_time": "2022-07-27T17:01:47.366Z"
   },
   {
    "duration": 14,
    "start_time": "2022-07-27T17:01:47.380Z"
   },
   {
    "duration": 12,
    "start_time": "2022-07-27T17:01:47.397Z"
   },
   {
    "duration": 32,
    "start_time": "2022-07-27T17:01:47.411Z"
   },
   {
    "duration": 24,
    "start_time": "2022-07-27T17:01:47.445Z"
   },
   {
    "duration": 10,
    "start_time": "2022-07-27T17:01:47.471Z"
   },
   {
    "duration": 11,
    "start_time": "2022-07-27T17:01:47.482Z"
   },
   {
    "duration": 9,
    "start_time": "2022-07-27T17:01:47.495Z"
   },
   {
    "duration": 42,
    "start_time": "2022-07-27T17:01:47.505Z"
   },
   {
    "duration": 31,
    "start_time": "2022-07-27T17:01:47.548Z"
   },
   {
    "duration": 20,
    "start_time": "2022-07-27T17:01:47.581Z"
   },
   {
    "duration": 17,
    "start_time": "2022-07-27T17:01:47.603Z"
   },
   {
    "duration": 25,
    "start_time": "2022-07-27T17:01:47.622Z"
   },
   {
    "duration": 11,
    "start_time": "2022-07-27T17:01:47.649Z"
   },
   {
    "duration": 15,
    "start_time": "2022-07-27T17:01:47.662Z"
   },
   {
    "duration": 19,
    "start_time": "2022-07-27T17:01:47.679Z"
   },
   {
    "duration": 17,
    "start_time": "2022-07-27T17:01:47.702Z"
   },
   {
    "duration": 16,
    "start_time": "2022-07-27T17:01:47.721Z"
   },
   {
    "duration": 93,
    "start_time": "2022-07-27T17:01:47.740Z"
   },
   {
    "duration": 0,
    "start_time": "2022-07-27T17:01:47.837Z"
   },
   {
    "duration": 0,
    "start_time": "2022-07-27T17:01:47.838Z"
   },
   {
    "duration": 0,
    "start_time": "2022-07-27T17:01:47.838Z"
   },
   {
    "duration": 0,
    "start_time": "2022-07-27T17:01:47.839Z"
   },
   {
    "duration": 0,
    "start_time": "2022-07-27T17:01:47.840Z"
   },
   {
    "duration": 0,
    "start_time": "2022-07-27T17:01:47.841Z"
   },
   {
    "duration": 0,
    "start_time": "2022-07-27T17:01:47.842Z"
   },
   {
    "duration": 0,
    "start_time": "2022-07-27T17:01:47.844Z"
   },
   {
    "duration": 30,
    "start_time": "2022-07-27T17:09:56.575Z"
   },
   {
    "duration": 108,
    "start_time": "2022-07-27T17:15:06.001Z"
   },
   {
    "duration": 4,
    "start_time": "2022-07-27T17:15:14.553Z"
   },
   {
    "duration": 159,
    "start_time": "2022-07-27T17:17:16.780Z"
   },
   {
    "duration": 183,
    "start_time": "2022-07-27T17:17:20.401Z"
   },
   {
    "duration": 5,
    "start_time": "2022-07-27T17:17:28.007Z"
   },
   {
    "duration": 34,
    "start_time": "2022-07-27T17:17:36.275Z"
   },
   {
    "duration": 4,
    "start_time": "2022-07-27T17:17:38.074Z"
   },
   {
    "duration": 43,
    "start_time": "2022-07-27T17:18:14.914Z"
   },
   {
    "duration": 45,
    "start_time": "2022-07-27T17:18:53.515Z"
   },
   {
    "duration": 7,
    "start_time": "2022-07-27T17:19:04.091Z"
   },
   {
    "duration": 42,
    "start_time": "2022-07-27T17:19:11.428Z"
   },
   {
    "duration": 38,
    "start_time": "2022-07-27T17:19:19.841Z"
   },
   {
    "duration": 48,
    "start_time": "2022-07-27T17:19:27.106Z"
   },
   {
    "duration": 10,
    "start_time": "2022-07-27T17:21:42.428Z"
   },
   {
    "duration": 12,
    "start_time": "2022-07-27T17:21:46.900Z"
   },
   {
    "duration": 8,
    "start_time": "2022-07-27T17:22:56.545Z"
   },
   {
    "duration": 269,
    "start_time": "2022-07-27T17:23:02.492Z"
   },
   {
    "duration": 4,
    "start_time": "2022-07-27T17:23:05.524Z"
   },
   {
    "duration": 292,
    "start_time": "2022-07-27T17:23:13.508Z"
   },
   {
    "duration": 5,
    "start_time": "2022-07-27T17:23:15.636Z"
   },
   {
    "duration": 430,
    "start_time": "2022-07-27T17:23:22.274Z"
   },
   {
    "duration": 330,
    "start_time": "2022-07-27T17:23:22.710Z"
   },
   {
    "duration": 11,
    "start_time": "2022-07-27T17:23:23.043Z"
   },
   {
    "duration": 32,
    "start_time": "2022-07-27T17:23:23.057Z"
   },
   {
    "duration": 23,
    "start_time": "2022-07-27T17:23:23.091Z"
   },
   {
    "duration": 286,
    "start_time": "2022-07-27T17:23:23.116Z"
   },
   {
    "duration": 8,
    "start_time": "2022-07-27T17:23:23.404Z"
   },
   {
    "duration": 5,
    "start_time": "2022-07-27T17:23:23.414Z"
   },
   {
    "duration": 12,
    "start_time": "2022-07-27T17:23:23.421Z"
   },
   {
    "duration": 8,
    "start_time": "2022-07-27T17:23:23.438Z"
   },
   {
    "duration": 5,
    "start_time": "2022-07-27T17:23:23.447Z"
   },
   {
    "duration": 5,
    "start_time": "2022-07-27T17:23:23.455Z"
   },
   {
    "duration": 7,
    "start_time": "2022-07-27T17:23:23.461Z"
   },
   {
    "duration": 6,
    "start_time": "2022-07-27T17:23:23.469Z"
   },
   {
    "duration": 6,
    "start_time": "2022-07-27T17:23:23.476Z"
   },
   {
    "duration": 4,
    "start_time": "2022-07-27T17:23:23.484Z"
   },
   {
    "duration": 20,
    "start_time": "2022-07-27T17:23:23.490Z"
   },
   {
    "duration": 3,
    "start_time": "2022-07-27T17:23:23.513Z"
   },
   {
    "duration": 6,
    "start_time": "2022-07-27T17:23:23.519Z"
   },
   {
    "duration": 7,
    "start_time": "2022-07-27T17:23:23.527Z"
   },
   {
    "duration": 11,
    "start_time": "2022-07-27T17:23:23.535Z"
   },
   {
    "duration": 6,
    "start_time": "2022-07-27T17:23:23.548Z"
   },
   {
    "duration": 5,
    "start_time": "2022-07-27T17:23:23.556Z"
   },
   {
    "duration": 7,
    "start_time": "2022-07-27T17:23:23.562Z"
   },
   {
    "duration": 9,
    "start_time": "2022-07-27T17:23:23.571Z"
   },
   {
    "duration": 7,
    "start_time": "2022-07-27T17:23:23.582Z"
   },
   {
    "duration": 7,
    "start_time": "2022-07-27T17:23:23.591Z"
   },
   {
    "duration": 3,
    "start_time": "2022-07-27T17:23:23.610Z"
   },
   {
    "duration": 5,
    "start_time": "2022-07-27T17:23:23.615Z"
   },
   {
    "duration": 84,
    "start_time": "2022-07-27T17:23:23.622Z"
   },
   {
    "duration": 0,
    "start_time": "2022-07-27T17:23:23.708Z"
   },
   {
    "duration": 0,
    "start_time": "2022-07-27T17:23:23.709Z"
   },
   {
    "duration": 0,
    "start_time": "2022-07-27T17:23:23.711Z"
   },
   {
    "duration": 0,
    "start_time": "2022-07-27T17:23:23.712Z"
   },
   {
    "duration": 0,
    "start_time": "2022-07-27T17:23:23.713Z"
   },
   {
    "duration": 0,
    "start_time": "2022-07-27T17:23:23.715Z"
   },
   {
    "duration": 0,
    "start_time": "2022-07-27T17:23:23.716Z"
   },
   {
    "duration": 0,
    "start_time": "2022-07-27T17:23:23.717Z"
   },
   {
    "duration": 42,
    "start_time": "2022-07-27T17:24:08.026Z"
   },
   {
    "duration": 4,
    "start_time": "2022-07-27T17:24:09.556Z"
   },
   {
    "duration": 59,
    "start_time": "2022-07-27T17:29:56.002Z"
   },
   {
    "duration": 35,
    "start_time": "2022-07-27T17:30:07.740Z"
   },
   {
    "duration": 26,
    "start_time": "2022-07-27T17:30:25.752Z"
   },
   {
    "duration": 30,
    "start_time": "2022-07-27T17:30:47.293Z"
   },
   {
    "duration": 33,
    "start_time": "2022-07-27T17:30:56.423Z"
   },
   {
    "duration": 26,
    "start_time": "2022-07-27T17:31:18.661Z"
   },
   {
    "duration": 133,
    "start_time": "2022-07-27T17:31:34.139Z"
   },
   {
    "duration": 47,
    "start_time": "2022-07-27T17:31:39.661Z"
   },
   {
    "duration": 53,
    "start_time": "2022-07-27T17:31:42.337Z"
   },
   {
    "duration": 51,
    "start_time": "2022-07-27T17:31:46.936Z"
   },
   {
    "duration": 27,
    "start_time": "2022-07-27T17:31:57.953Z"
   },
   {
    "duration": 27,
    "start_time": "2022-07-27T17:32:02.360Z"
   },
   {
    "duration": 50,
    "start_time": "2022-07-27T17:33:03.938Z"
   },
   {
    "duration": 16,
    "start_time": "2022-07-27T17:35:47.674Z"
   },
   {
    "duration": 18,
    "start_time": "2022-07-27T17:35:50.092Z"
   },
   {
    "duration": 29,
    "start_time": "2022-07-27T17:36:02.139Z"
   },
   {
    "duration": 1082,
    "start_time": "2022-07-27T17:36:20.510Z"
   },
   {
    "duration": 1134,
    "start_time": "2022-07-27T17:36:33.462Z"
   },
   {
    "duration": 9,
    "start_time": "2022-07-27T17:36:35.179Z"
   },
   {
    "duration": 1144,
    "start_time": "2022-07-27T17:36:38.229Z"
   },
   {
    "duration": 8,
    "start_time": "2022-07-27T17:36:41.015Z"
   },
   {
    "duration": 434,
    "start_time": "2022-07-27T17:36:46.936Z"
   },
   {
    "duration": 334,
    "start_time": "2022-07-27T17:36:47.372Z"
   },
   {
    "duration": 14,
    "start_time": "2022-07-27T17:36:47.707Z"
   },
   {
    "duration": 48,
    "start_time": "2022-07-27T17:36:47.723Z"
   },
   {
    "duration": 21,
    "start_time": "2022-07-27T17:36:47.773Z"
   },
   {
    "duration": 66,
    "start_time": "2022-07-27T17:36:47.796Z"
   },
   {
    "duration": 5,
    "start_time": "2022-07-27T17:36:47.865Z"
   },
   {
    "duration": 72,
    "start_time": "2022-07-27T17:36:47.871Z"
   },
   {
    "duration": 16,
    "start_time": "2022-07-27T17:36:47.945Z"
   },
   {
    "duration": 31,
    "start_time": "2022-07-27T17:36:47.963Z"
   },
   {
    "duration": 3,
    "start_time": "2022-07-27T17:36:48.010Z"
   },
   {
    "duration": 7,
    "start_time": "2022-07-27T17:36:48.015Z"
   },
   {
    "duration": 7,
    "start_time": "2022-07-27T17:36:48.024Z"
   },
   {
    "duration": 13,
    "start_time": "2022-07-27T17:36:48.033Z"
   },
   {
    "duration": 6,
    "start_time": "2022-07-27T17:36:48.048Z"
   },
   {
    "duration": 6,
    "start_time": "2022-07-27T17:36:48.055Z"
   },
   {
    "duration": 7,
    "start_time": "2022-07-27T17:36:48.063Z"
   },
   {
    "duration": 8,
    "start_time": "2022-07-27T17:36:48.071Z"
   },
   {
    "duration": 8,
    "start_time": "2022-07-27T17:36:48.081Z"
   },
   {
    "duration": 7,
    "start_time": "2022-07-27T17:36:48.091Z"
   },
   {
    "duration": 14,
    "start_time": "2022-07-27T17:36:48.099Z"
   },
   {
    "duration": 6,
    "start_time": "2022-07-27T17:36:48.115Z"
   },
   {
    "duration": 9,
    "start_time": "2022-07-27T17:36:48.123Z"
   },
   {
    "duration": 14,
    "start_time": "2022-07-27T17:36:48.134Z"
   },
   {
    "duration": 7,
    "start_time": "2022-07-27T17:36:48.150Z"
   },
   {
    "duration": 16,
    "start_time": "2022-07-27T17:36:48.159Z"
   },
   {
    "duration": 9,
    "start_time": "2022-07-27T17:36:48.176Z"
   },
   {
    "duration": 4,
    "start_time": "2022-07-27T17:36:48.189Z"
   },
   {
    "duration": 5,
    "start_time": "2022-07-27T17:36:48.195Z"
   },
   {
    "duration": 114,
    "start_time": "2022-07-27T17:36:48.202Z"
   },
   {
    "duration": 0,
    "start_time": "2022-07-27T17:36:48.318Z"
   },
   {
    "duration": 0,
    "start_time": "2022-07-27T17:36:48.320Z"
   },
   {
    "duration": 0,
    "start_time": "2022-07-27T17:36:48.322Z"
   },
   {
    "duration": 0,
    "start_time": "2022-07-27T17:36:48.323Z"
   },
   {
    "duration": 0,
    "start_time": "2022-07-27T17:36:48.324Z"
   },
   {
    "duration": 0,
    "start_time": "2022-07-27T17:36:48.325Z"
   },
   {
    "duration": 0,
    "start_time": "2022-07-27T17:36:48.327Z"
   },
   {
    "duration": 0,
    "start_time": "2022-07-27T17:36:48.329Z"
   },
   {
    "duration": 18,
    "start_time": "2022-07-27T17:36:57.508Z"
   },
   {
    "duration": 28,
    "start_time": "2022-07-27T17:37:01.257Z"
   },
   {
    "duration": 75,
    "start_time": "2022-07-27T17:37:12.231Z"
   },
   {
    "duration": 16,
    "start_time": "2022-07-27T17:37:18.095Z"
   },
   {
    "duration": 27,
    "start_time": "2022-07-27T17:37:20.160Z"
   },
   {
    "duration": 27,
    "start_time": "2022-07-27T17:39:19.281Z"
   },
   {
    "duration": 27,
    "start_time": "2022-07-27T17:39:20.936Z"
   },
   {
    "duration": 33,
    "start_time": "2022-07-27T17:39:46.709Z"
   },
   {
    "duration": 37,
    "start_time": "2022-07-27T17:39:48.509Z"
   },
   {
    "duration": 30,
    "start_time": "2022-07-27T17:39:55.721Z"
   },
   {
    "duration": 36,
    "start_time": "2022-07-27T17:40:10.121Z"
   },
   {
    "duration": 429,
    "start_time": "2022-07-27T17:41:09.438Z"
   },
   {
    "duration": 363,
    "start_time": "2022-07-27T17:41:09.869Z"
   },
   {
    "duration": 15,
    "start_time": "2022-07-27T17:41:10.234Z"
   },
   {
    "duration": 57,
    "start_time": "2022-07-27T17:41:10.252Z"
   },
   {
    "duration": 30,
    "start_time": "2022-07-27T17:41:10.311Z"
   },
   {
    "duration": 65,
    "start_time": "2022-07-27T17:41:10.344Z"
   },
   {
    "duration": 11,
    "start_time": "2022-07-27T17:41:10.411Z"
   },
   {
    "duration": 86,
    "start_time": "2022-07-27T17:41:10.424Z"
   },
   {
    "duration": 45,
    "start_time": "2022-07-27T17:41:10.514Z"
   },
   {
    "duration": 57,
    "start_time": "2022-07-27T17:41:10.562Z"
   },
   {
    "duration": 4,
    "start_time": "2022-07-27T17:41:10.624Z"
   },
   {
    "duration": 8,
    "start_time": "2022-07-27T17:41:10.630Z"
   },
   {
    "duration": 8,
    "start_time": "2022-07-27T17:41:10.641Z"
   },
   {
    "duration": 5,
    "start_time": "2022-07-27T17:41:10.651Z"
   },
   {
    "duration": 8,
    "start_time": "2022-07-27T17:41:10.659Z"
   },
   {
    "duration": 7,
    "start_time": "2022-07-27T17:41:10.669Z"
   },
   {
    "duration": 8,
    "start_time": "2022-07-27T17:41:10.677Z"
   },
   {
    "duration": 24,
    "start_time": "2022-07-27T17:41:10.686Z"
   },
   {
    "duration": 6,
    "start_time": "2022-07-27T17:41:10.713Z"
   },
   {
    "duration": 14,
    "start_time": "2022-07-27T17:41:10.722Z"
   },
   {
    "duration": 8,
    "start_time": "2022-07-27T17:41:10.739Z"
   },
   {
    "duration": 21,
    "start_time": "2022-07-27T17:41:10.749Z"
   },
   {
    "duration": 6,
    "start_time": "2022-07-27T17:41:10.772Z"
   },
   {
    "duration": 6,
    "start_time": "2022-07-27T17:41:10.779Z"
   },
   {
    "duration": 6,
    "start_time": "2022-07-27T17:41:10.787Z"
   },
   {
    "duration": 6,
    "start_time": "2022-07-27T17:41:10.795Z"
   },
   {
    "duration": 7,
    "start_time": "2022-07-27T17:41:10.803Z"
   },
   {
    "duration": 32,
    "start_time": "2022-07-27T17:41:10.815Z"
   },
   {
    "duration": 10,
    "start_time": "2022-07-27T17:41:10.849Z"
   },
   {
    "duration": 73,
    "start_time": "2022-07-27T17:41:10.861Z"
   },
   {
    "duration": 0,
    "start_time": "2022-07-27T17:41:10.936Z"
   },
   {
    "duration": 0,
    "start_time": "2022-07-27T17:41:10.938Z"
   },
   {
    "duration": 0,
    "start_time": "2022-07-27T17:41:10.939Z"
   },
   {
    "duration": 0,
    "start_time": "2022-07-27T17:41:10.940Z"
   },
   {
    "duration": 0,
    "start_time": "2022-07-27T17:41:10.941Z"
   },
   {
    "duration": 0,
    "start_time": "2022-07-27T17:41:10.942Z"
   },
   {
    "duration": 0,
    "start_time": "2022-07-27T17:41:10.943Z"
   },
   {
    "duration": 0,
    "start_time": "2022-07-27T17:41:10.947Z"
   },
   {
    "duration": 42,
    "start_time": "2022-07-27T17:41:38.811Z"
   },
   {
    "duration": 36,
    "start_time": "2022-07-27T17:41:40.611Z"
   },
   {
    "duration": 3,
    "start_time": "2022-07-27T17:41:57.876Z"
   },
   {
    "duration": 86,
    "start_time": "2022-07-27T17:42:07.834Z"
   },
   {
    "duration": 68,
    "start_time": "2022-07-27T17:42:56.329Z"
   },
   {
    "duration": 67,
    "start_time": "2022-07-27T17:42:59.418Z"
   },
   {
    "duration": 72,
    "start_time": "2022-07-27T17:43:07.521Z"
   },
   {
    "duration": 81,
    "start_time": "2022-07-27T17:43:48.575Z"
   },
   {
    "duration": 64,
    "start_time": "2022-07-27T17:43:59.128Z"
   },
   {
    "duration": 73,
    "start_time": "2022-07-27T17:44:15.658Z"
   },
   {
    "duration": 77,
    "start_time": "2022-07-27T17:44:17.215Z"
   },
   {
    "duration": 8,
    "start_time": "2022-07-27T17:44:42.138Z"
   },
   {
    "duration": 10,
    "start_time": "2022-07-27T17:46:45.819Z"
   },
   {
    "duration": 11,
    "start_time": "2022-07-27T17:46:52.233Z"
   },
   {
    "duration": 8,
    "start_time": "2022-07-27T17:47:14.321Z"
   },
   {
    "duration": 9,
    "start_time": "2022-07-27T17:47:16.822Z"
   },
   {
    "duration": 9,
    "start_time": "2022-07-27T17:47:20.777Z"
   },
   {
    "duration": 18,
    "start_time": "2022-07-27T17:47:31.925Z"
   },
   {
    "duration": 12,
    "start_time": "2022-07-27T17:47:44.499Z"
   },
   {
    "duration": 12,
    "start_time": "2022-07-27T17:49:20.518Z"
   },
   {
    "duration": 17,
    "start_time": "2022-07-27T17:51:11.246Z"
   },
   {
    "duration": 21,
    "start_time": "2022-07-27T17:51:34.544Z"
   },
   {
    "duration": 6,
    "start_time": "2022-07-27T17:52:49.086Z"
   },
   {
    "duration": 9,
    "start_time": "2022-07-27T17:52:54.940Z"
   },
   {
    "duration": 11,
    "start_time": "2022-07-27T17:53:14.236Z"
   },
   {
    "duration": 11,
    "start_time": "2022-07-27T17:53:17.503Z"
   },
   {
    "duration": 10,
    "start_time": "2022-07-27T17:53:22.879Z"
   },
   {
    "duration": 8,
    "start_time": "2022-07-27T17:57:26.237Z"
   },
   {
    "duration": 3,
    "start_time": "2022-07-27T17:57:29.978Z"
   },
   {
    "duration": 1225,
    "start_time": "2022-07-27T17:57:31.027Z"
   },
   {
    "duration": 4,
    "start_time": "2022-07-27T17:57:41.204Z"
   },
   {
    "duration": 4,
    "start_time": "2022-07-27T17:57:44.127Z"
   },
   {
    "duration": 11,
    "start_time": "2022-07-27T17:57:46.694Z"
   },
   {
    "duration": 4,
    "start_time": "2022-07-27T17:58:17.138Z"
   },
   {
    "duration": 9,
    "start_time": "2022-07-27T17:58:19.504Z"
   },
   {
    "duration": 11,
    "start_time": "2022-07-27T17:58:37.358Z"
   },
   {
    "duration": 11,
    "start_time": "2022-07-27T17:59:24.749Z"
   },
   {
    "duration": 10,
    "start_time": "2022-07-27T17:59:38.480Z"
   },
   {
    "duration": 80,
    "start_time": "2022-07-27T18:01:40.220Z"
   },
   {
    "duration": 9,
    "start_time": "2022-07-27T18:01:42.259Z"
   },
   {
    "duration": 67,
    "start_time": "2022-07-27T18:02:02.334Z"
   },
   {
    "duration": 11,
    "start_time": "2022-07-27T18:02:13.103Z"
   },
   {
    "duration": 63,
    "start_time": "2022-07-27T18:02:14.245Z"
   },
   {
    "duration": 429,
    "start_time": "2022-07-27T18:02:19.868Z"
   },
   {
    "duration": 344,
    "start_time": "2022-07-27T18:02:20.299Z"
   },
   {
    "duration": 12,
    "start_time": "2022-07-27T18:02:20.645Z"
   },
   {
    "duration": 50,
    "start_time": "2022-07-27T18:02:20.659Z"
   },
   {
    "duration": 4,
    "start_time": "2022-07-27T18:02:20.713Z"
   },
   {
    "duration": 62,
    "start_time": "2022-07-27T18:02:20.721Z"
   },
   {
    "duration": 4,
    "start_time": "2022-07-27T18:02:20.784Z"
   },
   {
    "duration": 71,
    "start_time": "2022-07-27T18:02:20.790Z"
   },
   {
    "duration": 30,
    "start_time": "2022-07-27T18:02:20.863Z"
   },
   {
    "duration": 43,
    "start_time": "2022-07-27T18:02:20.895Z"
   },
   {
    "duration": 85,
    "start_time": "2022-07-27T18:02:20.940Z"
   },
   {
    "duration": 87,
    "start_time": "2022-07-27T18:02:21.027Z"
   },
   {
    "duration": 75,
    "start_time": "2022-07-27T18:02:21.116Z"
   },
   {
    "duration": 20,
    "start_time": "2022-07-27T18:02:21.195Z"
   },
   {
    "duration": 10,
    "start_time": "2022-07-27T18:02:21.217Z"
   },
   {
    "duration": 18,
    "start_time": "2022-07-27T18:02:21.229Z"
   },
   {
    "duration": 79,
    "start_time": "2022-07-27T18:02:21.248Z"
   },
   {
    "duration": 3,
    "start_time": "2022-07-27T18:02:21.330Z"
   },
   {
    "duration": 19,
    "start_time": "2022-07-27T18:02:21.334Z"
   },
   {
    "duration": 20,
    "start_time": "2022-07-27T18:02:21.356Z"
   },
   {
    "duration": 36,
    "start_time": "2022-07-27T18:02:21.378Z"
   },
   {
    "duration": 7,
    "start_time": "2022-07-27T18:02:21.417Z"
   },
   {
    "duration": 15,
    "start_time": "2022-07-27T18:02:21.426Z"
   },
   {
    "duration": 12,
    "start_time": "2022-07-27T18:02:21.443Z"
   },
   {
    "duration": 24,
    "start_time": "2022-07-27T18:02:21.457Z"
   },
   {
    "duration": 26,
    "start_time": "2022-07-27T18:02:21.483Z"
   },
   {
    "duration": 17,
    "start_time": "2022-07-27T18:02:21.511Z"
   },
   {
    "duration": 22,
    "start_time": "2022-07-27T18:02:21.530Z"
   },
   {
    "duration": 21,
    "start_time": "2022-07-27T18:02:21.554Z"
   },
   {
    "duration": 80,
    "start_time": "2022-07-27T18:02:21.577Z"
   },
   {
    "duration": 0,
    "start_time": "2022-07-27T18:02:21.658Z"
   },
   {
    "duration": 0,
    "start_time": "2022-07-27T18:02:21.660Z"
   },
   {
    "duration": 0,
    "start_time": "2022-07-27T18:02:21.661Z"
   },
   {
    "duration": 0,
    "start_time": "2022-07-27T18:02:21.662Z"
   },
   {
    "duration": 0,
    "start_time": "2022-07-27T18:02:21.663Z"
   },
   {
    "duration": 0,
    "start_time": "2022-07-27T18:02:21.665Z"
   },
   {
    "duration": 0,
    "start_time": "2022-07-27T18:02:21.666Z"
   },
   {
    "duration": 0,
    "start_time": "2022-07-27T18:02:21.667Z"
   },
   {
    "duration": 56,
    "start_time": "2022-07-27T18:02:49.894Z"
   },
   {
    "duration": 431,
    "start_time": "2022-07-27T18:03:02.059Z"
   },
   {
    "duration": 357,
    "start_time": "2022-07-27T18:03:02.491Z"
   },
   {
    "duration": 11,
    "start_time": "2022-07-27T18:03:02.849Z"
   },
   {
    "duration": 32,
    "start_time": "2022-07-27T18:03:02.862Z"
   },
   {
    "duration": 8,
    "start_time": "2022-07-27T18:03:02.910Z"
   },
   {
    "duration": 59,
    "start_time": "2022-07-27T18:03:02.920Z"
   },
   {
    "duration": 4,
    "start_time": "2022-07-27T18:03:02.981Z"
   },
   {
    "duration": 73,
    "start_time": "2022-07-27T18:03:02.986Z"
   },
   {
    "duration": 29,
    "start_time": "2022-07-27T18:03:03.060Z"
   },
   {
    "duration": 43,
    "start_time": "2022-07-27T18:03:03.091Z"
   },
   {
    "duration": 80,
    "start_time": "2022-07-27T18:03:03.136Z"
   },
   {
    "duration": 78,
    "start_time": "2022-07-27T18:03:03.218Z"
   },
   {
    "duration": 74,
    "start_time": "2022-07-27T18:03:03.298Z"
   },
   {
    "duration": 10,
    "start_time": "2022-07-27T18:03:03.375Z"
   },
   {
    "duration": 2,
    "start_time": "2022-07-27T18:03:03.387Z"
   },
   {
    "duration": 13,
    "start_time": "2022-07-27T18:03:03.412Z"
   },
   {
    "duration": 80,
    "start_time": "2022-07-27T18:03:03.430Z"
   },
   {
    "duration": 4,
    "start_time": "2022-07-27T18:03:03.512Z"
   },
   {
    "duration": 17,
    "start_time": "2022-07-27T18:03:03.518Z"
   },
   {
    "duration": 14,
    "start_time": "2022-07-27T18:03:03.537Z"
   },
   {
    "duration": 18,
    "start_time": "2022-07-27T18:03:03.553Z"
   },
   {
    "duration": 11,
    "start_time": "2022-07-27T18:03:03.573Z"
   },
   {
    "duration": 9,
    "start_time": "2022-07-27T18:03:03.585Z"
   },
   {
    "duration": 6,
    "start_time": "2022-07-27T18:03:03.597Z"
   },
   {
    "duration": 19,
    "start_time": "2022-07-27T18:03:03.605Z"
   },
   {
    "duration": 22,
    "start_time": "2022-07-27T18:03:03.626Z"
   },
   {
    "duration": 6,
    "start_time": "2022-07-27T18:03:03.650Z"
   },
   {
    "duration": 6,
    "start_time": "2022-07-27T18:03:03.658Z"
   },
   {
    "duration": 5,
    "start_time": "2022-07-27T18:03:03.666Z"
   },
   {
    "duration": 128,
    "start_time": "2022-07-27T18:03:03.673Z"
   },
   {
    "duration": 0,
    "start_time": "2022-07-27T18:03:03.804Z"
   },
   {
    "duration": 0,
    "start_time": "2022-07-27T18:03:03.805Z"
   },
   {
    "duration": 0,
    "start_time": "2022-07-27T18:03:03.807Z"
   },
   {
    "duration": 0,
    "start_time": "2022-07-27T18:03:03.808Z"
   },
   {
    "duration": 0,
    "start_time": "2022-07-27T18:03:03.809Z"
   },
   {
    "duration": 0,
    "start_time": "2022-07-27T18:03:03.810Z"
   },
   {
    "duration": 0,
    "start_time": "2022-07-27T18:03:03.812Z"
   },
   {
    "duration": 1,
    "start_time": "2022-07-27T18:03:03.813Z"
   },
   {
    "duration": 10,
    "start_time": "2022-07-27T18:03:17.383Z"
   },
   {
    "duration": 7,
    "start_time": "2022-07-27T18:06:57.035Z"
   },
   {
    "duration": 4,
    "start_time": "2022-07-27T18:07:03.228Z"
   },
   {
    "duration": 4,
    "start_time": "2022-07-27T18:07:06.171Z"
   },
   {
    "duration": 3,
    "start_time": "2022-07-27T18:07:20.920Z"
   },
   {
    "duration": 4,
    "start_time": "2022-07-27T18:07:25.034Z"
   },
   {
    "duration": 36,
    "start_time": "2022-07-27T18:07:47.688Z"
   },
   {
    "duration": 42,
    "start_time": "2022-07-27T18:08:35.424Z"
   },
   {
    "duration": 6,
    "start_time": "2022-07-27T18:14:26.863Z"
   },
   {
    "duration": 91,
    "start_time": "2022-07-27T18:14:58.773Z"
   },
   {
    "duration": 19,
    "start_time": "2022-07-27T18:15:12.156Z"
   },
   {
    "duration": 5,
    "start_time": "2022-07-27T18:15:45.325Z"
   },
   {
    "duration": 10,
    "start_time": "2022-07-27T18:15:47.246Z"
   },
   {
    "duration": 5,
    "start_time": "2022-07-27T18:17:04.953Z"
   },
   {
    "duration": 11,
    "start_time": "2022-07-27T18:17:06.738Z"
   },
   {
    "duration": 4,
    "start_time": "2022-07-27T18:17:18.022Z"
   },
   {
    "duration": 10,
    "start_time": "2022-07-27T18:17:19.453Z"
   },
   {
    "duration": 4,
    "start_time": "2022-07-27T18:18:33.550Z"
   },
   {
    "duration": 10,
    "start_time": "2022-07-27T18:18:35.578Z"
   },
   {
    "duration": 5,
    "start_time": "2022-07-27T18:19:01.706Z"
   },
   {
    "duration": 440,
    "start_time": "2022-07-27T18:19:03.362Z"
   },
   {
    "duration": 4,
    "start_time": "2022-07-27T18:20:01.074Z"
   },
   {
    "duration": 436,
    "start_time": "2022-07-27T18:20:02.262Z"
   },
   {
    "duration": 412,
    "start_time": "2022-07-27T18:20:32.586Z"
   },
   {
    "duration": 6,
    "start_time": "2022-07-27T18:20:40.316Z"
   },
   {
    "duration": 437,
    "start_time": "2022-07-27T18:20:42.485Z"
   },
   {
    "duration": 4,
    "start_time": "2022-07-27T18:20:53.119Z"
   },
   {
    "duration": 437,
    "start_time": "2022-07-27T18:20:54.722Z"
   },
   {
    "duration": 419,
    "start_time": "2022-07-27T18:21:21.441Z"
   },
   {
    "duration": 5,
    "start_time": "2022-07-27T18:21:48.591Z"
   },
   {
    "duration": 55951,
    "start_time": "2022-07-27T18:21:50.124Z"
   },
   {
    "duration": 75,
    "start_time": "2022-07-27T18:28:51.666Z"
   },
   {
    "duration": 70,
    "start_time": "2022-07-27T18:28:57.133Z"
   },
   {
    "duration": 72,
    "start_time": "2022-07-27T18:29:14.535Z"
   },
   {
    "duration": 7,
    "start_time": "2022-07-27T18:29:20.415Z"
   },
   {
    "duration": 25,
    "start_time": "2022-07-27T18:29:39.420Z"
   },
   {
    "duration": 1236,
    "start_time": "2022-07-27T18:30:49.306Z"
   },
   {
    "duration": 25,
    "start_time": "2022-07-27T18:31:07.774Z"
   },
   {
    "duration": 26,
    "start_time": "2022-07-27T18:32:11.468Z"
   },
   {
    "duration": 23,
    "start_time": "2022-07-27T18:33:50.877Z"
   },
   {
    "duration": 25,
    "start_time": "2022-07-27T18:34:04.055Z"
   },
   {
    "duration": 5,
    "start_time": "2022-07-27T18:34:29.925Z"
   },
   {
    "duration": 64,
    "start_time": "2022-07-27T18:34:35.326Z"
   },
   {
    "duration": 4,
    "start_time": "2022-07-27T18:34:50.603Z"
   },
   {
    "duration": 5,
    "start_time": "2022-07-27T18:35:00.839Z"
   },
   {
    "duration": 140,
    "start_time": "2022-07-27T18:35:13.085Z"
   },
   {
    "duration": 65,
    "start_time": "2022-07-27T18:35:15.834Z"
   },
   {
    "duration": 28,
    "start_time": "2022-07-27T18:35:36.150Z"
   },
   {
    "duration": 26,
    "start_time": "2022-07-27T18:35:42.083Z"
   },
   {
    "duration": 22,
    "start_time": "2022-07-27T18:35:56.656Z"
   },
   {
    "duration": 27,
    "start_time": "2022-07-27T18:36:00.422Z"
   },
   {
    "duration": 18,
    "start_time": "2022-07-27T18:36:14.675Z"
   },
   {
    "duration": 17,
    "start_time": "2022-07-27T18:36:56.983Z"
   },
   {
    "duration": 24,
    "start_time": "2022-07-27T18:36:59.043Z"
   },
   {
    "duration": 20,
    "start_time": "2022-07-27T18:37:00.331Z"
   },
   {
    "duration": 33,
    "start_time": "2022-07-27T18:37:02.129Z"
   },
   {
    "duration": 84,
    "start_time": "2022-07-27T18:41:08.625Z"
   },
   {
    "duration": 95,
    "start_time": "2022-07-27T18:41:46.369Z"
   },
   {
    "duration": 67,
    "start_time": "2022-07-27T18:41:59.262Z"
   },
   {
    "duration": 87,
    "start_time": "2022-07-27T18:42:12.737Z"
   },
   {
    "duration": 91,
    "start_time": "2022-07-27T18:43:25.145Z"
   },
   {
    "duration": 90,
    "start_time": "2022-07-27T18:43:28.132Z"
   },
   {
    "duration": 114,
    "start_time": "2022-07-27T18:44:31.655Z"
   },
   {
    "duration": 110,
    "start_time": "2022-07-27T18:44:57.369Z"
   },
   {
    "duration": 116,
    "start_time": "2022-07-27T18:45:04.608Z"
   },
   {
    "duration": 108,
    "start_time": "2022-07-27T18:45:09.119Z"
   },
   {
    "duration": 102,
    "start_time": "2022-07-27T18:45:25.793Z"
   },
   {
    "duration": 113,
    "start_time": "2022-07-27T18:46:01.048Z"
   },
   {
    "duration": 108,
    "start_time": "2022-07-27T18:46:07.138Z"
   },
   {
    "duration": 108,
    "start_time": "2022-07-27T18:46:11.075Z"
   },
   {
    "duration": 111,
    "start_time": "2022-07-27T18:47:19.596Z"
   },
   {
    "duration": 116,
    "start_time": "2022-07-27T18:47:27.267Z"
   },
   {
    "duration": 113,
    "start_time": "2022-07-27T18:47:37.594Z"
   },
   {
    "duration": 117,
    "start_time": "2022-07-27T18:49:20.957Z"
   },
   {
    "duration": 123,
    "start_time": "2022-07-27T18:49:24.906Z"
   },
   {
    "duration": 115,
    "start_time": "2022-07-27T18:49:30.999Z"
   },
   {
    "duration": 117,
    "start_time": "2022-07-27T18:49:48.126Z"
   },
   {
    "duration": 105,
    "start_time": "2022-07-27T18:49:53.155Z"
   },
   {
    "duration": 120,
    "start_time": "2022-07-27T18:50:21.951Z"
   },
   {
    "duration": 91,
    "start_time": "2022-07-27T18:50:25.757Z"
   },
   {
    "duration": 89,
    "start_time": "2022-07-27T18:50:53.856Z"
   },
   {
    "duration": 91,
    "start_time": "2022-07-27T18:51:14.931Z"
   },
   {
    "duration": 101,
    "start_time": "2022-07-27T18:51:26.373Z"
   },
   {
    "duration": 90,
    "start_time": "2022-07-27T18:51:35.466Z"
   },
   {
    "duration": 99,
    "start_time": "2022-07-27T18:51:39.493Z"
   },
   {
    "duration": 9,
    "start_time": "2022-07-27T18:52:18.275Z"
   },
   {
    "duration": 126,
    "start_time": "2022-07-27T18:52:21.874Z"
   },
   {
    "duration": 92,
    "start_time": "2022-07-27T18:52:33.106Z"
   },
   {
    "duration": 84,
    "start_time": "2022-07-27T18:52:41.091Z"
   },
   {
    "duration": 93,
    "start_time": "2022-07-27T18:52:54.297Z"
   },
   {
    "duration": 95,
    "start_time": "2022-07-27T18:53:13.523Z"
   },
   {
    "duration": 92,
    "start_time": "2022-07-27T18:53:22.079Z"
   },
   {
    "duration": 90,
    "start_time": "2022-07-27T18:53:26.073Z"
   },
   {
    "duration": 111,
    "start_time": "2022-07-27T18:53:31.748Z"
   },
   {
    "duration": 96,
    "start_time": "2022-07-27T18:53:41.465Z"
   },
   {
    "duration": 74,
    "start_time": "2022-07-27T18:55:16.600Z"
   },
   {
    "duration": 4,
    "start_time": "2022-07-27T18:55:20.325Z"
   },
   {
    "duration": 22,
    "start_time": "2022-07-27T18:55:46.319Z"
   },
   {
    "duration": 25,
    "start_time": "2022-07-27T18:55:51.194Z"
   },
   {
    "duration": 92,
    "start_time": "2022-07-27T18:58:31.029Z"
   },
   {
    "duration": 90,
    "start_time": "2022-07-27T18:58:50.278Z"
   },
   {
    "duration": 86,
    "start_time": "2022-07-27T18:58:52.825Z"
   },
   {
    "duration": 85,
    "start_time": "2022-07-27T18:59:17.373Z"
   },
   {
    "duration": 85,
    "start_time": "2022-07-27T18:59:25.931Z"
   },
   {
    "duration": 95,
    "start_time": "2022-07-27T18:59:28.173Z"
   },
   {
    "duration": 86,
    "start_time": "2022-07-27T19:00:39.257Z"
   },
   {
    "duration": 85,
    "start_time": "2022-07-27T19:01:17.918Z"
   },
   {
    "duration": 89,
    "start_time": "2022-07-27T19:01:21.568Z"
   },
   {
    "duration": 94,
    "start_time": "2022-07-27T19:01:59.126Z"
   },
   {
    "duration": 60,
    "start_time": "2022-07-27T19:04:18.086Z"
   },
   {
    "duration": 58,
    "start_time": "2022-07-27T19:04:25.930Z"
   },
   {
    "duration": 951,
    "start_time": "2022-07-27T19:04:36.396Z"
   },
   {
    "duration": 908,
    "start_time": "2022-07-27T19:04:56.137Z"
   },
   {
    "duration": 51,
    "start_time": "2022-07-27T19:05:07.513Z"
   },
   {
    "duration": 36,
    "start_time": "2022-07-27T19:05:38.292Z"
   },
   {
    "duration": 4,
    "start_time": "2022-07-27T19:05:45.675Z"
   },
   {
    "duration": 22,
    "start_time": "2022-07-27T19:05:49.695Z"
   },
   {
    "duration": 71,
    "start_time": "2022-07-27T19:06:08.440Z"
   },
   {
    "duration": 11,
    "start_time": "2022-07-27T19:06:24.027Z"
   },
   {
    "duration": 9,
    "start_time": "2022-07-27T19:06:29.097Z"
   },
   {
    "duration": 9,
    "start_time": "2022-07-27T19:06:41.642Z"
   },
   {
    "duration": 50,
    "start_time": "2022-07-27T19:06:47.408Z"
   },
   {
    "duration": 35,
    "start_time": "2022-07-27T19:07:00.357Z"
   },
   {
    "duration": 54,
    "start_time": "2022-07-27T19:07:07.467Z"
   },
   {
    "duration": 53,
    "start_time": "2022-07-27T19:09:17.275Z"
   },
   {
    "duration": 409,
    "start_time": "2022-07-27T19:09:17.647Z"
   },
   {
    "duration": 326,
    "start_time": "2022-07-27T19:09:18.058Z"
   },
   {
    "duration": 12,
    "start_time": "2022-07-27T19:09:18.386Z"
   },
   {
    "duration": 34,
    "start_time": "2022-07-27T19:09:18.409Z"
   },
   {
    "duration": 4,
    "start_time": "2022-07-27T19:09:18.445Z"
   },
   {
    "duration": 78,
    "start_time": "2022-07-27T19:09:18.451Z"
   },
   {
    "duration": 5,
    "start_time": "2022-07-27T19:09:18.531Z"
   },
   {
    "duration": 50,
    "start_time": "2022-07-27T19:09:18.538Z"
   },
   {
    "duration": 45,
    "start_time": "2022-07-27T19:09:18.590Z"
   },
   {
    "duration": 26,
    "start_time": "2022-07-27T19:09:18.638Z"
   },
   {
    "duration": 82,
    "start_time": "2022-07-27T19:09:18.666Z"
   },
   {
    "duration": 75,
    "start_time": "2022-07-27T19:09:18.750Z"
   },
   {
    "duration": 59,
    "start_time": "2022-07-27T19:09:18.827Z"
   },
   {
    "duration": 23,
    "start_time": "2022-07-27T19:09:18.888Z"
   },
   {
    "duration": 3,
    "start_time": "2022-07-27T19:09:18.913Z"
   },
   {
    "duration": 93,
    "start_time": "2022-07-27T19:09:18.917Z"
   },
   {
    "duration": 11,
    "start_time": "2022-07-27T19:09:19.012Z"
   },
   {
    "duration": 36,
    "start_time": "2022-07-27T19:09:19.024Z"
   },
   {
    "duration": 60,
    "start_time": "2022-07-27T19:09:19.061Z"
   },
   {
    "duration": 22,
    "start_time": "2022-07-27T19:09:19.123Z"
   },
   {
    "duration": 22,
    "start_time": "2022-07-27T19:09:19.147Z"
   },
   {
    "duration": 42,
    "start_time": "2022-07-27T19:09:19.170Z"
   },
   {
    "duration": 21,
    "start_time": "2022-07-27T19:09:19.214Z"
   },
   {
    "duration": 17,
    "start_time": "2022-07-27T19:09:19.236Z"
   },
   {
    "duration": 30,
    "start_time": "2022-07-27T19:09:19.255Z"
   },
   {
    "duration": 17,
    "start_time": "2022-07-27T19:09:19.311Z"
   },
   {
    "duration": 44,
    "start_time": "2022-07-27T19:09:19.329Z"
   },
   {
    "duration": 0,
    "start_time": "2022-07-27T19:09:19.375Z"
   },
   {
    "duration": 0,
    "start_time": "2022-07-27T19:09:19.376Z"
   },
   {
    "duration": 0,
    "start_time": "2022-07-27T19:09:19.378Z"
   },
   {
    "duration": 0,
    "start_time": "2022-07-27T19:09:19.379Z"
   },
   {
    "duration": 0,
    "start_time": "2022-07-27T19:09:19.380Z"
   },
   {
    "duration": 0,
    "start_time": "2022-07-27T19:09:19.382Z"
   },
   {
    "duration": 0,
    "start_time": "2022-07-27T19:09:19.382Z"
   },
   {
    "duration": 0,
    "start_time": "2022-07-27T19:09:19.384Z"
   },
   {
    "duration": 0,
    "start_time": "2022-07-27T19:09:19.385Z"
   },
   {
    "duration": 0,
    "start_time": "2022-07-27T19:09:19.386Z"
   },
   {
    "duration": 0,
    "start_time": "2022-07-27T19:09:19.387Z"
   },
   {
    "duration": 71,
    "start_time": "2022-07-27T19:09:31.337Z"
   },
   {
    "duration": 72,
    "start_time": "2022-07-27T19:10:03.460Z"
   },
   {
    "duration": 45,
    "start_time": "2022-07-27T19:10:23.752Z"
   },
   {
    "duration": 72,
    "start_time": "2022-07-27T19:10:28.629Z"
   },
   {
    "duration": 60,
    "start_time": "2022-07-27T19:10:39.177Z"
   },
   {
    "duration": 62,
    "start_time": "2022-07-27T19:12:38.351Z"
   },
   {
    "duration": 63,
    "start_time": "2022-07-27T19:12:49.232Z"
   },
   {
    "duration": 62,
    "start_time": "2022-07-27T19:13:20.150Z"
   },
   {
    "duration": 79,
    "start_time": "2022-07-27T19:13:30.501Z"
   },
   {
    "duration": 64,
    "start_time": "2022-07-27T19:13:37.961Z"
   },
   {
    "duration": 74,
    "start_time": "2022-07-27T19:16:07.044Z"
   },
   {
    "duration": 9,
    "start_time": "2022-07-27T19:16:11.471Z"
   },
   {
    "duration": 25,
    "start_time": "2022-07-27T19:16:17.789Z"
   },
   {
    "duration": 32,
    "start_time": "2022-07-27T19:16:33.596Z"
   },
   {
    "duration": 28,
    "start_time": "2022-07-27T19:16:39.499Z"
   },
   {
    "duration": 11,
    "start_time": "2022-07-27T19:17:15.153Z"
   },
   {
    "duration": 12,
    "start_time": "2022-07-27T19:21:35.150Z"
   },
   {
    "duration": 10,
    "start_time": "2022-07-27T19:21:40.727Z"
   },
   {
    "duration": 5,
    "start_time": "2022-07-27T19:22:27.215Z"
   },
   {
    "duration": 89,
    "start_time": "2022-07-27T19:24:04.445Z"
   },
   {
    "duration": 62,
    "start_time": "2022-07-27T19:24:30.959Z"
   },
   {
    "duration": 92,
    "start_time": "2022-07-27T19:24:38.727Z"
   },
   {
    "duration": 92,
    "start_time": "2022-07-27T19:24:54.972Z"
   },
   {
    "duration": 92,
    "start_time": "2022-07-27T19:25:15.284Z"
   },
   {
    "duration": 91,
    "start_time": "2022-07-27T19:25:25.851Z"
   },
   {
    "duration": 86,
    "start_time": "2022-07-27T19:25:53.323Z"
   },
   {
    "duration": 88,
    "start_time": "2022-07-27T19:25:57.189Z"
   },
   {
    "duration": 87,
    "start_time": "2022-07-27T19:26:03.078Z"
   },
   {
    "duration": 109,
    "start_time": "2022-07-27T19:26:50.159Z"
   },
   {
    "duration": 93,
    "start_time": "2022-07-27T19:26:53.225Z"
   },
   {
    "duration": 115,
    "start_time": "2022-07-27T19:27:40.855Z"
   },
   {
    "duration": 25,
    "start_time": "2022-07-27T19:27:58.680Z"
   },
   {
    "duration": 15,
    "start_time": "2022-07-27T19:28:17.502Z"
   },
   {
    "duration": 30,
    "start_time": "2022-07-27T19:28:39.169Z"
   },
   {
    "duration": 20,
    "start_time": "2022-07-27T19:28:54.800Z"
   },
   {
    "duration": 74,
    "start_time": "2022-07-27T19:30:00.995Z"
   },
   {
    "duration": 667,
    "start_time": "2022-07-27T19:30:04.707Z"
   },
   {
    "duration": 73,
    "start_time": "2022-07-27T19:31:10.306Z"
   },
   {
    "duration": 605,
    "start_time": "2022-07-27T19:31:15.925Z"
   },
   {
    "duration": 684,
    "start_time": "2022-07-27T19:31:16.532Z"
   },
   {
    "duration": 13,
    "start_time": "2022-07-27T19:31:17.220Z"
   },
   {
    "duration": 37,
    "start_time": "2022-07-27T19:31:17.235Z"
   },
   {
    "duration": 4,
    "start_time": "2022-07-27T19:31:17.274Z"
   },
   {
    "duration": 77,
    "start_time": "2022-07-27T19:31:17.280Z"
   },
   {
    "duration": 4,
    "start_time": "2022-07-27T19:31:17.359Z"
   },
   {
    "duration": 74,
    "start_time": "2022-07-27T19:31:17.364Z"
   },
   {
    "duration": 30,
    "start_time": "2022-07-27T19:31:17.440Z"
   },
   {
    "duration": 46,
    "start_time": "2022-07-27T19:31:17.472Z"
   },
   {
    "duration": 74,
    "start_time": "2022-07-27T19:31:17.519Z"
   },
   {
    "duration": 85,
    "start_time": "2022-07-27T19:31:17.595Z"
   },
   {
    "duration": 78,
    "start_time": "2022-07-27T19:31:17.682Z"
   },
   {
    "duration": 15,
    "start_time": "2022-07-27T19:31:17.764Z"
   },
   {
    "duration": 12,
    "start_time": "2022-07-27T19:31:17.781Z"
   },
   {
    "duration": 108,
    "start_time": "2022-07-27T19:31:17.795Z"
   },
   {
    "duration": 18,
    "start_time": "2022-07-27T19:31:17.912Z"
   },
   {
    "duration": 60,
    "start_time": "2022-07-27T19:31:17.932Z"
   },
   {
    "duration": 58,
    "start_time": "2022-07-27T19:31:17.994Z"
   },
   {
    "duration": 151,
    "start_time": "2022-07-27T19:32:14.680Z"
   },
   {
    "duration": 71,
    "start_time": "2022-07-27T19:32:19.168Z"
   },
   {
    "duration": 594,
    "start_time": "2022-07-27T19:32:28.735Z"
   },
   {
    "duration": 640,
    "start_time": "2022-07-27T19:32:29.331Z"
   },
   {
    "duration": 13,
    "start_time": "2022-07-27T19:32:29.973Z"
   },
   {
    "duration": 52,
    "start_time": "2022-07-27T19:32:29.988Z"
   },
   {
    "duration": 13,
    "start_time": "2022-07-27T19:32:30.043Z"
   },
   {
    "duration": 76,
    "start_time": "2022-07-27T19:32:30.058Z"
   },
   {
    "duration": 5,
    "start_time": "2022-07-27T19:32:30.135Z"
   },
   {
    "duration": 63,
    "start_time": "2022-07-27T19:32:30.142Z"
   },
   {
    "duration": 39,
    "start_time": "2022-07-27T19:32:30.211Z"
   },
   {
    "duration": 29,
    "start_time": "2022-07-27T19:32:30.252Z"
   },
   {
    "duration": 95,
    "start_time": "2022-07-27T19:32:30.283Z"
   },
   {
    "duration": 104,
    "start_time": "2022-07-27T19:32:30.380Z"
   },
   {
    "duration": 72,
    "start_time": "2022-07-27T19:32:30.486Z"
   },
   {
    "duration": 10,
    "start_time": "2022-07-27T19:32:30.561Z"
   },
   {
    "duration": 10,
    "start_time": "2022-07-27T19:32:30.573Z"
   },
   {
    "duration": 117,
    "start_time": "2022-07-27T19:32:30.585Z"
   },
   {
    "duration": 22,
    "start_time": "2022-07-27T19:32:30.704Z"
   },
   {
    "duration": 63,
    "start_time": "2022-07-27T19:32:30.728Z"
   },
   {
    "duration": 45,
    "start_time": "2022-07-27T19:32:30.793Z"
   },
   {
    "duration": 22,
    "start_time": "2022-07-27T19:32:30.840Z"
   },
   {
    "duration": 59,
    "start_time": "2022-07-27T19:32:30.865Z"
   },
   {
    "duration": 68,
    "start_time": "2022-07-27T19:32:30.926Z"
   },
   {
    "duration": 120,
    "start_time": "2022-07-27T19:32:30.995Z"
   },
   {
    "duration": 58,
    "start_time": "2022-07-27T19:32:31.116Z"
   },
   {
    "duration": 24,
    "start_time": "2022-07-27T19:32:31.175Z"
   },
   {
    "duration": 21,
    "start_time": "2022-07-27T19:32:31.201Z"
   },
   {
    "duration": 113,
    "start_time": "2022-07-27T19:32:31.225Z"
   },
   {
    "duration": 3,
    "start_time": "2022-07-27T19:32:31.341Z"
   },
   {
    "duration": 8,
    "start_time": "2022-07-27T19:32:31.346Z"
   },
   {
    "duration": 282,
    "start_time": "2022-07-27T19:32:31.356Z"
   },
   {
    "duration": 0,
    "start_time": "2022-07-27T19:32:31.640Z"
   },
   {
    "duration": 0,
    "start_time": "2022-07-27T19:32:31.641Z"
   },
   {
    "duration": 0,
    "start_time": "2022-07-27T19:32:31.642Z"
   },
   {
    "duration": 0,
    "start_time": "2022-07-27T19:32:31.644Z"
   },
   {
    "duration": 0,
    "start_time": "2022-07-27T19:32:31.645Z"
   },
   {
    "duration": 0,
    "start_time": "2022-07-27T19:32:31.646Z"
   },
   {
    "duration": 1,
    "start_time": "2022-07-27T19:32:31.646Z"
   },
   {
    "duration": 0,
    "start_time": "2022-07-27T19:32:31.647Z"
   },
   {
    "duration": 110,
    "start_time": "2022-07-27T19:33:40.639Z"
   },
   {
    "duration": 101,
    "start_time": "2022-07-27T19:33:44.106Z"
   },
   {
    "duration": 0,
    "start_time": "2022-07-27T19:35:44.497Z"
   },
   {
    "duration": 9,
    "start_time": "2022-07-27T19:35:54.983Z"
   },
   {
    "duration": 12,
    "start_time": "2022-07-27T19:36:04.805Z"
   },
   {
    "duration": 10,
    "start_time": "2022-07-27T19:36:13.045Z"
   },
   {
    "duration": 1595,
    "start_time": "2022-07-27T19:38:04.598Z"
   },
   {
    "duration": 1324,
    "start_time": "2022-07-27T19:38:06.502Z"
   },
   {
    "duration": 1244,
    "start_time": "2022-07-27T19:38:40.261Z"
   },
   {
    "duration": 1509,
    "start_time": "2022-07-27T19:38:47.745Z"
   },
   {
    "duration": 20,
    "start_time": "2022-07-27T19:39:15.060Z"
   },
   {
    "duration": 12,
    "start_time": "2022-07-27T19:39:30.327Z"
   },
   {
    "duration": 10,
    "start_time": "2022-07-27T19:39:43.053Z"
   },
   {
    "duration": 6,
    "start_time": "2022-07-27T19:43:40.285Z"
   },
   {
    "duration": 12,
    "start_time": "2022-07-27T19:44:55.854Z"
   },
   {
    "duration": 5,
    "start_time": "2022-07-27T19:45:32.402Z"
   },
   {
    "duration": 1639,
    "start_time": "2022-07-27T19:45:39.367Z"
   },
   {
    "duration": 1303,
    "start_time": "2022-07-27T19:45:55.458Z"
   },
   {
    "duration": 7,
    "start_time": "2022-07-27T19:46:14.537Z"
   },
   {
    "duration": 12,
    "start_time": "2022-07-27T19:46:44.434Z"
   },
   {
    "duration": 39,
    "start_time": "2022-07-27T19:46:52.225Z"
   },
   {
    "duration": 33,
    "start_time": "2022-07-27T19:47:17.077Z"
   },
   {
    "duration": 32,
    "start_time": "2022-07-27T19:47:43.769Z"
   },
   {
    "duration": 28,
    "start_time": "2022-07-27T19:47:59.255Z"
   },
   {
    "duration": 32,
    "start_time": "2022-07-27T19:48:24.248Z"
   },
   {
    "duration": 29,
    "start_time": "2022-07-27T19:48:46.557Z"
   },
   {
    "duration": 42,
    "start_time": "2022-07-27T19:49:42.281Z"
   },
   {
    "duration": 30,
    "start_time": "2022-07-27T19:49:56.735Z"
   },
   {
    "duration": 47,
    "start_time": "2022-07-27T19:50:08.970Z"
   },
   {
    "duration": 54,
    "start_time": "2022-07-27T19:50:25.553Z"
   },
   {
    "duration": 44,
    "start_time": "2022-07-27T19:50:37.841Z"
   },
   {
    "duration": 30,
    "start_time": "2022-07-27T19:50:52.669Z"
   },
   {
    "duration": 47,
    "start_time": "2022-07-27T19:51:12.481Z"
   },
   {
    "duration": 34,
    "start_time": "2022-07-27T19:51:19.969Z"
   },
   {
    "duration": 30,
    "start_time": "2022-07-27T19:52:03.426Z"
   },
   {
    "duration": 35,
    "start_time": "2022-07-27T19:52:12.763Z"
   },
   {
    "duration": 49,
    "start_time": "2022-07-27T19:53:48.433Z"
   },
   {
    "duration": 35,
    "start_time": "2022-07-27T19:54:39.429Z"
   },
   {
    "duration": 34,
    "start_time": "2022-07-27T19:54:47.440Z"
   },
   {
    "duration": 38,
    "start_time": "2022-07-27T19:57:55.085Z"
   },
   {
    "duration": 33,
    "start_time": "2022-07-27T19:58:04.831Z"
   },
   {
    "duration": 35,
    "start_time": "2022-07-27T19:58:10.958Z"
   },
   {
    "duration": 46,
    "start_time": "2022-07-27T19:58:29.608Z"
   },
   {
    "duration": 42,
    "start_time": "2022-07-27T19:58:35.192Z"
   },
   {
    "duration": 36,
    "start_time": "2022-07-27T19:58:44.727Z"
   },
   {
    "duration": 40,
    "start_time": "2022-07-27T19:58:52.605Z"
   },
   {
    "duration": 37,
    "start_time": "2022-07-27T19:59:23.866Z"
   },
   {
    "duration": 41,
    "start_time": "2022-07-27T19:59:58.699Z"
   },
   {
    "duration": 35,
    "start_time": "2022-07-27T20:00:22.938Z"
   },
   {
    "duration": 103,
    "start_time": "2022-07-27T20:00:31.533Z"
   },
   {
    "duration": 82,
    "start_time": "2022-07-27T20:00:34.490Z"
   },
   {
    "duration": 38,
    "start_time": "2022-07-27T20:00:42.463Z"
   },
   {
    "duration": 1300,
    "start_time": "2022-07-27T20:01:15.275Z"
   },
   {
    "duration": 42,
    "start_time": "2022-07-27T20:01:19.216Z"
   },
   {
    "duration": 34,
    "start_time": "2022-07-27T20:01:37.534Z"
   },
   {
    "duration": 84,
    "start_time": "2022-07-27T20:01:52.645Z"
   },
   {
    "duration": 36,
    "start_time": "2022-07-27T20:02:05.639Z"
   },
   {
    "duration": 39,
    "start_time": "2022-07-27T20:02:13.068Z"
   },
   {
    "duration": 35,
    "start_time": "2022-07-27T20:08:04.879Z"
   },
   {
    "duration": 43,
    "start_time": "2022-07-27T20:08:08.793Z"
   },
   {
    "duration": 63,
    "start_time": "2022-07-27T20:08:29.873Z"
   },
   {
    "duration": 36,
    "start_time": "2022-07-27T20:10:02.182Z"
   },
   {
    "duration": 41,
    "start_time": "2022-07-27T20:10:17.342Z"
   },
   {
    "duration": 34,
    "start_time": "2022-07-27T20:10:25.843Z"
   },
   {
    "duration": 6,
    "start_time": "2022-07-27T20:10:38.927Z"
   },
   {
    "duration": 10,
    "start_time": "2022-07-27T20:12:18.850Z"
   },
   {
    "duration": 9,
    "start_time": "2022-07-27T20:12:20.513Z"
   },
   {
    "duration": 39,
    "start_time": "2022-07-27T20:12:23.107Z"
   },
   {
    "duration": 5,
    "start_time": "2022-07-27T20:12:35.473Z"
   },
   {
    "duration": 37,
    "start_time": "2022-07-27T20:12:38.307Z"
   },
   {
    "duration": 19,
    "start_time": "2022-07-27T20:12:47.539Z"
   },
   {
    "duration": 37,
    "start_time": "2022-07-27T20:13:29.044Z"
   },
   {
    "duration": 21,
    "start_time": "2022-07-27T20:13:31.086Z"
   },
   {
    "duration": 7,
    "start_time": "2022-07-27T20:13:55.223Z"
   },
   {
    "duration": 24,
    "start_time": "2022-07-27T20:13:57.031Z"
   },
   {
    "duration": 19,
    "start_time": "2022-07-27T20:13:58.973Z"
   },
   {
    "duration": 27,
    "start_time": "2022-07-27T20:14:00.562Z"
   },
   {
    "duration": 26,
    "start_time": "2022-07-27T20:14:02.053Z"
   },
   {
    "duration": 6,
    "start_time": "2022-07-27T20:14:29.345Z"
   },
   {
    "duration": 27,
    "start_time": "2022-07-27T20:14:30.927Z"
   },
   {
    "duration": 19,
    "start_time": "2022-07-27T20:14:33.077Z"
   },
   {
    "duration": 33,
    "start_time": "2022-07-27T20:14:36.398Z"
   },
   {
    "duration": 26,
    "start_time": "2022-07-27T20:14:38.634Z"
   },
   {
    "duration": 39,
    "start_time": "2022-07-27T20:17:32.925Z"
   },
   {
    "duration": 29,
    "start_time": "2022-07-27T20:17:59.879Z"
   },
   {
    "duration": 45,
    "start_time": "2022-07-27T20:18:23.627Z"
   },
   {
    "duration": 30,
    "start_time": "2022-07-27T20:18:29.533Z"
   },
   {
    "duration": 37,
    "start_time": "2022-07-27T20:18:33.641Z"
   },
   {
    "duration": 36,
    "start_time": "2022-07-27T20:18:44.023Z"
   },
   {
    "duration": 9,
    "start_time": "2022-07-27T20:19:04.627Z"
   },
   {
    "duration": 16,
    "start_time": "2022-07-27T20:19:38.193Z"
   },
   {
    "duration": 8,
    "start_time": "2022-07-27T20:19:43.536Z"
   },
   {
    "duration": 9,
    "start_time": "2022-07-27T20:19:48.343Z"
   },
   {
    "duration": 14,
    "start_time": "2022-07-27T21:16:07.160Z"
   },
   {
    "duration": 477,
    "start_time": "2022-07-27T21:16:48.421Z"
   },
   {
    "duration": 357,
    "start_time": "2022-07-27T21:16:48.900Z"
   },
   {
    "duration": 13,
    "start_time": "2022-07-27T21:16:49.259Z"
   },
   {
    "duration": 46,
    "start_time": "2022-07-27T21:16:49.275Z"
   },
   {
    "duration": 12,
    "start_time": "2022-07-27T21:16:49.325Z"
   },
   {
    "duration": 69,
    "start_time": "2022-07-27T21:16:49.339Z"
   },
   {
    "duration": 4,
    "start_time": "2022-07-27T21:16:49.410Z"
   },
   {
    "duration": 66,
    "start_time": "2022-07-27T21:16:49.425Z"
   },
   {
    "duration": 39,
    "start_time": "2022-07-27T21:16:49.493Z"
   },
   {
    "duration": 34,
    "start_time": "2022-07-27T21:16:49.535Z"
   },
   {
    "duration": 88,
    "start_time": "2022-07-27T21:16:49.571Z"
   },
   {
    "duration": 76,
    "start_time": "2022-07-27T21:16:49.661Z"
   },
   {
    "duration": 77,
    "start_time": "2022-07-27T21:16:49.739Z"
   },
   {
    "duration": 11,
    "start_time": "2022-07-27T21:16:49.826Z"
   },
   {
    "duration": 17,
    "start_time": "2022-07-27T21:16:49.839Z"
   },
   {
    "duration": 105,
    "start_time": "2022-07-27T21:16:49.858Z"
   },
   {
    "duration": 11,
    "start_time": "2022-07-27T21:16:49.965Z"
   },
   {
    "duration": 76,
    "start_time": "2022-07-27T21:16:49.978Z"
   },
   {
    "duration": 37,
    "start_time": "2022-07-27T21:16:50.056Z"
   },
   {
    "duration": 33,
    "start_time": "2022-07-27T21:16:50.095Z"
   },
   {
    "duration": 30,
    "start_time": "2022-07-27T21:16:50.130Z"
   },
   {
    "duration": 20,
    "start_time": "2022-07-27T21:16:50.162Z"
   },
   {
    "duration": 44,
    "start_time": "2022-07-27T21:16:50.184Z"
   },
   {
    "duration": 18,
    "start_time": "2022-07-27T21:16:50.230Z"
   },
   {
    "duration": 32,
    "start_time": "2022-07-27T21:16:50.250Z"
   },
   {
    "duration": 32,
    "start_time": "2022-07-27T21:16:50.284Z"
   },
   {
    "duration": 114,
    "start_time": "2022-07-27T21:16:50.322Z"
   },
   {
    "duration": 13,
    "start_time": "2022-07-27T21:16:50.441Z"
   },
   {
    "duration": 35,
    "start_time": "2022-07-27T21:16:50.456Z"
   },
   {
    "duration": 39,
    "start_time": "2022-07-27T21:16:50.493Z"
   },
   {
    "duration": 57,
    "start_time": "2022-07-27T21:16:50.534Z"
   },
   {
    "duration": 37,
    "start_time": "2022-07-27T21:16:50.593Z"
   },
   {
    "duration": 50,
    "start_time": "2022-07-27T21:16:50.632Z"
   },
   {
    "duration": 20,
    "start_time": "2022-07-27T21:16:50.684Z"
   },
   {
    "duration": 32,
    "start_time": "2022-07-27T21:16:50.706Z"
   },
   {
    "duration": 23,
    "start_time": "2022-07-27T21:16:50.740Z"
   },
   {
    "duration": 29,
    "start_time": "2022-07-27T21:16:50.765Z"
   },
   {
    "duration": 36,
    "start_time": "2022-07-27T21:16:50.796Z"
   },
   {
    "duration": 46,
    "start_time": "2022-07-28T11:44:40.564Z"
   },
   {
    "duration": 7,
    "start_time": "2022-07-28T11:44:44.855Z"
   },
   {
    "duration": 747,
    "start_time": "2022-07-28T11:44:50.871Z"
   },
   {
    "duration": 328,
    "start_time": "2022-07-28T11:44:51.620Z"
   },
   {
    "duration": 11,
    "start_time": "2022-07-28T11:44:51.950Z"
   },
   {
    "duration": 36,
    "start_time": "2022-07-28T11:44:51.963Z"
   },
   {
    "duration": 4,
    "start_time": "2022-07-28T11:44:52.000Z"
   },
   {
    "duration": 60,
    "start_time": "2022-07-28T11:44:52.005Z"
   },
   {
    "duration": 4,
    "start_time": "2022-07-28T11:44:52.066Z"
   },
   {
    "duration": 47,
    "start_time": "2022-07-28T11:44:52.072Z"
   },
   {
    "duration": 35,
    "start_time": "2022-07-28T11:44:52.121Z"
   },
   {
    "duration": 23,
    "start_time": "2022-07-28T11:44:52.158Z"
   },
   {
    "duration": 70,
    "start_time": "2022-07-28T11:44:52.183Z"
   },
   {
    "duration": 63,
    "start_time": "2022-07-28T11:44:52.255Z"
   },
   {
    "duration": 62,
    "start_time": "2022-07-28T11:44:52.319Z"
   },
   {
    "duration": 9,
    "start_time": "2022-07-28T11:44:52.383Z"
   },
   {
    "duration": 2,
    "start_time": "2022-07-28T11:44:52.394Z"
   },
   {
    "duration": 80,
    "start_time": "2022-07-28T11:44:52.398Z"
   },
   {
    "duration": 10,
    "start_time": "2022-07-28T11:44:52.479Z"
   },
   {
    "duration": 34,
    "start_time": "2022-07-28T11:44:52.490Z"
   },
   {
    "duration": 40,
    "start_time": "2022-07-28T11:44:52.525Z"
   },
   {
    "duration": 19,
    "start_time": "2022-07-28T11:44:52.567Z"
   },
   {
    "duration": 19,
    "start_time": "2022-07-28T11:44:52.588Z"
   },
   {
    "duration": 37,
    "start_time": "2022-07-28T11:44:52.609Z"
   },
   {
    "duration": 17,
    "start_time": "2022-07-28T11:44:52.648Z"
   },
   {
    "duration": 12,
    "start_time": "2022-07-28T11:44:52.667Z"
   },
   {
    "duration": 19,
    "start_time": "2022-07-28T11:44:52.681Z"
   },
   {
    "duration": 45,
    "start_time": "2022-07-28T11:44:52.701Z"
   },
   {
    "duration": 90,
    "start_time": "2022-07-28T11:44:52.748Z"
   },
   {
    "duration": 12,
    "start_time": "2022-07-28T11:44:52.840Z"
   },
   {
    "duration": 14,
    "start_time": "2022-07-28T11:44:52.854Z"
   },
   {
    "duration": 6,
    "start_time": "2022-07-28T11:44:52.870Z"
   },
   {
    "duration": 32,
    "start_time": "2022-07-28T11:44:52.878Z"
   },
   {
    "duration": 40,
    "start_time": "2022-07-28T11:44:52.912Z"
   },
   {
    "duration": 26,
    "start_time": "2022-07-28T11:44:52.954Z"
   },
   {
    "duration": 16,
    "start_time": "2022-07-28T11:44:52.981Z"
   },
   {
    "duration": 44,
    "start_time": "2022-07-28T11:44:52.999Z"
   },
   {
    "duration": 8,
    "start_time": "2022-07-28T11:44:53.045Z"
   },
   {
    "duration": 18,
    "start_time": "2022-07-28T11:44:53.054Z"
   },
   {
    "duration": 8,
    "start_time": "2022-07-28T11:44:53.074Z"
   },
   {
    "duration": 1329,
    "start_time": "2022-07-28T11:46:08.835Z"
   },
   {
    "duration": 1034,
    "start_time": "2022-07-28T11:46:39.092Z"
   },
   {
    "duration": 938,
    "start_time": "2022-07-28T11:46:51.119Z"
   },
   {
    "duration": 3,
    "start_time": "2022-07-28T11:47:12.849Z"
   },
   {
    "duration": 4,
    "start_time": "2022-07-28T11:47:16.062Z"
   },
   {
    "duration": 56,
    "start_time": "2022-07-28T11:47:22.432Z"
   },
   {
    "duration": 152,
    "start_time": "2022-07-28T11:47:35.696Z"
   },
   {
    "duration": 59,
    "start_time": "2022-07-28T11:47:46.547Z"
   },
   {
    "duration": 147,
    "start_time": "2022-07-28T11:47:49.719Z"
   },
   {
    "duration": 175,
    "start_time": "2022-07-28T11:48:12.728Z"
   },
   {
    "duration": 125,
    "start_time": "2022-07-28T11:48:23.089Z"
   },
   {
    "duration": 124,
    "start_time": "2022-07-28T11:48:51.009Z"
   },
   {
    "duration": 127,
    "start_time": "2022-07-28T11:49:07.337Z"
   },
   {
    "duration": 127,
    "start_time": "2022-07-28T11:50:26.820Z"
   },
   {
    "duration": 130,
    "start_time": "2022-07-28T11:50:46.866Z"
   },
   {
    "duration": 152,
    "start_time": "2022-07-28T11:52:28.985Z"
   },
   {
    "duration": 117,
    "start_time": "2022-07-28T11:52:47.020Z"
   },
   {
    "duration": 133,
    "start_time": "2022-07-28T11:53:02.868Z"
   },
   {
    "duration": 140,
    "start_time": "2022-07-28T11:53:23.631Z"
   },
   {
    "duration": 53,
    "start_time": "2022-07-28T11:53:39.121Z"
   },
   {
    "duration": 36,
    "start_time": "2022-07-28T11:53:42.108Z"
   },
   {
    "duration": 32,
    "start_time": "2022-07-28T11:53:47.184Z"
   },
   {
    "duration": 129,
    "start_time": "2022-07-28T11:53:54.620Z"
   },
   {
    "duration": 205,
    "start_time": "2022-07-28T11:54:06.657Z"
   },
   {
    "duration": 4,
    "start_time": "2022-07-28T11:54:14.785Z"
   },
   {
    "duration": 127,
    "start_time": "2022-07-28T11:54:18.324Z"
   },
   {
    "duration": 78,
    "start_time": "2022-07-28T11:57:01.841Z"
   },
   {
    "duration": 184,
    "start_time": "2022-07-28T11:57:30.381Z"
   },
   {
    "duration": 156,
    "start_time": "2022-07-28T11:57:54.036Z"
   },
   {
    "duration": 146,
    "start_time": "2022-07-28T11:58:08.549Z"
   },
   {
    "duration": 77,
    "start_time": "2022-07-28T11:58:13.538Z"
   },
   {
    "duration": 150,
    "start_time": "2022-07-28T11:58:28.569Z"
   },
   {
    "duration": 157,
    "start_time": "2022-07-28T11:58:49.182Z"
   },
   {
    "duration": 153,
    "start_time": "2022-07-28T11:59:11.038Z"
   },
   {
    "duration": 153,
    "start_time": "2022-07-28T11:59:25.920Z"
   },
   {
    "duration": 5,
    "start_time": "2022-07-28T11:59:31.842Z"
   },
   {
    "duration": 78,
    "start_time": "2022-07-28T11:59:43.683Z"
   },
   {
    "duration": 59,
    "start_time": "2022-07-28T12:00:11.826Z"
   },
   {
    "duration": 154,
    "start_time": "2022-07-28T12:00:38.055Z"
   },
   {
    "duration": 171,
    "start_time": "2022-07-28T12:00:43.686Z"
   },
   {
    "duration": 154,
    "start_time": "2022-07-28T12:01:04.771Z"
   },
   {
    "duration": 76,
    "start_time": "2022-07-28T12:01:17.531Z"
   },
   {
    "duration": 224,
    "start_time": "2022-07-28T12:01:28.789Z"
   },
   {
    "duration": 162,
    "start_time": "2022-07-28T12:01:46.208Z"
   },
   {
    "duration": 160,
    "start_time": "2022-07-28T12:01:51.986Z"
   },
   {
    "duration": 78,
    "start_time": "2022-07-28T12:02:25.499Z"
   },
   {
    "duration": 5,
    "start_time": "2022-07-28T12:02:33.924Z"
   },
   {
    "duration": 163,
    "start_time": "2022-07-28T12:02:56.352Z"
   },
   {
    "duration": 192,
    "start_time": "2022-07-28T12:03:30.383Z"
   },
   {
    "duration": 190,
    "start_time": "2022-07-28T12:04:32.995Z"
   },
   {
    "duration": 179,
    "start_time": "2022-07-28T12:04:44.438Z"
   },
   {
    "duration": 160,
    "start_time": "2022-07-28T12:04:55.095Z"
   },
   {
    "duration": 190,
    "start_time": "2022-07-28T12:05:17.449Z"
   },
   {
    "duration": 193,
    "start_time": "2022-07-28T12:06:15.292Z"
   },
   {
    "duration": 276,
    "start_time": "2022-07-28T12:06:25.670Z"
   },
   {
    "duration": 201,
    "start_time": "2022-07-28T12:06:32.268Z"
   },
   {
    "duration": 192,
    "start_time": "2022-07-28T12:06:37.168Z"
   },
   {
    "duration": 185,
    "start_time": "2022-07-28T12:06:41.611Z"
   },
   {
    "duration": 189,
    "start_time": "2022-07-28T12:06:47.149Z"
   },
   {
    "duration": 188,
    "start_time": "2022-07-28T12:06:53.478Z"
   },
   {
    "duration": 197,
    "start_time": "2022-07-28T12:07:27.872Z"
   },
   {
    "duration": 145,
    "start_time": "2022-07-28T12:09:58.662Z"
   },
   {
    "duration": 161,
    "start_time": "2022-07-28T12:13:23.857Z"
   },
   {
    "duration": 162,
    "start_time": "2022-07-28T12:13:28.294Z"
   },
   {
    "duration": 166,
    "start_time": "2022-07-28T12:13:38.066Z"
   },
   {
    "duration": 225,
    "start_time": "2022-07-28T12:13:43.102Z"
   },
   {
    "duration": 156,
    "start_time": "2022-07-28T12:13:52.654Z"
   },
   {
    "duration": 157,
    "start_time": "2022-07-28T12:14:01.744Z"
   },
   {
    "duration": 158,
    "start_time": "2022-07-28T12:14:26.016Z"
   },
   {
    "duration": 170,
    "start_time": "2022-07-28T12:14:38.073Z"
   },
   {
    "duration": 210,
    "start_time": "2022-07-28T12:14:50.272Z"
   },
   {
    "duration": 130,
    "start_time": "2022-07-28T12:14:57.679Z"
   },
   {
    "duration": 128,
    "start_time": "2022-07-28T12:15:01.975Z"
   },
   {
    "duration": 141,
    "start_time": "2022-07-28T12:16:29.044Z"
   },
   {
    "duration": 152,
    "start_time": "2022-07-28T12:17:13.740Z"
   },
   {
    "duration": 163,
    "start_time": "2022-07-28T12:17:32.878Z"
   },
   {
    "duration": 25,
    "start_time": "2022-07-28T12:17:58.945Z"
   },
   {
    "duration": 26,
    "start_time": "2022-07-28T12:18:10.294Z"
   },
   {
    "duration": 224,
    "start_time": "2022-07-28T12:18:38.203Z"
   },
   {
    "duration": 135,
    "start_time": "2022-07-28T12:19:05.292Z"
   },
   {
    "duration": 154,
    "start_time": "2022-07-28T12:19:46.135Z"
   },
   {
    "duration": 136,
    "start_time": "2022-07-28T12:20:20.549Z"
   },
   {
    "duration": 7,
    "start_time": "2022-07-28T12:21:09.968Z"
   },
   {
    "duration": 3,
    "start_time": "2022-07-28T12:21:19.975Z"
   },
   {
    "duration": 7,
    "start_time": "2022-07-28T12:21:22.547Z"
   },
   {
    "duration": 105,
    "start_time": "2022-07-28T12:21:48.138Z"
   },
   {
    "duration": 76,
    "start_time": "2022-07-28T12:22:03.383Z"
   },
   {
    "duration": 72,
    "start_time": "2022-07-28T12:22:11.910Z"
   },
   {
    "duration": 133,
    "start_time": "2022-07-28T12:22:58.819Z"
   },
   {
    "duration": 122,
    "start_time": "2022-07-28T12:23:50.362Z"
   },
   {
    "duration": 52,
    "start_time": "2022-07-28T12:25:21.279Z"
   },
   {
    "duration": 9,
    "start_time": "2022-07-28T12:25:29.332Z"
   },
   {
    "duration": 10,
    "start_time": "2022-07-28T12:25:44.372Z"
   },
   {
    "duration": 129,
    "start_time": "2022-07-28T12:25:47.681Z"
   },
   {
    "duration": 135,
    "start_time": "2022-07-28T12:25:54.719Z"
   },
   {
    "duration": 185,
    "start_time": "2022-07-28T12:26:05.089Z"
   },
   {
    "duration": 126,
    "start_time": "2022-07-28T12:26:11.978Z"
   },
   {
    "duration": 137,
    "start_time": "2022-07-28T12:26:33.720Z"
   },
   {
    "duration": 129,
    "start_time": "2022-07-28T12:27:01.723Z"
   },
   {
    "duration": 130,
    "start_time": "2022-07-28T12:27:07.667Z"
   },
   {
    "duration": 129,
    "start_time": "2022-07-28T12:27:30.239Z"
   },
   {
    "duration": 125,
    "start_time": "2022-07-28T12:28:31.943Z"
   },
   {
    "duration": 123,
    "start_time": "2022-07-28T12:28:39.970Z"
   },
   {
    "duration": 55,
    "start_time": "2022-07-28T12:29:45.948Z"
   },
   {
    "duration": 139,
    "start_time": "2022-07-28T12:29:51.176Z"
   },
   {
    "duration": 143,
    "start_time": "2022-07-28T12:29:57.733Z"
   },
   {
    "duration": 216,
    "start_time": "2022-07-28T12:30:02.135Z"
   },
   {
    "duration": 145,
    "start_time": "2022-07-28T12:30:04.822Z"
   },
   {
    "duration": 51,
    "start_time": "2022-07-28T12:30:10.568Z"
   },
   {
    "duration": 135,
    "start_time": "2022-07-28T12:30:13.657Z"
   },
   {
    "duration": 135,
    "start_time": "2022-07-28T12:30:17.755Z"
   },
   {
    "duration": 140,
    "start_time": "2022-07-28T12:30:25.498Z"
   },
   {
    "duration": 135,
    "start_time": "2022-07-28T12:30:55.226Z"
   },
   {
    "duration": 134,
    "start_time": "2022-07-28T12:31:05.926Z"
   },
   {
    "duration": 141,
    "start_time": "2022-07-28T12:31:12.327Z"
   },
   {
    "duration": 132,
    "start_time": "2022-07-28T12:31:17.859Z"
   },
   {
    "duration": 134,
    "start_time": "2022-07-28T12:31:24.863Z"
   },
   {
    "duration": 60,
    "start_time": "2022-07-28T12:31:28.630Z"
   },
   {
    "duration": 138,
    "start_time": "2022-07-28T12:31:34.883Z"
   },
   {
    "duration": 202,
    "start_time": "2022-07-28T12:31:41.478Z"
   },
   {
    "duration": 142,
    "start_time": "2022-07-28T12:31:46.253Z"
   },
   {
    "duration": 136,
    "start_time": "2022-07-28T12:31:49.775Z"
   },
   {
    "duration": 145,
    "start_time": "2022-07-28T12:31:54.672Z"
   },
   {
    "duration": 133,
    "start_time": "2022-07-28T12:31:57.586Z"
   },
   {
    "duration": 140,
    "start_time": "2022-07-28T12:32:01.311Z"
   },
   {
    "duration": 154,
    "start_time": "2022-07-28T12:32:14.701Z"
   },
   {
    "duration": 139,
    "start_time": "2022-07-28T12:32:27.494Z"
   },
   {
    "duration": 145,
    "start_time": "2022-07-28T12:32:34.914Z"
   },
   {
    "duration": 152,
    "start_time": "2022-07-28T12:33:52.363Z"
   },
   {
    "duration": 154,
    "start_time": "2022-07-28T12:34:31.694Z"
   },
   {
    "duration": 221,
    "start_time": "2022-07-28T12:35:04.317Z"
   },
   {
    "duration": 156,
    "start_time": "2022-07-28T12:36:01.131Z"
   },
   {
    "duration": 189,
    "start_time": "2022-07-28T12:38:29.180Z"
   },
   {
    "duration": 157,
    "start_time": "2022-07-28T12:38:36.505Z"
   },
   {
    "duration": 157,
    "start_time": "2022-07-28T12:38:54.404Z"
   },
   {
    "duration": 153,
    "start_time": "2022-07-28T12:39:40.670Z"
   },
   {
    "duration": 156,
    "start_time": "2022-07-28T12:39:48.017Z"
   },
   {
    "duration": 166,
    "start_time": "2022-07-28T12:40:02.136Z"
   },
   {
    "duration": 163,
    "start_time": "2022-07-28T12:40:21.521Z"
   },
   {
    "duration": 161,
    "start_time": "2022-07-28T12:40:40.778Z"
   },
   {
    "duration": 170,
    "start_time": "2022-07-28T12:40:47.289Z"
   },
   {
    "duration": 55,
    "start_time": "2022-07-28T12:40:54.835Z"
   },
   {
    "duration": 226,
    "start_time": "2022-07-28T12:40:57.538Z"
   },
   {
    "duration": 169,
    "start_time": "2022-07-28T12:41:02.038Z"
   },
   {
    "duration": 158,
    "start_time": "2022-07-28T12:41:06.971Z"
   },
   {
    "duration": 176,
    "start_time": "2022-07-28T12:41:34.663Z"
   },
   {
    "duration": 168,
    "start_time": "2022-07-28T12:42:20.226Z"
   },
   {
    "duration": 163,
    "start_time": "2022-07-28T12:42:28.688Z"
   },
   {
    "duration": 173,
    "start_time": "2022-07-28T12:42:49.024Z"
   },
   {
    "duration": 163,
    "start_time": "2022-07-28T12:42:54.787Z"
   },
   {
    "duration": 164,
    "start_time": "2022-07-28T12:43:05.617Z"
   },
   {
    "duration": 84,
    "start_time": "2022-08-01T15:24:45.330Z"
   },
   {
    "duration": 243,
    "start_time": "2022-08-01T15:25:13.668Z"
   },
   {
    "duration": 767,
    "start_time": "2022-08-01T15:25:25.309Z"
   },
   {
    "duration": 556,
    "start_time": "2022-08-01T15:25:26.079Z"
   },
   {
    "duration": 10,
    "start_time": "2022-08-01T15:25:26.637Z"
   },
   {
    "duration": 26,
    "start_time": "2022-08-01T15:25:26.649Z"
   },
   {
    "duration": 5,
    "start_time": "2022-08-01T15:25:26.677Z"
   },
   {
    "duration": 72,
    "start_time": "2022-08-01T15:25:26.684Z"
   },
   {
    "duration": 3,
    "start_time": "2022-08-01T15:25:26.758Z"
   },
   {
    "duration": 39,
    "start_time": "2022-08-01T15:25:26.763Z"
   },
   {
    "duration": 30,
    "start_time": "2022-08-01T15:25:26.804Z"
   },
   {
    "duration": 19,
    "start_time": "2022-08-01T15:25:26.836Z"
   },
   {
    "duration": 53,
    "start_time": "2022-08-01T15:25:26.856Z"
   },
   {
    "duration": 72,
    "start_time": "2022-08-01T15:25:26.911Z"
   },
   {
    "duration": 54,
    "start_time": "2022-08-01T15:25:26.985Z"
   },
   {
    "duration": 8,
    "start_time": "2022-08-01T15:25:27.040Z"
   },
   {
    "duration": 2,
    "start_time": "2022-08-01T15:25:27.050Z"
   },
   {
    "duration": 62,
    "start_time": "2022-08-01T15:25:27.053Z"
   },
   {
    "duration": 8,
    "start_time": "2022-08-01T15:25:27.131Z"
   },
   {
    "duration": 127,
    "start_time": "2022-08-01T15:25:27.141Z"
   },
   {
    "duration": 127,
    "start_time": "2022-08-01T15:25:27.270Z"
   },
   {
    "duration": 18,
    "start_time": "2022-08-01T15:25:27.398Z"
   },
   {
    "duration": 29,
    "start_time": "2022-08-01T15:25:27.418Z"
   },
   {
    "duration": 13,
    "start_time": "2022-08-01T15:25:27.448Z"
   },
   {
    "duration": 17,
    "start_time": "2022-08-01T15:25:27.463Z"
   },
   {
    "duration": 13,
    "start_time": "2022-08-01T15:25:27.481Z"
   },
   {
    "duration": 48,
    "start_time": "2022-08-01T15:25:27.495Z"
   },
   {
    "duration": 15,
    "start_time": "2022-08-01T15:25:27.545Z"
   },
   {
    "duration": 88,
    "start_time": "2022-08-01T15:25:27.562Z"
   },
   {
    "duration": 0,
    "start_time": "2022-08-01T15:25:27.653Z"
   },
   {
    "duration": 0,
    "start_time": "2022-08-01T15:25:27.654Z"
   },
   {
    "duration": 0,
    "start_time": "2022-08-01T15:25:27.655Z"
   },
   {
    "duration": 0,
    "start_time": "2022-08-01T15:25:27.656Z"
   },
   {
    "duration": 1,
    "start_time": "2022-08-01T15:25:27.657Z"
   },
   {
    "duration": 0,
    "start_time": "2022-08-01T15:25:27.659Z"
   },
   {
    "duration": 1,
    "start_time": "2022-08-01T15:25:27.660Z"
   },
   {
    "duration": 0,
    "start_time": "2022-08-01T15:25:27.662Z"
   },
   {
    "duration": 0,
    "start_time": "2022-08-01T15:25:27.663Z"
   },
   {
    "duration": 0,
    "start_time": "2022-08-01T15:25:27.664Z"
   },
   {
    "duration": 0,
    "start_time": "2022-08-01T15:25:27.666Z"
   },
   {
    "duration": 13,
    "start_time": "2022-08-01T15:26:19.499Z"
   },
   {
    "duration": 13,
    "start_time": "2022-08-01T15:27:13.594Z"
   },
   {
    "duration": 13,
    "start_time": "2022-08-01T15:27:25.072Z"
   },
   {
    "duration": 28,
    "start_time": "2022-08-01T15:27:30.776Z"
   },
   {
    "duration": 83,
    "start_time": "2022-08-01T15:27:43.059Z"
   },
   {
    "duration": 191,
    "start_time": "2022-08-01T15:28:11.890Z"
   },
   {
    "duration": 246,
    "start_time": "2022-08-01T15:28:33.641Z"
   },
   {
    "duration": 193,
    "start_time": "2022-08-01T15:28:42.350Z"
   },
   {
    "duration": 179,
    "start_time": "2022-08-01T15:28:55.386Z"
   },
   {
    "duration": 184,
    "start_time": "2022-08-01T15:29:02.034Z"
   },
   {
    "duration": 3,
    "start_time": "2022-08-01T16:09:08.386Z"
   },
   {
    "duration": 254,
    "start_time": "2022-08-01T16:09:08.390Z"
   },
   {
    "duration": 10,
    "start_time": "2022-08-01T16:09:08.645Z"
   },
   {
    "duration": 27,
    "start_time": "2022-08-01T16:09:08.657Z"
   },
   {
    "duration": 4,
    "start_time": "2022-08-01T16:09:08.685Z"
   },
   {
    "duration": 41,
    "start_time": "2022-08-01T16:09:08.690Z"
   },
   {
    "duration": 3,
    "start_time": "2022-08-01T16:09:08.733Z"
   },
   {
    "duration": 37,
    "start_time": "2022-08-01T16:09:08.738Z"
   },
   {
    "duration": 30,
    "start_time": "2022-08-01T16:09:08.777Z"
   },
   {
    "duration": 40,
    "start_time": "2022-08-01T16:09:08.810Z"
   },
   {
    "duration": 60,
    "start_time": "2022-08-01T16:09:08.852Z"
   },
   {
    "duration": 70,
    "start_time": "2022-08-01T16:09:08.932Z"
   },
   {
    "duration": 61,
    "start_time": "2022-08-01T16:09:09.004Z"
   },
   {
    "duration": 8,
    "start_time": "2022-08-01T16:09:09.067Z"
   },
   {
    "duration": 4,
    "start_time": "2022-08-01T16:09:09.077Z"
   },
   {
    "duration": 75,
    "start_time": "2022-08-01T16:09:09.083Z"
   },
   {
    "duration": 9,
    "start_time": "2022-08-01T16:09:09.160Z"
   },
   {
    "duration": 118,
    "start_time": "2022-08-01T16:09:09.170Z"
   },
   {
    "duration": 128,
    "start_time": "2022-08-01T16:09:09.290Z"
   },
   {
    "duration": 24,
    "start_time": "2022-08-01T16:09:09.420Z"
   },
   {
    "duration": 16,
    "start_time": "2022-08-01T16:09:09.446Z"
   },
   {
    "duration": 12,
    "start_time": "2022-08-01T16:09:09.464Z"
   },
   {
    "duration": 16,
    "start_time": "2022-08-01T16:09:09.477Z"
   },
   {
    "duration": 43,
    "start_time": "2022-08-01T16:09:09.495Z"
   },
   {
    "duration": 16,
    "start_time": "2022-08-01T16:09:09.539Z"
   },
   {
    "duration": 11,
    "start_time": "2022-08-01T16:09:09.557Z"
   },
   {
    "duration": 197,
    "start_time": "2022-08-01T16:09:09.569Z"
   },
   {
    "duration": 10,
    "start_time": "2022-08-01T16:09:09.769Z"
   },
   {
    "duration": 10,
    "start_time": "2022-08-01T16:09:09.780Z"
   },
   {
    "duration": 5,
    "start_time": "2022-08-01T16:09:09.791Z"
   },
   {
    "duration": 216,
    "start_time": "2022-08-01T16:09:09.797Z"
   },
   {
    "duration": 132,
    "start_time": "2022-08-01T16:09:10.015Z"
   },
   {
    "duration": 156,
    "start_time": "2022-08-01T16:09:10.148Z"
   },
   {
    "duration": 137,
    "start_time": "2022-08-01T16:09:10.306Z"
   },
   {
    "duration": 19,
    "start_time": "2022-08-01T16:09:10.445Z"
   },
   {
    "duration": 223,
    "start_time": "2022-08-01T16:09:10.465Z"
   },
   {
    "duration": 14,
    "start_time": "2022-08-01T16:09:10.689Z"
   },
   {
    "duration": 170,
    "start_time": "2022-08-01T16:09:10.705Z"
   },
   {
    "duration": 800,
    "start_time": "2022-08-01T19:56:02.813Z"
   },
   {
    "duration": 583,
    "start_time": "2022-08-01T19:56:03.615Z"
   },
   {
    "duration": 12,
    "start_time": "2022-08-01T19:56:04.200Z"
   },
   {
    "duration": 53,
    "start_time": "2022-08-01T19:56:04.214Z"
   },
   {
    "duration": 4,
    "start_time": "2022-08-01T19:56:04.269Z"
   },
   {
    "duration": 79,
    "start_time": "2022-08-01T19:56:04.275Z"
   },
   {
    "duration": 5,
    "start_time": "2022-08-01T19:56:04.356Z"
   },
   {
    "duration": 68,
    "start_time": "2022-08-01T19:56:04.363Z"
   },
   {
    "duration": 36,
    "start_time": "2022-08-01T19:56:04.433Z"
   },
   {
    "duration": 21,
    "start_time": "2022-08-01T19:56:04.472Z"
   },
   {
    "duration": 78,
    "start_time": "2022-08-01T19:56:04.495Z"
   },
   {
    "duration": 69,
    "start_time": "2022-08-01T19:56:04.575Z"
   },
   {
    "duration": 67,
    "start_time": "2022-08-01T19:56:04.647Z"
   },
   {
    "duration": 20,
    "start_time": "2022-08-01T19:56:04.716Z"
   },
   {
    "duration": 3,
    "start_time": "2022-08-01T19:56:04.738Z"
   },
   {
    "duration": 89,
    "start_time": "2022-08-01T19:56:04.742Z"
   },
   {
    "duration": 13,
    "start_time": "2022-08-01T19:56:04.833Z"
   },
   {
    "duration": 143,
    "start_time": "2022-08-01T19:56:04.848Z"
   },
   {
    "duration": 206,
    "start_time": "2022-08-01T19:56:04.994Z"
   },
   {
    "duration": 35,
    "start_time": "2022-08-01T19:56:05.202Z"
   },
   {
    "duration": 32,
    "start_time": "2022-08-01T19:56:05.239Z"
   },
   {
    "duration": 22,
    "start_time": "2022-08-01T19:56:05.273Z"
   },
   {
    "duration": 52,
    "start_time": "2022-08-01T19:56:05.297Z"
   },
   {
    "duration": 16,
    "start_time": "2022-08-01T19:56:05.350Z"
   },
   {
    "duration": 21,
    "start_time": "2022-08-01T19:56:05.368Z"
   },
   {
    "duration": 43,
    "start_time": "2022-08-01T19:56:05.391Z"
   },
   {
    "duration": 224,
    "start_time": "2022-08-01T19:56:05.436Z"
   },
   {
    "duration": 10,
    "start_time": "2022-08-01T19:56:05.664Z"
   },
   {
    "duration": 11,
    "start_time": "2022-08-01T19:56:05.676Z"
   },
   {
    "duration": 5,
    "start_time": "2022-08-01T19:56:05.688Z"
   },
   {
    "duration": 185,
    "start_time": "2022-08-01T19:56:05.694Z"
   },
   {
    "duration": 204,
    "start_time": "2022-08-01T19:56:05.881Z"
   },
   {
    "duration": 165,
    "start_time": "2022-08-01T19:56:06.087Z"
   },
   {
    "duration": 164,
    "start_time": "2022-08-01T19:56:06.253Z"
   },
   {
    "duration": 33,
    "start_time": "2022-08-01T19:56:06.418Z"
   },
   {
    "duration": 200,
    "start_time": "2022-08-01T19:56:06.452Z"
   },
   {
    "duration": 22,
    "start_time": "2022-08-01T19:56:06.654Z"
   },
   {
    "duration": 204,
    "start_time": "2022-08-01T19:56:06.678Z"
   },
   {
    "duration": 46,
    "start_time": "2022-08-02T06:12:52.027Z"
   },
   {
    "duration": 868,
    "start_time": "2022-08-02T06:12:58.091Z"
   },
   {
    "duration": 347,
    "start_time": "2022-08-02T06:12:58.961Z"
   },
   {
    "duration": 13,
    "start_time": "2022-08-02T06:12:59.310Z"
   },
   {
    "duration": 28,
    "start_time": "2022-08-02T06:12:59.326Z"
   },
   {
    "duration": 20,
    "start_time": "2022-08-02T06:12:59.355Z"
   },
   {
    "duration": 68,
    "start_time": "2022-08-02T06:12:59.377Z"
   },
   {
    "duration": 4,
    "start_time": "2022-08-02T06:12:59.446Z"
   },
   {
    "duration": 43,
    "start_time": "2022-08-02T06:12:59.452Z"
   },
   {
    "duration": 25,
    "start_time": "2022-08-02T06:12:59.497Z"
   },
   {
    "duration": 22,
    "start_time": "2022-08-02T06:12:59.526Z"
   },
   {
    "duration": 80,
    "start_time": "2022-08-02T06:12:59.550Z"
   },
   {
    "duration": 79,
    "start_time": "2022-08-02T06:12:59.632Z"
   },
   {
    "duration": 61,
    "start_time": "2022-08-02T06:12:59.713Z"
   },
   {
    "duration": 9,
    "start_time": "2022-08-02T06:12:59.776Z"
   },
   {
    "duration": 3,
    "start_time": "2022-08-02T06:12:59.786Z"
   },
   {
    "duration": 91,
    "start_time": "2022-08-02T06:12:59.791Z"
   },
   {
    "duration": 10,
    "start_time": "2022-08-02T06:12:59.883Z"
   },
   {
    "duration": 156,
    "start_time": "2022-08-02T06:12:59.894Z"
   },
   {
    "duration": 151,
    "start_time": "2022-08-02T06:13:00.051Z"
   },
   {
    "duration": 20,
    "start_time": "2022-08-02T06:13:00.204Z"
   },
   {
    "duration": 18,
    "start_time": "2022-08-02T06:13:00.226Z"
   },
   {
    "duration": 35,
    "start_time": "2022-08-02T06:13:00.246Z"
   },
   {
    "duration": 19,
    "start_time": "2022-08-02T06:13:00.283Z"
   },
   {
    "duration": 15,
    "start_time": "2022-08-02T06:13:00.303Z"
   },
   {
    "duration": 19,
    "start_time": "2022-08-02T06:13:00.320Z"
   },
   {
    "duration": 45,
    "start_time": "2022-08-02T06:13:00.341Z"
   },
   {
    "duration": 232,
    "start_time": "2022-08-02T06:13:00.387Z"
   },
   {
    "duration": 12,
    "start_time": "2022-08-02T06:13:00.622Z"
   },
   {
    "duration": 11,
    "start_time": "2022-08-02T06:13:00.636Z"
   },
   {
    "duration": 7,
    "start_time": "2022-08-02T06:13:00.649Z"
   },
   {
    "duration": 240,
    "start_time": "2022-08-02T06:13:00.673Z"
   },
   {
    "duration": 170,
    "start_time": "2022-08-02T06:13:00.915Z"
   },
   {
    "duration": 171,
    "start_time": "2022-08-02T06:13:01.087Z"
   },
   {
    "duration": 141,
    "start_time": "2022-08-02T06:13:01.259Z"
   },
   {
    "duration": 21,
    "start_time": "2022-08-02T06:13:01.401Z"
   },
   {
    "duration": 199,
    "start_time": "2022-08-02T06:13:01.423Z"
   },
   {
    "duration": 14,
    "start_time": "2022-08-02T06:13:01.624Z"
   },
   {
    "duration": 160,
    "start_time": "2022-08-02T06:13:01.640Z"
   },
   {
    "duration": 145,
    "start_time": "2022-08-02T06:13:15.463Z"
   },
   {
    "duration": 108,
    "start_time": "2022-08-02T18:09:46.144Z"
   },
   {
    "duration": 839,
    "start_time": "2022-08-02T18:16:09.835Z"
   },
   {
    "duration": 284,
    "start_time": "2022-08-02T18:16:10.677Z"
   },
   {
    "duration": 10,
    "start_time": "2022-08-02T18:16:10.963Z"
   },
   {
    "duration": 27,
    "start_time": "2022-08-02T18:16:10.975Z"
   },
   {
    "duration": 5,
    "start_time": "2022-08-02T18:16:11.004Z"
   },
   {
    "duration": 49,
    "start_time": "2022-08-02T18:16:11.032Z"
   },
   {
    "duration": 4,
    "start_time": "2022-08-02T18:16:11.083Z"
   },
   {
    "duration": 55,
    "start_time": "2022-08-02T18:16:11.088Z"
   },
   {
    "duration": 24,
    "start_time": "2022-08-02T18:16:11.144Z"
   },
   {
    "duration": 20,
    "start_time": "2022-08-02T18:16:11.170Z"
   },
   {
    "duration": 75,
    "start_time": "2022-08-02T18:16:11.191Z"
   },
   {
    "duration": 71,
    "start_time": "2022-08-02T18:16:11.267Z"
   },
   {
    "duration": 57,
    "start_time": "2022-08-02T18:16:11.340Z"
   },
   {
    "duration": 9,
    "start_time": "2022-08-02T18:16:11.398Z"
   },
   {
    "duration": 3,
    "start_time": "2022-08-02T18:16:11.408Z"
   },
   {
    "duration": 87,
    "start_time": "2022-08-02T18:16:11.412Z"
   },
   {
    "duration": 9,
    "start_time": "2022-08-02T18:16:11.501Z"
   },
   {
    "duration": 147,
    "start_time": "2022-08-02T18:16:11.511Z"
   },
   {
    "duration": 153,
    "start_time": "2022-08-02T18:16:11.660Z"
   },
   {
    "duration": 27,
    "start_time": "2022-08-02T18:16:11.815Z"
   },
   {
    "duration": 20,
    "start_time": "2022-08-02T18:16:11.844Z"
   },
   {
    "duration": 16,
    "start_time": "2022-08-02T18:16:11.865Z"
   },
   {
    "duration": 19,
    "start_time": "2022-08-02T18:16:11.883Z"
   },
   {
    "duration": 15,
    "start_time": "2022-08-02T18:16:11.932Z"
   },
   {
    "duration": 20,
    "start_time": "2022-08-02T18:16:11.949Z"
   },
   {
    "duration": 20,
    "start_time": "2022-08-02T18:16:11.970Z"
   },
   {
    "duration": 253,
    "start_time": "2022-08-02T18:16:11.992Z"
   },
   {
    "duration": 10,
    "start_time": "2022-08-02T18:16:12.248Z"
   },
   {
    "duration": 9,
    "start_time": "2022-08-02T18:16:12.260Z"
   },
   {
    "duration": 4,
    "start_time": "2022-08-02T18:16:12.271Z"
   },
   {
    "duration": 254,
    "start_time": "2022-08-02T18:16:12.277Z"
   },
   {
    "duration": 148,
    "start_time": "2022-08-02T18:16:12.532Z"
   },
   {
    "duration": 178,
    "start_time": "2022-08-02T18:16:12.682Z"
   },
   {
    "duration": 164,
    "start_time": "2022-08-02T18:16:12.862Z"
   },
   {
    "duration": 26,
    "start_time": "2022-08-02T18:16:13.030Z"
   },
   {
    "duration": 183,
    "start_time": "2022-08-02T18:16:13.058Z"
   },
   {
    "duration": 14,
    "start_time": "2022-08-02T18:16:13.242Z"
   },
   {
    "duration": 164,
    "start_time": "2022-08-02T18:16:13.258Z"
   },
   {
    "duration": 50,
    "start_time": "2022-08-02T21:51:13.327Z"
   },
   {
    "duration": 10,
    "start_time": "2022-08-02T21:52:34.012Z"
   },
   {
    "duration": 930,
    "start_time": "2022-08-02T21:52:40.096Z"
   },
   {
    "duration": 593,
    "start_time": "2022-08-02T21:52:41.029Z"
   },
   {
    "duration": 11,
    "start_time": "2022-08-02T21:52:41.624Z"
   },
   {
    "duration": 34,
    "start_time": "2022-08-02T21:52:41.638Z"
   },
   {
    "duration": 5,
    "start_time": "2022-08-02T21:52:41.674Z"
   },
   {
    "duration": 76,
    "start_time": "2022-08-02T21:52:41.680Z"
   },
   {
    "duration": 4,
    "start_time": "2022-08-02T21:52:41.758Z"
   },
   {
    "duration": 88,
    "start_time": "2022-08-02T21:52:41.764Z"
   },
   {
    "duration": 38,
    "start_time": "2022-08-02T21:52:41.856Z"
   },
   {
    "duration": 36,
    "start_time": "2022-08-02T21:52:41.911Z"
   },
   {
    "duration": 100,
    "start_time": "2022-08-02T21:52:41.950Z"
   },
   {
    "duration": 88,
    "start_time": "2022-08-02T21:52:42.053Z"
   },
   {
    "duration": 68,
    "start_time": "2022-08-02T21:52:42.143Z"
   },
   {
    "duration": 10,
    "start_time": "2022-08-02T21:52:42.212Z"
   },
   {
    "duration": 3,
    "start_time": "2022-08-02T21:52:42.224Z"
   },
   {
    "duration": 111,
    "start_time": "2022-08-02T21:52:42.228Z"
   },
   {
    "duration": 10,
    "start_time": "2022-08-02T21:52:42.341Z"
   },
   {
    "duration": 161,
    "start_time": "2022-08-02T21:52:42.352Z"
   },
   {
    "duration": 160,
    "start_time": "2022-08-02T21:52:42.515Z"
   },
   {
    "duration": 35,
    "start_time": "2022-08-02T21:52:42.677Z"
   },
   {
    "duration": 22,
    "start_time": "2022-08-02T21:52:42.714Z"
   },
   {
    "duration": 16,
    "start_time": "2022-08-02T21:52:42.738Z"
   },
   {
    "duration": 20,
    "start_time": "2022-08-02T21:52:42.757Z"
   },
   {
    "duration": 43,
    "start_time": "2022-08-02T21:52:42.779Z"
   },
   {
    "duration": 21,
    "start_time": "2022-08-02T21:52:42.824Z"
   },
   {
    "duration": 17,
    "start_time": "2022-08-02T21:52:42.847Z"
   },
   {
    "duration": 275,
    "start_time": "2022-08-02T21:52:42.866Z"
   },
   {
    "duration": 12,
    "start_time": "2022-08-02T21:52:43.145Z"
   },
   {
    "duration": 13,
    "start_time": "2022-08-02T21:52:43.159Z"
   },
   {
    "duration": 5,
    "start_time": "2022-08-02T21:52:43.176Z"
   },
   {
    "duration": 212,
    "start_time": "2022-08-02T21:52:43.183Z"
   },
   {
    "duration": 231,
    "start_time": "2022-08-02T21:52:43.397Z"
   },
   {
    "duration": 187,
    "start_time": "2022-08-02T21:52:43.630Z"
   },
   {
    "duration": 171,
    "start_time": "2022-08-02T21:52:43.819Z"
   },
   {
    "duration": 34,
    "start_time": "2022-08-02T21:52:43.991Z"
   },
   {
    "duration": 194,
    "start_time": "2022-08-02T21:52:44.027Z"
   },
   {
    "duration": 17,
    "start_time": "2022-08-02T21:52:44.222Z"
   },
   {
    "duration": 207,
    "start_time": "2022-08-02T21:52:44.241Z"
   },
   {
    "duration": 205,
    "start_time": "2022-08-02T21:53:08.939Z"
   },
   {
    "duration": 83,
    "start_time": "2022-08-02T22:04:12.370Z"
   },
   {
    "duration": 10,
    "start_time": "2022-08-02T22:07:47.554Z"
   },
   {
    "duration": 34,
    "start_time": "2022-08-02T22:07:53.243Z"
   },
   {
    "duration": 4,
    "start_time": "2022-08-02T22:07:57.049Z"
   },
   {
    "duration": 45,
    "start_time": "2022-08-02T22:08:01.551Z"
   },
   {
    "duration": 27,
    "start_time": "2022-08-02T22:08:11.146Z"
   },
   {
    "duration": 82,
    "start_time": "2022-08-02T22:08:43.475Z"
   },
   {
    "duration": 11,
    "start_time": "2022-08-02T22:08:54.538Z"
   },
   {
    "duration": 43,
    "start_time": "2022-08-02T22:09:42.079Z"
   },
   {
    "duration": 46,
    "start_time": "2022-08-02T22:10:59.951Z"
   },
   {
    "duration": 138,
    "start_time": "2022-08-02T22:11:15.473Z"
   },
   {
    "duration": 152,
    "start_time": "2022-08-02T22:11:35.065Z"
   },
   {
    "duration": 4,
    "start_time": "2022-08-02T22:12:03.135Z"
   },
   {
    "duration": 234,
    "start_time": "2022-08-02T22:12:25.685Z"
   },
   {
    "duration": 5,
    "start_time": "2022-08-02T22:14:43.190Z"
   },
   {
    "duration": 1249,
    "start_time": "2022-08-02T22:14:45.931Z"
   },
   {
    "duration": 1799,
    "start_time": "2022-08-02T22:14:50.128Z"
   },
   {
    "duration": 5,
    "start_time": "2022-08-02T22:15:18.183Z"
   },
   {
    "duration": 4,
    "start_time": "2022-08-02T22:15:21.511Z"
   },
   {
    "duration": 270,
    "start_time": "2022-08-02T22:15:23.192Z"
   },
   {
    "duration": 211,
    "start_time": "2022-08-02T22:15:34.709Z"
   },
   {
    "duration": 5,
    "start_time": "2022-08-02T22:15:48.025Z"
   },
   {
    "duration": 217,
    "start_time": "2022-08-02T22:16:01.628Z"
   },
   {
    "duration": 174,
    "start_time": "2022-08-02T22:16:18.483Z"
   },
   {
    "duration": 186,
    "start_time": "2022-08-02T22:16:26.231Z"
   },
   {
    "duration": 26,
    "start_time": "2022-08-02T22:17:27.376Z"
   },
   {
    "duration": 101,
    "start_time": "2022-08-02T22:19:47.977Z"
   },
   {
    "duration": 12,
    "start_time": "2022-08-02T22:24:51.803Z"
   },
   {
    "duration": 72,
    "start_time": "2022-08-02T22:25:09.393Z"
   },
   {
    "duration": 9,
    "start_time": "2022-08-02T22:25:43.837Z"
   },
   {
    "duration": 5,
    "start_time": "2022-08-02T22:28:01.292Z"
   },
   {
    "duration": 5,
    "start_time": "2022-08-02T22:28:07.765Z"
   },
   {
    "duration": 4,
    "start_time": "2022-08-02T22:29:00.442Z"
   },
   {
    "duration": 21,
    "start_time": "2022-08-02T22:29:09.432Z"
   },
   {
    "duration": 4,
    "start_time": "2022-08-02T22:29:18.385Z"
   },
   {
    "duration": 18,
    "start_time": "2022-08-02T22:29:22.875Z"
   },
   {
    "duration": 15,
    "start_time": "2022-08-02T22:29:24.531Z"
   },
   {
    "duration": 16,
    "start_time": "2022-08-02T22:29:26.229Z"
   },
   {
    "duration": 16,
    "start_time": "2022-08-02T22:29:27.684Z"
   },
   {
    "duration": 18,
    "start_time": "2022-08-02T22:29:29.030Z"
   },
   {
    "duration": 16,
    "start_time": "2022-08-02T22:29:30.257Z"
   },
   {
    "duration": 205,
    "start_time": "2022-08-02T22:31:45.489Z"
   },
   {
    "duration": 223,
    "start_time": "2022-08-02T22:31:59.043Z"
   },
   {
    "duration": 198,
    "start_time": "2022-08-02T22:32:02.286Z"
   },
   {
    "duration": 5,
    "start_time": "2022-08-02T22:32:52.106Z"
   },
   {
    "duration": 201,
    "start_time": "2022-08-02T22:32:54.442Z"
   },
   {
    "duration": 1153,
    "start_time": "2022-08-02T22:32:58.194Z"
   },
   {
    "duration": 31,
    "start_time": "2022-08-02T22:34:02.446Z"
   },
   {
    "duration": 26,
    "start_time": "2022-08-02T22:34:15.140Z"
   },
   {
    "duration": 1150,
    "start_time": "2022-08-02T22:34:22.244Z"
   },
   {
    "duration": 1260,
    "start_time": "2022-08-02T22:34:35.472Z"
   },
   {
    "duration": 255,
    "start_time": "2022-08-02T22:34:40.647Z"
   },
   {
    "duration": 16,
    "start_time": "2022-08-02T22:35:51.637Z"
   },
   {
    "duration": 19,
    "start_time": "2022-08-02T22:36:06.230Z"
   },
   {
    "duration": 19,
    "start_time": "2022-08-02T22:36:09.134Z"
   },
   {
    "duration": 20,
    "start_time": "2022-08-02T22:36:18.152Z"
   },
   {
    "duration": 16,
    "start_time": "2022-08-02T22:36:28.068Z"
   },
   {
    "duration": 171,
    "start_time": "2022-08-02T22:36:29.299Z"
   },
   {
    "duration": 1152,
    "start_time": "2022-08-02T22:36:58.386Z"
   },
   {
    "duration": 193,
    "start_time": "2022-08-02T22:37:06.853Z"
   },
   {
    "duration": 8,
    "start_time": "2022-08-02T22:51:22.547Z"
   },
   {
    "duration": 4,
    "start_time": "2022-08-02T22:51:27.250Z"
   },
   {
    "duration": 25,
    "start_time": "2022-08-02T22:59:35.599Z"
   },
   {
    "duration": 177,
    "start_time": "2022-08-02T22:59:37.835Z"
   },
   {
    "duration": 726,
    "start_time": "2022-08-02T23:02:36.901Z"
   },
   {
    "duration": 315,
    "start_time": "2022-08-02T23:02:37.629Z"
   },
   {
    "duration": 11,
    "start_time": "2022-08-02T23:02:37.946Z"
   },
   {
    "duration": 36,
    "start_time": "2022-08-02T23:02:37.960Z"
   },
   {
    "duration": 15,
    "start_time": "2022-08-02T23:02:37.998Z"
   },
   {
    "duration": 21,
    "start_time": "2022-08-02T23:02:38.015Z"
   },
   {
    "duration": 10,
    "start_time": "2022-08-02T23:02:38.038Z"
   },
   {
    "duration": 51,
    "start_time": "2022-08-02T23:02:38.049Z"
   },
   {
    "duration": 50,
    "start_time": "2022-08-02T23:02:38.101Z"
   },
   {
    "duration": 27,
    "start_time": "2022-08-02T23:02:38.153Z"
   },
   {
    "duration": 80,
    "start_time": "2022-08-02T23:02:38.182Z"
   },
   {
    "duration": 85,
    "start_time": "2022-08-02T23:02:38.264Z"
   },
   {
    "duration": 72,
    "start_time": "2022-08-02T23:02:38.351Z"
   },
   {
    "duration": 50,
    "start_time": "2022-08-02T23:02:38.425Z"
   },
   {
    "duration": 3,
    "start_time": "2022-08-02T23:02:38.476Z"
   },
   {
    "duration": 96,
    "start_time": "2022-08-02T23:02:38.482Z"
   },
   {
    "duration": 86,
    "start_time": "2022-08-02T23:02:38.580Z"
   },
   {
    "duration": 0,
    "start_time": "2022-08-02T23:02:38.668Z"
   },
   {
    "duration": 0,
    "start_time": "2022-08-02T23:02:38.670Z"
   },
   {
    "duration": 0,
    "start_time": "2022-08-02T23:02:38.671Z"
   },
   {
    "duration": 0,
    "start_time": "2022-08-02T23:02:38.673Z"
   },
   {
    "duration": 0,
    "start_time": "2022-08-02T23:02:38.674Z"
   },
   {
    "duration": 0,
    "start_time": "2022-08-02T23:02:38.675Z"
   },
   {
    "duration": 0,
    "start_time": "2022-08-02T23:02:38.676Z"
   },
   {
    "duration": 0,
    "start_time": "2022-08-02T23:02:38.677Z"
   },
   {
    "duration": 0,
    "start_time": "2022-08-02T23:02:38.679Z"
   },
   {
    "duration": 0,
    "start_time": "2022-08-02T23:02:38.681Z"
   },
   {
    "duration": 0,
    "start_time": "2022-08-02T23:02:38.682Z"
   },
   {
    "duration": 0,
    "start_time": "2022-08-02T23:02:38.683Z"
   },
   {
    "duration": 0,
    "start_time": "2022-08-02T23:02:38.711Z"
   },
   {
    "duration": 0,
    "start_time": "2022-08-02T23:02:38.712Z"
   },
   {
    "duration": 0,
    "start_time": "2022-08-02T23:02:38.713Z"
   },
   {
    "duration": 0,
    "start_time": "2022-08-02T23:02:38.714Z"
   },
   {
    "duration": 0,
    "start_time": "2022-08-02T23:02:38.715Z"
   },
   {
    "duration": 0,
    "start_time": "2022-08-02T23:02:38.716Z"
   },
   {
    "duration": 0,
    "start_time": "2022-08-02T23:02:38.717Z"
   },
   {
    "duration": 0,
    "start_time": "2022-08-02T23:02:38.718Z"
   },
   {
    "duration": 0,
    "start_time": "2022-08-02T23:02:38.719Z"
   },
   {
    "duration": 17,
    "start_time": "2022-08-02T23:03:58.078Z"
   },
   {
    "duration": 687,
    "start_time": "2022-08-02T23:04:21.637Z"
   },
   {
    "duration": 297,
    "start_time": "2022-08-02T23:04:22.326Z"
   },
   {
    "duration": 12,
    "start_time": "2022-08-02T23:04:22.625Z"
   },
   {
    "duration": 30,
    "start_time": "2022-08-02T23:04:22.639Z"
   },
   {
    "duration": 4,
    "start_time": "2022-08-02T23:04:22.673Z"
   },
   {
    "duration": 35,
    "start_time": "2022-08-02T23:04:22.679Z"
   },
   {
    "duration": 8,
    "start_time": "2022-08-02T23:04:22.716Z"
   },
   {
    "duration": 49,
    "start_time": "2022-08-02T23:04:22.725Z"
   },
   {
    "duration": 62,
    "start_time": "2022-08-02T23:04:22.776Z"
   },
   {
    "duration": 26,
    "start_time": "2022-08-02T23:04:22.840Z"
   },
   {
    "duration": 80,
    "start_time": "2022-08-02T23:04:22.868Z"
   },
   {
    "duration": 75,
    "start_time": "2022-08-02T23:04:22.950Z"
   },
   {
    "duration": 57,
    "start_time": "2022-08-02T23:04:23.027Z"
   },
   {
    "duration": 56,
    "start_time": "2022-08-02T23:04:23.087Z"
   },
   {
    "duration": 3,
    "start_time": "2022-08-02T23:04:23.145Z"
   },
   {
    "duration": 87,
    "start_time": "2022-08-02T23:04:23.149Z"
   },
   {
    "duration": 82,
    "start_time": "2022-08-02T23:04:23.238Z"
   },
   {
    "duration": 0,
    "start_time": "2022-08-02T23:04:23.322Z"
   },
   {
    "duration": 0,
    "start_time": "2022-08-02T23:04:23.323Z"
   },
   {
    "duration": 0,
    "start_time": "2022-08-02T23:04:23.325Z"
   },
   {
    "duration": 0,
    "start_time": "2022-08-02T23:04:23.326Z"
   },
   {
    "duration": 0,
    "start_time": "2022-08-02T23:04:23.327Z"
   },
   {
    "duration": 0,
    "start_time": "2022-08-02T23:04:23.328Z"
   },
   {
    "duration": 0,
    "start_time": "2022-08-02T23:04:23.329Z"
   },
   {
    "duration": 0,
    "start_time": "2022-08-02T23:04:23.330Z"
   },
   {
    "duration": 0,
    "start_time": "2022-08-02T23:04:23.331Z"
   },
   {
    "duration": 0,
    "start_time": "2022-08-02T23:04:23.332Z"
   },
   {
    "duration": 0,
    "start_time": "2022-08-02T23:04:23.334Z"
   },
   {
    "duration": 0,
    "start_time": "2022-08-02T23:04:23.335Z"
   },
   {
    "duration": 0,
    "start_time": "2022-08-02T23:04:23.336Z"
   },
   {
    "duration": 0,
    "start_time": "2022-08-02T23:04:23.337Z"
   },
   {
    "duration": 0,
    "start_time": "2022-08-02T23:04:23.338Z"
   },
   {
    "duration": 0,
    "start_time": "2022-08-02T23:04:23.339Z"
   },
   {
    "duration": 0,
    "start_time": "2022-08-02T23:04:23.340Z"
   },
   {
    "duration": 0,
    "start_time": "2022-08-02T23:04:23.341Z"
   },
   {
    "duration": 0,
    "start_time": "2022-08-02T23:04:23.343Z"
   },
   {
    "duration": 0,
    "start_time": "2022-08-02T23:04:23.343Z"
   },
   {
    "duration": 0,
    "start_time": "2022-08-02T23:04:23.345Z"
   },
   {
    "duration": 37,
    "start_time": "2022-08-02T23:06:46.337Z"
   },
   {
    "duration": 29,
    "start_time": "2022-08-02T23:06:52.733Z"
   },
   {
    "duration": 11,
    "start_time": "2022-08-02T23:08:14.436Z"
   },
   {
    "duration": 44,
    "start_time": "2022-08-02T23:08:25.065Z"
   },
   {
    "duration": 11,
    "start_time": "2022-08-02T23:09:05.031Z"
   },
   {
    "duration": 155,
    "start_time": "2022-08-02T23:12:01.937Z"
   },
   {
    "duration": 43,
    "start_time": "2022-08-02T23:12:09.472Z"
   },
   {
    "duration": 125,
    "start_time": "2022-08-02T23:12:12.194Z"
   },
   {
    "duration": 15,
    "start_time": "2022-08-02T23:12:16.761Z"
   },
   {
    "duration": 12,
    "start_time": "2022-08-02T23:12:25.571Z"
   },
   {
    "duration": 10,
    "start_time": "2022-08-02T23:12:41.792Z"
   },
   {
    "duration": 13,
    "start_time": "2022-08-02T23:12:46.690Z"
   },
   {
    "duration": 6,
    "start_time": "2022-08-02T23:13:08.170Z"
   },
   {
    "duration": 45,
    "start_time": "2022-08-02T23:13:11.505Z"
   },
   {
    "duration": 13,
    "start_time": "2022-08-02T23:13:15.681Z"
   },
   {
    "duration": 5,
    "start_time": "2022-08-02T23:13:17.832Z"
   },
   {
    "duration": 650,
    "start_time": "2022-08-02T23:13:40.961Z"
   },
   {
    "duration": 358,
    "start_time": "2022-08-02T23:13:41.613Z"
   },
   {
    "duration": 14,
    "start_time": "2022-08-02T23:13:41.972Z"
   },
   {
    "duration": 41,
    "start_time": "2022-08-02T23:13:41.988Z"
   },
   {
    "duration": 4,
    "start_time": "2022-08-02T23:13:42.031Z"
   },
   {
    "duration": 16,
    "start_time": "2022-08-02T23:13:42.037Z"
   },
   {
    "duration": 6,
    "start_time": "2022-08-02T23:13:42.055Z"
   },
   {
    "duration": 64,
    "start_time": "2022-08-02T23:13:42.063Z"
   },
   {
    "duration": 42,
    "start_time": "2022-08-02T23:13:42.129Z"
   },
   {
    "duration": 40,
    "start_time": "2022-08-02T23:13:42.174Z"
   },
   {
    "duration": 64,
    "start_time": "2022-08-02T23:13:42.216Z"
   },
   {
    "duration": 82,
    "start_time": "2022-08-02T23:13:42.282Z"
   },
   {
    "duration": 67,
    "start_time": "2022-08-02T23:13:42.366Z"
   },
   {
    "duration": 3,
    "start_time": "2022-08-02T23:13:42.435Z"
   },
   {
    "duration": 11,
    "start_time": "2022-08-02T23:13:42.440Z"
   },
   {
    "duration": 88,
    "start_time": "2022-08-02T23:13:42.452Z"
   },
   {
    "duration": 43,
    "start_time": "2022-08-02T23:13:42.542Z"
   },
   {
    "duration": 152,
    "start_time": "2022-08-02T23:13:42.587Z"
   },
   {
    "duration": 155,
    "start_time": "2022-08-02T23:13:42.741Z"
   },
   {
    "duration": 4,
    "start_time": "2022-08-02T23:13:42.910Z"
   },
   {
    "duration": 20,
    "start_time": "2022-08-02T23:13:42.917Z"
   },
   {
    "duration": 21,
    "start_time": "2022-08-02T23:13:42.939Z"
   },
   {
    "duration": 18,
    "start_time": "2022-08-02T23:13:42.962Z"
   },
   {
    "duration": 42,
    "start_time": "2022-08-02T23:13:42.982Z"
   },
   {
    "duration": 18,
    "start_time": "2022-08-02T23:13:43.026Z"
   },
   {
    "duration": 15,
    "start_time": "2022-08-02T23:13:43.046Z"
   },
   {
    "duration": 248,
    "start_time": "2022-08-02T23:13:43.063Z"
   },
   {
    "duration": 12,
    "start_time": "2022-08-02T23:13:43.315Z"
   },
   {
    "duration": 11,
    "start_time": "2022-08-02T23:13:43.329Z"
   },
   {
    "duration": 4,
    "start_time": "2022-08-02T23:13:43.343Z"
   },
   {
    "duration": 1264,
    "start_time": "2022-08-02T23:13:43.349Z"
   },
   {
    "duration": 0,
    "start_time": "2022-08-02T23:13:44.614Z"
   },
   {
    "duration": 0,
    "start_time": "2022-08-02T23:13:44.615Z"
   },
   {
    "duration": 0,
    "start_time": "2022-08-02T23:13:44.616Z"
   },
   {
    "duration": 0,
    "start_time": "2022-08-02T23:13:44.617Z"
   },
   {
    "duration": 0,
    "start_time": "2022-08-02T23:13:44.618Z"
   },
   {
    "duration": 0,
    "start_time": "2022-08-02T23:13:44.619Z"
   },
   {
    "duration": 0,
    "start_time": "2022-08-02T23:13:44.620Z"
   },
   {
    "duration": 11,
    "start_time": "2022-08-02T23:14:32.652Z"
   },
   {
    "duration": 44,
    "start_time": "2022-08-02T23:14:34.851Z"
   },
   {
    "duration": 150,
    "start_time": "2022-08-02T23:14:37.756Z"
   },
   {
    "duration": 195,
    "start_time": "2022-08-02T23:14:46.599Z"
   },
   {
    "duration": 1209,
    "start_time": "2022-08-02T23:15:04.749Z"
   },
   {
    "duration": 144,
    "start_time": "2022-08-02T23:15:17.182Z"
   },
   {
    "duration": 117,
    "start_time": "2022-08-02T23:15:26.665Z"
   },
   {
    "duration": 129,
    "start_time": "2022-08-02T23:15:36.674Z"
   },
   {
    "duration": 1137,
    "start_time": "2022-08-02T23:16:51.171Z"
   },
   {
    "duration": 5,
    "start_time": "2022-08-02T23:17:08.628Z"
   },
   {
    "duration": 198,
    "start_time": "2022-08-02T23:17:14.674Z"
   },
   {
    "duration": 181,
    "start_time": "2022-08-02T23:17:17.497Z"
   },
   {
    "duration": 197,
    "start_time": "2022-08-02T23:17:20.689Z"
   },
   {
    "duration": 178,
    "start_time": "2022-08-02T23:17:23.133Z"
   },
   {
    "duration": 27,
    "start_time": "2022-08-02T23:17:26.935Z"
   },
   {
    "duration": 173,
    "start_time": "2022-08-02T23:17:28.633Z"
   },
   {
    "duration": 17,
    "start_time": "2022-08-02T23:17:31.640Z"
   },
   {
    "duration": 175,
    "start_time": "2022-08-02T23:17:33.137Z"
   },
   {
    "duration": 647,
    "start_time": "2022-08-02T23:17:53.650Z"
   },
   {
    "duration": 316,
    "start_time": "2022-08-02T23:17:54.299Z"
   },
   {
    "duration": 11,
    "start_time": "2022-08-02T23:17:54.616Z"
   },
   {
    "duration": 39,
    "start_time": "2022-08-02T23:17:54.629Z"
   },
   {
    "duration": 4,
    "start_time": "2022-08-02T23:17:54.670Z"
   },
   {
    "duration": 13,
    "start_time": "2022-08-02T23:17:54.676Z"
   },
   {
    "duration": 20,
    "start_time": "2022-08-02T23:17:54.691Z"
   },
   {
    "duration": 47,
    "start_time": "2022-08-02T23:17:54.713Z"
   },
   {
    "duration": 66,
    "start_time": "2022-08-02T23:17:54.762Z"
   },
   {
    "duration": 27,
    "start_time": "2022-08-02T23:17:54.830Z"
   },
   {
    "duration": 80,
    "start_time": "2022-08-02T23:17:54.858Z"
   },
   {
    "duration": 78,
    "start_time": "2022-08-02T23:17:54.939Z"
   },
   {
    "duration": 58,
    "start_time": "2022-08-02T23:17:55.019Z"
   },
   {
    "duration": 2,
    "start_time": "2022-08-02T23:17:55.079Z"
   },
   {
    "duration": 5,
    "start_time": "2022-08-02T23:17:55.083Z"
   },
   {
    "duration": 10,
    "start_time": "2022-08-02T23:17:55.111Z"
   },
   {
    "duration": 41,
    "start_time": "2022-08-02T23:17:55.123Z"
   },
   {
    "duration": 176,
    "start_time": "2022-08-02T23:17:55.166Z"
   },
   {
    "duration": 130,
    "start_time": "2022-08-02T23:17:55.343Z"
   },
   {
    "duration": 4,
    "start_time": "2022-08-02T23:17:55.475Z"
   },
   {
    "duration": 32,
    "start_time": "2022-08-02T23:17:55.481Z"
   },
   {
    "duration": 16,
    "start_time": "2022-08-02T23:17:55.515Z"
   },
   {
    "duration": 17,
    "start_time": "2022-08-02T23:17:55.532Z"
   },
   {
    "duration": 16,
    "start_time": "2022-08-02T23:17:55.551Z"
   },
   {
    "duration": 49,
    "start_time": "2022-08-02T23:17:55.569Z"
   },
   {
    "duration": 16,
    "start_time": "2022-08-02T23:17:55.620Z"
   },
   {
    "duration": 240,
    "start_time": "2022-08-02T23:17:55.638Z"
   },
   {
    "duration": 11,
    "start_time": "2022-08-02T23:17:55.882Z"
   },
   {
    "duration": 23,
    "start_time": "2022-08-02T23:17:55.895Z"
   },
   {
    "duration": 10,
    "start_time": "2022-08-02T23:17:55.920Z"
   },
   {
    "duration": 210,
    "start_time": "2022-08-02T23:17:55.931Z"
   },
   {
    "duration": 244,
    "start_time": "2022-08-02T23:17:56.143Z"
   },
   {
    "duration": 218,
    "start_time": "2022-08-02T23:17:56.389Z"
   },
   {
    "duration": 189,
    "start_time": "2022-08-02T23:17:56.610Z"
   },
   {
    "duration": 27,
    "start_time": "2022-08-02T23:17:56.809Z"
   },
   {
    "duration": 194,
    "start_time": "2022-08-02T23:17:56.838Z"
   },
   {
    "duration": 15,
    "start_time": "2022-08-02T23:17:57.034Z"
   },
   {
    "duration": 196,
    "start_time": "2022-08-02T23:17:57.051Z"
   },
   {
    "duration": 182,
    "start_time": "2022-08-02T23:22:09.368Z"
   },
   {
    "duration": 46,
    "start_time": "2022-08-03T02:32:58.646Z"
   },
   {
    "duration": 881,
    "start_time": "2022-08-03T02:33:06.014Z"
   },
   {
    "duration": 357,
    "start_time": "2022-08-03T02:33:06.897Z"
   },
   {
    "duration": 11,
    "start_time": "2022-08-03T02:33:07.255Z"
   },
   {
    "duration": 65,
    "start_time": "2022-08-03T02:33:07.268Z"
   },
   {
    "duration": 4,
    "start_time": "2022-08-03T02:33:07.335Z"
   },
   {
    "duration": 17,
    "start_time": "2022-08-03T02:33:07.340Z"
   },
   {
    "duration": 9,
    "start_time": "2022-08-03T02:33:07.359Z"
   },
   {
    "duration": 57,
    "start_time": "2022-08-03T02:33:07.369Z"
   },
   {
    "duration": 39,
    "start_time": "2022-08-03T02:33:07.427Z"
   },
   {
    "duration": 25,
    "start_time": "2022-08-03T02:33:07.487Z"
   },
   {
    "duration": 90,
    "start_time": "2022-08-03T02:33:07.513Z"
   },
   {
    "duration": 83,
    "start_time": "2022-08-03T02:33:07.605Z"
   },
   {
    "duration": 53,
    "start_time": "2022-08-03T02:33:07.690Z"
   },
   {
    "duration": 2,
    "start_time": "2022-08-03T02:33:07.747Z"
   },
   {
    "duration": 8,
    "start_time": "2022-08-03T02:33:07.751Z"
   },
   {
    "duration": 31,
    "start_time": "2022-08-03T02:33:07.761Z"
   },
   {
    "duration": 44,
    "start_time": "2022-08-03T02:33:07.793Z"
   },
   {
    "duration": 10,
    "start_time": "2022-08-03T02:33:07.838Z"
   },
   {
    "duration": 157,
    "start_time": "2022-08-03T02:33:07.850Z"
   },
   {
    "duration": 171,
    "start_time": "2022-08-03T02:33:08.009Z"
   },
   {
    "duration": 3,
    "start_time": "2022-08-03T02:33:08.187Z"
   },
   {
    "duration": 22,
    "start_time": "2022-08-03T02:33:08.191Z"
   },
   {
    "duration": 14,
    "start_time": "2022-08-03T02:33:08.215Z"
   },
   {
    "duration": 15,
    "start_time": "2022-08-03T02:33:08.231Z"
   },
   {
    "duration": 41,
    "start_time": "2022-08-03T02:33:08.248Z"
   },
   {
    "duration": 16,
    "start_time": "2022-08-03T02:33:08.291Z"
   },
   {
    "duration": 14,
    "start_time": "2022-08-03T02:33:08.309Z"
   },
   {
    "duration": 230,
    "start_time": "2022-08-03T02:33:08.326Z"
   },
   {
    "duration": 10,
    "start_time": "2022-08-03T02:33:08.558Z"
   },
   {
    "duration": 26,
    "start_time": "2022-08-03T02:33:08.570Z"
   },
   {
    "duration": 12,
    "start_time": "2022-08-03T02:33:08.598Z"
   },
   {
    "duration": 217,
    "start_time": "2022-08-03T02:33:08.613Z"
   },
   {
    "duration": 256,
    "start_time": "2022-08-03T02:33:08.832Z"
   },
   {
    "duration": 208,
    "start_time": "2022-08-03T02:33:09.090Z"
   },
   {
    "duration": 189,
    "start_time": "2022-08-03T02:33:09.300Z"
   },
   {
    "duration": 24,
    "start_time": "2022-08-03T02:33:09.490Z"
   },
   {
    "duration": 186,
    "start_time": "2022-08-03T02:33:09.515Z"
   },
   {
    "duration": 15,
    "start_time": "2022-08-03T02:33:09.703Z"
   },
   {
    "duration": 187,
    "start_time": "2022-08-03T02:33:09.719Z"
   },
   {
    "duration": 629,
    "start_time": "2022-08-03T03:10:30.623Z"
   },
   {
    "duration": 292,
    "start_time": "2022-08-03T03:10:31.254Z"
   },
   {
    "duration": 14,
    "start_time": "2022-08-03T03:10:31.549Z"
   },
   {
    "duration": 66,
    "start_time": "2022-08-03T03:10:31.566Z"
   },
   {
    "duration": 5,
    "start_time": "2022-08-03T03:10:31.635Z"
   },
   {
    "duration": 14,
    "start_time": "2022-08-03T03:10:31.642Z"
   },
   {
    "duration": 31,
    "start_time": "2022-08-03T03:10:31.657Z"
   },
   {
    "duration": 64,
    "start_time": "2022-08-03T03:10:31.690Z"
   },
   {
    "duration": 53,
    "start_time": "2022-08-03T03:10:31.756Z"
   },
   {
    "duration": 24,
    "start_time": "2022-08-03T03:10:31.811Z"
   },
   {
    "duration": 75,
    "start_time": "2022-08-03T03:10:31.837Z"
   },
   {
    "duration": 100,
    "start_time": "2022-08-03T03:10:31.914Z"
   },
   {
    "duration": 81,
    "start_time": "2022-08-03T03:10:32.015Z"
   },
   {
    "duration": 3,
    "start_time": "2022-08-03T03:10:32.098Z"
   },
   {
    "duration": 24,
    "start_time": "2022-08-03T03:10:32.103Z"
   },
   {
    "duration": 15,
    "start_time": "2022-08-03T03:10:32.129Z"
   },
   {
    "duration": 50,
    "start_time": "2022-08-03T03:10:32.146Z"
   },
   {
    "duration": 137,
    "start_time": "2022-08-03T03:10:32.197Z"
   },
   {
    "duration": 128,
    "start_time": "2022-08-03T03:10:32.335Z"
   },
   {
    "duration": 3,
    "start_time": "2022-08-03T03:10:32.465Z"
   },
   {
    "duration": 29,
    "start_time": "2022-08-03T03:10:32.470Z"
   },
   {
    "duration": 14,
    "start_time": "2022-08-03T03:10:32.501Z"
   },
   {
    "duration": 16,
    "start_time": "2022-08-03T03:10:32.516Z"
   },
   {
    "duration": 55,
    "start_time": "2022-08-03T03:10:32.533Z"
   },
   {
    "duration": 23,
    "start_time": "2022-08-03T03:10:32.589Z"
   },
   {
    "duration": 31,
    "start_time": "2022-08-03T03:10:32.614Z"
   },
   {
    "duration": 267,
    "start_time": "2022-08-03T03:10:32.647Z"
   },
   {
    "duration": 10,
    "start_time": "2022-08-03T03:10:32.917Z"
   },
   {
    "duration": 15,
    "start_time": "2022-08-03T03:10:32.929Z"
   },
   {
    "duration": 5,
    "start_time": "2022-08-03T03:10:32.946Z"
   },
   {
    "duration": 204,
    "start_time": "2022-08-03T03:10:32.953Z"
   },
   {
    "duration": 229,
    "start_time": "2022-08-03T03:10:33.159Z"
   },
   {
    "duration": 196,
    "start_time": "2022-08-03T03:10:33.390Z"
   },
   {
    "duration": 185,
    "start_time": "2022-08-03T03:10:33.588Z"
   },
   {
    "duration": 35,
    "start_time": "2022-08-03T03:10:33.775Z"
   },
   {
    "duration": 211,
    "start_time": "2022-08-03T03:10:33.812Z"
   },
   {
    "duration": 17,
    "start_time": "2022-08-03T03:10:34.025Z"
   },
   {
    "duration": 204,
    "start_time": "2022-08-03T03:10:34.045Z"
   },
   {
    "duration": 6,
    "start_time": "2022-08-03T03:10:51.185Z"
   },
   {
    "duration": 39,
    "start_time": "2022-08-03T03:11:00.770Z"
   },
   {
    "duration": 10,
    "start_time": "2022-08-03T03:13:12.523Z"
   },
   {
    "duration": 25,
    "start_time": "2022-08-03T03:13:16.782Z"
   },
   {
    "duration": 6,
    "start_time": "2022-08-03T03:13:22.240Z"
   },
   {
    "duration": 621,
    "start_time": "2022-08-03T03:34:43.821Z"
   },
   {
    "duration": 271,
    "start_time": "2022-08-03T03:34:44.444Z"
   },
   {
    "duration": 10,
    "start_time": "2022-08-03T03:34:44.717Z"
   },
   {
    "duration": 47,
    "start_time": "2022-08-03T03:34:44.729Z"
   },
   {
    "duration": 5,
    "start_time": "2022-08-03T03:34:44.788Z"
   },
   {
    "duration": 15,
    "start_time": "2022-08-03T03:34:44.795Z"
   },
   {
    "duration": 6,
    "start_time": "2022-08-03T03:34:44.812Z"
   },
   {
    "duration": 50,
    "start_time": "2022-08-03T03:34:44.820Z"
   },
   {
    "duration": 36,
    "start_time": "2022-08-03T03:34:44.886Z"
   },
   {
    "duration": 25,
    "start_time": "2022-08-03T03:34:44.923Z"
   },
   {
    "duration": 75,
    "start_time": "2022-08-03T03:34:44.955Z"
   },
   {
    "duration": 79,
    "start_time": "2022-08-03T03:34:45.032Z"
   },
   {
    "duration": 85,
    "start_time": "2022-08-03T03:34:45.113Z"
   },
   {
    "duration": 3,
    "start_time": "2022-08-03T03:34:45.201Z"
   },
   {
    "duration": 10,
    "start_time": "2022-08-03T03:34:45.205Z"
   },
   {
    "duration": 18,
    "start_time": "2022-08-03T03:34:45.217Z"
   },
   {
    "duration": 40,
    "start_time": "2022-08-03T03:34:45.237Z"
   },
   {
    "duration": 141,
    "start_time": "2022-08-03T03:34:45.287Z"
   },
   {
    "duration": 121,
    "start_time": "2022-08-03T03:34:45.429Z"
   },
   {
    "duration": 4,
    "start_time": "2022-08-03T03:34:45.551Z"
   },
   {
    "duration": 31,
    "start_time": "2022-08-03T03:34:45.557Z"
   },
   {
    "duration": 15,
    "start_time": "2022-08-03T03:34:45.590Z"
   },
   {
    "duration": 18,
    "start_time": "2022-08-03T03:34:45.607Z"
   },
   {
    "duration": 17,
    "start_time": "2022-08-03T03:34:45.627Z"
   },
   {
    "duration": 58,
    "start_time": "2022-08-03T03:34:45.646Z"
   },
   {
    "duration": 16,
    "start_time": "2022-08-03T03:34:45.706Z"
   },
   {
    "duration": 205,
    "start_time": "2022-08-03T03:34:45.724Z"
   },
   {
    "duration": 11,
    "start_time": "2022-08-03T03:34:45.931Z"
   },
   {
    "duration": 9,
    "start_time": "2022-08-03T03:34:45.943Z"
   },
   {
    "duration": 33,
    "start_time": "2022-08-03T03:34:45.954Z"
   },
   {
    "duration": 227,
    "start_time": "2022-08-03T03:34:45.988Z"
   },
   {
    "duration": 295,
    "start_time": "2022-08-03T03:34:46.217Z"
   },
   {
    "duration": 232,
    "start_time": "2022-08-03T03:34:46.514Z"
   },
   {
    "duration": 185,
    "start_time": "2022-08-03T03:34:46.748Z"
   },
   {
    "duration": 24,
    "start_time": "2022-08-03T03:34:46.935Z"
   },
   {
    "duration": 198,
    "start_time": "2022-08-03T03:34:46.960Z"
   },
   {
    "duration": 30,
    "start_time": "2022-08-03T03:34:47.160Z"
   },
   {
    "duration": 168,
    "start_time": "2022-08-03T03:34:47.191Z"
   },
   {
    "duration": 51,
    "start_time": "2022-08-03T03:41:50.524Z"
   },
   {
    "duration": 826,
    "start_time": "2022-08-03T03:41:55.741Z"
   },
   {
    "duration": 388,
    "start_time": "2022-08-03T03:41:56.569Z"
   },
   {
    "duration": 9,
    "start_time": "2022-08-03T03:41:56.958Z"
   },
   {
    "duration": 38,
    "start_time": "2022-08-03T03:41:56.969Z"
   },
   {
    "duration": 10,
    "start_time": "2022-08-03T03:41:57.009Z"
   },
   {
    "duration": 11,
    "start_time": "2022-08-03T03:41:57.021Z"
   },
   {
    "duration": 9,
    "start_time": "2022-08-03T03:41:57.034Z"
   },
   {
    "duration": 39,
    "start_time": "2022-08-03T03:41:57.045Z"
   },
   {
    "duration": 54,
    "start_time": "2022-08-03T03:41:57.086Z"
   },
   {
    "duration": 20,
    "start_time": "2022-08-03T03:41:57.143Z"
   },
   {
    "duration": 65,
    "start_time": "2022-08-03T03:41:57.164Z"
   },
   {
    "duration": 73,
    "start_time": "2022-08-03T03:41:57.231Z"
   },
   {
    "duration": 61,
    "start_time": "2022-08-03T03:41:57.313Z"
   },
   {
    "duration": 54,
    "start_time": "2022-08-03T03:41:57.376Z"
   },
   {
    "duration": 3,
    "start_time": "2022-08-03T03:41:57.431Z"
   },
   {
    "duration": 14,
    "start_time": "2022-08-03T03:41:57.436Z"
   },
   {
    "duration": 41,
    "start_time": "2022-08-03T03:41:57.452Z"
   },
   {
    "duration": 143,
    "start_time": "2022-08-03T03:41:57.495Z"
   },
   {
    "duration": 120,
    "start_time": "2022-08-03T03:41:57.639Z"
   },
   {
    "duration": 3,
    "start_time": "2022-08-03T03:41:57.761Z"
   },
   {
    "duration": 17,
    "start_time": "2022-08-03T03:41:57.766Z"
   },
   {
    "duration": 39,
    "start_time": "2022-08-03T03:41:57.785Z"
   },
   {
    "duration": 15,
    "start_time": "2022-08-03T03:41:57.826Z"
   },
   {
    "duration": 13,
    "start_time": "2022-08-03T03:41:57.843Z"
   },
   {
    "duration": 15,
    "start_time": "2022-08-03T03:41:57.857Z"
   },
   {
    "duration": 39,
    "start_time": "2022-08-03T03:41:57.873Z"
   },
   {
    "duration": 210,
    "start_time": "2022-08-03T03:41:57.917Z"
   },
   {
    "duration": 9,
    "start_time": "2022-08-03T03:41:58.130Z"
   },
   {
    "duration": 9,
    "start_time": "2022-08-03T03:41:58.140Z"
   },
   {
    "duration": 5,
    "start_time": "2022-08-03T03:41:58.150Z"
   },
   {
    "duration": 206,
    "start_time": "2022-08-03T03:41:58.156Z"
   },
   {
    "duration": 232,
    "start_time": "2022-08-03T03:41:58.363Z"
   },
   {
    "duration": 206,
    "start_time": "2022-08-03T03:41:58.598Z"
   },
   {
    "duration": 171,
    "start_time": "2022-08-03T03:41:58.817Z"
   },
   {
    "duration": 32,
    "start_time": "2022-08-03T03:41:58.989Z"
   },
   {
    "duration": 190,
    "start_time": "2022-08-03T03:41:59.025Z"
   },
   {
    "duration": 17,
    "start_time": "2022-08-03T03:41:59.217Z"
   },
   {
    "duration": 190,
    "start_time": "2022-08-03T03:41:59.236Z"
   },
   {
    "duration": 46,
    "start_time": "2022-08-03T03:42:26.001Z"
   },
   {
    "duration": 114,
    "start_time": "2022-08-03T03:43:49.941Z"
   },
   {
    "duration": 4,
    "start_time": "2022-08-03T03:48:45.478Z"
   },
   {
    "duration": 6,
    "start_time": "2022-08-03T03:48:47.021Z"
   },
   {
    "duration": 5,
    "start_time": "2022-08-03T03:49:06.482Z"
   },
   {
    "duration": 101,
    "start_time": "2022-08-03T03:49:08.350Z"
   },
   {
    "duration": 5,
    "start_time": "2022-08-03T03:49:38.925Z"
   },
   {
    "duration": 190,
    "start_time": "2022-08-03T03:49:40.480Z"
   },
   {
    "duration": 169,
    "start_time": "2022-08-03T03:49:46.325Z"
   },
   {
    "duration": 169,
    "start_time": "2022-08-03T03:49:50.081Z"
   },
   {
    "duration": 40,
    "start_time": "2022-08-03T03:49:53.393Z"
   },
   {
    "duration": 9,
    "start_time": "2022-08-03T03:50:03.562Z"
   },
   {
    "duration": 19,
    "start_time": "2022-08-03T03:52:07.264Z"
   },
   {
    "duration": 21,
    "start_time": "2022-08-03T03:52:11.144Z"
   },
   {
    "duration": 40,
    "start_time": "2022-08-03T03:54:28.247Z"
   },
   {
    "duration": 116,
    "start_time": "2022-08-03T03:56:16.833Z"
   },
   {
    "duration": 117,
    "start_time": "2022-08-03T03:56:33.029Z"
   },
   {
    "duration": 180,
    "start_time": "2022-08-03T03:56:48.766Z"
   },
   {
    "duration": 108,
    "start_time": "2022-08-03T03:57:12.047Z"
   },
   {
    "duration": 106,
    "start_time": "2022-08-03T04:01:01.027Z"
   },
   {
    "duration": 694,
    "start_time": "2022-08-03T04:05:26.238Z"
   },
   {
    "duration": 317,
    "start_time": "2022-08-03T04:05:26.935Z"
   },
   {
    "duration": 11,
    "start_time": "2022-08-03T04:05:27.253Z"
   },
   {
    "duration": 36,
    "start_time": "2022-08-03T04:05:27.266Z"
   },
   {
    "duration": 8,
    "start_time": "2022-08-03T04:05:27.304Z"
   },
   {
    "duration": 31,
    "start_time": "2022-08-03T04:05:27.313Z"
   },
   {
    "duration": 11,
    "start_time": "2022-08-03T04:05:27.345Z"
   },
   {
    "duration": 25,
    "start_time": "2022-08-03T04:05:27.358Z"
   },
   {
    "duration": 74,
    "start_time": "2022-08-03T04:05:27.384Z"
   },
   {
    "duration": 21,
    "start_time": "2022-08-03T04:05:27.461Z"
   },
   {
    "duration": 96,
    "start_time": "2022-08-03T04:05:27.484Z"
   },
   {
    "duration": 74,
    "start_time": "2022-08-03T04:05:27.582Z"
   },
   {
    "duration": 72,
    "start_time": "2022-08-03T04:05:27.658Z"
   },
   {
    "duration": 40,
    "start_time": "2022-08-03T04:05:27.732Z"
   },
   {
    "duration": 2,
    "start_time": "2022-08-03T04:05:27.774Z"
   },
   {
    "duration": 34,
    "start_time": "2022-08-03T04:05:27.778Z"
   },
   {
    "duration": 40,
    "start_time": "2022-08-03T04:05:27.825Z"
   },
   {
    "duration": 130,
    "start_time": "2022-08-03T04:05:27.867Z"
   },
   {
    "duration": 107,
    "start_time": "2022-08-03T04:05:28.005Z"
   },
   {
    "duration": 7,
    "start_time": "2022-08-03T04:05:28.113Z"
   },
   {
    "duration": 19,
    "start_time": "2022-08-03T04:05:28.121Z"
   },
   {
    "duration": 20,
    "start_time": "2022-08-03T04:05:28.142Z"
   },
   {
    "duration": 15,
    "start_time": "2022-08-03T04:05:28.163Z"
   },
   {
    "duration": 51,
    "start_time": "2022-08-03T04:05:28.179Z"
   },
   {
    "duration": 18,
    "start_time": "2022-08-03T04:05:28.232Z"
   },
   {
    "duration": 13,
    "start_time": "2022-08-03T04:05:28.252Z"
   },
   {
    "duration": 246,
    "start_time": "2022-08-03T04:05:28.266Z"
   },
   {
    "duration": 15,
    "start_time": "2022-08-03T04:05:28.520Z"
   },
   {
    "duration": 9,
    "start_time": "2022-08-03T04:05:28.536Z"
   },
   {
    "duration": 6,
    "start_time": "2022-08-03T04:05:28.546Z"
   },
   {
    "duration": 190,
    "start_time": "2022-08-03T04:05:28.554Z"
   },
   {
    "duration": 219,
    "start_time": "2022-08-03T04:05:28.746Z"
   },
   {
    "duration": 196,
    "start_time": "2022-08-03T04:05:28.966Z"
   },
   {
    "duration": 197,
    "start_time": "2022-08-03T04:05:29.164Z"
   },
   {
    "duration": 10,
    "start_time": "2022-08-03T04:05:29.363Z"
   },
   {
    "duration": 196,
    "start_time": "2022-08-03T04:05:29.374Z"
   },
   {
    "duration": 6,
    "start_time": "2022-08-03T04:05:29.572Z"
   },
   {
    "duration": 193,
    "start_time": "2022-08-03T04:05:29.579Z"
   },
   {
    "duration": 688,
    "start_time": "2022-08-03T04:05:58.362Z"
   },
   {
    "duration": 296,
    "start_time": "2022-08-03T04:05:59.051Z"
   },
   {
    "duration": 10,
    "start_time": "2022-08-03T04:05:59.349Z"
   },
   {
    "duration": 59,
    "start_time": "2022-08-03T04:05:59.361Z"
   },
   {
    "duration": 5,
    "start_time": "2022-08-03T04:05:59.428Z"
   },
   {
    "duration": 13,
    "start_time": "2022-08-03T04:05:59.435Z"
   },
   {
    "duration": 13,
    "start_time": "2022-08-03T04:05:59.450Z"
   },
   {
    "duration": 22,
    "start_time": "2022-08-03T04:05:59.465Z"
   },
   {
    "duration": 49,
    "start_time": "2022-08-03T04:05:59.489Z"
   },
   {
    "duration": 19,
    "start_time": "2022-08-03T04:05:59.541Z"
   },
   {
    "duration": 78,
    "start_time": "2022-08-03T04:05:59.561Z"
   },
   {
    "duration": 59,
    "start_time": "2022-08-03T04:05:59.640Z"
   },
   {
    "duration": 59,
    "start_time": "2022-08-03T04:05:59.700Z"
   },
   {
    "duration": 67,
    "start_time": "2022-08-03T04:05:59.761Z"
   },
   {
    "duration": 9,
    "start_time": "2022-08-03T04:05:59.830Z"
   },
   {
    "duration": 11,
    "start_time": "2022-08-03T04:05:59.841Z"
   },
   {
    "duration": 40,
    "start_time": "2022-08-03T04:05:59.853Z"
   },
   {
    "duration": 151,
    "start_time": "2022-08-03T04:05:59.895Z"
   },
   {
    "duration": 96,
    "start_time": "2022-08-03T04:06:00.048Z"
   },
   {
    "duration": 4,
    "start_time": "2022-08-03T04:06:00.146Z"
   },
   {
    "duration": 24,
    "start_time": "2022-08-03T04:06:00.152Z"
   },
   {
    "duration": 38,
    "start_time": "2022-08-03T04:06:00.178Z"
   },
   {
    "duration": 33,
    "start_time": "2022-08-03T04:06:00.217Z"
   },
   {
    "duration": 24,
    "start_time": "2022-08-03T04:06:00.252Z"
   },
   {
    "duration": 33,
    "start_time": "2022-08-03T04:06:00.278Z"
   },
   {
    "duration": 30,
    "start_time": "2022-08-03T04:06:00.313Z"
   },
   {
    "duration": 222,
    "start_time": "2022-08-03T04:06:00.345Z"
   },
   {
    "duration": 10,
    "start_time": "2022-08-03T04:06:00.570Z"
   },
   {
    "duration": 55,
    "start_time": "2022-08-03T04:06:00.582Z"
   },
   {
    "duration": 10,
    "start_time": "2022-08-03T04:06:00.638Z"
   },
   {
    "duration": 224,
    "start_time": "2022-08-03T04:06:00.650Z"
   },
   {
    "duration": 229,
    "start_time": "2022-08-03T04:06:00.876Z"
   },
   {
    "duration": 179,
    "start_time": "2022-08-03T04:06:01.119Z"
   },
   {
    "duration": 181,
    "start_time": "2022-08-03T04:06:01.314Z"
   },
   {
    "duration": 31,
    "start_time": "2022-08-03T04:06:01.497Z"
   },
   {
    "duration": 198,
    "start_time": "2022-08-03T04:06:01.532Z"
   },
   {
    "duration": 6,
    "start_time": "2022-08-03T04:06:01.732Z"
   },
   {
    "duration": 199,
    "start_time": "2022-08-03T04:06:01.739Z"
   },
   {
    "duration": 73,
    "start_time": "2022-08-03T04:07:25.193Z"
   }
  ],
  "colab": {
   "collapsed_sections": [
    "E0vqbgi9ay0H",
    "VUC88oWjTJw2",
    "atZAxtq4_Zcu"
   ],
   "name": "EmptyFinalProject.ipynb\"",
   "provenance": []
  },
  "kernelspec": {
   "display_name": "Python 3 (ipykernel)",
   "language": "python",
   "name": "python3"
  },
  "language_info": {
   "codemirror_mode": {
    "name": "ipython",
    "version": 3
   },
   "file_extension": ".py",
   "mimetype": "text/x-python",
   "name": "python",
   "nbconvert_exporter": "python",
   "pygments_lexer": "ipython3",
   "version": "3.9.5"
  },
  "toc": {
   "base_numbering": 1,
   "nav_menu": {},
   "number_sections": true,
   "sideBar": true,
   "skip_h1_title": true,
   "title_cell": "Table of Contents",
   "title_sidebar": "Contents",
   "toc_cell": false,
   "toc_position": {},
   "toc_section_display": true,
   "toc_window_display": false
  }
 },
 "nbformat": 4,
 "nbformat_minor": 4
}
