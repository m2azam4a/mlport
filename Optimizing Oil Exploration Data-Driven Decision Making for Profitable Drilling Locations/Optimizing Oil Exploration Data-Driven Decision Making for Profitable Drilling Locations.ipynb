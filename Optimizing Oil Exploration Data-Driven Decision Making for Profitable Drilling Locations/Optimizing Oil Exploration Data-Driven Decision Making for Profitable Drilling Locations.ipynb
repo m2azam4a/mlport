{
 "cells": [
  {
   "cell_type": "markdown",
   "metadata": {},
   "source": [
    "<div style=\"border:solid black 2px; padding: 20px\">\n",
    "\n",
    "# Reviewer's feedback v.1\n",
    "\n",
    "**Halo Azam**\n",
    "    \n",
    "**Greetings from Chamdani**\n",
    "\n",
    "Terima kasih telah mengirimkan project kamu dengan ini kamu sudah memulai sebuah langkah yang luar biasa saat ini. Disini saya akan mereview proyek kamu ya.\n",
    "\n",
    "Saya akan memberikan beberapa komentar dan feedback seperti dibawah ini, **mohon jangan dipindah, dirubah, maupun dihapus ya :).**\n",
    "    \n",
    "> Mohon diperhatikan bahwa apabila ada temuan atau kesalahan yang sama namun tidak ada komentar perbaikan disana, itu berarti kamu masih tetap harus memperbaikinya yaa.\n",
    "\n",
    "Komentar yang saya berikan akan muncul dalam warna hijau, kuning, atau pun merah seperti ini:\n",
    "\n",
    "</div>"
   ]
  },
  {
   "cell_type": "markdown",
   "metadata": {},
   "source": [
    "<div class=\"alert alert-success\">\n",
    "<b>Chamdani's comment v.*</b> <a class=\"tocSkip\"></a>\n",
    "\n",
    "Bagus, semua berjalan lancar.\n",
    "\n",
    "</div>"
   ]
  },
  {
   "cell_type": "markdown",
   "metadata": {},
   "source": [
    "<div class=\"alert alert-warning\">\n",
    "<b>Chamdani's comment v.*</b> <a class=\"tocSkip\"></a>\n",
    "\n",
    "Ada beberapa catatan.\n",
    "\n",
    "</div>"
   ]
  },
  {
   "cell_type": "markdown",
   "metadata": {},
   "source": [
    "<div class=\"alert alert-danger\">\n",
    "<b>Chamdani's comment v.*</b> <a class=\"tocSkip\"></a>\n",
    "\n",
    "Perlu beberapa perbaikan.\n",
    "\n",
    "</div>"
   ]
  },
  {
   "cell_type": "markdown",
   "metadata": {},
   "source": [
    "<div class=\"alert alert-info\">\n",
    "<b>Chamdani's info v.1</b> <a class=\"tocSkip\"></a>\n",
    "\n",
    "Catatan umum:\n",
    "* Fungsi `print` tidak diperlukan untuk mencetak suatu nilai\n",
    "* Lebih baik tulis kode pada bagian akhir cell code untuk menampilkan output tanpa `print`\n",
    "* Perintah soal yang ada dalam tanda kurung siku `[...]` sebaiknya dihilangkan\n",
    "* Sangat disarankan untuk menggunakan cell markdown untuk memberikan deskripsi temuan atau kesimpulan.\n",
    "* Tidak disarankan menggunakan cell code untuk memberikan penjelasan / deskripsi.\n",
    "* Untuk menghindari galat pada notebook project kamu. Batasi jumlah output yang dikeluarkan setiap kode dengan batas max 10 baris data.\n",
    "\n",
    "</div>"
   ]
  },
  {
   "cell_type": "markdown",
   "metadata": {},
   "source": [
    "<div style=\"border:solid gray 5px; padding: 20px\" class=\"alert alert-warning\">\n",
    "\n",
    "**INGATLAH** \n",
    "* Project kamu tidak akan bisa diterima bila kamu masih memiliki feedback berwarna merah. \n",
    "* Kamu hanya memiliki 3 kali kesempatan iterasi submission disetiap projectnya \n",
    "* Kamu dapat memperbaiki dan menyelesaikan feedback **pertama** dari saya tidak lebih dari 1\\*24 jam setiap iterasinya. *Untuk membantu saya mengetahui apakah ada kesulitan dari feedback project kamu*\n",
    "* Jika merasa kesulitan kamu dapat menuliskan responmu atas feedback saya menggunakan blok markdown warna biru yaa."
   ]
  },
  {
   "cell_type": "markdown",
   "metadata": {},
   "source": [
    "Kamu dapat menjawab saya dengan menggunakan blok berwarna biru seperti ini"
   ]
  },
  {
   "cell_type": "markdown",
   "metadata": {},
   "source": [
    "<div class=\"alert alert-info\">\n",
    "<b>Student answer</b> <a class=\"tocSkip\"></a>\n",
    "\n",
    "Siap kak.\n",
    "\n",
    "</div>"
   ]
  },
  {
   "cell_type": "markdown",
   "metadata": {},
   "source": [
    "<div style=\"border:solid black 2px; padding: 20px\" class=\"alert alert-success\">\n",
    "    \n",
    "# General feedback v.1 *Project Accepted*\n",
    "\n",
    "Terima kasih banyak telah mengirimkan proyek Anda! \n",
    "<br>\n",
    "    \n",
    "Secara keseluruhan, proyek Anda **SANGAT** mengesankan. Semoga apa yang kamu pelajari dalam project ini dapat membantu meningkatkan kemampuanmu. Pertahankan apa yang sudah bagus, dan tingkatkan apa yang menurutmu masih perlu ditingkatkan. Semoga berhasil pada project selanjutnya yaa :)\n",
    "\n",
    "**TETAP SEMANGAT!!**\n",
    "    \n",
    "</div>"
   ]
  },
  {
   "cell_type": "markdown",
   "metadata": {},
   "source": [
    "# OilyGiant: Lokasi Penggalian Sumur Minyak Baru"
   ]
  },
  {
   "cell_type": "markdown",
   "metadata": {},
   "source": [
    "## Pendahuluan"
   ]
  },
  {
   "cell_type": "markdown",
   "metadata": {},
   "source": [
    "Perusahaan OilyGiant ingin menentukan lokasi penggalian minyak baru. Perusahaan ingin menganalisa tiga region yang dianggap berpotensi menguntungkan dan memilih region mana yang akan dipilih sebagai keputusan akhir. Region yang dipilih ialah region yang mampu memberikan pendapatan tertinggi namun tetap mempertimbangkan resikonya.\n",
    "\n",
    "Berikut adalah kondisi yang ditetapkan dalam perhitungan ini:\n",
    "1. Anggaran pengembangan 200 titik sumur adalah 100 juta USD\n",
    "2 Diasumsikan biaya pengembangan per titik sumur sama besar\n",
    "3. Harga minyak per barel adalah 4.5 USD\n",
    "4. Model terbaik yang digunakan adalah Linear Regression\n",
    "\n",
    "Dalam melakukan analisa, perusahaan menyediakan data parameter dan kualitas titik sumur yang dinyatakan dalam cadangan minyak untuk setiap region. Untuk menyelesaikan tugas tersebut diperlukan tahap-tahapan sebagai berikut:\n",
    "1. Persiapan dan pembersihan data (Data Wrangling): Proses ini terdiri dari pemuatan data, mengatasi nilai duplikat, mengatasi nilai hilang dan pengecekan tipe data.\n",
    "\n",
    "2. Dataset splitting: Proses pembagian dataset menjadi data training dan validation yang selanjutnya akan digunakan dalam pelatihan dan pengujian model.\n",
    "\n",
    "3. Pelatihan model: Pelatihan model Machine Learning Linear Regression menggunakan data training yang telah dibuat.\n",
    "\n",
    "4. Analisa RMSE dan Rata-rata cadangan minyak: Membandingkan nilai RMSE dan rata-rata cadangan minyak untuk masing-masing region berdasarkan model Machine Learning yang telah dibuat.\n",
    "\n",
    "5. Analisa Profitability: Melakukan analisa keuntungan baik itu gross maupun net profit berdasarkan data prediksi yang diperoleh dari Machine Learning.\n",
    "\n",
    "6. Analisa Resiko: Dengan memilih region dengan resiko kerugian kurang dari 2.5%.\n",
    "\n",
    "7. Memilih wilayah dengan laba tertinggi."
   ]
  },
  {
   "cell_type": "markdown",
   "metadata": {},
   "source": [
    "## Table of Content\n",
    "- 1. [Pendahuluan](#Pendahuluan)\n",
    "- 2. [Table of Content](#Table-of-Content)\n",
    "- 3. [Persiapan Data](#Persiapan-Data)\n",
    "    - 3.1. [Persiapan Library](#Persiapan-Library)\n",
    "    - 3.2. [Data Cleaning](#Data-Cleaning)\n",
    "    - 3.3. [Data Splitting](#Data-Splitting)\n",
    "- 4. [Pelatihan Model](#Pelatihan-Model)\n",
    "- 5. [Analisa Laba](#Analisa-Laba)\n",
    "    - 5.1. [Persiapan Perhitungan Laba](#Persiapan-Perhitungan-Laba)\n",
    "    - 5.2. [Analisa Laba Setiap Region](#Analisa-Laba-Setiap-Region)\n",
    "- 6. [Analisa Resiko](#Analisa-Resiko)"
   ]
  },
  {
   "cell_type": "markdown",
   "metadata": {},
   "source": [
    "<div class=\"alert alert-success\">\n",
    "<b>Chamdani's comment v.1</b> <a class=\"tocSkip\"></a>\n",
    "\n",
    "Bagus, semua berjalan lancar.\n",
    "\n",
    "</div>"
   ]
  },
  {
   "cell_type": "markdown",
   "metadata": {},
   "source": [
    "## Persiapan Data"
   ]
  },
  {
   "cell_type": "markdown",
   "metadata": {},
   "source": [
    "### Persiapan Library"
   ]
  },
  {
   "cell_type": "markdown",
   "metadata": {},
   "source": [
    "Berikut adalah library yang diperlukan dalam analisa ini:"
   ]
  },
  {
   "cell_type": "code",
   "execution_count": 218,
   "metadata": {},
   "outputs": [],
   "source": [
    "import pandas as pd\n",
    "import matplotlib.pyplot as plt\n",
    "import seaborn as sb\n",
    "import numpy as np\n",
    "\n",
    "#Scikit Learn\n",
    "from sklearn.linear_model import LinearRegression\n",
    "from sklearn.dummy import DummyRegressor\n",
    "from sklearn.model_selection import train_test_split\n",
    "\n",
    "from sklearn.metrics import mean_squared_error\n"
   ]
  },
  {
   "cell_type": "markdown",
   "metadata": {},
   "source": [
    "<div class=\"alert alert-success\">\n",
    "<b>Chamdani's comment v.1</b> <a class=\"tocSkip\"></a>\n",
    "\n",
    "Bagus, semua berjalan lancar.\n",
    "\n",
    "</div>"
   ]
  },
  {
   "cell_type": "markdown",
   "metadata": {},
   "source": [
    "### Data Cleaning"
   ]
  },
  {
   "cell_type": "markdown",
   "metadata": {},
   "source": [
    "Proses ini terdiri dari langkah-langkah berikut:\n",
    "1. Memuat dataset\n",
    "2. Mengatasi nilai duplikat\n",
    "3. Mengatasi nilai hilang\n",
    "4. Perbaikan tipe data"
   ]
  },
  {
   "cell_type": "code",
   "execution_count": 219,
   "metadata": {},
   "outputs": [],
   "source": [
    "reg_1 = pd.read_csv('/datasets/geo_data_0.csv')\n",
    "reg_2 = pd.read_csv('/datasets/geo_data_1.csv')\n",
    "reg_3 = pd.read_csv('/datasets/geo_data_2.csv')"
   ]
  },
  {
   "cell_type": "code",
   "execution_count": 220,
   "metadata": {},
   "outputs": [
    {
     "name": "stdout",
     "output_type": "stream",
     "text": [
      "0\n",
      "0\n",
      "0\n"
     ]
    }
   ],
   "source": [
    "print(reg_1.duplicated().sum())\n",
    "print(reg_2.duplicated().sum())\n",
    "print(reg_3.duplicated().sum())"
   ]
  },
  {
   "cell_type": "markdown",
   "metadata": {},
   "source": [
    "Tidak ada data terduplikat, selanjutnya kita cek apakah terdapat data hilang"
   ]
  },
  {
   "cell_type": "code",
   "execution_count": 221,
   "metadata": {},
   "outputs": [
    {
     "name": "stdout",
     "output_type": "stream",
     "text": [
      "<class 'pandas.core.frame.DataFrame'>\n",
      "RangeIndex: 100000 entries, 0 to 99999\n",
      "Data columns (total 5 columns):\n",
      " #   Column   Non-Null Count   Dtype  \n",
      "---  ------   --------------   -----  \n",
      " 0   id       100000 non-null  object \n",
      " 1   f0       100000 non-null  float64\n",
      " 2   f1       100000 non-null  float64\n",
      " 3   f2       100000 non-null  float64\n",
      " 4   product  100000 non-null  float64\n",
      "dtypes: float64(4), object(1)\n",
      "memory usage: 3.8+ MB\n"
     ]
    }
   ],
   "source": [
    "reg_1.info()"
   ]
  },
  {
   "cell_type": "code",
   "execution_count": 222,
   "metadata": {},
   "outputs": [
    {
     "data": {
      "text/html": [
       "<div>\n",
       "<style scoped>\n",
       "    .dataframe tbody tr th:only-of-type {\n",
       "        vertical-align: middle;\n",
       "    }\n",
       "\n",
       "    .dataframe tbody tr th {\n",
       "        vertical-align: top;\n",
       "    }\n",
       "\n",
       "    .dataframe thead th {\n",
       "        text-align: right;\n",
       "    }\n",
       "</style>\n",
       "<table border=\"1\" class=\"dataframe\">\n",
       "  <thead>\n",
       "    <tr style=\"text-align: right;\">\n",
       "      <th></th>\n",
       "      <th>f0</th>\n",
       "      <th>f1</th>\n",
       "      <th>f2</th>\n",
       "      <th>product</th>\n",
       "    </tr>\n",
       "  </thead>\n",
       "  <tbody>\n",
       "    <tr>\n",
       "      <th>count</th>\n",
       "      <td>100000.000000</td>\n",
       "      <td>100000.000000</td>\n",
       "      <td>100000.000000</td>\n",
       "      <td>100000.000000</td>\n",
       "    </tr>\n",
       "    <tr>\n",
       "      <th>mean</th>\n",
       "      <td>0.500419</td>\n",
       "      <td>0.250143</td>\n",
       "      <td>2.502647</td>\n",
       "      <td>92.500000</td>\n",
       "    </tr>\n",
       "    <tr>\n",
       "      <th>std</th>\n",
       "      <td>0.871832</td>\n",
       "      <td>0.504433</td>\n",
       "      <td>3.248248</td>\n",
       "      <td>44.288691</td>\n",
       "    </tr>\n",
       "    <tr>\n",
       "      <th>min</th>\n",
       "      <td>-1.408605</td>\n",
       "      <td>-0.848218</td>\n",
       "      <td>-12.088328</td>\n",
       "      <td>0.000000</td>\n",
       "    </tr>\n",
       "    <tr>\n",
       "      <th>25%</th>\n",
       "      <td>-0.072580</td>\n",
       "      <td>-0.200881</td>\n",
       "      <td>0.287748</td>\n",
       "      <td>56.497507</td>\n",
       "    </tr>\n",
       "    <tr>\n",
       "      <th>50%</th>\n",
       "      <td>0.502360</td>\n",
       "      <td>0.250252</td>\n",
       "      <td>2.515969</td>\n",
       "      <td>91.849972</td>\n",
       "    </tr>\n",
       "    <tr>\n",
       "      <th>75%</th>\n",
       "      <td>1.073581</td>\n",
       "      <td>0.700646</td>\n",
       "      <td>4.715088</td>\n",
       "      <td>128.564089</td>\n",
       "    </tr>\n",
       "    <tr>\n",
       "      <th>max</th>\n",
       "      <td>2.362331</td>\n",
       "      <td>1.343769</td>\n",
       "      <td>16.003790</td>\n",
       "      <td>185.364347</td>\n",
       "    </tr>\n",
       "  </tbody>\n",
       "</table>\n",
       "</div>"
      ],
      "text/plain": [
       "                  f0             f1             f2        product\n",
       "count  100000.000000  100000.000000  100000.000000  100000.000000\n",
       "mean        0.500419       0.250143       2.502647      92.500000\n",
       "std         0.871832       0.504433       3.248248      44.288691\n",
       "min        -1.408605      -0.848218     -12.088328       0.000000\n",
       "25%        -0.072580      -0.200881       0.287748      56.497507\n",
       "50%         0.502360       0.250252       2.515969      91.849972\n",
       "75%         1.073581       0.700646       4.715088     128.564089\n",
       "max         2.362331       1.343769      16.003790     185.364347"
      ]
     },
     "execution_count": 222,
     "metadata": {},
     "output_type": "execute_result"
    }
   ],
   "source": [
    "reg_1.describe()"
   ]
  },
  {
   "cell_type": "markdown",
   "metadata": {},
   "source": [
    "Tidak ada nilai kosong pada dataset region 1 dan seluruh kolom telah memiliki tipe data yang sesuai."
   ]
  },
  {
   "cell_type": "code",
   "execution_count": 223,
   "metadata": {},
   "outputs": [
    {
     "name": "stdout",
     "output_type": "stream",
     "text": [
      "<class 'pandas.core.frame.DataFrame'>\n",
      "RangeIndex: 100000 entries, 0 to 99999\n",
      "Data columns (total 5 columns):\n",
      " #   Column   Non-Null Count   Dtype  \n",
      "---  ------   --------------   -----  \n",
      " 0   id       100000 non-null  object \n",
      " 1   f0       100000 non-null  float64\n",
      " 2   f1       100000 non-null  float64\n",
      " 3   f2       100000 non-null  float64\n",
      " 4   product  100000 non-null  float64\n",
      "dtypes: float64(4), object(1)\n",
      "memory usage: 3.8+ MB\n"
     ]
    }
   ],
   "source": [
    "reg_2.info()"
   ]
  },
  {
   "cell_type": "code",
   "execution_count": 224,
   "metadata": {},
   "outputs": [
    {
     "data": {
      "text/html": [
       "<div>\n",
       "<style scoped>\n",
       "    .dataframe tbody tr th:only-of-type {\n",
       "        vertical-align: middle;\n",
       "    }\n",
       "\n",
       "    .dataframe tbody tr th {\n",
       "        vertical-align: top;\n",
       "    }\n",
       "\n",
       "    .dataframe thead th {\n",
       "        text-align: right;\n",
       "    }\n",
       "</style>\n",
       "<table border=\"1\" class=\"dataframe\">\n",
       "  <thead>\n",
       "    <tr style=\"text-align: right;\">\n",
       "      <th></th>\n",
       "      <th>f0</th>\n",
       "      <th>f1</th>\n",
       "      <th>f2</th>\n",
       "      <th>product</th>\n",
       "    </tr>\n",
       "  </thead>\n",
       "  <tbody>\n",
       "    <tr>\n",
       "      <th>count</th>\n",
       "      <td>100000.000000</td>\n",
       "      <td>100000.000000</td>\n",
       "      <td>100000.000000</td>\n",
       "      <td>100000.000000</td>\n",
       "    </tr>\n",
       "    <tr>\n",
       "      <th>mean</th>\n",
       "      <td>1.141296</td>\n",
       "      <td>-4.796579</td>\n",
       "      <td>2.494541</td>\n",
       "      <td>68.825000</td>\n",
       "    </tr>\n",
       "    <tr>\n",
       "      <th>std</th>\n",
       "      <td>8.965932</td>\n",
       "      <td>5.119872</td>\n",
       "      <td>1.703572</td>\n",
       "      <td>45.944423</td>\n",
       "    </tr>\n",
       "    <tr>\n",
       "      <th>min</th>\n",
       "      <td>-31.609576</td>\n",
       "      <td>-26.358598</td>\n",
       "      <td>-0.018144</td>\n",
       "      <td>0.000000</td>\n",
       "    </tr>\n",
       "    <tr>\n",
       "      <th>25%</th>\n",
       "      <td>-6.298551</td>\n",
       "      <td>-8.267985</td>\n",
       "      <td>1.000021</td>\n",
       "      <td>26.953261</td>\n",
       "    </tr>\n",
       "    <tr>\n",
       "      <th>50%</th>\n",
       "      <td>1.153055</td>\n",
       "      <td>-4.813172</td>\n",
       "      <td>2.011479</td>\n",
       "      <td>57.085625</td>\n",
       "    </tr>\n",
       "    <tr>\n",
       "      <th>75%</th>\n",
       "      <td>8.621015</td>\n",
       "      <td>-1.332816</td>\n",
       "      <td>3.999904</td>\n",
       "      <td>107.813044</td>\n",
       "    </tr>\n",
       "    <tr>\n",
       "      <th>max</th>\n",
       "      <td>29.421755</td>\n",
       "      <td>18.734063</td>\n",
       "      <td>5.019721</td>\n",
       "      <td>137.945408</td>\n",
       "    </tr>\n",
       "  </tbody>\n",
       "</table>\n",
       "</div>"
      ],
      "text/plain": [
       "                  f0             f1             f2        product\n",
       "count  100000.000000  100000.000000  100000.000000  100000.000000\n",
       "mean        1.141296      -4.796579       2.494541      68.825000\n",
       "std         8.965932       5.119872       1.703572      45.944423\n",
       "min       -31.609576     -26.358598      -0.018144       0.000000\n",
       "25%        -6.298551      -8.267985       1.000021      26.953261\n",
       "50%         1.153055      -4.813172       2.011479      57.085625\n",
       "75%         8.621015      -1.332816       3.999904     107.813044\n",
       "max        29.421755      18.734063       5.019721     137.945408"
      ]
     },
     "execution_count": 224,
     "metadata": {},
     "output_type": "execute_result"
    }
   ],
   "source": [
    "reg_2.describe()"
   ]
  },
  {
   "cell_type": "markdown",
   "metadata": {},
   "source": [
    "Tidak ada nilai kosong pada dataset region 2 dan seluruh kolom telah memiliki tipe data yang sesuai."
   ]
  },
  {
   "cell_type": "code",
   "execution_count": 225,
   "metadata": {},
   "outputs": [
    {
     "name": "stdout",
     "output_type": "stream",
     "text": [
      "<class 'pandas.core.frame.DataFrame'>\n",
      "RangeIndex: 100000 entries, 0 to 99999\n",
      "Data columns (total 5 columns):\n",
      " #   Column   Non-Null Count   Dtype  \n",
      "---  ------   --------------   -----  \n",
      " 0   id       100000 non-null  object \n",
      " 1   f0       100000 non-null  float64\n",
      " 2   f1       100000 non-null  float64\n",
      " 3   f2       100000 non-null  float64\n",
      " 4   product  100000 non-null  float64\n",
      "dtypes: float64(4), object(1)\n",
      "memory usage: 3.8+ MB\n"
     ]
    }
   ],
   "source": [
    "reg_3.info()"
   ]
  },
  {
   "cell_type": "code",
   "execution_count": 226,
   "metadata": {},
   "outputs": [
    {
     "data": {
      "text/html": [
       "<div>\n",
       "<style scoped>\n",
       "    .dataframe tbody tr th:only-of-type {\n",
       "        vertical-align: middle;\n",
       "    }\n",
       "\n",
       "    .dataframe tbody tr th {\n",
       "        vertical-align: top;\n",
       "    }\n",
       "\n",
       "    .dataframe thead th {\n",
       "        text-align: right;\n",
       "    }\n",
       "</style>\n",
       "<table border=\"1\" class=\"dataframe\">\n",
       "  <thead>\n",
       "    <tr style=\"text-align: right;\">\n",
       "      <th></th>\n",
       "      <th>f0</th>\n",
       "      <th>f1</th>\n",
       "      <th>f2</th>\n",
       "      <th>product</th>\n",
       "    </tr>\n",
       "  </thead>\n",
       "  <tbody>\n",
       "    <tr>\n",
       "      <th>count</th>\n",
       "      <td>100000.000000</td>\n",
       "      <td>100000.000000</td>\n",
       "      <td>100000.000000</td>\n",
       "      <td>100000.000000</td>\n",
       "    </tr>\n",
       "    <tr>\n",
       "      <th>mean</th>\n",
       "      <td>0.002023</td>\n",
       "      <td>-0.002081</td>\n",
       "      <td>2.495128</td>\n",
       "      <td>95.000000</td>\n",
       "    </tr>\n",
       "    <tr>\n",
       "      <th>std</th>\n",
       "      <td>1.732045</td>\n",
       "      <td>1.730417</td>\n",
       "      <td>3.473445</td>\n",
       "      <td>44.749921</td>\n",
       "    </tr>\n",
       "    <tr>\n",
       "      <th>min</th>\n",
       "      <td>-8.760004</td>\n",
       "      <td>-7.084020</td>\n",
       "      <td>-11.970335</td>\n",
       "      <td>0.000000</td>\n",
       "    </tr>\n",
       "    <tr>\n",
       "      <th>25%</th>\n",
       "      <td>-1.162288</td>\n",
       "      <td>-1.174820</td>\n",
       "      <td>0.130359</td>\n",
       "      <td>59.450441</td>\n",
       "    </tr>\n",
       "    <tr>\n",
       "      <th>50%</th>\n",
       "      <td>0.009424</td>\n",
       "      <td>-0.009482</td>\n",
       "      <td>2.484236</td>\n",
       "      <td>94.925613</td>\n",
       "    </tr>\n",
       "    <tr>\n",
       "      <th>75%</th>\n",
       "      <td>1.158535</td>\n",
       "      <td>1.163678</td>\n",
       "      <td>4.858794</td>\n",
       "      <td>130.595027</td>\n",
       "    </tr>\n",
       "    <tr>\n",
       "      <th>max</th>\n",
       "      <td>7.238262</td>\n",
       "      <td>7.844801</td>\n",
       "      <td>16.739402</td>\n",
       "      <td>190.029838</td>\n",
       "    </tr>\n",
       "  </tbody>\n",
       "</table>\n",
       "</div>"
      ],
      "text/plain": [
       "                  f0             f1             f2        product\n",
       "count  100000.000000  100000.000000  100000.000000  100000.000000\n",
       "mean        0.002023      -0.002081       2.495128      95.000000\n",
       "std         1.732045       1.730417       3.473445      44.749921\n",
       "min        -8.760004      -7.084020     -11.970335       0.000000\n",
       "25%        -1.162288      -1.174820       0.130359      59.450441\n",
       "50%         0.009424      -0.009482       2.484236      94.925613\n",
       "75%         1.158535       1.163678       4.858794     130.595027\n",
       "max         7.238262       7.844801      16.739402     190.029838"
      ]
     },
     "execution_count": 226,
     "metadata": {},
     "output_type": "execute_result"
    }
   ],
   "source": [
    "reg_3.describe()"
   ]
  },
  {
   "cell_type": "markdown",
   "metadata": {},
   "source": [
    "Tidak ada nilai kosong pada dataset region 3 dan seluruh kolom telah memiliki tipe data yang sesuai.\n",
    "\n",
    "Seluruh dataset sudah dalam keadaan bersih. Tidak ada nilai duplikat, tidak ada nilai hilang, dan seluruh tipe data sudah sesuai. Selanjutnya yaitu melakukan splitting data menjadi data training dan validation."
   ]
  },
  {
   "cell_type": "markdown",
   "metadata": {},
   "source": [
    "<div class=\"alert alert-success\">\n",
    "<b>Chamdani's comment v.1</b> <a class=\"tocSkip\"></a>\n",
    "\n",
    "Bagus, semua berjalan lancar.\n",
    "\n",
    "</div>"
   ]
  },
  {
   "cell_type": "markdown",
   "metadata": {},
   "source": [
    "### Data Splitting"
   ]
  },
  {
   "cell_type": "markdown",
   "metadata": {},
   "source": [
    "Pada langkah ini, dilakukan proses splitting dataset sumber mernjadi 2 buah dataset baru yaitu training dataset dan validation dataset dengan proporsi 75%:25%. Untuk menciptakan konsistensi tingkat randomness diterapkan random_state = 123."
   ]
  },
  {
   "cell_type": "code",
   "execution_count": 227,
   "metadata": {},
   "outputs": [
    {
     "name": "stdout",
     "output_type": "stream",
     "text": [
      "Ukuran dataset training 0.75\n",
      "Ukuran dataset validation 0.25\n"
     ]
    }
   ],
   "source": [
    "train_reg_1, valid_reg_1 = train_test_split(reg_1, test_size = 0.25, random_state = 123)\n",
    "print(f'Ukuran dataset training {len(train_reg_1)/len(reg_1)}')\n",
    "print(f'Ukuran dataset validation {len(valid_reg_1)/len(reg_1)}')"
   ]
  },
  {
   "cell_type": "code",
   "execution_count": 228,
   "metadata": {},
   "outputs": [
    {
     "name": "stdout",
     "output_type": "stream",
     "text": [
      "Ukuran dataset training 0.75\n",
      "Ukuran dataset validation 0.25\n"
     ]
    }
   ],
   "source": [
    "train_reg_2, valid_reg_2 = train_test_split(reg_2, test_size = 0.25, random_state = 123)\n",
    "print(f'Ukuran dataset training {len(train_reg_2)/len(reg_2)}')\n",
    "print(f'Ukuran dataset validation {len(valid_reg_2)/len(reg_2)}')"
   ]
  },
  {
   "cell_type": "code",
   "execution_count": 229,
   "metadata": {},
   "outputs": [
    {
     "name": "stdout",
     "output_type": "stream",
     "text": [
      "Ukuran dataset training 0.75\n",
      "Ukuran dataset validation 0.25\n"
     ]
    }
   ],
   "source": [
    "train_reg_3, valid_reg_3 = train_test_split(reg_3, test_size = 0.25, random_state = 123)\n",
    "print(f'Ukuran dataset training {len(train_reg_3)/len(reg_3)}')\n",
    "print(f'Ukuran dataset validation {len(valid_reg_3)/len(reg_3)}')"
   ]
  },
  {
   "cell_type": "markdown",
   "metadata": {},
   "source": [
    "Seluruh dataset berhasil dipecah menjadi training dan validation dengan proporsi 75:25"
   ]
  },
  {
   "cell_type": "markdown",
   "metadata": {},
   "source": [
    "<div class=\"alert alert-success\">\n",
    "<b>Chamdani's comment v.1</b> <a class=\"tocSkip\"></a>\n",
    "\n",
    "Bagus, semua berjalan lancar.\n",
    "\n",
    "</div>"
   ]
  },
  {
   "cell_type": "markdown",
   "metadata": {},
   "source": [
    "## Pelatihan Model"
   ]
  },
  {
   "cell_type": "markdown",
   "metadata": {},
   "source": [
    "Model terbaik yang digunakan untuk analisa ini yaitu Linear Regression."
   ]
  },
  {
   "cell_type": "code",
   "execution_count": 230,
   "metadata": {},
   "outputs": [],
   "source": [
    "def model_pred(data_train, data_valid, region, model):\n",
    "    # Features & Target\n",
    "    features_train  = data_train.drop(columns=['id','product'], axis = 1)\n",
    "    features_valid  = data_valid.drop(columns=['id','product'], axis = 1)\n",
    "    target_train    = data_train['product']\n",
    "    target_valid    = data_valid['product']\n",
    "    # Model training\n",
    "    model.fit(features_train, target_train)\n",
    "    # Model Prediction\n",
    "    predicted_train = model.predict(features_train)\n",
    "    predicted_valid = model.predict(features_valid)\n",
    "    # RMSE and Average\n",
    "    rmse_train  = mean_squared_error(target_train, predicted_train)**0.5\n",
    "    rmse_valid  = mean_squared_error(target_valid, predicted_valid)**0.5\n",
    "    avg_train   = predicted_train.mean()\n",
    "    avg_valid   = predicted_valid.mean()\n",
    "    #Sanity Check\n",
    "    model_dummy = DummyRegressor()\n",
    "    model_dummy.fit(features_train, target_train)\n",
    "    predicted_dummy_train = model_dummy.predict(features_train)\n",
    "    predicted_dummy_valid = model_dummy.predict(features_valid)\n",
    "    \n",
    "    dummy_rmse_train  = mean_squared_error(target_train, predicted_dummy_train)**0.5\n",
    "    dummy_rmse_valid  = mean_squared_error(target_valid, predicted_dummy_valid)**0.5\n",
    "    dummy_avg_train   = predicted_dummy_train.mean()\n",
    "    dummy_avg_valid   = predicted_dummy_valid.mean()\n",
    "    # Report\n",
    "    print(f'Region number = {region}')\n",
    "    print(f'--------------------------------------|')\n",
    "    print(f'RMSE train\\t= {rmse_train:2.4f}')\n",
    "    print(f'RMSE valid\\t= {rmse_valid:2.4f}')\n",
    "    print(f'Average train\\t= {avg_train:2.4f}')\n",
    "    print(f'Averge valid\\t= {avg_valid:2.4f}')\n",
    "    print(f'--------------------------------------|\\n')\n",
    "    \n",
    "    print(f'Sanity Check')\n",
    "    print(f'--------------------------------------|')\n",
    "    print(f'RMSE train\\t\\t= {dummy_rmse_train:2.4f}')\n",
    "    print(f'RMSE valid\\t\\t= {dummy_rmse_valid:2.4f}')\n",
    "    print(f'Average train\\t\\t= {dummy_avg_train:2.4f}')\n",
    "    print(f'Averge valid\\t\\t= {dummy_avg_valid:2.4f}')\n",
    "    print(f'Actual train average\\t= {target_train.mean():2.4f}')\n",
    "    print(f'Actual valid average\\t= {target_valid.mean():2.4f}')\n",
    "    print(f'--------------------------------------|')\n",
    "    \n",
    "    return model, features_valid, target_valid, predicted_valid, rmse_train, rmse_valid, avg_train, avg_valid"
   ]
  },
  {
   "cell_type": "code",
   "execution_count": 231,
   "metadata": {},
   "outputs": [
    {
     "name": "stdout",
     "output_type": "stream",
     "text": [
      "Region number = 1\n",
      "--------------------------------------|\n",
      "RMSE train\t= 37.7066\n",
      "RMSE valid\t= 37.6479\n",
      "Average train\t= 92.3831\n",
      "Averge valid\t= 92.5494\n",
      "--------------------------------------|\n",
      "\n",
      "Sanity Check\n",
      "--------------------------------------|\n",
      "RMSE train\t\t= 44.2478\n",
      "RMSE valid\t\t= 44.4109\n",
      "Average train\t\t= 92.3831\n",
      "Averge valid\t\t= 92.3831\n",
      "Actual train average\t= 92.3831\n",
      "Actual valid average\t= 92.8506\n",
      "--------------------------------------|\n"
     ]
    }
   ],
   "source": [
    "model_1, feature_valid_1, target_valid_1, predicted_valid_1, rmse_train_1, rmse_valid_1, avg_train_1, avg_valid_1 = model_pred(\n",
    "    train_reg_1, valid_reg_1,1, LinearRegression())"
   ]
  },
  {
   "cell_type": "markdown",
   "metadata": {},
   "source": [
    "Region 1 diprediksi memiliki rata-rata cadangan minyak sangat tinggi yaitu mencapai 92.54 ribu barel. Namun nilai RMSE nya juga cukup tinggi yaitu mencapai 37.7 sehingga region 1 memiliki risk yang tinggi. Berdasarkan sanity check perbedaan rata-rata aktual, rata-rata prediksi dummy, dan rata-rata model tidak terlampau jauh. Namun secara RMSE dummy classifier memberikan RMSE yang lebih besar, artinya model yang telah dibuat telah lebih baik dibandingkan dengan model dummy yang tidak melihat pola sama sekali. Tapi tetap saja RMSE model tidak dapat dikatakan kecil."
   ]
  },
  {
   "cell_type": "markdown",
   "metadata": {},
   "source": [
    "<div class=\"alert alert-success\">\n",
    "<b>Chamdani's comment v.1</b> <a class=\"tocSkip\"></a>\n",
    "\n",
    "Bagus, semua berjalan lancar.\n",
    "\n",
    "</div>"
   ]
  },
  {
   "cell_type": "code",
   "execution_count": 307,
   "metadata": {},
   "outputs": [
    {
     "name": "stdout",
     "output_type": "stream",
     "text": [
      "Region number = 2\n",
      "--------------------------------------|\n",
      "RMSE train\t= 0.8887\n",
      "RMSE valid\t= 0.8954\n",
      "Average train\t= 68.6754\n",
      "Averge valid\t= 69.2800\n",
      "--------------------------------------|\n",
      "\n",
      "Sanity Check\n",
      "--------------------------------------|\n",
      "RMSE train\t\t= 45.9849\n",
      "RMSE valid\t\t= 45.8228\n",
      "Average train\t\t= 68.6754\n",
      "Averge valid\t\t= 68.6754\n",
      "Actual train average\t= 68.6754\n",
      "Actual valid average\t= 69.2737\n",
      "--------------------------------------|\n"
     ]
    }
   ],
   "source": [
    "model_2, feature_valid_2, target_valid_2, predicted_valid_2, rmse_train_2, rmse_valid_2, avg_train_2, avg_valid_2 = model_pred(\n",
    "    train_reg_2, valid_reg_2,2, LinearRegression())"
   ]
  },
  {
   "cell_type": "markdown",
   "metadata": {},
   "source": [
    "Region 2 diprediksi memiliki rata-rata cadangan minyak lebih rendah dari region 1 namun memiliki nilai RMSE yang sangat rendah yaitu hanya 0.89 saja!. Apabila dibandingkan dengan DummyRegessor terjadi penurunan RMSE yang sangat signifikan dari 46 turun menjadi 0.9 saja dengan rata-rata cadangan minyak yang tidak terlampau jauh. Artinya model bekerja sangat baik dalam memprediksi cadangan minyak."
   ]
  },
  {
   "cell_type": "markdown",
   "metadata": {},
   "source": [
    "<div class=\"alert alert-success\">\n",
    "<b>Chamdani's comment v.1</b> <a class=\"tocSkip\"></a>\n",
    "\n",
    "Bagus, semua berjalan lancar.\n",
    "\n",
    "</div>"
   ]
  },
  {
   "cell_type": "code",
   "execution_count": 233,
   "metadata": {},
   "outputs": [
    {
     "name": "stdout",
     "output_type": "stream",
     "text": [
      "Region number = 3\n",
      "--------------------------------------|\n",
      "RMSE train\t= 40.0313\n",
      "RMSE valid\t= 40.1280\n",
      "Average train\t= 95.0422\n",
      "Averge valid\t= 95.0986\n",
      "--------------------------------------|\n",
      "\n",
      "Sanity Check\n",
      "--------------------------------------|\n",
      "RMSE train\t\t= 44.7751\n",
      "RMSE valid\t\t= 44.6736\n",
      "Average train\t\t= 95.0422\n",
      "Averge valid\t\t= 95.0422\n",
      "Actual train average\t= 95.0422\n",
      "Actual valid average\t= 94.8735\n",
      "--------------------------------------|\n"
     ]
    }
   ],
   "source": [
    "model_3, feature_valid_3, target_valid_3, predicted_valid_3, rmse_train_3, rmse_valid_3, avg_train_3, avg_valid_3 = model_pred(\n",
    "    train_reg_3, valid_reg_3,3, LinearRegression())"
   ]
  },
  {
   "cell_type": "markdown",
   "metadata": {},
   "source": [
    "Region 3 memiliki cadangan minyak paling tinggi diantara region lainnya, namun nilai RMSE juga paling tinggi. Ini merupakan sumur yang sangat high risk!. Baik dummy classifier maupun model linear regresion keduanya menghasilkan RMSE yang tinggi."
   ]
  },
  {
   "cell_type": "markdown",
   "metadata": {},
   "source": [
    "<div class=\"alert alert-success\">\n",
    "<b>Chamdani's comment v.1</b> <a class=\"tocSkip\"></a>\n",
    "\n",
    "Bagus, semua berjalan lancar.\n",
    "\n",
    "</div>"
   ]
  },
  {
   "cell_type": "code",
   "execution_count": 234,
   "metadata": {},
   "outputs": [
    {
     "name": "stdout",
     "output_type": "stream",
     "text": [
      "Perbandingan RMSE\n",
      "------------------------------------------|\n",
      "Region 1  / region 2 = 4104.52%\n",
      "Region 3  / region 2 = 4381.51%\n",
      "\n",
      "Perbandingan Cadangan Minyak Rata-rata (Ribu Barel)\n",
      "------------------------------------------|\n",
      "Region 1  / region 2 = 33.59%\n",
      "Region 3  / region 2 = 37.27%\n"
     ]
    }
   ],
   "source": [
    "print('Perbandingan RMSE')\n",
    "print('------------------------------------------|')\n",
    "print(f'Region 1  / region 2 = {rmse_valid_1/rmse_valid_2*100-100:.2f}%')\n",
    "print(f'Region 3  / region 2 = {rmse_valid_3/rmse_valid_2*100-100:.2f}%')\n",
    "print()\n",
    "print('Perbandingan Cadangan Minyak Rata-rata (Ribu Barel)')\n",
    "print('------------------------------------------|')\n",
    "print(f'Region 1  / region 2 = {avg_valid_1/avg_valid_2*100-100:.2f}%')\n",
    "print(f'Region 3  / region 2 = {avg_valid_3/avg_valid_2*100-100:.2f}%')"
   ]
  },
  {
   "cell_type": "markdown",
   "metadata": {},
   "source": [
    "Baik region 1 dan 3 memiliki nilai RMSE yang super tinggi apabila dibandingkan dengan RMSE region 2. Peningkatannya mencapai 4200-an persen (secara rata-rata)!. Dengan peningkatan RMSE sebesar itu, cadangan minyak yang ditawarkan sebesar kurang lebih 35%. Berdasarkan data tersebut, region 2 merupakan lokasi yang potensial untuk dibangun sumur baru. Meskipun cadangan minyaknya lebih rendah namun tingkat kepastiannya lebih tinggi sehingga lebih aman."
   ]
  },
  {
   "cell_type": "markdown",
   "metadata": {},
   "source": [
    "<div class=\"alert alert-success\">\n",
    "<b>Chamdani's comment v.1</b> <a class=\"tocSkip\"></a>\n",
    "\n",
    "Bagus, semua berjalan lancar.\n",
    "\n",
    "</div>"
   ]
  },
  {
   "cell_type": "markdown",
   "metadata": {},
   "source": [
    "## Perhitungan Laba"
   ]
  },
  {
   "cell_type": "markdown",
   "metadata": {},
   "source": [
    "### Persiapan Perhitungan Laba"
   ]
  },
  {
   "cell_type": "markdown",
   "metadata": {},
   "source": [
    "Variable / Parameter kunci yang digunakan adalah sebagai berikut:"
   ]
  },
  {
   "cell_type": "code",
   "execution_count": 235,
   "metadata": {},
   "outputs": [
    {
     "name": "stdout",
     "output_type": "stream",
     "text": [
      "Minimal setiap sumur harus memiliki setidaknya 111.11 barel supaya tidak mengalami kerugian\n",
      "Suatu wilayah (kumpulan beberapa sumur) harus memiliki setidaknya 22222.22 barel\n"
     ]
    }
   ],
   "source": [
    "modal = 100e6 #100 juta USD untuk 200 sumur\n",
    "price = 4500 #per 1000 barel\n",
    "node  = 200\n",
    "modal_per_node = modal/node #asumsi biaya untuk membangun sumur sama untuk setiap titik\n",
    "bep_per_node = modal_per_node/price\n",
    "\n",
    "print(f'Minimal setiap sumur harus memiliki setidaknya {bep_per_node:.2f} barel supaya tidak mengalami kerugian')\n",
    "print(f'Suatu wilayah (kumpulan beberapa sumur) harus memiliki setidaknya {modal/price:.2f} barel')"
   ]
  },
  {
   "cell_type": "markdown",
   "metadata": {},
   "source": [
    "<div class=\"alert alert-success\">\n",
    "<b>Chamdani's comment v.1</b> <a class=\"tocSkip\"></a>\n",
    "\n",
    "Bagus, semua berjalan lancar.\n",
    "\n",
    "</div>"
   ]
  },
  {
   "cell_type": "markdown",
   "metadata": {},
   "source": [
    "### Analisa Laba Setiap Region"
   ]
  },
  {
   "cell_type": "markdown",
   "metadata": {},
   "source": [
    "Pembuatan function untuk menghitung laba yang dapat dihasilkan masing-masing region"
   ]
  },
  {
   "cell_type": "code",
   "execution_count": 236,
   "metadata": {},
   "outputs": [],
   "source": [
    "def laba(data_prediction, region, modals = modal, prices = price, nodes = node):\n",
    "    # Top 200 Well Points\n",
    "    data_prediction = pd.Series(data_prediction)\n",
    "    top_200 = data_prediction.sort_values(ascending=False)[:200]\n",
    "    # Perhitungan laba\n",
    "    total_barel  = top_200.sum()\n",
    "    gross_profit = total_barel * prices\n",
    "    HPP          = gross_profit - modals\n",
    "    profit_well  = top_200 - modal/nodes/prices > 0\n",
    "    profit_well  = profit_well.sum()\n",
    "    # Reports\n",
    "    print(f'Analisa laba region {region}')\n",
    "    print(f'--------------------------------------------------------------------------|')\n",
    "    print(f'Oil reserves\\t\\t= {total_barel:2f} (profitable = {total_barel - modal/prices:.2f} ribu barel)')\n",
    "    print(f'max reserves per well\\t= {top_200.max():.2f} ribu barel')\n",
    "    print(f'min reserves per well\\t= {top_200.min():.2f} ribu barel')\n",
    "    print(f'gross profit (GP)\\t= {gross_profit:.2f} USD')\n",
    "    print(f'profit (P)\\t\\t= {HPP:.2f} USD')\n",
    "    print(f'num of profitable well  = {profit_well} well')\n",
    "    print(f'--------------------------------------------------------------------------|')\n",
    "    return HPP, gross_profit"
   ]
  },
  {
   "cell_type": "code",
   "execution_count": 270,
   "metadata": {},
   "outputs": [
    {
     "name": "stdout",
     "output_type": "stream",
     "text": [
      "Analisa laba region 1\n",
      "--------------------------------------------------------------------------|\n",
      "Oil reserves\t\t= 31034.787805 (profitable = 8812.57 ribu barel)\n",
      "max reserves per well\t= 180.19 ribu barel\n",
      "min reserves per well\t= 148.37 ribu barel\n",
      "gross profit (GP)\t= 139656545.12 USD\n",
      "profit (P)\t\t= 39656545.12 USD\n",
      "num of profitable well  = 200 well\n",
      "--------------------------------------------------------------------------|\n",
      "Analisa laba region 2\n",
      "--------------------------------------------------------------------------|\n",
      "Oil reserves\t\t= 27755.761983 (profitable = 5533.54 ribu barel)\n",
      "max reserves per well\t= 139.91 ribu barel\n",
      "min reserves per well\t= 138.43 ribu barel\n",
      "gross profit (GP)\t= 124900928.92 USD\n",
      "profit (P)\t\t= 24900928.92 USD\n",
      "num of profitable well  = 200 well\n",
      "--------------------------------------------------------------------------|\n",
      "Analisa laba region 3\n",
      "--------------------------------------------------------------------------|\n",
      "Oil reserves\t\t= 29943.443110 (profitable = 7721.22 ribu barel)\n",
      "max reserves per well\t= 174.57 ribu barel\n",
      "min reserves per well\t= 143.43 ribu barel\n",
      "gross profit (GP)\t= 134745494.00 USD\n",
      "profit (P)\t\t= 34745494.00 USD\n",
      "num of profitable well  = 200 well\n",
      "--------------------------------------------------------------------------|\n"
     ]
    }
   ],
   "source": [
    "profit_1, GP_1 = laba(predicted_valid_1, 1)\n",
    "profit_2, GP_2 = laba(predicted_valid_2, 2)\n",
    "profit_3, GP_3 = laba(predicted_valid_3, 3)"
   ]
  },
  {
   "cell_type": "code",
   "execution_count": 271,
   "metadata": {},
   "outputs": [
    {
     "name": "stdout",
     "output_type": "stream",
     "text": [
      "Perbandingan Profit Seluruh Region (basis region 2)\n",
      "---------------------------------------------------------|\n",
      "Region 1  / region 2 = 59.26%\n",
      "Region 3  / region 2 = 39.53%\n",
      "\n",
      "Perbandingan Gross Profit Seluruh Region (basis region 2)\n",
      "---------------------------------------------------------|\n",
      "Region 1  / region 2 = 11.81%\n",
      "Region 3  / region 2 = 7.88%\n"
     ]
    }
   ],
   "source": [
    "print('Perbandingan Profit Seluruh Region (basis region 2)')\n",
    "print('---------------------------------------------------------|')\n",
    "print(f'Region 1  / region 2 = {profit_1/profit_2*100-100:.2f}%')\n",
    "print(f'Region 3  / region 2 = {profit_3/profit_2*100-100:.2f}%')\n",
    "print()\n",
    "print('Perbandingan Gross Profit Seluruh Region (basis region 2)')\n",
    "print('---------------------------------------------------------|')\n",
    "print(f'Region 1  / region 2 = {GP_1/GP_2*100-100:.2f}%')\n",
    "print(f'Region 3  / region 2 = {GP_3/GP_2*100-100:.2f}%')"
   ]
  },
  {
   "cell_type": "markdown",
   "metadata": {},
   "source": [
    "Berdasarkan perbandingan profit diatas, dapat dilihat bahwa region 1 dan 3 menghasilkan return (net) yang lebih besar dari region 2. Bahkan pada region 1 returnnya bisa 59% lebih besar!. Namun tentu high return tersebut diimbangi dengan resiko yang besar juga. Untuk menilai apakah resiko tersebut sepadan dengan returnnya perlu dilakukan analisa resiko."
   ]
  },
  {
   "cell_type": "markdown",
   "metadata": {},
   "source": [
    "<div class=\"alert alert-success\">\n",
    "<b>Chamdani's comment v.1</b> <a class=\"tocSkip\"></a>\n",
    "\n",
    "Bagus, semua berjalan lancar.\n",
    "\n",
    "</div>"
   ]
  },
  {
   "cell_type": "markdown",
   "metadata": {},
   "source": [
    "## Analisa Resiko"
   ]
  },
  {
   "cell_type": "markdown",
   "metadata": {},
   "source": [
    "Analisa resiko perlu dilakukan untuk menghindari terjadinya kegagalan bisnis. Sumber kegagalan itu dapat berasal dari kesalahan perhitungan analisa, kesalahan sumber data, dan lain-lain."
   ]
  },
  {
   "cell_type": "markdown",
   "metadata": {},
   "source": [
    "###  Distribusi Laba  dan Selang Kepercayaan dengan Bootstrapping"
   ]
  },
  {
   "cell_type": "markdown",
   "metadata": {},
   "source": [
    "Dilakukan perhitungan distribusi cadangan minyak rata-rata dengan metode bootstrap dengan 1000 buah subsample"
   ]
  },
  {
   "cell_type": "code",
   "execution_count": 297,
   "metadata": {},
   "outputs": [],
   "source": [
    "def bootstrapping(data, region):\n",
    "    state = np.random.RandomState(12345)\n",
    "    values = []\n",
    "    data = pd.Series(data)\n",
    "    for i in range(1000):\n",
    "        subsamples = data.sample(n=500, random_state = state, replace = True)\n",
    "        values.append(subsamples.mean())\n",
    "    values  = pd.Series(values)\n",
    "    #Reports\n",
    "    selang_kepercayaan = 2.5/100\n",
    "    print(f' Hasil analisa bootstrapping')\n",
    "    print(f'----------------------------------------------------------------------|')\n",
    "    print(f'Nilai mean dari rata-rata cad. minyak\\t= {values.mean()}')\n",
    "    print(f'Batas atas selang kepercayaan 95%\\t= {values.quantile(1-selang_kepercayaan/100)}')\n",
    "    print(f'Batas bawah selang kepercayaan 95%\\t= {values.quantile(selang_kepercayaan/100)}')\n",
    "    print(f'----------------------------------------------------------------------|')\n",
    "    print('')\n",
    "    #Plots\n",
    "    values.plot(kind='hist', bins = 30,label='distribusi')\n",
    "    plt.xlabel('Cadangan minyak, ribu barel')\n",
    "    plt.ylabel('Frekuensi')\n",
    "    plt.title(f'Distirbusi rata-rata cad. minyak region {region} hasil bootstrap')\n",
    "    plt.axvline(x=values.mean(), color='red',ls='-', label='mean')\n",
    "    plt.axvline(x=values.median(), color='blue',ls='--', label='median')\n",
    "    plt.axvline(x=values.quantile(1-2.5/100), color='black', ls='--',label='batas atas')\n",
    "    plt.axvline(x=values.quantile(2.5/100), color='black', ls='--',label='batas bawah')\n",
    "    plt.legend()\n",
    "    plt.show()\n"
   ]
  },
  {
   "cell_type": "code",
   "execution_count": 298,
   "metadata": {},
   "outputs": [
    {
     "name": "stdout",
     "output_type": "stream",
     "text": [
      "Data Prediksi\n",
      " Hasil analisa bootstrapping\n",
      "----------------------------------------------------------------------|\n",
      "Nilai mean dari rata-rata cad. minyak\t= 92.61067830653309\n",
      "Batas atas selang kepercayaan 95%\t= 95.90110824303935\n",
      "Batas bawah selang kepercayaan 95%\t= 89.13907683169602\n",
      "----------------------------------------------------------------------|\n",
      "\n"
     ]
    },
    {
     "data": {
      "image/png": "[encoded data removed]",
      "text/plain": [
       "<Figure size 432x288 with 1 Axes>"
      ]
     },
     "metadata": {
      "needs_background": "light"
     },
     "output_type": "display_data"
    },
    {
     "name": "stdout",
     "output_type": "stream",
     "text": [
      "\n",
      "\n",
      "Data Aktual\n",
      " Hasil analisa bootstrapping\n",
      "----------------------------------------------------------------------|\n",
      "Nilai mean dari rata-rata cad. minyak\t= 92.87889438819253\n",
      "Batas atas selang kepercayaan 95%\t= 100.89657669403363\n",
      "Batas bawah selang kepercayaan 95%\t= 85.46528473628796\n",
      "----------------------------------------------------------------------|\n",
      "\n"
     ]
    },
    {
     "data": {
      "image/png": "[encoded data removed]",
      "text/plain": [
       "<Figure size 432x288 with 1 Axes>"
      ]
     },
     "metadata": {
      "needs_background": "light"
     },
     "output_type": "display_data"
    }
   ],
   "source": [
    "print('Data Prediksi')\n",
    "bootstrapping(predicted_valid_1, 1)\n",
    "print('\\n')\n",
    "print('Data Aktual')\n",
    "bootstrapping(valid_reg_1['product'], 1)"
   ]
  },
  {
   "cell_type": "markdown",
   "metadata": {},
   "source": [
    "<div class=\"alert alert-success\">\n",
    "<b>Chamdani's comment v.1</b> <a class=\"tocSkip\"></a>\n",
    "\n",
    "Bagus, semua berjalan lancar.\n",
    "\n",
    "</div>"
   ]
  },
  {
   "cell_type": "markdown",
   "metadata": {},
   "source": [
    "Nilai rata-rata maksimal pada selang kepercayaan 95% untuk region 1 diperoleh sebesar 100.9 ribu barel sedangkan nilai minimalnya berada pada 85.46 ribu barel. Nilai rata-rata minimal dari region ini sudah melebihi batas minimal supaya tidak terjadi kerugian yaitu minimal bernilai 22.22 ribu barel."
   ]
  },
  {
   "cell_type": "code",
   "execution_count": 299,
   "metadata": {},
   "outputs": [
    {
     "name": "stdout",
     "output_type": "stream",
     "text": [
      "Data Prediksi\n",
      " Hasil analisa bootstrapping\n",
      "----------------------------------------------------------------------|\n",
      "Nilai mean dari rata-rata cad. minyak\t= 69.37344580276321\n",
      "Batas atas selang kepercayaan 95%\t= 77.23524986152579\n",
      "Batas bawah selang kepercayaan 95%\t= 63.18672555723808\n",
      "----------------------------------------------------------------------|\n",
      "\n"
     ]
    },
    {
     "data": {
      "image/png": "[encoded data removed]",
      "text/plain": [
       "<Figure size 432x288 with 1 Axes>"
      ]
     },
     "metadata": {
      "needs_background": "light"
     },
     "output_type": "display_data"
    },
    {
     "name": "stdout",
     "output_type": "stream",
     "text": [
      "\n",
      "\n",
      "Data Aktual\n",
      " Hasil analisa bootstrapping\n",
      "----------------------------------------------------------------------|\n",
      "Nilai mean dari rata-rata cad. minyak\t= 69.36682938121596\n",
      "Batas atas selang kepercayaan 95%\t= 77.2547222318177\n",
      "Batas bawah selang kepercayaan 95%\t= 63.19402118414304\n",
      "----------------------------------------------------------------------|\n",
      "\n"
     ]
    },
    {
     "data": {
      "image/png": "[encoded data removed]",
      "text/plain": [
       "<Figure size 432x288 with 1 Axes>"
      ]
     },
     "metadata": {
      "needs_background": "light"
     },
     "output_type": "display_data"
    }
   ],
   "source": [
    "print('Data Prediksi')\n",
    "bootstrapping(predicted_valid_2, 2)\n",
    "print('\\n')\n",
    "print('Data Aktual')\n",
    "bootstrapping(valid_reg_2['product'], 2)"
   ]
  },
  {
   "cell_type": "markdown",
   "metadata": {},
   "source": [
    "<div class=\"alert alert-success\">\n",
    "<b>Chamdani's comment v.1</b> <a class=\"tocSkip\"></a>\n",
    "\n",
    "Bagus, semua berjalan lancar.\n",
    "\n",
    "</div>"
   ]
  },
  {
   "cell_type": "markdown",
   "metadata": {},
   "source": [
    "Nilai rata-rata maksimal pada selang kepercayaan 95% untuk region 2 diperoleh sebesar 77.23 ribu barel sedangkan nilai minimalnya berada pada 63.18 ribu barel. Nilai rata-rata minimal dari region ini sudah melebihi batas minimal supaya tidak terjadi kerugian yaitu minimal bernilai 22.22 ribu barel."
   ]
  },
  {
   "cell_type": "code",
   "execution_count": 244,
   "metadata": {},
   "outputs": [
    {
     "name": "stdout",
     "output_type": "stream",
     "text": [
      "Data Prediksi\n",
      " Hasil analisa bootstrapping\n",
      "----------------------------------------------------------------------|\n",
      "Nilai mean dari rata-rata cad. minyak\t= 95.14278840712039\n",
      "Batas atas selang kepercayaan 95%\t= 97.6130068289584\n",
      "Batas bawah selang kepercayaan 95%\t= 92.38968079980624\n",
      "----------------------------------------------------------------------|\n",
      "\n"
     ]
    },
    {
     "data": {
      "image/png": "[encoded data removed]",
      "text/plain": [
       "<Figure size 432x288 with 1 Axes>"
      ]
     },
     "metadata": {
      "needs_background": "light"
     },
     "output_type": "display_data"
    },
    {
     "name": "stdout",
     "output_type": "stream",
     "text": [
      "\n",
      "\n",
      "Data Aktual\n",
      " Hasil analisa bootstrapping\n",
      "----------------------------------------------------------------------|\n",
      "Nilai mean dari rata-rata cad. minyak\t= 94.9098198649525\n",
      "Batas atas selang kepercayaan 95%\t= 101.02830442836091\n",
      "Batas bawah selang kepercayaan 95%\t= 88.89512480226716\n",
      "----------------------------------------------------------------------|\n",
      "\n"
     ]
    },
    {
     "data": {
      "image/png": "[encoded data removed]",
      "text/plain": [
       "<Figure size 432x288 with 1 Axes>"
      ]
     },
     "metadata": {
      "needs_background": "light"
     },
     "output_type": "display_data"
    }
   ],
   "source": [
    "print('Data Prediksi')\n",
    "bootstrapping(predicted_valid_3, 3)\n",
    "print('\\n')\n",
    "print('Data Aktual')\n",
    "bootstrapping(valid_reg_3['product'], 3)"
   ]
  },
  {
   "cell_type": "markdown",
   "metadata": {},
   "source": [
    "<div class=\"alert alert-success\">\n",
    "<b>Chamdani's comment v.1</b> <a class=\"tocSkip\"></a>\n",
    "\n",
    "Bagus, semua berjalan lancar.\n",
    "\n",
    "</div>"
   ]
  },
  {
   "cell_type": "markdown",
   "metadata": {},
   "source": [
    "Nilai rata-rata maksimal pada selang kepercayaan 95% untuk region 3 diperoleh sebesar 97.61 ribu barel sedangkan nilai minimalnya berada pada 92.39 ribu barel. Nilai rata-rata minimal dari region ini sudah melebihi batas minimal supaya tidak terjadi kerugian yaitu minimal bernilai 22.22 ribu barel. Bootstrapping pada data aktual juga memberikan nilai minimal yang masih melebihi batas minimal.\n",
    "\n",
    "Seluruh laba pada ketiga region memiliki distribusi normal yang ditandai dengan nilai median yang bernilai sama dengan mean."
   ]
  },
  {
   "cell_type": "markdown",
   "metadata": {},
   "source": [
    "<div class=\"alert alert-success\">\n",
    "<b>Chamdani's comment v.1</b> <a class=\"tocSkip\"></a>\n",
    "\n",
    "Bagus, semua berjalan lancar.\n",
    "\n",
    "</div>"
   ]
  },
  {
   "cell_type": "markdown",
   "metadata": {},
   "source": [
    "### Resiko Kerugian"
   ]
  },
  {
   "cell_type": "markdown",
   "metadata": {},
   "source": [
    "Untuk analisa resiko dilakukan bootstrapping dengan mengambil 500 titik sumur secara random lalu memilih 200 titik terbaik dari setiap subsample dan menghitung rata-rata dan selang kepercayaan 90% untuk rata-rata. Alasan pemilihan 500 titik dilakukan secara random karena untuk 500 titik terbaik-pun keseluruhan sumur sudah pasti profit karena berdasarkan analisa bootstrap untuk cadangan minyak pada poin bahasan 6.1, seluruh sumur memiliki cadangan minyak lebih dari 22.22 ribu barell."
   ]
  },
  {
   "cell_type": "code",
   "execution_count": 272,
   "metadata": {},
   "outputs": [],
   "source": [
    "def kerugian(data_prediction, region, modals = modal, prices = price, nodes = node):\n",
    "    # Top 200 Well Points\n",
    "    data_prediction = pd.Series(data_prediction)\n",
    "    invest_perwell  = modals/nodes\n",
    "    \n",
    "    # Perhitungan laba\n",
    "    res = pd.DataFrame()\n",
    "    state = np.random.RandomState(12345)\n",
    "    values = []\n",
    "    total_profit  = []\n",
    "    for i in range(1000):\n",
    "        subsamples = data_prediction.sample(n=500, random_state = state, replace = True)\n",
    "        subsamples = pd.Series(subsamples).sort_values(ascending=False)[:200]\n",
    "        profit     = subsamples*price - invest_perwell\n",
    "        \n",
    "        values.append(profit.mean())\n",
    "        total_profit.append(profit.sum())\n",
    "\n",
    "    values = pd.Series(values)\n",
    "    total_profit = pd.Series(total_profit)\n",
    "    values_rugi = values[values<0]\n",
    "    total_rugi  = total_profit[total_profit<0]\n",
    "    print(f'Hasil analisa kerugian untuk region-{region}')\n",
    "    print(f'-------------------------------------------------------------------|')\n",
    "    print(f'Rata-rata profit per sumur:')\n",
    "    print(f'Rata-rata profit\\t\\t = {values.mean():.4f} USD/sumur')\n",
    "    print(f'Batas bawah selang kepercayaan\\t = {values.quantile(0.025):.4f} USD/sumur')\n",
    "    print(f'Batas atas selang kepercayaan\\t = {values.quantile(0.975):.4f} USD/sumur')\n",
    "    print(f'Nilai minimal\\t\\t\\t = {values.min():.4f} USD/sumur')\n",
    "    print(f'Nilai maximal\\t\\t\\t = {values.max():.4f} USD/sumur')\n",
    "    print('')\n",
    "    print(f'Rata-rata total profit\\t\\t = {total_profit.mean():.4f} USD')\n",
    "    print(f'Batas bawah selang kepercayaan\\t = {total_profit.quantile(0.025):.4f} USD')\n",
    "    print(f'Batas atas selang kepercayaan\\t = {total_profit.quantile(0.975):.4f} USD')\n",
    "    print(f'Nilai minimal\\t\\t\\t = {total_profit.min():.4f} USD')\n",
    "    print(f'Nilai maximal\\t\\t\\t = {total_profit.max():.4f} USD\\n')\n",
    "    print(f'Resiko kerugian\\t\\t\\t = {len(total_rugi)/len(total_profit)*100:.8f}%')\n",
    "    \n",
    "    \n",
    "    plot_data = total_profit/1e6\n",
    "    plot_data.plot(kind='hist', bins = 30,label='distribusi')\n",
    "    plt.xlabel('Total Profit, Milion USD')\n",
    "    plt.ylabel('Frekuensi')\n",
    "    plt.title(f'Distirbusi Total Profit cad. minyak region {region} hasil bootstrap')\n",
    "    plt.axvline(x=plot_data.mean(), color='red',ls='-', label='mean')\n",
    "    plt.axvline(x=plot_data.median(), color='blue',ls='--', label='median')\n",
    "    plt.axvline(x=plot_data.quantile(1-2.5/100), color='black', ls='--',label='batas atas')\n",
    "    plt.axvline(x=plot_data.quantile(2.5/100), color='black', ls='--',label='batas bawah')\n",
    "    plt.legend()\n",
    "    plt.show()\n",
    "    print(f'-------------------------------------------------------------------|')"
   ]
  },
  {
   "cell_type": "code",
   "execution_count": 273,
   "metadata": {},
   "outputs": [
    {
     "name": "stdout",
     "output_type": "stream",
     "text": [
      "Hasil analisa kerugian untuk region-1\n",
      "-------------------------------------------------------------------|\n",
      "Rata-rata profit per sumur:\n",
      "Rata-rata profit\t\t = 18507.9746 USD/sumur\n",
      "Batas bawah selang kepercayaan\t = 7002.7473 USD/sumur\n",
      "Batas atas selang kepercayaan\t = 30330.9474 USD/sumur\n",
      "Nilai minimal\t\t\t = -772.1909 USD/sumur\n",
      "Nilai maximal\t\t\t = 36087.3852 USD/sumur\n",
      "\n",
      "Rata-rata total profit\t\t = 3701594.9153 USD\n",
      "Batas bawah selang kepercayaan\t = 1400549.4501 USD\n",
      "Batas atas selang kepercayaan\t = 6066189.4786 USD\n",
      "Nilai minimal\t\t\t = -154438.1812 USD\n",
      "Nilai maximal\t\t\t = 7217477.0484 USD\n",
      "\n",
      "Resiko kerugian\t\t\t = 0.20000000%\n"
     ]
    },
    {
     "data": {
      "image/png": "[encoded data removed]",
      "text/plain": [
       "<Figure size 432x288 with 1 Axes>"
      ]
     },
     "metadata": {
      "needs_background": "light"
     },
     "output_type": "display_data"
    },
    {
     "name": "stdout",
     "output_type": "stream",
     "text": [
      "-------------------------------------------------------------------|\n"
     ]
    }
   ],
   "source": [
    "kerugian(predicted_valid_1, 1)"
   ]
  },
  {
   "cell_type": "code",
   "execution_count": 274,
   "metadata": {},
   "outputs": [
    {
     "name": "stdout",
     "output_type": "stream",
     "text": [
      "Hasil analisa kerugian untuk region-2\n",
      "-------------------------------------------------------------------|\n",
      "Rata-rata profit per sumur:\n",
      "Rata-rata profit\t\t = 24027.5083 USD/sumur\n",
      "Batas bawah selang kepercayaan\t = 4308.7332 USD/sumur\n",
      "Batas atas selang kepercayaan\t = 44443.7120 USD/sumur\n",
      "Nilai minimal\t\t\t = -5838.8229 USD/sumur\n",
      "Nilai maximal\t\t\t = 60735.4121 USD/sumur\n",
      "\n",
      "Rata-rata total profit\t\t = 4805501.6639 USD\n",
      "Batas bawah selang kepercayaan\t = 861746.6379 USD\n",
      "Batas atas selang kepercayaan\t = 8888742.3955 USD\n",
      "Nilai minimal\t\t\t = -1167764.5857 USD\n",
      "Nilai maximal\t\t\t = 12147082.4293 USD\n",
      "\n",
      "Resiko kerugian\t\t\t = 1.20000000%\n"
     ]
    },
    {
     "data": {
      "image/png": "[encoded data removed]",
      "text/plain": [
       "<Figure size 432x288 with 1 Axes>"
      ]
     },
     "metadata": {
      "needs_background": "light"
     },
     "output_type": "display_data"
    },
    {
     "name": "stdout",
     "output_type": "stream",
     "text": [
      "-------------------------------------------------------------------|\n"
     ]
    }
   ],
   "source": [
    "kerugian(predicted_valid_2, 2)"
   ]
  },
  {
   "cell_type": "code",
   "execution_count": 275,
   "metadata": {},
   "outputs": [
    {
     "name": "stdout",
     "output_type": "stream",
     "text": [
      "Hasil analisa kerugian untuk region-3\n",
      "-------------------------------------------------------------------|\n",
      "Rata-rata profit per sumur:\n",
      "Rata-rata profit\t\t = 16058.5170 USD/sumur\n",
      "Batas bawah selang kepercayaan\t = 6279.4717 USD/sumur\n",
      "Batas atas selang kepercayaan\t = 26089.5362 USD/sumur\n",
      "Nilai minimal\t\t\t = -274.4828 USD/sumur\n",
      "Nilai maximal\t\t\t = 31531.0461 USD/sumur\n",
      "\n",
      "Rata-rata total profit\t\t = 3211703.4036 USD\n",
      "Batas bawah selang kepercayaan\t = 1255894.3438 USD\n",
      "Batas atas selang kepercayaan\t = 5217907.2337 USD\n",
      "Nilai minimal\t\t\t = -54896.5602 USD\n",
      "Nilai maximal\t\t\t = 6306209.2276 USD\n",
      "\n",
      "Resiko kerugian\t\t\t = 0.10000000%\n"
     ]
    },
    {
     "data": {
      "image/png": "[encoded data removed]",
      "text/plain": [
       "<Figure size 432x288 with 1 Axes>"
      ]
     },
     "metadata": {
      "needs_background": "light"
     },
     "output_type": "display_data"
    },
    {
     "name": "stdout",
     "output_type": "stream",
     "text": [
      "-------------------------------------------------------------------|\n"
     ]
    }
   ],
   "source": [
    "kerugian(predicted_valid_3, 3)"
   ]
  },
  {
   "cell_type": "markdown",
   "metadata": {},
   "source": [
    "Apabila kita memilih 500 titik sumur secara random dan mengambil 200 titik terbaik dari setiap subsample, maka region 3 memiliki potensi kerugian yang paling rendah yaitu 0.1%, diikuti dengan region 3 sebesar 0.2%, dan region 2 sebesar 1.2%. Meskipun begitu, seluruh region memiliki batas bawah selang kepercayaan untuk rata-rata dan total profit lebih dari 0. \n",
    "\n",
    "Hasil ini berbeda dengan dengan analisa profit pada bahasan sebelumnya dimana urutan profitability dari yang tertinggi yaitu region 1, region 2, dan region 3. Pada analisa ini urutannya berubah menjadi region 2, region 1, dan region 3. Tentu analisa yang lebih tepat dalam menentukan sumur yang potensial adalah pada bahasan poin 4. Kenapa? karena pada analisa ini, pemilihan sumur dilakukan secara random. Apabila kita melakukan riset secara mendalam dan memilih 200 sumur terbaik maka ketiga region pasti akan untung, namun bisa jadi kesalahan explorasi dan estimasi cadangan minyak oleh tim lapangan terjadi yang menyebabkan dataset ini menjadi tidak akurat. Pada kondisi itulah analisa rugi ini dapat bermanfaat."
   ]
  },
  {
   "cell_type": "markdown",
   "metadata": {},
   "source": [
    "<div class=\"alert alert-success\">\n",
    "<b>Chamdani's comment v.1</b> <a class=\"tocSkip\"></a>\n",
    "\n",
    "Bagus, semua berjalan lancar.\n",
    "\n",
    "</div>"
   ]
  },
  {
   "cell_type": "markdown",
   "metadata": {},
   "source": [
    "## Kesimpulan"
   ]
  },
  {
   "cell_type": "markdown",
   "metadata": {},
   "source": [
    "Kesimpulan yang diperoleh dari analisa ini adalah:\n",
    "1. Melihat profitabilitynya, region 1 merupakan wilayah yang paling berpotensi memberikan keuntungan paling tinggi. Disusul oleh region 3 dan region 1.\n",
    "2. Secara akurasi model, region 2 memiliki nilai RMSE yang paling rendah, disusul oleh region 1 dan 3.\n",
    "3. Pada analisa 500 titik, seluruh region memiliki tingkat kerugian dibawah 2.5%.\n",
    "4. Berdasarkan analisa profitability, RMSE, dan resiko kerugian. Dipilih region 2 karena memiliki nilai RMSE yang sangat rendah jauh lebih baik dari region 1 dan 3, namun tetap memiliki profitability yang tinggi (lebih rendah 8% dari region 3, dan lebih rendah 11% dari region 1).\n",
    "5. Namun apabila ingin mengambil resiko, region 1 dapat dipilih karena memiliki profitability paling tinggi namun nilai RMSE nya masih lebih rendah dari region 3 dan juga memiliki nilai selang kepercayaan cadangan minyak lebih tinggi dibanding kedua region lainnya. Namun penting untuk melakukan riset lebih lanjut baik itu verifikasi hasil estimasi cadangan minyak oleh tim explorasi maupun analisa data oleh tim analis data."
   ]
  },
  {
   "cell_type": "markdown",
   "metadata": {},
   "source": [
    "<div class=\"alert alert-success\">\n",
    "<b>Chamdani's comment v.1</b> <a class=\"tocSkip\"></a>\n",
    "\n",
    "Bagus, semua berjalan lancar.\n",
    "\n",
    "</div>"
   ]
  },
  {
   "cell_type": "code",
   "execution_count": null,
   "metadata": {},
   "outputs": [],
   "source": []
  }
 ],
 "metadata": {
  "kernelspec": {
   "display_name": "Python 3 (ipykernel)",
   "language": "python",
   "name": "python3"
  },
  "language_info": {
   "codemirror_mode": {
    "name": "ipython",
    "version": 3
   },
   "file_extension": ".py",
   "mimetype": "text/x-python",
   "name": "python",
   "nbconvert_exporter": "python",
   "pygments_lexer": "ipython3",
   "version": "3.9.5"
  },
  "toc": {
   "base_numbering": 1,
   "nav_menu": {},
   "number_sections": true,
   "sideBar": true,
   "skip_h1_title": true,
   "title_cell": "Table of Contents",
   "title_sidebar": "Contents",
   "toc_cell": false,
   "toc_position": {},
   "toc_section_display": true,
   "toc_window_display": false
  }
 },
 "nbformat": 4,
 "nbformat_minor": 2
}
