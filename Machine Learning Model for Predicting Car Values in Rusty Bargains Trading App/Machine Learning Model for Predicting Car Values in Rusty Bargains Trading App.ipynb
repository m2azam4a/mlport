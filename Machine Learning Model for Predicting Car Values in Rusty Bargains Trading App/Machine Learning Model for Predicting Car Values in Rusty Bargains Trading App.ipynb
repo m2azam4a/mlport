{
 "cells": [
  {
   "cell_type": "markdown",
   "metadata": {},
   "source": [
    "<div style=\"border:solid black 2px; padding: 20px\">\n",
    "\n",
    "# Reviewer's feedback v.1\n",
    "\n",
    "**Halo Azam**\n",
    "    \n",
    "**Greetings from Chamdani**\n",
    "\n",
    "Terima kasih telah mengirimkan project kamu dengan ini kamu sudah memulai sebuah langkah yang luar biasa saat ini. Disini saya akan mereview proyek kamu ya.\n",
    "\n",
    "Saya akan memberikan beberapa komentar dan feedback seperti dibawah ini, **mohon jangan dipindah, dirubah, maupun dihapus ya :).**\n",
    "    \n",
    "> Mohon diperhatikan bahwa apabila ada temuan atau kesalahan yang sama namun tidak ada komentar perbaikan disana, itu berarti kamu masih tetap harus memperbaikinya yaa.\n",
    "\n",
    "Komentar yang saya berikan akan muncul dalam warna hijau, kuning, atau pun merah seperti ini:\n",
    "\n",
    "</div>\n",
    "\n",
    "<div class=\"alert alert-success\">\n",
    "<b>Chamdani's comment v.*</b> <a class=\"tocSkip\"></a>\n",
    "\n",
    "Bagus, semua berjalan lancar.\n",
    "\n",
    "</div>\n",
    "\n",
    "<div class=\"alert alert-warning\">\n",
    "<b>Chamdani's comment v.*</b> <a class=\"tocSkip\"></a>\n",
    "\n",
    "Ada beberapa catatan.\n",
    "\n",
    "</div>\n",
    "\n",
    "<div class=\"alert alert-danger\">\n",
    "<b>Chamdani's comment v.*</b> <a class=\"tocSkip\"></a>\n",
    "\n",
    "Perlu beberapa perbaikan.\n",
    "\n",
    "</div>\n",
    "\n",
    "<div class=\"alert alert-info\">\n",
    "<b>Chamdani's info v.1</b> <a class=\"tocSkip\"></a>\n",
    "\n",
    "Catatan umum:\n",
    "* Fungsi `print` tidak diperlukan untuk mencetak suatu nilai\n",
    "* Lebih baik tulis kode pada bagian akhir cell code untuk menampilkan output tanpa `print`\n",
    "* Perintah soal yang ada dalam tanda kurung siku `[...]` sebaiknya dihilangkan\n",
    "* Sangat disarankan untuk menggunakan cell markdown untuk memberikan deskripsi temuan atau kesimpulan.\n",
    "* Tidak disarankan menggunakan cell code untuk memberikan penjelasan / deskripsi.\n",
    "* Untuk menghindari galat pada notebook project kamu. Batasi jumlah output yang dikeluarkan setiap kode dengan batas max 10 baris data.\n",
    "\n",
    "</div>\n",
    "\n",
    "<div style=\"border:solid gray 5px; padding: 20px\" class=\"alert alert-warning\">\n",
    "\n",
    "**INGATLAH** \n",
    "* Project kamu tidak akan bisa diterima bila kamu masih memiliki feedback berwarna merah. \n",
    "* Kamu hanya memiliki 3 kali kesempatan iterasi submission disetiap projectnya \n",
    "* Jika merasa kesulitan kamu dapat menuliskan responmu atas feedback saya menggunakan blok markdown warna biru dan kamu bisa mengirimkan project pada submission selanjutnya untuk mendapatkan jawaban / respon dari saya segera yaa\n",
    "\n",
    "Kamu dapat menjawab saya dengan menggunakan blok berwarna biru seperti ini\n",
    "\n",
    "<div class=\"alert alert-info\">\n",
    "<b>Student answer</b> <a class=\"tocSkip\"></a>\n",
    "\n",
    "Siap kak.\n",
    "\n",
    "</div>"
   ]
  },
  {
   "cell_type": "markdown",
   "metadata": {},
   "source": [
    "<div style=\"border:solid black 2px; padding: 20px\" class=\"alert alert-success\">\n",
    "    \n",
    "# General feedback v.1 *Project Accepted*\n",
    "\n",
    "Terima kasih banyak telah mengirimkan proyek Anda! \n",
    "<br>\n",
    "    \n",
    "Secara keseluruhan, proyek Anda **SANGAT** mengesankan. Semoga apa yang kamu pelajari dalam project ini dapat membantu meningkatkan kemampuanmu. Pertahankan apa yang sudah bagus, dan tingkatkan apa yang menurutmu masih perlu ditingkatkan. Semoga berhasil pada project selanjutnya yaa :)\n",
    "\n",
    "**TETAP SEMANGAT!!**\n",
    "    \n",
    "</div>"
   ]
  },
  {
   "cell_type": "markdown",
   "metadata": {},
   "source": [
    "# Rusty Bargain: Prediksi Nilai Jual Mobil Bekas\n",
    "\n",
    "Rusty Bargain adalah perusahaan jual beli mobil bekas yang sedang mengembangkan sebuah aplikasi untuk menarik pembeli baru. Dalam aplikasi tersebut, kamu bisa dengan cepat mengetahui nilai pasar mobilmu. Kamu memiliki akses ke data historis, spesifikasi teknis kendaraan, versi model kendaraan, dan harga kendaraan. Tugasmu adalah membuat suatu model yang mampu menentukan nilai pasar mobil.\n",
    "Rusty Bargain tertarik pada:\n",
    "\n",
    "- kualitas prediksi;\n",
    "- kecepatan model dalam memprediksi;\n",
    "- waktu yang diperlukan untuk melatih model"
   ]
  },
  {
   "cell_type": "markdown",
   "metadata": {},
   "source": [
    "<div class=\"alert alert-success\">\n",
    "<b>Chamdani's comment v.1</b> <a class=\"tocSkip\"></a>\n",
    "\n",
    "Hebat, Kerja bagus!\n",
    "\n",
    "</div>"
   ]
  },
  {
   "cell_type": "markdown",
   "metadata": {},
   "source": [
    "## Persiapan Data"
   ]
  },
  {
   "cell_type": "markdown",
   "metadata": {},
   "source": [
    "### Mempersiapkan Library"
   ]
  },
  {
   "cell_type": "code",
   "execution_count": 1,
   "metadata": {},
   "outputs": [],
   "source": [
    "import pandas as pd\n",
    "import numpy as np\n",
    "\n",
    "import matplotlib.pyplot as plt\n",
    "import seaborn as sb\n",
    "\n",
    "from sklearn.model_selection import train_test_split\n",
    "from sklearn.metrics import mean_squared_error\n",
    "from sklearn.model_selection import GridSearchCV\n",
    "from sklearn.metrics import accuracy_score, make_scorer\n",
    "\n",
    "\n",
    "#Model\n",
    "from sklearn.dummy import DummyRegressor\n",
    "from sklearn.linear_model import LinearRegression\n",
    "import xgboost as xg\n",
    "from sklearn.ensemble import RandomForestRegressor\n",
    "from catboost import CatBoostRegressor\n",
    "import lightgbm as lgb\n",
    "\n",
    "import time"
   ]
  },
  {
   "cell_type": "code",
   "execution_count": 2,
   "metadata": {
    "scrolled": true
   },
   "outputs": [
    {
     "name": "stdout",
     "output_type": "stream",
     "text": [
      "Collecting category_encoders\n",
      "  Downloading category_encoders-2.6.3-py2.py3-none-any.whl (81 kB)\n",
      "\u001b[K     |████████████████████████████████| 81 kB 9.4 MB/s  eta 0:00:01\n",
      "\u001b[?25hRequirement already satisfied: scipy>=1.0.0 in /opt/conda/lib/python3.9/site-packages (from category_encoders) (1.8.0)\n",
      "Requirement already satisfied: numpy>=1.14.0 in /opt/conda/lib/python3.9/site-packages (from category_encoders) (1.21.1)\n",
      "Requirement already satisfied: patsy>=0.5.1 in /opt/conda/lib/python3.9/site-packages (from category_encoders) (0.5.2)\n",
      "Requirement already satisfied: pandas>=1.0.5 in /opt/conda/lib/python3.9/site-packages (from category_encoders) (1.2.4)\n",
      "Requirement already satisfied: scikit-learn>=0.20.0 in /opt/conda/lib/python3.9/site-packages (from category_encoders) (0.24.1)\n",
      "Requirement already satisfied: statsmodels>=0.9.0 in /opt/conda/lib/python3.9/site-packages (from category_encoders) (0.13.2)\n",
      "Requirement already satisfied: python-dateutil>=2.7.3 in /opt/conda/lib/python3.9/site-packages (from pandas>=1.0.5->category_encoders) (2.8.1)\n",
      "Requirement already satisfied: pytz>=2017.3 in /opt/conda/lib/python3.9/site-packages (from pandas>=1.0.5->category_encoders) (2021.1)\n",
      "Requirement already satisfied: six in /opt/conda/lib/python3.9/site-packages (from patsy>=0.5.1->category_encoders) (1.16.0)\n",
      "Requirement already satisfied: threadpoolctl>=2.0.0 in /opt/conda/lib/python3.9/site-packages (from scikit-learn>=0.20.0->category_encoders) (3.1.0)\n",
      "Requirement already satisfied: joblib>=0.11 in /opt/conda/lib/python3.9/site-packages (from scikit-learn>=0.20.0->category_encoders) (1.1.0)\n",
      "Requirement already satisfied: packaging>=21.3 in /opt/conda/lib/python3.9/site-packages (from statsmodels>=0.9.0->category_encoders) (21.3)\n",
      "Requirement already satisfied: pyparsing!=3.0.5,>=2.0.2 in /opt/conda/lib/python3.9/site-packages (from packaging>=21.3->statsmodels>=0.9.0->category_encoders) (2.4.7)\n",
      "Installing collected packages: category-encoders\n",
      "Successfully installed category-encoders-2.6.3\n",
      "Note: you may need to restart the kernel to use updated packages.\n"
     ]
    }
   ],
   "source": [
    "pip install category_encoders"
   ]
  },
  {
   "cell_type": "code",
   "execution_count": 3,
   "metadata": {},
   "outputs": [],
   "source": [
    "import category_encoders as ce"
   ]
  },
  {
   "cell_type": "markdown",
   "metadata": {},
   "source": [
    "Library category_encoders digunakan untuk proses encoding feature kategorik dengan jumlah nilai unik yang banyak dengan menggunakan metode Target Encoding."
   ]
  },
  {
   "cell_type": "markdown",
   "metadata": {},
   "source": [
    "<div class=\"alert alert-success\">\n",
    "<b>Chamdani's comment v.1</b> <a class=\"tocSkip\"></a>\n",
    "\n",
    "Hebat, Kerja bagus!\n",
    "\n",
    "</div>"
   ]
  },
  {
   "cell_type": "markdown",
   "metadata": {},
   "source": [
    "### Memuat dan Mempersiapkan Fitur"
   ]
  },
  {
   "cell_type": "code",
   "execution_count": 4,
   "metadata": {},
   "outputs": [],
   "source": [
    "data = pd.read_csv(\"/datasets/car_data.csv\")"
   ]
  },
  {
   "cell_type": "code",
   "execution_count": 5,
   "metadata": {},
   "outputs": [
    {
     "name": "stdout",
     "output_type": "stream",
     "text": [
      "<class 'pandas.core.frame.DataFrame'>\n",
      "RangeIndex: 354369 entries, 0 to 354368\n",
      "Data columns (total 16 columns):\n",
      " #   Column             Non-Null Count   Dtype \n",
      "---  ------             --------------   ----- \n",
      " 0   DateCrawled        354369 non-null  object\n",
      " 1   Price              354369 non-null  int64 \n",
      " 2   VehicleType        316879 non-null  object\n",
      " 3   RegistrationYear   354369 non-null  int64 \n",
      " 4   Gearbox            334536 non-null  object\n",
      " 5   Power              354369 non-null  int64 \n",
      " 6   Model              334664 non-null  object\n",
      " 7   Mileage            354369 non-null  int64 \n",
      " 8   RegistrationMonth  354369 non-null  int64 \n",
      " 9   FuelType           321474 non-null  object\n",
      " 10  Brand              354369 non-null  object\n",
      " 11  NotRepaired        283215 non-null  object\n",
      " 12  DateCreated        354369 non-null  object\n",
      " 13  NumberOfPictures   354369 non-null  int64 \n",
      " 14  PostalCode         354369 non-null  int64 \n",
      " 15  LastSeen           354369 non-null  object\n",
      "dtypes: int64(7), object(9)\n",
      "memory usage: 43.3+ MB\n"
     ]
    }
   ],
   "source": [
    "data.info()"
   ]
  },
  {
   "cell_type": "code",
   "execution_count": 6,
   "metadata": {},
   "outputs": [
    {
     "data": {
      "text/html": [
       "<div>\n",
       "<style scoped>\n",
       "    .dataframe tbody tr th:only-of-type {\n",
       "        vertical-align: middle;\n",
       "    }\n",
       "\n",
       "    .dataframe tbody tr th {\n",
       "        vertical-align: top;\n",
       "    }\n",
       "\n",
       "    .dataframe thead th {\n",
       "        text-align: right;\n",
       "    }\n",
       "</style>\n",
       "<table border=\"1\" class=\"dataframe\">\n",
       "  <thead>\n",
       "    <tr style=\"text-align: right;\">\n",
       "      <th></th>\n",
       "      <th>DateCrawled</th>\n",
       "      <th>Price</th>\n",
       "      <th>VehicleType</th>\n",
       "      <th>RegistrationYear</th>\n",
       "      <th>Gearbox</th>\n",
       "      <th>Power</th>\n",
       "      <th>Model</th>\n",
       "      <th>Mileage</th>\n",
       "      <th>RegistrationMonth</th>\n",
       "      <th>FuelType</th>\n",
       "      <th>Brand</th>\n",
       "      <th>NotRepaired</th>\n",
       "      <th>DateCreated</th>\n",
       "      <th>NumberOfPictures</th>\n",
       "      <th>PostalCode</th>\n",
       "      <th>LastSeen</th>\n",
       "    </tr>\n",
       "  </thead>\n",
       "  <tbody>\n",
       "    <tr>\n",
       "      <th>0</th>\n",
       "      <td>24/03/2016 11:52</td>\n",
       "      <td>480</td>\n",
       "      <td>NaN</td>\n",
       "      <td>1993</td>\n",
       "      <td>manual</td>\n",
       "      <td>0</td>\n",
       "      <td>golf</td>\n",
       "      <td>150000</td>\n",
       "      <td>0</td>\n",
       "      <td>petrol</td>\n",
       "      <td>volkswagen</td>\n",
       "      <td>NaN</td>\n",
       "      <td>24/03/2016 00:00</td>\n",
       "      <td>0</td>\n",
       "      <td>70435</td>\n",
       "      <td>07/04/2016 03:16</td>\n",
       "    </tr>\n",
       "    <tr>\n",
       "      <th>1</th>\n",
       "      <td>24/03/2016 10:58</td>\n",
       "      <td>18300</td>\n",
       "      <td>coupe</td>\n",
       "      <td>2011</td>\n",
       "      <td>manual</td>\n",
       "      <td>190</td>\n",
       "      <td>NaN</td>\n",
       "      <td>125000</td>\n",
       "      <td>5</td>\n",
       "      <td>gasoline</td>\n",
       "      <td>audi</td>\n",
       "      <td>yes</td>\n",
       "      <td>24/03/2016 00:00</td>\n",
       "      <td>0</td>\n",
       "      <td>66954</td>\n",
       "      <td>07/04/2016 01:46</td>\n",
       "    </tr>\n",
       "    <tr>\n",
       "      <th>2</th>\n",
       "      <td>14/03/2016 12:52</td>\n",
       "      <td>9800</td>\n",
       "      <td>suv</td>\n",
       "      <td>2004</td>\n",
       "      <td>auto</td>\n",
       "      <td>163</td>\n",
       "      <td>grand</td>\n",
       "      <td>125000</td>\n",
       "      <td>8</td>\n",
       "      <td>gasoline</td>\n",
       "      <td>jeep</td>\n",
       "      <td>NaN</td>\n",
       "      <td>14/03/2016 00:00</td>\n",
       "      <td>0</td>\n",
       "      <td>90480</td>\n",
       "      <td>05/04/2016 12:47</td>\n",
       "    </tr>\n",
       "    <tr>\n",
       "      <th>3</th>\n",
       "      <td>17/03/2016 16:54</td>\n",
       "      <td>1500</td>\n",
       "      <td>small</td>\n",
       "      <td>2001</td>\n",
       "      <td>manual</td>\n",
       "      <td>75</td>\n",
       "      <td>golf</td>\n",
       "      <td>150000</td>\n",
       "      <td>6</td>\n",
       "      <td>petrol</td>\n",
       "      <td>volkswagen</td>\n",
       "      <td>no</td>\n",
       "      <td>17/03/2016 00:00</td>\n",
       "      <td>0</td>\n",
       "      <td>91074</td>\n",
       "      <td>17/03/2016 17:40</td>\n",
       "    </tr>\n",
       "    <tr>\n",
       "      <th>4</th>\n",
       "      <td>31/03/2016 17:25</td>\n",
       "      <td>3600</td>\n",
       "      <td>small</td>\n",
       "      <td>2008</td>\n",
       "      <td>manual</td>\n",
       "      <td>69</td>\n",
       "      <td>fabia</td>\n",
       "      <td>90000</td>\n",
       "      <td>7</td>\n",
       "      <td>gasoline</td>\n",
       "      <td>skoda</td>\n",
       "      <td>no</td>\n",
       "      <td>31/03/2016 00:00</td>\n",
       "      <td>0</td>\n",
       "      <td>60437</td>\n",
       "      <td>06/04/2016 10:17</td>\n",
       "    </tr>\n",
       "  </tbody>\n",
       "</table>\n",
       "</div>"
      ],
      "text/plain": [
       "        DateCrawled  Price VehicleType  RegistrationYear Gearbox  Power  \\\n",
       "0  24/03/2016 11:52    480         NaN              1993  manual      0   \n",
       "1  24/03/2016 10:58  18300       coupe              2011  manual    190   \n",
       "2  14/03/2016 12:52   9800         suv              2004    auto    163   \n",
       "3  17/03/2016 16:54   1500       small              2001  manual     75   \n",
       "4  31/03/2016 17:25   3600       small              2008  manual     69   \n",
       "\n",
       "   Model  Mileage  RegistrationMonth  FuelType       Brand NotRepaired  \\\n",
       "0   golf   150000                  0    petrol  volkswagen         NaN   \n",
       "1    NaN   125000                  5  gasoline        audi         yes   \n",
       "2  grand   125000                  8  gasoline        jeep         NaN   \n",
       "3   golf   150000                  6    petrol  volkswagen          no   \n",
       "4  fabia    90000                  7  gasoline       skoda          no   \n",
       "\n",
       "        DateCreated  NumberOfPictures  PostalCode          LastSeen  \n",
       "0  24/03/2016 00:00                 0       70435  07/04/2016 03:16  \n",
       "1  24/03/2016 00:00                 0       66954  07/04/2016 01:46  \n",
       "2  14/03/2016 00:00                 0       90480  05/04/2016 12:47  \n",
       "3  17/03/2016 00:00                 0       91074  17/03/2016 17:40  \n",
       "4  31/03/2016 00:00                 0       60437  06/04/2016 10:17  "
      ]
     },
     "execution_count": 6,
     "metadata": {},
     "output_type": "execute_result"
    }
   ],
   "source": [
    "data.head()"
   ]
  },
  {
   "cell_type": "markdown",
   "metadata": {},
   "source": [
    "Terdapat data yang tidak dibutuhkan untuk pelatihan model karena tidak relevan, yaitu:\n",
    "1. DateCrawled\n",
    "2. RegistrationMonth\n",
    "3. DateCreated\n",
    "4. PostalCpde\n",
    "5. LastSeen\n",
    "\n",
    "Beberapa data tersebut sudah dapat diwakilkan oleh data lain. Seperti data **DateCrawled** dapat diwakili oleh kondisi mesin kendaraan yaitu kolom **NotRepaired**, dan **Mileage**. Data **PostalCode** membuat harga mobil menjadi terlalu spesifik, memang bisa jadi kendaraan yang kondisi yang sangat identik namun lokasinya harganya berbeda namun bukan itu yang kita inginkan. **RegristrationMonth** sudah dapat diwakilkan oleh tahun produksi **RegristrationYear**."
   ]
  },
  {
   "cell_type": "code",
   "execution_count": 7,
   "metadata": {},
   "outputs": [],
   "source": [
    "# Code untuk drop kolom\n",
    "data = data.drop(['DateCrawled','RegistrationMonth','DateCreated','PostalCode','LastSeen'], axis = 1)"
   ]
  },
  {
   "cell_type": "code",
   "execution_count": 8,
   "metadata": {},
   "outputs": [
    {
     "data": {
      "text/html": [
       "<div>\n",
       "<style scoped>\n",
       "    .dataframe tbody tr th:only-of-type {\n",
       "        vertical-align: middle;\n",
       "    }\n",
       "\n",
       "    .dataframe tbody tr th {\n",
       "        vertical-align: top;\n",
       "    }\n",
       "\n",
       "    .dataframe thead th {\n",
       "        text-align: right;\n",
       "    }\n",
       "</style>\n",
       "<table border=\"1\" class=\"dataframe\">\n",
       "  <thead>\n",
       "    <tr style=\"text-align: right;\">\n",
       "      <th></th>\n",
       "      <th>Price</th>\n",
       "      <th>VehicleType</th>\n",
       "      <th>RegistrationYear</th>\n",
       "      <th>Gearbox</th>\n",
       "      <th>Power</th>\n",
       "      <th>Model</th>\n",
       "      <th>Mileage</th>\n",
       "      <th>FuelType</th>\n",
       "      <th>Brand</th>\n",
       "      <th>NotRepaired</th>\n",
       "      <th>NumberOfPictures</th>\n",
       "    </tr>\n",
       "  </thead>\n",
       "  <tbody>\n",
       "    <tr>\n",
       "      <th>0</th>\n",
       "      <td>480</td>\n",
       "      <td>NaN</td>\n",
       "      <td>1993</td>\n",
       "      <td>manual</td>\n",
       "      <td>0</td>\n",
       "      <td>golf</td>\n",
       "      <td>150000</td>\n",
       "      <td>petrol</td>\n",
       "      <td>volkswagen</td>\n",
       "      <td>NaN</td>\n",
       "      <td>0</td>\n",
       "    </tr>\n",
       "    <tr>\n",
       "      <th>1</th>\n",
       "      <td>18300</td>\n",
       "      <td>coupe</td>\n",
       "      <td>2011</td>\n",
       "      <td>manual</td>\n",
       "      <td>190</td>\n",
       "      <td>NaN</td>\n",
       "      <td>125000</td>\n",
       "      <td>gasoline</td>\n",
       "      <td>audi</td>\n",
       "      <td>yes</td>\n",
       "      <td>0</td>\n",
       "    </tr>\n",
       "    <tr>\n",
       "      <th>2</th>\n",
       "      <td>9800</td>\n",
       "      <td>suv</td>\n",
       "      <td>2004</td>\n",
       "      <td>auto</td>\n",
       "      <td>163</td>\n",
       "      <td>grand</td>\n",
       "      <td>125000</td>\n",
       "      <td>gasoline</td>\n",
       "      <td>jeep</td>\n",
       "      <td>NaN</td>\n",
       "      <td>0</td>\n",
       "    </tr>\n",
       "    <tr>\n",
       "      <th>3</th>\n",
       "      <td>1500</td>\n",
       "      <td>small</td>\n",
       "      <td>2001</td>\n",
       "      <td>manual</td>\n",
       "      <td>75</td>\n",
       "      <td>golf</td>\n",
       "      <td>150000</td>\n",
       "      <td>petrol</td>\n",
       "      <td>volkswagen</td>\n",
       "      <td>no</td>\n",
       "      <td>0</td>\n",
       "    </tr>\n",
       "    <tr>\n",
       "      <th>4</th>\n",
       "      <td>3600</td>\n",
       "      <td>small</td>\n",
       "      <td>2008</td>\n",
       "      <td>manual</td>\n",
       "      <td>69</td>\n",
       "      <td>fabia</td>\n",
       "      <td>90000</td>\n",
       "      <td>gasoline</td>\n",
       "      <td>skoda</td>\n",
       "      <td>no</td>\n",
       "      <td>0</td>\n",
       "    </tr>\n",
       "  </tbody>\n",
       "</table>\n",
       "</div>"
      ],
      "text/plain": [
       "   Price VehicleType  RegistrationYear Gearbox  Power  Model  Mileage  \\\n",
       "0    480         NaN              1993  manual      0   golf   150000   \n",
       "1  18300       coupe              2011  manual    190    NaN   125000   \n",
       "2   9800         suv              2004    auto    163  grand   125000   \n",
       "3   1500       small              2001  manual     75   golf   150000   \n",
       "4   3600       small              2008  manual     69  fabia    90000   \n",
       "\n",
       "   FuelType       Brand NotRepaired  NumberOfPictures  \n",
       "0    petrol  volkswagen         NaN                 0  \n",
       "1  gasoline        audi         yes                 0  \n",
       "2  gasoline        jeep         NaN                 0  \n",
       "3    petrol  volkswagen          no                 0  \n",
       "4  gasoline       skoda          no                 0  "
      ]
     },
     "execution_count": 8,
     "metadata": {},
     "output_type": "execute_result"
    }
   ],
   "source": [
    "data.head()"
   ]
  },
  {
   "cell_type": "markdown",
   "metadata": {},
   "source": [
    "<div class=\"alert alert-success\">\n",
    "<b>Chamdani's comment v.1</b> <a class=\"tocSkip\"></a>\n",
    "\n",
    "Hebat, Kerja bagus!\n",
    "\n",
    "</div>"
   ]
  },
  {
   "cell_type": "markdown",
   "metadata": {},
   "source": [
    "#### Fitur Numerik"
   ]
  },
  {
   "cell_type": "markdown",
   "metadata": {},
   "source": [
    "Proses pemangkasan fitur sudah berjalan dengan baik. Sekarang kita akan melihat deskripsi statistik dari data numerik."
   ]
  },
  {
   "cell_type": "code",
   "execution_count": 9,
   "metadata": {},
   "outputs": [
    {
     "data": {
      "text/html": [
       "<div>\n",
       "<style scoped>\n",
       "    .dataframe tbody tr th:only-of-type {\n",
       "        vertical-align: middle;\n",
       "    }\n",
       "\n",
       "    .dataframe tbody tr th {\n",
       "        vertical-align: top;\n",
       "    }\n",
       "\n",
       "    .dataframe thead th {\n",
       "        text-align: right;\n",
       "    }\n",
       "</style>\n",
       "<table border=\"1\" class=\"dataframe\">\n",
       "  <thead>\n",
       "    <tr style=\"text-align: right;\">\n",
       "      <th></th>\n",
       "      <th>Price</th>\n",
       "      <th>RegistrationYear</th>\n",
       "      <th>Power</th>\n",
       "      <th>Mileage</th>\n",
       "      <th>NumberOfPictures</th>\n",
       "    </tr>\n",
       "  </thead>\n",
       "  <tbody>\n",
       "    <tr>\n",
       "      <th>count</th>\n",
       "      <td>354369.000000</td>\n",
       "      <td>354369.000000</td>\n",
       "      <td>354369.000000</td>\n",
       "      <td>354369.000000</td>\n",
       "      <td>354369.0</td>\n",
       "    </tr>\n",
       "    <tr>\n",
       "      <th>mean</th>\n",
       "      <td>4416.656776</td>\n",
       "      <td>2004.234448</td>\n",
       "      <td>110.094337</td>\n",
       "      <td>128211.172535</td>\n",
       "      <td>0.0</td>\n",
       "    </tr>\n",
       "    <tr>\n",
       "      <th>std</th>\n",
       "      <td>4514.158514</td>\n",
       "      <td>90.227958</td>\n",
       "      <td>189.850405</td>\n",
       "      <td>37905.341530</td>\n",
       "      <td>0.0</td>\n",
       "    </tr>\n",
       "    <tr>\n",
       "      <th>min</th>\n",
       "      <td>0.000000</td>\n",
       "      <td>1000.000000</td>\n",
       "      <td>0.000000</td>\n",
       "      <td>5000.000000</td>\n",
       "      <td>0.0</td>\n",
       "    </tr>\n",
       "    <tr>\n",
       "      <th>25%</th>\n",
       "      <td>1050.000000</td>\n",
       "      <td>1999.000000</td>\n",
       "      <td>69.000000</td>\n",
       "      <td>125000.000000</td>\n",
       "      <td>0.0</td>\n",
       "    </tr>\n",
       "    <tr>\n",
       "      <th>50%</th>\n",
       "      <td>2700.000000</td>\n",
       "      <td>2003.000000</td>\n",
       "      <td>105.000000</td>\n",
       "      <td>150000.000000</td>\n",
       "      <td>0.0</td>\n",
       "    </tr>\n",
       "    <tr>\n",
       "      <th>75%</th>\n",
       "      <td>6400.000000</td>\n",
       "      <td>2008.000000</td>\n",
       "      <td>143.000000</td>\n",
       "      <td>150000.000000</td>\n",
       "      <td>0.0</td>\n",
       "    </tr>\n",
       "    <tr>\n",
       "      <th>max</th>\n",
       "      <td>20000.000000</td>\n",
       "      <td>9999.000000</td>\n",
       "      <td>20000.000000</td>\n",
       "      <td>150000.000000</td>\n",
       "      <td>0.0</td>\n",
       "    </tr>\n",
       "  </tbody>\n",
       "</table>\n",
       "</div>"
      ],
      "text/plain": [
       "               Price  RegistrationYear          Power        Mileage  \\\n",
       "count  354369.000000     354369.000000  354369.000000  354369.000000   \n",
       "mean     4416.656776       2004.234448     110.094337  128211.172535   \n",
       "std      4514.158514         90.227958     189.850405   37905.341530   \n",
       "min         0.000000       1000.000000       0.000000    5000.000000   \n",
       "25%      1050.000000       1999.000000      69.000000  125000.000000   \n",
       "50%      2700.000000       2003.000000     105.000000  150000.000000   \n",
       "75%      6400.000000       2008.000000     143.000000  150000.000000   \n",
       "max     20000.000000       9999.000000   20000.000000  150000.000000   \n",
       "\n",
       "       NumberOfPictures  \n",
       "count          354369.0  \n",
       "mean                0.0  \n",
       "std                 0.0  \n",
       "min                 0.0  \n",
       "25%                 0.0  \n",
       "50%                 0.0  \n",
       "75%                 0.0  \n",
       "max                 0.0  "
      ]
     },
     "execution_count": 9,
     "metadata": {},
     "output_type": "execute_result"
    }
   ],
   "source": [
    "data.describe()"
   ]
  },
  {
   "cell_type": "markdown",
   "metadata": {},
   "source": [
    "**NumberOfPictures**\n",
    "\n",
    "Kolom ini hanya memiliki satu nilai yaitu 0 untuk seluruh data. Sebaiknya dihapus saja."
   ]
  },
  {
   "cell_type": "code",
   "execution_count": 10,
   "metadata": {},
   "outputs": [],
   "source": [
    "data = data.drop(['NumberOfPictures'],axis = 1)"
   ]
  },
  {
   "cell_type": "markdown",
   "metadata": {},
   "source": [
    "**RegistrationYear**\n",
    "\n",
    "Terdapat data yang diproduksi tahun 1000 dan ada juga yang lebih dari tahun 2023. Sepertinya tidak mungkin. Mobil pertama dibuat pada tahun 1885 yang dibuat oleh Karl Benz. Apakah dia leluhur Mercedes Benz?"
   ]
  },
  {
   "cell_type": "code",
   "execution_count": 11,
   "metadata": {},
   "outputs": [
    {
     "data": {
      "text/plain": [
       "2000    24490\n",
       "1999    22728\n",
       "2005    22109\n",
       "2001    20124\n",
       "2006    19900\n",
       "        ...  \n",
       "4100        1\n",
       "1200        1\n",
       "5300        1\n",
       "8888        1\n",
       "2290        1\n",
       "Name: RegistrationYear, Length: 151, dtype: int64"
      ]
     },
     "execution_count": 11,
     "metadata": {},
     "output_type": "execute_result"
    }
   ],
   "source": [
    "data['RegistrationYear'].value_counts()"
   ]
  },
  {
   "cell_type": "markdown",
   "metadata": {},
   "source": [
    "Kita hanya akan mengambil data dari tahun 1885 hingga 2023 saja."
   ]
  },
  {
   "cell_type": "code",
   "execution_count": 12,
   "metadata": {},
   "outputs": [],
   "source": [
    "data = data.query('1885 <= RegistrationYear <= 2023')"
   ]
  },
  {
   "cell_type": "markdown",
   "metadata": {},
   "source": [
    "**Power**"
   ]
  },
  {
   "cell_type": "code",
   "execution_count": 13,
   "metadata": {},
   "outputs": [
    {
     "data": {
      "text/plain": [
       "<AxesSubplot:>"
      ]
     },
     "execution_count": 13,
     "metadata": {},
     "output_type": "execute_result"
    },
    {
     "data": {
      "image/png": "[encoded data removed]",
      "text/plain": [
       "<Figure size 432x288 with 1 Axes>"
      ]
     },
     "metadata": {
      "needs_background": "light"
     },
     "output_type": "display_data"
    }
   ],
   "source": [
    "data['Power'].plot(kind='box')"
   ]
  },
  {
   "cell_type": "markdown",
   "metadata": {},
   "source": [
    "Apabila daya bersatuan Horse Power (HP) maka nilai di atas 2000 sepertinya mustahil. Mobil dengan power terbesar saat ini yaitu Hennessey Venom F5 dengan power sebesar 1817 hp dan kendaraan pertama di dunia memiliki power sebesar 1.5 hp. Berikut beberapa jenis kendaraan lain dengan range powernya:\n",
    "1. Bus: 200 - 500 hp\n",
    "2. Tank: 1500-1650 hp\n",
    "3. Bulldozer: ~850 hp\n",
    "4. Mining Truck : ~4600 hp\n",
    "5. Excavator: ~4000 hp\n",
    "6. Haul Truck: ~4000 hp\n",
    "7. Tractor: 600 hp\n",
    "\n",
    "Jarang sekali mobil mobil umum/penumpang manusia yang memiliki power diatas 1800 hp. Mari kita lihat apakah dataset ini menjual mobil mining?"
   ]
  },
  {
   "cell_type": "code",
   "execution_count": 14,
   "metadata": {},
   "outputs": [
    {
     "data": {
      "text/plain": [
       "array(['small', 'sedan', 'wagon', 'bus', nan, 'convertible', 'suv',\n",
       "       'other', 'coupe'], dtype=object)"
      ]
     },
     "execution_count": 14,
     "metadata": {},
     "output_type": "execute_result"
    }
   ],
   "source": [
    "data.query('Power > 1817')['VehicleType'].unique()"
   ]
  },
  {
   "cell_type": "markdown",
   "metadata": {},
   "source": [
    "Tidak, mereka tidak menjual truck. Sepertinya terdapat fraud atau mungkin kesalahan satuan pada saat menginput? mereka sepertinya memasukan power dalam bentuk Watt!. Sebaiknya kita ambil data dengan power yang wajar saja yaitu kisaran 10 - 1800."
   ]
  },
  {
   "cell_type": "code",
   "execution_count": 15,
   "metadata": {},
   "outputs": [],
   "source": [
    "data = data.query('10 < Power < 1800')"
   ]
  },
  {
   "cell_type": "code",
   "execution_count": 16,
   "metadata": {},
   "outputs": [
    {
     "data": {
      "text/plain": [
       "<AxesSubplot:>"
      ]
     },
     "execution_count": 16,
     "metadata": {},
     "output_type": "execute_result"
    },
    {
     "data": {
      "image/png": "[encoded data removed]",
      "text/plain": [
       "<Figure size 432x288 with 1 Axes>"
      ]
     },
     "metadata": {
      "needs_background": "light"
     },
     "output_type": "display_data"
    }
   ],
   "source": [
    "data['Power'].plot(kind='box')"
   ]
  },
  {
   "cell_type": "markdown",
   "metadata": {},
   "source": [
    "Ya meskipun masih banyak outlier, tidak masalah. Coba kita cek untuk kendaraan dengan power diatas 1000 hp."
   ]
  },
  {
   "cell_type": "code",
   "execution_count": 17,
   "metadata": {},
   "outputs": [
    {
     "data": {
      "text/html": [
       "<div>\n",
       "<style scoped>\n",
       "    .dataframe tbody tr th:only-of-type {\n",
       "        vertical-align: middle;\n",
       "    }\n",
       "\n",
       "    .dataframe tbody tr th {\n",
       "        vertical-align: top;\n",
       "    }\n",
       "\n",
       "    .dataframe thead th {\n",
       "        text-align: right;\n",
       "    }\n",
       "</style>\n",
       "<table border=\"1\" class=\"dataframe\">\n",
       "  <thead>\n",
       "    <tr style=\"text-align: right;\">\n",
       "      <th></th>\n",
       "      <th>Price</th>\n",
       "      <th>VehicleType</th>\n",
       "      <th>RegistrationYear</th>\n",
       "      <th>Gearbox</th>\n",
       "      <th>Power</th>\n",
       "      <th>Model</th>\n",
       "      <th>Mileage</th>\n",
       "      <th>FuelType</th>\n",
       "      <th>Brand</th>\n",
       "      <th>NotRepaired</th>\n",
       "    </tr>\n",
       "  </thead>\n",
       "  <tbody>\n",
       "    <tr>\n",
       "      <th>79305</th>\n",
       "      <td>1650</td>\n",
       "      <td>small</td>\n",
       "      <td>2000</td>\n",
       "      <td>auto</td>\n",
       "      <td>1001</td>\n",
       "      <td>a_klasse</td>\n",
       "      <td>150000</td>\n",
       "      <td>petrol</td>\n",
       "      <td>mercedes_benz</td>\n",
       "      <td>no</td>\n",
       "    </tr>\n",
       "    <tr>\n",
       "      <th>49724</th>\n",
       "      <td>1500</td>\n",
       "      <td>wagon</td>\n",
       "      <td>2003</td>\n",
       "      <td>manual</td>\n",
       "      <td>1001</td>\n",
       "      <td>focus</td>\n",
       "      <td>150000</td>\n",
       "      <td>gasoline</td>\n",
       "      <td>ford</td>\n",
       "      <td>NaN</td>\n",
       "    </tr>\n",
       "    <tr>\n",
       "      <th>351947</th>\n",
       "      <td>1500</td>\n",
       "      <td>bus</td>\n",
       "      <td>2001</td>\n",
       "      <td>manual</td>\n",
       "      <td>1001</td>\n",
       "      <td>zafira</td>\n",
       "      <td>5000</td>\n",
       "      <td>gasoline</td>\n",
       "      <td>opel</td>\n",
       "      <td>no</td>\n",
       "    </tr>\n",
       "    <tr>\n",
       "      <th>307044</th>\n",
       "      <td>1500</td>\n",
       "      <td>sedan</td>\n",
       "      <td>1999</td>\n",
       "      <td>manual</td>\n",
       "      <td>1001</td>\n",
       "      <td>astra</td>\n",
       "      <td>125000</td>\n",
       "      <td>petrol</td>\n",
       "      <td>opel</td>\n",
       "      <td>no</td>\n",
       "    </tr>\n",
       "    <tr>\n",
       "      <th>5328</th>\n",
       "      <td>500</td>\n",
       "      <td>wagon</td>\n",
       "      <td>1999</td>\n",
       "      <td>manual</td>\n",
       "      <td>1001</td>\n",
       "      <td>astra</td>\n",
       "      <td>150000</td>\n",
       "      <td>petrol</td>\n",
       "      <td>opel</td>\n",
       "      <td>NaN</td>\n",
       "    </tr>\n",
       "    <tr>\n",
       "      <th>...</th>\n",
       "      <td>...</td>\n",
       "      <td>...</td>\n",
       "      <td>...</td>\n",
       "      <td>...</td>\n",
       "      <td>...</td>\n",
       "      <td>...</td>\n",
       "      <td>...</td>\n",
       "      <td>...</td>\n",
       "      <td>...</td>\n",
       "      <td>...</td>\n",
       "    </tr>\n",
       "    <tr>\n",
       "      <th>273898</th>\n",
       "      <td>777</td>\n",
       "      <td>wagon</td>\n",
       "      <td>2002</td>\n",
       "      <td>manual</td>\n",
       "      <td>1783</td>\n",
       "      <td>laguna</td>\n",
       "      <td>150000</td>\n",
       "      <td>petrol</td>\n",
       "      <td>renault</td>\n",
       "      <td>no</td>\n",
       "    </tr>\n",
       "    <tr>\n",
       "      <th>290037</th>\n",
       "      <td>2200</td>\n",
       "      <td>coupe</td>\n",
       "      <td>2000</td>\n",
       "      <td>manual</td>\n",
       "      <td>1793</td>\n",
       "      <td>tt</td>\n",
       "      <td>150000</td>\n",
       "      <td>NaN</td>\n",
       "      <td>audi</td>\n",
       "      <td>yes</td>\n",
       "    </tr>\n",
       "    <tr>\n",
       "      <th>57219</th>\n",
       "      <td>3990</td>\n",
       "      <td>wagon</td>\n",
       "      <td>2003</td>\n",
       "      <td>manual</td>\n",
       "      <td>1796</td>\n",
       "      <td>c_klasse</td>\n",
       "      <td>150000</td>\n",
       "      <td>petrol</td>\n",
       "      <td>mercedes_benz</td>\n",
       "      <td>no</td>\n",
       "    </tr>\n",
       "    <tr>\n",
       "      <th>348006</th>\n",
       "      <td>355</td>\n",
       "      <td>sedan</td>\n",
       "      <td>1998</td>\n",
       "      <td>manual</td>\n",
       "      <td>1799</td>\n",
       "      <td>vectra</td>\n",
       "      <td>150000</td>\n",
       "      <td>petrol</td>\n",
       "      <td>opel</td>\n",
       "      <td>NaN</td>\n",
       "    </tr>\n",
       "    <tr>\n",
       "      <th>2102</th>\n",
       "      <td>0</td>\n",
       "      <td>sedan</td>\n",
       "      <td>1999</td>\n",
       "      <td>NaN</td>\n",
       "      <td>1799</td>\n",
       "      <td>vectra</td>\n",
       "      <td>150000</td>\n",
       "      <td>petrol</td>\n",
       "      <td>opel</td>\n",
       "      <td>yes</td>\n",
       "    </tr>\n",
       "  </tbody>\n",
       "</table>\n",
       "<p>145 rows × 10 columns</p>\n",
       "</div>"
      ],
      "text/plain": [
       "        Price VehicleType  RegistrationYear Gearbox  Power     Model  Mileage  \\\n",
       "79305    1650       small              2000    auto   1001  a_klasse   150000   \n",
       "49724    1500       wagon              2003  manual   1001     focus   150000   \n",
       "351947   1500         bus              2001  manual   1001    zafira     5000   \n",
       "307044   1500       sedan              1999  manual   1001     astra   125000   \n",
       "5328      500       wagon              1999  manual   1001     astra   150000   \n",
       "...       ...         ...               ...     ...    ...       ...      ...   \n",
       "273898    777       wagon              2002  manual   1783    laguna   150000   \n",
       "290037   2200       coupe              2000  manual   1793        tt   150000   \n",
       "57219    3990       wagon              2003  manual   1796  c_klasse   150000   \n",
       "348006    355       sedan              1998  manual   1799    vectra   150000   \n",
       "2102        0       sedan              1999     NaN   1799    vectra   150000   \n",
       "\n",
       "        FuelType          Brand NotRepaired  \n",
       "79305     petrol  mercedes_benz          no  \n",
       "49724   gasoline           ford         NaN  \n",
       "351947  gasoline           opel          no  \n",
       "307044    petrol           opel          no  \n",
       "5328      petrol           opel         NaN  \n",
       "...          ...            ...         ...  \n",
       "273898    petrol        renault          no  \n",
       "290037       NaN           audi         yes  \n",
       "57219     petrol  mercedes_benz          no  \n",
       "348006    petrol           opel         NaN  \n",
       "2102      petrol           opel         yes  \n",
       "\n",
       "[145 rows x 10 columns]"
      ]
     },
     "execution_count": 17,
     "metadata": {},
     "output_type": "execute_result"
    }
   ],
   "source": [
    "data.query('Power > 1000').sort_values(by='Power')"
   ]
  },
  {
   "cell_type": "markdown",
   "metadata": {},
   "source": [
    "Mercedez benz A class bisa sampai 1000 hp? keren."
   ]
  },
  {
   "cell_type": "code",
   "execution_count": 18,
   "metadata": {},
   "outputs": [
    {
     "data": {
      "text/html": [
       "<div>\n",
       "<style scoped>\n",
       "    .dataframe tbody tr th:only-of-type {\n",
       "        vertical-align: middle;\n",
       "    }\n",
       "\n",
       "    .dataframe tbody tr th {\n",
       "        vertical-align: top;\n",
       "    }\n",
       "\n",
       "    .dataframe thead th {\n",
       "        text-align: right;\n",
       "    }\n",
       "</style>\n",
       "<table border=\"1\" class=\"dataframe\">\n",
       "  <thead>\n",
       "    <tr style=\"text-align: right;\">\n",
       "      <th></th>\n",
       "      <th>Price</th>\n",
       "      <th>VehicleType</th>\n",
       "      <th>RegistrationYear</th>\n",
       "      <th>Gearbox</th>\n",
       "      <th>Power</th>\n",
       "      <th>Model</th>\n",
       "      <th>Mileage</th>\n",
       "      <th>FuelType</th>\n",
       "      <th>Brand</th>\n",
       "      <th>NotRepaired</th>\n",
       "    </tr>\n",
       "  </thead>\n",
       "  <tbody>\n",
       "    <tr>\n",
       "      <th>322508</th>\n",
       "      <td>750</td>\n",
       "      <td>small</td>\n",
       "      <td>1999</td>\n",
       "      <td>manual</td>\n",
       "      <td>1400</td>\n",
       "      <td>a_klasse</td>\n",
       "      <td>150000</td>\n",
       "      <td>petrol</td>\n",
       "      <td>mercedes_benz</td>\n",
       "      <td>NaN</td>\n",
       "    </tr>\n",
       "    <tr>\n",
       "      <th>196217</th>\n",
       "      <td>850</td>\n",
       "      <td>small</td>\n",
       "      <td>1999</td>\n",
       "      <td>auto</td>\n",
       "      <td>1400</td>\n",
       "      <td>a_klasse</td>\n",
       "      <td>150000</td>\n",
       "      <td>petrol</td>\n",
       "      <td>mercedes_benz</td>\n",
       "      <td>NaN</td>\n",
       "    </tr>\n",
       "    <tr>\n",
       "      <th>331912</th>\n",
       "      <td>750</td>\n",
       "      <td>small</td>\n",
       "      <td>1999</td>\n",
       "      <td>manual</td>\n",
       "      <td>1400</td>\n",
       "      <td>a_klasse</td>\n",
       "      <td>150000</td>\n",
       "      <td>petrol</td>\n",
       "      <td>mercedes_benz</td>\n",
       "      <td>NaN</td>\n",
       "    </tr>\n",
       "    <tr>\n",
       "      <th>79305</th>\n",
       "      <td>1650</td>\n",
       "      <td>small</td>\n",
       "      <td>2000</td>\n",
       "      <td>auto</td>\n",
       "      <td>1001</td>\n",
       "      <td>a_klasse</td>\n",
       "      <td>150000</td>\n",
       "      <td>petrol</td>\n",
       "      <td>mercedes_benz</td>\n",
       "      <td>no</td>\n",
       "    </tr>\n",
       "    <tr>\n",
       "      <th>254066</th>\n",
       "      <td>10500</td>\n",
       "      <td>small</td>\n",
       "      <td>2009</td>\n",
       "      <td>auto</td>\n",
       "      <td>190</td>\n",
       "      <td>a_klasse</td>\n",
       "      <td>60000</td>\n",
       "      <td>petrol</td>\n",
       "      <td>mercedes_benz</td>\n",
       "      <td>yes</td>\n",
       "    </tr>\n",
       "    <tr>\n",
       "      <th>...</th>\n",
       "      <td>...</td>\n",
       "      <td>...</td>\n",
       "      <td>...</td>\n",
       "      <td>...</td>\n",
       "      <td>...</td>\n",
       "      <td>...</td>\n",
       "      <td>...</td>\n",
       "      <td>...</td>\n",
       "      <td>...</td>\n",
       "      <td>...</td>\n",
       "    </tr>\n",
       "    <tr>\n",
       "      <th>29157</th>\n",
       "      <td>800</td>\n",
       "      <td>small</td>\n",
       "      <td>2000</td>\n",
       "      <td>manual</td>\n",
       "      <td>60</td>\n",
       "      <td>a_klasse</td>\n",
       "      <td>150000</td>\n",
       "      <td>gasoline</td>\n",
       "      <td>mercedes_benz</td>\n",
       "      <td>no</td>\n",
       "    </tr>\n",
       "    <tr>\n",
       "      <th>241901</th>\n",
       "      <td>1000</td>\n",
       "      <td>small</td>\n",
       "      <td>2000</td>\n",
       "      <td>manual</td>\n",
       "      <td>60</td>\n",
       "      <td>a_klasse</td>\n",
       "      <td>150000</td>\n",
       "      <td>petrol</td>\n",
       "      <td>mercedes_benz</td>\n",
       "      <td>no</td>\n",
       "    </tr>\n",
       "    <tr>\n",
       "      <th>135349</th>\n",
       "      <td>1150</td>\n",
       "      <td>small</td>\n",
       "      <td>2000</td>\n",
       "      <td>manual</td>\n",
       "      <td>60</td>\n",
       "      <td>a_klasse</td>\n",
       "      <td>150000</td>\n",
       "      <td>gasoline</td>\n",
       "      <td>mercedes_benz</td>\n",
       "      <td>no</td>\n",
       "    </tr>\n",
       "    <tr>\n",
       "      <th>263345</th>\n",
       "      <td>1300</td>\n",
       "      <td>small</td>\n",
       "      <td>2004</td>\n",
       "      <td>manual</td>\n",
       "      <td>55</td>\n",
       "      <td>a_klasse</td>\n",
       "      <td>150000</td>\n",
       "      <td>gasoline</td>\n",
       "      <td>mercedes_benz</td>\n",
       "      <td>yes</td>\n",
       "    </tr>\n",
       "    <tr>\n",
       "      <th>118332</th>\n",
       "      <td>2500</td>\n",
       "      <td>small</td>\n",
       "      <td>2002</td>\n",
       "      <td>auto</td>\n",
       "      <td>55</td>\n",
       "      <td>a_klasse</td>\n",
       "      <td>150000</td>\n",
       "      <td>gasoline</td>\n",
       "      <td>mercedes_benz</td>\n",
       "      <td>no</td>\n",
       "    </tr>\n",
       "  </tbody>\n",
       "</table>\n",
       "<p>732 rows × 10 columns</p>\n",
       "</div>"
      ],
      "text/plain": [
       "        Price VehicleType  RegistrationYear Gearbox  Power     Model  Mileage  \\\n",
       "322508    750       small              1999  manual   1400  a_klasse   150000   \n",
       "196217    850       small              1999    auto   1400  a_klasse   150000   \n",
       "331912    750       small              1999  manual   1400  a_klasse   150000   \n",
       "79305    1650       small              2000    auto   1001  a_klasse   150000   \n",
       "254066  10500       small              2009    auto    190  a_klasse    60000   \n",
       "...       ...         ...               ...     ...    ...       ...      ...   \n",
       "29157     800       small              2000  manual     60  a_klasse   150000   \n",
       "241901   1000       small              2000  manual     60  a_klasse   150000   \n",
       "135349   1150       small              2000  manual     60  a_klasse   150000   \n",
       "263345   1300       small              2004  manual     55  a_klasse   150000   \n",
       "118332   2500       small              2002    auto     55  a_klasse   150000   \n",
       "\n",
       "        FuelType          Brand NotRepaired  \n",
       "322508    petrol  mercedes_benz         NaN  \n",
       "196217    petrol  mercedes_benz         NaN  \n",
       "331912    petrol  mercedes_benz         NaN  \n",
       "79305     petrol  mercedes_benz          no  \n",
       "254066    petrol  mercedes_benz         yes  \n",
       "...          ...            ...         ...  \n",
       "29157   gasoline  mercedes_benz          no  \n",
       "241901    petrol  mercedes_benz          no  \n",
       "135349  gasoline  mercedes_benz          no  \n",
       "263345  gasoline  mercedes_benz         yes  \n",
       "118332  gasoline  mercedes_benz          no  \n",
       "\n",
       "[732 rows x 10 columns]"
      ]
     },
     "execution_count": 18,
     "metadata": {},
     "output_type": "execute_result"
    }
   ],
   "source": [
    "data.query('Brand ==\"mercedes_benz\" & Model ==\"a_klasse\" & VehicleType ==\"small\"').sort_values(by='Power', ascending=False)"
   ]
  },
  {
   "cell_type": "markdown",
   "metadata": {},
   "source": [
    "Ya memang agak mencurigakan sih sejak awal. di Google saja A class palingan berkisaran 200-an hp saja. Hal ini bisa saja terjadi untuk tipe kendaraan lain. Meskipun hp sudah difilter dibawah 1800, tetapi masih ada fraud dimana power kendaraan lebih besar dari power seharusnya. Mungkin sudah di bore up haha. Untuk kasus seperti ini dibiarkan saja, sepertinya data fraud tidak terlalu banyak, untuk merci saja terdapat 4 fraud dari 732 record. Ya okelah."
   ]
  },
  {
   "cell_type": "markdown",
   "metadata": {},
   "source": [
    "**Price**\n",
    "\n",
    "Terdapat kendaraan yang memiliki harga 0. Kenapa bisa gratis? dilihat-lihat Powernya pun bernilai 0, sepertinya barang rongsok. "
   ]
  },
  {
   "cell_type": "code",
   "execution_count": 19,
   "metadata": {},
   "outputs": [
    {
     "data": {
      "text/html": [
       "<div>\n",
       "<style scoped>\n",
       "    .dataframe tbody tr th:only-of-type {\n",
       "        vertical-align: middle;\n",
       "    }\n",
       "\n",
       "    .dataframe tbody tr th {\n",
       "        vertical-align: top;\n",
       "    }\n",
       "\n",
       "    .dataframe thead th {\n",
       "        text-align: right;\n",
       "    }\n",
       "</style>\n",
       "<table border=\"1\" class=\"dataframe\">\n",
       "  <thead>\n",
       "    <tr style=\"text-align: right;\">\n",
       "      <th></th>\n",
       "      <th>Price</th>\n",
       "      <th>VehicleType</th>\n",
       "      <th>RegistrationYear</th>\n",
       "      <th>Gearbox</th>\n",
       "      <th>Power</th>\n",
       "      <th>Model</th>\n",
       "      <th>Mileage</th>\n",
       "      <th>FuelType</th>\n",
       "      <th>Brand</th>\n",
       "      <th>NotRepaired</th>\n",
       "    </tr>\n",
       "  </thead>\n",
       "  <tbody>\n",
       "    <tr>\n",
       "      <th>7</th>\n",
       "      <td>0</td>\n",
       "      <td>sedan</td>\n",
       "      <td>1980</td>\n",
       "      <td>manual</td>\n",
       "      <td>50</td>\n",
       "      <td>other</td>\n",
       "      <td>40000</td>\n",
       "      <td>petrol</td>\n",
       "      <td>volkswagen</td>\n",
       "      <td>no</td>\n",
       "    </tr>\n",
       "    <tr>\n",
       "      <th>152</th>\n",
       "      <td>0</td>\n",
       "      <td>bus</td>\n",
       "      <td>2004</td>\n",
       "      <td>manual</td>\n",
       "      <td>101</td>\n",
       "      <td>meriva</td>\n",
       "      <td>150000</td>\n",
       "      <td>lpg</td>\n",
       "      <td>opel</td>\n",
       "      <td>yes</td>\n",
       "    </tr>\n",
       "    <tr>\n",
       "      <th>231</th>\n",
       "      <td>0</td>\n",
       "      <td>wagon</td>\n",
       "      <td>2001</td>\n",
       "      <td>manual</td>\n",
       "      <td>115</td>\n",
       "      <td>mondeo</td>\n",
       "      <td>150000</td>\n",
       "      <td>NaN</td>\n",
       "      <td>ford</td>\n",
       "      <td>NaN</td>\n",
       "    </tr>\n",
       "    <tr>\n",
       "      <th>466</th>\n",
       "      <td>0</td>\n",
       "      <td>NaN</td>\n",
       "      <td>2016</td>\n",
       "      <td>auto</td>\n",
       "      <td>197</td>\n",
       "      <td>3er</td>\n",
       "      <td>150000</td>\n",
       "      <td>gasoline</td>\n",
       "      <td>bmw</td>\n",
       "      <td>no</td>\n",
       "    </tr>\n",
       "    <tr>\n",
       "      <th>524</th>\n",
       "      <td>0</td>\n",
       "      <td>NaN</td>\n",
       "      <td>2005</td>\n",
       "      <td>manual</td>\n",
       "      <td>136</td>\n",
       "      <td>NaN</td>\n",
       "      <td>100000</td>\n",
       "      <td>NaN</td>\n",
       "      <td>toyota</td>\n",
       "      <td>NaN</td>\n",
       "    </tr>\n",
       "    <tr>\n",
       "      <th>...</th>\n",
       "      <td>...</td>\n",
       "      <td>...</td>\n",
       "      <td>...</td>\n",
       "      <td>...</td>\n",
       "      <td>...</td>\n",
       "      <td>...</td>\n",
       "      <td>...</td>\n",
       "      <td>...</td>\n",
       "      <td>...</td>\n",
       "      <td>...</td>\n",
       "    </tr>\n",
       "    <tr>\n",
       "      <th>354175</th>\n",
       "      <td>0</td>\n",
       "      <td>NaN</td>\n",
       "      <td>1995</td>\n",
       "      <td>manual</td>\n",
       "      <td>45</td>\n",
       "      <td>polo</td>\n",
       "      <td>150000</td>\n",
       "      <td>petrol</td>\n",
       "      <td>volkswagen</td>\n",
       "      <td>NaN</td>\n",
       "    </tr>\n",
       "    <tr>\n",
       "      <th>354205</th>\n",
       "      <td>0</td>\n",
       "      <td>NaN</td>\n",
       "      <td>2000</td>\n",
       "      <td>manual</td>\n",
       "      <td>65</td>\n",
       "      <td>corsa</td>\n",
       "      <td>150000</td>\n",
       "      <td>NaN</td>\n",
       "      <td>opel</td>\n",
       "      <td>yes</td>\n",
       "    </tr>\n",
       "    <tr>\n",
       "      <th>354238</th>\n",
       "      <td>0</td>\n",
       "      <td>small</td>\n",
       "      <td>2002</td>\n",
       "      <td>manual</td>\n",
       "      <td>60</td>\n",
       "      <td>fiesta</td>\n",
       "      <td>150000</td>\n",
       "      <td>petrol</td>\n",
       "      <td>ford</td>\n",
       "      <td>NaN</td>\n",
       "    </tr>\n",
       "    <tr>\n",
       "      <th>354248</th>\n",
       "      <td>0</td>\n",
       "      <td>small</td>\n",
       "      <td>1999</td>\n",
       "      <td>manual</td>\n",
       "      <td>53</td>\n",
       "      <td>swift</td>\n",
       "      <td>150000</td>\n",
       "      <td>petrol</td>\n",
       "      <td>suzuki</td>\n",
       "      <td>NaN</td>\n",
       "    </tr>\n",
       "    <tr>\n",
       "      <th>354277</th>\n",
       "      <td>0</td>\n",
       "      <td>small</td>\n",
       "      <td>1999</td>\n",
       "      <td>manual</td>\n",
       "      <td>37</td>\n",
       "      <td>arosa</td>\n",
       "      <td>150000</td>\n",
       "      <td>petrol</td>\n",
       "      <td>seat</td>\n",
       "      <td>yes</td>\n",
       "    </tr>\n",
       "  </tbody>\n",
       "</table>\n",
       "<p>6880 rows × 10 columns</p>\n",
       "</div>"
      ],
      "text/plain": [
       "        Price VehicleType  RegistrationYear Gearbox  Power   Model  Mileage  \\\n",
       "7           0       sedan              1980  manual     50   other    40000   \n",
       "152         0         bus              2004  manual    101  meriva   150000   \n",
       "231         0       wagon              2001  manual    115  mondeo   150000   \n",
       "466         0         NaN              2016    auto    197     3er   150000   \n",
       "524         0         NaN              2005  manual    136     NaN   100000   \n",
       "...       ...         ...               ...     ...    ...     ...      ...   \n",
       "354175      0         NaN              1995  manual     45    polo   150000   \n",
       "354205      0         NaN              2000  manual     65   corsa   150000   \n",
       "354238      0       small              2002  manual     60  fiesta   150000   \n",
       "354248      0       small              1999  manual     53   swift   150000   \n",
       "354277      0       small              1999  manual     37   arosa   150000   \n",
       "\n",
       "        FuelType       Brand NotRepaired  \n",
       "7         petrol  volkswagen          no  \n",
       "152          lpg        opel         yes  \n",
       "231          NaN        ford         NaN  \n",
       "466     gasoline         bmw          no  \n",
       "524          NaN      toyota         NaN  \n",
       "...          ...         ...         ...  \n",
       "354175    petrol  volkswagen         NaN  \n",
       "354205       NaN        opel         yes  \n",
       "354238    petrol        ford         NaN  \n",
       "354248    petrol      suzuki         NaN  \n",
       "354277    petrol        seat         yes  \n",
       "\n",
       "[6880 rows x 10 columns]"
      ]
     },
     "execution_count": 19,
     "metadata": {},
     "output_type": "execute_result"
    }
   ],
   "source": [
    "data.loc[data['Price']==0]"
   ]
  },
  {
   "cell_type": "markdown",
   "metadata": {},
   "source": [
    "Ternyata banyak sekali kendaraan yang harganya 0. Mari kita lihat sebarannya."
   ]
  },
  {
   "cell_type": "code",
   "execution_count": 20,
   "metadata": {},
   "outputs": [
    {
     "data": {
      "text/plain": [
       "<AxesSubplot:>"
      ]
     },
     "execution_count": 20,
     "metadata": {},
     "output_type": "execute_result"
    },
    {
     "data": {
      "image/png": "[encoded data removed]",
      "text/plain": [
       "<Figure size 432x288 with 2 Axes>"
      ]
     },
     "metadata": {
      "needs_background": "light"
     },
     "output_type": "display_data"
    }
   ],
   "source": [
    "plt.subplot(211)\n",
    "data['Price'].hist(bins=15)\n",
    "plt.subplot(212)\n",
    "data['Price'].plot(kind='box')"
   ]
  },
  {
   "cell_type": "markdown",
   "metadata": {},
   "source": [
    "Tidak banyak outlier, saya hanya ingin filter data berdasarkan batas bawah dan atas outlier saja."
   ]
  },
  {
   "cell_type": "code",
   "execution_count": 21,
   "metadata": {},
   "outputs": [
    {
     "name": "stdout",
     "output_type": "stream",
     "text": [
      "-7210.0 15350.0\n"
     ]
    }
   ],
   "source": [
    "q25 = data.Price.quantile(.25)\n",
    "q75 = data.Price.quantile(.75)\n",
    "iqr = q75-q25\n",
    "\n",
    "batas_bawah = q25 - 1.5*iqr\n",
    "batas_atas = q75 + 1.5*iqr\n",
    "print(batas_bawah, batas_atas)"
   ]
  },
  {
   "cell_type": "markdown",
   "metadata": {},
   "source": [
    "Karena batas bawah bernilai negatif maka batas bawah yang diambil adalah > 0. Saya tidak terima barang gratisan."
   ]
  },
  {
   "cell_type": "code",
   "execution_count": 22,
   "metadata": {},
   "outputs": [],
   "source": [
    "data = data.query('0<Price<=@batas_atas')"
   ]
  },
  {
   "cell_type": "code",
   "execution_count": 23,
   "metadata": {},
   "outputs": [
    {
     "data": {
      "text/html": [
       "<div>\n",
       "<style scoped>\n",
       "    .dataframe tbody tr th:only-of-type {\n",
       "        vertical-align: middle;\n",
       "    }\n",
       "\n",
       "    .dataframe tbody tr th {\n",
       "        vertical-align: top;\n",
       "    }\n",
       "\n",
       "    .dataframe thead th {\n",
       "        text-align: right;\n",
       "    }\n",
       "</style>\n",
       "<table border=\"1\" class=\"dataframe\">\n",
       "  <thead>\n",
       "    <tr style=\"text-align: right;\">\n",
       "      <th></th>\n",
       "      <th>Price</th>\n",
       "      <th>RegistrationYear</th>\n",
       "      <th>Power</th>\n",
       "      <th>Mileage</th>\n",
       "    </tr>\n",
       "  </thead>\n",
       "  <tbody>\n",
       "    <tr>\n",
       "      <th>count</th>\n",
       "      <td>292770.000000</td>\n",
       "      <td>292770.00000</td>\n",
       "      <td>292770.000000</td>\n",
       "      <td>292770.000000</td>\n",
       "    </tr>\n",
       "    <tr>\n",
       "      <th>mean</th>\n",
       "      <td>4200.598460</td>\n",
       "      <td>2003.02862</td>\n",
       "      <td>117.886413</td>\n",
       "      <td>130249.393722</td>\n",
       "    </tr>\n",
       "    <tr>\n",
       "      <th>std</th>\n",
       "      <td>3718.399937</td>\n",
       "      <td>6.81206</td>\n",
       "      <td>58.725403</td>\n",
       "      <td>35177.095179</td>\n",
       "    </tr>\n",
       "    <tr>\n",
       "      <th>min</th>\n",
       "      <td>1.000000</td>\n",
       "      <td>1910.00000</td>\n",
       "      <td>11.000000</td>\n",
       "      <td>5000.000000</td>\n",
       "    </tr>\n",
       "    <tr>\n",
       "      <th>25%</th>\n",
       "      <td>1250.000000</td>\n",
       "      <td>1999.00000</td>\n",
       "      <td>75.000000</td>\n",
       "      <td>125000.000000</td>\n",
       "    </tr>\n",
       "    <tr>\n",
       "      <th>50%</th>\n",
       "      <td>2900.000000</td>\n",
       "      <td>2003.00000</td>\n",
       "      <td>109.000000</td>\n",
       "      <td>150000.000000</td>\n",
       "    </tr>\n",
       "    <tr>\n",
       "      <th>75%</th>\n",
       "      <td>6200.000000</td>\n",
       "      <td>2007.00000</td>\n",
       "      <td>143.000000</td>\n",
       "      <td>150000.000000</td>\n",
       "    </tr>\n",
       "    <tr>\n",
       "      <th>max</th>\n",
       "      <td>15350.000000</td>\n",
       "      <td>2019.00000</td>\n",
       "      <td>1799.000000</td>\n",
       "      <td>150000.000000</td>\n",
       "    </tr>\n",
       "  </tbody>\n",
       "</table>\n",
       "</div>"
      ],
      "text/plain": [
       "               Price  RegistrationYear          Power        Mileage\n",
       "count  292770.000000      292770.00000  292770.000000  292770.000000\n",
       "mean     4200.598460        2003.02862     117.886413  130249.393722\n",
       "std      3718.399937           6.81206      58.725403   35177.095179\n",
       "min         1.000000        1910.00000      11.000000    5000.000000\n",
       "25%      1250.000000        1999.00000      75.000000  125000.000000\n",
       "50%      2900.000000        2003.00000     109.000000  150000.000000\n",
       "75%      6200.000000        2007.00000     143.000000  150000.000000\n",
       "max     15350.000000        2019.00000    1799.000000  150000.000000"
      ]
     },
     "execution_count": 23,
     "metadata": {},
     "output_type": "execute_result"
    }
   ],
   "source": [
    "data.describe()"
   ]
  },
  {
   "cell_type": "markdown",
   "metadata": {},
   "source": [
    "Sip, bisa jadi mobil harga satu dolar itu bekas korban banjir."
   ]
  },
  {
   "cell_type": "code",
   "execution_count": 24,
   "metadata": {},
   "outputs": [
    {
     "data": {
      "text/plain": [
       "<AxesSubplot:>"
      ]
     },
     "execution_count": 24,
     "metadata": {},
     "output_type": "execute_result"
    },
    {
     "data": {
      "image/png": "[encoded data removed]",
      "text/plain": [
       "<Figure size 432x288 with 2 Axes>"
      ]
     },
     "metadata": {
      "needs_background": "light"
     },
     "output_type": "display_data"
    }
   ],
   "source": [
    "plt.subplot(211)\n",
    "data['Price'].hist(bins=15)\n",
    "plt.subplot(212)\n",
    "data['Price'].plot(kind='box')"
   ]
  },
  {
   "cell_type": "markdown",
   "metadata": {},
   "source": [
    "Outlier berhasil dihilangkan dari dataset namun masih menyisakan sedikit outlier baru. Tidak apa-apa."
   ]
  },
  {
   "cell_type": "markdown",
   "metadata": {},
   "source": [
    "<div class=\"alert alert-success\">\n",
    "<b>Chamdani's comment v.1</b> <a class=\"tocSkip\"></a>\n",
    "\n",
    "Hebat, Kerja bagus!\n",
    "\n",
    "</div>"
   ]
  },
  {
   "cell_type": "markdown",
   "metadata": {},
   "source": [
    "#### Fitur Kategorik"
   ]
  },
  {
   "cell_type": "code",
   "execution_count": 25,
   "metadata": {},
   "outputs": [
    {
     "data": {
      "text/html": [
       "<div>\n",
       "<style scoped>\n",
       "    .dataframe tbody tr th:only-of-type {\n",
       "        vertical-align: middle;\n",
       "    }\n",
       "\n",
       "    .dataframe tbody tr th {\n",
       "        vertical-align: top;\n",
       "    }\n",
       "\n",
       "    .dataframe thead th {\n",
       "        text-align: right;\n",
       "    }\n",
       "</style>\n",
       "<table border=\"1\" class=\"dataframe\">\n",
       "  <thead>\n",
       "    <tr style=\"text-align: right;\">\n",
       "      <th></th>\n",
       "      <th>Price</th>\n",
       "      <th>VehicleType</th>\n",
       "      <th>RegistrationYear</th>\n",
       "      <th>Gearbox</th>\n",
       "      <th>Power</th>\n",
       "      <th>Model</th>\n",
       "      <th>Mileage</th>\n",
       "      <th>FuelType</th>\n",
       "      <th>Brand</th>\n",
       "      <th>NotRepaired</th>\n",
       "    </tr>\n",
       "  </thead>\n",
       "  <tbody>\n",
       "    <tr>\n",
       "      <th>2</th>\n",
       "      <td>9800</td>\n",
       "      <td>suv</td>\n",
       "      <td>2004</td>\n",
       "      <td>auto</td>\n",
       "      <td>163</td>\n",
       "      <td>grand</td>\n",
       "      <td>125000</td>\n",
       "      <td>gasoline</td>\n",
       "      <td>jeep</td>\n",
       "      <td>NaN</td>\n",
       "    </tr>\n",
       "    <tr>\n",
       "      <th>3</th>\n",
       "      <td>1500</td>\n",
       "      <td>small</td>\n",
       "      <td>2001</td>\n",
       "      <td>manual</td>\n",
       "      <td>75</td>\n",
       "      <td>golf</td>\n",
       "      <td>150000</td>\n",
       "      <td>petrol</td>\n",
       "      <td>volkswagen</td>\n",
       "      <td>no</td>\n",
       "    </tr>\n",
       "    <tr>\n",
       "      <th>4</th>\n",
       "      <td>3600</td>\n",
       "      <td>small</td>\n",
       "      <td>2008</td>\n",
       "      <td>manual</td>\n",
       "      <td>69</td>\n",
       "      <td>fabia</td>\n",
       "      <td>90000</td>\n",
       "      <td>gasoline</td>\n",
       "      <td>skoda</td>\n",
       "      <td>no</td>\n",
       "    </tr>\n",
       "    <tr>\n",
       "      <th>5</th>\n",
       "      <td>650</td>\n",
       "      <td>sedan</td>\n",
       "      <td>1995</td>\n",
       "      <td>manual</td>\n",
       "      <td>102</td>\n",
       "      <td>3er</td>\n",
       "      <td>150000</td>\n",
       "      <td>petrol</td>\n",
       "      <td>bmw</td>\n",
       "      <td>yes</td>\n",
       "    </tr>\n",
       "    <tr>\n",
       "      <th>6</th>\n",
       "      <td>2200</td>\n",
       "      <td>convertible</td>\n",
       "      <td>2004</td>\n",
       "      <td>manual</td>\n",
       "      <td>109</td>\n",
       "      <td>2_reihe</td>\n",
       "      <td>150000</td>\n",
       "      <td>petrol</td>\n",
       "      <td>peugeot</td>\n",
       "      <td>no</td>\n",
       "    </tr>\n",
       "  </tbody>\n",
       "</table>\n",
       "</div>"
      ],
      "text/plain": [
       "   Price  VehicleType  RegistrationYear Gearbox  Power    Model  Mileage  \\\n",
       "2   9800          suv              2004    auto    163    grand   125000   \n",
       "3   1500        small              2001  manual     75     golf   150000   \n",
       "4   3600        small              2008  manual     69    fabia    90000   \n",
       "5    650        sedan              1995  manual    102      3er   150000   \n",
       "6   2200  convertible              2004  manual    109  2_reihe   150000   \n",
       "\n",
       "   FuelType       Brand NotRepaired  \n",
       "2  gasoline        jeep         NaN  \n",
       "3    petrol  volkswagen          no  \n",
       "4  gasoline       skoda          no  \n",
       "5    petrol         bmw         yes  \n",
       "6    petrol     peugeot          no  "
      ]
     },
     "execution_count": 25,
     "metadata": {},
     "output_type": "execute_result"
    }
   ],
   "source": [
    "data.head()"
   ]
  },
  {
   "cell_type": "markdown",
   "metadata": {},
   "source": [
    "Terdapat 6 feature kategorik yaitu VehicleType, Gearbox, Model, FuelType, Brand, dan NotRepaired. Kita akan melihat nilai unik dari setiap data tersebut."
   ]
  },
  {
   "cell_type": "code",
   "execution_count": 26,
   "metadata": {},
   "outputs": [
    {
     "name": "stdout",
     "output_type": "stream",
     "text": [
      "Kolom :VehicleType\n",
      "jumlah nilai unik: 9\n",
      "\n",
      "Kolom :Gearbox\n",
      "jumlah nilai unik: 3\n",
      "\n",
      "Kolom :Model\n",
      "jumlah nilai unik: 250\n",
      "\n",
      "Kolom :FuelType\n",
      "jumlah nilai unik: 8\n",
      "\n",
      "Kolom :Brand\n",
      "jumlah nilai unik: 40\n",
      "\n",
      "Kolom :NotRepaired\n",
      "jumlah nilai unik: 3\n",
      "\n"
     ]
    }
   ],
   "source": [
    "list_kat = ['VehicleType','Gearbox', 'Model', 'FuelType', 'Brand', 'NotRepaired']\n",
    "for col in list_kat:\n",
    "    print(f'Kolom :{col}')\n",
    "    print(f'jumlah nilai unik: {len(data[col].unique())}')\n",
    "    print()"
   ]
  },
  {
   "cell_type": "markdown",
   "metadata": {},
   "source": [
    "Kita lihat nilai unik untuk jumlah nilai unik yang sedikit."
   ]
  },
  {
   "cell_type": "code",
   "execution_count": 27,
   "metadata": {},
   "outputs": [
    {
     "name": "stdout",
     "output_type": "stream",
     "text": [
      "Kolom :VehicleType\n",
      "['suv' 'small' 'sedan' 'convertible' 'bus' 'wagon' nan 'coupe' 'other']\n",
      "\n",
      "Kolom :Gearbox\n",
      "['auto' 'manual' nan]\n",
      "\n",
      "Kolom :FuelType\n",
      "['gasoline' 'petrol' nan 'lpg' 'other' 'hybrid' 'cng' 'electric']\n",
      "\n",
      "Kolom :NotRepaired\n",
      "[nan 'no' 'yes']\n",
      "\n"
     ]
    }
   ],
   "source": [
    "list_kat = ['VehicleType','Gearbox', 'FuelType', 'NotRepaired']\n",
    "for col in list_kat:\n",
    "    print(f'Kolom :{col}')\n",
    "    print(data[col].unique())\n",
    "    print()"
   ]
  },
  {
   "cell_type": "markdown",
   "metadata": {},
   "source": [
    "Tidak ada data yang bermasalah namun masih terdapat data yang bernilai nan. Nilai hilang akan diatasi pada poin selanjutnya. Selanjutnya kita akan mencari ide mengatasi kolom Model dan brand mengingat jumlah nilai uniknya yang sangat banyak. Dan kita bahwa untuk menjalankan XGBoost dan model regresi lainnya kita harus membuat fitur kategorik menjadi numerik. Ketika jumlah data uniknya banyak akan menyebabkan masalah.\n",
    "\n",
    "Khusus untuk kolom Brand dan Model akan diterapkan Target Encoder dikarenakan jumlah nilai uniknya yang sangat banyak. Bisa saja data tersebut dihapus untuk proses pelatihan model linear regression karena menggunakan OHE. Sedangkan untuk decision tree tetap dipertahankan. Tapi karena tujuan project ini yaitu membandingkan kualitas model sehingga seharusnya datanya sama. Bisa juga kolom mobil dan brand ini dihapus untuk melatih seluruh model, tapi sepertinya akan menghilangkan informasi yang berharga."
   ]
  },
  {
   "cell_type": "markdown",
   "metadata": {},
   "source": [
    "<div class=\"alert alert-success\">\n",
    "<b>Chamdani's comment v.1</b> <a class=\"tocSkip\"></a>\n",
    "\n",
    "Hebat, Kerja bagus!\n",
    "\n",
    "</div>"
   ]
  },
  {
   "cell_type": "markdown",
   "metadata": {},
   "source": [
    "### Mengatasi Nilai Hilang"
   ]
  },
  {
   "cell_type": "code",
   "execution_count": 28,
   "metadata": {},
   "outputs": [
    {
     "data": {
      "text/plain": [
       "Price                   0\n",
       "VehicleType         21004\n",
       "RegistrationYear        0\n",
       "Gearbox              5991\n",
       "Power                   0\n",
       "Model               11905\n",
       "Mileage                 0\n",
       "FuelType            19450\n",
       "Brand                   0\n",
       "NotRepaired         46239\n",
       "dtype: int64"
      ]
     },
     "execution_count": 28,
     "metadata": {},
     "output_type": "execute_result"
    }
   ],
   "source": [
    "data.isna().sum()"
   ]
  },
  {
   "cell_type": "markdown",
   "metadata": {},
   "source": [
    "Ternyata hanya fitur kategorik yang memiliki nilai kosong. Kalau begitu nilai nan akan diisi saja oleh data \"unknown\"."
   ]
  },
  {
   "cell_type": "code",
   "execution_count": 29,
   "metadata": {},
   "outputs": [],
   "source": [
    "data.fillna('unknown', inplace=True)"
   ]
  },
  {
   "cell_type": "code",
   "execution_count": 30,
   "metadata": {},
   "outputs": [
    {
     "data": {
      "text/plain": [
       "Price               0\n",
       "VehicleType         0\n",
       "RegistrationYear    0\n",
       "Gearbox             0\n",
       "Power               0\n",
       "Model               0\n",
       "Mileage             0\n",
       "FuelType            0\n",
       "Brand               0\n",
       "NotRepaired         0\n",
       "dtype: int64"
      ]
     },
     "execution_count": 30,
     "metadata": {},
     "output_type": "execute_result"
    }
   ],
   "source": [
    "data.isna().sum()"
   ]
  },
  {
   "cell_type": "markdown",
   "metadata": {},
   "source": [
    "Data hilang berhasil di atasi, selanjutnya yaitu mengubah fitur kategorik menjadi numerik."
   ]
  },
  {
   "cell_type": "markdown",
   "metadata": {},
   "source": [
    "<div class=\"alert alert-success\">\n",
    "<b>Chamdani's comment v.1</b> <a class=\"tocSkip\"></a>\n",
    "\n",
    "Hebat, Kerja bagus!\n",
    "\n",
    "</div>"
   ]
  },
  {
   "cell_type": "markdown",
   "metadata": {},
   "source": [
    "### Encoding"
   ]
  },
  {
   "cell_type": "markdown",
   "metadata": {},
   "source": [
    "Karena model regresi linear tidak dapat langsung memproses fitur kategorik. maka perlu diubah terlebih dahulu menjadi feature numerik dengan OHE atau OrdalEncoder. OHE digunakan untuk model linearregression sedangkan random forest menggunakan OrdinalEncoder. random forest perlu menggunakan OrdinalEncoder karena model pohon hanya akan mengakses 1 fiture dalam satu waktu sehingga apabila digunakan OHE informasi data kategorik tidak akan diproses secara utuh karena dipecah menjadi beberapa kolom.\n",
    "\n",
    "Kolom Brand dan Model akan menggunakan TargetEncoder, dilakukan setelah proses data splitting."
   ]
  },
  {
   "cell_type": "code",
   "execution_count": 31,
   "metadata": {},
   "outputs": [
    {
     "data": {
      "text/html": [
       "<div>\n",
       "<style scoped>\n",
       "    .dataframe tbody tr th:only-of-type {\n",
       "        vertical-align: middle;\n",
       "    }\n",
       "\n",
       "    .dataframe tbody tr th {\n",
       "        vertical-align: top;\n",
       "    }\n",
       "\n",
       "    .dataframe thead th {\n",
       "        text-align: right;\n",
       "    }\n",
       "</style>\n",
       "<table border=\"1\" class=\"dataframe\">\n",
       "  <thead>\n",
       "    <tr style=\"text-align: right;\">\n",
       "      <th></th>\n",
       "      <th>Price</th>\n",
       "      <th>RegistrationYear</th>\n",
       "      <th>Power</th>\n",
       "      <th>Mileage</th>\n",
       "      <th>VehicleType_convertible</th>\n",
       "      <th>VehicleType_coupe</th>\n",
       "      <th>VehicleType_other</th>\n",
       "      <th>VehicleType_sedan</th>\n",
       "      <th>VehicleType_small</th>\n",
       "      <th>VehicleType_suv</th>\n",
       "      <th>...</th>\n",
       "      <th>Gearbox_unknown</th>\n",
       "      <th>FuelType_electric</th>\n",
       "      <th>FuelType_gasoline</th>\n",
       "      <th>FuelType_hybrid</th>\n",
       "      <th>FuelType_lpg</th>\n",
       "      <th>FuelType_other</th>\n",
       "      <th>FuelType_petrol</th>\n",
       "      <th>FuelType_unknown</th>\n",
       "      <th>NotRepaired_unknown</th>\n",
       "      <th>NotRepaired_yes</th>\n",
       "    </tr>\n",
       "  </thead>\n",
       "  <tbody>\n",
       "    <tr>\n",
       "      <th>2</th>\n",
       "      <td>9800</td>\n",
       "      <td>2004</td>\n",
       "      <td>163</td>\n",
       "      <td>125000</td>\n",
       "      <td>0</td>\n",
       "      <td>0</td>\n",
       "      <td>0</td>\n",
       "      <td>0</td>\n",
       "      <td>0</td>\n",
       "      <td>1</td>\n",
       "      <td>...</td>\n",
       "      <td>0</td>\n",
       "      <td>0</td>\n",
       "      <td>1</td>\n",
       "      <td>0</td>\n",
       "      <td>0</td>\n",
       "      <td>0</td>\n",
       "      <td>0</td>\n",
       "      <td>0</td>\n",
       "      <td>1</td>\n",
       "      <td>0</td>\n",
       "    </tr>\n",
       "    <tr>\n",
       "      <th>3</th>\n",
       "      <td>1500</td>\n",
       "      <td>2001</td>\n",
       "      <td>75</td>\n",
       "      <td>150000</td>\n",
       "      <td>0</td>\n",
       "      <td>0</td>\n",
       "      <td>0</td>\n",
       "      <td>0</td>\n",
       "      <td>1</td>\n",
       "      <td>0</td>\n",
       "      <td>...</td>\n",
       "      <td>0</td>\n",
       "      <td>0</td>\n",
       "      <td>0</td>\n",
       "      <td>0</td>\n",
       "      <td>0</td>\n",
       "      <td>0</td>\n",
       "      <td>1</td>\n",
       "      <td>0</td>\n",
       "      <td>0</td>\n",
       "      <td>0</td>\n",
       "    </tr>\n",
       "    <tr>\n",
       "      <th>4</th>\n",
       "      <td>3600</td>\n",
       "      <td>2008</td>\n",
       "      <td>69</td>\n",
       "      <td>90000</td>\n",
       "      <td>0</td>\n",
       "      <td>0</td>\n",
       "      <td>0</td>\n",
       "      <td>0</td>\n",
       "      <td>1</td>\n",
       "      <td>0</td>\n",
       "      <td>...</td>\n",
       "      <td>0</td>\n",
       "      <td>0</td>\n",
       "      <td>1</td>\n",
       "      <td>0</td>\n",
       "      <td>0</td>\n",
       "      <td>0</td>\n",
       "      <td>0</td>\n",
       "      <td>0</td>\n",
       "      <td>0</td>\n",
       "      <td>0</td>\n",
       "    </tr>\n",
       "    <tr>\n",
       "      <th>5</th>\n",
       "      <td>650</td>\n",
       "      <td>1995</td>\n",
       "      <td>102</td>\n",
       "      <td>150000</td>\n",
       "      <td>0</td>\n",
       "      <td>0</td>\n",
       "      <td>0</td>\n",
       "      <td>1</td>\n",
       "      <td>0</td>\n",
       "      <td>0</td>\n",
       "      <td>...</td>\n",
       "      <td>0</td>\n",
       "      <td>0</td>\n",
       "      <td>0</td>\n",
       "      <td>0</td>\n",
       "      <td>0</td>\n",
       "      <td>0</td>\n",
       "      <td>1</td>\n",
       "      <td>0</td>\n",
       "      <td>0</td>\n",
       "      <td>1</td>\n",
       "    </tr>\n",
       "    <tr>\n",
       "      <th>6</th>\n",
       "      <td>2200</td>\n",
       "      <td>2004</td>\n",
       "      <td>109</td>\n",
       "      <td>150000</td>\n",
       "      <td>1</td>\n",
       "      <td>0</td>\n",
       "      <td>0</td>\n",
       "      <td>0</td>\n",
       "      <td>0</td>\n",
       "      <td>0</td>\n",
       "      <td>...</td>\n",
       "      <td>0</td>\n",
       "      <td>0</td>\n",
       "      <td>0</td>\n",
       "      <td>0</td>\n",
       "      <td>0</td>\n",
       "      <td>0</td>\n",
       "      <td>1</td>\n",
       "      <td>0</td>\n",
       "      <td>0</td>\n",
       "      <td>0</td>\n",
       "    </tr>\n",
       "  </tbody>\n",
       "</table>\n",
       "<p>5 rows × 23 columns</p>\n",
       "</div>"
      ],
      "text/plain": [
       "   Price  RegistrationYear  Power  Mileage  VehicleType_convertible  \\\n",
       "2   9800              2004    163   125000                        0   \n",
       "3   1500              2001     75   150000                        0   \n",
       "4   3600              2008     69    90000                        0   \n",
       "5    650              1995    102   150000                        0   \n",
       "6   2200              2004    109   150000                        1   \n",
       "\n",
       "   VehicleType_coupe  VehicleType_other  VehicleType_sedan  VehicleType_small  \\\n",
       "2                  0                  0                  0                  0   \n",
       "3                  0                  0                  0                  1   \n",
       "4                  0                  0                  0                  1   \n",
       "5                  0                  0                  1                  0   \n",
       "6                  0                  0                  0                  0   \n",
       "\n",
       "   VehicleType_suv  ...  Gearbox_unknown  FuelType_electric  \\\n",
       "2                1  ...                0                  0   \n",
       "3                0  ...                0                  0   \n",
       "4                0  ...                0                  0   \n",
       "5                0  ...                0                  0   \n",
       "6                0  ...                0                  0   \n",
       "\n",
       "   FuelType_gasoline  FuelType_hybrid  FuelType_lpg  FuelType_other  \\\n",
       "2                  1                0             0               0   \n",
       "3                  0                0             0               0   \n",
       "4                  1                0             0               0   \n",
       "5                  0                0             0               0   \n",
       "6                  0                0             0               0   \n",
       "\n",
       "   FuelType_petrol  FuelType_unknown  NotRepaired_unknown  NotRepaired_yes  \n",
       "2                0                 0                    1                0  \n",
       "3                1                 0                    0                0  \n",
       "4                0                 0                    0                0  \n",
       "5                1                 0                    0                1  \n",
       "6                1                 0                    0                0  \n",
       "\n",
       "[5 rows x 23 columns]"
      ]
     },
     "execution_count": 31,
     "metadata": {},
     "output_type": "execute_result"
    }
   ],
   "source": [
    "# data dengan OHE --> untuk linear regression dan xgboost\n",
    "ohe = data.copy()\n",
    "ohe = ohe.drop(['Brand','Model'], axis = 1)\n",
    "ohe = pd.get_dummies(ohe, drop_first=True)\n",
    "ohe.head()"
   ]
  },
  {
   "cell_type": "code",
   "execution_count": 32,
   "metadata": {},
   "outputs": [
    {
     "data": {
      "text/html": [
       "<div>\n",
       "<style scoped>\n",
       "    .dataframe tbody tr th:only-of-type {\n",
       "        vertical-align: middle;\n",
       "    }\n",
       "\n",
       "    .dataframe tbody tr th {\n",
       "        vertical-align: top;\n",
       "    }\n",
       "\n",
       "    .dataframe thead th {\n",
       "        text-align: right;\n",
       "    }\n",
       "</style>\n",
       "<table border=\"1\" class=\"dataframe\">\n",
       "  <thead>\n",
       "    <tr style=\"text-align: right;\">\n",
       "      <th></th>\n",
       "      <th>Price</th>\n",
       "      <th>VehicleType</th>\n",
       "      <th>RegistrationYear</th>\n",
       "      <th>Gearbox</th>\n",
       "      <th>Power</th>\n",
       "      <th>Model</th>\n",
       "      <th>Mileage</th>\n",
       "      <th>FuelType</th>\n",
       "      <th>Brand</th>\n",
       "      <th>NotRepaired</th>\n",
       "    </tr>\n",
       "  </thead>\n",
       "  <tbody>\n",
       "    <tr>\n",
       "      <th>2</th>\n",
       "      <td>9800</td>\n",
       "      <td>6.0</td>\n",
       "      <td>2004</td>\n",
       "      <td>0.0</td>\n",
       "      <td>163</td>\n",
       "      <td>117.0</td>\n",
       "      <td>125000</td>\n",
       "      <td>2.0</td>\n",
       "      <td>14.0</td>\n",
       "      <td>1.0</td>\n",
       "    </tr>\n",
       "    <tr>\n",
       "      <th>3</th>\n",
       "      <td>1500</td>\n",
       "      <td>5.0</td>\n",
       "      <td>2001</td>\n",
       "      <td>1.0</td>\n",
       "      <td>75</td>\n",
       "      <td>116.0</td>\n",
       "      <td>150000</td>\n",
       "      <td>6.0</td>\n",
       "      <td>38.0</td>\n",
       "      <td>0.0</td>\n",
       "    </tr>\n",
       "    <tr>\n",
       "      <th>4</th>\n",
       "      <td>3600</td>\n",
       "      <td>5.0</td>\n",
       "      <td>2008</td>\n",
       "      <td>1.0</td>\n",
       "      <td>69</td>\n",
       "      <td>101.0</td>\n",
       "      <td>90000</td>\n",
       "      <td>2.0</td>\n",
       "      <td>31.0</td>\n",
       "      <td>0.0</td>\n",
       "    </tr>\n",
       "    <tr>\n",
       "      <th>5</th>\n",
       "      <td>650</td>\n",
       "      <td>4.0</td>\n",
       "      <td>1995</td>\n",
       "      <td>1.0</td>\n",
       "      <td>102</td>\n",
       "      <td>11.0</td>\n",
       "      <td>150000</td>\n",
       "      <td>6.0</td>\n",
       "      <td>2.0</td>\n",
       "      <td>2.0</td>\n",
       "    </tr>\n",
       "    <tr>\n",
       "      <th>6</th>\n",
       "      <td>2200</td>\n",
       "      <td>1.0</td>\n",
       "      <td>2004</td>\n",
       "      <td>1.0</td>\n",
       "      <td>109</td>\n",
       "      <td>8.0</td>\n",
       "      <td>150000</td>\n",
       "      <td>6.0</td>\n",
       "      <td>25.0</td>\n",
       "      <td>0.0</td>\n",
       "    </tr>\n",
       "  </tbody>\n",
       "</table>\n",
       "</div>"
      ],
      "text/plain": [
       "   Price  VehicleType  RegistrationYear  Gearbox  Power  Model  Mileage  \\\n",
       "2   9800          6.0              2004      0.0    163  117.0   125000   \n",
       "3   1500          5.0              2001      1.0     75  116.0   150000   \n",
       "4   3600          5.0              2008      1.0     69  101.0    90000   \n",
       "5    650          4.0              1995      1.0    102   11.0   150000   \n",
       "6   2200          1.0              2004      1.0    109    8.0   150000   \n",
       "\n",
       "   FuelType  Brand  NotRepaired  \n",
       "2       2.0   14.0          1.0  \n",
       "3       6.0   38.0          0.0  \n",
       "4       2.0   31.0          0.0  \n",
       "5       6.0    2.0          2.0  \n",
       "6       6.0   25.0          0.0  "
      ]
     },
     "execution_count": 32,
     "metadata": {},
     "output_type": "execute_result"
    }
   ],
   "source": [
    "# data dengan Ordinal Encoder --> Untuk RandomForestRegressor\n",
    "from sklearn.preprocessing import OrdinalEncoder\n",
    "\n",
    "list_kat = ['VehicleType','Gearbox','Model','FuelType','Brand','NotRepaired']\n",
    "ordinal = data.copy()\n",
    "ordinal[list_kat] = OrdinalEncoder().fit_transform(ordinal[list_kat])\n",
    "\n",
    "ordinal.head()"
   ]
  },
  {
   "cell_type": "markdown",
   "metadata": {},
   "source": [
    "<div class=\"alert alert-success\">\n",
    "<b>Chamdani's comment v.1</b> <a class=\"tocSkip\"></a>\n",
    "\n",
    "Hebat, Kerja bagus!\n",
    "\n",
    "</div>"
   ]
  },
  {
   "cell_type": "markdown",
   "metadata": {},
   "source": [
    "### Membagi Data"
   ]
  },
  {
   "cell_type": "markdown",
   "metadata": {},
   "source": [
    "**Index Splitting**"
   ]
  },
  {
   "cell_type": "markdown",
   "metadata": {},
   "source": [
    "Dikarenakan setiap model menggunakan sumber data yang berbeda, proses split dilakukan pada index supaya index data untuk training, validation dan test sama."
   ]
  },
  {
   "cell_type": "code",
   "execution_count": 33,
   "metadata": {},
   "outputs": [
    {
     "name": "stdout",
     "output_type": "stream",
     "text": [
      "0.7\n",
      "0.19997950609693615\n",
      "0.10002049390306383\n"
     ]
    }
   ],
   "source": [
    "index_train, index_sisa = train_test_split(data.index, train_size=0.7, random_state=1)\n",
    "index_valid, index_test = train_test_split(index_sisa, train_size=0.6666, random_state=1)\n",
    "\n",
    "print(len(index_train)/(len(data)))\n",
    "print(len(index_valid)/len(data))\n",
    "print(len(index_test)/len(data))"
   ]
  },
  {
   "cell_type": "code",
   "execution_count": 34,
   "metadata": {},
   "outputs": [],
   "source": [
    "# Membuat fungsi untuk mengambil index\n",
    "def dataSplit(data):\n",
    "    train, valid, test = data.loc[index_train], data.loc[index_valid], data.loc[index_test]\n",
    "    return train, valid, test \n",
    "def featureTargetSplit(data):\n",
    "    feature = data.drop(['Price'], axis = 1)\n",
    "    target = data['Price']\n",
    "    return feature, target"
   ]
  },
  {
   "cell_type": "markdown",
   "metadata": {},
   "source": [
    "**Data Original**"
   ]
  },
  {
   "cell_type": "code",
   "execution_count": 35,
   "metadata": {},
   "outputs": [],
   "source": [
    "ori_train, ori_valid, ori_test = dataSplit(data)\n",
    "\n",
    "feature_train_ori, target_train_ori = featureTargetSplit(ori_train)\n",
    "feature_valid_ori, target_valid_ori = featureTargetSplit(ori_valid)\n",
    "feature_test_ori, target_test_ori = featureTargetSplit(ori_test)"
   ]
  },
  {
   "cell_type": "markdown",
   "metadata": {},
   "source": [
    "**Data OHE**"
   ]
  },
  {
   "cell_type": "code",
   "execution_count": 36,
   "metadata": {},
   "outputs": [],
   "source": [
    "# Melakukan Target Encoding Untuk Mendapatkan nilai numerik dari kolom brand dan model\n",
    "encoder = ce.TargetEncoder()\n",
    "encoder.fit(feature_train_ori[['Brand','Model']],target_train_ori)\n",
    "\n",
    "x_train_encoded = encoder.transform(feature_train_ori[['Brand','Model']])\n",
    "x_valid_encoded = encoder.transform(feature_valid_ori[['Brand','Model']])\n",
    "x_test_encoded = encoder.transform(feature_test_ori[['Brand','Model']])"
   ]
  },
  {
   "cell_type": "code",
   "execution_count": 37,
   "metadata": {},
   "outputs": [],
   "source": [
    "ohe_train, ohe_valid, ohe_test = dataSplit(ohe)\n",
    "\n",
    "feature_train_ohe, target_train_ohe = featureTargetSplit(ohe_train)\n",
    "feature_valid_ohe, target_valid_ohe = featureTargetSplit(ohe_valid)\n",
    "feature_test_ohe, target_test_ohe = featureTargetSplit(ohe_test)\n",
    "\n",
    "feature_train_ohe[['Brand','Model']] = x_train_encoded\n",
    "feature_valid_ohe[['Brand','Model']] = x_valid_encoded\n",
    "feature_test_ohe[['Brand','Model']] = x_test_encoded"
   ]
  },
  {
   "cell_type": "markdown",
   "metadata": {},
   "source": [
    "**Data OrdinalEncoder**"
   ]
  },
  {
   "cell_type": "code",
   "execution_count": 38,
   "metadata": {},
   "outputs": [],
   "source": [
    "oe_train, oe_valid, oe_test = dataSplit(ordinal)\n",
    "\n",
    "feature_train_oe, target_train_oe = featureTargetSplit(oe_train)\n",
    "feature_valid_oe, target_valid_oe = featureTargetSplit(oe_valid)\n",
    "feature_test_oe, target_test_oe = featureTargetSplit(oe_test)"
   ]
  },
  {
   "cell_type": "markdown",
   "metadata": {},
   "source": [
    "<div class=\"alert alert-success\">\n",
    "<b>Chamdani's comment v.1</b> <a class=\"tocSkip\"></a>\n",
    "\n",
    "Hebat, Kerja bagus!\n",
    "\n",
    "</div>"
   ]
  },
  {
   "cell_type": "markdown",
   "metadata": {},
   "source": [
    "## Pelatihan Model"
   ]
  },
  {
   "cell_type": "code",
   "execution_count": 39,
   "metadata": {},
   "outputs": [],
   "source": [
    "# Fungsi RMSE\n",
    "def rmse(pred, real):\n",
    "    return mean_squared_error(pred, real)**0.5"
   ]
  },
  {
   "cell_type": "markdown",
   "metadata": {},
   "source": [
    "<div class=\"alert alert-success\">\n",
    "<b>Chamdani's comment v.1</b> <a class=\"tocSkip\"></a>\n",
    "\n",
    "Hebat, Kerja bagus!\n",
    "\n",
    "</div>"
   ]
  },
  {
   "cell_type": "markdown",
   "metadata": {},
   "source": [
    "### Dummy Regressor"
   ]
  },
  {
   "cell_type": "code",
   "execution_count": 40,
   "metadata": {
    "scrolled": true
   },
   "outputs": [
    {
     "name": "stdout",
     "output_type": "stream",
     "text": [
      "nilai rmse: 3721.3490\n",
      "CPU times: user 3.65 ms, sys: 442 µs, total: 4.09 ms\n",
      "Wall time: 2.5 ms\n"
     ]
    }
   ],
   "source": [
    "%%time\n",
    "dr = DummyRegressor(strategy=\"mean\")\n",
    "dr.fit(feature_train_ohe, target_train_ohe)\n",
    "print(f'nilai rmse: {rmse(dr.predict(feature_valid_ohe), target_valid_ohe):.4f}')"
   ]
  },
  {
   "cell_type": "markdown",
   "metadata": {},
   "source": [
    "<div class=\"alert alert-success\">\n",
    "<b>Chamdani's comment v.1</b> <a class=\"tocSkip\"></a>\n",
    "\n",
    "Hebat, Kerja bagus!\n",
    "\n",
    "</div>"
   ]
  },
  {
   "cell_type": "markdown",
   "metadata": {},
   "source": [
    "### Model Linear Regression"
   ]
  },
  {
   "cell_type": "code",
   "execution_count": 41,
   "metadata": {
    "scrolled": true
   },
   "outputs": [
    {
     "name": "stdout",
     "output_type": "stream",
     "text": [
      "CPU times: user 235 ms, sys: 99.2 ms, total: 334 ms\n",
      "Wall time: 327 ms\n"
     ]
    },
    {
     "data": {
      "text/plain": [
       "LinearRegression()"
      ]
     },
     "execution_count": 41,
     "metadata": {},
     "output_type": "execute_result"
    }
   ],
   "source": [
    "%%time\n",
    "lr = LinearRegression()\n",
    "lr.fit(feature_train_ohe, target_train_ohe)"
   ]
  },
  {
   "cell_type": "code",
   "execution_count": 42,
   "metadata": {},
   "outputs": [
    {
     "name": "stdout",
     "output_type": "stream",
     "text": [
      "CPU times: user 35.8 ms, sys: 53.2 ms, total: 89 ms\n",
      "Wall time: 103 ms\n"
     ]
    }
   ],
   "source": [
    "%%time\n",
    "pred_train_lr = lr.predict(feature_train_ohe)\n",
    "pred_valid_lr = lr.predict(feature_valid_ohe)\n",
    "pred_test_lr = lr.predict(feature_test_ohe)"
   ]
  },
  {
   "cell_type": "code",
   "execution_count": 43,
   "metadata": {
    "scrolled": true
   },
   "outputs": [
    {
     "name": "stdout",
     "output_type": "stream",
     "text": [
      "Train RMSE: 2364.1201823661813\n",
      "Valid RMSE: 2368.4161793263097\n",
      "Test RMSE:  2351.9013475211727\n"
     ]
    }
   ],
   "source": [
    "print(\"Train RMSE:\", rmse(target_train_ohe, pred_train_lr))\n",
    "print(\"Valid RMSE:\", rmse(target_valid_ohe, pred_valid_lr))\n",
    "print(\"Test RMSE: \", rmse(target_test_ohe, pred_test_lr))"
   ]
  },
  {
   "cell_type": "markdown",
   "metadata": {},
   "source": [
    "Resume:\n",
    "1. Training time: 348 ms\n",
    "2. Prediction time: 103 ms"
   ]
  },
  {
   "cell_type": "markdown",
   "metadata": {},
   "source": [
    "<div class=\"alert alert-success\">\n",
    "<b>Chamdani's comment v.1</b> <a class=\"tocSkip\"></a>\n",
    "\n",
    "Hebat, Kerja bagus!\n",
    "\n",
    "</div>"
   ]
  },
  {
   "cell_type": "markdown",
   "metadata": {},
   "source": [
    "### Model XGBoost"
   ]
  },
  {
   "cell_type": "code",
   "execution_count": 44,
   "metadata": {},
   "outputs": [
    {
     "name": "stdout",
     "output_type": "stream",
     "text": [
      "[15:40:58] WARNING: ../src/objective/regression_obj.cu:188: reg:linear is now deprecated in favor of reg:squarederror.\n",
      "CPU times: user 5.22 s, sys: 50.8 ms, total: 5.27 s\n",
      "Wall time: 5.39 s\n"
     ]
    },
    {
     "data": {
      "text/plain": [
       "XGBRegressor(base_score=0.5, booster='gbtree', colsample_bylevel=1,\n",
       "             colsample_bynode=1, colsample_bytree=1, enable_categorical=False,\n",
       "             gamma=0, gpu_id=-1, importance_type=None,\n",
       "             interaction_constraints='', learning_rate=0.300000012,\n",
       "             max_delta_step=0, max_depth=6, min_child_weight=1, missing=nan,\n",
       "             monotone_constraints='()', n_estimators=10, n_jobs=4,\n",
       "             num_parallel_tree=1, objective='reg:linear', predictor='auto',\n",
       "             random_state=123, reg_alpha=0, reg_lambda=1, scale_pos_weight=1,\n",
       "             seed=123, subsample=1, tree_method='exact', validate_parameters=1,\n",
       "             verbosity=None)"
      ]
     },
     "execution_count": 44,
     "metadata": {},
     "output_type": "execute_result"
    }
   ],
   "source": [
    "%%time\n",
    "\n",
    "xgb = xg.XGBRegressor(objective ='reg:linear',n_estimators = 10, seed = 123)\n",
    "xgb.fit(feature_train_ohe, target_train_ohe)"
   ]
  },
  {
   "cell_type": "code",
   "execution_count": 45,
   "metadata": {},
   "outputs": [
    {
     "name": "stdout",
     "output_type": "stream",
     "text": [
      "CPU times: user 425 ms, sys: 6.83 ms, total: 432 ms\n",
      "Wall time: 403 ms\n"
     ]
    }
   ],
   "source": [
    "%%time\n",
    "\n",
    "pred_train_xgb = xgb.predict(feature_train_ohe)\n",
    "pred_valid_xgb = xgb.predict(feature_valid_ohe)\n",
    "pred_test_xgb = xgb.predict(feature_test_ohe)"
   ]
  },
  {
   "cell_type": "code",
   "execution_count": 46,
   "metadata": {
    "scrolled": true
   },
   "outputs": [
    {
     "name": "stdout",
     "output_type": "stream",
     "text": [
      "Train RMSE: 1588.6822051701295\n",
      "Valid RMSE: 1616.031999927879\n",
      "Test RMSE:  1593.5138141177044\n"
     ]
    }
   ],
   "source": [
    "print(\"Train RMSE:\", rmse(target_train_ohe, pred_train_xgb))\n",
    "print(\"Valid RMSE:\", rmse(target_valid_ohe, pred_valid_xgb))\n",
    "print(\"Test RMSE: \", rmse(target_test_ohe, pred_test_xgb))"
   ]
  },
  {
   "cell_type": "markdown",
   "metadata": {},
   "source": [
    "Resume:\n",
    "1. Training time: 6.11 s\n",
    "2. Prediction time: 463 ms"
   ]
  },
  {
   "cell_type": "markdown",
   "metadata": {},
   "source": [
    "<div class=\"alert alert-success\">\n",
    "<b>Chamdani's comment v.1</b> <a class=\"tocSkip\"></a>\n",
    "\n",
    "Hebat, Kerja bagus!\n",
    "\n",
    "</div>"
   ]
  },
  {
   "cell_type": "markdown",
   "metadata": {},
   "source": [
    "### Model Random Forest"
   ]
  },
  {
   "cell_type": "markdown",
   "metadata": {},
   "source": [
    "Kita cek model RandomForest tanpa tuning hyperparameter. Apakah model ini bisa memberikan  hasil yang lebih baik dari model linear regression?."
   ]
  },
  {
   "cell_type": "code",
   "execution_count": 47,
   "metadata": {},
   "outputs": [
    {
     "name": "stdout",
     "output_type": "stream",
     "text": [
      "Train RMSE: 843.32318270287\n",
      "Valid RMSE: 1410.935766698891\n",
      "CPU times: user 1min 16s, sys: 430 ms, total: 1min 17s\n",
      "Wall time: 1min 24s\n"
     ]
    }
   ],
   "source": [
    "%%time\n",
    "rf = RandomForestRegressor()\n",
    "rf.fit(feature_train_oe, target_train_oe)\n",
    "\n",
    "pred_train = rf.predict(feature_train_oe)\n",
    "pred_valid = rf.predict(feature_valid_oe)\n",
    "\n",
    "print(\"Train RMSE:\", rmse(target_train_oe, pred_train))\n",
    "print(\"Valid RMSE:\", rmse(target_valid_oe, pred_valid)) "
   ]
  },
  {
   "cell_type": "markdown",
   "metadata": {},
   "source": [
    "Selanjutnya kita akan mencoba tuning hyperparameter dengan menggunakan for-loops. Apakah kita akan mendapatkan hyperparameter yang lebih optimal ketimbang parameter defaultnya."
   ]
  },
  {
   "cell_type": "code",
   "execution_count": 48,
   "metadata": {},
   "outputs": [
    {
     "name": "stdout",
     "output_type": "stream",
     "text": [
      "Depth: 3\n",
      "Estimator: 50\n",
      "Train RMSE: 2488.7107606379313\n",
      "Valid RMSE: 2502.464335996797\n",
      "The time of execution of above program is : 7138.522386550903 ms\n",
      "Depth: 3\n",
      "Estimator: 100\n",
      "Train RMSE: 2479.737434992402\n",
      "Valid RMSE: 2493.669721313729\n",
      "The time of execution of above program is : 13812.371253967285 ms\n",
      "Depth: 3\n",
      "Estimator: 150\n",
      "Train RMSE: 2489.7486666015147\n",
      "Valid RMSE: 2503.317846280008\n",
      "The time of execution of above program is : 21499.33123588562 ms\n",
      "Depth: 3\n",
      "Estimator: 200\n",
      "Train RMSE: 2482.091141469097\n",
      "Valid RMSE: 2495.855675435871\n",
      "The time of execution of above program is : 29923.79665374756 ms\n",
      "Depth: 3\n",
      "Estimator: 250\n",
      "Train RMSE: 2480.8561535126264\n",
      "Valid RMSE: 2494.662007162676\n",
      "The time of execution of above program is : 35097.288370132446 ms\n",
      "Depth: 9\n",
      "Estimator: 50\n",
      "Train RMSE: 1663.2749766508964\n",
      "Valid RMSE: 1710.09151049058\n",
      "The time of execution of above program is : 17792.64497756958 ms\n",
      "Depth: 9\n",
      "Estimator: 100\n",
      "Train RMSE: 1666.3489938942548\n",
      "Valid RMSE: 1711.6322412599873\n",
      "The time of execution of above program is : 36557.94906616211 ms\n",
      "Depth: 9\n",
      "Estimator: 150\n",
      "Train RMSE: 1665.9666036255965\n",
      "Valid RMSE: 1711.6680518028384\n",
      "The time of execution of above program is : 53161.55481338501 ms\n",
      "Depth: 9\n",
      "Estimator: 200\n",
      "Train RMSE: 1663.9758543143682\n",
      "Valid RMSE: 1709.5223225362213\n",
      "The time of execution of above program is : 74897.28879928589 ms\n",
      "Depth: 9\n",
      "Estimator: 250\n",
      "Train RMSE: 1663.2543444065527\n",
      "Valid RMSE: 1708.7536815940978\n",
      "The time of execution of above program is : 89735.25953292847 ms\n",
      "Depth: 15\n",
      "Estimator: 50\n",
      "Train RMSE: 1155.4406199577866\n",
      "Valid RMSE: 1442.1113853057966\n",
      "The time of execution of above program is : 27554.736375808716 ms\n",
      "Depth: 15\n",
      "Estimator: 100\n",
      "Train RMSE: 1155.4605616455424\n",
      "Valid RMSE: 1437.5189355055252\n",
      "The time of execution of above program is : 53314.15128707886 ms\n",
      "Depth: 15\n",
      "Estimator: 150\n",
      "Train RMSE: 1155.4247231936286\n",
      "Valid RMSE: 1437.7189080553921\n",
      "The time of execution of above program is : 88341.88508987427 ms\n",
      "Depth: 15\n",
      "Estimator: 200\n",
      "Train RMSE: 1154.917426105344\n",
      "Valid RMSE: 1436.242323778183\n",
      "The time of execution of above program is : 107953.70674133301 ms\n",
      "Depth: 15\n",
      "Estimator: 250\n",
      "Train RMSE: 1153.5653872369717\n",
      "Valid RMSE: 1436.3287132784683\n",
      "The time of execution of above program is : 134221.00806236267 ms\n",
      "Depth: 20\n",
      "Estimator: 50\n",
      "Train RMSE: 907.3740897723475\n",
      "Valid RMSE: 1403.327303850656\n",
      "The time of execution of above program is : 33863.834619522095 ms\n",
      "Depth: 20\n",
      "Estimator: 100\n",
      "Train RMSE: 902.7041460590082\n",
      "Valid RMSE: 1398.9737427230043\n",
      "The time of execution of above program is : 66930.7050704956 ms\n",
      "Depth: 20\n",
      "Estimator: 150\n",
      "Train RMSE: 901.5918334223355\n",
      "Valid RMSE: 1398.4099698268085\n",
      "The time of execution of above program is : 106762.86840438843 ms\n",
      "Depth: 20\n",
      "Estimator: 200\n",
      "Train RMSE: 900.8057198530269\n",
      "Valid RMSE: 1396.5474199550724\n",
      "The time of execution of above program is : 136412.1925830841 ms\n",
      "Depth: 20\n",
      "Estimator: 250\n",
      "Train RMSE: 900.6816554641628\n",
      "Valid RMSE: 1396.294614355143\n",
      "The time of execution of above program is : 167586.96794509888 ms\n"
     ]
    }
   ],
   "source": [
    "for i in [3, 9, 15, 20]:\n",
    "    for n in [50, 100, 150, 200, 250]:\n",
    "        start = time.time()\n",
    "        rf = RandomForestRegressor(max_depth=i, n_estimators=n)\n",
    "        rf.fit(feature_train_oe, target_train_oe)\n",
    "\n",
    "        pred_train = rf.predict(feature_train_oe)\n",
    "        pred_valid = rf.predict(feature_valid_oe)\n",
    "        \n",
    "        end = time.time()\n",
    "        \n",
    "        print(\"Depth:\", i)\n",
    "        print(\"Estimator:\", n)\n",
    "        print(\"Train RMSE:\", rmse(target_train_oe, pred_train))\n",
    "        print(\"Valid RMSE:\", rmse(target_valid_oe, pred_valid))  \n",
    "        \n",
    "        print(\"The time of execution of above program is :\",\n",
    "          (end-start) * 10**3, \"ms\")"
   ]
  },
  {
   "cell_type": "markdown",
   "metadata": {},
   "source": [
    "Berdasarkan hasil tuning di atas, didapatkan model yang optimal namun tidak memakan waktu banyak yaitu ketika nilai max_depth = 20 dengan n_estimators sebanyak 50. Dengan total waktu dibutuhkan yaitu 35 detik."
   ]
  },
  {
   "cell_type": "code",
   "execution_count": 49,
   "metadata": {},
   "outputs": [
    {
     "name": "stdout",
     "output_type": "stream",
     "text": [
      "CPU times: user 28.7 s, sys: 60 ms, total: 28.8 s\n",
      "Wall time: 29 s\n"
     ]
    },
    {
     "data": {
      "text/plain": [
       "RandomForestRegressor(max_depth=20, n_estimators=50)"
      ]
     },
     "execution_count": 49,
     "metadata": {},
     "output_type": "execute_result"
    }
   ],
   "source": [
    "%%time\n",
    "\n",
    "rf = RandomForestRegressor(n_estimators = 50, max_depth = 20)\n",
    "rf.fit(feature_train_oe, target_train_oe)"
   ]
  },
  {
   "cell_type": "code",
   "execution_count": 50,
   "metadata": {},
   "outputs": [
    {
     "name": "stdout",
     "output_type": "stream",
     "text": [
      "CPU times: user 4.56 s, sys: 2 µs, total: 4.56 s\n",
      "Wall time: 4.58 s\n"
     ]
    }
   ],
   "source": [
    "%%time\n",
    "\n",
    "pred_train = rf.predict(feature_train_oe)\n",
    "pred_valid = rf.predict(feature_valid_oe)\n",
    "pred_test = rf.predict(feature_test_oe)"
   ]
  },
  {
   "cell_type": "code",
   "execution_count": 51,
   "metadata": {},
   "outputs": [
    {
     "name": "stdout",
     "output_type": "stream",
     "text": [
      "Train RMSE: 908.2214289231302\n",
      "Valid RMSE: 1403.0103355676374\n",
      "Test RMSE:  1402.2008410388178\n"
     ]
    }
   ],
   "source": [
    "print(\"Train RMSE:\", rmse(target_train_oe, pred_train))\n",
    "print(\"Valid RMSE:\", rmse(target_valid_oe, pred_valid))\n",
    "print(\"Test RMSE: \", rmse(target_test_oe, pred_test))"
   ]
  },
  {
   "cell_type": "markdown",
   "metadata": {},
   "source": [
    "Resume:\n",
    "1. Training time: 30.6 s\n",
    "2. Prediction time: 4.76 s"
   ]
  },
  {
   "cell_type": "markdown",
   "metadata": {},
   "source": [
    "<div class=\"alert alert-success\">\n",
    "<b>Chamdani's comment v.1</b> <a class=\"tocSkip\"></a>\n",
    "\n",
    "Hebat, Kerja bagus!\n",
    "\n",
    "</div>"
   ]
  },
  {
   "cell_type": "markdown",
   "metadata": {},
   "source": [
    "### Model CatBoost"
   ]
  },
  {
   "cell_type": "code",
   "execution_count": 52,
   "metadata": {},
   "outputs": [],
   "source": [
    "cat_features = ['VehicleType','Gearbox','Model','FuelType','Brand','NotRepaired']"
   ]
  },
  {
   "cell_type": "code",
   "execution_count": 53,
   "metadata": {},
   "outputs": [],
   "source": [
    "feature_train_ori[cat_features] = feature_train_ori[cat_features].astype('category')\n",
    "feature_valid_ori[cat_features] = feature_valid_ori[cat_features].astype('category')\n",
    "feature_test_ori[cat_features] = feature_test_ori[cat_features].astype('category')"
   ]
  },
  {
   "cell_type": "code",
   "execution_count": null,
   "metadata": {},
   "outputs": [
    {
     "name": "stdout",
     "output_type": "stream",
     "text": [
      "Estimators: 100\n",
      "Train RMSE: 1427.9458687903684\n",
      "Valid RMSE: 1464.6897331164582\n",
      "The time of execution of above program is : 18148.396253585815 ms\n",
      "Estimators: 250\n",
      "Train RMSE: 1379.1274299933082\n",
      "Valid RMSE: 1422.7421324186778\n",
      "The time of execution of above program is : 109921.02003097534 ms\n",
      "Estimators: 500\n",
      "Train RMSE: 1366.0394771613512\n",
      "Valid RMSE: 1413.323626787794\n",
      "The time of execution of above program is : 211337.9306793213 ms\n"
     ]
    }
   ],
   "source": [
    "for i in [100, 250, 500, 750, 1000]:\n",
    "    start = time.time()\n",
    "    cb = CatBoostRegressor(n_estimators=i, random_state=1, verbose=False)\n",
    "    cb.fit(feature_train_ori, target_train_ori, cat_features=cat_features)\n",
    "    pred_train = cb.predict(feature_train_ori)\n",
    "    pred_valid = cb.predict(feature_valid_ori)\n",
    "    print(\"Estimators:\", i)\n",
    "    print(\"Train RMSE:\", rmse(target_train_ori, pred_train))\n",
    "    print(\"Valid RMSE:\", rmse(target_valid_ori, pred_valid)) \n",
    "    \n",
    "    end = time.time()\n",
    "    print(\"The time of execution of above program is :\",\n",
    "      (end-start) * 10**3, \"ms\")"
   ]
  },
  {
   "cell_type": "markdown",
   "metadata": {},
   "source": [
    "Sepertinya meningkatkan n_estimator tidak berpengaruh secara signifikan. Oleh karena itu digunakan n_estimators sebesar 100 karena jika estimators semakin banyak waktu training semakin lama namun peningkatan performanya tidak terlalu berart. Selanjutnya kita akant trial max_depth dan learning_rate."
   ]
  },
  {
   "cell_type": "code",
   "execution_count": null,
   "metadata": {},
   "outputs": [],
   "source": [
    "for i in [.03, .1, .25]:\n",
    "    for j in [4, 7, 9]:\n",
    "        start = time.time()\n",
    "        cb = CatBoostRegressor(n_estimators = 100, max_depth = j, learning_rate = i, random_state=1, verbose=False)\n",
    "        cb.fit(feature_train_ori, target_train_ori, cat_features=cat_features)\n",
    "        pred_train = cb.predict(feature_train_ori)\n",
    "        pred_valid = cb.predict(feature_valid_ori)\n",
    "        print(\"max_depth: \", j)\n",
    "        print(\"learning rate: \", i)\n",
    "        print(\"Train RMSE:\", rmse(target_train_ori, pred_train))\n",
    "        print(\"Valid RMSE:\", rmse(target_valid_ori, pred_valid)) \n",
    "    \n",
    "        end = time.time()\n",
    "        print(\"The time of execution of above program is :\",\n",
    "          (end-start) * 10**3, \"ms\")"
   ]
  },
  {
   "cell_type": "markdown",
   "metadata": {},
   "source": [
    "learning_rate = 0.25 dan max_depth = 0.9 memberikan hasil yang paling baik.\n",
    "\n",
    "Pada iterasi sebelumnya n_estimators paling optimal yaitu saat bernilai 500. Sekarang kita coba model dengan n_estimators = 500, learning_rate = 0.25 dan max_depth = 9."
   ]
  },
  {
   "cell_type": "code",
   "execution_count": null,
   "metadata": {},
   "outputs": [],
   "source": [
    "%%time\n",
    "cb = CatBoostRegressor(n_estimators = 500, max_depth = 9, learning_rate = .25, random_state=1, verbose=False)\n",
    "cb.fit(feature_train_ori, target_train_ori, cat_features=cat_features)\n"
   ]
  },
  {
   "cell_type": "code",
   "execution_count": null,
   "metadata": {},
   "outputs": [],
   "source": [
    "%%time\n",
    "pred_train = cb.predict(feature_train_ori)\n",
    "pred_valid = cb.predict(feature_valid_ori)\n",
    "pred_test = cb.predict(feature_test_ori)"
   ]
  },
  {
   "cell_type": "code",
   "execution_count": null,
   "metadata": {},
   "outputs": [],
   "source": [
    "print(\"Train RMSE:\", rmse(target_train_ori, pred_train))\n",
    "print(\"Valid RMSE:\", rmse(target_valid_ori, pred_valid)) \n",
    "print(\"Test RMSE:\", rmse(target_test_ori, pred_test)) "
   ]
  },
  {
   "cell_type": "markdown",
   "metadata": {},
   "source": [
    "Terjadi peningkatan performa yang cukup signifikan setelah mengubah estimators menjadi 500, max_depth menjadi 9 dan learning rate 0.25."
   ]
  },
  {
   "cell_type": "markdown",
   "metadata": {},
   "source": [
    "Resume:\n",
    "1. Trainign time: 5 min 47 s\n",
    "2. Prediction time: 4.26 s"
   ]
  },
  {
   "cell_type": "markdown",
   "metadata": {},
   "source": [
    "<div class=\"alert alert-success\">\n",
    "<b>Chamdani's comment v.1</b> <a class=\"tocSkip\"></a>\n",
    "\n",
    "Hebat, Kerja bagus!\n",
    "\n",
    "</div>"
   ]
  },
  {
   "cell_type": "markdown",
   "metadata": {},
   "source": [
    "### Model LightGBM"
   ]
  },
  {
   "cell_type": "markdown",
   "metadata": {},
   "source": [
    "Kita akan mencari nilai n_estimators yang optimal dengan for-loops."
   ]
  },
  {
   "cell_type": "code",
   "execution_count": null,
   "metadata": {},
   "outputs": [],
   "source": [
    "for i in [500,250,100,750, 1000]:\n",
    "    start = time.time()\n",
    "    lg = lgb.LGBMRegressor(n_estimators=i, random_state=1)\n",
    "    lg.fit(feature_train_ori, target_train_ori, categorical_feature = cat_features)\n",
    "    pred_train = lg.predict(feature_train_ori)\n",
    "    pred_valid = lg.predict(feature_valid_ori)\n",
    "    print(\"Estimators:\", i)\n",
    "    end = time.time()\n",
    "    print(\"Train RMSE:\", rmse(target_train_ori, pred_train))\n",
    "    print(\"Valid RMSE:\", rmse(target_valid_ori, pred_valid)) \n",
    "    \n",
    "    print(\"The time of execution of above program is :\",\n",
    "          (end-start) * 10**3, \"ms\")"
   ]
  },
  {
   "cell_type": "markdown",
   "metadata": {},
   "source": [
    "n_estimators optimal yaitu 500. selanjutnya kita akan trial max_depth dan learning rate."
   ]
  },
  {
   "cell_type": "code",
   "execution_count": null,
   "metadata": {},
   "outputs": [],
   "source": [
    "for i in [.03, .15, .3]:\n",
    "    for j in [5, 10, 15]:\n",
    "        start = time.time()\n",
    "        lg = lgb.LGBMRegressor(n_estimators=500, max_depth = j, learning_rate = i,random_state=1)\n",
    "        lg.fit(feature_train_ori, target_train_ori, categorical_feature = cat_features)\n",
    "        pred_train = lg.predict(feature_train_ori)\n",
    "        pred_valid = lg.predict(feature_valid_ori)\n",
    "        print(\"Depth:\", j)\n",
    "        print(\"Learning rate:\", i)\n",
    "        end = time.time()\n",
    "        print(\"Train RMSE:\", rmse(target_train_ori, pred_train))\n",
    "        print(\"Valid RMSE:\", rmse(target_valid_ori, pred_valid)) \n",
    "    \n",
    "        print(\"The time of execution of above program is :\",\n",
    "              (end-start) * 10**3, \"ms\")"
   ]
  },
  {
   "cell_type": "markdown",
   "metadata": {},
   "source": [
    "Ternyata nilai max_depth dan learning rate default masih lebih baik ketimbang ketika di tuning. Model yang akan digunakan yaitu model dengan estimators 500 sisanya dibiarkan default."
   ]
  },
  {
   "cell_type": "code",
   "execution_count": null,
   "metadata": {},
   "outputs": [],
   "source": [
    "%%time\n",
    "\n",
    "lg = lgb.LGBMRegressor(n_estimators=500, random_state=1)\n",
    "lg.fit(feature_train_ori, target_train_ori, categorical_feature = cat_features)"
   ]
  },
  {
   "cell_type": "code",
   "execution_count": null,
   "metadata": {},
   "outputs": [],
   "source": [
    "%%time\n",
    "\n",
    "pred_train = lg.predict(feature_train_ori)\n",
    "pred_valid = lg.predict(feature_valid_ori)\n",
    "pred_test = lg.predict(feature_test_ori)"
   ]
  },
  {
   "cell_type": "code",
   "execution_count": null,
   "metadata": {},
   "outputs": [],
   "source": [
    "print(\"Train RMSE:\", rmse(target_train_ori, pred_train))\n",
    "print(\"Valid RMSE:\", rmse(target_valid_ori, pred_valid))\n",
    "print(\"Test RMSE: \", rmse(target_test_ori, pred_test))"
   ]
  },
  {
   "cell_type": "markdown",
   "metadata": {},
   "source": [
    "Resume:\n",
    "1. Training time: 10.6 s\n",
    "2. Prediction time: 14.6 s"
   ]
  },
  {
   "cell_type": "markdown",
   "metadata": {},
   "source": [
    "<div class=\"alert alert-success\">\n",
    "<b>Chamdani's comment v.1</b> <a class=\"tocSkip\"></a>\n",
    "\n",
    "Hebat, Kerja bagus!\n",
    "\n",
    "</div>"
   ]
  },
  {
   "cell_type": "markdown",
   "metadata": {},
   "source": [
    "## Analisis Model"
   ]
  },
  {
   "cell_type": "markdown",
   "metadata": {},
   "source": [
    "Berikut adalah tabel hasil pengujian terhadap 5 model berbeda."
   ]
  },
  {
   "cell_type": "markdown",
   "metadata": {},
   "source": [
    "|Model Name|Training Time|Prediction Time|Train RMSE|Valid RMSE|Test RMSE|Data|\n",
    "|-|-|-|-|-|-|-|\n",
    "|Linear Regression|348 ms|103 ms|2364|2368|2351|OHE|\n",
    "|XGBoost|6.11 s|463 ms|1588|1616|1593|OHE|\n",
    "|Random Forest|30.6 s|4.76 s|907|1403|1402|OrdinalEncoder|\n",
    "|CatBoost|5 min 47 s|4.26 s|1230|1368|1360|Original|\n",
    "|LightGBM|10.6 s|14.6 s|1259|1365|1358|Original|"
   ]
  },
  {
   "cell_type": "markdown",
   "metadata": {},
   "source": [
    "Berdasarkan hasil pengujian, berikut simpulan yang diperoleh:\n",
    "1. Model dengan performa terbaik yaitu LightGBM karena mampu mendapatkan RMSE paling tinggi dengan durasi training dan predict yang cepat.\n",
    "2. Model Linear Regression merupakan model dengan durasi palatihan dan predict paling cepat (<1 s) namun akurasinya tidak terlalu baik yang ditandai dengan RMSE yang tinggi.\n",
    "3. Model XGBoost merupakan model dengan durasi training yang cepat dengan peningkatan akurasi yang signifikan dibandingkan dengan Linear Regression.\n",
    "4. CatBoost dan LightGBM mampu mengolah data kategorik tanpa perlu proses encoding. Serta menghasilkan RMSE yang baik. Oleh karena itu model ini cocok untuk data dengan feature kategorik yang banyak dan kompleks.\n",
    "5. Model Linear Regression, XGBoost, dan Random Forest memerlukan proses encoding untuk dapat mengolah data kategorik. Kualitas model ini bisa jadi lebih baik apabila memproses data dengan fitur kategorik yang sederhana.\n",
    "6. XGBoost dapat menjadi solusi apabila kita membutuhkan model dengan tingkat efisiensi yang tinggi dengan durasi pelatihan dan training yang cepat namun tetap dapat menjaga akurasi. Meskipun Random Forest memiliki akurasi yang lebih tinggi namun membutuhkan waktu hingga 5x lebih lama.\n",
    "7. Seluruh model lebih baik dari model Dummy."
   ]
  },
  {
   "cell_type": "markdown",
   "metadata": {},
   "source": [
    "<div class=\"alert alert-success\">\n",
    "<b>Chamdani's comment v.1</b> <a class=\"tocSkip\"></a>\n",
    "\n",
    "Hebat, Kerja bagus!\n",
    "\n",
    "</div>"
   ]
  },
  {
   "cell_type": "markdown",
   "metadata": {},
   "source": [
    "# Daftar Periksa"
   ]
  },
  {
   "cell_type": "markdown",
   "metadata": {},
   "source": [
    "Ketik 'x' untuk menandakannya sebagai selesai. Lalu, tekan tombol Shift+Enter"
   ]
  },
  {
   "cell_type": "markdown",
   "metadata": {},
   "source": [
    "- [x]  Jupyter Notebook bisa dibuka\n",
    "- [x]  Tidak ada kesalahan pada kode\n",
    "- [x]  Sel-sel dengan kode telah disusun berdasarkan urutan eksekusi\n",
    "- [x]  Data telah diunduh dan disiapkan- [ ]  Model sudah dilatih\n",
    "- [x]  Analisis terhadap kecepatan dan kualitas model telah dilakukan"
   ]
  }
 ],
 "metadata": {
  "kernelspec": {
   "display_name": "Python 3 (ipykernel)",
   "language": "python",
   "name": "python3"
  },
  "language_info": {
   "codemirror_mode": {
    "name": "ipython",
    "version": 3
   },
   "file_extension": ".py",
   "mimetype": "text/x-python",
   "name": "python",
   "nbconvert_exporter": "python",
   "pygments_lexer": "ipython3",
   "version": "3.9.5"
  },
  "toc": {
   "base_numbering": 1,
   "nav_menu": {},
   "number_sections": true,
   "sideBar": true,
   "skip_h1_title": true,
   "title_cell": "Table of Contents",
   "title_sidebar": "Contents",
   "toc_cell": false,
   "toc_position": {},
   "toc_section_display": true,
   "toc_window_display": true
  }
 },
 "nbformat": 4,
 "nbformat_minor": 2
}
